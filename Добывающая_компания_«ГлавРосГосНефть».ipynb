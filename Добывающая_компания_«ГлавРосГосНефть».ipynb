{
  "cells": [
    {
      "cell_type": "markdown",
      "metadata": {
        "id": "uXBTB04G8l2d"
      },
      "source": [
        "# Выбор локации для скважины"
      ]
    },
    {
      "cell_type": "markdown",
      "metadata": {
        "id": "wNsZO37s8l2e"
      },
      "source": [
        "Допустим, вы работаете в добывающей компании «ГлавРосГосНефть». Нужно решить, где бурить новую скважину.\n",
        "\n",
        "Вам предоставлены пробы нефти в трёх регионах: в каждом 10 000 месторождений, где измерили качество нефти и объём её запасов. Постройте модель машинного обучения, которая поможет определить регион, где добыча принесёт наибольшую прибыль. Проанализируйте возможную прибыль и риски техникой *Bootstrap.*\n",
        "\n",
        "Шаги для выбора локации:\n",
        "\n",
        "- В избранном регионе ищут месторождения, для каждого определяют значения признаков;\n",
        "- Строят модель и оценивают объём запасов;\n",
        "- Выбирают месторождения с самым высокими оценками значений. Количество месторождений зависит от бюджета компании и стоимости разработки одной скважины;\n",
        "- Прибыль равна суммарной прибыли отобранных месторождений."
      ]
    },
    {
      "cell_type": "markdown",
      "metadata": {
        "id": "Z-NB5xyC8l2f"
      },
      "source": [
        "## Загрузка и подготовка данных"
      ]
    },
    {
      "cell_type": "code",
      "execution_count": null,
      "metadata": {
        "scrolled": true,
        "id": "FGpCXuAQ8l2g"
      },
      "outputs": [],
      "source": [
        "import pandas as pd\n",
        "import numpy as np\n",
        "from sklearn.linear_model import LinearRegression\n",
        "import matplotlib.pyplot as plt\n",
        "from sklearn.model_selection import train_test_split\n",
        "from sklearn.metrics import mean_squared_error\n",
        "import seaborn as sns\n",
        "from numpy.random import RandomState\n",
        "from scipy import stats as st\n",
        "from sklearn.preprocessing import StandardScaler\n",
        "\n",
        "oil_1 = pd.read_csv(\"/datasets/geo_data_0.csv\")\n",
        "oil_2 = pd.read_csv(\"/datasets/geo_data_1.csv\")\n",
        "oil_3 = pd.read_csv(\"/datasets/geo_data_2.csv\")"
      ]
    },
    {
      "cell_type": "markdown",
      "metadata": {
        "id": "YJCaxwsK8l2j"
      },
      "source": [
        "Для начала импортируем необходимые нам библиотекм. Из условия задачи мы видим, что нам понадобятся Линейная Регрессия, MSE, рассчет доверительного интервала. Также загрузим данные по регионам, и выведем первые пять строк."
      ]
    },
    {
      "cell_type": "code",
      "execution_count": null,
      "metadata": {
        "scrolled": false,
        "id": "2WcNxRqQ8l2k",
        "outputId": "c40fd6e8-43fc-4a0d-ee85-91dfbaf6e8ff"
      },
      "outputs": [
        {
          "data": {
            "text/html": [
              "<div>\n",
              "<style scoped>\n",
              "    .dataframe tbody tr th:only-of-type {\n",
              "        vertical-align: middle;\n",
              "    }\n",
              "\n",
              "    .dataframe tbody tr th {\n",
              "        vertical-align: top;\n",
              "    }\n",
              "\n",
              "    .dataframe thead th {\n",
              "        text-align: right;\n",
              "    }\n",
              "</style>\n",
              "<table border=\"1\" class=\"dataframe\">\n",
              "  <thead>\n",
              "    <tr style=\"text-align: right;\">\n",
              "      <th></th>\n",
              "      <th>id</th>\n",
              "      <th>f0</th>\n",
              "      <th>f1</th>\n",
              "      <th>f2</th>\n",
              "      <th>product</th>\n",
              "    </tr>\n",
              "  </thead>\n",
              "  <tbody>\n",
              "    <tr>\n",
              "      <td>0</td>\n",
              "      <td>txEyH</td>\n",
              "      <td>0.705745</td>\n",
              "      <td>-0.497823</td>\n",
              "      <td>1.221170</td>\n",
              "      <td>105.280062</td>\n",
              "    </tr>\n",
              "    <tr>\n",
              "      <td>1</td>\n",
              "      <td>2acmU</td>\n",
              "      <td>1.334711</td>\n",
              "      <td>-0.340164</td>\n",
              "      <td>4.365080</td>\n",
              "      <td>73.037750</td>\n",
              "    </tr>\n",
              "    <tr>\n",
              "      <td>2</td>\n",
              "      <td>409Wp</td>\n",
              "      <td>1.022732</td>\n",
              "      <td>0.151990</td>\n",
              "      <td>1.419926</td>\n",
              "      <td>85.265647</td>\n",
              "    </tr>\n",
              "    <tr>\n",
              "      <td>3</td>\n",
              "      <td>iJLyR</td>\n",
              "      <td>-0.032172</td>\n",
              "      <td>0.139033</td>\n",
              "      <td>2.978566</td>\n",
              "      <td>168.620776</td>\n",
              "    </tr>\n",
              "    <tr>\n",
              "      <td>4</td>\n",
              "      <td>Xdl7t</td>\n",
              "      <td>1.988431</td>\n",
              "      <td>0.155413</td>\n",
              "      <td>4.751769</td>\n",
              "      <td>154.036647</td>\n",
              "    </tr>\n",
              "  </tbody>\n",
              "</table>\n",
              "</div>"
            ],
            "text/plain": [
              "      id        f0        f1        f2     product\n",
              "0  txEyH  0.705745 -0.497823  1.221170  105.280062\n",
              "1  2acmU  1.334711 -0.340164  4.365080   73.037750\n",
              "2  409Wp  1.022732  0.151990  1.419926   85.265647\n",
              "3  iJLyR -0.032172  0.139033  2.978566  168.620776\n",
              "4  Xdl7t  1.988431  0.155413  4.751769  154.036647"
            ]
          },
          "metadata": {},
          "output_type": "display_data"
        },
        {
          "data": {
            "text/html": [
              "<div>\n",
              "<style scoped>\n",
              "    .dataframe tbody tr th:only-of-type {\n",
              "        vertical-align: middle;\n",
              "    }\n",
              "\n",
              "    .dataframe tbody tr th {\n",
              "        vertical-align: top;\n",
              "    }\n",
              "\n",
              "    .dataframe thead th {\n",
              "        text-align: right;\n",
              "    }\n",
              "</style>\n",
              "<table border=\"1\" class=\"dataframe\">\n",
              "  <thead>\n",
              "    <tr style=\"text-align: right;\">\n",
              "      <th></th>\n",
              "      <th>id</th>\n",
              "      <th>f0</th>\n",
              "      <th>f1</th>\n",
              "      <th>f2</th>\n",
              "      <th>product</th>\n",
              "    </tr>\n",
              "  </thead>\n",
              "  <tbody>\n",
              "    <tr>\n",
              "      <td>0</td>\n",
              "      <td>kBEdx</td>\n",
              "      <td>-15.001348</td>\n",
              "      <td>-8.276000</td>\n",
              "      <td>-0.005876</td>\n",
              "      <td>3.179103</td>\n",
              "    </tr>\n",
              "    <tr>\n",
              "      <td>1</td>\n",
              "      <td>62mP7</td>\n",
              "      <td>14.272088</td>\n",
              "      <td>-3.475083</td>\n",
              "      <td>0.999183</td>\n",
              "      <td>26.953261</td>\n",
              "    </tr>\n",
              "    <tr>\n",
              "      <td>2</td>\n",
              "      <td>vyE1P</td>\n",
              "      <td>6.263187</td>\n",
              "      <td>-5.948386</td>\n",
              "      <td>5.001160</td>\n",
              "      <td>134.766305</td>\n",
              "    </tr>\n",
              "    <tr>\n",
              "      <td>3</td>\n",
              "      <td>KcrkZ</td>\n",
              "      <td>-13.081196</td>\n",
              "      <td>-11.506057</td>\n",
              "      <td>4.999415</td>\n",
              "      <td>137.945408</td>\n",
              "    </tr>\n",
              "    <tr>\n",
              "      <td>4</td>\n",
              "      <td>AHL4O</td>\n",
              "      <td>12.702195</td>\n",
              "      <td>-8.147433</td>\n",
              "      <td>5.004363</td>\n",
              "      <td>134.766305</td>\n",
              "    </tr>\n",
              "  </tbody>\n",
              "</table>\n",
              "</div>"
            ],
            "text/plain": [
              "      id         f0         f1        f2     product\n",
              "0  kBEdx -15.001348  -8.276000 -0.005876    3.179103\n",
              "1  62mP7  14.272088  -3.475083  0.999183   26.953261\n",
              "2  vyE1P   6.263187  -5.948386  5.001160  134.766305\n",
              "3  KcrkZ -13.081196 -11.506057  4.999415  137.945408\n",
              "4  AHL4O  12.702195  -8.147433  5.004363  134.766305"
            ]
          },
          "metadata": {},
          "output_type": "display_data"
        },
        {
          "data": {
            "text/html": [
              "<div>\n",
              "<style scoped>\n",
              "    .dataframe tbody tr th:only-of-type {\n",
              "        vertical-align: middle;\n",
              "    }\n",
              "\n",
              "    .dataframe tbody tr th {\n",
              "        vertical-align: top;\n",
              "    }\n",
              "\n",
              "    .dataframe thead th {\n",
              "        text-align: right;\n",
              "    }\n",
              "</style>\n",
              "<table border=\"1\" class=\"dataframe\">\n",
              "  <thead>\n",
              "    <tr style=\"text-align: right;\">\n",
              "      <th></th>\n",
              "      <th>id</th>\n",
              "      <th>f0</th>\n",
              "      <th>f1</th>\n",
              "      <th>f2</th>\n",
              "      <th>product</th>\n",
              "    </tr>\n",
              "  </thead>\n",
              "  <tbody>\n",
              "    <tr>\n",
              "      <td>0</td>\n",
              "      <td>fwXo0</td>\n",
              "      <td>-1.146987</td>\n",
              "      <td>0.963328</td>\n",
              "      <td>-0.828965</td>\n",
              "      <td>27.758673</td>\n",
              "    </tr>\n",
              "    <tr>\n",
              "      <td>1</td>\n",
              "      <td>WJtFt</td>\n",
              "      <td>0.262778</td>\n",
              "      <td>0.269839</td>\n",
              "      <td>-2.530187</td>\n",
              "      <td>56.069697</td>\n",
              "    </tr>\n",
              "    <tr>\n",
              "      <td>2</td>\n",
              "      <td>ovLUW</td>\n",
              "      <td>0.194587</td>\n",
              "      <td>0.289035</td>\n",
              "      <td>-5.586433</td>\n",
              "      <td>62.871910</td>\n",
              "    </tr>\n",
              "    <tr>\n",
              "      <td>3</td>\n",
              "      <td>q6cA6</td>\n",
              "      <td>2.236060</td>\n",
              "      <td>-0.553760</td>\n",
              "      <td>0.930038</td>\n",
              "      <td>114.572842</td>\n",
              "    </tr>\n",
              "    <tr>\n",
              "      <td>4</td>\n",
              "      <td>WPMUX</td>\n",
              "      <td>-0.515993</td>\n",
              "      <td>1.716266</td>\n",
              "      <td>5.899011</td>\n",
              "      <td>149.600746</td>\n",
              "    </tr>\n",
              "  </tbody>\n",
              "</table>\n",
              "</div>"
            ],
            "text/plain": [
              "      id        f0        f1        f2     product\n",
              "0  fwXo0 -1.146987  0.963328 -0.828965   27.758673\n",
              "1  WJtFt  0.262778  0.269839 -2.530187   56.069697\n",
              "2  ovLUW  0.194587  0.289035 -5.586433   62.871910\n",
              "3  q6cA6  2.236060 -0.553760  0.930038  114.572842\n",
              "4  WPMUX -0.515993  1.716266  5.899011  149.600746"
            ]
          },
          "metadata": {},
          "output_type": "display_data"
        }
      ],
      "source": [
        "display (oil_1.head())\n",
        "display (oil_2.head())\n",
        "display (oil_3.head())"
      ]
    },
    {
      "cell_type": "markdown",
      "metadata": {
        "id": "alJKOuXf8l2l"
      },
      "source": [
        "Создадим функцию, которая проверит наличие пропусков в таблицах"
      ]
    },
    {
      "cell_type": "code",
      "execution_count": null,
      "metadata": {
        "scrolled": false,
        "id": "g7Jl89Nb8l2m",
        "outputId": "48caf974-eaf4-4700-981a-f9cb50f34ecb"
      },
      "outputs": [
        {
          "name": "stdout",
          "output_type": "stream",
          "text": [
            "         missing_values  % of total\n",
            "id                    0         0.0\n",
            "f0                    0         0.0\n",
            "f1                    0         0.0\n",
            "f2                    0         0.0\n",
            "product               0         0.0\n",
            "         missing_values  % of total\n",
            "id                    0         0.0\n",
            "f0                    0         0.0\n",
            "f1                    0         0.0\n",
            "f2                    0         0.0\n",
            "product               0         0.0\n",
            "         missing_values  % of total\n",
            "id                    0         0.0\n",
            "f0                    0         0.0\n",
            "f1                    0         0.0\n",
            "f2                    0         0.0\n",
            "product               0         0.0\n"
          ]
        }
      ],
      "source": [
        "oils = [oil_1, oil_2, oil_3]\n",
        "for oil in oils:\n",
        "    report = oil.isna().sum().to_frame()\n",
        "    report = report.rename(columns = {0: 'missing_values'})\n",
        "    report['% of total'] = (report['missing_values'] / oil.shape[0]).round(2)\n",
        "    print (report.sort_values(by = 'missing_values', ascending = False))\n",
        "    "
      ]
    },
    {
      "cell_type": "markdown",
      "metadata": {
        "id": "4dxmeB-c8l2m"
      },
      "source": [
        "Пропуски отсутствуют, необходимо еще проверить, не повторяются ли id( уникальный идентификатор скважины ) в таблицах. \n",
        "Есть повторения, их крайне мало, поэтому можем удалить их из таблицы, изпользуя функцию и метод 'drop'"
      ]
    },
    {
      "cell_type": "code",
      "execution_count": null,
      "metadata": {
        "id": "g4X9-IZk8l2n",
        "outputId": "e8c88a0f-4c0b-4f4e-bbf5-9c0e2ee555f0"
      },
      "outputs": [
        {
          "data": {
            "text/plain": [
              "10"
            ]
          },
          "execution_count": 4,
          "metadata": {},
          "output_type": "execute_result"
        }
      ],
      "source": [
        "oil_1['id'].duplicated().sum()"
      ]
    },
    {
      "cell_type": "code",
      "execution_count": null,
      "metadata": {
        "id": "_UWzc9bO8l2n",
        "outputId": "269da947-753e-4c9f-f62b-9e83184b80a4"
      },
      "outputs": [
        {
          "data": {
            "text/plain": [
              "4"
            ]
          },
          "execution_count": 5,
          "metadata": {},
          "output_type": "execute_result"
        }
      ],
      "source": [
        "oil_2['id'].duplicated().sum()"
      ]
    },
    {
      "cell_type": "code",
      "execution_count": null,
      "metadata": {
        "id": "SJCyy3hO8l2o",
        "outputId": "f345dc24-176b-4040-8f6f-a2c76c54e21a"
      },
      "outputs": [
        {
          "data": {
            "text/plain": [
              "4"
            ]
          },
          "execution_count": 6,
          "metadata": {},
          "output_type": "execute_result"
        }
      ],
      "source": [
        "oil_3['id'].duplicated().sum()"
      ]
    },
    {
      "cell_type": "code",
      "execution_count": null,
      "metadata": {
        "id": "eP0sew9B8l2o"
      },
      "outputs": [],
      "source": [
        "oils = [oil_1, oil_2, oil_3]\n",
        "for oil in oils:\n",
        "    oil.drop(oil.query('id.duplicated() == True').index, inplace=True)"
      ]
    },
    {
      "cell_type": "markdown",
      "metadata": {
        "id": "Az9sdbHm8l2p"
      },
      "source": [
        "Перед тем как обучать модель, взглянем еще раз на наши данные. В первую очередь, создадим корреляционную матрицу, и проведем анализ факторов в каждом регионе."
      ]
    },
    {
      "cell_type": "code",
      "execution_count": null,
      "metadata": {
        "scrolled": false,
        "id": "abUrCkeY8l2p",
        "outputId": "68b69a38-3d2d-4268-9c48-968aacb72e18"
      },
      "outputs": [
        {
          "data": {
            "image/png": "[encoded data removed]",
            "text/plain": [
              "<Figure size 800x800 with 2 Axes>"
            ]
          },
          "metadata": {
            "needs_background": "light"
          },
          "output_type": "display_data"
        },
        {
          "data": {
            "image/png": "[encoded data removed]",
            "text/plain": [
              "<Figure size 800x800 with 2 Axes>"
            ]
          },
          "metadata": {
            "needs_background": "light"
          },
          "output_type": "display_data"
        },
        {
          "data": {
            "image/png": "[encoded data removed]",
            "text/plain": [
              "<Figure size 800x800 with 2 Axes>"
            ]
          },
          "metadata": {
            "needs_background": "light"
          },
          "output_type": "display_data"
        }
      ],
      "source": [
        "for oil in oils:\n",
        "    plt.figure(figsize = (10,10), dpi = 80)\n",
        "    sns.heatmap(oil[['id', 'f0', 'f1', 'f2', 'product'\n",
        "       ]].corr(), xticklabels = oil[['id', 'f0', 'f1', 'f2', 'product'\n",
        "       ]].corr().columns, yticklabels = oil[['id', 'f0', 'f1', 'f2', 'product'\n",
        "       ]].corr().columns, cmap = 'RdYlBu', center = 0, annot = True)\n",
        "    plt.title('Корреляция', fontsize = 22)\n",
        "    plt.xticks(fontsize = 10)\n",
        "    plt.yticks(fontsize = 10)\n",
        "    plt.show()"
      ]
    },
    {
      "cell_type": "markdown",
      "metadata": {
        "id": "5yAlnPXc8l2p"
      },
      "source": [
        "Самое важное, что мы можем тут отметить: регион 2, где уровень корреляции между \"f2\"  и \"product\" равна 1. Позднее необходимо будет обратить внимание на метрики модели.\n",
        "Напишем функцию, которая построит гистограмму с объемом запасов в скважине в каждом регионе.  "
      ]
    },
    {
      "cell_type": "code",
      "execution_count": null,
      "metadata": {
        "id": "QXyoP_uy8l2q"
      },
      "outputs": [],
      "source": [
        "def product_oil(seria, bins, xlim_max, ylim_max):\n",
        "    plt.figure(figsize=[12,10])\n",
        "    plt.hist(seria, bins=bins)\n",
        "    plt.xlim([0,xlim_max])\n",
        "    plt.ylim([0,ylim_max])\n",
        "    plt.xlabel(\"Объем нефти на скважину\")\n",
        "    plt.ylabel(\"Кол-во скважин\")\n",
        "    plt.title(\"График распределения по объему скважин\")\n",
        "    plt.show()"
      ]
    },
    {
      "cell_type": "code",
      "execution_count": null,
      "metadata": {
        "scrolled": false,
        "id": "2qHeVvqS8l2q",
        "outputId": "5d43a8e8-d244-4af8-fc70-ac5fdbad26f8"
      },
      "outputs": [
        {
          "data": {
            "image/png": "[encoded data removed]",
            "text/plain": [
              "<Figure size 864x720 with 1 Axes>"
            ]
          },
          "metadata": {
            "needs_background": "light"
          },
          "output_type": "display_data"
        }
      ],
      "source": [
        "product_oil(oil_1['product'], 300, 190, 550)"
      ]
    },
    {
      "cell_type": "code",
      "execution_count": null,
      "metadata": {
        "scrolled": false,
        "id": "aQ8vquZP8l2r",
        "outputId": "99ea1a9e-b624-4237-dfe7-cc44f23f7259"
      },
      "outputs": [
        {
          "data": {
            "image/png": "[encoded data removed]",
            "text/plain": [
              "<Figure size 864x720 with 1 Axes>"
            ]
          },
          "metadata": {
            "needs_background": "light"
          },
          "output_type": "display_data"
        }
      ],
      "source": [
        "product_oil(oil_2['product'], 300, 150, 2000)"
      ]
    },
    {
      "cell_type": "code",
      "execution_count": null,
      "metadata": {
        "scrolled": false,
        "id": "4jKuOdRk8l2r",
        "outputId": "451e2ccf-893e-4d62-8a65-5c6d6fb6846b"
      },
      "outputs": [
        {
          "data": {
            "image/png": "[encoded data removed]",
            "text/plain": [
              "<Figure size 864x720 with 1 Axes>"
            ]
          },
          "metadata": {
            "needs_background": "light"
          },
          "output_type": "display_data"
        }
      ],
      "source": [
        "product_oil(oil_3['product'], 300, 200, 600)"
      ]
    },
    {
      "cell_type": "code",
      "execution_count": null,
      "metadata": {
        "id": "pGh1kZ7D8l2s",
        "outputId": "d2492e8f-7339-421a-8f53-f8695ecf243d"
      },
      "outputs": [
        {
          "data": {
            "text/plain": [
              "53.906522     8472\n",
              "26.953261     8468\n",
              "84.038886     8430\n",
              "57.085625     8389\n",
              "3.179103      8337\n",
              "80.859783     8320\n",
              "30.132364     8306\n",
              "110.992147    8303\n",
              "134.766305    8303\n",
              "0.000000      8235\n",
              "137.945408    8233\n",
              "107.813044    8200\n",
              "Name: product, dtype: int64"
            ]
          },
          "execution_count": 13,
          "metadata": {},
          "output_type": "execute_result"
        }
      ],
      "source": [
        "oil_2['product'].value_counts()"
      ]
    },
    {
      "cell_type": "markdown",
      "metadata": {
        "id": "WrSivyGm8l2s"
      },
      "source": [
        "### Вывод по первой главе"
      ]
    },
    {
      "cell_type": "markdown",
      "metadata": {
        "id": "JNy4mzR98l2s"
      },
      "source": [
        "В первой главе мы загрузили данные из трех регионов, проверили на пропуски, избавились от дубликатов. \n",
        "\n",
        "Для каждого региона создали корреляционную матрицу, в котором обнаружили, что есть почти 100 % зависимость во втором регионе между одним из факторов и целевым признаком.\n",
        "\n",
        "Нарисовали гистограмму для кажого региона. \n",
        "По гистограммам можно понять, что опять же во втором регионе данные имеют странное распределение: распределение объема с промежутком по 25. Так распределены равномерно все скважины в данном регионе. Дальше мы посмотрели значения, которыее есть в данном регионе: огромное количество скважин(более 8 тыс) с одинаковым количеством добычи нефти. Это наводит на мысль, что кто то намеренно вносил даные таким способом.  "
      ]
    },
    {
      "cell_type": "markdown",
      "metadata": {
        "id": "eDCHGG6A8l2t"
      },
      "source": [
        "## Обучение и проверка модели"
      ]
    },
    {
      "cell_type": "markdown",
      "metadata": {
        "id": "4sT6uAqo8l2t"
      },
      "source": [
        "Разобьем все 3 региона на обучающую и валидационную выборки  в соотношении 75:25. Признаки модели в наших данных -'f0','f1','f2'. Целевой признак - 'product'. Также мы удалим из признаков - id (уникальный идентификатор скважины), так как данные в данном столбце могут исказить обучение.\n",
        "\n",
        "Для каждого региона мы:\n",
        "   1) создадим модель\n",
        "   2) посчитаем средний запас предсказанного сырья \n",
        "   3) посчитаем значение RMSE модели"
      ]
    },
    {
      "cell_type": "code",
      "execution_count": null,
      "metadata": {
        "scrolled": true,
        "id": "Um4Zlv-M8l2u"
      },
      "outputs": [],
      "source": [
        "train_oil_1, valid_oil_1 = train_test_split(oil_1, test_size = 0.25, random_state = 42)\n",
        "train_oil_2, valid_oil_2 = train_test_split(oil_2, test_size = 0.25, random_state = 42)\n",
        "train_oil_3, valid_oil_3 = train_test_split(oil_3, test_size = 0.25, random_state = 42)\n",
        "\n",
        "train_f1_oil = train_oil_1.drop(['product', 'id'], axis=1)\n",
        "train_t1_oil = train_oil_1['product']\n",
        "valid_f1_oil = valid_oil_1.drop(['product', 'id'], axis=1)\n",
        "valid_t1_oil = valid_oil_1['product']\n",
        "\n",
        "train_f2_oil = train_oil_2.drop(['product', 'id'], axis=1)\n",
        "train_t2_oil = train_oil_2['product']\n",
        "valid_f2_oil = valid_oil_2.drop(['product', 'id'], axis=1)\n",
        "valid_t2_oil = valid_oil_2['product']\n",
        "\n",
        "train_f3_oil = train_oil_3.drop(['product', 'id'], axis=1)\n",
        "train_t3_oil = train_oil_3['product']\n",
        "valid_f3_oil = valid_oil_3.drop(['product', 'id'], axis=1)\n",
        "valid_t3_oil = valid_oil_3['product']\n",
        "\n",
        "model = LinearRegression()\n",
        "model_1 = model.fit(train_f1_oil, train_t1_oil)\n",
        "predicted_oil_1 = model_1.predict(valid_f1_oil)\n",
        "predicted_mean_1 = predicted_oil_1.mean()\n",
        "mean_squared_error_1 = mean_squared_error(valid_t1_oil, predicted_oil_1)**0.5\n",
        "\n",
        "model_2 = model.fit(train_f2_oil, train_t2_oil)\n",
        "predicted_oil_2 = model_2.predict(valid_f2_oil)\n",
        "predicted_mean_2 = predicted_oil_2.mean()\n",
        "mean_squared_error_2 = mean_squared_error(valid_t2_oil, predicted_oil_2)**0.5\n",
        "\n",
        "model_3 = model.fit(train_f3_oil, train_t3_oil)\n",
        "predicted_oil_3 = model_3.predict(valid_f3_oil)\n",
        "predicted_mean_3 = predicted_oil_3.mean()\n",
        "mean_squared_error_3 = mean_squared_error(valid_t3_oil, predicted_oil_3)**0.5"
      ]
    },
    {
      "cell_type": "markdown",
      "metadata": {
        "id": "IgRCKbCQ8l2u"
      },
      "source": [
        "Ниже создадим таблицу и график, в которых можно будет сравнить данные во всех регионах "
      ]
    },
    {
      "cell_type": "code",
      "execution_count": null,
      "metadata": {
        "id": "RLCfNcaa8l2u",
        "outputId": "5d1e612f-b8ab-4bef-e885-57efee33c0af"
      },
      "outputs": [
        {
          "data": {
            "text/html": [
              "<div>\n",
              "<style scoped>\n",
              "    .dataframe tbody tr th:only-of-type {\n",
              "        vertical-align: middle;\n",
              "    }\n",
              "\n",
              "    .dataframe tbody tr th {\n",
              "        vertical-align: top;\n",
              "    }\n",
              "\n",
              "    .dataframe thead th {\n",
              "        text-align: right;\n",
              "    }\n",
              "</style>\n",
              "<table border=\"1\" class=\"dataframe\">\n",
              "  <thead>\n",
              "    <tr style=\"text-align: right;\">\n",
              "      <th></th>\n",
              "      <th>Регион 1</th>\n",
              "      <th>Регион 2</th>\n",
              "      <th>Регион 3</th>\n",
              "    </tr>\n",
              "  </thead>\n",
              "  <tbody>\n",
              "    <tr>\n",
              "      <td>Средний запас предсказанного сырья</td>\n",
              "      <td>92.61</td>\n",
              "      <td>68.58</td>\n",
              "      <td>94.93</td>\n",
              "    </tr>\n",
              "    <tr>\n",
              "      <td>Значение RMSE</td>\n",
              "      <td>37.69</td>\n",
              "      <td>0.89</td>\n",
              "      <td>40.08</td>\n",
              "    </tr>\n",
              "  </tbody>\n",
              "</table>\n",
              "</div>"
            ],
            "text/plain": [
              "                                    Регион 1  Регион 2  Регион 3\n",
              "Средний запас предсказанного сырья     92.61     68.58     94.93\n",
              "Значение RMSE                          37.69      0.89     40.08"
            ]
          },
          "execution_count": 15,
          "metadata": {},
          "output_type": "execute_result"
        }
      ],
      "source": [
        "table = {'Регион 1':np.array([predicted_mean_1.round(2),mean_squared_error_1.round(2)]),\n",
        "           'Регион 2':np.array([predicted_mean_2.round(2),mean_squared_error_2.round(2)]),\n",
        "           'Регион 3':np.array([predicted_mean_3.round(2),mean_squared_error_3.round(2)])}\n",
        "new_table = pd.DataFrame(table, index = ['Средний запас предсказанного сырья','Значение RMSE'])\n",
        "new_table"
      ]
    },
    {
      "cell_type": "code",
      "execution_count": null,
      "metadata": {
        "scrolled": false,
        "id": "q4D6oNLY8l2v",
        "outputId": "4874b7fa-00e6-4efb-c838-c047d5bc91a7"
      },
      "outputs": [
        {
          "data": {
            "image/png": "[encoded data removed]",
            "text/plain": [
              "<Figure size 1080x720 with 1 Axes>"
            ]
          },
          "metadata": {
            "needs_background": "light"
          },
          "output_type": "display_data"
        }
      ],
      "source": [
        "new_table.plot(kind = 'bar', figsize = (15,10), grid = True, title = 'Средний запас предсказанного сырья и значение RMSE в регионах')\n",
        "plt.show()"
      ]
    },
    {
      "cell_type": "markdown",
      "metadata": {
        "id": "-DvzEiL68l2v"
      },
      "source": [
        "### Вывод по второй главе"
      ]
    },
    {
      "cell_type": "markdown",
      "metadata": {
        "id": "swUCrUcR8l2v"
      },
      "source": [
        "С помощью модели линейной регрессии мы оценили возможный средний запас предсказанного сырья в каждом из регионов. Здесь опять мы выделяем второй регион: RMSE меньше 1 (среднеквадратичная ошибка -это  мера различий между значениями предсказанными моделью и наблюдаемыми значениями). Здесь необходимо вспомнить про зависимость между факторами во втором регионе. Возможно \"шаговые\" данные из второго региона сказались на модели и она достаточно сильно переобучилась.\n",
        "В то же время средний запас предсказанного сырья во втором регионе оказался меньше всех.\n",
        "По показателям 1 и 3 регион почти не отличаются.\n",
        "Не будем пока сбрасывать со счетов второй регион, дальше нам будет неободимо оценить прибыльность и риски каждого из регионов"
      ]
    },
    {
      "cell_type": "code",
      "execution_count": null,
      "metadata": {
        "id": "QADtefBp8l2w"
      },
      "outputs": [],
      "source": [
        "#def region_linear (oil):\n",
        "    #feature = oil(['product', 'id'], axis=1)\n",
        "    #target = oil['product']\n",
        "    #feature_train, feature_valid, target_train, target_valid = train_tes_split(feature, target, test_size = 0.25, random_state =     42)\n",
        "    #model = LinearRegression().fit(feature_train, target_train)\n",
        "    #pred = model.predict(feature_valid)"
      ]
    },
    {
      "cell_type": "markdown",
      "metadata": {
        "id": "SZwuwb218l2x"
      },
      "source": [
        "## Подготовка к расчёту прибыли"
      ]
    },
    {
      "cell_type": "markdown",
      "metadata": {
        "id": "tgMU3HrE8l2x"
      },
      "source": [
        "Для дальнейших рассчетов сохраним все ключевые данные в отдельных переменных. "
      ]
    },
    {
      "cell_type": "code",
      "execution_count": null,
      "metadata": {
        "id": "a4T_YPK38l2x"
      },
      "outputs": [],
      "source": [
        "INC_PER_PRODUCT = 450000 # доход с каждой единицы продукта \n",
        "BUDG_REG = 10000000000 # бюджет в регионе\n",
        "BEST_US = 200 # количество лучших шахт для расчета прибыли"
      ]
    },
    {
      "cell_type": "markdown",
      "metadata": {
        "id": "frtWjeMv8l2y"
      },
      "source": [
        "Всего в одном регионе бюджет в 10 млрд.руб. выделяют для разработки 200 наиболее перспективных скважин.\n",
        "Точка безубыточности считается следующим образом: бюджет делим на доход с каждой единицы продукта. Для того, чтобы найти средний объем нефти в скважине для безубыточного функционирования поделим на количество лучших точек для разработки "
      ]
    },
    {
      "cell_type": "code",
      "execution_count": null,
      "metadata": {
        "id": "vDQzaZWL8l2y"
      },
      "outputs": [],
      "source": [
        "PROF = BUDG_REG / INC_PER_PRODUCT"
      ]
    },
    {
      "cell_type": "code",
      "execution_count": null,
      "metadata": {
        "scrolled": true,
        "id": "3-I5Asiq8l2y",
        "outputId": "e07f92c7-e423-4328-ca28-44c83bbcc075"
      },
      "outputs": [
        {
          "name": "stdout",
          "output_type": "stream",
          "text": [
            "Средний объем нефти в скважине для безубыточного функционирования 112.0\n"
          ]
        }
      ],
      "source": [
        "last_profit = PROF / BEST_US\n",
        "print (\"Средний объем нефти в скважине для безубыточного функционирования\", np.ceil(last_profit))"
      ]
    },
    {
      "cell_type": "code",
      "execution_count": null,
      "metadata": {
        "scrolled": false,
        "id": "tFIyB0PM8l2y",
        "outputId": "01776bff-d3b7-4ca1-bf95-f6386aba2709"
      },
      "outputs": [
        {
          "data": {
            "text/html": [
              "<div>\n",
              "<style scoped>\n",
              "    .dataframe tbody tr th:only-of-type {\n",
              "        vertical-align: middle;\n",
              "    }\n",
              "\n",
              "    .dataframe tbody tr th {\n",
              "        vertical-align: top;\n",
              "    }\n",
              "\n",
              "    .dataframe thead th {\n",
              "        text-align: right;\n",
              "    }\n",
              "</style>\n",
              "<table border=\"1\" class=\"dataframe\">\n",
              "  <thead>\n",
              "    <tr style=\"text-align: right;\">\n",
              "      <th></th>\n",
              "      <th>Регион 1</th>\n",
              "      <th>Регион 2</th>\n",
              "      <th>Регион 3</th>\n",
              "    </tr>\n",
              "  </thead>\n",
              "  <tbody>\n",
              "    <tr>\n",
              "      <td>Средний запас предсказанного сырья</td>\n",
              "      <td>92.61</td>\n",
              "      <td>68.58</td>\n",
              "      <td>94.93</td>\n",
              "    </tr>\n",
              "  </tbody>\n",
              "</table>\n",
              "</div>"
            ],
            "text/plain": [
              "                                    Регион 1  Регион 2  Регион 3\n",
              "Средний запас предсказанного сырья     92.61     68.58     94.93"
            ]
          },
          "execution_count": 21,
          "metadata": {},
          "output_type": "execute_result"
        }
      ],
      "source": [
        "new_table.iloc[0:1]"
      ]
    },
    {
      "cell_type": "markdown",
      "metadata": {
        "id": "tQ8K6Jxu8l2y"
      },
      "source": [
        "### Вывод по третьей главе"
      ]
    },
    {
      "cell_type": "markdown",
      "metadata": {
        "id": "n0e0f33G8l2z"
      },
      "source": [
        "При уровне цен в 450 000 руб. за тыс.баррелей, безубыточная добыча достигается только если в скважинах есть запас в 112 тыс.баррелей. По предсказаниям модели в среднем такого объема нет ни в одном регионе. Перейдем к рассчету прибыли и рисков."
      ]
    },
    {
      "cell_type": "markdown",
      "metadata": {
        "id": "Y3IxYlmV8l2z"
      },
      "source": [
        "## Расчёт прибыли и рисков "
      ]
    },
    {
      "cell_type": "code",
      "execution_count": null,
      "metadata": {
        "id": "QV1oowy18l2z",
        "outputId": "7c76e64d-a334-45a0-de03-ddd8dfb0665e"
      },
      "outputs": [
        {
          "data": {
            "text/plain": [
              "3468529787.422388"
            ]
          },
          "execution_count": 22,
          "metadata": {},
          "output_type": "execute_result"
        }
      ],
      "source": [
        "example1 = pd.Series(predicted_oil_1).reset_index(drop=True)\n",
        "example2 = pd.Series(valid_t1_oil).reset_index(drop=True)\n",
        "predictions_i = example1.sort_values(ascending=False)[:BEST_US].index\n",
        "selected_i = example2[predictions_i]\n",
        "revenue_example = selected_i.sum() * INC_PER_PRODUCT - BUDG_REG\n",
        "revenue_example"
      ]
    },
    {
      "cell_type": "markdown",
      "metadata": {
        "id": "3X4VkySE8l20"
      },
      "source": [
        "Первый регион рассчитал вручную, дальше решил попробовать через формулу. Для начала нам будет необходимо перевести переменные  predicted_oil (предсказания модели) и valid_t_oil (валидационная выборка, целевой признак 'product') в таблицы.  Далее мы сортируем данные с предсказаниями, и выбираем 200 лучших точек. Далее умножаем сумму баррелей на доход с каждой единицы продукта, отнимаем сумму бюджета в регионе и получаем прибыль. Далле пропишем функцию для расчета прибыли по выбранным скважинам, проверим правильно ли рассчитали по первому региону."
      ]
    },
    {
      "cell_type": "code",
      "execution_count": null,
      "metadata": {
        "id": "z-PZpXeZ8l20"
      },
      "outputs": [],
      "source": [
        "def profit(target, predictions):\n",
        "    target = pd.Series(target).reset_index(drop=True)\n",
        "    predictions = pd.Series(predictions).reset_index(drop=True)\n",
        "    predictions_s = predictions.sort_values(ascending=False)[:BEST_US].index\n",
        "    selected = target[predictions_s]\n",
        "    revenue = selected.sum() * INC_PER_PRODUCT - BUDG_REG\n",
        "    return round(revenue, 1)"
      ]
    },
    {
      "cell_type": "code",
      "execution_count": null,
      "metadata": {
        "id": "oClL1hy98l20",
        "outputId": "21fef4cd-8b42-4895-d4e1-6edc2d743efe"
      },
      "outputs": [
        {
          "data": {
            "text/plain": [
              "3468529787.4"
            ]
          },
          "execution_count": 24,
          "metadata": {},
          "output_type": "execute_result"
        }
      ],
      "source": [
        "profit(valid_t1_oil, predicted_oil_1)"
      ]
    },
    {
      "cell_type": "code",
      "execution_count": null,
      "metadata": {
        "id": "ntXrTsJL8l21",
        "outputId": "a8f09dc0-9711-4db2-b3ad-b1171ab34f10"
      },
      "outputs": [
        {
          "data": {
            "text/plain": [
              "2415086696.7"
            ]
          },
          "execution_count": 25,
          "metadata": {},
          "output_type": "execute_result"
        }
      ],
      "source": [
        "profit(valid_t2_oil, predicted_oil_2)"
      ]
    },
    {
      "cell_type": "code",
      "execution_count": null,
      "metadata": {
        "id": "VOe09bFL8l21",
        "outputId": "600bc914-cd68-4c63-a58f-6aa996fcf667"
      },
      "outputs": [
        {
          "data": {
            "text/plain": [
              "2396613000.9"
            ]
          },
          "execution_count": 26,
          "metadata": {},
          "output_type": "execute_result"
        }
      ],
      "source": [
        "profit(valid_t3_oil, predicted_oil_3)"
      ]
    },
    {
      "cell_type": "markdown",
      "metadata": {
        "id": "WPMMq4fO8l21"
      },
      "source": [
        "Здесь я решил создать две функции, которые помогут нам проверить риски и распределение прибыли. \"bootstrap_2\" - функция, которая на вход получает: целевой признак валидационной выборки, предсказания модели, количество повторений(1000) и размер выборки(500, для разведки региона). Выводить данная функция будет: среднюю выручку в регионе, риск убытков (в том случае, если показатели прибыли меньше нуля), 95%-й доверительный интервал, верхний и нижний уровни.\n",
        "\n",
        "Функция \"bootstrap_3\" покажет нам 95 %ый доверительный интервал по распределению Стьюдента. Мне показалось, что такое распределение тоже можно использовать в задаче, пропишем это также в нашей инальной таблице.\n",
        "\n",
        "После этого рассчитаем по формулам все 3 региона."
      ]
    },
    {
      "cell_type": "code",
      "execution_count": null,
      "metadata": {
        "id": "bHgKhtGJ8l21"
      },
      "outputs": [],
      "source": [
        "def bootstrap_2(target, probabilities, iterations, sample_size):\n",
        "    state = np.random.RandomState(42)\n",
        "    values = []\n",
        "    for i in range(iterations):\n",
        "        target_subsample = target.sample(n=sample_size, random_state=state, replace=True)\n",
        "        probs_subsample = probabilities[target_subsample.index]\n",
        "        values.append(profit(target_subsample, probs_subsample))\n",
        "\n",
        "    values = pd.Series(values)\n",
        "    mean = values.mean()\n",
        "    risk = (values < 0).mean()\n",
        "    \n",
        "    lower = values.quantile(0.025)\n",
        "    upper = values.quantile(0.975)\n",
        "    quantile_interval = (lower, upper)\n",
        "    return round(mean,2), round(risk*100, 2), quantile_interval, lower, upper"
      ]
    },
    {
      "cell_type": "code",
      "execution_count": null,
      "metadata": {
        "id": "Vh6p1Ao28l22"
      },
      "outputs": [],
      "source": [
        "#def bootstrap_3(target, probabilities, iterations, sample_size):\n",
        "    #state = np.random.RandomState(42)\n",
        "    #values = []\n",
        "    #for i in range(iterations):\n",
        "        #target_subsample = target.sample(n=sample_size, random_state=state, replace=True)\n",
        "        #probs_subsample = probabilities[target_subsample.index]\n",
        "        #values.append(profit(target_subsample, probs_subsample))\n",
        "\n",
        "    #values = pd.Series(values)\n",
        "    #confidence_interval = st.t.interval(0.95, len(values)-1, loc=values.mean(), scale=values.sem())\n",
        "    #return confidence_interval"
      ]
    },
    {
      "cell_type": "code",
      "execution_count": null,
      "metadata": {
        "id": "F_f521818l22"
      },
      "outputs": [],
      "source": [
        "oil_1_mean, oil_1_risk, oil_1_quantile, down_1, up_1 = bootstrap_2(valid_t1_oil.reset_index(drop=True), \n",
        "                                                                   predicted_oil_1, 1000, 500)\n",
        "#oil_1_st_quantile = bootstrap_3(valid_t1_oil.reset_index(drop=True), predicted_oil_1, 1000, 500)"
      ]
    },
    {
      "cell_type": "code",
      "execution_count": null,
      "metadata": {
        "id": "mVdF-Drw8l22"
      },
      "outputs": [],
      "source": [
        "oil_2_mean, oil_2_risk, oil_2_quantile, down_2, up_2 = bootstrap_2(valid_t2_oil.reset_index(drop=True), \n",
        "                                                                   predicted_oil_2, 1000, 500)\n",
        "#oil_2_st_quantile = bootstrap_3(valid_t2_oil.reset_index(drop=True), predicted_oil_2, 1000, 500)"
      ]
    },
    {
      "cell_type": "code",
      "execution_count": null,
      "metadata": {
        "id": "q9iWgxa08l22"
      },
      "outputs": [],
      "source": [
        "oil_3_mean, oil_3_risk, oil_3_quantile, down_3, up_3 = bootstrap_2(valid_t3_oil.reset_index(drop=True), \n",
        "                                                                   predicted_oil_3, 1000, 500)\n",
        "#oil_3_st_quantile = bootstrap_3(valid_t3_oil.reset_index(drop=True), predicted_oil_3, 1000, 500)"
      ]
    },
    {
      "cell_type": "code",
      "execution_count": null,
      "metadata": {
        "scrolled": false,
        "id": "vJ2EYq2t8l22",
        "outputId": "48ea9e13-69f9-4f57-e15e-e6a7ed05477b"
      },
      "outputs": [
        {
          "data": {
            "text/html": [
              "<div>\n",
              "<style scoped>\n",
              "    .dataframe tbody tr th:only-of-type {\n",
              "        vertical-align: middle;\n",
              "    }\n",
              "\n",
              "    .dataframe tbody tr th {\n",
              "        vertical-align: top;\n",
              "    }\n",
              "\n",
              "    .dataframe thead th {\n",
              "        text-align: right;\n",
              "    }\n",
              "</style>\n",
              "<table border=\"1\" class=\"dataframe\">\n",
              "  <thead>\n",
              "    <tr style=\"text-align: right;\">\n",
              "      <th></th>\n",
              "      <th>Регион 1</th>\n",
              "      <th>Регион 2</th>\n",
              "      <th>Регион 3</th>\n",
              "    </tr>\n",
              "  </thead>\n",
              "  <tbody>\n",
              "    <tr>\n",
              "      <td>Регион средняя выручка (в тыс)</td>\n",
              "      <td>4.035721e+05</td>\n",
              "      <td>4.302084e+05</td>\n",
              "      <td>3.842144e+05</td>\n",
              "    </tr>\n",
              "    <tr>\n",
              "      <td>Риск убытков</td>\n",
              "      <td>5.900000e+00</td>\n",
              "      <td>1.600000e+00</td>\n",
              "      <td>8.000000e+00</td>\n",
              "    </tr>\n",
              "    <tr>\n",
              "      <td>Нижний интервал</td>\n",
              "      <td>-1.376900e+08</td>\n",
              "      <td>4.305252e+07</td>\n",
              "      <td>-1.275899e+08</td>\n",
              "    </tr>\n",
              "    <tr>\n",
              "      <td>Верхний интервал по квантилям</td>\n",
              "      <td>9.028483e+08</td>\n",
              "      <td>8.473135e+08</td>\n",
              "      <td>9.101344e+08</td>\n",
              "    </tr>\n",
              "  </tbody>\n",
              "</table>\n",
              "</div>"
            ],
            "text/plain": [
              "                                    Регион 1      Регион 2      Регион 3\n",
              "Регион средняя выручка (в тыс)  4.035721e+05  4.302084e+05  3.842144e+05\n",
              "Риск убытков                    5.900000e+00  1.600000e+00  8.000000e+00\n",
              "Нижний интервал                -1.376900e+08  4.305252e+07 -1.275899e+08\n",
              "Верхний интервал по квантилям   9.028483e+08  8.473135e+08  9.101344e+08"
            ]
          },
          "execution_count": 32,
          "metadata": {},
          "output_type": "execute_result"
        }
      ],
      "source": [
        "finalle = {'Регион 1':np.array([oil_1_mean / 1000 , oil_1_risk, down_1.round(2), up_1.round(2)]),\n",
        "           'Регион 2':np.array([oil_2_mean / 1000, oil_2_risk, down_2.round(2), up_2.round(2)]),\n",
        "           'Регион 3':np.array([oil_3_mean / 1000, oil_3_risk, down_3.round(2), up_3.round(2)])}\n",
        "final_table = pd.DataFrame(finalle, index = ['Регион средняя выручка (в тыс)', 'Риск убытков', 'Нижний интервал',\n",
        "                                            'Верхний интервал по квантилям'])\n",
        "final_table"
      ]
    },
    {
      "cell_type": "code",
      "execution_count": null,
      "metadata": {
        "scrolled": false,
        "id": "bB4794Ga8l23",
        "outputId": "f91b9f45-a518-40bc-ded6-49da017fc927"
      },
      "outputs": [
        {
          "data": {
            "image/png": "[encoded data removed]",
            "text/plain": [
              "<Figure size 864x576 with 1 Axes>"
            ]
          },
          "metadata": {
            "needs_background": "light"
          },
          "output_type": "display_data"
        }
      ],
      "source": [
        "region_mean = final_table.iloc[0:1]\n",
        "region_mean.plot(kind = 'bar', figsize = (12,8), grid = True, title = 'Регион средняя выручка (в тыс)')\n",
        "plt.show()"
      ]
    },
    {
      "cell_type": "markdown",
      "metadata": {
        "id": "LCEsus5m8l23"
      },
      "source": [
        "### Вывод по четвертой главе"
      ]
    },
    {
      "cell_type": "markdown",
      "metadata": {
        "id": "aZBmif9N8l23"
      },
      "source": [
        "Итак, когда все данные у нас есть, необходимо выбрать самый лучший регион. Несмотря на то, что мы \"сомневались\" во втором региона, по показателям он оказался лучше всех. У данного региона вероятность убытков всего 1% и в пределах доверительного интервала 95% добыча все равно остаётся безубыточной. Кроме того, несмотря на то, что предсказанное значение добычи ниже чем в других регионах средняя прибыль самая высокая."
      ]
    },
    {
      "cell_type": "markdown",
      "metadata": {
        "id": "Z9bKcARx8l24"
      },
      "source": [
        "## Общий вывод"
      ]
    },
    {
      "cell_type": "markdown",
      "metadata": {
        "id": "IpUEVgrP8l24"
      },
      "source": [
        "1. В начале мы провели исследовательский анализ данных, проверили датасеты на наличие пропусков, удалили дупликаты. Также мы проверили зависимость между факторами и целевым признаком в таблицах. Обратили внимание на второй регион, где зависимость между двумя признаками была максимальна.\n",
        "2. Построили модель линейной регрессии, для предсказания объемов нефти в скважинах в каждом из регионов. Из - за высокой зависимости среднеквадратичная ошибка во втром регионе оказалась меньше 1.\n",
        "3. Определили ключевые значения в регионах, построили графики с объемом продукта в каждом регионе. Во втором регионе увидели \"странное\" распределение объема продукта в каждой скважине (\"шаговое\")\n",
        "3. Создали функцию для рассчета прибыли, затем мы выполнили процедуру бутстрепа, нашли 95% доверительный интервал для среднего объема нефти в скважинах. По итогам исследования, наиболее перспективным для разработки оказался второй регион. Риски убытков в данном регионе стремятся к 0, а средняя прибыль больше чем в остальных регионах."
      ]
    },
    {
      "cell_type": "markdown",
      "metadata": {
        "id": "ZFOjIlgz8l24"
      },
      "source": [
        "## Чек-лист готовности проекта"
      ]
    },
    {
      "cell_type": "markdown",
      "metadata": {
        "id": "Mh-DVMXx8l24"
      },
      "source": [
        "Поставьте 'x' в выполненных пунктах. Далее нажмите Shift+Enter."
      ]
    },
    {
      "cell_type": "markdown",
      "metadata": {
        "id": "hKDGIatt8l24"
      },
      "source": [
        "- [x]  Jupyter Notebook открыт\n",
        "- [x]  Весь код выполняется без ошибок\n",
        "- [x]  Ячейки с кодом расположены в порядке исполнения\n",
        "- [x]  Выполнен шаг 1: данные подготовлены\n",
        "- [x]  Выполнен шаг 2: модели обучены и проверены\n",
        "    - [x]  Данные корректно разбиты на обучающую и валидационную выборки\n",
        "    - [x]  Модели обучены, предсказания сделаны\n",
        "    - [x]  Предсказания и правильные ответы на валидационной выборке сохранены\n",
        "    - [x]  На экране напечатаны результаты\n",
        "    - [x]  Сделаны выводы\n",
        "- [x]  Выполнен шаг 3: проведена подготовка к расчёту прибыли\n",
        "    - [x]  Для всех ключевых значений созданы константы Python\n",
        "    - [x]  Посчитано минимальное среднее количество продукта в месторождениях региона, достаточное для разработки\n",
        "    - [x]  По предыдущему пункту сделаны выводы\n",
        "    - [x]  Написана функция расчёта прибыли\n",
        "- [x]  Выполнен шаг 4: посчитаны риски и прибыль\n",
        "    - [x]  Проведена процедура *Bootstrap*\n",
        "    - [x]  Все параметры бутстрепа соответствуют условию\n",
        "    - [x]  Найдены все нужные величины\n",
        "    - [x]  Предложен регион для разработки месторождения\n",
        "    - [x]  Выбор региона обоснован"
      ]
    }
  ],
  "metadata": {
    "ExecuteTimeLog": [
      {
        "duration": 1518,
        "start_time": "2021-06-30T15:58:10.272Z"
      },
      {
        "duration": 186,
        "start_time": "2021-06-30T15:58:28.457Z"
      },
      {
        "duration": 16,
        "start_time": "2021-06-30T15:59:16.198Z"
      },
      {
        "duration": 178,
        "start_time": "2021-06-30T15:59:34.740Z"
      },
      {
        "duration": 14,
        "start_time": "2021-06-30T15:59:34.949Z"
      },
      {
        "duration": 191,
        "start_time": "2021-06-30T16:00:26.191Z"
      },
      {
        "duration": 15,
        "start_time": "2021-06-30T16:00:26.734Z"
      },
      {
        "duration": 488,
        "start_time": "2021-06-30T16:01:18.917Z"
      },
      {
        "duration": 6,
        "start_time": "2021-06-30T16:01:41.766Z"
      },
      {
        "duration": 270,
        "start_time": "2021-06-30T16:02:17.424Z"
      },
      {
        "duration": 295,
        "start_time": "2021-06-30T16:02:42.470Z"
      },
      {
        "duration": 20,
        "start_time": "2021-06-30T16:02:42.768Z"
      },
      {
        "duration": 5,
        "start_time": "2021-06-30T16:02:42.804Z"
      },
      {
        "duration": 291,
        "start_time": "2021-06-30T16:02:43.030Z"
      },
      {
        "duration": 257,
        "start_time": "2021-06-30T16:02:53.697Z"
      },
      {
        "duration": 30,
        "start_time": "2021-06-30T16:02:54.070Z"
      },
      {
        "duration": 6,
        "start_time": "2021-06-30T16:02:54.535Z"
      },
      {
        "duration": 752,
        "start_time": "2021-06-30T16:02:55.157Z"
      },
      {
        "duration": 281,
        "start_time": "2021-06-30T16:05:28.560Z"
      },
      {
        "duration": 182,
        "start_time": "2021-06-30T16:05:51.195Z"
      },
      {
        "duration": 16,
        "start_time": "2021-06-30T16:05:51.439Z"
      },
      {
        "duration": 6,
        "start_time": "2021-06-30T16:05:51.631Z"
      },
      {
        "duration": 729,
        "start_time": "2021-06-30T16:05:51.822Z"
      },
      {
        "duration": 500,
        "start_time": "2021-06-30T16:05:52.554Z"
      },
      {
        "duration": 41,
        "start_time": "2021-06-30T16:06:07.063Z"
      },
      {
        "duration": 13,
        "start_time": "2021-06-30T16:14:53.057Z"
      },
      {
        "duration": 275,
        "start_time": "2021-06-30T16:14:54.329Z"
      },
      {
        "duration": 8,
        "start_time": "2021-06-30T16:19:50.619Z"
      },
      {
        "duration": 336,
        "start_time": "2021-06-30T16:19:50.943Z"
      },
      {
        "duration": 183,
        "start_time": "2021-06-30T16:20:14.602Z"
      },
      {
        "duration": 14,
        "start_time": "2021-06-30T16:20:14.788Z"
      },
      {
        "duration": 7,
        "start_time": "2021-06-30T16:20:14.921Z"
      },
      {
        "duration": 688,
        "start_time": "2021-06-30T16:20:15.130Z"
      },
      {
        "duration": 28,
        "start_time": "2021-06-30T16:20:15.820Z"
      },
      {
        "duration": 8,
        "start_time": "2021-06-30T16:20:15.883Z"
      },
      {
        "duration": 94,
        "start_time": "2021-06-30T16:20:15.894Z"
      },
      {
        "duration": 2455,
        "start_time": "2021-07-01T09:41:06.471Z"
      },
      {
        "duration": -1196,
        "start_time": "2021-07-01T09:41:10.126Z"
      },
      {
        "duration": -1203,
        "start_time": "2021-07-01T09:41:10.135Z"
      },
      {
        "duration": -1207,
        "start_time": "2021-07-01T09:41:10.141Z"
      },
      {
        "duration": -1209,
        "start_time": "2021-07-01T09:41:10.145Z"
      },
      {
        "duration": -1212,
        "start_time": "2021-07-01T09:41:10.151Z"
      },
      {
        "duration": -1213,
        "start_time": "2021-07-01T09:41:10.154Z"
      },
      {
        "duration": 475,
        "start_time": "2021-07-01T09:41:19.230Z"
      },
      {
        "duration": 14,
        "start_time": "2021-07-01T09:41:19.708Z"
      },
      {
        "duration": 5,
        "start_time": "2021-07-01T09:41:19.748Z"
      },
      {
        "duration": 261,
        "start_time": "2021-07-01T09:41:19.940Z"
      },
      {
        "duration": 23,
        "start_time": "2021-07-01T09:41:20.206Z"
      },
      {
        "duration": 7,
        "start_time": "2021-07-01T09:41:20.397Z"
      },
      {
        "duration": 28,
        "start_time": "2021-07-01T09:41:20.580Z"
      },
      {
        "duration": 695,
        "start_time": "2021-07-01T09:41:42.309Z"
      },
      {
        "duration": 30,
        "start_time": "2021-07-01T09:41:57.095Z"
      },
      {
        "duration": 9,
        "start_time": "2021-07-01T09:41:57.461Z"
      },
      {
        "duration": 27,
        "start_time": "2021-07-01T09:41:57.980Z"
      },
      {
        "duration": 540,
        "start_time": "2021-07-01T09:44:16.591Z"
      },
      {
        "duration": 15,
        "start_time": "2021-07-01T09:44:17.133Z"
      },
      {
        "duration": 8,
        "start_time": "2021-07-01T09:44:17.151Z"
      },
      {
        "duration": 749,
        "start_time": "2021-07-01T09:44:17.187Z"
      },
      {
        "duration": 25,
        "start_time": "2021-07-01T09:44:17.939Z"
      },
      {
        "duration": 13,
        "start_time": "2021-07-01T09:44:17.983Z"
      },
      {
        "duration": 97,
        "start_time": "2021-07-01T09:44:18.000Z"
      },
      {
        "duration": 23,
        "start_time": "2021-07-01T09:45:19.134Z"
      },
      {
        "duration": 21,
        "start_time": "2021-07-01T09:45:27.837Z"
      },
      {
        "duration": 24,
        "start_time": "2021-07-01T09:45:32.830Z"
      },
      {
        "duration": 337,
        "start_time": "2021-07-01T09:47:22.653Z"
      },
      {
        "duration": 88,
        "start_time": "2021-07-01T09:47:33.757Z"
      },
      {
        "duration": 47,
        "start_time": "2021-07-01T09:47:56.623Z"
      },
      {
        "duration": 130,
        "start_time": "2021-07-01T09:48:15.479Z"
      },
      {
        "duration": 79,
        "start_time": "2021-07-01T09:48:52.510Z"
      },
      {
        "duration": 415,
        "start_time": "2021-07-01T09:48:57.670Z"
      },
      {
        "duration": 438,
        "start_time": "2021-07-01T09:49:13.774Z"
      },
      {
        "duration": 128,
        "start_time": "2021-07-01T09:50:28.286Z"
      },
      {
        "duration": 649,
        "start_time": "2021-07-01T09:50:31.310Z"
      },
      {
        "duration": 26,
        "start_time": "2021-07-01T09:50:35.079Z"
      },
      {
        "duration": 1011,
        "start_time": "2021-07-01T09:50:43.974Z"
      },
      {
        "duration": 14,
        "start_time": "2021-07-01T09:50:44.988Z"
      },
      {
        "duration": 8,
        "start_time": "2021-07-01T09:50:45.005Z"
      },
      {
        "duration": 39,
        "start_time": "2021-07-01T09:50:45.016Z"
      },
      {
        "duration": 104,
        "start_time": "2021-07-01T09:50:45.082Z"
      },
      {
        "duration": 637,
        "start_time": "2021-07-01T09:50:45.188Z"
      },
      {
        "duration": 23,
        "start_time": "2021-07-01T09:50:45.828Z"
      },
      {
        "duration": 8,
        "start_time": "2021-07-01T09:50:47.845Z"
      },
      {
        "duration": 22,
        "start_time": "2021-07-01T09:50:47.856Z"
      },
      {
        "duration": 21,
        "start_time": "2021-07-01T09:51:05.774Z"
      },
      {
        "duration": 651,
        "start_time": "2021-07-01T09:51:13.607Z"
      },
      {
        "duration": 36,
        "start_time": "2021-07-01T09:51:14.261Z"
      },
      {
        "duration": 8,
        "start_time": "2021-07-01T09:51:15.014Z"
      },
      {
        "duration": 37,
        "start_time": "2021-07-01T09:51:16.046Z"
      },
      {
        "duration": 57,
        "start_time": "2021-07-01T09:51:54.119Z"
      },
      {
        "duration": 66,
        "start_time": "2021-07-01T09:52:31.176Z"
      },
      {
        "duration": 62,
        "start_time": "2021-07-01T09:52:46.870Z"
      },
      {
        "duration": 8,
        "start_time": "2021-07-01T09:52:57.599Z"
      },
      {
        "duration": 25,
        "start_time": "2021-07-01T09:52:57.992Z"
      },
      {
        "duration": 16,
        "start_time": "2021-07-01T09:54:47.808Z"
      },
      {
        "duration": 21,
        "start_time": "2021-07-01T09:55:21.319Z"
      },
      {
        "duration": 2018,
        "start_time": "2021-07-01T09:56:47.065Z"
      },
      {
        "duration": 1385,
        "start_time": "2021-07-01T09:57:05.480Z"
      },
      {
        "duration": 716,
        "start_time": "2021-07-01T09:57:25.237Z"
      },
      {
        "duration": 1454,
        "start_time": "2021-07-01T09:57:43.263Z"
      },
      {
        "duration": 299,
        "start_time": "2021-07-01T09:59:03.526Z"
      },
      {
        "duration": 280,
        "start_time": "2021-07-01T09:59:12.370Z"
      },
      {
        "duration": 6,
        "start_time": "2021-07-01T09:59:54.609Z"
      },
      {
        "duration": 278,
        "start_time": "2021-07-01T10:00:19.600Z"
      },
      {
        "duration": 562,
        "start_time": "2021-07-01T10:00:24.464Z"
      },
      {
        "duration": 5,
        "start_time": "2021-07-01T10:00:36.081Z"
      },
      {
        "duration": 614,
        "start_time": "2021-07-01T10:00:36.724Z"
      },
      {
        "duration": 5,
        "start_time": "2021-07-01T10:00:49.962Z"
      },
      {
        "duration": 1038,
        "start_time": "2021-07-01T10:00:50.576Z"
      },
      {
        "duration": 884,
        "start_time": "2021-07-01T10:01:07.410Z"
      },
      {
        "duration": 1087,
        "start_time": "2021-07-01T10:02:53.057Z"
      },
      {
        "duration": 3137,
        "start_time": "2021-07-01T10:04:28.610Z"
      },
      {
        "duration": 28152,
        "start_time": "2021-07-01T10:05:43.506Z"
      },
      {
        "duration": 1514,
        "start_time": "2021-07-03T11:43:37.953Z"
      },
      {
        "duration": 12,
        "start_time": "2021-07-03T11:43:40.319Z"
      },
      {
        "duration": 4,
        "start_time": "2021-07-03T11:43:41.504Z"
      },
      {
        "duration": 18,
        "start_time": "2021-07-03T11:43:43.260Z"
      },
      {
        "duration": 65,
        "start_time": "2021-07-03T11:43:44.764Z"
      },
      {
        "duration": 15,
        "start_time": "2021-07-03T11:43:44.831Z"
      },
      {
        "duration": 893,
        "start_time": "2021-07-03T11:43:45.352Z"
      },
      {
        "duration": 4,
        "start_time": "2021-07-03T11:43:46.249Z"
      },
      {
        "duration": 653,
        "start_time": "2021-07-03T11:43:46.888Z"
      },
      {
        "duration": 575,
        "start_time": "2021-07-03T11:43:47.879Z"
      },
      {
        "duration": 17019,
        "start_time": "2021-07-03T11:43:48.568Z"
      },
      {
        "duration": 624,
        "start_time": "2021-07-03T11:44:05.589Z"
      },
      {
        "duration": 43,
        "start_time": "2021-07-03T11:44:06.215Z"
      },
      {
        "duration": 5,
        "start_time": "2021-07-03T11:44:06.260Z"
      },
      {
        "duration": 7,
        "start_time": "2021-07-03T11:44:06.267Z"
      },
      {
        "duration": 18,
        "start_time": "2021-07-03T11:44:06.276Z"
      },
      {
        "duration": 481,
        "start_time": "2021-07-03T11:44:06.296Z"
      },
      {
        "duration": 162,
        "start_time": "2021-07-03T11:44:25.288Z"
      },
      {
        "duration": 14,
        "start_time": "2021-07-03T11:44:41.807Z"
      },
      {
        "duration": 6,
        "start_time": "2021-07-03T11:45:42.968Z"
      },
      {
        "duration": 106,
        "start_time": "2021-07-03T11:45:43.479Z"
      },
      {
        "duration": 11,
        "start_time": "2021-07-03T11:45:43.959Z"
      },
      {
        "duration": 13,
        "start_time": "2021-07-03T11:45:44.383Z"
      },
      {
        "duration": 920,
        "start_time": "2021-07-03T11:46:48.673Z"
      },
      {
        "duration": 2218,
        "start_time": "2021-07-07T17:24:57.452Z"
      },
      {
        "duration": 21,
        "start_time": "2021-07-07T17:24:59.673Z"
      },
      {
        "duration": 6,
        "start_time": "2021-07-07T17:24:59.699Z"
      },
      {
        "duration": 22,
        "start_time": "2021-07-07T17:24:59.709Z"
      },
      {
        "duration": 101,
        "start_time": "2021-07-07T17:24:59.768Z"
      },
      {
        "duration": 21,
        "start_time": "2021-07-07T17:24:59.872Z"
      },
      {
        "duration": 1541,
        "start_time": "2021-07-07T17:24:59.897Z"
      },
      {
        "duration": 5,
        "start_time": "2021-07-07T17:25:01.443Z"
      },
      {
        "duration": 1335,
        "start_time": "2021-07-07T17:25:01.451Z"
      },
      {
        "duration": 1137,
        "start_time": "2021-07-07T17:25:02.788Z"
      },
      {
        "duration": 1147,
        "start_time": "2021-07-07T17:25:03.929Z"
      },
      {
        "duration": 88,
        "start_time": "2021-07-07T17:25:05.079Z"
      },
      {
        "duration": 11,
        "start_time": "2021-07-07T17:25:05.170Z"
      },
      {
        "duration": 14,
        "start_time": "2021-07-07T17:25:05.184Z"
      },
      {
        "duration": 12,
        "start_time": "2021-07-07T17:25:05.200Z"
      },
      {
        "duration": 63,
        "start_time": "2021-07-07T17:25:05.215Z"
      },
      {
        "duration": 104,
        "start_time": "2021-07-07T17:25:05.281Z"
      },
      {
        "duration": 290,
        "start_time": "2021-07-07T17:25:05.388Z"
      },
      {
        "duration": 1906,
        "start_time": "2021-07-07T17:25:05.681Z"
      },
      {
        "duration": 5,
        "start_time": "2021-07-07T17:25:07.591Z"
      },
      {
        "duration": 4,
        "start_time": "2021-07-07T17:28:18.102Z"
      },
      {
        "duration": 5,
        "start_time": "2021-07-07T17:28:25.246Z"
      },
      {
        "duration": 4,
        "start_time": "2021-07-07T17:31:50.720Z"
      },
      {
        "duration": 5,
        "start_time": "2021-07-07T17:31:56.978Z"
      },
      {
        "duration": 5,
        "start_time": "2021-07-07T17:33:56.923Z"
      },
      {
        "duration": 5,
        "start_time": "2021-07-07T17:37:15.963Z"
      },
      {
        "duration": 1180,
        "start_time": "2021-07-07T17:37:19.884Z"
      },
      {
        "duration": 1030,
        "start_time": "2021-07-07T17:37:23.181Z"
      },
      {
        "duration": 1052,
        "start_time": "2021-07-07T17:37:25.683Z"
      },
      {
        "duration": 5148,
        "start_time": "2021-07-07T17:40:35.068Z"
      },
      {
        "duration": 85,
        "start_time": "2021-07-07T17:42:58.972Z"
      },
      {
        "duration": 316,
        "start_time": "2021-07-07T17:46:41.462Z"
      },
      {
        "duration": 401,
        "start_time": "2021-07-07T17:46:49.278Z"
      },
      {
        "duration": 465,
        "start_time": "2021-07-07T17:46:55.681Z"
      },
      {
        "duration": 477,
        "start_time": "2021-07-07T17:48:25.440Z"
      },
      {
        "duration": 427,
        "start_time": "2021-07-07T17:48:36.364Z"
      },
      {
        "duration": 168,
        "start_time": "2021-07-07T17:49:35.499Z"
      },
      {
        "duration": 120,
        "start_time": "2021-07-07T17:50:13.449Z"
      },
      {
        "duration": 63,
        "start_time": "2021-07-07T17:50:35.905Z"
      },
      {
        "duration": 19,
        "start_time": "2021-07-07T17:51:10.903Z"
      },
      {
        "duration": 16,
        "start_time": "2021-07-07T17:51:11.416Z"
      },
      {
        "duration": 20,
        "start_time": "2021-07-07T17:51:11.806Z"
      },
      {
        "duration": 1555,
        "start_time": "2021-07-07T17:51:12.312Z"
      },
      {
        "duration": 14,
        "start_time": "2021-07-07T17:53:58.761Z"
      },
      {
        "duration": 14,
        "start_time": "2021-07-07T17:59:47.359Z"
      },
      {
        "duration": 14,
        "start_time": "2021-07-07T18:00:35.769Z"
      },
      {
        "duration": 35,
        "start_time": "2021-07-07T18:00:57.332Z"
      },
      {
        "duration": 18,
        "start_time": "2021-07-07T18:00:57.579Z"
      },
      {
        "duration": 20,
        "start_time": "2021-07-07T18:00:57.768Z"
      },
      {
        "duration": 13,
        "start_time": "2021-07-07T18:00:58.403Z"
      },
      {
        "duration": 15,
        "start_time": "2021-07-07T18:02:49.826Z"
      },
      {
        "duration": 15,
        "start_time": "2021-07-07T18:02:50.100Z"
      },
      {
        "duration": 49,
        "start_time": "2021-07-07T18:02:50.418Z"
      },
      {
        "duration": 368,
        "start_time": "2021-07-07T18:04:12.913Z"
      },
      {
        "duration": 547,
        "start_time": "2021-07-07T18:04:21.221Z"
      },
      {
        "duration": 433,
        "start_time": "2021-07-07T18:25:35.267Z"
      },
      {
        "duration": 386,
        "start_time": "2021-07-07T18:25:45.024Z"
      },
      {
        "duration": 113,
        "start_time": "2021-07-07T18:26:30.855Z"
      },
      {
        "duration": 351,
        "start_time": "2021-07-07T18:42:48.404Z"
      },
      {
        "duration": 9999,
        "start_time": "2021-07-07T18:46:19.748Z"
      },
      {
        "duration": 22,
        "start_time": "2021-07-07T18:46:50.447Z"
      },
      {
        "duration": 15,
        "start_time": "2021-07-07T18:47:27.973Z"
      },
      {
        "duration": 373,
        "start_time": "2021-07-07T18:58:56.234Z"
      },
      {
        "duration": 356,
        "start_time": "2021-07-07T18:59:13.905Z"
      },
      {
        "duration": 1971,
        "start_time": "2021-07-07T18:59:31.484Z"
      },
      {
        "duration": 246,
        "start_time": "2021-07-08T19:57:46.274Z"
      },
      {
        "duration": 1801,
        "start_time": "2021-07-08T19:57:57.044Z"
      },
      {
        "duration": 14,
        "start_time": "2021-07-08T19:57:58.847Z"
      },
      {
        "duration": 4,
        "start_time": "2021-07-08T19:57:58.863Z"
      },
      {
        "duration": 35,
        "start_time": "2021-07-08T19:57:58.869Z"
      },
      {
        "duration": 64,
        "start_time": "2021-07-08T19:57:58.910Z"
      },
      {
        "duration": 23,
        "start_time": "2021-07-08T19:57:58.976Z"
      },
      {
        "duration": 853,
        "start_time": "2021-07-08T19:57:59.001Z"
      },
      {
        "duration": 3,
        "start_time": "2021-07-08T19:57:59.857Z"
      },
      {
        "duration": 676,
        "start_time": "2021-07-08T19:57:59.862Z"
      },
      {
        "duration": 583,
        "start_time": "2021-07-08T19:58:00.540Z"
      },
      {
        "duration": 586,
        "start_time": "2021-07-08T19:58:01.125Z"
      },
      {
        "duration": 185,
        "start_time": "2021-07-08T19:58:01.712Z"
      },
      {
        "duration": 13,
        "start_time": "2021-07-08T19:58:01.899Z"
      },
      {
        "duration": 96,
        "start_time": "2021-07-08T19:58:01.914Z"
      },
      {
        "duration": 99,
        "start_time": "2021-07-08T19:58:02.012Z"
      },
      {
        "duration": 981,
        "start_time": "2021-07-08T19:58:02.113Z"
      },
      {
        "duration": 182,
        "start_time": "2021-07-08T19:58:03.096Z"
      },
      {
        "duration": 3,
        "start_time": "2021-07-08T19:58:03.280Z"
      },
      {
        "duration": 8,
        "start_time": "2021-07-08T19:58:03.284Z"
      },
      {
        "duration": 6,
        "start_time": "2021-07-08T19:58:03.294Z"
      },
      {
        "duration": 6,
        "start_time": "2021-07-08T19:58:03.304Z"
      },
      {
        "duration": 1446,
        "start_time": "2021-07-08T19:58:03.312Z"
      },
      {
        "duration": -581,
        "start_time": "2021-07-08T19:58:05.341Z"
      },
      {
        "duration": 5,
        "start_time": "2021-07-08T20:00:44.467Z"
      },
      {
        "duration": 228,
        "start_time": "2021-07-08T20:01:22.380Z"
      },
      {
        "duration": 431,
        "start_time": "2021-07-08T20:02:40.492Z"
      },
      {
        "duration": 5,
        "start_time": "2021-07-08T20:03:28.131Z"
      },
      {
        "duration": 458,
        "start_time": "2021-07-08T20:03:29.189Z"
      },
      {
        "duration": 3810,
        "start_time": "2021-07-08T20:07:06.324Z"
      },
      {
        "duration": 16,
        "start_time": "2021-07-08T20:07:44.509Z"
      },
      {
        "duration": 1497,
        "start_time": "2021-07-08T20:08:21.210Z"
      },
      {
        "duration": 250,
        "start_time": "2021-07-08T20:09:18.797Z"
      },
      {
        "duration": 1199,
        "start_time": "2021-07-08T20:10:10.381Z"
      },
      {
        "duration": 1533,
        "start_time": "2021-07-08T20:10:32.407Z"
      },
      {
        "duration": 218,
        "start_time": "2021-07-08T20:10:47.511Z"
      },
      {
        "duration": 3912,
        "start_time": "2021-07-08T20:11:02.813Z"
      },
      {
        "duration": 4,
        "start_time": "2021-07-08T20:17:42.927Z"
      },
      {
        "duration": 473,
        "start_time": "2021-07-08T20:18:30.374Z"
      },
      {
        "duration": 10,
        "start_time": "2021-07-08T20:22:43.079Z"
      },
      {
        "duration": 9,
        "start_time": "2021-07-08T20:23:40.439Z"
      },
      {
        "duration": 4,
        "start_time": "2021-07-08T20:23:41.249Z"
      },
      {
        "duration": 441,
        "start_time": "2021-07-08T20:23:42.304Z"
      },
      {
        "duration": 9,
        "start_time": "2021-07-08T20:24:07.298Z"
      },
      {
        "duration": 644,
        "start_time": "2021-07-08T20:24:07.775Z"
      },
      {
        "duration": 507,
        "start_time": "2021-07-08T20:24:32.759Z"
      },
      {
        "duration": 9,
        "start_time": "2021-07-08T20:24:40.809Z"
      },
      {
        "duration": 5,
        "start_time": "2021-07-08T20:24:55.921Z"
      },
      {
        "duration": 5,
        "start_time": "2021-07-08T20:25:04.568Z"
      },
      {
        "duration": 3,
        "start_time": "2021-07-08T20:25:45.752Z"
      },
      {
        "duration": 6,
        "start_time": "2021-07-08T20:25:51.943Z"
      },
      {
        "duration": 684,
        "start_time": "2021-07-08T20:26:13.561Z"
      },
      {
        "duration": 2885,
        "start_time": "2021-07-08T20:26:28.385Z"
      },
      {
        "duration": 344,
        "start_time": "2021-07-08T20:27:38.529Z"
      },
      {
        "duration": 19,
        "start_time": "2021-07-08T20:27:38.875Z"
      },
      {
        "duration": 5,
        "start_time": "2021-07-08T20:27:38.896Z"
      },
      {
        "duration": 18,
        "start_time": "2021-07-08T20:27:38.999Z"
      },
      {
        "duration": 65,
        "start_time": "2021-07-08T20:27:39.176Z"
      },
      {
        "duration": 15,
        "start_time": "2021-07-08T20:27:39.352Z"
      },
      {
        "duration": 839,
        "start_time": "2021-07-08T20:27:39.521Z"
      },
      {
        "duration": 4,
        "start_time": "2021-07-08T20:27:40.362Z"
      },
      {
        "duration": 581,
        "start_time": "2021-07-08T20:27:40.368Z"
      },
      {
        "duration": 878,
        "start_time": "2021-07-08T20:27:40.951Z"
      },
      {
        "duration": 1006,
        "start_time": "2021-07-08T20:27:41.831Z"
      },
      {
        "duration": 89,
        "start_time": "2021-07-08T20:27:42.839Z"
      },
      {
        "duration": 168,
        "start_time": "2021-07-08T20:27:42.933Z"
      },
      {
        "duration": 98,
        "start_time": "2021-07-08T20:27:43.104Z"
      },
      {
        "duration": 100,
        "start_time": "2021-07-08T20:27:43.204Z"
      },
      {
        "duration": 953,
        "start_time": "2021-07-08T20:27:43.306Z"
      },
      {
        "duration": 177,
        "start_time": "2021-07-08T20:27:44.261Z"
      },
      {
        "duration": 2,
        "start_time": "2021-07-08T20:27:44.440Z"
      },
      {
        "duration": 6,
        "start_time": "2021-07-08T20:27:44.444Z"
      },
      {
        "duration": 5,
        "start_time": "2021-07-08T20:27:44.452Z"
      },
      {
        "duration": 6,
        "start_time": "2021-07-08T20:27:44.458Z"
      },
      {
        "duration": 8,
        "start_time": "2021-07-08T20:27:44.466Z"
      },
      {
        "duration": 32,
        "start_time": "2021-07-08T20:27:44.475Z"
      },
      {
        "duration": 8,
        "start_time": "2021-07-08T20:27:44.509Z"
      },
      {
        "duration": 12,
        "start_time": "2021-07-08T20:27:44.520Z"
      },
      {
        "duration": 5,
        "start_time": "2021-07-08T20:27:44.533Z"
      },
      {
        "duration": 2790,
        "start_time": "2021-07-08T20:27:44.540Z"
      },
      {
        "duration": -554,
        "start_time": "2021-07-08T20:27:47.886Z"
      },
      {
        "duration": 4,
        "start_time": "2021-07-08T20:29:28.665Z"
      },
      {
        "duration": 2801,
        "start_time": "2021-07-08T20:29:29.041Z"
      },
      {
        "duration": 2296,
        "start_time": "2021-07-09T08:57:34.972Z"
      },
      {
        "duration": 15,
        "start_time": "2021-07-09T08:57:37.271Z"
      },
      {
        "duration": 21,
        "start_time": "2021-07-09T08:57:37.289Z"
      },
      {
        "duration": 44,
        "start_time": "2021-07-09T08:57:37.313Z"
      },
      {
        "duration": 109,
        "start_time": "2021-07-09T08:57:37.360Z"
      },
      {
        "duration": 22,
        "start_time": "2021-07-09T08:57:37.471Z"
      },
      {
        "duration": 1710,
        "start_time": "2021-07-09T08:57:37.510Z"
      },
      {
        "duration": 6,
        "start_time": "2021-07-09T08:57:39.224Z"
      },
      {
        "duration": 1223,
        "start_time": "2021-07-09T08:57:39.234Z"
      },
      {
        "duration": 1099,
        "start_time": "2021-07-09T08:57:40.460Z"
      },
      {
        "duration": 1126,
        "start_time": "2021-07-09T08:57:41.563Z"
      },
      {
        "duration": 133,
        "start_time": "2021-07-09T08:57:42.691Z"
      },
      {
        "duration": 189,
        "start_time": "2021-07-09T08:57:42.826Z"
      },
      {
        "duration": 111,
        "start_time": "2021-07-09T08:57:43.018Z"
      },
      {
        "duration": 112,
        "start_time": "2021-07-09T08:57:43.210Z"
      },
      {
        "duration": 1287,
        "start_time": "2021-07-09T08:57:43.325Z"
      },
      {
        "duration": 334,
        "start_time": "2021-07-09T08:57:44.615Z"
      },
      {
        "duration": 4,
        "start_time": "2021-07-09T08:57:44.952Z"
      },
      {
        "duration": 21,
        "start_time": "2021-07-09T08:57:44.959Z"
      },
      {
        "duration": 12,
        "start_time": "2021-07-09T08:57:44.982Z"
      },
      {
        "duration": 38,
        "start_time": "2021-07-09T08:57:44.997Z"
      },
      {
        "duration": 19,
        "start_time": "2021-07-09T08:57:45.038Z"
      },
      {
        "duration": 17,
        "start_time": "2021-07-09T08:57:45.059Z"
      },
      {
        "duration": 19,
        "start_time": "2021-07-09T08:57:45.079Z"
      },
      {
        "duration": 28,
        "start_time": "2021-07-09T08:57:45.101Z"
      },
      {
        "duration": 120,
        "start_time": "2021-07-09T08:57:45.132Z"
      },
      {
        "duration": 5366,
        "start_time": "2021-07-09T08:57:45.255Z"
      },
      {
        "duration": -727,
        "start_time": "2021-07-09T08:57:51.352Z"
      },
      {
        "duration": -728,
        "start_time": "2021-07-09T08:57:51.356Z"
      },
      {
        "duration": 6,
        "start_time": "2021-07-09T09:02:49.391Z"
      },
      {
        "duration": 5,
        "start_time": "2021-07-09T09:03:20.703Z"
      },
      {
        "duration": 9,
        "start_time": "2021-07-09T09:03:23.791Z"
      },
      {
        "duration": 11,
        "start_time": "2021-07-09T09:05:43.079Z"
      },
      {
        "duration": 16,
        "start_time": "2021-07-09T09:05:57.264Z"
      },
      {
        "duration": 5,
        "start_time": "2021-07-09T09:06:13.766Z"
      },
      {
        "duration": 13,
        "start_time": "2021-07-09T09:06:14.631Z"
      },
      {
        "duration": 13,
        "start_time": "2021-07-09T09:06:15.246Z"
      },
      {
        "duration": 13,
        "start_time": "2021-07-09T09:06:27.184Z"
      },
      {
        "duration": 488,
        "start_time": "2021-07-09T09:12:29.672Z"
      },
      {
        "duration": 15,
        "start_time": "2021-07-09T09:12:30.162Z"
      },
      {
        "duration": 5,
        "start_time": "2021-07-09T09:12:30.243Z"
      },
      {
        "duration": 25,
        "start_time": "2021-07-09T09:12:30.401Z"
      },
      {
        "duration": 95,
        "start_time": "2021-07-09T09:12:30.561Z"
      },
      {
        "duration": 21,
        "start_time": "2021-07-09T09:12:30.728Z"
      },
      {
        "duration": 1548,
        "start_time": "2021-07-09T09:12:30.888Z"
      },
      {
        "duration": 5,
        "start_time": "2021-07-09T09:12:32.439Z"
      },
      {
        "duration": 1138,
        "start_time": "2021-07-09T09:12:32.447Z"
      },
      {
        "duration": 1082,
        "start_time": "2021-07-09T09:12:33.588Z"
      },
      {
        "duration": 1229,
        "start_time": "2021-07-09T09:12:34.672Z"
      },
      {
        "duration": 104,
        "start_time": "2021-07-09T09:12:35.912Z"
      },
      {
        "duration": 105,
        "start_time": "2021-07-09T09:12:36.019Z"
      },
      {
        "duration": 104,
        "start_time": "2021-07-09T09:12:36.211Z"
      },
      {
        "duration": 93,
        "start_time": "2021-07-09T09:12:36.319Z"
      },
      {
        "duration": 1310,
        "start_time": "2021-07-09T09:12:36.415Z"
      },
      {
        "duration": 332,
        "start_time": "2021-07-09T09:12:37.727Z"
      },
      {
        "duration": 4,
        "start_time": "2021-07-09T09:12:38.061Z"
      },
      {
        "duration": 7,
        "start_time": "2021-07-09T09:12:38.067Z"
      },
      {
        "duration": 7,
        "start_time": "2021-07-09T09:12:38.076Z"
      },
      {
        "duration": 8,
        "start_time": "2021-07-09T09:12:38.113Z"
      },
      {
        "duration": 10,
        "start_time": "2021-07-09T09:12:38.124Z"
      },
      {
        "duration": 7,
        "start_time": "2021-07-09T09:12:38.136Z"
      },
      {
        "duration": 16,
        "start_time": "2021-07-09T09:12:38.146Z"
      },
      {
        "duration": 53,
        "start_time": "2021-07-09T09:12:38.164Z"
      },
      {
        "duration": 15,
        "start_time": "2021-07-09T09:12:38.219Z"
      },
      {
        "duration": 8,
        "start_time": "2021-07-09T09:12:38.237Z"
      },
      {
        "duration": 11,
        "start_time": "2021-07-09T09:12:38.248Z"
      },
      {
        "duration": 374,
        "start_time": "2021-07-09T09:13:28.424Z"
      },
      {
        "duration": 8,
        "start_time": "2021-07-09T09:13:39.264Z"
      },
      {
        "duration": 8,
        "start_time": "2021-07-09T09:13:45.953Z"
      },
      {
        "duration": 9,
        "start_time": "2021-07-09T09:13:56.728Z"
      },
      {
        "duration": 387,
        "start_time": "2021-07-09T09:13:57.377Z"
      },
      {
        "duration": 17,
        "start_time": "2021-07-09T09:14:07.209Z"
      },
      {
        "duration": 6,
        "start_time": "2021-07-09T09:14:46.241Z"
      },
      {
        "duration": 7,
        "start_time": "2021-07-09T09:15:01.602Z"
      },
      {
        "duration": 9,
        "start_time": "2021-07-09T09:15:31.409Z"
      },
      {
        "duration": 6,
        "start_time": "2021-07-09T09:15:37.449Z"
      },
      {
        "duration": 6,
        "start_time": "2021-07-09T09:16:46.202Z"
      },
      {
        "duration": 6,
        "start_time": "2021-07-09T09:16:53.441Z"
      },
      {
        "duration": 368,
        "start_time": "2021-07-09T09:17:36.643Z"
      },
      {
        "duration": 2083,
        "start_time": "2021-07-09T09:18:09.670Z"
      },
      {
        "duration": 17,
        "start_time": "2021-07-09T09:18:11.756Z"
      },
      {
        "duration": 7,
        "start_time": "2021-07-09T09:18:11.777Z"
      },
      {
        "duration": 45,
        "start_time": "2021-07-09T09:18:11.810Z"
      },
      {
        "duration": 105,
        "start_time": "2021-07-09T09:18:11.858Z"
      },
      {
        "duration": 20,
        "start_time": "2021-07-09T09:18:11.966Z"
      },
      {
        "duration": 1665,
        "start_time": "2021-07-09T09:18:11.989Z"
      },
      {
        "duration": 5,
        "start_time": "2021-07-09T09:18:13.657Z"
      },
      {
        "duration": 1227,
        "start_time": "2021-07-09T09:18:13.665Z"
      },
      {
        "duration": 1106,
        "start_time": "2021-07-09T09:18:14.894Z"
      },
      {
        "duration": 1166,
        "start_time": "2021-07-09T09:18:16.009Z"
      },
      {
        "duration": 140,
        "start_time": "2021-07-09T09:18:17.178Z"
      },
      {
        "duration": 105,
        "start_time": "2021-07-09T09:18:17.409Z"
      },
      {
        "duration": 100,
        "start_time": "2021-07-09T09:18:17.526Z"
      },
      {
        "duration": 97,
        "start_time": "2021-07-09T09:18:17.629Z"
      },
      {
        "duration": 1382,
        "start_time": "2021-07-09T09:18:17.730Z"
      },
      {
        "duration": 337,
        "start_time": "2021-07-09T09:18:19.115Z"
      },
      {
        "duration": 3,
        "start_time": "2021-07-09T09:18:19.454Z"
      },
      {
        "duration": 6,
        "start_time": "2021-07-09T09:18:19.460Z"
      },
      {
        "duration": 9,
        "start_time": "2021-07-09T09:18:19.468Z"
      },
      {
        "duration": 571,
        "start_time": "2021-07-09T09:18:19.480Z"
      },
      {
        "duration": -714,
        "start_time": "2021-07-09T09:18:20.885Z"
      },
      {
        "duration": -720,
        "start_time": "2021-07-09T09:18:20.893Z"
      },
      {
        "duration": -727,
        "start_time": "2021-07-09T09:18:20.902Z"
      },
      {
        "duration": -728,
        "start_time": "2021-07-09T09:18:20.905Z"
      },
      {
        "duration": -735,
        "start_time": "2021-07-09T09:18:20.913Z"
      },
      {
        "duration": -736,
        "start_time": "2021-07-09T09:18:20.916Z"
      },
      {
        "duration": -741,
        "start_time": "2021-07-09T09:18:20.922Z"
      },
      {
        "duration": -748,
        "start_time": "2021-07-09T09:18:20.930Z"
      },
      {
        "duration": -748,
        "start_time": "2021-07-09T09:18:20.932Z"
      },
      {
        "duration": -750,
        "start_time": "2021-07-09T09:18:20.935Z"
      },
      {
        "duration": -750,
        "start_time": "2021-07-09T09:18:20.937Z"
      },
      {
        "duration": -730,
        "start_time": "2021-07-09T09:18:20.938Z"
      },
      {
        "duration": -736,
        "start_time": "2021-07-09T09:18:20.946Z"
      },
      {
        "duration": -735,
        "start_time": "2021-07-09T09:18:20.948Z"
      },
      {
        "duration": -736,
        "start_time": "2021-07-09T09:18:20.951Z"
      },
      {
        "duration": -736,
        "start_time": "2021-07-09T09:18:20.953Z"
      },
      {
        "duration": 6,
        "start_time": "2021-07-09T09:18:39.524Z"
      },
      {
        "duration": 8,
        "start_time": "2021-07-09T09:18:39.981Z"
      },
      {
        "duration": 8,
        "start_time": "2021-07-09T09:18:40.427Z"
      },
      {
        "duration": 8,
        "start_time": "2021-07-09T09:18:42.292Z"
      },
      {
        "duration": 361,
        "start_time": "2021-07-09T09:18:43.131Z"
      },
      {
        "duration": 9,
        "start_time": "2021-07-09T09:18:43.635Z"
      },
      {
        "duration": 5,
        "start_time": "2021-07-09T09:19:08.788Z"
      },
      {
        "duration": 6,
        "start_time": "2021-07-09T09:19:19.547Z"
      },
      {
        "duration": 8,
        "start_time": "2021-07-09T09:19:23.935Z"
      },
      {
        "duration": 14,
        "start_time": "2021-07-09T09:19:30.108Z"
      },
      {
        "duration": 9,
        "start_time": "2021-07-09T09:19:40.571Z"
      },
      {
        "duration": 11,
        "start_time": "2021-07-09T09:19:46.109Z"
      },
      {
        "duration": 8,
        "start_time": "2021-07-09T09:21:12.330Z"
      },
      {
        "duration": 8,
        "start_time": "2021-07-09T09:21:18.891Z"
      },
      {
        "duration": 10,
        "start_time": "2021-07-09T09:21:28.421Z"
      },
      {
        "duration": 11,
        "start_time": "2021-07-09T09:23:24.477Z"
      },
      {
        "duration": 7,
        "start_time": "2021-07-09T09:23:34.709Z"
      },
      {
        "duration": 354,
        "start_time": "2021-07-09T09:23:47.493Z"
      },
      {
        "duration": 7,
        "start_time": "2021-07-09T09:23:47.989Z"
      },
      {
        "duration": 18,
        "start_time": "2021-07-09T09:27:30.862Z"
      },
      {
        "duration": 17,
        "start_time": "2021-07-09T09:27:38.294Z"
      },
      {
        "duration": 18,
        "start_time": "2021-07-09T09:27:54.805Z"
      },
      {
        "duration": 8,
        "start_time": "2021-07-09T09:28:09.374Z"
      },
      {
        "duration": 845,
        "start_time": "2021-07-09T09:31:44.927Z"
      },
      {
        "duration": 410,
        "start_time": "2021-07-09T09:31:54.016Z"
      },
      {
        "duration": 1773,
        "start_time": "2021-07-09T09:32:14.864Z"
      },
      {
        "duration": 11,
        "start_time": "2021-07-09T09:33:54.151Z"
      },
      {
        "duration": 382,
        "start_time": "2021-07-09T09:35:28.120Z"
      },
      {
        "duration": 12,
        "start_time": "2021-07-09T09:39:58.594Z"
      },
      {
        "duration": 18,
        "start_time": "2021-07-09T09:40:04.586Z"
      },
      {
        "duration": 10,
        "start_time": "2021-07-09T09:40:10.609Z"
      },
      {
        "duration": 12,
        "start_time": "2021-07-09T09:40:11.266Z"
      },
      {
        "duration": 7,
        "start_time": "2021-07-09T10:02:50.391Z"
      },
      {
        "duration": 6,
        "start_time": "2021-07-09T10:03:09.405Z"
      },
      {
        "duration": 5,
        "start_time": "2021-07-09T10:03:39.703Z"
      },
      {
        "duration": 8,
        "start_time": "2021-07-09T10:04:06.160Z"
      },
      {
        "duration": 15,
        "start_time": "2021-07-09T10:04:15.752Z"
      },
      {
        "duration": 8,
        "start_time": "2021-07-09T10:04:16.280Z"
      },
      {
        "duration": 14,
        "start_time": "2021-07-09T10:04:22.503Z"
      },
      {
        "duration": 7,
        "start_time": "2021-07-09T10:04:33.464Z"
      },
      {
        "duration": 15,
        "start_time": "2021-07-09T10:05:31.617Z"
      },
      {
        "duration": 5,
        "start_time": "2021-07-09T10:07:23.856Z"
      },
      {
        "duration": 6,
        "start_time": "2021-07-09T10:07:46.264Z"
      },
      {
        "duration": 6,
        "start_time": "2021-07-09T10:09:47.778Z"
      },
      {
        "duration": 10,
        "start_time": "2021-07-09T10:11:03.542Z"
      },
      {
        "duration": 10,
        "start_time": "2021-07-09T10:11:10.849Z"
      },
      {
        "duration": 7,
        "start_time": "2021-07-09T10:11:16.186Z"
      },
      {
        "duration": 7,
        "start_time": "2021-07-09T10:11:30.612Z"
      },
      {
        "duration": 5,
        "start_time": "2021-07-09T10:12:38.970Z"
      },
      {
        "duration": 12,
        "start_time": "2021-07-09T10:12:39.554Z"
      },
      {
        "duration": 13,
        "start_time": "2021-07-09T10:12:40.131Z"
      },
      {
        "duration": 11,
        "start_time": "2021-07-09T10:12:40.840Z"
      },
      {
        "duration": 6080,
        "start_time": "2021-07-09T10:12:55.475Z"
      },
      {
        "duration": 7,
        "start_time": "2021-07-09T10:13:42.938Z"
      },
      {
        "duration": 17,
        "start_time": "2021-07-09T10:13:43.468Z"
      },
      {
        "duration": 17,
        "start_time": "2021-07-09T10:13:44.131Z"
      },
      {
        "duration": 19,
        "start_time": "2021-07-09T10:13:44.611Z"
      },
      {
        "duration": 7,
        "start_time": "2021-07-09T10:13:44.842Z"
      },
      {
        "duration": 372,
        "start_time": "2021-07-09T10:14:20.586Z"
      },
      {
        "duration": 5,
        "start_time": "2021-07-09T10:14:30.155Z"
      },
      {
        "duration": 3,
        "start_time": "2021-07-09T10:14:30.658Z"
      },
      {
        "duration": 6,
        "start_time": "2021-07-09T10:14:31.618Z"
      },
      {
        "duration": 4,
        "start_time": "2021-07-09T10:14:38.354Z"
      },
      {
        "duration": 5,
        "start_time": "2021-07-09T10:14:38.731Z"
      },
      {
        "duration": 16,
        "start_time": "2021-07-09T10:14:40.297Z"
      },
      {
        "duration": 3,
        "start_time": "2021-07-09T10:16:46.859Z"
      },
      {
        "duration": 16,
        "start_time": "2021-07-09T10:16:52.299Z"
      },
      {
        "duration": 6,
        "start_time": "2021-07-09T10:17:26.594Z"
      },
      {
        "duration": 16,
        "start_time": "2021-07-09T10:17:31.427Z"
      },
      {
        "duration": 803,
        "start_time": "2021-07-09T10:19:47.828Z"
      },
      {
        "duration": 811,
        "start_time": "2021-07-09T10:19:48.635Z"
      },
      {
        "duration": 811,
        "start_time": "2021-07-09T10:19:49.995Z"
      },
      {
        "duration": 5,
        "start_time": "2021-07-09T10:20:12.460Z"
      },
      {
        "duration": 1540,
        "start_time": "2021-07-09T10:20:12.948Z"
      },
      {
        "duration": 1305,
        "start_time": "2021-07-09T10:20:15.332Z"
      },
      {
        "duration": 1502,
        "start_time": "2021-07-09T10:20:18.932Z"
      },
      {
        "duration": 18,
        "start_time": "2021-07-09T10:21:27.179Z"
      },
      {
        "duration": 15,
        "start_time": "2021-07-09T10:21:30.492Z"
      },
      {
        "duration": 13,
        "start_time": "2021-07-09T10:21:31.043Z"
      },
      {
        "duration": 14,
        "start_time": "2021-07-09T10:21:44.348Z"
      },
      {
        "duration": 19,
        "start_time": "2021-07-09T10:21:44.820Z"
      },
      {
        "duration": 19,
        "start_time": "2021-07-09T10:21:45.588Z"
      },
      {
        "duration": 18,
        "start_time": "2021-07-09T10:22:07.052Z"
      },
      {
        "duration": 14,
        "start_time": "2021-07-09T10:22:17.495Z"
      },
      {
        "duration": 16,
        "start_time": "2021-07-09T10:22:56.020Z"
      },
      {
        "duration": 14,
        "start_time": "2021-07-09T10:23:50.549Z"
      },
      {
        "duration": 4,
        "start_time": "2021-07-09T10:24:37.996Z"
      },
      {
        "duration": 3,
        "start_time": "2021-07-09T10:24:38.237Z"
      },
      {
        "duration": 4,
        "start_time": "2021-07-09T10:24:38.421Z"
      },
      {
        "duration": 16,
        "start_time": "2021-07-09T10:24:38.876Z"
      },
      {
        "duration": 5,
        "start_time": "2021-07-09T10:24:40.254Z"
      },
      {
        "duration": 12,
        "start_time": "2021-07-09T10:24:40.861Z"
      },
      {
        "duration": 12,
        "start_time": "2021-07-09T10:24:41.164Z"
      },
      {
        "duration": 12,
        "start_time": "2021-07-09T10:24:41.629Z"
      },
      {
        "duration": 7,
        "start_time": "2021-07-09T10:26:36.926Z"
      },
      {
        "duration": 685,
        "start_time": "2021-07-09T10:26:39.085Z"
      },
      {
        "duration": 7,
        "start_time": "2021-07-09T10:27:12.997Z"
      },
      {
        "duration": 1162,
        "start_time": "2021-07-09T10:27:14.589Z"
      },
      {
        "duration": 9,
        "start_time": "2021-07-09T10:28:14.413Z"
      },
      {
        "duration": 11,
        "start_time": "2021-07-09T10:28:15.134Z"
      },
      {
        "duration": 706,
        "start_time": "2021-07-09T10:28:16.032Z"
      },
      {
        "duration": 8,
        "start_time": "2021-07-09T10:28:39.070Z"
      },
      {
        "duration": 1220,
        "start_time": "2021-07-09T10:28:39.614Z"
      },
      {
        "duration": 6,
        "start_time": "2021-07-09T10:29:34.838Z"
      },
      {
        "duration": 8,
        "start_time": "2021-07-09T10:29:35.205Z"
      },
      {
        "duration": 4987,
        "start_time": "2021-07-09T10:29:35.602Z"
      },
      {
        "duration": 5004,
        "start_time": "2021-07-09T10:30:09.165Z"
      },
      {
        "duration": 5,
        "start_time": "2021-07-09T10:31:47.821Z"
      },
      {
        "duration": 8,
        "start_time": "2021-07-09T10:31:48.229Z"
      },
      {
        "duration": 4876,
        "start_time": "2021-07-09T10:31:48.719Z"
      },
      {
        "duration": 131,
        "start_time": "2021-07-09T10:33:02.230Z"
      },
      {
        "duration": 136,
        "start_time": "2021-07-09T10:33:07.280Z"
      },
      {
        "duration": 6,
        "start_time": "2021-07-09T10:33:12.678Z"
      },
      {
        "duration": 13,
        "start_time": "2021-07-09T10:33:14.748Z"
      },
      {
        "duration": 351,
        "start_time": "2021-07-09T10:33:16.070Z"
      },
      {
        "duration": 13,
        "start_time": "2021-07-09T10:33:27.094Z"
      },
      {
        "duration": 19,
        "start_time": "2021-07-09T10:33:33.399Z"
      },
      {
        "duration": 8,
        "start_time": "2021-07-09T10:34:18.767Z"
      },
      {
        "duration": 4620,
        "start_time": "2021-07-09T10:34:20.009Z"
      },
      {
        "duration": 7,
        "start_time": "2021-07-09T10:35:53.367Z"
      },
      {
        "duration": 4901,
        "start_time": "2021-07-09T10:35:54.837Z"
      },
      {
        "duration": 5,
        "start_time": "2021-07-09T10:37:02.335Z"
      },
      {
        "duration": 3,
        "start_time": "2021-07-09T10:37:02.586Z"
      },
      {
        "duration": 5,
        "start_time": "2021-07-09T10:37:02.808Z"
      },
      {
        "duration": 15,
        "start_time": "2021-07-09T10:37:03.240Z"
      },
      {
        "duration": 5,
        "start_time": "2021-07-09T10:37:03.774Z"
      },
      {
        "duration": 13,
        "start_time": "2021-07-09T10:37:04.271Z"
      },
      {
        "duration": 19,
        "start_time": "2021-07-09T10:37:04.799Z"
      },
      {
        "duration": 20,
        "start_time": "2021-07-09T10:37:05.207Z"
      },
      {
        "duration": 11,
        "start_time": "2021-07-09T10:37:05.720Z"
      },
      {
        "duration": 6892,
        "start_time": "2021-07-09T10:37:07.335Z"
      },
      {
        "duration": 9578,
        "start_time": "2021-07-09T10:38:28.206Z"
      },
      {
        "duration": 14,
        "start_time": "2021-07-09T10:39:00.025Z"
      },
      {
        "duration": 6,
        "start_time": "2021-07-09T10:39:15.056Z"
      },
      {
        "duration": 814,
        "start_time": "2021-07-09T10:39:31.744Z"
      },
      {
        "duration": 683,
        "start_time": "2021-07-09T10:39:57.826Z"
      },
      {
        "duration": 6,
        "start_time": "2021-07-09T10:40:03.959Z"
      },
      {
        "duration": 13,
        "start_time": "2021-07-09T10:40:04.160Z"
      },
      {
        "duration": 15,
        "start_time": "2021-07-09T10:40:04.361Z"
      },
      {
        "duration": 12,
        "start_time": "2021-07-09T10:40:04.558Z"
      },
      {
        "duration": 7,
        "start_time": "2021-07-09T10:40:04.752Z"
      },
      {
        "duration": 5,
        "start_time": "2021-07-09T10:40:04.936Z"
      },
      {
        "duration": 683,
        "start_time": "2021-07-09T10:40:05.160Z"
      },
      {
        "duration": 4655,
        "start_time": "2021-07-09T10:40:38.689Z"
      },
      {
        "duration": 17,
        "start_time": "2021-07-09T10:40:49.721Z"
      },
      {
        "duration": 5,
        "start_time": "2021-07-09T10:41:38.706Z"
      },
      {
        "duration": 4,
        "start_time": "2021-07-09T10:41:38.996Z"
      },
      {
        "duration": 7,
        "start_time": "2021-07-09T10:41:39.208Z"
      },
      {
        "duration": 16,
        "start_time": "2021-07-09T10:41:40.151Z"
      },
      {
        "duration": 5,
        "start_time": "2021-07-09T10:41:41.295Z"
      },
      {
        "duration": 13,
        "start_time": "2021-07-09T10:41:45.384Z"
      },
      {
        "duration": 12,
        "start_time": "2021-07-09T10:41:46.040Z"
      },
      {
        "duration": 13,
        "start_time": "2021-07-09T10:41:46.496Z"
      },
      {
        "duration": 8,
        "start_time": "2021-07-09T10:41:47.184Z"
      },
      {
        "duration": 16,
        "start_time": "2021-07-09T10:41:48.336Z"
      },
      {
        "duration": 4820,
        "start_time": "2021-07-09T10:41:49.824Z"
      },
      {
        "duration": 2174,
        "start_time": "2021-07-09T10:42:12.725Z"
      },
      {
        "duration": 24,
        "start_time": "2021-07-09T10:42:14.902Z"
      },
      {
        "duration": 8,
        "start_time": "2021-07-09T10:42:14.930Z"
      },
      {
        "duration": 42,
        "start_time": "2021-07-09T10:42:14.943Z"
      },
      {
        "duration": 107,
        "start_time": "2021-07-09T10:42:15.022Z"
      },
      {
        "duration": 22,
        "start_time": "2021-07-09T10:42:15.132Z"
      },
      {
        "duration": 1588,
        "start_time": "2021-07-09T10:42:15.156Z"
      },
      {
        "duration": 5,
        "start_time": "2021-07-09T10:42:16.747Z"
      },
      {
        "duration": 1728,
        "start_time": "2021-07-09T10:42:16.758Z"
      },
      {
        "duration": 1303,
        "start_time": "2021-07-09T10:42:18.489Z"
      },
      {
        "duration": 1681,
        "start_time": "2021-07-09T10:42:19.794Z"
      },
      {
        "duration": 236,
        "start_time": "2021-07-09T10:42:21.478Z"
      },
      {
        "duration": 106,
        "start_time": "2021-07-09T10:42:21.720Z"
      },
      {
        "duration": 86,
        "start_time": "2021-07-09T10:42:21.829Z"
      },
      {
        "duration": 108,
        "start_time": "2021-07-09T10:42:21.920Z"
      },
      {
        "duration": 100,
        "start_time": "2021-07-09T10:42:22.109Z"
      },
      {
        "duration": 341,
        "start_time": "2021-07-09T10:42:22.212Z"
      },
      {
        "duration": 4,
        "start_time": "2021-07-09T10:42:22.556Z"
      },
      {
        "duration": 523,
        "start_time": "2021-07-09T10:42:22.562Z"
      },
      {
        "duration": -685,
        "start_time": "2021-07-09T10:42:23.773Z"
      },
      {
        "duration": -688,
        "start_time": "2021-07-09T10:42:23.778Z"
      },
      {
        "duration": -691,
        "start_time": "2021-07-09T10:42:23.783Z"
      },
      {
        "duration": -701,
        "start_time": "2021-07-09T10:42:23.794Z"
      },
      {
        "duration": -703,
        "start_time": "2021-07-09T10:42:23.797Z"
      },
      {
        "duration": -703,
        "start_time": "2021-07-09T10:42:23.799Z"
      },
      {
        "duration": -703,
        "start_time": "2021-07-09T10:42:23.801Z"
      },
      {
        "duration": -704,
        "start_time": "2021-07-09T10:42:23.803Z"
      },
      {
        "duration": -705,
        "start_time": "2021-07-09T10:42:23.805Z"
      },
      {
        "duration": -705,
        "start_time": "2021-07-09T10:42:23.807Z"
      },
      {
        "duration": 4,
        "start_time": "2021-07-09T10:44:34.009Z"
      },
      {
        "duration": 6,
        "start_time": "2021-07-09T10:44:34.896Z"
      },
      {
        "duration": 20,
        "start_time": "2021-07-09T10:44:36.465Z"
      },
      {
        "duration": 5,
        "start_time": "2021-07-09T10:44:36.905Z"
      },
      {
        "duration": 18,
        "start_time": "2021-07-09T10:44:37.211Z"
      },
      {
        "duration": 16,
        "start_time": "2021-07-09T10:44:37.482Z"
      },
      {
        "duration": 14,
        "start_time": "2021-07-09T10:44:37.688Z"
      },
      {
        "duration": 11,
        "start_time": "2021-07-09T10:44:37.897Z"
      },
      {
        "duration": 16,
        "start_time": "2021-07-09T10:44:38.240Z"
      },
      {
        "duration": 5370,
        "start_time": "2021-07-09T10:44:38.600Z"
      },
      {
        "duration": 6924,
        "start_time": "2021-07-09T10:44:43.974Z"
      },
      {
        "duration": 4,
        "start_time": "2021-07-09T10:45:40.474Z"
      },
      {
        "duration": 4,
        "start_time": "2021-07-09T10:45:40.650Z"
      },
      {
        "duration": 5,
        "start_time": "2021-07-09T10:45:40.835Z"
      },
      {
        "duration": 22,
        "start_time": "2021-07-09T10:45:41.204Z"
      },
      {
        "duration": 5,
        "start_time": "2021-07-09T10:45:41.545Z"
      },
      {
        "duration": 17,
        "start_time": "2021-07-09T10:45:41.729Z"
      },
      {
        "duration": 20,
        "start_time": "2021-07-09T10:45:41.914Z"
      },
      {
        "duration": 13,
        "start_time": "2021-07-09T10:45:42.088Z"
      },
      {
        "duration": 8,
        "start_time": "2021-07-09T10:45:42.273Z"
      },
      {
        "duration": 13,
        "start_time": "2021-07-09T10:45:42.441Z"
      },
      {
        "duration": 4635,
        "start_time": "2021-07-09T10:45:42.625Z"
      },
      {
        "duration": 6469,
        "start_time": "2021-07-09T10:45:47.263Z"
      },
      {
        "duration": 4,
        "start_time": "2021-07-09T10:48:28.931Z"
      },
      {
        "duration": 4,
        "start_time": "2021-07-09T10:48:29.337Z"
      },
      {
        "duration": 6,
        "start_time": "2021-07-09T10:48:29.729Z"
      },
      {
        "duration": 15,
        "start_time": "2021-07-09T10:48:30.642Z"
      },
      {
        "duration": 5,
        "start_time": "2021-07-09T10:48:31.704Z"
      },
      {
        "duration": 12,
        "start_time": "2021-07-09T10:48:32.194Z"
      },
      {
        "duration": 14,
        "start_time": "2021-07-09T10:48:32.746Z"
      },
      {
        "duration": 13,
        "start_time": "2021-07-09T10:48:33.282Z"
      },
      {
        "duration": 7,
        "start_time": "2021-07-09T10:48:33.825Z"
      },
      {
        "duration": 13,
        "start_time": "2021-07-09T10:48:34.378Z"
      },
      {
        "duration": 5035,
        "start_time": "2021-07-09T10:48:34.906Z"
      },
      {
        "duration": 7,
        "start_time": "2021-07-09T10:50:02.339Z"
      },
      {
        "duration": 14,
        "start_time": "2021-07-09T10:50:03.057Z"
      },
      {
        "duration": 5500,
        "start_time": "2021-07-09T10:50:03.690Z"
      },
      {
        "duration": 7,
        "start_time": "2021-07-09T10:50:29.942Z"
      },
      {
        "duration": 17,
        "start_time": "2021-07-09T10:50:30.607Z"
      },
      {
        "duration": 4758,
        "start_time": "2021-07-09T10:50:30.628Z"
      },
      {
        "duration": 16,
        "start_time": "2021-07-09T10:51:15.338Z"
      },
      {
        "duration": 6,
        "start_time": "2021-07-09T10:51:16.650Z"
      },
      {
        "duration": 12,
        "start_time": "2021-07-09T10:51:17.148Z"
      },
      {
        "duration": 18,
        "start_time": "2021-07-09T10:51:18.010Z"
      },
      {
        "duration": 12,
        "start_time": "2021-07-09T10:51:18.042Z"
      },
      {
        "duration": 8,
        "start_time": "2021-07-09T10:51:18.634Z"
      },
      {
        "duration": 14,
        "start_time": "2021-07-09T10:51:19.130Z"
      },
      {
        "duration": 4723,
        "start_time": "2021-07-09T10:51:19.667Z"
      },
      {
        "duration": 6,
        "start_time": "2021-07-09T10:53:35.429Z"
      },
      {
        "duration": 16,
        "start_time": "2021-07-09T10:53:35.948Z"
      },
      {
        "duration": 4844,
        "start_time": "2021-07-09T10:53:36.509Z"
      },
      {
        "duration": 18,
        "start_time": "2021-07-09T10:54:30.459Z"
      },
      {
        "duration": 4691,
        "start_time": "2021-07-09T10:55:04.595Z"
      },
      {
        "duration": 4,
        "start_time": "2021-07-09T10:55:28.723Z"
      },
      {
        "duration": 8,
        "start_time": "2021-07-09T10:55:28.907Z"
      },
      {
        "duration": 5,
        "start_time": "2021-07-09T10:55:29.387Z"
      },
      {
        "duration": 15,
        "start_time": "2021-07-09T10:55:29.475Z"
      },
      {
        "duration": 5,
        "start_time": "2021-07-09T10:55:29.892Z"
      },
      {
        "duration": 13,
        "start_time": "2021-07-09T10:55:30.091Z"
      },
      {
        "duration": 19,
        "start_time": "2021-07-09T10:55:30.299Z"
      },
      {
        "duration": 12,
        "start_time": "2021-07-09T10:55:30.531Z"
      },
      {
        "duration": 6,
        "start_time": "2021-07-09T10:55:30.755Z"
      },
      {
        "duration": 4940,
        "start_time": "2021-07-09T10:55:31.340Z"
      },
      {
        "duration": 34,
        "start_time": "2021-07-09T10:55:36.282Z"
      },
      {
        "duration": 4739,
        "start_time": "2021-07-09T10:55:36.320Z"
      },
      {
        "duration": 18,
        "start_time": "2021-07-09T10:55:57.827Z"
      },
      {
        "duration": 5,
        "start_time": "2021-07-09T10:55:58.428Z"
      },
      {
        "duration": 16,
        "start_time": "2021-07-09T10:55:58.603Z"
      },
      {
        "duration": 16,
        "start_time": "2021-07-09T10:55:58.817Z"
      },
      {
        "duration": 12,
        "start_time": "2021-07-09T10:55:58.995Z"
      },
      {
        "duration": 6,
        "start_time": "2021-07-09T10:55:59.195Z"
      },
      {
        "duration": 5327,
        "start_time": "2021-07-09T10:55:59.386Z"
      },
      {
        "duration": 19,
        "start_time": "2021-07-09T10:56:04.716Z"
      },
      {
        "duration": 4760,
        "start_time": "2021-07-09T10:56:04.739Z"
      },
      {
        "duration": 25,
        "start_time": "2021-07-09T10:56:32.597Z"
      },
      {
        "duration": 2235,
        "start_time": "2021-07-09T10:57:10.074Z"
      },
      {
        "duration": 16,
        "start_time": "2021-07-09T10:57:12.314Z"
      },
      {
        "duration": 6,
        "start_time": "2021-07-09T10:57:12.334Z"
      },
      {
        "duration": 34,
        "start_time": "2021-07-09T10:57:12.344Z"
      },
      {
        "duration": 145,
        "start_time": "2021-07-09T10:57:12.381Z"
      },
      {
        "duration": 21,
        "start_time": "2021-07-09T10:57:12.529Z"
      },
      {
        "duration": 1686,
        "start_time": "2021-07-09T10:57:12.553Z"
      },
      {
        "duration": 5,
        "start_time": "2021-07-09T10:57:14.242Z"
      },
      {
        "duration": 1548,
        "start_time": "2021-07-09T10:57:14.251Z"
      },
      {
        "duration": 1500,
        "start_time": "2021-07-09T10:57:15.803Z"
      },
      {
        "duration": 1352,
        "start_time": "2021-07-09T10:57:17.310Z"
      },
      {
        "duration": 112,
        "start_time": "2021-07-09T10:57:18.664Z"
      },
      {
        "duration": 21,
        "start_time": "2021-07-09T10:57:18.813Z"
      },
      {
        "duration": 106,
        "start_time": "2021-07-09T10:57:18.913Z"
      },
      {
        "duration": 96,
        "start_time": "2021-07-09T10:57:19.021Z"
      },
      {
        "duration": 423,
        "start_time": "2021-07-09T10:57:19.122Z"
      },
      {
        "duration": 3,
        "start_time": "2021-07-09T10:57:19.548Z"
      },
      {
        "duration": 9,
        "start_time": "2021-07-09T10:57:19.553Z"
      },
      {
        "duration": 9,
        "start_time": "2021-07-09T10:57:19.564Z"
      },
      {
        "duration": 570,
        "start_time": "2021-07-09T10:57:19.575Z"
      },
      {
        "duration": -707,
        "start_time": "2021-07-09T10:57:20.855Z"
      },
      {
        "duration": -707,
        "start_time": "2021-07-09T10:57:20.857Z"
      },
      {
        "duration": -708,
        "start_time": "2021-07-09T10:57:20.860Z"
      },
      {
        "duration": -709,
        "start_time": "2021-07-09T10:57:20.862Z"
      },
      {
        "duration": -708,
        "start_time": "2021-07-09T10:57:20.863Z"
      },
      {
        "duration": -707,
        "start_time": "2021-07-09T10:57:20.864Z"
      },
      {
        "duration": -707,
        "start_time": "2021-07-09T10:57:20.866Z"
      },
      {
        "duration": -707,
        "start_time": "2021-07-09T10:57:20.867Z"
      },
      {
        "duration": -708,
        "start_time": "2021-07-09T10:57:20.869Z"
      },
      {
        "duration": -707,
        "start_time": "2021-07-09T10:57:20.870Z"
      },
      {
        "duration": 14,
        "start_time": "2021-07-09T10:57:33.238Z"
      },
      {
        "duration": 7,
        "start_time": "2021-07-09T10:57:34.213Z"
      },
      {
        "duration": 14,
        "start_time": "2021-07-09T10:57:34.693Z"
      },
      {
        "duration": 14,
        "start_time": "2021-07-09T10:57:35.190Z"
      },
      {
        "duration": 16,
        "start_time": "2021-07-09T10:57:35.606Z"
      },
      {
        "duration": 7,
        "start_time": "2021-07-09T10:57:36.270Z"
      },
      {
        "duration": 335,
        "start_time": "2021-07-09T10:57:38.894Z"
      },
      {
        "duration": 459,
        "start_time": "2021-07-09T10:57:49.214Z"
      },
      {
        "duration": 16,
        "start_time": "2021-07-09T10:58:01.471Z"
      },
      {
        "duration": 359,
        "start_time": "2021-07-09T10:58:05.822Z"
      },
      {
        "duration": 5437,
        "start_time": "2021-07-09T10:58:10.757Z"
      },
      {
        "duration": 402,
        "start_time": "2021-07-09T11:00:46.791Z"
      },
      {
        "duration": 1060,
        "start_time": "2021-07-09T11:01:04.039Z"
      },
      {
        "duration": 1082,
        "start_time": "2021-07-09T11:01:28.638Z"
      },
      {
        "duration": 11,
        "start_time": "2021-07-09T11:06:11.312Z"
      },
      {
        "duration": 9,
        "start_time": "2021-07-09T11:07:16.841Z"
      },
      {
        "duration": 675,
        "start_time": "2021-07-09T11:07:21.425Z"
      },
      {
        "duration": 106,
        "start_time": "2021-07-09T11:08:01.489Z"
      },
      {
        "duration": 14,
        "start_time": "2021-07-09T11:08:01.824Z"
      },
      {
        "duration": 15,
        "start_time": "2021-07-09T11:08:02.337Z"
      },
      {
        "duration": 12,
        "start_time": "2021-07-09T11:08:02.568Z"
      },
      {
        "duration": 8,
        "start_time": "2021-07-09T11:08:02.761Z"
      },
      {
        "duration": 1121,
        "start_time": "2021-07-09T11:08:02.937Z"
      },
      {
        "duration": 1226,
        "start_time": "2021-07-09T11:08:04.061Z"
      },
      {
        "duration": 33,
        "start_time": "2021-07-09T11:08:05.290Z"
      },
      {
        "duration": 5026,
        "start_time": "2021-07-09T11:08:05.326Z"
      },
      {
        "duration": 7,
        "start_time": "2021-07-09T11:08:10.355Z"
      },
      {
        "duration": 754,
        "start_time": "2021-07-09T11:08:10.365Z"
      },
      {
        "duration": 5,
        "start_time": "2021-07-09T11:08:39.584Z"
      },
      {
        "duration": 8,
        "start_time": "2021-07-09T11:08:40.168Z"
      },
      {
        "duration": 3166,
        "start_time": "2021-07-09T11:08:41.169Z"
      },
      {
        "duration": 3166,
        "start_time": "2021-07-09T11:09:04.305Z"
      },
      {
        "duration": 3052,
        "start_time": "2021-07-09T11:09:18.105Z"
      },
      {
        "duration": 5,
        "start_time": "2021-07-09T11:10:39.353Z"
      },
      {
        "duration": 369,
        "start_time": "2021-07-09T11:10:40.737Z"
      },
      {
        "duration": 338,
        "start_time": "2021-07-09T11:10:41.169Z"
      },
      {
        "duration": 330,
        "start_time": "2021-07-09T11:10:41.977Z"
      },
      {
        "duration": 7,
        "start_time": "2021-07-09T11:10:44.973Z"
      },
      {
        "duration": 8,
        "start_time": "2021-07-09T11:11:55.945Z"
      },
      {
        "duration": 3503,
        "start_time": "2021-07-09T11:11:56.667Z"
      },
      {
        "duration": 14,
        "start_time": "2021-07-09T11:14:15.058Z"
      },
      {
        "duration": 206,
        "start_time": "2021-07-09T11:15:03.426Z"
      },
      {
        "duration": 12,
        "start_time": "2021-07-09T11:15:54.274Z"
      },
      {
        "duration": 13,
        "start_time": "2021-07-09T11:15:54.689Z"
      },
      {
        "duration": 17,
        "start_time": "2021-07-09T11:15:55.130Z"
      },
      {
        "duration": 7,
        "start_time": "2021-07-09T11:15:58.553Z"
      },
      {
        "duration": 3620,
        "start_time": "2021-07-09T11:15:59.130Z"
      },
      {
        "duration": 3710,
        "start_time": "2021-07-09T11:16:19.411Z"
      },
      {
        "duration": 1083,
        "start_time": "2021-07-09T11:17:47.907Z"
      },
      {
        "duration": 1146,
        "start_time": "2021-07-09T11:17:48.993Z"
      },
      {
        "duration": 15,
        "start_time": "2021-07-09T11:17:50.142Z"
      },
      {
        "duration": 5165,
        "start_time": "2021-07-09T11:17:50.160Z"
      },
      {
        "duration": -688,
        "start_time": "2021-07-09T11:17:56.017Z"
      },
      {
        "duration": -691,
        "start_time": "2021-07-09T11:17:56.021Z"
      },
      {
        "duration": -693,
        "start_time": "2021-07-09T11:17:56.025Z"
      },
      {
        "duration": 5630,
        "start_time": "2021-07-09T11:18:11.614Z"
      },
      {
        "duration": -684,
        "start_time": "2021-07-09T11:18:17.930Z"
      },
      {
        "duration": -686,
        "start_time": "2021-07-09T11:18:17.934Z"
      },
      {
        "duration": -688,
        "start_time": "2021-07-09T11:18:17.937Z"
      },
      {
        "duration": 7,
        "start_time": "2021-07-09T11:18:21.938Z"
      },
      {
        "duration": 7,
        "start_time": "2021-07-09T11:18:22.395Z"
      },
      {
        "duration": 3198,
        "start_time": "2021-07-09T11:18:23.089Z"
      },
      {
        "duration": 161,
        "start_time": "2021-07-09T11:18:26.290Z"
      },
      {
        "duration": 3117,
        "start_time": "2021-07-09T11:19:08.260Z"
      },
      {
        "duration": 6,
        "start_time": "2021-07-09T11:19:11.380Z"
      },
      {
        "duration": 3655,
        "start_time": "2021-07-09T11:19:11.692Z"
      },
      {
        "duration": 1374,
        "start_time": "2021-07-09T11:20:59.060Z"
      },
      {
        "duration": 1542,
        "start_time": "2021-07-09T11:21:05.904Z"
      },
      {
        "duration": 1385,
        "start_time": "2021-07-09T11:21:16.300Z"
      },
      {
        "duration": 1569,
        "start_time": "2021-07-09T11:21:26.628Z"
      },
      {
        "duration": 1383,
        "start_time": "2021-07-09T11:21:37.954Z"
      },
      {
        "duration": 1389,
        "start_time": "2021-07-09T11:21:46.795Z"
      },
      {
        "duration": 1508,
        "start_time": "2021-07-09T11:21:55.888Z"
      },
      {
        "duration": 1380,
        "start_time": "2021-07-09T11:22:03.156Z"
      },
      {
        "duration": 5,
        "start_time": "2021-07-09T11:27:55.841Z"
      },
      {
        "duration": 17,
        "start_time": "2021-07-09T11:27:56.014Z"
      },
      {
        "duration": 13,
        "start_time": "2021-07-09T11:27:56.182Z"
      },
      {
        "duration": 13,
        "start_time": "2021-07-09T11:27:56.480Z"
      },
      {
        "duration": 7,
        "start_time": "2021-07-09T11:27:56.846Z"
      },
      {
        "duration": 3089,
        "start_time": "2021-07-09T11:27:57.765Z"
      },
      {
        "duration": 557,
        "start_time": "2021-07-09T11:28:27.414Z"
      },
      {
        "duration": 14,
        "start_time": "2021-07-09T11:28:27.974Z"
      },
      {
        "duration": 36,
        "start_time": "2021-07-09T11:28:27.991Z"
      },
      {
        "duration": 35,
        "start_time": "2021-07-09T11:28:28.030Z"
      },
      {
        "duration": 101,
        "start_time": "2021-07-09T11:28:28.075Z"
      },
      {
        "duration": 23,
        "start_time": "2021-07-09T11:28:28.239Z"
      },
      {
        "duration": 1646,
        "start_time": "2021-07-09T11:28:28.565Z"
      },
      {
        "duration": 7,
        "start_time": "2021-07-09T11:28:30.215Z"
      },
      {
        "duration": 1663,
        "start_time": "2021-07-09T11:28:30.226Z"
      },
      {
        "duration": 1452,
        "start_time": "2021-07-09T11:28:31.892Z"
      },
      {
        "duration": 1451,
        "start_time": "2021-07-09T11:28:33.346Z"
      },
      {
        "duration": 512,
        "start_time": "2021-07-09T11:28:34.799Z"
      },
      {
        "duration": 8,
        "start_time": "2021-07-09T11:28:35.314Z"
      },
      {
        "duration": 17,
        "start_time": "2021-07-09T11:28:35.326Z"
      },
      {
        "duration": 22,
        "start_time": "2021-07-09T11:28:35.347Z"
      },
      {
        "duration": 45,
        "start_time": "2021-07-09T11:28:35.371Z"
      },
      {
        "duration": 10,
        "start_time": "2021-07-09T11:28:35.422Z"
      },
      {
        "duration": 28,
        "start_time": "2021-07-09T11:28:35.435Z"
      },
      {
        "duration": 20,
        "start_time": "2021-07-09T11:28:35.466Z"
      },
      {
        "duration": 23,
        "start_time": "2021-07-09T11:28:35.489Z"
      },
      {
        "duration": 13,
        "start_time": "2021-07-09T11:28:35.514Z"
      },
      {
        "duration": 3229,
        "start_time": "2021-07-09T11:28:35.530Z"
      },
      {
        "duration": 1266,
        "start_time": "2021-07-09T11:28:38.762Z"
      },
      {
        "duration": 1100,
        "start_time": "2021-07-09T11:28:40.031Z"
      },
      {
        "duration": 18,
        "start_time": "2021-07-09T11:28:41.135Z"
      },
      {
        "duration": 4980,
        "start_time": "2021-07-09T11:28:41.156Z"
      },
      {
        "duration": 8,
        "start_time": "2021-07-09T11:28:46.138Z"
      },
      {
        "duration": 12,
        "start_time": "2021-07-09T11:28:46.149Z"
      },
      {
        "duration": 3163,
        "start_time": "2021-07-09T11:28:46.165Z"
      },
      {
        "duration": 6136,
        "start_time": "2021-07-09T11:28:49.331Z"
      },
      {
        "duration": 5580,
        "start_time": "2021-07-09T11:30:10.166Z"
      },
      {
        "duration": 9,
        "start_time": "2021-07-09T11:30:24.030Z"
      },
      {
        "duration": 326,
        "start_time": "2021-07-09T12:43:15.101Z"
      },
      {
        "duration": 383,
        "start_time": "2021-07-09T12:46:21.567Z"
      },
      {
        "duration": 7,
        "start_time": "2021-07-09T12:47:41.739Z"
      },
      {
        "duration": 349,
        "start_time": "2021-07-09T12:49:24.980Z"
      },
      {
        "duration": 4340,
        "start_time": "2021-07-09T12:49:38.761Z"
      },
      {
        "duration": 9,
        "start_time": "2021-07-09T12:50:00.438Z"
      },
      {
        "duration": 7,
        "start_time": "2021-07-09T12:50:01.304Z"
      },
      {
        "duration": 11,
        "start_time": "2021-07-09T12:50:02.092Z"
      },
      {
        "duration": 3210,
        "start_time": "2021-07-09T12:50:03.340Z"
      },
      {
        "duration": 2172,
        "start_time": "2021-07-09T12:51:07.308Z"
      },
      {
        "duration": 27,
        "start_time": "2021-07-09T12:51:09.483Z"
      },
      {
        "duration": 13,
        "start_time": "2021-07-09T12:51:09.518Z"
      },
      {
        "duration": 24,
        "start_time": "2021-07-09T12:51:09.535Z"
      },
      {
        "duration": 116,
        "start_time": "2021-07-09T12:51:09.562Z"
      },
      {
        "duration": 28,
        "start_time": "2021-07-09T12:51:09.680Z"
      },
      {
        "duration": 1592,
        "start_time": "2021-07-09T12:51:09.712Z"
      },
      {
        "duration": 8,
        "start_time": "2021-07-09T12:51:11.311Z"
      },
      {
        "duration": 1548,
        "start_time": "2021-07-09T12:51:11.322Z"
      },
      {
        "duration": 1592,
        "start_time": "2021-07-09T12:51:12.873Z"
      },
      {
        "duration": 1589,
        "start_time": "2021-07-09T12:51:14.467Z"
      },
      {
        "duration": 355,
        "start_time": "2021-07-09T12:51:16.058Z"
      },
      {
        "duration": 5,
        "start_time": "2021-07-09T12:51:16.416Z"
      },
      {
        "duration": 33,
        "start_time": "2021-07-09T12:51:16.424Z"
      },
      {
        "duration": 17,
        "start_time": "2021-07-09T12:51:16.459Z"
      },
      {
        "duration": 17,
        "start_time": "2021-07-09T12:51:16.478Z"
      },
      {
        "duration": 5,
        "start_time": "2021-07-09T12:51:16.498Z"
      },
      {
        "duration": 23,
        "start_time": "2021-07-09T12:51:16.521Z"
      },
      {
        "duration": 11,
        "start_time": "2021-07-09T12:51:16.547Z"
      },
      {
        "duration": 13,
        "start_time": "2021-07-09T12:51:16.561Z"
      },
      {
        "duration": 42,
        "start_time": "2021-07-09T12:51:16.577Z"
      },
      {
        "duration": 8,
        "start_time": "2021-07-09T12:51:16.629Z"
      },
      {
        "duration": 8,
        "start_time": "2021-07-09T12:51:16.641Z"
      },
      {
        "duration": 23,
        "start_time": "2021-07-09T12:51:16.652Z"
      },
      {
        "duration": 3190,
        "start_time": "2021-07-09T12:51:16.678Z"
      },
      {
        "duration": 7,
        "start_time": "2021-07-09T12:58:36.475Z"
      },
      {
        "duration": 3195,
        "start_time": "2021-07-09T12:58:37.382Z"
      },
      {
        "duration": 7,
        "start_time": "2021-07-09T12:59:15.880Z"
      },
      {
        "duration": 3920,
        "start_time": "2021-07-09T12:59:16.380Z"
      },
      {
        "duration": 7,
        "start_time": "2021-07-09T12:59:37.601Z"
      },
      {
        "duration": 3241,
        "start_time": "2021-07-09T12:59:37.735Z"
      },
      {
        "duration": 7,
        "start_time": "2021-07-09T13:12:04.597Z"
      },
      {
        "duration": 10,
        "start_time": "2021-07-09T13:12:10.230Z"
      },
      {
        "duration": 332,
        "start_time": "2021-07-09T13:13:03.797Z"
      },
      {
        "duration": 9,
        "start_time": "2021-07-09T13:15:37.518Z"
      },
      {
        "duration": 7,
        "start_time": "2021-07-09T13:16:36.694Z"
      },
      {
        "duration": 3961,
        "start_time": "2021-07-09T13:16:37.237Z"
      },
      {
        "duration": 1029,
        "start_time": "2021-07-09T13:18:00.228Z"
      },
      {
        "duration": 2981,
        "start_time": "2021-07-09T13:18:11.574Z"
      },
      {
        "duration": 9,
        "start_time": "2021-07-09T13:19:40.216Z"
      },
      {
        "duration": 3092,
        "start_time": "2021-07-09T13:19:40.495Z"
      },
      {
        "duration": 3139,
        "start_time": "2021-07-09T13:19:46.144Z"
      },
      {
        "duration": 10,
        "start_time": "2021-07-09T13:27:58.615Z"
      },
      {
        "duration": 3052,
        "start_time": "2021-07-09T13:28:00.368Z"
      },
      {
        "duration": 3921,
        "start_time": "2021-07-09T13:28:17.183Z"
      },
      {
        "duration": 8,
        "start_time": "2021-07-09T13:28:49.834Z"
      },
      {
        "duration": 3059,
        "start_time": "2021-07-09T13:28:50.527Z"
      },
      {
        "duration": 3043,
        "start_time": "2021-07-09T13:28:53.589Z"
      },
      {
        "duration": 3722,
        "start_time": "2021-07-09T13:30:14.455Z"
      },
      {
        "duration": 2973,
        "start_time": "2021-07-09T13:30:18.179Z"
      },
      {
        "duration": 7,
        "start_time": "2021-07-09T13:31:07.137Z"
      },
      {
        "duration": 6,
        "start_time": "2021-07-09T13:31:07.481Z"
      },
      {
        "duration": 3010,
        "start_time": "2021-07-09T13:31:07.871Z"
      },
      {
        "duration": 3157,
        "start_time": "2021-07-09T13:31:10.884Z"
      },
      {
        "duration": 3244,
        "start_time": "2021-07-09T13:31:14.044Z"
      },
      {
        "duration": 2979,
        "start_time": "2021-07-09T13:31:17.291Z"
      },
      {
        "duration": 22,
        "start_time": "2021-07-09T13:31:47.817Z"
      },
      {
        "duration": 5,
        "start_time": "2021-07-09T13:31:47.889Z"
      },
      {
        "duration": 12,
        "start_time": "2021-07-09T13:31:48.047Z"
      },
      {
        "duration": 21,
        "start_time": "2021-07-09T13:31:48.224Z"
      },
      {
        "duration": 17,
        "start_time": "2021-07-09T13:31:48.383Z"
      },
      {
        "duration": 7,
        "start_time": "2021-07-09T13:31:48.559Z"
      },
      {
        "duration": 9,
        "start_time": "2021-07-09T13:31:48.719Z"
      },
      {
        "duration": 3017,
        "start_time": "2021-07-09T13:31:48.879Z"
      },
      {
        "duration": 3092,
        "start_time": "2021-07-09T13:31:51.899Z"
      },
      {
        "duration": 2990,
        "start_time": "2021-07-09T13:31:54.994Z"
      },
      {
        "duration": 2970,
        "start_time": "2021-07-09T13:31:57.986Z"
      },
      {
        "duration": 5,
        "start_time": "2021-07-09T13:33:42.174Z"
      },
      {
        "duration": 14,
        "start_time": "2021-07-09T13:33:42.336Z"
      },
      {
        "duration": 14,
        "start_time": "2021-07-09T13:33:42.631Z"
      },
      {
        "duration": 20,
        "start_time": "2021-07-09T13:33:42.799Z"
      },
      {
        "duration": 6,
        "start_time": "2021-07-09T13:33:42.959Z"
      },
      {
        "duration": 7,
        "start_time": "2021-07-09T13:33:43.127Z"
      },
      {
        "duration": 3236,
        "start_time": "2021-07-09T13:33:44.480Z"
      },
      {
        "duration": 3290,
        "start_time": "2021-07-09T13:33:47.719Z"
      },
      {
        "duration": 3203,
        "start_time": "2021-07-09T13:33:51.019Z"
      },
      {
        "duration": 3111,
        "start_time": "2021-07-09T13:33:54.224Z"
      },
      {
        "duration": 3107,
        "start_time": "2021-07-09T13:33:57.338Z"
      },
      {
        "duration": 3004,
        "start_time": "2021-07-09T13:34:00.447Z"
      },
      {
        "duration": 16,
        "start_time": "2021-07-09T13:48:44.778Z"
      },
      {
        "duration": 6,
        "start_time": "2021-07-09T13:48:45.139Z"
      },
      {
        "duration": 13,
        "start_time": "2021-07-09T13:48:45.314Z"
      },
      {
        "duration": 16,
        "start_time": "2021-07-09T13:48:45.473Z"
      },
      {
        "duration": 12,
        "start_time": "2021-07-09T13:48:45.649Z"
      },
      {
        "duration": 10,
        "start_time": "2021-07-09T13:48:45.817Z"
      },
      {
        "duration": 6,
        "start_time": "2021-07-09T13:48:46.004Z"
      },
      {
        "duration": 2998,
        "start_time": "2021-07-09T13:48:46.185Z"
      },
      {
        "duration": 3165,
        "start_time": "2021-07-09T13:48:49.186Z"
      },
      {
        "duration": 3005,
        "start_time": "2021-07-09T13:48:52.354Z"
      },
      {
        "duration": 3189,
        "start_time": "2021-07-09T13:48:55.363Z"
      },
      {
        "duration": 3031,
        "start_time": "2021-07-09T13:48:58.555Z"
      },
      {
        "duration": 3437,
        "start_time": "2021-07-09T13:49:01.588Z"
      },
      {
        "duration": 28,
        "start_time": "2021-07-09T13:49:05.027Z"
      },
      {
        "duration": 34,
        "start_time": "2021-07-09T13:49:50.818Z"
      },
      {
        "duration": 311,
        "start_time": "2021-07-09T13:51:08.470Z"
      },
      {
        "duration": 27,
        "start_time": "2021-07-09T13:51:58.116Z"
      },
      {
        "duration": 4,
        "start_time": "2021-07-09T13:53:18.650Z"
      },
      {
        "duration": 4,
        "start_time": "2021-07-09T13:53:19.050Z"
      },
      {
        "duration": 5,
        "start_time": "2021-07-09T13:53:19.292Z"
      },
      {
        "duration": 18,
        "start_time": "2021-07-09T13:53:19.555Z"
      },
      {
        "duration": 14,
        "start_time": "2021-07-09T13:53:20.634Z"
      },
      {
        "duration": 6,
        "start_time": "2021-07-09T13:53:22.299Z"
      },
      {
        "duration": 17,
        "start_time": "2021-07-09T13:53:22.938Z"
      },
      {
        "duration": 23,
        "start_time": "2021-07-09T13:53:23.402Z"
      },
      {
        "duration": 13,
        "start_time": "2021-07-09T13:53:24.274Z"
      },
      {
        "duration": 4,
        "start_time": "2021-07-09T13:53:34.612Z"
      },
      {
        "duration": 5,
        "start_time": "2021-07-09T13:53:35.026Z"
      },
      {
        "duration": 5,
        "start_time": "2021-07-09T13:53:35.395Z"
      },
      {
        "duration": 22,
        "start_time": "2021-07-09T13:53:35.715Z"
      },
      {
        "duration": 15,
        "start_time": "2021-07-09T13:53:36.691Z"
      },
      {
        "duration": 6,
        "start_time": "2021-07-09T13:53:37.546Z"
      },
      {
        "duration": 19,
        "start_time": "2021-07-09T13:53:38.014Z"
      },
      {
        "duration": 13,
        "start_time": "2021-07-09T13:53:38.490Z"
      },
      {
        "duration": 17,
        "start_time": "2021-07-09T13:53:38.922Z"
      },
      {
        "duration": 9,
        "start_time": "2021-07-09T13:53:39.427Z"
      },
      {
        "duration": 6,
        "start_time": "2021-07-09T13:53:39.996Z"
      },
      {
        "duration": 3277,
        "start_time": "2021-07-09T13:53:40.551Z"
      },
      {
        "duration": 3164,
        "start_time": "2021-07-09T13:53:43.830Z"
      },
      {
        "duration": 3071,
        "start_time": "2021-07-09T13:53:46.999Z"
      },
      {
        "duration": 3076,
        "start_time": "2021-07-09T13:53:50.072Z"
      },
      {
        "duration": 3132,
        "start_time": "2021-07-09T13:53:53.151Z"
      },
      {
        "duration": 3022,
        "start_time": "2021-07-09T13:53:56.286Z"
      },
      {
        "duration": 18,
        "start_time": "2021-07-09T14:01:25.129Z"
      },
      {
        "duration": 7,
        "start_time": "2021-07-09T16:12:09.286Z"
      },
      {
        "duration": 7,
        "start_time": "2021-07-09T16:12:09.823Z"
      },
      {
        "duration": 2945,
        "start_time": "2021-07-09T16:12:10.822Z"
      },
      {
        "duration": 2947,
        "start_time": "2021-07-09T16:12:37.833Z"
      },
      {
        "duration": 3064,
        "start_time": "2021-07-09T16:13:51.767Z"
      },
      {
        "duration": 9,
        "start_time": "2021-07-09T16:17:15.519Z"
      },
      {
        "duration": 5,
        "start_time": "2021-07-09T16:17:15.897Z"
      },
      {
        "duration": 3003,
        "start_time": "2021-07-09T16:17:16.327Z"
      },
      {
        "duration": 3087,
        "start_time": "2021-07-09T16:17:19.333Z"
      },
      {
        "duration": 3175,
        "start_time": "2021-07-09T16:17:22.423Z"
      },
      {
        "duration": 3050,
        "start_time": "2021-07-09T16:17:25.602Z"
      },
      {
        "duration": 3072,
        "start_time": "2021-07-09T16:17:28.654Z"
      },
      {
        "duration": 3081,
        "start_time": "2021-07-09T16:17:31.730Z"
      },
      {
        "duration": 388,
        "start_time": "2021-07-09T16:17:34.816Z"
      },
      {
        "duration": 150,
        "start_time": "2021-07-09T16:18:15.209Z"
      },
      {
        "duration": 18,
        "start_time": "2021-07-09T16:18:26.279Z"
      },
      {
        "duration": 26,
        "start_time": "2021-07-09T16:20:39.018Z"
      },
      {
        "duration": 9,
        "start_time": "2021-07-09T16:21:36.223Z"
      },
      {
        "duration": 6,
        "start_time": "2021-07-09T16:21:36.488Z"
      },
      {
        "duration": 3029,
        "start_time": "2021-07-09T16:21:36.655Z"
      },
      {
        "duration": 3000,
        "start_time": "2021-07-09T16:21:39.687Z"
      },
      {
        "duration": 2950,
        "start_time": "2021-07-09T16:21:42.690Z"
      },
      {
        "duration": 2928,
        "start_time": "2021-07-09T16:21:45.643Z"
      },
      {
        "duration": 2946,
        "start_time": "2021-07-09T16:21:48.574Z"
      },
      {
        "duration": 2951,
        "start_time": "2021-07-09T16:21:51.523Z"
      },
      {
        "duration": 156,
        "start_time": "2021-07-09T16:21:54.476Z"
      },
      {
        "duration": 18,
        "start_time": "2021-07-09T16:22:20.884Z"
      },
      {
        "duration": 18,
        "start_time": "2021-07-09T16:22:57.568Z"
      },
      {
        "duration": 330,
        "start_time": "2021-07-09T16:24:34.032Z"
      },
      {
        "duration": 18,
        "start_time": "2021-07-09T16:24:47.936Z"
      },
      {
        "duration": 609,
        "start_time": "2021-07-09T16:25:51.665Z"
      },
      {
        "duration": 2252,
        "start_time": "2021-07-09T16:26:03.710Z"
      },
      {
        "duration": 15,
        "start_time": "2021-07-09T16:26:05.964Z"
      },
      {
        "duration": 29,
        "start_time": "2021-07-09T16:26:05.982Z"
      },
      {
        "duration": 27,
        "start_time": "2021-07-09T16:26:06.015Z"
      },
      {
        "duration": 119,
        "start_time": "2021-07-09T16:26:06.045Z"
      },
      {
        "duration": 22,
        "start_time": "2021-07-09T16:26:06.166Z"
      },
      {
        "duration": 1643,
        "start_time": "2021-07-09T16:26:06.191Z"
      },
      {
        "duration": 5,
        "start_time": "2021-07-09T16:26:07.843Z"
      },
      {
        "duration": 1551,
        "start_time": "2021-07-09T16:26:07.851Z"
      },
      {
        "duration": 1421,
        "start_time": "2021-07-09T16:26:09.408Z"
      },
      {
        "duration": 1401,
        "start_time": "2021-07-09T16:26:10.832Z"
      },
      {
        "duration": 806,
        "start_time": "2021-07-09T16:26:12.237Z"
      },
      {
        "duration": -1558,
        "start_time": "2021-07-09T16:26:14.604Z"
      },
      {
        "duration": -1561,
        "start_time": "2021-07-09T16:26:14.609Z"
      },
      {
        "duration": -1563,
        "start_time": "2021-07-09T16:26:14.613Z"
      },
      {
        "duration": -1566,
        "start_time": "2021-07-09T16:26:14.618Z"
      },
      {
        "duration": -1569,
        "start_time": "2021-07-09T16:26:14.623Z"
      },
      {
        "duration": -1579,
        "start_time": "2021-07-09T16:26:14.634Z"
      },
      {
        "duration": -1582,
        "start_time": "2021-07-09T16:26:14.639Z"
      },
      {
        "duration": -1585,
        "start_time": "2021-07-09T16:26:14.643Z"
      },
      {
        "duration": -1587,
        "start_time": "2021-07-09T16:26:14.647Z"
      },
      {
        "duration": -1589,
        "start_time": "2021-07-09T16:26:14.650Z"
      },
      {
        "duration": -1589,
        "start_time": "2021-07-09T16:26:14.652Z"
      },
      {
        "duration": -1590,
        "start_time": "2021-07-09T16:26:14.654Z"
      },
      {
        "duration": -1591,
        "start_time": "2021-07-09T16:26:14.657Z"
      },
      {
        "duration": -1592,
        "start_time": "2021-07-09T16:26:14.659Z"
      },
      {
        "duration": -1592,
        "start_time": "2021-07-09T16:26:14.661Z"
      },
      {
        "duration": -1594,
        "start_time": "2021-07-09T16:26:14.664Z"
      },
      {
        "duration": -1594,
        "start_time": "2021-07-09T16:26:14.666Z"
      },
      {
        "duration": -1596,
        "start_time": "2021-07-09T16:26:14.669Z"
      },
      {
        "duration": 2261,
        "start_time": "2021-07-09T16:27:03.636Z"
      },
      {
        "duration": 24,
        "start_time": "2021-07-09T16:27:05.900Z"
      },
      {
        "duration": 20,
        "start_time": "2021-07-09T16:27:05.927Z"
      },
      {
        "duration": 25,
        "start_time": "2021-07-09T16:27:05.950Z"
      },
      {
        "duration": 121,
        "start_time": "2021-07-09T16:27:05.978Z"
      },
      {
        "duration": 23,
        "start_time": "2021-07-09T16:27:06.101Z"
      },
      {
        "duration": 1603,
        "start_time": "2021-07-09T16:27:06.126Z"
      },
      {
        "duration": 7,
        "start_time": "2021-07-09T16:27:07.733Z"
      },
      {
        "duration": 1516,
        "start_time": "2021-07-09T16:27:07.743Z"
      },
      {
        "duration": 1394,
        "start_time": "2021-07-09T16:27:09.262Z"
      },
      {
        "duration": 1403,
        "start_time": "2021-07-09T16:27:10.658Z"
      },
      {
        "duration": 373,
        "start_time": "2021-07-09T16:27:12.064Z"
      },
      {
        "duration": 75,
        "start_time": "2021-07-09T16:27:12.441Z"
      },
      {
        "duration": 15,
        "start_time": "2021-07-09T16:27:12.524Z"
      },
      {
        "duration": 19,
        "start_time": "2021-07-09T16:27:12.541Z"
      },
      {
        "duration": 27,
        "start_time": "2021-07-09T16:27:12.563Z"
      },
      {
        "duration": 40,
        "start_time": "2021-07-09T16:27:12.593Z"
      },
      {
        "duration": 7,
        "start_time": "2021-07-09T16:27:12.636Z"
      },
      {
        "duration": 27,
        "start_time": "2021-07-09T16:27:12.645Z"
      },
      {
        "duration": 12,
        "start_time": "2021-07-09T16:27:12.674Z"
      },
      {
        "duration": 13,
        "start_time": "2021-07-09T16:27:12.688Z"
      },
      {
        "duration": 11,
        "start_time": "2021-07-09T16:27:12.704Z"
      },
      {
        "duration": 12,
        "start_time": "2021-07-09T16:27:12.721Z"
      },
      {
        "duration": 3320,
        "start_time": "2021-07-09T16:27:12.736Z"
      },
      {
        "duration": 3016,
        "start_time": "2021-07-09T16:27:16.058Z"
      },
      {
        "duration": 3096,
        "start_time": "2021-07-09T16:27:19.077Z"
      },
      {
        "duration": 2948,
        "start_time": "2021-07-09T16:27:22.176Z"
      },
      {
        "duration": 3011,
        "start_time": "2021-07-09T16:27:25.126Z"
      },
      {
        "duration": 3039,
        "start_time": "2021-07-09T16:27:28.139Z"
      },
      {
        "duration": 48,
        "start_time": "2021-07-09T16:27:31.181Z"
      },
      {
        "duration": 1534,
        "start_time": "2021-07-09T16:27:42.913Z"
      },
      {
        "duration": 1406,
        "start_time": "2021-07-09T16:27:53.442Z"
      },
      {
        "duration": 1619,
        "start_time": "2021-07-09T16:28:04.860Z"
      },
      {
        "duration": 1664,
        "start_time": "2021-07-09T16:28:11.809Z"
      },
      {
        "duration": 1526,
        "start_time": "2021-07-09T16:28:19.482Z"
      },
      {
        "duration": 1469,
        "start_time": "2021-07-09T16:28:42.505Z"
      },
      {
        "duration": 1489,
        "start_time": "2021-07-09T16:28:52.177Z"
      },
      {
        "duration": 2069,
        "start_time": "2021-07-09T16:29:05.136Z"
      },
      {
        "duration": 24,
        "start_time": "2021-07-09T16:29:07.210Z"
      },
      {
        "duration": 21,
        "start_time": "2021-07-09T16:29:07.237Z"
      },
      {
        "duration": 34,
        "start_time": "2021-07-09T16:29:07.261Z"
      },
      {
        "duration": 102,
        "start_time": "2021-07-09T16:29:07.298Z"
      },
      {
        "duration": 26,
        "start_time": "2021-07-09T16:29:07.403Z"
      },
      {
        "duration": 1632,
        "start_time": "2021-07-09T16:29:07.431Z"
      },
      {
        "duration": 6,
        "start_time": "2021-07-09T16:29:09.065Z"
      },
      {
        "duration": 1450,
        "start_time": "2021-07-09T16:29:09.075Z"
      },
      {
        "duration": 1304,
        "start_time": "2021-07-09T16:29:10.528Z"
      },
      {
        "duration": 1441,
        "start_time": "2021-07-09T16:29:11.834Z"
      },
      {
        "duration": 442,
        "start_time": "2021-07-09T16:29:13.277Z"
      },
      {
        "duration": 4,
        "start_time": "2021-07-09T16:29:13.724Z"
      },
      {
        "duration": 21,
        "start_time": "2021-07-09T16:29:13.730Z"
      },
      {
        "duration": 9,
        "start_time": "2021-07-09T16:29:13.754Z"
      },
      {
        "duration": 47,
        "start_time": "2021-07-09T16:29:13.765Z"
      },
      {
        "duration": 20,
        "start_time": "2021-07-09T16:29:13.815Z"
      },
      {
        "duration": 5,
        "start_time": "2021-07-09T16:29:13.837Z"
      },
      {
        "duration": 22,
        "start_time": "2021-07-09T16:29:13.845Z"
      },
      {
        "duration": 50,
        "start_time": "2021-07-09T16:29:13.870Z"
      },
      {
        "duration": 23,
        "start_time": "2021-07-09T16:29:13.922Z"
      },
      {
        "duration": 15,
        "start_time": "2021-07-09T16:29:13.947Z"
      },
      {
        "duration": 58,
        "start_time": "2021-07-09T16:29:13.964Z"
      },
      {
        "duration": 2890,
        "start_time": "2021-07-09T16:29:14.025Z"
      },
      {
        "duration": 2994,
        "start_time": "2021-07-09T16:29:16.918Z"
      },
      {
        "duration": 3060,
        "start_time": "2021-07-09T16:29:19.915Z"
      },
      {
        "duration": 2862,
        "start_time": "2021-07-09T16:29:22.980Z"
      },
      {
        "duration": 2852,
        "start_time": "2021-07-09T16:29:25.844Z"
      },
      {
        "duration": 2921,
        "start_time": "2021-07-09T16:29:28.699Z"
      },
      {
        "duration": 24,
        "start_time": "2021-07-09T16:29:31.622Z"
      },
      {
        "duration": 714,
        "start_time": "2021-07-09T16:34:44.043Z"
      },
      {
        "duration": 504,
        "start_time": "2021-07-09T16:35:20.835Z"
      },
      {
        "duration": 500,
        "start_time": "2021-07-09T16:36:00.754Z"
      },
      {
        "duration": 499,
        "start_time": "2021-07-09T16:36:38.795Z"
      },
      {
        "duration": 494,
        "start_time": "2021-07-09T16:37:05.619Z"
      },
      {
        "duration": 8355,
        "start_time": "2021-07-09T16:39:15.539Z"
      },
      {
        "duration": 9330,
        "start_time": "2021-07-09T16:40:05.170Z"
      },
      {
        "duration": 449,
        "start_time": "2021-07-09T16:40:56.188Z"
      },
      {
        "duration": 8798,
        "start_time": "2021-07-09T16:41:38.651Z"
      },
      {
        "duration": 336,
        "start_time": "2021-07-09T16:41:58.814Z"
      },
      {
        "duration": 361,
        "start_time": "2021-07-09T16:42:51.947Z"
      },
      {
        "duration": 314,
        "start_time": "2021-07-09T16:43:11.261Z"
      },
      {
        "duration": 4,
        "start_time": "2021-07-09T16:44:39.654Z"
      },
      {
        "duration": 8,
        "start_time": "2021-07-09T16:44:44.443Z"
      },
      {
        "duration": 11,
        "start_time": "2021-07-09T16:45:04.780Z"
      },
      {
        "duration": 12,
        "start_time": "2021-07-09T16:45:10.171Z"
      },
      {
        "duration": 14,
        "start_time": "2021-07-09T16:45:15.700Z"
      },
      {
        "duration": 530,
        "start_time": "2021-07-09T16:45:25.437Z"
      },
      {
        "duration": 12,
        "start_time": "2021-07-09T16:46:21.836Z"
      },
      {
        "duration": 497,
        "start_time": "2021-07-09T16:46:25.450Z"
      },
      {
        "duration": 511,
        "start_time": "2021-07-09T16:46:37.391Z"
      },
      {
        "duration": 670,
        "start_time": "2021-07-09T16:46:50.780Z"
      },
      {
        "duration": 422,
        "start_time": "2021-07-09T16:47:07.757Z"
      },
      {
        "duration": 737,
        "start_time": "2021-07-09T16:48:10.501Z"
      },
      {
        "duration": 735,
        "start_time": "2021-07-09T16:48:26.150Z"
      },
      {
        "duration": 409,
        "start_time": "2021-07-09T16:48:34.157Z"
      },
      {
        "duration": 608,
        "start_time": "2021-07-09T17:04:57.177Z"
      },
      {
        "duration": 18767,
        "start_time": "2021-07-09T17:05:05.049Z"
      },
      {
        "duration": 370,
        "start_time": "2021-07-09T17:10:20.242Z"
      },
      {
        "duration": 484,
        "start_time": "2021-07-09T17:10:20.897Z"
      },
      {
        "duration": 1012,
        "start_time": "2021-07-09T17:11:45.530Z"
      },
      {
        "duration": 1029,
        "start_time": "2021-07-09T17:12:17.058Z"
      },
      {
        "duration": 993,
        "start_time": "2021-07-09T17:12:36.193Z"
      },
      {
        "duration": 1467,
        "start_time": "2021-07-09T17:13:03.722Z"
      },
      {
        "duration": 1453,
        "start_time": "2021-07-09T17:13:36.266Z"
      },
      {
        "duration": 1010,
        "start_time": "2021-07-09T17:13:48.226Z"
      },
      {
        "duration": 12,
        "start_time": "2021-07-09T17:16:19.675Z"
      },
      {
        "duration": 8254,
        "start_time": "2021-07-09T17:16:57.050Z"
      },
      {
        "duration": 14,
        "start_time": "2021-07-09T17:17:14.123Z"
      },
      {
        "duration": 11,
        "start_time": "2021-07-09T17:18:26.454Z"
      },
      {
        "duration": 12,
        "start_time": "2021-07-09T17:18:37.476Z"
      },
      {
        "duration": 9,
        "start_time": "2021-07-09T17:18:46.387Z"
      },
      {
        "duration": 4303,
        "start_time": "2021-07-09T17:19:30.956Z"
      },
      {
        "duration": 1101,
        "start_time": "2021-07-09T17:19:48.429Z"
      },
      {
        "duration": 7,
        "start_time": "2021-07-09T17:20:02.324Z"
      },
      {
        "duration": 946,
        "start_time": "2021-07-09T17:20:26.027Z"
      },
      {
        "duration": 1012,
        "start_time": "2021-07-09T17:20:33.932Z"
      },
      {
        "duration": 11,
        "start_time": "2021-07-09T17:21:08.843Z"
      },
      {
        "duration": 2058,
        "start_time": "2021-07-09T17:25:27.946Z"
      },
      {
        "duration": 15,
        "start_time": "2021-07-09T17:25:30.006Z"
      },
      {
        "duration": 13,
        "start_time": "2021-07-09T17:25:30.024Z"
      },
      {
        "duration": 31,
        "start_time": "2021-07-09T17:25:30.040Z"
      },
      {
        "duration": 120,
        "start_time": "2021-07-09T17:25:30.074Z"
      },
      {
        "duration": 23,
        "start_time": "2021-07-09T17:25:30.197Z"
      },
      {
        "duration": 1549,
        "start_time": "2021-07-09T17:25:30.224Z"
      },
      {
        "duration": 5,
        "start_time": "2021-07-09T17:25:31.777Z"
      },
      {
        "duration": 1565,
        "start_time": "2021-07-09T17:25:31.786Z"
      },
      {
        "duration": 1288,
        "start_time": "2021-07-09T17:25:33.354Z"
      },
      {
        "duration": 1346,
        "start_time": "2021-07-09T17:25:34.644Z"
      },
      {
        "duration": 720,
        "start_time": "2021-07-09T17:25:35.992Z"
      },
      {
        "duration": 522,
        "start_time": "2021-07-09T17:25:36.715Z"
      },
      {
        "duration": 4,
        "start_time": "2021-07-09T17:25:37.240Z"
      },
      {
        "duration": 8,
        "start_time": "2021-07-09T17:25:37.247Z"
      },
      {
        "duration": 7,
        "start_time": "2021-07-09T17:25:37.258Z"
      },
      {
        "duration": 1182,
        "start_time": "2021-07-09T17:25:37.267Z"
      },
      {
        "duration": 8,
        "start_time": "2021-07-09T17:25:38.451Z"
      },
      {
        "duration": 1039,
        "start_time": "2021-07-09T17:25:38.462Z"
      },
      {
        "duration": 1057,
        "start_time": "2021-07-09T17:25:39.503Z"
      },
      {
        "duration": 14,
        "start_time": "2021-07-09T17:25:40.562Z"
      },
      {
        "duration": 5,
        "start_time": "2021-07-09T17:25:40.579Z"
      },
      {
        "duration": 12,
        "start_time": "2021-07-09T17:25:40.610Z"
      },
      {
        "duration": 18,
        "start_time": "2021-07-09T17:25:40.624Z"
      },
      {
        "duration": 12,
        "start_time": "2021-07-09T17:25:40.645Z"
      },
      {
        "duration": 7,
        "start_time": "2021-07-09T17:25:40.660Z"
      },
      {
        "duration": 51,
        "start_time": "2021-07-09T17:25:40.672Z"
      },
      {
        "duration": 2798,
        "start_time": "2021-07-09T17:25:40.726Z"
      },
      {
        "duration": 2811,
        "start_time": "2021-07-09T17:25:43.526Z"
      },
      {
        "duration": 2853,
        "start_time": "2021-07-09T17:25:46.339Z"
      },
      {
        "duration": 2766,
        "start_time": "2021-07-09T17:25:49.195Z"
      },
      {
        "duration": 2704,
        "start_time": "2021-07-09T17:25:51.964Z"
      },
      {
        "duration": 2735,
        "start_time": "2021-07-09T17:25:54.670Z"
      },
      {
        "duration": 18,
        "start_time": "2021-07-09T17:25:57.409Z"
      },
      {
        "duration": 412,
        "start_time": "2021-07-09T17:25:57.429Z"
      },
      {
        "duration": 13,
        "start_time": "2021-07-09T17:26:29.792Z"
      },
      {
        "duration": 12,
        "start_time": "2021-07-09T17:26:48.199Z"
      },
      {
        "duration": 5611,
        "start_time": "2021-07-10T06:45:01.466Z"
      },
      {
        "duration": 23,
        "start_time": "2021-07-10T06:45:07.080Z"
      },
      {
        "duration": 17,
        "start_time": "2021-07-10T06:45:07.107Z"
      },
      {
        "duration": 13,
        "start_time": "2021-07-10T06:45:07.128Z"
      },
      {
        "duration": 58,
        "start_time": "2021-07-10T06:45:07.144Z"
      },
      {
        "duration": 42,
        "start_time": "2021-07-10T06:45:07.205Z"
      },
      {
        "duration": 25,
        "start_time": "2021-07-10T06:45:07.249Z"
      },
      {
        "duration": 124,
        "start_time": "2021-07-10T06:45:07.276Z"
      },
      {
        "duration": 486,
        "start_time": "2021-07-10T06:45:07.459Z"
      },
      {
        "duration": 13,
        "start_time": "2021-07-10T06:45:07.948Z"
      },
      {
        "duration": 29,
        "start_time": "2021-07-10T06:45:07.964Z"
      },
      {
        "duration": 13,
        "start_time": "2021-07-10T06:45:08.000Z"
      },
      {
        "duration": 20,
        "start_time": "2021-07-10T06:45:08.016Z"
      },
      {
        "duration": 61,
        "start_time": "2021-07-10T06:45:08.039Z"
      },
      {
        "duration": 21,
        "start_time": "2021-07-10T06:45:08.103Z"
      },
      {
        "duration": 98,
        "start_time": "2021-07-10T06:45:08.128Z"
      },
      {
        "duration": 20,
        "start_time": "2021-07-10T06:45:08.229Z"
      },
      {
        "duration": 1436,
        "start_time": "2021-07-10T06:45:08.251Z"
      },
      {
        "duration": 11,
        "start_time": "2021-07-10T06:45:09.690Z"
      },
      {
        "duration": 1339,
        "start_time": "2021-07-10T06:45:09.704Z"
      },
      {
        "duration": 1434,
        "start_time": "2021-07-10T06:45:11.046Z"
      },
      {
        "duration": 1242,
        "start_time": "2021-07-10T06:45:12.484Z"
      },
      {
        "duration": 475,
        "start_time": "2021-07-10T06:45:13.729Z"
      },
      {
        "duration": 562,
        "start_time": "2021-07-10T06:45:14.207Z"
      },
      {
        "duration": 5,
        "start_time": "2021-07-10T06:45:14.772Z"
      },
      {
        "duration": 21,
        "start_time": "2021-07-10T06:45:14.780Z"
      },
      {
        "duration": 9,
        "start_time": "2021-07-10T06:45:14.804Z"
      },
      {
        "duration": 1071,
        "start_time": "2021-07-10T06:45:14.815Z"
      },
      {
        "duration": 21,
        "start_time": "2021-07-10T06:45:15.888Z"
      },
      {
        "duration": 963,
        "start_time": "2021-07-10T06:45:15.912Z"
      },
      {
        "duration": 26,
        "start_time": "2021-07-10T06:45:16.879Z"
      },
      {
        "duration": 5,
        "start_time": "2021-07-10T06:45:16.908Z"
      },
      {
        "duration": 13,
        "start_time": "2021-07-10T06:45:16.916Z"
      },
      {
        "duration": 11,
        "start_time": "2021-07-10T06:45:16.932Z"
      },
      {
        "duration": 11,
        "start_time": "2021-07-10T06:45:16.945Z"
      },
      {
        "duration": 43,
        "start_time": "2021-07-10T06:45:16.959Z"
      },
      {
        "duration": 12,
        "start_time": "2021-07-10T06:45:17.004Z"
      },
      {
        "duration": 2682,
        "start_time": "2021-07-10T06:45:17.018Z"
      },
      {
        "duration": 2675,
        "start_time": "2021-07-10T06:45:19.703Z"
      },
      {
        "duration": 2661,
        "start_time": "2021-07-10T06:45:22.381Z"
      },
      {
        "duration": 2820,
        "start_time": "2021-07-10T06:45:25.044Z"
      },
      {
        "duration": 2704,
        "start_time": "2021-07-10T06:45:27.867Z"
      },
      {
        "duration": 2787,
        "start_time": "2021-07-10T06:45:30.573Z"
      },
      {
        "duration": 19,
        "start_time": "2021-07-10T06:45:33.363Z"
      },
      {
        "duration": 372,
        "start_time": "2021-07-10T06:45:33.400Z"
      },
      {
        "duration": 33,
        "start_time": "2021-07-10T06:45:50.565Z"
      },
      {
        "duration": 32,
        "start_time": "2021-07-10T06:46:52.453Z"
      },
      {
        "duration": 39,
        "start_time": "2021-07-10T06:49:03.207Z"
      },
      {
        "duration": 66,
        "start_time": "2021-07-10T06:51:11.124Z"
      },
      {
        "duration": 64,
        "start_time": "2021-07-10T06:51:11.748Z"
      },
      {
        "duration": 66,
        "start_time": "2021-07-10T06:51:12.268Z"
      },
      {
        "duration": 1929,
        "start_time": "2021-07-10T06:51:21.376Z"
      },
      {
        "duration": 18,
        "start_time": "2021-07-10T06:51:23.308Z"
      },
      {
        "duration": 15,
        "start_time": "2021-07-10T06:51:23.330Z"
      },
      {
        "duration": 20,
        "start_time": "2021-07-10T06:51:23.348Z"
      },
      {
        "duration": 74,
        "start_time": "2021-07-10T06:51:23.371Z"
      },
      {
        "duration": 87,
        "start_time": "2021-07-10T06:51:23.448Z"
      },
      {
        "duration": 71,
        "start_time": "2021-07-10T06:51:23.538Z"
      },
      {
        "duration": 61,
        "start_time": "2021-07-10T06:51:23.614Z"
      },
      {
        "duration": 107,
        "start_time": "2021-07-10T06:51:23.679Z"
      },
      {
        "duration": 21,
        "start_time": "2021-07-10T06:51:23.801Z"
      },
      {
        "duration": 1437,
        "start_time": "2021-07-10T06:51:23.824Z"
      },
      {
        "duration": 5,
        "start_time": "2021-07-10T06:51:25.263Z"
      },
      {
        "duration": 1348,
        "start_time": "2021-07-10T06:51:25.270Z"
      },
      {
        "duration": 1319,
        "start_time": "2021-07-10T06:51:26.620Z"
      },
      {
        "duration": 1421,
        "start_time": "2021-07-10T06:51:27.941Z"
      },
      {
        "duration": 442,
        "start_time": "2021-07-10T06:51:29.365Z"
      },
      {
        "duration": 516,
        "start_time": "2021-07-10T06:51:29.810Z"
      },
      {
        "duration": 4,
        "start_time": "2021-07-10T06:51:30.329Z"
      },
      {
        "duration": 10,
        "start_time": "2021-07-10T06:51:30.336Z"
      },
      {
        "duration": 9,
        "start_time": "2021-07-10T06:51:30.349Z"
      },
      {
        "duration": 1143,
        "start_time": "2021-07-10T06:51:30.360Z"
      },
      {
        "duration": 12,
        "start_time": "2021-07-10T06:51:31.506Z"
      },
      {
        "duration": 1072,
        "start_time": "2021-07-10T06:51:31.523Z"
      },
      {
        "duration": 14,
        "start_time": "2021-07-10T06:51:32.600Z"
      },
      {
        "duration": 5,
        "start_time": "2021-07-10T06:51:32.617Z"
      },
      {
        "duration": 15,
        "start_time": "2021-07-10T06:51:32.624Z"
      },
      {
        "duration": 11,
        "start_time": "2021-07-10T06:51:32.641Z"
      },
      {
        "duration": 53,
        "start_time": "2021-07-10T06:51:32.654Z"
      },
      {
        "duration": 7,
        "start_time": "2021-07-10T06:51:32.709Z"
      },
      {
        "duration": 9,
        "start_time": "2021-07-10T06:51:32.718Z"
      },
      {
        "duration": 2642,
        "start_time": "2021-07-10T06:51:32.729Z"
      },
      {
        "duration": 2617,
        "start_time": "2021-07-10T06:51:35.373Z"
      },
      {
        "duration": 2637,
        "start_time": "2021-07-10T06:51:37.992Z"
      },
      {
        "duration": 2649,
        "start_time": "2021-07-10T06:51:40.632Z"
      },
      {
        "duration": 2603,
        "start_time": "2021-07-10T06:51:43.284Z"
      },
      {
        "duration": 2597,
        "start_time": "2021-07-10T06:51:45.889Z"
      },
      {
        "duration": 23,
        "start_time": "2021-07-10T06:51:48.488Z"
      },
      {
        "duration": 395,
        "start_time": "2021-07-10T06:51:48.514Z"
      },
      {
        "duration": 34,
        "start_time": "2021-07-10T06:55:25.403Z"
      },
      {
        "duration": 20,
        "start_time": "2021-07-10T06:56:54.082Z"
      },
      {
        "duration": 448,
        "start_time": "2021-07-10T06:56:57.392Z"
      },
      {
        "duration": 32,
        "start_time": "2021-07-10T06:56:57.844Z"
      },
      {
        "duration": 45,
        "start_time": "2021-07-10T06:56:58.603Z"
      },
      {
        "duration": 23,
        "start_time": "2021-07-10T06:56:59.362Z"
      },
      {
        "duration": 65,
        "start_time": "2021-07-10T06:57:00.146Z"
      },
      {
        "duration": 28,
        "start_time": "2021-07-10T06:57:09.715Z"
      },
      {
        "duration": 21,
        "start_time": "2021-07-10T06:57:10.261Z"
      },
      {
        "duration": 10,
        "start_time": "2021-07-10T06:57:32.411Z"
      },
      {
        "duration": 22,
        "start_time": "2021-07-10T06:59:40.244Z"
      },
      {
        "duration": 25,
        "start_time": "2021-07-10T06:59:40.363Z"
      },
      {
        "duration": 19,
        "start_time": "2021-07-10T06:59:40.835Z"
      },
      {
        "duration": 82,
        "start_time": "2021-07-10T06:59:41.291Z"
      },
      {
        "duration": 19,
        "start_time": "2021-07-10T06:59:45.860Z"
      },
      {
        "duration": 87,
        "start_time": "2021-07-10T07:15:42.799Z"
      },
      {
        "duration": 6,
        "start_time": "2021-07-10T07:16:12.903Z"
      },
      {
        "duration": 257,
        "start_time": "2021-07-10T07:20:49.878Z"
      },
      {
        "duration": 109,
        "start_time": "2021-07-10T07:20:54.855Z"
      },
      {
        "duration": 10,
        "start_time": "2021-07-10T07:21:00.424Z"
      },
      {
        "duration": 14,
        "start_time": "2021-07-10T07:22:44.478Z"
      },
      {
        "duration": 258,
        "start_time": "2021-07-10T07:31:24.251Z"
      },
      {
        "duration": 15,
        "start_time": "2021-07-10T07:32:17.834Z"
      },
      {
        "duration": 15,
        "start_time": "2021-07-10T07:33:47.084Z"
      },
      {
        "duration": 536,
        "start_time": "2021-07-10T07:33:47.101Z"
      },
      {
        "duration": 3,
        "start_time": "2021-07-10T07:54:30.078Z"
      },
      {
        "duration": 527,
        "start_time": "2021-07-10T07:59:24.738Z"
      },
      {
        "duration": 86,
        "start_time": "2021-07-10T07:59:28.584Z"
      },
      {
        "duration": 3,
        "start_time": "2021-07-10T07:59:35.497Z"
      },
      {
        "duration": 4,
        "start_time": "2021-07-10T07:59:40.864Z"
      },
      {
        "duration": 93,
        "start_time": "2021-07-10T07:59:41.256Z"
      },
      {
        "duration": 4,
        "start_time": "2021-07-10T07:59:41.648Z"
      },
      {
        "duration": 5,
        "start_time": "2021-07-10T07:59:42.720Z"
      },
      {
        "duration": 4,
        "start_time": "2021-07-10T07:59:48.792Z"
      },
      {
        "duration": 6,
        "start_time": "2021-07-10T07:59:49.273Z"
      },
      {
        "duration": 3,
        "start_time": "2021-07-10T07:59:50.155Z"
      },
      {
        "duration": 5,
        "start_time": "2021-07-10T08:00:21.784Z"
      },
      {
        "duration": 3,
        "start_time": "2021-07-10T08:00:33.608Z"
      },
      {
        "duration": 10,
        "start_time": "2021-07-10T08:01:50.577Z"
      },
      {
        "duration": 10,
        "start_time": "2021-07-10T08:02:35.430Z"
      },
      {
        "duration": 12,
        "start_time": "2021-07-10T08:02:44.912Z"
      },
      {
        "duration": 7,
        "start_time": "2021-07-10T08:11:49.698Z"
      },
      {
        "duration": 14,
        "start_time": "2021-07-10T08:11:50.334Z"
      },
      {
        "duration": 13,
        "start_time": "2021-07-10T08:11:50.817Z"
      },
      {
        "duration": 17,
        "start_time": "2021-07-10T08:11:51.301Z"
      },
      {
        "duration": 8,
        "start_time": "2021-07-10T08:11:53.547Z"
      },
      {
        "duration": 6,
        "start_time": "2021-07-10T08:11:54.882Z"
      },
      {
        "duration": 3179,
        "start_time": "2021-07-10T08:11:55.659Z"
      },
      {
        "duration": 3059,
        "start_time": "2021-07-10T08:11:58.841Z"
      },
      {
        "duration": 3180,
        "start_time": "2021-07-10T08:12:01.905Z"
      },
      {
        "duration": 3184,
        "start_time": "2021-07-10T08:12:05.088Z"
      },
      {
        "duration": 3206,
        "start_time": "2021-07-10T08:12:08.275Z"
      },
      {
        "duration": 3077,
        "start_time": "2021-07-10T08:12:11.484Z"
      },
      {
        "duration": 18,
        "start_time": "2021-07-10T08:12:14.563Z"
      },
      {
        "duration": 410,
        "start_time": "2021-07-10T08:12:14.601Z"
      },
      {
        "duration": 6,
        "start_time": "2021-07-10T08:14:06.612Z"
      },
      {
        "duration": 19,
        "start_time": "2021-07-10T08:14:07.099Z"
      },
      {
        "duration": 15,
        "start_time": "2021-07-10T08:14:07.579Z"
      },
      {
        "duration": 15,
        "start_time": "2021-07-10T08:14:07.908Z"
      },
      {
        "duration": 24,
        "start_time": "2021-07-10T08:15:14.276Z"
      },
      {
        "duration": 30,
        "start_time": "2021-07-10T08:15:27.283Z"
      },
      {
        "duration": 4,
        "start_time": "2021-07-10T08:30:05.926Z"
      },
      {
        "duration": 2535,
        "start_time": "2021-07-10T08:56:24.924Z"
      },
      {
        "duration": 49,
        "start_time": "2021-07-10T08:56:27.463Z"
      },
      {
        "duration": 62,
        "start_time": "2021-07-10T08:56:27.515Z"
      },
      {
        "duration": 44,
        "start_time": "2021-07-10T08:56:27.580Z"
      },
      {
        "duration": 29,
        "start_time": "2021-07-10T08:56:27.627Z"
      },
      {
        "duration": 56,
        "start_time": "2021-07-10T08:56:27.659Z"
      },
      {
        "duration": 108,
        "start_time": "2021-07-10T08:56:27.718Z"
      },
      {
        "duration": 1512,
        "start_time": "2021-07-10T08:56:27.832Z"
      },
      {
        "duration": 6,
        "start_time": "2021-07-10T08:56:29.348Z"
      },
      {
        "duration": 1449,
        "start_time": "2021-07-10T08:56:29.357Z"
      },
      {
        "duration": 1334,
        "start_time": "2021-07-10T08:56:30.809Z"
      },
      {
        "duration": 1382,
        "start_time": "2021-07-10T08:56:32.146Z"
      },
      {
        "duration": 10,
        "start_time": "2021-07-10T08:56:33.530Z"
      },
      {
        "duration": 262,
        "start_time": "2021-07-10T08:56:33.542Z"
      },
      {
        "duration": 103,
        "start_time": "2021-07-10T08:56:33.807Z"
      },
      {
        "duration": 520,
        "start_time": "2021-07-10T08:56:33.912Z"
      },
      {
        "duration": 5,
        "start_time": "2021-07-10T08:56:34.435Z"
      },
      {
        "duration": 11,
        "start_time": "2021-07-10T08:56:34.442Z"
      },
      {
        "duration": 8,
        "start_time": "2021-07-10T08:56:34.456Z"
      },
      {
        "duration": 46,
        "start_time": "2021-07-10T08:56:34.466Z"
      },
      {
        "duration": 18,
        "start_time": "2021-07-10T08:56:34.515Z"
      },
      {
        "duration": 5,
        "start_time": "2021-07-10T08:56:34.536Z"
      },
      {
        "duration": 13,
        "start_time": "2021-07-10T08:56:34.545Z"
      },
      {
        "duration": 51,
        "start_time": "2021-07-10T08:56:34.562Z"
      },
      {
        "duration": 14,
        "start_time": "2021-07-10T08:56:34.617Z"
      },
      {
        "duration": 7,
        "start_time": "2021-07-10T08:56:34.634Z"
      },
      {
        "duration": 10,
        "start_time": "2021-07-10T08:56:34.643Z"
      },
      {
        "duration": 5865,
        "start_time": "2021-07-10T08:56:34.656Z"
      },
      {
        "duration": 5930,
        "start_time": "2021-07-10T08:56:40.524Z"
      },
      {
        "duration": 5647,
        "start_time": "2021-07-10T08:56:46.457Z"
      },
      {
        "duration": 21,
        "start_time": "2021-07-10T08:56:52.107Z"
      },
      {
        "duration": 521,
        "start_time": "2021-07-10T08:56:52.131Z"
      },
      {
        "duration": 9,
        "start_time": "2021-07-10T09:02:53.012Z"
      },
      {
        "duration": 7,
        "start_time": "2021-07-10T09:02:59.475Z"
      },
      {
        "duration": 2009,
        "start_time": "2021-07-10T09:03:53.139Z"
      },
      {
        "duration": 52,
        "start_time": "2021-07-10T09:03:55.151Z"
      },
      {
        "duration": 57,
        "start_time": "2021-07-10T09:03:55.206Z"
      },
      {
        "duration": 42,
        "start_time": "2021-07-10T09:03:55.266Z"
      },
      {
        "duration": 23,
        "start_time": "2021-07-10T09:03:55.311Z"
      },
      {
        "duration": 23,
        "start_time": "2021-07-10T09:03:55.337Z"
      },
      {
        "duration": 123,
        "start_time": "2021-07-10T09:03:55.363Z"
      },
      {
        "duration": 1527,
        "start_time": "2021-07-10T09:03:55.491Z"
      },
      {
        "duration": 4,
        "start_time": "2021-07-10T09:03:57.022Z"
      },
      {
        "duration": 1491,
        "start_time": "2021-07-10T09:03:57.029Z"
      },
      {
        "duration": 1898,
        "start_time": "2021-07-10T09:03:58.522Z"
      },
      {
        "duration": 1430,
        "start_time": "2021-07-10T09:04:00.423Z"
      },
      {
        "duration": 11,
        "start_time": "2021-07-10T09:04:01.856Z"
      },
      {
        "duration": 450,
        "start_time": "2021-07-10T09:04:01.870Z"
      },
      {
        "duration": 97,
        "start_time": "2021-07-10T09:04:02.324Z"
      },
      {
        "duration": 576,
        "start_time": "2021-07-10T09:04:02.424Z"
      },
      {
        "duration": 5,
        "start_time": "2021-07-10T09:04:03.005Z"
      },
      {
        "duration": 10,
        "start_time": "2021-07-10T09:04:03.016Z"
      },
      {
        "duration": 14,
        "start_time": "2021-07-10T09:04:03.028Z"
      },
      {
        "duration": 13,
        "start_time": "2021-07-10T09:04:03.045Z"
      },
      {
        "duration": 40,
        "start_time": "2021-07-10T09:04:03.060Z"
      },
      {
        "duration": 10,
        "start_time": "2021-07-10T09:04:03.103Z"
      },
      {
        "duration": 17,
        "start_time": "2021-07-10T09:04:03.117Z"
      },
      {
        "duration": 15,
        "start_time": "2021-07-10T09:04:03.138Z"
      },
      {
        "duration": 45,
        "start_time": "2021-07-10T09:04:03.156Z"
      },
      {
        "duration": 12,
        "start_time": "2021-07-10T09:04:03.204Z"
      },
      {
        "duration": 13,
        "start_time": "2021-07-10T09:04:03.219Z"
      },
      {
        "duration": 6530,
        "start_time": "2021-07-10T09:04:03.235Z"
      },
      {
        "duration": 5715,
        "start_time": "2021-07-10T09:04:09.767Z"
      },
      {
        "duration": 5776,
        "start_time": "2021-07-10T09:04:15.485Z"
      },
      {
        "duration": 17,
        "start_time": "2021-07-10T09:04:21.264Z"
      },
      {
        "duration": 410,
        "start_time": "2021-07-10T09:04:21.304Z"
      },
      {
        "duration": 19,
        "start_time": "2021-07-10T09:05:37.732Z"
      },
      {
        "duration": 396,
        "start_time": "2021-07-10T09:05:38.468Z"
      },
      {
        "duration": 2021,
        "start_time": "2021-07-10T09:05:44.144Z"
      },
      {
        "duration": 45,
        "start_time": "2021-07-10T09:05:46.168Z"
      },
      {
        "duration": 52,
        "start_time": "2021-07-10T09:05:46.219Z"
      },
      {
        "duration": 55,
        "start_time": "2021-07-10T09:05:46.275Z"
      },
      {
        "duration": 24,
        "start_time": "2021-07-10T09:05:46.333Z"
      },
      {
        "duration": 62,
        "start_time": "2021-07-10T09:05:46.360Z"
      },
      {
        "duration": 96,
        "start_time": "2021-07-10T09:05:46.425Z"
      },
      {
        "duration": 1535,
        "start_time": "2021-07-10T09:05:46.525Z"
      },
      {
        "duration": 5,
        "start_time": "2021-07-10T09:05:48.064Z"
      },
      {
        "duration": 1443,
        "start_time": "2021-07-10T09:05:48.072Z"
      },
      {
        "duration": 1284,
        "start_time": "2021-07-10T09:05:49.517Z"
      },
      {
        "duration": 1355,
        "start_time": "2021-07-10T09:05:50.804Z"
      },
      {
        "duration": 11,
        "start_time": "2021-07-10T09:05:52.162Z"
      },
      {
        "duration": 324,
        "start_time": "2021-07-10T09:05:52.177Z"
      },
      {
        "duration": 102,
        "start_time": "2021-07-10T09:05:52.504Z"
      },
      {
        "duration": 518,
        "start_time": "2021-07-10T09:05:52.610Z"
      },
      {
        "duration": 4,
        "start_time": "2021-07-10T09:05:53.131Z"
      },
      {
        "duration": 10,
        "start_time": "2021-07-10T09:05:53.137Z"
      },
      {
        "duration": 10,
        "start_time": "2021-07-10T09:05:53.149Z"
      },
      {
        "duration": 23,
        "start_time": "2021-07-10T09:05:53.161Z"
      },
      {
        "duration": 20,
        "start_time": "2021-07-10T09:05:53.201Z"
      },
      {
        "duration": 5,
        "start_time": "2021-07-10T09:05:53.224Z"
      },
      {
        "duration": 29,
        "start_time": "2021-07-10T09:05:53.234Z"
      },
      {
        "duration": 39,
        "start_time": "2021-07-10T09:05:53.266Z"
      },
      {
        "duration": 14,
        "start_time": "2021-07-10T09:05:53.308Z"
      },
      {
        "duration": 8,
        "start_time": "2021-07-10T09:05:53.325Z"
      },
      {
        "duration": 9,
        "start_time": "2021-07-10T09:05:53.335Z"
      },
      {
        "duration": 5847,
        "start_time": "2021-07-10T09:05:53.347Z"
      },
      {
        "duration": 6225,
        "start_time": "2021-07-10T09:05:59.197Z"
      },
      {
        "duration": 5906,
        "start_time": "2021-07-10T09:06:05.424Z"
      },
      {
        "duration": 22,
        "start_time": "2021-07-10T09:06:11.333Z"
      },
      {
        "duration": 428,
        "start_time": "2021-07-10T09:06:11.358Z"
      },
      {
        "duration": 2077,
        "start_time": "2021-07-10T09:07:47.527Z"
      },
      {
        "duration": 38,
        "start_time": "2021-07-10T09:07:49.607Z"
      },
      {
        "duration": 68,
        "start_time": "2021-07-10T09:07:49.648Z"
      },
      {
        "duration": 23,
        "start_time": "2021-07-10T09:07:49.719Z"
      },
      {
        "duration": 34,
        "start_time": "2021-07-10T09:07:49.745Z"
      },
      {
        "duration": 45,
        "start_time": "2021-07-10T09:07:49.782Z"
      },
      {
        "duration": 105,
        "start_time": "2021-07-10T09:07:49.830Z"
      },
      {
        "duration": 1584,
        "start_time": "2021-07-10T09:07:49.938Z"
      },
      {
        "duration": 6,
        "start_time": "2021-07-10T09:07:51.525Z"
      },
      {
        "duration": 1460,
        "start_time": "2021-07-10T09:07:51.534Z"
      },
      {
        "duration": 1296,
        "start_time": "2021-07-10T09:07:52.996Z"
      },
      {
        "duration": 1333,
        "start_time": "2021-07-10T09:07:54.295Z"
      },
      {
        "duration": 9,
        "start_time": "2021-07-10T09:07:55.631Z"
      },
      {
        "duration": 462,
        "start_time": "2021-07-10T09:07:55.643Z"
      },
      {
        "duration": 101,
        "start_time": "2021-07-10T09:07:56.108Z"
      },
      {
        "duration": 538,
        "start_time": "2021-07-10T09:07:56.214Z"
      },
      {
        "duration": 4,
        "start_time": "2021-07-10T09:07:56.755Z"
      },
      {
        "duration": 14,
        "start_time": "2021-07-10T09:07:56.762Z"
      },
      {
        "duration": 14,
        "start_time": "2021-07-10T09:07:56.778Z"
      },
      {
        "duration": 14,
        "start_time": "2021-07-10T09:07:56.805Z"
      },
      {
        "duration": 22,
        "start_time": "2021-07-10T09:07:56.822Z"
      },
      {
        "duration": 6,
        "start_time": "2021-07-10T09:07:56.847Z"
      },
      {
        "duration": 19,
        "start_time": "2021-07-10T09:07:56.860Z"
      },
      {
        "duration": 20,
        "start_time": "2021-07-10T09:07:56.901Z"
      },
      {
        "duration": 12,
        "start_time": "2021-07-10T09:07:56.924Z"
      },
      {
        "duration": 7,
        "start_time": "2021-07-10T09:07:56.939Z"
      },
      {
        "duration": 12,
        "start_time": "2021-07-10T09:07:56.949Z"
      },
      {
        "duration": 5668,
        "start_time": "2021-07-10T09:07:56.964Z"
      },
      {
        "duration": 5502,
        "start_time": "2021-07-10T09:08:02.634Z"
      },
      {
        "duration": 5777,
        "start_time": "2021-07-10T09:08:08.139Z"
      },
      {
        "duration": 20,
        "start_time": "2021-07-10T09:08:13.919Z"
      },
      {
        "duration": 410,
        "start_time": "2021-07-10T09:08:13.941Z"
      },
      {
        "duration": 1907,
        "start_time": "2021-07-10T09:08:51.549Z"
      },
      {
        "duration": 43,
        "start_time": "2021-07-10T09:08:53.459Z"
      },
      {
        "duration": 49,
        "start_time": "2021-07-10T09:08:53.507Z"
      },
      {
        "duration": 19,
        "start_time": "2021-07-10T09:08:53.559Z"
      },
      {
        "duration": 28,
        "start_time": "2021-07-10T09:08:53.600Z"
      },
      {
        "duration": 25,
        "start_time": "2021-07-10T09:08:53.631Z"
      },
      {
        "duration": 107,
        "start_time": "2021-07-10T09:08:53.660Z"
      },
      {
        "duration": 1499,
        "start_time": "2021-07-10T09:08:53.772Z"
      },
      {
        "duration": 7,
        "start_time": "2021-07-10T09:08:55.275Z"
      },
      {
        "duration": 1490,
        "start_time": "2021-07-10T09:08:55.284Z"
      },
      {
        "duration": 1869,
        "start_time": "2021-07-10T09:08:56.777Z"
      },
      {
        "duration": 1355,
        "start_time": "2021-07-10T09:08:58.649Z"
      },
      {
        "duration": 17,
        "start_time": "2021-07-10T09:09:00.007Z"
      },
      {
        "duration": 403,
        "start_time": "2021-07-10T09:09:00.026Z"
      },
      {
        "duration": 108,
        "start_time": "2021-07-10T09:09:00.509Z"
      },
      {
        "duration": 541,
        "start_time": "2021-07-10T09:09:00.619Z"
      },
      {
        "duration": 4,
        "start_time": "2021-07-10T09:09:01.162Z"
      },
      {
        "duration": 13,
        "start_time": "2021-07-10T09:09:01.168Z"
      },
      {
        "duration": 10,
        "start_time": "2021-07-10T09:09:01.200Z"
      },
      {
        "duration": 20,
        "start_time": "2021-07-10T09:09:01.213Z"
      },
      {
        "duration": 23,
        "start_time": "2021-07-10T09:09:01.236Z"
      },
      {
        "duration": 7,
        "start_time": "2021-07-10T09:09:01.262Z"
      },
      {
        "duration": 20,
        "start_time": "2021-07-10T09:09:01.303Z"
      },
      {
        "duration": 16,
        "start_time": "2021-07-10T09:09:01.327Z"
      },
      {
        "duration": 15,
        "start_time": "2021-07-10T09:09:01.347Z"
      },
      {
        "duration": 41,
        "start_time": "2021-07-10T09:09:01.365Z"
      },
      {
        "duration": 22,
        "start_time": "2021-07-10T09:09:01.412Z"
      },
      {
        "duration": 5691,
        "start_time": "2021-07-10T09:09:01.437Z"
      },
      {
        "duration": 5570,
        "start_time": "2021-07-10T09:09:07.131Z"
      },
      {
        "duration": 5785,
        "start_time": "2021-07-10T09:09:12.704Z"
      },
      {
        "duration": 18,
        "start_time": "2021-07-10T09:09:18.491Z"
      },
      {
        "duration": 409,
        "start_time": "2021-07-10T09:09:18.517Z"
      },
      {
        "duration": 91,
        "start_time": "2021-07-15T17:49:13.323Z"
      },
      {
        "duration": 2046,
        "start_time": "2021-07-15T17:53:45.526Z"
      },
      {
        "duration": 32,
        "start_time": "2021-07-15T17:53:47.574Z"
      },
      {
        "duration": 42,
        "start_time": "2021-07-15T17:53:47.609Z"
      },
      {
        "duration": 20,
        "start_time": "2021-07-15T17:53:47.654Z"
      },
      {
        "duration": 42,
        "start_time": "2021-07-15T17:53:47.676Z"
      },
      {
        "duration": 20,
        "start_time": "2021-07-15T17:53:47.720Z"
      },
      {
        "duration": 102,
        "start_time": "2021-07-15T17:53:47.743Z"
      },
      {
        "duration": 1560,
        "start_time": "2021-07-15T17:53:47.849Z"
      },
      {
        "duration": 7,
        "start_time": "2021-07-15T17:53:49.413Z"
      },
      {
        "duration": 1488,
        "start_time": "2021-07-15T17:53:49.423Z"
      },
      {
        "duration": 1344,
        "start_time": "2021-07-15T17:53:50.913Z"
      },
      {
        "duration": 1289,
        "start_time": "2021-07-15T17:53:52.260Z"
      },
      {
        "duration": 13,
        "start_time": "2021-07-15T17:53:53.552Z"
      },
      {
        "duration": 337,
        "start_time": "2021-07-15T17:53:53.567Z"
      },
      {
        "duration": 111,
        "start_time": "2021-07-15T17:53:53.907Z"
      },
      {
        "duration": 567,
        "start_time": "2021-07-15T17:53:54.021Z"
      },
      {
        "duration": 12,
        "start_time": "2021-07-15T17:53:54.591Z"
      },
      {
        "duration": 8,
        "start_time": "2021-07-15T17:53:54.605Z"
      },
      {
        "duration": 8,
        "start_time": "2021-07-15T17:53:54.615Z"
      },
      {
        "duration": 11,
        "start_time": "2021-07-15T17:53:54.626Z"
      },
      {
        "duration": 13,
        "start_time": "2021-07-15T17:53:54.640Z"
      },
      {
        "duration": 5,
        "start_time": "2021-07-15T17:53:54.656Z"
      },
      {
        "duration": 15,
        "start_time": "2021-07-15T17:53:54.702Z"
      },
      {
        "duration": 10,
        "start_time": "2021-07-15T17:53:54.720Z"
      },
      {
        "duration": 11,
        "start_time": "2021-07-15T17:53:54.732Z"
      },
      {
        "duration": 6,
        "start_time": "2021-07-15T17:53:54.745Z"
      },
      {
        "duration": 47,
        "start_time": "2021-07-15T17:53:54.753Z"
      },
      {
        "duration": 5259,
        "start_time": "2021-07-15T17:53:54.802Z"
      },
      {
        "duration": 5306,
        "start_time": "2021-07-15T17:54:00.063Z"
      },
      {
        "duration": 5280,
        "start_time": "2021-07-15T17:54:05.372Z"
      },
      {
        "duration": 17,
        "start_time": "2021-07-15T17:54:10.655Z"
      },
      {
        "duration": 399,
        "start_time": "2021-07-15T17:54:10.674Z"
      },
      {
        "duration": 1867,
        "start_time": "2021-07-15T17:55:12.438Z"
      },
      {
        "duration": 33,
        "start_time": "2021-07-15T17:55:14.308Z"
      },
      {
        "duration": 71,
        "start_time": "2021-07-15T17:55:14.344Z"
      },
      {
        "duration": 20,
        "start_time": "2021-07-15T17:55:14.418Z"
      },
      {
        "duration": 24,
        "start_time": "2021-07-15T17:55:14.440Z"
      },
      {
        "duration": 51,
        "start_time": "2021-07-15T17:55:14.467Z"
      },
      {
        "duration": 126,
        "start_time": "2021-07-15T17:55:14.521Z"
      },
      {
        "duration": 1713,
        "start_time": "2021-07-15T17:55:14.650Z"
      },
      {
        "duration": 6,
        "start_time": "2021-07-15T17:55:16.366Z"
      },
      {
        "duration": 1453,
        "start_time": "2021-07-15T17:55:16.374Z"
      },
      {
        "duration": 1278,
        "start_time": "2021-07-15T17:55:17.830Z"
      },
      {
        "duration": 1281,
        "start_time": "2021-07-15T17:55:19.110Z"
      },
      {
        "duration": 14,
        "start_time": "2021-07-15T17:55:20.393Z"
      },
      {
        "duration": 293,
        "start_time": "2021-07-15T17:55:20.410Z"
      },
      {
        "duration": 103,
        "start_time": "2021-07-15T17:55:20.707Z"
      },
      {
        "duration": 513,
        "start_time": "2021-07-15T17:55:20.812Z"
      },
      {
        "duration": 3,
        "start_time": "2021-07-15T17:55:21.328Z"
      },
      {
        "duration": 8,
        "start_time": "2021-07-15T17:55:21.334Z"
      },
      {
        "duration": 8,
        "start_time": "2021-07-15T17:55:21.344Z"
      },
      {
        "duration": 11,
        "start_time": "2021-07-15T17:55:21.355Z"
      },
      {
        "duration": 45,
        "start_time": "2021-07-15T17:55:21.369Z"
      },
      {
        "duration": 5,
        "start_time": "2021-07-15T17:55:21.416Z"
      },
      {
        "duration": 12,
        "start_time": "2021-07-15T17:55:21.426Z"
      },
      {
        "duration": 10,
        "start_time": "2021-07-15T17:55:21.441Z"
      },
      {
        "duration": 53,
        "start_time": "2021-07-15T17:55:21.454Z"
      },
      {
        "duration": 9,
        "start_time": "2021-07-15T17:55:21.510Z"
      },
      {
        "duration": 92,
        "start_time": "2021-07-15T17:55:21.521Z"
      },
      {
        "duration": -256,
        "start_time": "2021-07-15T17:55:21.872Z"
      },
      {
        "duration": -260,
        "start_time": "2021-07-15T17:55:21.878Z"
      },
      {
        "duration": -266,
        "start_time": "2021-07-15T17:55:21.885Z"
      },
      {
        "duration": -273,
        "start_time": "2021-07-15T17:55:21.894Z"
      },
      {
        "duration": -276,
        "start_time": "2021-07-15T17:55:21.899Z"
      },
      {
        "duration": 3,
        "start_time": "2021-07-15T17:55:40.090Z"
      },
      {
        "duration": 3454,
        "start_time": "2021-07-15T17:55:41.746Z"
      },
      {
        "duration": -254,
        "start_time": "2021-07-15T17:55:45.458Z"
      },
      {
        "duration": -255,
        "start_time": "2021-07-15T17:55:45.461Z"
      },
      {
        "duration": 2715,
        "start_time": "2021-07-15T17:55:52.387Z"
      },
      {
        "duration": 2715,
        "start_time": "2021-07-15T17:55:55.105Z"
      },
      {
        "duration": 2616,
        "start_time": "2021-07-15T17:55:57.823Z"
      },
      {
        "duration": 14,
        "start_time": "2021-07-15T17:56:00.442Z"
      },
      {
        "duration": 386,
        "start_time": "2021-07-15T17:56:05.403Z"
      },
      {
        "duration": 2223,
        "start_time": "2021-07-15T18:09:34.786Z"
      },
      {
        "duration": 34,
        "start_time": "2021-07-15T18:09:37.012Z"
      },
      {
        "duration": 71,
        "start_time": "2021-07-15T18:09:37.049Z"
      },
      {
        "duration": 22,
        "start_time": "2021-07-15T18:09:37.123Z"
      },
      {
        "duration": 29,
        "start_time": "2021-07-15T18:09:37.147Z"
      },
      {
        "duration": 43,
        "start_time": "2021-07-15T18:09:37.179Z"
      },
      {
        "duration": 115,
        "start_time": "2021-07-15T18:09:37.225Z"
      },
      {
        "duration": 1661,
        "start_time": "2021-07-15T18:09:37.343Z"
      },
      {
        "duration": 5,
        "start_time": "2021-07-15T18:09:39.007Z"
      },
      {
        "duration": 1555,
        "start_time": "2021-07-15T18:09:39.015Z"
      },
      {
        "duration": 1368,
        "start_time": "2021-07-15T18:09:40.572Z"
      },
      {
        "duration": 1322,
        "start_time": "2021-07-15T18:09:41.943Z"
      },
      {
        "duration": 10,
        "start_time": "2021-07-15T18:09:43.268Z"
      },
      {
        "duration": 320,
        "start_time": "2021-07-15T18:09:43.281Z"
      },
      {
        "duration": 105,
        "start_time": "2021-07-15T18:09:43.604Z"
      },
      {
        "duration": 516,
        "start_time": "2021-07-15T18:09:43.711Z"
      },
      {
        "duration": 3,
        "start_time": "2021-07-15T18:09:44.230Z"
      },
      {
        "duration": 10,
        "start_time": "2021-07-15T18:09:44.235Z"
      },
      {
        "duration": 7,
        "start_time": "2021-07-15T18:09:44.247Z"
      },
      {
        "duration": 11,
        "start_time": "2021-07-15T18:09:44.256Z"
      },
      {
        "duration": 35,
        "start_time": "2021-07-15T18:09:44.269Z"
      },
      {
        "duration": 22,
        "start_time": "2021-07-15T18:09:44.307Z"
      },
      {
        "duration": 5,
        "start_time": "2021-07-15T18:09:44.334Z"
      },
      {
        "duration": 20,
        "start_time": "2021-07-15T18:09:44.342Z"
      },
      {
        "duration": 37,
        "start_time": "2021-07-15T18:09:44.365Z"
      },
      {
        "duration": 13,
        "start_time": "2021-07-15T18:09:44.404Z"
      },
      {
        "duration": 7,
        "start_time": "2021-07-15T18:09:44.420Z"
      },
      {
        "duration": 6,
        "start_time": "2021-07-15T18:09:44.430Z"
      },
      {
        "duration": 2841,
        "start_time": "2021-07-15T18:09:44.439Z"
      },
      {
        "duration": 2900,
        "start_time": "2021-07-15T18:09:47.282Z"
      },
      {
        "duration": 2817,
        "start_time": "2021-07-15T18:09:50.184Z"
      },
      {
        "duration": 15,
        "start_time": "2021-07-15T18:09:53.003Z"
      },
      {
        "duration": 396,
        "start_time": "2021-07-15T18:09:53.021Z"
      },
      {
        "duration": 1952,
        "start_time": "2021-07-15T18:11:43.962Z"
      },
      {
        "duration": 34,
        "start_time": "2021-07-15T18:11:45.917Z"
      },
      {
        "duration": 70,
        "start_time": "2021-07-15T18:11:45.957Z"
      },
      {
        "duration": 23,
        "start_time": "2021-07-15T18:11:46.029Z"
      },
      {
        "duration": 49,
        "start_time": "2021-07-15T18:11:46.054Z"
      },
      {
        "duration": 22,
        "start_time": "2021-07-15T18:11:46.105Z"
      },
      {
        "duration": 108,
        "start_time": "2021-07-15T18:11:46.131Z"
      },
      {
        "duration": 1603,
        "start_time": "2021-07-15T18:11:46.243Z"
      },
      {
        "duration": 5,
        "start_time": "2021-07-15T18:11:47.848Z"
      },
      {
        "duration": 1565,
        "start_time": "2021-07-15T18:11:47.855Z"
      },
      {
        "duration": 1323,
        "start_time": "2021-07-15T18:11:49.422Z"
      },
      {
        "duration": 1315,
        "start_time": "2021-07-15T18:11:50.748Z"
      },
      {
        "duration": 10,
        "start_time": "2021-07-15T18:11:52.065Z"
      },
      {
        "duration": 231,
        "start_time": "2021-07-15T18:11:52.078Z"
      },
      {
        "duration": 107,
        "start_time": "2021-07-15T18:11:52.402Z"
      },
      {
        "duration": 528,
        "start_time": "2021-07-15T18:11:52.512Z"
      },
      {
        "duration": 3,
        "start_time": "2021-07-15T18:11:53.043Z"
      },
      {
        "duration": 6,
        "start_time": "2021-07-15T18:11:53.049Z"
      },
      {
        "duration": 5,
        "start_time": "2021-07-15T18:11:53.058Z"
      },
      {
        "duration": 38,
        "start_time": "2021-07-15T18:11:53.066Z"
      },
      {
        "duration": 14,
        "start_time": "2021-07-15T18:11:53.107Z"
      },
      {
        "duration": 14,
        "start_time": "2021-07-15T18:11:53.126Z"
      },
      {
        "duration": 4,
        "start_time": "2021-07-15T18:11:53.143Z"
      },
      {
        "duration": 14,
        "start_time": "2021-07-15T18:11:53.149Z"
      },
      {
        "duration": 44,
        "start_time": "2021-07-15T18:11:53.165Z"
      },
      {
        "duration": 13,
        "start_time": "2021-07-15T18:11:53.212Z"
      },
      {
        "duration": 6,
        "start_time": "2021-07-15T18:11:53.227Z"
      },
      {
        "duration": 12,
        "start_time": "2021-07-15T18:11:53.236Z"
      },
      {
        "duration": 2838,
        "start_time": "2021-07-15T18:11:53.250Z"
      },
      {
        "duration": 2753,
        "start_time": "2021-07-15T18:11:56.090Z"
      },
      {
        "duration": 2731,
        "start_time": "2021-07-15T18:11:58.845Z"
      },
      {
        "duration": 24,
        "start_time": "2021-07-15T18:12:01.578Z"
      },
      {
        "duration": 389,
        "start_time": "2021-07-15T18:12:01.604Z"
      },
      {
        "duration": 448,
        "start_time": "2021-07-15T18:14:23.159Z"
      },
      {
        "duration": 31,
        "start_time": "2021-07-15T18:14:24.064Z"
      },
      {
        "duration": 44,
        "start_time": "2021-07-15T18:14:24.743Z"
      },
      {
        "duration": 22,
        "start_time": "2021-07-15T18:14:25.550Z"
      },
      {
        "duration": 22,
        "start_time": "2021-07-15T18:14:26.460Z"
      },
      {
        "duration": 25,
        "start_time": "2021-07-15T18:14:26.484Z"
      },
      {
        "duration": 80,
        "start_time": "2021-07-15T18:14:26.696Z"
      },
      {
        "duration": 1411,
        "start_time": "2021-07-15T18:14:27.655Z"
      },
      {
        "duration": 5,
        "start_time": "2021-07-15T18:14:29.068Z"
      },
      {
        "duration": 1316,
        "start_time": "2021-07-15T18:14:29.076Z"
      },
      {
        "duration": 1341,
        "start_time": "2021-07-15T18:14:30.394Z"
      },
      {
        "duration": 1272,
        "start_time": "2021-07-15T18:14:31.737Z"
      },
      {
        "duration": 9,
        "start_time": "2021-07-15T18:14:33.012Z"
      },
      {
        "duration": 201,
        "start_time": "2021-07-15T18:14:34.304Z"
      },
      {
        "duration": 15,
        "start_time": "2021-07-15T18:14:36.167Z"
      },
      {
        "duration": 500,
        "start_time": "2021-07-15T18:14:36.719Z"
      },
      {
        "duration": 3,
        "start_time": "2021-07-15T18:14:38.926Z"
      },
      {
        "duration": 4,
        "start_time": "2021-07-15T18:14:40.094Z"
      },
      {
        "duration": 4,
        "start_time": "2021-07-15T18:14:41.687Z"
      },
      {
        "duration": 4,
        "start_time": "2021-07-15T18:14:42.127Z"
      },
      {
        "duration": 12,
        "start_time": "2021-07-15T18:14:42.607Z"
      },
      {
        "duration": 14,
        "start_time": "2021-07-15T18:14:44.799Z"
      },
      {
        "duration": 5,
        "start_time": "2021-07-15T18:14:45.702Z"
      },
      {
        "duration": 12,
        "start_time": "2021-07-15T18:14:46.902Z"
      },
      {
        "duration": 12,
        "start_time": "2021-07-15T18:14:47.166Z"
      },
      {
        "duration": 12,
        "start_time": "2021-07-15T18:14:47.623Z"
      },
      {
        "duration": 7,
        "start_time": "2021-07-15T18:14:48.407Z"
      },
      {
        "duration": 3,
        "start_time": "2021-07-15T18:14:49.111Z"
      },
      {
        "duration": 2896,
        "start_time": "2021-07-15T18:14:49.511Z"
      },
      {
        "duration": 2680,
        "start_time": "2021-07-15T18:14:52.410Z"
      },
      {
        "duration": 2829,
        "start_time": "2021-07-15T18:14:55.093Z"
      },
      {
        "duration": 16,
        "start_time": "2021-07-15T18:14:57.925Z"
      },
      {
        "duration": 403,
        "start_time": "2021-07-15T18:14:57.943Z"
      },
      {
        "duration": 1932,
        "start_time": "2021-07-15T18:15:30.919Z"
      },
      {
        "duration": 50,
        "start_time": "2021-07-15T18:15:32.854Z"
      },
      {
        "duration": 47,
        "start_time": "2021-07-15T18:15:32.908Z"
      },
      {
        "duration": 45,
        "start_time": "2021-07-15T18:15:32.958Z"
      },
      {
        "duration": 24,
        "start_time": "2021-07-15T18:15:33.006Z"
      },
      {
        "duration": 27,
        "start_time": "2021-07-15T18:15:33.033Z"
      },
      {
        "duration": 119,
        "start_time": "2021-07-15T18:15:33.063Z"
      },
      {
        "duration": 1424,
        "start_time": "2021-07-15T18:15:33.187Z"
      },
      {
        "duration": 5,
        "start_time": "2021-07-15T18:15:34.614Z"
      },
      {
        "duration": 1364,
        "start_time": "2021-07-15T18:15:34.622Z"
      },
      {
        "duration": 1373,
        "start_time": "2021-07-15T18:15:35.989Z"
      },
      {
        "duration": 1330,
        "start_time": "2021-07-15T18:15:37.364Z"
      },
      {
        "duration": 11,
        "start_time": "2021-07-15T18:15:38.696Z"
      },
      {
        "duration": 293,
        "start_time": "2021-07-15T18:15:38.710Z"
      },
      {
        "duration": 193,
        "start_time": "2021-07-15T18:15:39.007Z"
      },
      {
        "duration": 542,
        "start_time": "2021-07-15T18:15:39.203Z"
      },
      {
        "duration": 4,
        "start_time": "2021-07-15T18:15:39.747Z"
      },
      {
        "duration": 16,
        "start_time": "2021-07-15T18:15:39.753Z"
      },
      {
        "duration": 14,
        "start_time": "2021-07-15T18:15:39.771Z"
      },
      {
        "duration": 16,
        "start_time": "2021-07-15T18:15:39.787Z"
      },
      {
        "duration": 25,
        "start_time": "2021-07-15T18:15:39.806Z"
      },
      {
        "duration": 28,
        "start_time": "2021-07-15T18:15:39.834Z"
      },
      {
        "duration": 5,
        "start_time": "2021-07-15T18:15:39.867Z"
      },
      {
        "duration": 15,
        "start_time": "2021-07-15T18:15:39.874Z"
      },
      {
        "duration": 32,
        "start_time": "2021-07-15T18:15:39.892Z"
      },
      {
        "duration": 11,
        "start_time": "2021-07-15T18:15:39.927Z"
      },
      {
        "duration": 7,
        "start_time": "2021-07-15T18:15:39.940Z"
      },
      {
        "duration": 10,
        "start_time": "2021-07-15T18:15:39.949Z"
      },
      {
        "duration": 2888,
        "start_time": "2021-07-15T18:15:39.961Z"
      },
      {
        "duration": 2713,
        "start_time": "2021-07-15T18:15:42.852Z"
      },
      {
        "duration": 2725,
        "start_time": "2021-07-15T18:15:45.567Z"
      },
      {
        "duration": 17,
        "start_time": "2021-07-15T18:15:48.294Z"
      },
      {
        "duration": 399,
        "start_time": "2021-07-15T18:15:48.313Z"
      },
      {
        "duration": 1945,
        "start_time": "2021-07-15T18:16:11.509Z"
      },
      {
        "duration": 45,
        "start_time": "2021-07-15T18:16:13.457Z"
      },
      {
        "duration": 46,
        "start_time": "2021-07-15T18:16:13.505Z"
      },
      {
        "duration": 21,
        "start_time": "2021-07-15T18:16:13.553Z"
      },
      {
        "duration": 45,
        "start_time": "2021-07-15T18:16:13.576Z"
      },
      {
        "duration": 27,
        "start_time": "2021-07-15T18:16:13.624Z"
      },
      {
        "duration": 113,
        "start_time": "2021-07-15T18:16:13.654Z"
      },
      {
        "duration": 1518,
        "start_time": "2021-07-15T18:16:13.771Z"
      },
      {
        "duration": 10,
        "start_time": "2021-07-15T18:16:15.292Z"
      },
      {
        "duration": 1381,
        "start_time": "2021-07-15T18:16:15.304Z"
      },
      {
        "duration": 1281,
        "start_time": "2021-07-15T18:16:16.688Z"
      },
      {
        "duration": 1301,
        "start_time": "2021-07-15T18:16:17.971Z"
      },
      {
        "duration": 25,
        "start_time": "2021-07-15T18:16:19.275Z"
      },
      {
        "duration": 301,
        "start_time": "2021-07-15T18:16:19.303Z"
      },
      {
        "duration": 111,
        "start_time": "2021-07-15T18:16:19.608Z"
      },
      {
        "duration": 577,
        "start_time": "2021-07-15T18:16:19.723Z"
      },
      {
        "duration": 3,
        "start_time": "2021-07-15T18:16:20.302Z"
      },
      {
        "duration": 6,
        "start_time": "2021-07-15T18:16:20.308Z"
      },
      {
        "duration": 7,
        "start_time": "2021-07-15T18:16:20.316Z"
      },
      {
        "duration": 8,
        "start_time": "2021-07-15T18:16:20.325Z"
      },
      {
        "duration": 12,
        "start_time": "2021-07-15T18:16:20.336Z"
      },
      {
        "duration": 51,
        "start_time": "2021-07-15T18:16:20.351Z"
      },
      {
        "duration": 5,
        "start_time": "2021-07-15T18:16:20.406Z"
      },
      {
        "duration": 15,
        "start_time": "2021-07-15T18:16:20.414Z"
      },
      {
        "duration": 12,
        "start_time": "2021-07-15T18:16:20.431Z"
      },
      {
        "duration": 12,
        "start_time": "2021-07-15T18:16:20.445Z"
      },
      {
        "duration": 44,
        "start_time": "2021-07-15T18:16:20.459Z"
      },
      {
        "duration": 7,
        "start_time": "2021-07-15T18:16:20.507Z"
      },
      {
        "duration": 2838,
        "start_time": "2021-07-15T18:16:20.517Z"
      },
      {
        "duration": 2781,
        "start_time": "2021-07-15T18:16:23.358Z"
      },
      {
        "duration": 2700,
        "start_time": "2021-07-15T18:16:26.142Z"
      },
      {
        "duration": 15,
        "start_time": "2021-07-15T18:16:28.845Z"
      },
      {
        "duration": 390,
        "start_time": "2021-07-15T18:16:28.862Z"
      },
      {
        "duration": 1948,
        "start_time": "2021-07-15T18:16:59.100Z"
      },
      {
        "duration": 50,
        "start_time": "2021-07-15T18:17:01.051Z"
      },
      {
        "duration": 42,
        "start_time": "2021-07-15T18:17:01.105Z"
      },
      {
        "duration": 22,
        "start_time": "2021-07-15T18:17:01.150Z"
      },
      {
        "duration": 24,
        "start_time": "2021-07-15T18:17:01.201Z"
      },
      {
        "duration": 34,
        "start_time": "2021-07-15T18:17:01.228Z"
      },
      {
        "duration": 111,
        "start_time": "2021-07-15T18:17:01.264Z"
      },
      {
        "duration": 1433,
        "start_time": "2021-07-15T18:17:01.378Z"
      },
      {
        "duration": 5,
        "start_time": "2021-07-15T18:17:02.815Z"
      },
      {
        "duration": 1323,
        "start_time": "2021-07-15T18:17:02.823Z"
      },
      {
        "duration": 1219,
        "start_time": "2021-07-15T18:17:04.149Z"
      },
      {
        "duration": 1270,
        "start_time": "2021-07-15T18:17:05.370Z"
      },
      {
        "duration": 10,
        "start_time": "2021-07-15T18:17:06.643Z"
      },
      {
        "duration": 346,
        "start_time": "2021-07-15T18:17:06.655Z"
      },
      {
        "duration": 110,
        "start_time": "2021-07-15T18:17:07.004Z"
      },
      {
        "duration": 517,
        "start_time": "2021-07-15T18:17:07.117Z"
      },
      {
        "duration": 3,
        "start_time": "2021-07-15T18:17:07.636Z"
      },
      {
        "duration": 6,
        "start_time": "2021-07-15T18:17:07.641Z"
      },
      {
        "duration": 8,
        "start_time": "2021-07-15T18:17:07.650Z"
      },
      {
        "duration": 40,
        "start_time": "2021-07-15T18:17:07.661Z"
      },
      {
        "duration": 20,
        "start_time": "2021-07-15T18:17:07.704Z"
      },
      {
        "duration": 19,
        "start_time": "2021-07-15T18:17:07.727Z"
      },
      {
        "duration": 4,
        "start_time": "2021-07-15T18:17:07.748Z"
      },
      {
        "duration": 15,
        "start_time": "2021-07-15T18:17:07.754Z"
      },
      {
        "duration": 153,
        "start_time": "2021-07-15T18:17:07.771Z"
      },
      {
        "duration": 12,
        "start_time": "2021-07-15T18:17:07.927Z"
      },
      {
        "duration": 6,
        "start_time": "2021-07-15T18:17:07.944Z"
      },
      {
        "duration": 12,
        "start_time": "2021-07-15T18:17:07.952Z"
      },
      {
        "duration": 2570,
        "start_time": "2021-07-15T18:17:07.966Z"
      },
      {
        "duration": 3079,
        "start_time": "2021-07-15T18:17:10.539Z"
      },
      {
        "duration": 2617,
        "start_time": "2021-07-15T18:17:13.621Z"
      },
      {
        "duration": 15,
        "start_time": "2021-07-15T18:17:16.240Z"
      },
      {
        "duration": 397,
        "start_time": "2021-07-15T18:17:16.257Z"
      }
    ],
    "kernelspec": {
      "display_name": "Python 3 (ipykernel)",
      "language": "python",
      "name": "python3"
    },
    "language_info": {
      "codemirror_mode": {
        "name": "ipython",
        "version": 3
      },
      "file_extension": ".py",
      "mimetype": "text/x-python",
      "name": "python",
      "nbconvert_exporter": "python",
      "pygments_lexer": "ipython3",
      "version": "3.9.5"
    },
    "toc": {
      "base_numbering": 1,
      "nav_menu": {},
      "number_sections": true,
      "sideBar": true,
      "skip_h1_title": true,
      "title_cell": "Table of Contents",
      "title_sidebar": "Contents",
      "toc_cell": false,
      "toc_position": {},
      "toc_section_display": true,
      "toc_window_display": false
    },
    "colab": {
      "name": "Добывающая компания «ГлавРосГосНефть».ipynb",
      "provenance": []
    }
  },
  "nbformat": 4,
  "nbformat_minor": 0
}