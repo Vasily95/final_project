{
  "cells": [
    {
      "cell_type": "markdown",
      "metadata": {
        "toc": true,
        "id": "tB5HOXZX5Mm1"
      },
      "source": [
        "<h1>Содержание<span class=\"tocSkip\"></span></h1>\n",
        "<div class=\"toc\"><ul class=\"toc-item\"><li><span><a href=\"#Подготовка-данных\" data-toc-modified-id=\"Подготовка-данных-1\"><span class=\"toc-item-num\">1&nbsp;&nbsp;</span>Подготовка данных</a></span></li><li><span><a href=\"#Исследование-задачи\" data-toc-modified-id=\"Исследование-задачи-2\"><span class=\"toc-item-num\">2&nbsp;&nbsp;</span>Исследование задачи</a></span><ul class=\"toc-item\"><li><span><a href=\"#Случайный-лес\" data-toc-modified-id=\"Случайный-лес-2.1\"><span class=\"toc-item-num\">2.1&nbsp;&nbsp;</span>Случайный лес</a></span></li><li><span><a href=\"#Дерево-решений\" data-toc-modified-id=\"Дерево-решений-2.2\"><span class=\"toc-item-num\">2.2&nbsp;&nbsp;</span>Дерево решений</a></span></li><li><span><a href=\"#Логистическая-регрессия\" data-toc-modified-id=\"Логистическая-регрессия-2.3\"><span class=\"toc-item-num\">2.3&nbsp;&nbsp;</span>Логистическая регрессия</a></span></li></ul></li><li><span><a href=\"#Борьба-с-дисбалансом\" data-toc-modified-id=\"Борьба-с-дисбалансом-3\"><span class=\"toc-item-num\">3&nbsp;&nbsp;</span>Борьба с дисбалансом</a></span></li><li><span><a href=\"#Тестирование-модели\" data-toc-modified-id=\"Тестирование-модели-4\"><span class=\"toc-item-num\">4&nbsp;&nbsp;</span>Тестирование модели</a></span><ul class=\"toc-item\"><li><span><a href=\"#Дерево-решений-(upsample)\" data-toc-modified-id=\"Дерево-решений-(upsample)-4.1\"><span class=\"toc-item-num\">4.1&nbsp;&nbsp;</span>Дерево решений (upsample)</a></span></li><li><span><a href=\"#Случайный-лес-(upsample)\" data-toc-modified-id=\"Случайный-лес-(upsample)-4.2\"><span class=\"toc-item-num\">4.2&nbsp;&nbsp;</span>Случайный лес (upsample)</a></span></li><li><span><a href=\"#Логистическая-регрессия-(upsample)\" data-toc-modified-id=\"Логистическая-регрессия-(upsample)-4.3\"><span class=\"toc-item-num\">4.3&nbsp;&nbsp;</span>Логистическая регрессия (upsample)</a></span></li><li><span><a href=\"#Дерево-решений-(downsample)\" data-toc-modified-id=\"Дерево-решений-(downsample)-4.4\"><span class=\"toc-item-num\">4.4&nbsp;&nbsp;</span>Дерево решений (downsample)</a></span></li><li><span><a href=\"#Случайный-лес-(downsample)\" data-toc-modified-id=\"Случайный-лес-(downsample)-4.5\"><span class=\"toc-item-num\">4.5&nbsp;&nbsp;</span>Случайный лес (downsample)</a></span></li><li><span><a href=\"#Вывод\" data-toc-modified-id=\"Вывод-4.6\"><span class=\"toc-item-num\">4.6&nbsp;&nbsp;</span>Вывод</a></span></li></ul></li><li><span><a href=\"#ROC-AUC\" data-toc-modified-id=\"ROC-AUC-5\"><span class=\"toc-item-num\">5&nbsp;&nbsp;</span>ROC AUC</a></span></li><li><span><a href=\"#Вывод\" data-toc-modified-id=\"Вывод-6\"><span class=\"toc-item-num\">6&nbsp;&nbsp;</span>Вывод</a></span></li><li><span><a href=\"#Чек-лист-готовности-проекта\" data-toc-modified-id=\"Чек-лист-готовности-проекта-7\"><span class=\"toc-item-num\">7&nbsp;&nbsp;</span>Чек-лист готовности проекта</a></span></li></ul></div>"
      ]
    },
    {
      "cell_type": "markdown",
      "metadata": {
        "id": "9wDsvWsc5Mm-"
      },
      "source": [
        "# Отток клиентов"
      ]
    },
    {
      "cell_type": "markdown",
      "metadata": {
        "id": "WkgBZnQD5Mm-"
      },
      "source": [
        "Из «Бета-Банка» стали уходить клиенты. Каждый месяц. Немного, но заметно. Банковские маркетологи посчитали: сохранять текущих клиентов дешевле, чем привлекать новых.\n",
        "\n",
        "Нужно спрогнозировать, уйдёт клиент из банка в ближайшее время или нет. Вам предоставлены исторические данные о поведении клиентов и расторжении договоров с банком. \n",
        "\n",
        "Постройте модель с предельно большим значением *F1*-меры. Чтобы сдать проект успешно, нужно довести метрику до 0.59. Проверьте *F1*-меру на тестовой выборке самостоятельно.\n",
        "\n",
        "Дополнительно измеряйте *AUC-ROC*, сравнивайте её значение с *F1*-мерой.\n",
        "\n",
        "Источник данных: [https://www.kaggle.com/barelydedicated/bank-customer-churn-modeling](https://www.kaggle.com/barelydedicated/bank-customer-churn-modeling)"
      ]
    },
    {
      "cell_type": "markdown",
      "metadata": {
        "id": "-1nyQ6jc5Mm_"
      },
      "source": [
        "## Подготовка данных"
      ]
    },
    {
      "cell_type": "code",
      "execution_count": null,
      "metadata": {
        "id": "DwoSWYc-5MnA"
      },
      "outputs": [],
      "source": [
        "import pandas as pd\n",
        "import matplotlib.pyplot as plt\n",
        "import numpy as np\n",
        "from sklearn.tree import DecisionTreeClassifier\n",
        "from sklearn.ensemble import RandomForestClassifier\n",
        "from sklearn.linear_model import LogisticRegression\n",
        "from sklearn.model_selection import train_test_split\n",
        "from sklearn.preprocessing import OrdinalEncoder\n",
        "from sklearn.preprocessing import StandardScaler\n",
        "from sklearn.metrics import f1_score\n",
        "from sklearn.utils import shuffle\n",
        "from sklearn.metrics import roc_curve\n",
        "from sklearn.metrics import roc_auc_score\n",
        "from sklearn.metrics import accuracy_score\n",
        "from sklearn.metrics import precision_score\n",
        "from sklearn.metrics import recall_score\n",
        "import seaborn as sns\n",
        "import statsmodels.formula.api as smf\n",
        "from xgboost import XGBClassifier\n",
        "from sklearn.feature_extraction.text import CountVectorizer"
      ]
    },
    {
      "cell_type": "code",
      "execution_count": null,
      "metadata": {
        "scrolled": true,
        "id": "dD-VyorU5MnE",
        "outputId": "20dd68be-ffc3-4642-c66c-aebdb01d180a"
      },
      "outputs": [
        {
          "data": {
            "text/html": [
              "<div>\n",
              "<style scoped>\n",
              "    .dataframe tbody tr th:only-of-type {\n",
              "        vertical-align: middle;\n",
              "    }\n",
              "\n",
              "    .dataframe tbody tr th {\n",
              "        vertical-align: top;\n",
              "    }\n",
              "\n",
              "    .dataframe thead th {\n",
              "        text-align: right;\n",
              "    }\n",
              "</style>\n",
              "<table border=\"1\" class=\"dataframe\">\n",
              "  <thead>\n",
              "    <tr style=\"text-align: right;\">\n",
              "      <th></th>\n",
              "      <th>RowNumber</th>\n",
              "      <th>CustomerId</th>\n",
              "      <th>Surname</th>\n",
              "      <th>CreditScore</th>\n",
              "      <th>Geography</th>\n",
              "      <th>Gender</th>\n",
              "      <th>Age</th>\n",
              "      <th>Tenure</th>\n",
              "      <th>Balance</th>\n",
              "      <th>NumOfProducts</th>\n",
              "      <th>HasCrCard</th>\n",
              "      <th>IsActiveMember</th>\n",
              "      <th>EstimatedSalary</th>\n",
              "      <th>Exited</th>\n",
              "    </tr>\n",
              "  </thead>\n",
              "  <tbody>\n",
              "    <tr>\n",
              "      <td>3714</td>\n",
              "      <td>3715</td>\n",
              "      <td>15815428</td>\n",
              "      <td>Biryukova</td>\n",
              "      <td>823</td>\n",
              "      <td>France</td>\n",
              "      <td>Male</td>\n",
              "      <td>34</td>\n",
              "      <td>3.0</td>\n",
              "      <td>105057.33</td>\n",
              "      <td>1</td>\n",
              "      <td>1</td>\n",
              "      <td>0</td>\n",
              "      <td>9217.92</td>\n",
              "      <td>0</td>\n",
              "    </tr>\n",
              "    <tr>\n",
              "      <td>5609</td>\n",
              "      <td>5610</td>\n",
              "      <td>15661945</td>\n",
              "      <td>Nicolay</td>\n",
              "      <td>623</td>\n",
              "      <td>Spain</td>\n",
              "      <td>Female</td>\n",
              "      <td>40</td>\n",
              "      <td>4.0</td>\n",
              "      <td>0.00</td>\n",
              "      <td>3</td>\n",
              "      <td>1</td>\n",
              "      <td>0</td>\n",
              "      <td>31669.18</td>\n",
              "      <td>0</td>\n",
              "    </tr>\n",
              "    <tr>\n",
              "      <td>9939</td>\n",
              "      <td>9940</td>\n",
              "      <td>15808971</td>\n",
              "      <td>Lajoie</td>\n",
              "      <td>693</td>\n",
              "      <td>Spain</td>\n",
              "      <td>Female</td>\n",
              "      <td>57</td>\n",
              "      <td>9.0</td>\n",
              "      <td>0.00</td>\n",
              "      <td>2</td>\n",
              "      <td>1</td>\n",
              "      <td>1</td>\n",
              "      <td>135502.77</td>\n",
              "      <td>0</td>\n",
              "    </tr>\n",
              "    <tr>\n",
              "      <td>8596</td>\n",
              "      <td>8597</td>\n",
              "      <td>15780966</td>\n",
              "      <td>Pritchard</td>\n",
              "      <td>709</td>\n",
              "      <td>France</td>\n",
              "      <td>Female</td>\n",
              "      <td>32</td>\n",
              "      <td>2.0</td>\n",
              "      <td>0.00</td>\n",
              "      <td>2</td>\n",
              "      <td>0</td>\n",
              "      <td>0</td>\n",
              "      <td>109681.29</td>\n",
              "      <td>0</td>\n",
              "    </tr>\n",
              "    <tr>\n",
              "      <td>8000</td>\n",
              "      <td>8001</td>\n",
              "      <td>15629002</td>\n",
              "      <td>Hamilton</td>\n",
              "      <td>747</td>\n",
              "      <td>Germany</td>\n",
              "      <td>Male</td>\n",
              "      <td>36</td>\n",
              "      <td>8.0</td>\n",
              "      <td>102603.30</td>\n",
              "      <td>2</td>\n",
              "      <td>1</td>\n",
              "      <td>1</td>\n",
              "      <td>180693.61</td>\n",
              "      <td>0</td>\n",
              "    </tr>\n",
              "  </tbody>\n",
              "</table>\n",
              "</div>"
            ],
            "text/plain": [
              "      RowNumber  CustomerId    Surname  CreditScore Geography  Gender  Age  \\\n",
              "3714       3715    15815428  Biryukova          823    France    Male   34   \n",
              "5609       5610    15661945    Nicolay          623     Spain  Female   40   \n",
              "9939       9940    15808971     Lajoie          693     Spain  Female   57   \n",
              "8596       8597    15780966  Pritchard          709    France  Female   32   \n",
              "8000       8001    15629002   Hamilton          747   Germany    Male   36   \n",
              "\n",
              "      Tenure    Balance  NumOfProducts  HasCrCard  IsActiveMember  \\\n",
              "3714     3.0  105057.33              1          1               0   \n",
              "5609     4.0       0.00              3          1               0   \n",
              "9939     9.0       0.00              2          1               1   \n",
              "8596     2.0       0.00              2          0               0   \n",
              "8000     8.0  102603.30              2          1               1   \n",
              "\n",
              "      EstimatedSalary  Exited  \n",
              "3714          9217.92       0  \n",
              "5609         31669.18       0  \n",
              "9939        135502.77       0  \n",
              "8596        109681.29       0  \n",
              "8000        180693.61       0  "
            ]
          },
          "execution_count": 2,
          "metadata": {},
          "output_type": "execute_result"
        }
      ],
      "source": [
        "frame = pd.read_csv(\"/datasets/Churn.csv\")\n",
        "frame.sample(5)"
      ]
    },
    {
      "cell_type": "code",
      "execution_count": null,
      "metadata": {
        "id": "2dPKLCwo5MnG",
        "outputId": "07d4df59-61e9-4ba0-9e10-ec5652312307"
      },
      "outputs": [
        {
          "name": "stdout",
          "output_type": "stream",
          "text": [
            "<class 'pandas.core.frame.DataFrame'>\n",
            "RangeIndex: 10000 entries, 0 to 9999\n",
            "Data columns (total 14 columns):\n",
            "RowNumber          10000 non-null int64\n",
            "CustomerId         10000 non-null int64\n",
            "Surname            10000 non-null object\n",
            "CreditScore        10000 non-null int64\n",
            "Geography          10000 non-null object\n",
            "Gender             10000 non-null object\n",
            "Age                10000 non-null int64\n",
            "Tenure             9091 non-null float64\n",
            "Balance            10000 non-null float64\n",
            "NumOfProducts      10000 non-null int64\n",
            "HasCrCard          10000 non-null int64\n",
            "IsActiveMember     10000 non-null int64\n",
            "EstimatedSalary    10000 non-null float64\n",
            "Exited             10000 non-null int64\n",
            "dtypes: float64(3), int64(8), object(3)\n",
            "memory usage: 1.1+ MB\n"
          ]
        }
      ],
      "source": [
        "frame.info()"
      ]
    },
    {
      "cell_type": "markdown",
      "metadata": {
        "id": "tEv7aejK5MnG"
      },
      "source": [
        "Выведем на экран нашу таблицу. Мы видим, что нам будет необходимо избавляться от некотьорых столбцов, а также поменять тип данных в столбцах на int. Кромме того мы видим, чо есть пропуски в столбце с Недвижимостью, надо будет подумать, как с ними быть."
      ]
    },
    {
      "cell_type": "code",
      "execution_count": null,
      "metadata": {
        "id": "0_DtSMrZ5MnH",
        "outputId": "28501b61-f882-4cb1-d6ba-4bbbc670c0ff"
      },
      "outputs": [
        {
          "data": {
            "text/plain": [
              "Index(['RowNumber', 'CustomerId', 'Surname', 'CreditScore', 'Geography',\n",
              "       'Gender', 'Age', 'Tenure', 'Balance', 'NumOfProducts', 'HasCrCard',\n",
              "       'IsActiveMember', 'EstimatedSalary', 'Exited'],\n",
              "      dtype='object')"
            ]
          },
          "execution_count": 4,
          "metadata": {},
          "output_type": "execute_result"
        }
      ],
      "source": [
        "frame.columns"
      ]
    },
    {
      "cell_type": "code",
      "execution_count": null,
      "metadata": {
        "scrolled": false,
        "id": "1Wjv3A_W5MnI",
        "outputId": "24c29fbd-d68c-4fd7-b28c-20d667b60e07"
      },
      "outputs": [
        {
          "data": {
            "text/html": [
              "<div>\n",
              "<style scoped>\n",
              "    .dataframe tbody tr th:only-of-type {\n",
              "        vertical-align: middle;\n",
              "    }\n",
              "\n",
              "    .dataframe tbody tr th {\n",
              "        vertical-align: top;\n",
              "    }\n",
              "\n",
              "    .dataframe thead th {\n",
              "        text-align: right;\n",
              "    }\n",
              "</style>\n",
              "<table border=\"1\" class=\"dataframe\">\n",
              "  <thead>\n",
              "    <tr style=\"text-align: right;\">\n",
              "      <th></th>\n",
              "      <th>credit_score</th>\n",
              "      <th>geography</th>\n",
              "      <th>gender</th>\n",
              "      <th>age</th>\n",
              "      <th>tenure</th>\n",
              "      <th>balance</th>\n",
              "      <th>num_products</th>\n",
              "      <th>has_cr_card</th>\n",
              "      <th>is_active</th>\n",
              "      <th>salary</th>\n",
              "      <th>exited</th>\n",
              "    </tr>\n",
              "  </thead>\n",
              "  <tbody>\n",
              "    <tr>\n",
              "      <td>0</td>\n",
              "      <td>619</td>\n",
              "      <td>France</td>\n",
              "      <td>Female</td>\n",
              "      <td>42</td>\n",
              "      <td>2.0</td>\n",
              "      <td>0.00</td>\n",
              "      <td>1</td>\n",
              "      <td>1</td>\n",
              "      <td>1</td>\n",
              "      <td>101348.88</td>\n",
              "      <td>1</td>\n",
              "    </tr>\n",
              "    <tr>\n",
              "      <td>1</td>\n",
              "      <td>608</td>\n",
              "      <td>Spain</td>\n",
              "      <td>Female</td>\n",
              "      <td>41</td>\n",
              "      <td>1.0</td>\n",
              "      <td>83807.86</td>\n",
              "      <td>1</td>\n",
              "      <td>0</td>\n",
              "      <td>1</td>\n",
              "      <td>112542.58</td>\n",
              "      <td>0</td>\n",
              "    </tr>\n",
              "    <tr>\n",
              "      <td>2</td>\n",
              "      <td>502</td>\n",
              "      <td>France</td>\n",
              "      <td>Female</td>\n",
              "      <td>42</td>\n",
              "      <td>8.0</td>\n",
              "      <td>159660.80</td>\n",
              "      <td>3</td>\n",
              "      <td>1</td>\n",
              "      <td>0</td>\n",
              "      <td>113931.57</td>\n",
              "      <td>1</td>\n",
              "    </tr>\n",
              "    <tr>\n",
              "      <td>3</td>\n",
              "      <td>699</td>\n",
              "      <td>France</td>\n",
              "      <td>Female</td>\n",
              "      <td>39</td>\n",
              "      <td>1.0</td>\n",
              "      <td>0.00</td>\n",
              "      <td>2</td>\n",
              "      <td>0</td>\n",
              "      <td>0</td>\n",
              "      <td>93826.63</td>\n",
              "      <td>0</td>\n",
              "    </tr>\n",
              "    <tr>\n",
              "      <td>4</td>\n",
              "      <td>850</td>\n",
              "      <td>Spain</td>\n",
              "      <td>Female</td>\n",
              "      <td>43</td>\n",
              "      <td>2.0</td>\n",
              "      <td>125510.82</td>\n",
              "      <td>1</td>\n",
              "      <td>1</td>\n",
              "      <td>1</td>\n",
              "      <td>79084.10</td>\n",
              "      <td>0</td>\n",
              "    </tr>\n",
              "  </tbody>\n",
              "</table>\n",
              "</div>"
            ],
            "text/plain": [
              "   credit_score geography  gender  age  tenure    balance  num_products  \\\n",
              "0           619    France  Female   42     2.0       0.00             1   \n",
              "1           608     Spain  Female   41     1.0   83807.86             1   \n",
              "2           502    France  Female   42     8.0  159660.80             3   \n",
              "3           699    France  Female   39     1.0       0.00             2   \n",
              "4           850     Spain  Female   43     2.0  125510.82             1   \n",
              "\n",
              "   has_cr_card  is_active     salary  exited  \n",
              "0            1          1  101348.88       1  \n",
              "1            0          1  112542.58       0  \n",
              "2            1          0  113931.57       1  \n",
              "3            0          0   93826.63       0  \n",
              "4            1          1   79084.10       0  "
            ]
          },
          "execution_count": 5,
          "metadata": {},
          "output_type": "execute_result"
        }
      ],
      "source": [
        "frame = frame.drop([\"CustomerId\",\"RowNumber\", \"Surname\"], axis = 1)\n",
        "frame.columns = frame.columns.str.lower()\n",
        "frame.rename(columns = {'creditscore':'credit_score','numofproducts':'num_products', 'hascrcard':'has_cr_card', 'isactivemember':'is_active', 'estimatedsalary':'salary'}, inplace = True)\n",
        "frame.head(5)"
      ]
    },
    {
      "cell_type": "markdown",
      "metadata": {
        "id": "J-bNhOF35MnI"
      },
      "source": [
        "Для удобства и для дальнейшего решения задач:\n",
        "    1) уберем ненужные для исследования столбцы \"CustomerId\",\"RowNumber\", \"Surname\"\n",
        "    2) Приведем оставшиеся названия к нижнему регистру и переименуем. Выведем обновленную таблицу."
      ]
    },
    {
      "cell_type": "code",
      "execution_count": null,
      "metadata": {
        "scrolled": true,
        "id": "YbnX4H2J5MnJ",
        "outputId": "a5ec0139-92c8-425c-c59b-072745590773"
      },
      "outputs": [
        {
          "data": {
            "text/plain": [
              "1.0     952\n",
              "2.0     950\n",
              "8.0     933\n",
              "3.0     928\n",
              "5.0     927\n",
              "7.0     925\n",
              "4.0     885\n",
              "9.0     882\n",
              "6.0     881\n",
              "10.0    446\n",
              "0.0     382\n",
              "Name: tenure, dtype: int64"
            ]
          },
          "execution_count": 6,
          "metadata": {},
          "output_type": "execute_result"
        }
      ],
      "source": [
        "frame['tenure'].value_counts()"
      ]
    },
    {
      "cell_type": "code",
      "execution_count": null,
      "metadata": {
        "scrolled": true,
        "id": "71x7h0fX5MnJ",
        "outputId": "f69a4af1-fd1f-4319-bd5c-a021c03e16d9"
      },
      "outputs": [
        {
          "data": {
            "image/png": "[encoded data removed]",
            "text/plain": [
              "<Figure size 1080x432 with 1 Axes>"
            ]
          },
          "metadata": {},
          "output_type": "display_data"
        }
      ],
      "source": [
        "frame.groupby('tenure')['exited'].sum().plot(figsize = (15,6),kind = 'pie',title = 'Количество недвижимости')\n",
        "plt.show()"
      ]
    },
    {
      "cell_type": "markdown",
      "metadata": {
        "id": "Pt2qjVtG5MnK"
      },
      "source": [
        "Выведем на экран какое количество недвижимости у наших клиентов"
      ]
    },
    {
      "cell_type": "code",
      "execution_count": null,
      "metadata": {
        "scrolled": true,
        "id": "HBQJHOY15MnK",
        "outputId": "d98e3644-5070-4490-e37f-ebe1343cf2c0"
      },
      "outputs": [
        {
          "data": {
            "text/html": [
              "<div>\n",
              "<style scoped>\n",
              "    .dataframe tbody tr th:only-of-type {\n",
              "        vertical-align: middle;\n",
              "    }\n",
              "\n",
              "    .dataframe tbody tr th {\n",
              "        vertical-align: top;\n",
              "    }\n",
              "\n",
              "    .dataframe thead th {\n",
              "        text-align: right;\n",
              "    }\n",
              "</style>\n",
              "<table border=\"1\" class=\"dataframe\">\n",
              "  <thead>\n",
              "    <tr style=\"text-align: right;\">\n",
              "      <th></th>\n",
              "      <th>missing_values</th>\n",
              "      <th>% of total</th>\n",
              "    </tr>\n",
              "  </thead>\n",
              "  <tbody>\n",
              "    <tr>\n",
              "      <td>tenure</td>\n",
              "      <td>909</td>\n",
              "      <td>0.09</td>\n",
              "    </tr>\n",
              "    <tr>\n",
              "      <td>credit_score</td>\n",
              "      <td>0</td>\n",
              "      <td>0.00</td>\n",
              "    </tr>\n",
              "    <tr>\n",
              "      <td>geography</td>\n",
              "      <td>0</td>\n",
              "      <td>0.00</td>\n",
              "    </tr>\n",
              "    <tr>\n",
              "      <td>gender</td>\n",
              "      <td>0</td>\n",
              "      <td>0.00</td>\n",
              "    </tr>\n",
              "    <tr>\n",
              "      <td>age</td>\n",
              "      <td>0</td>\n",
              "      <td>0.00</td>\n",
              "    </tr>\n",
              "    <tr>\n",
              "      <td>balance</td>\n",
              "      <td>0</td>\n",
              "      <td>0.00</td>\n",
              "    </tr>\n",
              "    <tr>\n",
              "      <td>num_products</td>\n",
              "      <td>0</td>\n",
              "      <td>0.00</td>\n",
              "    </tr>\n",
              "    <tr>\n",
              "      <td>has_cr_card</td>\n",
              "      <td>0</td>\n",
              "      <td>0.00</td>\n",
              "    </tr>\n",
              "    <tr>\n",
              "      <td>is_active</td>\n",
              "      <td>0</td>\n",
              "      <td>0.00</td>\n",
              "    </tr>\n",
              "    <tr>\n",
              "      <td>salary</td>\n",
              "      <td>0</td>\n",
              "      <td>0.00</td>\n",
              "    </tr>\n",
              "    <tr>\n",
              "      <td>exited</td>\n",
              "      <td>0</td>\n",
              "      <td>0.00</td>\n",
              "    </tr>\n",
              "  </tbody>\n",
              "</table>\n",
              "</div>"
            ],
            "text/plain": [
              "              missing_values  % of total\n",
              "tenure                   909        0.09\n",
              "credit_score               0        0.00\n",
              "geography                  0        0.00\n",
              "gender                     0        0.00\n",
              "age                        0        0.00\n",
              "balance                    0        0.00\n",
              "num_products               0        0.00\n",
              "has_cr_card                0        0.00\n",
              "is_active                  0        0.00\n",
              "salary                     0        0.00\n",
              "exited                     0        0.00"
            ]
          },
          "execution_count": 8,
          "metadata": {},
          "output_type": "execute_result"
        }
      ],
      "source": [
        "report = frame.isna().sum().to_frame()\n",
        "report = report.rename(columns = {0: 'missing_values'})\n",
        "report['% of total'] = (report['missing_values'] / frame.shape[0]).round(2)\n",
        "report.sort_values(by = 'missing_values', ascending = False)"
      ]
    },
    {
      "cell_type": "code",
      "execution_count": null,
      "metadata": {
        "id": "lWraxbyG5MnL"
      },
      "outputs": [],
      "source": [
        "frame['balance'] = frame['balance'].astype('int64')\n",
        "frame['salary'] = frame['salary'].astype('int64')"
      ]
    },
    {
      "cell_type": "markdown",
      "metadata": {
        "id": "Np7wdugm5MnL"
      },
      "source": [
        "В первую очередь приведем столбцы 'balance' и 'salary' к типу int"
      ]
    },
    {
      "cell_type": "code",
      "execution_count": null,
      "metadata": {
        "id": "Yd5l0wRC5MnL"
      },
      "outputs": [],
      "source": [
        "#frame['tenure'] = frame['tenure'].fillna(1).astype('int64')\n",
        "frame = frame.dropna()\n",
        "frame['tenure'] = frame['tenure'].astype('int64')\n"
      ]
    },
    {
      "cell_type": "markdown",
      "metadata": {
        "id": "FKRuF8EA5MnL"
      },
      "source": [
        "Мы не можем удалить полностью строки, где пропущено значение в Tenure, т.к. это около 10% от исходного датафрейма. Принял решение заменить их на минимально возможное значение: 0.\n",
        "\n",
        "Пробовал заменить значения на 1. Разница в f1 метрике очень маленькая: не более 0.01, лучшее значение 0.595"
      ]
    },
    {
      "cell_type": "code",
      "execution_count": null,
      "metadata": {
        "id": "TGUahdXY5MnN",
        "outputId": "ec7c5c07-0957-451b-a4e7-597719c25edf"
      },
      "outputs": [
        {
          "data": {
            "image/png": "[encoded data removed]",
            "text/plain": [
              "<Figure size 720x432 with 1 Axes>"
            ]
          },
          "metadata": {},
          "output_type": "display_data"
        }
      ],
      "source": [
        "frame['exited'].value_counts().plot(kind = 'pie',grid = True,figsize = (10,6),title = 'Соотношение тех, кто остался и тех кто ушел')\n",
        "plt.show()"
      ]
    },
    {
      "cell_type": "markdown",
      "metadata": {
        "id": "chfNoa4g5MnN"
      },
      "source": [
        "Перед тем как перейти к прогнозам рассмотрим данные, которые у нас есть. Мы видим, что наши данные несбалансированные: оставшихся больше чем тем, кто ушел. Посмотрим дальше, может быть сразу найдем какую-нибудь зависимость от дополнительных параметров."
      ]
    },
    {
      "cell_type": "code",
      "execution_count": null,
      "metadata": {
        "scrolled": false,
        "id": "MiTUG1hu5MnN",
        "outputId": "613985fa-15ce-4887-cf84-37223973acbf"
      },
      "outputs": [
        {
          "data": {
            "image/png": "[encoded data removed]",
            "text/plain": [
              "<Figure size 1080x432 with 1 Axes>"
            ]
          },
          "metadata": {
            "needs_background": "light"
          },
          "output_type": "display_data"
        }
      ],
      "source": [
        "frame.groupby('age')['exited'].sum().plot(figsize = (15,6),kind='bar',grid = True, title = 'Гистограмма возраста и ухода клиентов')\n",
        "plt.show()"
      ]
    },
    {
      "cell_type": "markdown",
      "metadata": {
        "id": "5u42w2V35MnO"
      },
      "source": [
        "Во- первых, выведем возраст, при котором клиенту чаще всего уходят. На графике видим, что чаще всего банк покидают люди, возраст которых лежит между 40 и 50. Мы можем сделать несколько предположений: клиентами банка в основном становятся люди похожего возраста, и возможно эта категория самая распространенная; во многих банках не выдаются кредиты либо кредитные карты после 65 лет, а значит вероятность стать клиентом в этом возрасте очень маленькая. Необходимо дальше проверить, есть ли корреляция между ними. "
      ]
    },
    {
      "cell_type": "code",
      "execution_count": null,
      "metadata": {
        "scrolled": false,
        "id": "_JBPFenh5MnO",
        "outputId": "9d0b7ef4-026e-4986-e0f4-57a65bf580e3"
      },
      "outputs": [
        {
          "data": {
            "image/png": "[encoded data removed]",
            "text/plain": [
              "<Figure size 1080x432 with 1 Axes>"
            ]
          },
          "metadata": {
            "needs_background": "light"
          },
          "output_type": "display_data"
        }
      ],
      "source": [
        "frame.groupby('num_products')['exited'].sum().plot(figsize = (15,6),kind ='line',grid = True, title = 'График количества продуктов банка и ухода клиентов')\n",
        "plt.show()"
      ]
    },
    {
      "cell_type": "markdown",
      "metadata": {
        "id": "e_ZjNGWu5MnP"
      },
      "source": [
        "Проверили как количество продуктов влияет на уход. В принципе, мы можем предположить, что возникает следующая ситуация: намного легче уйти в другой банк  (рефинансироваться в другом банке, либо закрыть рассрочку или кредит) когда у тебя 1 продукт. Люди, у которых более 2 продуктов намного сильнее привязаны к банку, особенно если среди этих продуктов не только дебетовые карты, но и кредитные продукты."
      ]
    },
    {
      "cell_type": "code",
      "execution_count": null,
      "metadata": {
        "scrolled": false,
        "id": "NrMGRvP85MnP",
        "outputId": "b6acd5b0-da0c-4ab6-cbe8-1f3e77b4cce1"
      },
      "outputs": [
        {
          "data": {
            "image/png": "[encoded data removed]",
            "text/plain": [
              "<Figure size 1120x1120 with 2 Axes>"
            ]
          },
          "metadata": {
            "needs_background": "light"
          },
          "output_type": "display_data"
        }
      ],
      "source": [
        "plt.figure(figsize = (14,14), dpi = 80)\n",
        "sns.heatmap(frame[['credit_score', 'age', 'tenure',\n",
        "       'balance', 'num_products', 'has_cr_card', 'salary'\n",
        "       ]].corr(), xticklabels=frame[['credit_score', 'age', 'tenure',\n",
        "       'balance', 'num_products', 'has_cr_card', 'salary'\n",
        "       ]].corr().columns, yticklabels=frame[['credit_score', 'age', 'tenure',\n",
        "       'balance', 'num_products', 'has_cr_card', 'salary'\n",
        "       ]].corr().columns, cmap = 'RdYlBu', center = 0, annot = True)\n",
        "plt.title('Корреляция', fontsize = 22)\n",
        "plt.xticks(fontsize = 10)\n",
        "plt.yticks(fontsize = 10)\n",
        "plt.show()"
      ]
    },
    {
      "cell_type": "markdown",
      "metadata": {
        "id": "J870uMPM5MnQ"
      },
      "source": [
        "Выведем корреляционную матрицу, чтобы проверить есть какая либо зависимость между факторами, прежде чем решить, удалять что - либо или нет.\n",
        "\n",
        "На матрице мы видим, что фактически нигде нет высоких показателей зависимости между переменными.Самая высокая положительная корреляция между возрастом и уходом из банка, почти 0.3. Однако, это недостаточно высокий показатель, для того, чтобы говорить о сильном влиянии возраста на целевую переменную.\n"
      ]
    },
    {
      "cell_type": "markdown",
      "metadata": {
        "id": "BKI3I0nl5MnR"
      },
      "source": [
        "## Исследование задачи"
      ]
    },
    {
      "cell_type": "markdown",
      "metadata": {
        "id": "NSR1t86I5MnR"
      },
      "source": [
        "Избавляемся от категориальных признаков методом One hot encoder, выводим таблицу на экран, обозначим признаки и целевой признак."
      ]
    },
    {
      "cell_type": "code",
      "execution_count": null,
      "metadata": {
        "id": "rSI3ew8Y5MnR",
        "outputId": "349d7f5d-3adb-4e37-81d1-4200ae3ad391"
      },
      "outputs": [
        {
          "data": {
            "text/html": [
              "<div>\n",
              "<style scoped>\n",
              "    .dataframe tbody tr th:only-of-type {\n",
              "        vertical-align: middle;\n",
              "    }\n",
              "\n",
              "    .dataframe tbody tr th {\n",
              "        vertical-align: top;\n",
              "    }\n",
              "\n",
              "    .dataframe thead th {\n",
              "        text-align: right;\n",
              "    }\n",
              "</style>\n",
              "<table border=\"1\" class=\"dataframe\">\n",
              "  <thead>\n",
              "    <tr style=\"text-align: right;\">\n",
              "      <th></th>\n",
              "      <th>credit_score</th>\n",
              "      <th>age</th>\n",
              "      <th>tenure</th>\n",
              "      <th>balance</th>\n",
              "      <th>num_products</th>\n",
              "      <th>has_cr_card</th>\n",
              "      <th>is_active</th>\n",
              "      <th>salary</th>\n",
              "      <th>exited</th>\n",
              "      <th>geography_Germany</th>\n",
              "      <th>geography_Spain</th>\n",
              "      <th>gender_Male</th>\n",
              "    </tr>\n",
              "  </thead>\n",
              "  <tbody>\n",
              "    <tr>\n",
              "      <td>0</td>\n",
              "      <td>619</td>\n",
              "      <td>42</td>\n",
              "      <td>2</td>\n",
              "      <td>0</td>\n",
              "      <td>1</td>\n",
              "      <td>1</td>\n",
              "      <td>1</td>\n",
              "      <td>101348</td>\n",
              "      <td>1</td>\n",
              "      <td>0</td>\n",
              "      <td>0</td>\n",
              "      <td>0</td>\n",
              "    </tr>\n",
              "    <tr>\n",
              "      <td>1</td>\n",
              "      <td>608</td>\n",
              "      <td>41</td>\n",
              "      <td>1</td>\n",
              "      <td>83807</td>\n",
              "      <td>1</td>\n",
              "      <td>0</td>\n",
              "      <td>1</td>\n",
              "      <td>112542</td>\n",
              "      <td>0</td>\n",
              "      <td>0</td>\n",
              "      <td>1</td>\n",
              "      <td>0</td>\n",
              "    </tr>\n",
              "    <tr>\n",
              "      <td>2</td>\n",
              "      <td>502</td>\n",
              "      <td>42</td>\n",
              "      <td>8</td>\n",
              "      <td>159660</td>\n",
              "      <td>3</td>\n",
              "      <td>1</td>\n",
              "      <td>0</td>\n",
              "      <td>113931</td>\n",
              "      <td>1</td>\n",
              "      <td>0</td>\n",
              "      <td>0</td>\n",
              "      <td>0</td>\n",
              "    </tr>\n",
              "    <tr>\n",
              "      <td>3</td>\n",
              "      <td>699</td>\n",
              "      <td>39</td>\n",
              "      <td>1</td>\n",
              "      <td>0</td>\n",
              "      <td>2</td>\n",
              "      <td>0</td>\n",
              "      <td>0</td>\n",
              "      <td>93826</td>\n",
              "      <td>0</td>\n",
              "      <td>0</td>\n",
              "      <td>0</td>\n",
              "      <td>0</td>\n",
              "    </tr>\n",
              "    <tr>\n",
              "      <td>4</td>\n",
              "      <td>850</td>\n",
              "      <td>43</td>\n",
              "      <td>2</td>\n",
              "      <td>125510</td>\n",
              "      <td>1</td>\n",
              "      <td>1</td>\n",
              "      <td>1</td>\n",
              "      <td>79084</td>\n",
              "      <td>0</td>\n",
              "      <td>0</td>\n",
              "      <td>1</td>\n",
              "      <td>0</td>\n",
              "    </tr>\n",
              "  </tbody>\n",
              "</table>\n",
              "</div>"
            ],
            "text/plain": [
              "   credit_score  age  tenure  balance  num_products  has_cr_card  is_active  \\\n",
              "0           619   42       2        0             1            1          1   \n",
              "1           608   41       1    83807             1            0          1   \n",
              "2           502   42       8   159660             3            1          0   \n",
              "3           699   39       1        0             2            0          0   \n",
              "4           850   43       2   125510             1            1          1   \n",
              "\n",
              "   salary  exited  geography_Germany  geography_Spain  gender_Male  \n",
              "0  101348       1                  0                0            0  \n",
              "1  112542       0                  0                1            0  \n",
              "2  113931       1                  0                0            0  \n",
              "3   93826       0                  0                0            0  \n",
              "4   79084       0                  0                1            0  "
            ]
          },
          "execution_count": 15,
          "metadata": {},
          "output_type": "execute_result"
        }
      ],
      "source": [
        "df_ohe = pd.get_dummies(frame,drop_first = True)\n",
        "target = df_ohe['exited']\n",
        "features = df_ohe.drop(['exited'],axis = 1)\n",
        "df_ohe.head(5)"
      ]
    },
    {
      "cell_type": "code",
      "execution_count": null,
      "metadata": {
        "id": "n4ygybaq5MnR",
        "outputId": "ce52664a-52af-4a0c-ea82-b62e6442e682"
      },
      "outputs": [
        {
          "name": "stdout",
          "output_type": "stream",
          "text": [
            "Размер тренировочной выборки 4545\n",
            "Размер валидационной выборки 2273\n",
            "Размер тестовой выборки 2273\n"
          ]
        }
      ],
      "source": [
        "train_features, valid_features = train_test_split(features, test_size = 0.5, random_state = 48)\n",
        "valid_features, test_features = train_test_split(valid_features, test_size = 0.5, random_state = 48)\n",
        "print('Размер тренировочной выборки', train_features.shape[0])\n",
        "print('Размер валидационной выборки', valid_features.shape[0])\n",
        "print('Размер тестовой выборки', test_features.shape[0])"
      ]
    },
    {
      "cell_type": "code",
      "execution_count": null,
      "metadata": {
        "id": "KfFSCvnK5MnS",
        "outputId": "5efc6774-3e73-477d-a562-99e61f8cda0c"
      },
      "outputs": [
        {
          "name": "stdout",
          "output_type": "stream",
          "text": [
            "Размер тренировочной выборки 4545\n",
            "Размер валидационной выборки 2273\n",
            "Размер тестовой выборки 2273\n"
          ]
        }
      ],
      "source": [
        "train_target, valid_target = train_test_split(target, test_size = 0.5, random_state = 48)\n",
        "valid_target, test_target = train_test_split(valid_target, test_size = 0.5, random_state = 48)\n",
        "print('Размер тренировочной выборки', train_target.shape[0])\n",
        "print('Размер валидационной выборки', valid_target.shape[0])\n",
        "print('Размер тестовой выборки', test_target.shape[0])"
      ]
    },
    {
      "cell_type": "markdown",
      "metadata": {
        "id": "4u2UBcxh5MnS"
      },
      "source": [
        "\n",
        "Разбил выборку на 3 части, добавил тестовую часть. Валидационная и тестовая часть по количеству равны. Хотел бы уточнить: а есть ли какой то определеннный или принятый у специалистов размер каждой выборки? Здесь поделил 2:1:1, в ппрошлом проекте было 3:1:1"
      ]
    },
    {
      "cell_type": "markdown",
      "metadata": {
        "id": "Vb0Xnfel5MnT"
      },
      "source": [
        "Разделяем на валидационную и тренировочную выборки, размер - 0.25  "
      ]
    },
    {
      "cell_type": "code",
      "execution_count": null,
      "metadata": {
        "id": "4S3uhR2w5MnT"
      },
      "outputs": [],
      "source": [
        "numeric = ['credit_score','age','tenure','balance','num_products','has_cr_card','is_active', 'salary']\n",
        "scaler = StandardScaler()\n",
        "scaler.fit(train_features[numeric])\n",
        "pd.options.mode.chained_assignment = None\n",
        "train_features[numeric] = scaler.transform(train_features[numeric])\n",
        "valid_features[numeric] = scaler.transform(valid_features[numeric])\n",
        "test_features[numeric] = scaler.transform(test_features[numeric])"
      ]
    },
    {
      "cell_type": "markdown",
      "metadata": {
        "id": "3iUdVHjm5MnU"
      },
      "source": [
        "Масштабируем наши признаки, преобразуем обучающую и валидационную выборки функцией transform(). Избегаем предупреждения SettingWithCopy прописываением внутри функции кода: pd.options.mode.chained_assignment = None"
      ]
    },
    {
      "cell_type": "markdown",
      "metadata": {
        "id": "cwwfOvjE5MnU"
      },
      "source": [
        "### Случайный лес"
      ]
    },
    {
      "cell_type": "markdown",
      "metadata": {
        "id": "6Bwn0_A-5MnV"
      },
      "source": [
        "Начнем проводить исследование: в первую очередь используем Случайный лес. Найдем при каких параметрах (глубина и количество деревьев) находится лучшая мерав F1."
      ]
    },
    {
      "cell_type": "code",
      "execution_count": null,
      "metadata": {
        "id": "v2Z632GA5MnV",
        "outputId": "45dd510e-a4c6-4f97-f7fb-b26d10672b50"
      },
      "outputs": [
        {
          "name": "stdout",
          "output_type": "stream",
          "text": [
            "Количество деревьев 37 Лучшая F1 0.5934959349593496\n"
          ]
        }
      ],
      "source": [
        "best_est = 0\n",
        "best_f1_sc = 0\n",
        "for est in range(1,50):\n",
        "    random_model = RandomForestClassifier(random_state = 48, n_estimators = est)\n",
        "    random_model.fit(train_features, train_target)\n",
        "    valid_predictions =  random_model.predict(valid_features)\n",
        "    f1_sc = f1_score(valid_target, valid_predictions)\n",
        "    if f1_sc > best_f1_sc:\n",
        "        best_est = est\n",
        "        best_f1_sc = f1_sc\n",
        "print('Количество деревьев', best_est, 'Лучшая F1', best_f1_sc)"
      ]
    },
    {
      "cell_type": "code",
      "execution_count": null,
      "metadata": {
        "scrolled": true,
        "id": "h_yDoPSO5MnV",
        "outputId": "c7e0b785-c590-4461-ef82-7793462cbe01"
      },
      "outputs": [
        {
          "name": "stdout",
          "output_type": "stream",
          "text": [
            "depth: 19 F1: 0.5861601085481682\n"
          ]
        }
      ],
      "source": [
        "for depth in range(1, 20, 1):\n",
        "    random_model_a = RandomForestClassifier(n_estimators = 29, max_depth = depth, random_state = 48)\n",
        "    random_model_a.fit(train_features, train_target)\n",
        "    predictions_valid =  random_model_a.predict(valid_features)\n",
        "    f1_sc = f1_score(valid_target, valid_predictions)\n",
        "print('depth:',depth,'F1:',f1_sc)"
      ]
    },
    {
      "cell_type": "code",
      "execution_count": null,
      "metadata": {
        "id": "B055XPr45MnW",
        "outputId": "7a032628-8570-4d47-f2e5-c4f772131173"
      },
      "outputs": [
        {
          "name": "stdout",
          "output_type": "stream",
          "text": [
            "Проверка модели,значение F1: 0.6010498687664041\n"
          ]
        }
      ],
      "source": [
        "random_model_b = RandomForestClassifier(n_estimators = 47, max_depth = 19, random_state = 48)\n",
        "random_model_b.fit(train_features, train_target)\n",
        "predictions_test = random_model_b.predict(test_features)\n",
        "f1_sc_random_model_b = f1_score(test_target, predictions_test)\n",
        "print('Проверка модели,значение F1:',f1_sc_random_model_b)"
      ]
    },
    {
      "cell_type": "markdown",
      "metadata": {
        "id": "H6xmDYEk5MnX"
      },
      "source": [
        "### Дерево решений"
      ]
    },
    {
      "cell_type": "code",
      "execution_count": null,
      "metadata": {
        "id": "1YvChfHp5MnX",
        "outputId": "80b95b21-2493-4e6b-cb53-7c51cf2cb0ca"
      },
      "outputs": [
        {
          "name": "stdout",
          "output_type": "stream",
          "text": [
            "max_depth: 2 F1: 0.5106382978723404\n",
            "max_depth: 3 F1: 0.46604938271604945\n",
            "max_depth: 4 F1: 0.46540880503144655\n",
            "max_depth: 5 F1: 0.509915014164306\n",
            "max_depth: 6 F1: 0.49705882352941183\n",
            "max_depth: 7 F1: 0.5691699604743083\n",
            "max_depth: 8 F1: 0.521970705725699\n",
            "max_depth: 9 F1: 0.528\n",
            "max_depth: 10 F1: 0.5171974522292994\n",
            "max_depth: 11 F1: 0.5149700598802395\n",
            "max_depth: 12 F1: 0.49292452830188677\n",
            "max_depth: 13 F1: 0.49142857142857144\n",
            "max_depth: 14 F1: 0.48752834467120176\n",
            "max_depth: 15 F1: 0.5065789473684211\n",
            "max_depth: 16 F1: 0.4863685932388222\n",
            "max_depth: 17 F1: 0.502155172413793\n",
            "max_depth: 18 F1: 0.48966267682263326\n",
            "max_depth: 19 F1: 0.48491379310344823\n"
          ]
        }
      ],
      "source": [
        "for depth in range(2,20,1):\n",
        "    tree_model = DecisionTreeClassifier(max_depth = depth,random_state = 48)\n",
        "    tree_model.fit(train_features,train_target)\n",
        "    prediction = tree_model.predict(valid_features)\n",
        "    print('max_depth:',depth,'F1:',f1_score(valid_target,prediction))"
      ]
    },
    {
      "cell_type": "code",
      "execution_count": null,
      "metadata": {
        "id": "0NEYKxBX5MnX",
        "outputId": "24a94e98-a954-4f0f-ba1c-9e8fc74a139f"
      },
      "outputs": [
        {
          "name": "stdout",
          "output_type": "stream",
          "text": [
            "max_depth: 2 F1: 0.5106382978723404\n",
            "max_depth: 4 F1: 0.510028653295129\n",
            "max_depth: 6 F1: 0.5067064083457526\n",
            "max_depth: 8 F1: 0.5266106442577031\n",
            "max_depth: 10 F1: 0.5142857142857142\n",
            "max_depth: 12 F1: 0.5293383270911362\n",
            "max_depth: 14 F1: 0.5005903187721369\n",
            "max_depth: 16 F1: 0.5184331797235023\n",
            "max_depth: 18 F1: 0.5185185185185186\n"
          ]
        }
      ],
      "source": [
        "for depth in range(2,20,2):\n",
        "    tree_model_a = DecisionTreeClassifier(max_depth = depth, random_state = 48, criterion = 'entropy')\n",
        "    tree_model_a.fit(train_features,train_target)\n",
        "    prediction = tree_model_a.predict(valid_features)\n",
        "    print('max_depth:',depth,'F1:',f1_score(valid_target,prediction))"
      ]
    },
    {
      "cell_type": "markdown",
      "metadata": {
        "id": "eQ4rTYC25MnX"
      },
      "source": [
        "Теперь используем Дерево решений. Проведем с различными критериями: gini и entropy. Лучший результат: max_depth: 10 F1: 0.5545243619489559 с критерием = 'entropy'"
      ]
    },
    {
      "cell_type": "code",
      "execution_count": null,
      "metadata": {
        "id": "vFyB0oC55MnX",
        "outputId": "f4f150ca-93f0-4079-c931-9bfab1d2560e"
      },
      "outputs": [
        {
          "name": "stdout",
          "output_type": "stream",
          "text": [
            "Проверка модели,значение F1: 0.5476510067114094\n"
          ]
        }
      ],
      "source": [
        "tree_model_b = DecisionTreeClassifier(max_depth = 8, random_state = 48, criterion = 'entropy')\n",
        "tree_model_b.fit(train_features,train_target)\n",
        "prediction_test = tree_model_b.predict(test_features)\n",
        "tree_model_b = f1_score(test_target,prediction_test)\n",
        "print('Проверка модели,значение F1:' ,tree_model_b)"
      ]
    },
    {
      "cell_type": "markdown",
      "metadata": {
        "id": "34jSDuZA5MnY"
      },
      "source": [
        "### Логистическая регрессия"
      ]
    },
    {
      "cell_type": "code",
      "execution_count": null,
      "metadata": {
        "scrolled": true,
        "id": "ZkLU57Po5MnY",
        "outputId": "3e77daba-fe38-47b4-f106-288e31c4a5ca"
      },
      "outputs": [
        {
          "name": "stdout",
          "output_type": "stream",
          "text": [
            "Проверка модели,значение F1: 0.31561996779388085\n"
          ]
        }
      ],
      "source": [
        "log_model = LogisticRegression(random_state = 48, solver = 'liblinear')\n",
        "log_model.fit(train_features,train_target)\n",
        "prediction = log_model.predict(test_features)\n",
        "f1_score_log_model = f1_score(test_target,prediction)\n",
        "print('Проверка модели,значение F1:',f1_score_log_model)"
      ]
    },
    {
      "cell_type": "markdown",
      "metadata": {
        "id": "XxjQMHCD5MnY"
      },
      "source": [
        "Мера F1 логистичесой регрессии показала самый худший результат"
      ]
    },
    {
      "cell_type": "markdown",
      "metadata": {
        "id": "EVEGbC8t5MnY"
      },
      "source": [
        "## Борьба с дисбалансом"
      ]
    },
    {
      "cell_type": "markdown",
      "metadata": {
        "id": "oydeGIxr5MnZ"
      },
      "source": [
        "Для того, чтобы бороться с дисбалансом, воспользуемся поочередно двумя функциями: Upsample и downsample."
      ]
    },
    {
      "cell_type": "code",
      "execution_count": null,
      "metadata": {
        "id": "rlSjKVKy5MnZ"
      },
      "outputs": [],
      "source": [
        "def upsample(features, target, repeat):\n",
        "    features_zeros = features[target == 0]\n",
        "    features_ones = features[target == 1]\n",
        "    target_zeros = target[target == 0]\n",
        "    target_ones = target[target == 1]\n",
        "\n",
        "    features_upsampled = pd.concat([features_zeros] + [features_ones] * repeat)\n",
        "    target_upsampled = pd.concat([target_zeros] + [target_ones] * repeat)\n",
        "    \n",
        "    features_upsampled, target_upsampled = shuffle(\n",
        "        features_upsampled, target_upsampled, random_state = 48)\n",
        "    \n",
        "    return features_upsampled, target_upsampled\n",
        "\n",
        "features_upsampled, target_upsampled = upsample(train_features, train_target, 20)"
      ]
    },
    {
      "cell_type": "code",
      "execution_count": null,
      "metadata": {
        "id": "7_p7-qYZ5MnZ"
      },
      "outputs": [],
      "source": [
        "def downsample(features,target,fraction):\n",
        "    features_null = features[target == 0]\n",
        "    features_one = features[target == 1]\n",
        "    target_null = target[target == 0]\n",
        "    target_one = target[target == 1]\n",
        "    \n",
        "    downsampling_features = pd.concat([features_null.sample(frac=0.4,random_state = 48)] + [features_one])\n",
        "    downsampling_target = pd.concat([target_null.sample(frac=0.4,random_state = 48)] + [target_one])\n",
        "    \n",
        "    downsampling_features,downsampling_target = shuffle(downsampling_features,downsampling_target,random_state = 48)\n",
        "    return downsampling_features,downsampling_target\n",
        "\n",
        "features_downsampled,target_downsampled = downsample(train_features, train_target,0.4)"
      ]
    },
    {
      "cell_type": "markdown",
      "metadata": {
        "id": "ntrxrgnr5MnZ"
      },
      "source": [
        "## Тестирование модели"
      ]
    },
    {
      "cell_type": "markdown",
      "metadata": {
        "id": "UXoXVCXP5Mna"
      },
      "source": [
        "### Дерево решений (upsample)"
      ]
    },
    {
      "cell_type": "code",
      "execution_count": null,
      "metadata": {
        "scrolled": false,
        "id": "p5joxhIV5Mna",
        "outputId": "7e73d31a-06de-4bc4-a938-3922baf76054"
      },
      "outputs": [
        {
          "name": "stdout",
          "output_type": "stream",
          "text": [
            "max_depth: 1 F1: 0.4957264957264958\n",
            "max_depth: 2 F1: 0.5269262634631318\n",
            "max_depth: 3 F1: 0.5399828030954428\n",
            "max_depth: 4 F1: 0.5267924528301886\n",
            "max_depth: 5 F1: 0.5609561752988048\n",
            "max_depth: 6 F1: 0.5656401944894651\n",
            "max_depth: 7 F1: 0.5671641791044776\n",
            "max_depth: 8 F1: 0.5284339457567804\n",
            "max_depth: 9 F1: 0.5309278350515464\n",
            "max_depth: 10 F1: 0.5265017667844524\n",
            "max_depth: 11 F1: 0.5263157894736842\n",
            "max_depth: 12 F1: 0.5262135922330097\n",
            "max_depth: 13 F1: 0.5263157894736842\n",
            "max_depth: 14 F1: 0.5144628099173554\n",
            "max_depth: 15 F1: 0.5170212765957447\n",
            "max_depth: 16 F1: 0.49946638207043753\n",
            "max_depth: 17 F1: 0.503735325506937\n",
            "max_depth: 18 F1: 0.5010940919037198\n",
            "max_depth: 19 F1: 0.49779735682819376\n",
            "CPU times: user 1.47 s, sys: 59 µs, total: 1.47 s\n",
            "Wall time: 1.52 s\n"
          ]
        }
      ],
      "source": [
        "%%time\n",
        "\n",
        "for depth in range(1,20,1):\n",
        "    tree_model_c = DecisionTreeClassifier(class_weight = 'balanced', max_depth = depth, random_state = 48)\n",
        "    tree_model_c.fit(features_upsampled,target_upsampled)\n",
        "    prediction = tree_model_c.predict(valid_features)\n",
        "    print('max_depth:',depth,'F1:',f1_score(valid_target,prediction))"
      ]
    },
    {
      "cell_type": "code",
      "execution_count": null,
      "metadata": {
        "id": "M4c-Djs-5Mna",
        "outputId": "732053fe-5de7-44dd-9e1c-b03a327af13d"
      },
      "outputs": [
        {
          "name": "stdout",
          "output_type": "stream",
          "text": [
            "Проверка модели,значение F1: 0.5676784249384741 значение p_score: 0.4534731323722149 значение r_score: 0.7587719298245614\n"
          ]
        }
      ],
      "source": [
        "tree_model_d = DecisionTreeClassifier(class_weight = 'balanced', max_depth = 5, random_state = 48)\n",
        "tree_model_d.fit(features_upsampled,target_upsampled)\n",
        "test_prediction_tree = tree_model_d.predict(test_features)\n",
        "p_score = precision_score(test_target,test_prediction_tree)\n",
        "r_score = recall_score(test_target, test_prediction_tree)\n",
        "print('Проверка модели,значение F1:',f1_score(test_target,test_prediction_tree), 'значение p_score:', p_score, 'значение r_score:', r_score)"
      ]
    },
    {
      "cell_type": "code",
      "execution_count": null,
      "metadata": {
        "id": "-WpL2iBq5Mna",
        "outputId": "0d3b972b-8bb9-42bf-d98f-f1c0d6142b78"
      },
      "outputs": [
        {
          "name": "stdout",
          "output_type": "stream",
          "text": [
            "Проверка модели,значение F1: 0.5683865683865683 значение p_score: 0.45359477124183006 значение r_score: 0.7609649122807017\n"
          ]
        }
      ],
      "source": [
        "tree_model_e = DecisionTreeClassifier(class_weight = 'balanced', max_depth = 5, random_state = 48, criterion = 'entropy')\n",
        "tree_model_e.fit(features_upsampled,target_upsampled)\n",
        "prediction_test = tree_model_e.predict(test_features)\n",
        "f1_score_tree_model_e = f1_score(test_target,prediction_test)\n",
        "p_score_a = precision_score(test_target,prediction_test)\n",
        "r_score_a = recall_score(test_target, prediction_test)\n",
        "print('Проверка модели,значение F1:',f1_score_tree_model_e, 'значение p_score:', p_score_a, 'значение r_score:', r_score_a)"
      ]
    },
    {
      "cell_type": "code",
      "execution_count": null,
      "metadata": {
        "id": "vOxtXwE05Mnb",
        "outputId": "ad01e82a-8270-4b6c-8f26-683b35539992"
      },
      "outputs": [
        {
          "data": {
            "text/html": [
              "<div>\n",
              "<style scoped>\n",
              "    .dataframe tbody tr th:only-of-type {\n",
              "        vertical-align: middle;\n",
              "    }\n",
              "\n",
              "    .dataframe tbody tr th {\n",
              "        vertical-align: top;\n",
              "    }\n",
              "\n",
              "    .dataframe thead th {\n",
              "        text-align: right;\n",
              "    }\n",
              "</style>\n",
              "<table border=\"1\" class=\"dataframe\">\n",
              "  <thead>\n",
              "    <tr style=\"text-align: right;\">\n",
              "      <th></th>\n",
              "      <th>features</th>\n",
              "      <th>feature_importance</th>\n",
              "    </tr>\n",
              "  </thead>\n",
              "  <tbody>\n",
              "    <tr>\n",
              "      <td>1</td>\n",
              "      <td>age</td>\n",
              "      <td>0.427055</td>\n",
              "    </tr>\n",
              "    <tr>\n",
              "      <td>4</td>\n",
              "      <td>num_products</td>\n",
              "      <td>0.339376</td>\n",
              "    </tr>\n",
              "    <tr>\n",
              "      <td>3</td>\n",
              "      <td>balance</td>\n",
              "      <td>0.092563</td>\n",
              "    </tr>\n",
              "    <tr>\n",
              "      <td>6</td>\n",
              "      <td>is_active</td>\n",
              "      <td>0.078812</td>\n",
              "    </tr>\n",
              "    <tr>\n",
              "      <td>8</td>\n",
              "      <td>geography_Germany</td>\n",
              "      <td>0.038898</td>\n",
              "    </tr>\n",
              "    <tr>\n",
              "      <td>7</td>\n",
              "      <td>salary</td>\n",
              "      <td>0.012741</td>\n",
              "    </tr>\n",
              "    <tr>\n",
              "      <td>10</td>\n",
              "      <td>gender_Male</td>\n",
              "      <td>0.007816</td>\n",
              "    </tr>\n",
              "    <tr>\n",
              "      <td>2</td>\n",
              "      <td>tenure</td>\n",
              "      <td>0.002739</td>\n",
              "    </tr>\n",
              "    <tr>\n",
              "      <td>0</td>\n",
              "      <td>credit_score</td>\n",
              "      <td>0.000000</td>\n",
              "    </tr>\n",
              "    <tr>\n",
              "      <td>5</td>\n",
              "      <td>has_cr_card</td>\n",
              "      <td>0.000000</td>\n",
              "    </tr>\n",
              "    <tr>\n",
              "      <td>9</td>\n",
              "      <td>geography_Spain</td>\n",
              "      <td>0.000000</td>\n",
              "    </tr>\n",
              "  </tbody>\n",
              "</table>\n",
              "</div>"
            ],
            "text/plain": [
              "             features  feature_importance\n",
              "1                 age            0.427055\n",
              "4        num_products            0.339376\n",
              "3             balance            0.092563\n",
              "6           is_active            0.078812\n",
              "8   geography_Germany            0.038898\n",
              "7              salary            0.012741\n",
              "10        gender_Male            0.007816\n",
              "2              tenure            0.002739\n",
              "0        credit_score            0.000000\n",
              "5         has_cr_card            0.000000\n",
              "9     geography_Spain            0.000000"
            ]
          },
          "execution_count": 31,
          "metadata": {},
          "output_type": "execute_result"
        }
      ],
      "source": [
        "feature_importances = pd.DataFrame({'features':features.columns,'feature_importance':tree_model_e.feature_importances_})\n",
        "feature_importances.sort_values('feature_importance',ascending = False)"
      ]
    },
    {
      "cell_type": "markdown",
      "metadata": {
        "id": "fzYJP1c-5Mnb"
      },
      "source": [
        "Здесь изучил как можно сделать таблицу feature_importances_, где указана важность факторов. "
      ]
    },
    {
      "cell_type": "markdown",
      "metadata": {
        "id": "CELIHGMU5Mnb"
      },
      "source": [
        "### Случайный лес (upsample)"
      ]
    },
    {
      "cell_type": "code",
      "execution_count": null,
      "metadata": {
        "id": "PsGEmDdD5Mnb",
        "outputId": "f0eb3e93-c6cd-4bb2-8ce8-2e06587aa96b"
      },
      "outputs": [
        {
          "name": "stdout",
          "output_type": "stream",
          "text": [
            "Количество деревьев 45 Лучшая F1 0.6121495327102804 RandomForestClassifier(bootstrap=True, class_weight=None, criterion='gini',\n",
            "                       max_depth=None, max_features='auto', max_leaf_nodes=None,\n",
            "                       min_impurity_decrease=0.0, min_impurity_split=None,\n",
            "                       min_samples_leaf=1, min_samples_split=2,\n",
            "                       min_weight_fraction_leaf=0.0, n_estimators=49,\n",
            "                       n_jobs=None, oob_score=False, random_state=48, verbose=0,\n",
            "                       warm_start=False)\n",
            "CPU times: user 30.1 s, sys: 20.3 ms, total: 30.1 s\n",
            "Wall time: 31.1 s\n"
          ]
        }
      ],
      "source": [
        "%%time\n",
        "best_est = 0\n",
        "best_f1_sc = 0\n",
        "for est in range(1,50):\n",
        "    random_model_с = RandomForestClassifier(class_weight = 'balanced', random_state = 48, n_estimators = est)\n",
        "    random_model_с.fit(features_upsampled,target_upsampled)\n",
        "    valid_predictions = random_model_с.predict(valid_features)\n",
        "    f1_sc = f1_score(valid_target, valid_predictions)\n",
        "    if f1_sc > best_f1_sc:\n",
        "        best_est = est\n",
        "        best_f1_sc = f1_sc\n",
        "print('Количество деревьев', best_est, 'Лучшая F1', best_f1_sc, random_model)"
      ]
    },
    {
      "cell_type": "markdown",
      "metadata": {
        "id": "GNY4h_ha5Mnc"
      },
      "source": [
        "Обучим случайный лес, классы теперь сбалансированы. Сразу же есть результат: F1 мера равна 0.6026 при 19 деревьях, дальше посмотрим какую глубину использовать"
      ]
    },
    {
      "cell_type": "code",
      "execution_count": null,
      "metadata": {
        "id": "rfDeaP-H5Mnc",
        "outputId": "dbd337c2-6cc0-43ab-bcd7-ebc8b1542d96"
      },
      "outputs": [
        {
          "name": "stdout",
          "output_type": "stream",
          "text": [
            "depth: 19 F1: 0.6098130841121496 RandomForestClassifier(bootstrap=True, class_weight='balanced',\n",
            "                       criterion='gini', max_depth=19, max_features='auto',\n",
            "                       max_leaf_nodes=None, min_impurity_decrease=0.0,\n",
            "                       min_impurity_split=None, min_samples_leaf=1,\n",
            "                       min_samples_split=2, min_weight_fraction_leaf=0.0,\n",
            "                       n_estimators=45, n_jobs=None, oob_score=False,\n",
            "                       random_state=48, verbose=0, warm_start=False)\n",
            "CPU times: user 16.3 s, sys: 35.5 ms, total: 16.3 s\n",
            "Wall time: 16.4 s\n"
          ]
        }
      ],
      "source": [
        "%%time\n",
        "best_depth = 0\n",
        "best_f1_sc = 0\n",
        "for depth in range(1, 20):\n",
        "    random_model_d = RandomForestClassifier(class_weight = 'balanced', max_depth = depth, random_state = 48, n_estimators = 45)\n",
        "    random_model_d.fit(features_upsampled,target_upsampled)\n",
        "    predictions_valid = random_model_d.predict(valid_features)\n",
        "    f1_sc = f1_score(valid_target, valid_predictions)\n",
        "    if f1_sc > best_f1_sc:\n",
        "        best_depth = depth\n",
        "        best_f1_sc = f1_sc\n",
        "print('depth:',depth,'F1:',f1_sc, random_model_d)"
      ]
    },
    {
      "cell_type": "code",
      "execution_count": null,
      "metadata": {
        "scrolled": true,
        "id": "V1t4PYnh5Mnc",
        "outputId": "44257f10-665e-481a-971c-550583b72a81"
      },
      "outputs": [
        {
          "name": "stdout",
          "output_type": "stream",
          "text": [
            "Проверка модели,значение F1: 0.6058558558558559 значение p_score: 0.6226851851851852 значение r_score: 0.5899122807017544\n",
            "CPU times: user 1.14 s, sys: 16 ms, total: 1.16 s\n",
            "Wall time: 1.17 s\n"
          ]
        }
      ],
      "source": [
        "%%time\n",
        "random_model_e = RandomForestClassifier(class_weight = 'balanced', random_state = 48, n_estimators = 45, max_depth = 19)\n",
        "random_model_e.fit(features_upsampled,target_upsampled)\n",
        "test_predictions_m = random_model_e.predict(test_features)\n",
        "f1_sc_random_model_e = f1_score(test_target, test_predictions_m)\n",
        "p_score_b = precision_score(test_target, test_predictions_m)\n",
        "r_score_b = recall_score(test_target, test_predictions_m)\n",
        "print('Проверка модели,значение F1:',f1_sc_random_model_e, 'значение p_score:', p_score_b, 'значение r_score:', r_score_b)"
      ]
    },
    {
      "cell_type": "code",
      "execution_count": null,
      "metadata": {
        "id": "N0Y41K-o5Mnd",
        "outputId": "b32813aa-72d7-499a-b1b5-69b860fa974b"
      },
      "outputs": [
        {
          "data": {
            "text/html": [
              "<div>\n",
              "<style scoped>\n",
              "    .dataframe tbody tr th:only-of-type {\n",
              "        vertical-align: middle;\n",
              "    }\n",
              "\n",
              "    .dataframe tbody tr th {\n",
              "        vertical-align: top;\n",
              "    }\n",
              "\n",
              "    .dataframe thead th {\n",
              "        text-align: right;\n",
              "    }\n",
              "</style>\n",
              "<table border=\"1\" class=\"dataframe\">\n",
              "  <thead>\n",
              "    <tr style=\"text-align: right;\">\n",
              "      <th></th>\n",
              "      <th>features</th>\n",
              "      <th>feature_importance</th>\n",
              "    </tr>\n",
              "  </thead>\n",
              "  <tbody>\n",
              "    <tr>\n",
              "      <td>1</td>\n",
              "      <td>age</td>\n",
              "      <td>0.251734</td>\n",
              "    </tr>\n",
              "    <tr>\n",
              "      <td>3</td>\n",
              "      <td>balance</td>\n",
              "      <td>0.148877</td>\n",
              "    </tr>\n",
              "    <tr>\n",
              "      <td>7</td>\n",
              "      <td>salary</td>\n",
              "      <td>0.140620</td>\n",
              "    </tr>\n",
              "    <tr>\n",
              "      <td>0</td>\n",
              "      <td>credit_score</td>\n",
              "      <td>0.133167</td>\n",
              "    </tr>\n",
              "    <tr>\n",
              "      <td>4</td>\n",
              "      <td>num_products</td>\n",
              "      <td>0.126607</td>\n",
              "    </tr>\n",
              "    <tr>\n",
              "      <td>2</td>\n",
              "      <td>tenure</td>\n",
              "      <td>0.077948</td>\n",
              "    </tr>\n",
              "    <tr>\n",
              "      <td>6</td>\n",
              "      <td>is_active</td>\n",
              "      <td>0.035874</td>\n",
              "    </tr>\n",
              "    <tr>\n",
              "      <td>8</td>\n",
              "      <td>geography_Germany</td>\n",
              "      <td>0.030706</td>\n",
              "    </tr>\n",
              "    <tr>\n",
              "      <td>10</td>\n",
              "      <td>gender_Male</td>\n",
              "      <td>0.020594</td>\n",
              "    </tr>\n",
              "    <tr>\n",
              "      <td>5</td>\n",
              "      <td>has_cr_card</td>\n",
              "      <td>0.019575</td>\n",
              "    </tr>\n",
              "    <tr>\n",
              "      <td>9</td>\n",
              "      <td>geography_Spain</td>\n",
              "      <td>0.014298</td>\n",
              "    </tr>\n",
              "  </tbody>\n",
              "</table>\n",
              "</div>"
            ],
            "text/plain": [
              "             features  feature_importance\n",
              "1                 age            0.251734\n",
              "3             balance            0.148877\n",
              "7              salary            0.140620\n",
              "0        credit_score            0.133167\n",
              "4        num_products            0.126607\n",
              "2              tenure            0.077948\n",
              "6           is_active            0.035874\n",
              "8   geography_Germany            0.030706\n",
              "10        gender_Male            0.020594\n",
              "5         has_cr_card            0.019575\n",
              "9     geography_Spain            0.014298"
            ]
          },
          "execution_count": 35,
          "metadata": {},
          "output_type": "execute_result"
        }
      ],
      "source": [
        "feature_importances = pd.DataFrame({'features':features.columns,'feature_importance':random_model_e.feature_importances_})\n",
        "feature_importances.sort_values('feature_importance',ascending = False)"
      ]
    },
    {
      "cell_type": "markdown",
      "metadata": {
        "id": "mLNWUQIF5Mnd"
      },
      "source": [
        "Здесь у меня возник вопрос: почему если мы ищем лучшую F1 меру при поиске лучшей глубины, а затем прописывем точно такие же параметры, F1 мера отличается. Специально вывел на экран параметры обоих моделей, они полностью одинаковы, однако F1 мера отличается."
      ]
    },
    {
      "cell_type": "markdown",
      "metadata": {
        "id": "KoFZLuXD5Mnd"
      },
      "source": [
        "### Логистическая регрессия (upsample)"
      ]
    },
    {
      "cell_type": "code",
      "execution_count": null,
      "metadata": {
        "scrolled": true,
        "id": "fUVSXl9x5Mnd",
        "outputId": "b730f847-9e7d-491b-9124-36202b734bcf"
      },
      "outputs": [
        {
          "name": "stdout",
          "output_type": "stream",
          "text": [
            "Проверка модели,значение F1: 0.2748212867355044 значение p_score: 0.21544209215442092 значение r_score: 0.3793859649122807\n",
            "CPU times: user 108 ms, sys: 72.2 ms, total: 180 ms\n",
            "Wall time: 111 ms\n"
          ]
        }
      ],
      "source": [
        "%%time\n",
        "log_model_a = LogisticRegression(random_state = 48, class_weight = 'balanced', solver = 'liblinear')\n",
        "log_model_a.fit(features_upsampled,target_upsampled)\n",
        "log_prediction = log_model_a.predict(valid_features)\n",
        "f1_score_log_a = f1_score(test_target, log_prediction)\n",
        "p_score_c = precision_score(test_target, log_prediction)\n",
        "r_score_c = recall_score(test_target, log_prediction)\n",
        "print('Проверка модели,значение F1:',f1_score_log_a, 'значение p_score:', p_score_c, 'значение r_score:', r_score_c)"
      ]
    },
    {
      "cell_type": "markdown",
      "metadata": {
        "id": "uaRWt2yn5Mne"
      },
      "source": [
        "F1 мера значительно улучшилась в логистической регрессии, однако до нужного нам результата все равно мало."
      ]
    },
    {
      "cell_type": "markdown",
      "metadata": {
        "id": "lQS5yBuP5Mne"
      },
      "source": [
        "### Дерево решений (downsample)"
      ]
    },
    {
      "cell_type": "code",
      "execution_count": null,
      "metadata": {
        "id": "LZiuRjwd5Mnf",
        "outputId": "e16e32c1-3050-4e30-9aef-0df32ae0bb8e"
      },
      "outputs": [
        {
          "name": "stdout",
          "output_type": "stream",
          "text": [
            "max_depth: 19 F1: 0.5093167701863354\n",
            "CPU times: user 252 ms, sys: 7.89 ms, total: 260 ms\n",
            "Wall time: 328 ms\n"
          ]
        }
      ],
      "source": [
        "%%time\n",
        "\n",
        "for depth in range(1,20,1):\n",
        "    tree_model_d = DecisionTreeClassifier(class_weight = 'balanced', max_depth = depth, random_state = 48)\n",
        "    tree_model_d.fit(features_downsampled,target_downsampled)\n",
        "    prediction = tree_model_d.predict(valid_features)\n",
        "print('max_depth:',depth,'F1:',f1_score(valid_target,prediction))"
      ]
    },
    {
      "cell_type": "markdown",
      "metadata": {
        "id": "PC53UcSp5Mnf"
      },
      "source": [
        "### Случайный лес (downsample)"
      ]
    },
    {
      "cell_type": "code",
      "execution_count": null,
      "metadata": {
        "scrolled": true,
        "id": "uBNFlGBf5Mnf",
        "outputId": "e018c9de-710d-45c3-f875-e426a078c3d1"
      },
      "outputs": [
        {
          "name": "stdout",
          "output_type": "stream",
          "text": [
            "Количество деревьев 1 Лучшая F1 0.5861601085481682 RandomForestClassifier(bootstrap=True, class_weight='balanced',\n",
            "                       criterion='gini', max_depth=None, max_features='auto',\n",
            "                       max_leaf_nodes=None, min_impurity_decrease=0.0,\n",
            "                       min_impurity_split=None, min_samples_leaf=1,\n",
            "                       min_samples_split=2, min_weight_fraction_leaf=0.0,\n",
            "                       n_estimators=49, n_jobs=None, oob_score=False,\n",
            "                       random_state=48, verbose=0, warm_start=False)\n"
          ]
        }
      ],
      "source": [
        "best_est = 0\n",
        "best_f1_sc = 0\n",
        "for est in range(1,50):\n",
        "    random_model_d = RandomForestClassifier(class_weight = 'balanced', random_state = 48, n_estimators = est)\n",
        "    random_model_d.fit(features_downsampled,target_downsampled)\n",
        "    valid_predictions = random_model.predict(valid_features)\n",
        "    f1_sc = f1_score(valid_target, valid_predictions)\n",
        "    if f1_sc > best_f1_sc:\n",
        "        best_est = est\n",
        "        best_f1_sc = f1_sc\n",
        "print('Количество деревьев', best_est, 'Лучшая F1', best_f1_sc, random_model_d)"
      ]
    },
    {
      "cell_type": "code",
      "execution_count": null,
      "metadata": {
        "scrolled": true,
        "id": "RCoL4X725Mng",
        "outputId": "faf6c33f-1f94-442c-8438-d3a87abbd6ee"
      },
      "outputs": [
        {
          "name": "stdout",
          "output_type": "stream",
          "text": [
            "Лучшая F1 0.5939553219448095 RandomForestClassifier(bootstrap=True, class_weight='balanced',\n",
            "                       criterion='gini', max_depth=None, max_features='auto',\n",
            "                       max_leaf_nodes=None, min_impurity_decrease=0.0,\n",
            "                       min_impurity_split=None, min_samples_leaf=1,\n",
            "                       min_samples_split=2, min_weight_fraction_leaf=0.0,\n",
            "                       n_estimators=1, n_jobs=None, oob_score=False,\n",
            "                       random_state=48, verbose=0, warm_start=False) 0.740983606557377 0.4956140350877193\n"
          ]
        }
      ],
      "source": [
        "random_model_f = RandomForestClassifier(class_weight = 'balanced', random_state = 48, n_estimators = 1)\n",
        "random_model_f.fit(features_downsampled,target_downsampled)\n",
        "test_predictions_a = random_model_a.predict(test_features)\n",
        "f1_sc = f1_score(test_target, test_predictions_a)\n",
        "p_score = precision_score(test_target, test_predictions_a)\n",
        "r_score = recall_score(test_target, test_predictions_a)\n",
        "print('Лучшая F1', f1_sc, random_model_f, p_score, r_score)"
      ]
    },
    {
      "cell_type": "code",
      "execution_count": null,
      "metadata": {
        "scrolled": true,
        "id": "0AFR6PtZ5Mng",
        "outputId": "c9647152-8d30-43c6-a6d5-23e15341bdad"
      },
      "outputs": [
        {
          "data": {
            "image/png": "[encoded data removed]",
            "text/plain": [
              "<Figure size 432x288 with 1 Axes>"
            ]
          },
          "metadata": {
            "needs_background": "light"
          },
          "output_type": "display_data"
        }
      ],
      "source": [
        "importances = random_model_f.feature_importances_\n",
        "std = np.std([\n",
        "    tree.feature_importances_ for tree in random_model_f.estimators_], axis = 0)\n",
        "feature_names = [f'features {i}' for i in range(features.shape[1])]\n",
        "forest_importances = pd.Series(importances, index = feature_names)\n",
        "\n",
        "fig, ax = plt.subplots()\n",
        "forest_importances.plot.bar(yerr = std, ax = ax)\n",
        "ax.set_title(\"Feature importances using MDI\")\n",
        "ax.set_ylabel(\"Mean decrease in impurity\")\n",
        "fig.tight_layout()"
      ]
    },
    {
      "cell_type": "code",
      "execution_count": null,
      "metadata": {
        "id": "p5Ivl3mq5Mng",
        "outputId": "e6905ca7-9a40-419a-a568-a5f3dfd6fea6"
      },
      "outputs": [
        {
          "data": {
            "text/html": [
              "<div>\n",
              "<style scoped>\n",
              "    .dataframe tbody tr th:only-of-type {\n",
              "        vertical-align: middle;\n",
              "    }\n",
              "\n",
              "    .dataframe tbody tr th {\n",
              "        vertical-align: top;\n",
              "    }\n",
              "\n",
              "    .dataframe thead th {\n",
              "        text-align: right;\n",
              "    }\n",
              "</style>\n",
              "<table border=\"1\" class=\"dataframe\">\n",
              "  <thead>\n",
              "    <tr style=\"text-align: right;\">\n",
              "      <th></th>\n",
              "      <th>features</th>\n",
              "      <th>feature_importance</th>\n",
              "    </tr>\n",
              "  </thead>\n",
              "  <tbody>\n",
              "    <tr>\n",
              "      <td>1</td>\n",
              "      <td>age</td>\n",
              "      <td>0.269558</td>\n",
              "    </tr>\n",
              "    <tr>\n",
              "      <td>7</td>\n",
              "      <td>salary</td>\n",
              "      <td>0.169852</td>\n",
              "    </tr>\n",
              "    <tr>\n",
              "      <td>3</td>\n",
              "      <td>balance</td>\n",
              "      <td>0.140002</td>\n",
              "    </tr>\n",
              "    <tr>\n",
              "      <td>4</td>\n",
              "      <td>num_products</td>\n",
              "      <td>0.120566</td>\n",
              "    </tr>\n",
              "    <tr>\n",
              "      <td>0</td>\n",
              "      <td>credit_score</td>\n",
              "      <td>0.105636</td>\n",
              "    </tr>\n",
              "    <tr>\n",
              "      <td>2</td>\n",
              "      <td>tenure</td>\n",
              "      <td>0.069315</td>\n",
              "    </tr>\n",
              "    <tr>\n",
              "      <td>6</td>\n",
              "      <td>is_active</td>\n",
              "      <td>0.027993</td>\n",
              "    </tr>\n",
              "    <tr>\n",
              "      <td>5</td>\n",
              "      <td>has_cr_card</td>\n",
              "      <td>0.026091</td>\n",
              "    </tr>\n",
              "    <tr>\n",
              "      <td>8</td>\n",
              "      <td>geography_Germany</td>\n",
              "      <td>0.025986</td>\n",
              "    </tr>\n",
              "    <tr>\n",
              "      <td>10</td>\n",
              "      <td>gender_Male</td>\n",
              "      <td>0.024035</td>\n",
              "    </tr>\n",
              "    <tr>\n",
              "      <td>9</td>\n",
              "      <td>geography_Spain</td>\n",
              "      <td>0.020965</td>\n",
              "    </tr>\n",
              "  </tbody>\n",
              "</table>\n",
              "</div>"
            ],
            "text/plain": [
              "             features  feature_importance\n",
              "1                 age            0.269558\n",
              "7              salary            0.169852\n",
              "3             balance            0.140002\n",
              "4        num_products            0.120566\n",
              "0        credit_score            0.105636\n",
              "2              tenure            0.069315\n",
              "6           is_active            0.027993\n",
              "5         has_cr_card            0.026091\n",
              "8   geography_Germany            0.025986\n",
              "10        gender_Male            0.024035\n",
              "9     geography_Spain            0.020965"
            ]
          },
          "execution_count": 41,
          "metadata": {},
          "output_type": "execute_result"
        }
      ],
      "source": [
        "feature_importances = pd.DataFrame({'features':features.columns,'feature_importance':random_model_f.feature_importances_})\n",
        "feature_importances.sort_values('feature_importance',ascending = False)"
      ]
    },
    {
      "cell_type": "markdown",
      "metadata": {
        "id": "kIwswLHL5Mnh"
      },
      "source": [
        "### Вывод"
      ]
    },
    {
      "cell_type": "markdown",
      "metadata": {
        "id": "e_6pvpIb5Mnh"
      },
      "source": [
        "Общий вывод: после того, как мы использовали функцию борьбы с дисбалансом значения значительно улучшились. Самой лучшей моделью после \"балансировки\" признана модель \"Случайного леса\" со следующими параметрами : class_weight = 'balanced', n_estimators = 19, max_depth = 19. F1 мера составила 0.6026, что соответствует условию нашей задачи."
      ]
    },
    {
      "cell_type": "markdown",
      "metadata": {
        "id": "NV7jJnCL5Mni"
      },
      "source": [
        "## ROC AUC"
      ]
    },
    {
      "cell_type": "markdown",
      "metadata": {
        "id": "oU6ZaagJ5Mni"
      },
      "source": [
        "В конце найдем значение roc auc для каждой модели. Построить ROC-кривую поможет функция roc_curve(). Функция перебирает разные пороги и возвращает три списка: значения FPR, значения TPR и рассмотренные пороги. Помним, что площадь ROC AUC случайной модели равна 0.5. Посчитаем какая площадь у наших 3 моделей и выведем на экран. "
      ]
    },
    {
      "cell_type": "code",
      "execution_count": null,
      "metadata": {
        "id": "3AXRft1l5Mni",
        "outputId": "ff13cd7f-0d9c-410c-be9d-c7b369003fe3"
      },
      "outputs": [
        {
          "name": "stdout",
          "output_type": "stream",
          "text": [
            "Значения метрики для Дерева решений: 0.6775794868093399\n"
          ]
        }
      ],
      "source": [
        "probabilities_tree = tree_model.predict_proba(valid_features)\n",
        "probabilities_one_valid_tree = probabilities_tree[:,1]\n",
        "fpr_tree,tpr_tree,thresholds = roc_curve(valid_target,probabilities_one_valid_tree)\n",
        "auc_roc_tree = roc_auc_score(valid_target,probabilities_one_valid_tree)\n",
        "print('Значения метрики для Дерева решений:', auc_roc_tree)"
      ]
    },
    {
      "cell_type": "code",
      "execution_count": null,
      "metadata": {
        "id": "e40RKUi85Mni",
        "outputId": "332151f6-c3a4-4e07-c5c7-3e0b8e54aaee"
      },
      "outputs": [
        {
          "name": "stdout",
          "output_type": "stream",
          "text": [
            "Значения метрики для Случайного леса 0.8508011837309177\n"
          ]
        }
      ],
      "source": [
        "probabilities_random = random_model.predict_proba(valid_features)\n",
        "probabilities_two_valid = probabilities_random[:,1]\n",
        "fpr_random,tpr_random,thresholds = roc_curve(valid_target,probabilities_two_valid)\n",
        "auc_roc_random = roc_auc_score(valid_target,probabilities_two_valid)\n",
        "print('Значения метрики для Случайного леса', auc_roc_random)"
      ]
    },
    {
      "cell_type": "code",
      "execution_count": null,
      "metadata": {
        "id": "_QKBaCR45Mnj",
        "outputId": "92e46a59-9e31-4c05-bae0-88d3e66d359f"
      },
      "outputs": [
        {
          "name": "stdout",
          "output_type": "stream",
          "text": [
            "Значения метрики для Логистической регрессии 0.7749010550122102\n"
          ]
        }
      ],
      "source": [
        "probabilities_log = log_model.predict_proba(valid_features)\n",
        "probabilities_three_valid = probabilities_log[:,1]\n",
        "fpr_log,tpr_log,thresholds = roc_curve(valid_target,probabilities_three_valid)\n",
        "auc_roc_log = roc_auc_score(valid_target,probabilities_three_valid)\n",
        "print('Значения метрики для Логистической регрессии', auc_roc_log)"
      ]
    },
    {
      "cell_type": "markdown",
      "metadata": {
        "id": "tAwbKWaC5Mnj"
      },
      "source": [
        "Построим график, на котором проверим как кривые ROC расположены относительно случайной модели. Построим график для переменных fpr и tpr."
      ]
    },
    {
      "cell_type": "code",
      "execution_count": null,
      "metadata": {
        "scrolled": false,
        "id": "kcTFCmb65Mnk",
        "outputId": "9bc1e404-18c6-408a-cd2d-78a5858df517"
      },
      "outputs": [
        {
          "data": {
            "text/plain": [
              "<Figure size 432x288 with 0 Axes>"
            ]
          },
          "metadata": {},
          "output_type": "display_data"
        },
        {
          "data": {
            "image/png": "[encoded data removed]",
            "text/plain": [
              "<Figure size 720x504 with 1 Axes>"
            ]
          },
          "metadata": {
            "needs_background": "light"
          },
          "output_type": "display_data"
        }
      ],
      "source": [
        "plt.figure()\n",
        "plt.figure(figsize = (10,7))\n",
        "plt.plot([0, 1], [0, 1], linestyle = '--')\n",
        "plt.xlim([0.0, 1.0])\n",
        "plt.ylim([0.0, 1.0])\n",
        "plt.plot(fpr_tree,tpr_tree)\n",
        "plt.plot(fpr_random,tpr_random)\n",
        "plt.plot(fpr_log,tpr_log)\n",
        "plt.xlabel('False Positive Rate')\n",
        "plt.ylabel('True Positive Rate')\n",
        "plt.title('ROC-кривая')\n",
        "plt.legend(('Случайная модель','Дерево решения','Случайный лес','Логистическая регрессия'),\n",
        "           loc = 'upper left') \n",
        "plt.show()"
      ]
    },
    {
      "cell_type": "code",
      "execution_count": null,
      "metadata": {
        "id": "PQyd1jCP5Mnk",
        "outputId": "4ea63dfc-4fe2-479f-e312-e163bc2771c6"
      },
      "outputs": [
        {
          "data": {
            "text/html": [
              "<div>\n",
              "<style scoped>\n",
              "    .dataframe tbody tr th:only-of-type {\n",
              "        vertical-align: middle;\n",
              "    }\n",
              "\n",
              "    .dataframe tbody tr th {\n",
              "        vertical-align: top;\n",
              "    }\n",
              "\n",
              "    .dataframe thead th {\n",
              "        text-align: right;\n",
              "    }\n",
              "</style>\n",
              "<table border=\"1\" class=\"dataframe\">\n",
              "  <thead>\n",
              "    <tr style=\"text-align: right;\">\n",
              "      <th></th>\n",
              "      <th>Дерево Решения</th>\n",
              "      <th>Случайный лес</th>\n",
              "      <th>Логистическая регрессия</th>\n",
              "    </tr>\n",
              "  </thead>\n",
              "  <tbody>\n",
              "    <tr>\n",
              "      <td>F1 без учета дисбаланса</td>\n",
              "      <td>0.547651</td>\n",
              "      <td>0.601050</td>\n",
              "      <td>0.315620</td>\n",
              "    </tr>\n",
              "    <tr>\n",
              "      <td>F1 с учетом дисбаланса</td>\n",
              "      <td>0.568387</td>\n",
              "      <td>0.605856</td>\n",
              "      <td>0.274821</td>\n",
              "    </tr>\n",
              "  </tbody>\n",
              "</table>\n",
              "</div>"
            ],
            "text/plain": [
              "                         Дерево Решения  Случайный лес  \\\n",
              "F1 без учета дисбаланса        0.547651       0.601050   \n",
              "F1 с учетом дисбаланса         0.568387       0.605856   \n",
              "\n",
              "                         Логистическая регрессия  \n",
              "F1 без учета дисбаланса                 0.315620  \n",
              "F1 с учетом дисбаланса                  0.274821  "
            ]
          },
          "execution_count": 46,
          "metadata": {},
          "output_type": "execute_result"
        }
      ],
      "source": [
        "finalle = {'Дерево Решения':np.array([tree_model_b,f1_score_tree_model_e]),'Случайный лес':np.array([f1_sc_random_model_b,f1_sc_random_model_e]),'Логистическая регрессия':np.array([f1_score_log_model,f1_score_log_a])}\n",
        "finalle = pd.DataFrame(finalle, index = ['F1 без учета дисбаланса','F1 с учетом дисбаланса'])\n",
        "finalle"
      ]
    },
    {
      "cell_type": "markdown",
      "metadata": {
        "id": "ySYomkqD5Mnk"
      },
      "source": [
        ""
      ]
    },
    {
      "cell_type": "markdown",
      "metadata": {
        "id": "Amddzi5a5Mnl"
      },
      "source": [
        "## Вывод"
      ]
    },
    {
      "cell_type": "markdown",
      "metadata": {
        "id": "XrMBiAC95Mnl"
      },
      "source": [
        "Мы рассмотрели предоставленную нам таблицу, удалили ненужные столбцы, привели таблицу в удобный для нас вид. Далее мы рассмотрели возможности нескольких моделей. Первоначально рассматривали без учета дисбаланса, результаты было необходимо улучшить. После этого категоризировали и стандартизировали данные.  По показателям F1 и ROC AUC самой лучшей оказалась модель Случайного леса. Однако нам необходимо понимать, что именно эта модель обучается дольше всех по времени. В задаче нам очень сильно помогла функция, которая урегулировала классы в выборке (upsample) и параметр в модели: class_weight='balanced'. Лучшее значение метрики F1: 0.6026 у модели Случайного леса."
      ]
    },
    {
      "cell_type": "markdown",
      "metadata": {
        "id": "5yIL9AA85Mnm"
      },
      "source": [
        "## Чек-лист готовности проекта"
      ]
    },
    {
      "cell_type": "markdown",
      "metadata": {
        "id": "IiZIRJrM5Mnm"
      },
      "source": [
        "Поставьте 'x' в выполненных пунктах. Далее нажмите Shift+Enter."
      ]
    },
    {
      "cell_type": "markdown",
      "metadata": {
        "id": "JQsZHrx65Mnm"
      },
      "source": [
        "- [x]  Jupyter Notebook открыт\n",
        "- [x]  Весь код выполняется без ошибок\n",
        "- [x]  Ячейки с кодом расположены в порядке исполнения\n",
        "- [x]  Выполнен шаг 1: данные подготовлены\n",
        "- [x]  Выполнен шаг 2: задача исследована\n",
        "    - [x]  Исследован баланс классов\n",
        "    - [x]  Изучены модели без учёта дисбаланса\n",
        "    - [x]  Написаны выводы по результатам исследования\n",
        "- [x]  Выполнен шаг 3: учтён дисбаланс\n",
        "    - [x]  Применено несколько способов борьбы с дисбалансом\n",
        "    - [x]  Написаны выводы по результатам исследования\n",
        "- [x]  Выполнен шаг 4: проведено тестирование\n",
        "- [x]  Удалось достичь *F1*-меры не менее 0.59\n",
        "- [x]  Исследована метрика *AUC-ROC*"
      ]
    }
  ],
  "metadata": {
    "ExecuteTimeLog": [
      {
        "duration": 198,
        "start_time": "2021-06-17T11:10:11.914Z"
      },
      {
        "duration": 1101,
        "start_time": "2021-06-17T11:10:25.995Z"
      },
      {
        "duration": 1216,
        "start_time": "2021-06-17T11:10:27.099Z"
      },
      {
        "duration": 1148,
        "start_time": "2021-06-17T11:10:43.403Z"
      },
      {
        "duration": 1159,
        "start_time": "2021-06-17T11:12:11.836Z"
      },
      {
        "duration": 1266,
        "start_time": "2021-06-17T11:13:10.811Z"
      },
      {
        "duration": 30,
        "start_time": "2021-06-17T11:14:04.235Z"
      },
      {
        "duration": 42,
        "start_time": "2021-06-17T11:14:18.434Z"
      },
      {
        "duration": 4,
        "start_time": "2021-06-17T11:15:52.556Z"
      },
      {
        "duration": 176,
        "start_time": "2021-06-17T11:15:58.557Z"
      },
      {
        "duration": 37,
        "start_time": "2021-06-17T11:16:09.420Z"
      },
      {
        "duration": 41,
        "start_time": "2021-06-17T11:16:09.738Z"
      },
      {
        "duration": 15,
        "start_time": "2021-06-17T11:16:10.155Z"
      },
      {
        "duration": 180,
        "start_time": "2021-06-17T11:20:04.885Z"
      },
      {
        "duration": 9,
        "start_time": "2021-06-17T11:20:11.061Z"
      },
      {
        "duration": 105,
        "start_time": "2021-06-17T12:09:23.255Z"
      },
      {
        "duration": 768,
        "start_time": "2021-06-17T12:18:59.257Z"
      },
      {
        "duration": 33441,
        "start_time": "2021-06-17T12:19:33.660Z"
      },
      {
        "duration": 191,
        "start_time": "2021-06-17T12:20:17.119Z"
      },
      {
        "duration": 187,
        "start_time": "2021-06-17T12:20:47.025Z"
      },
      {
        "duration": 4282,
        "start_time": "2021-06-17T12:21:34.336Z"
      },
      {
        "duration": 241,
        "start_time": "2021-06-17T12:21:57.705Z"
      },
      {
        "duration": 221,
        "start_time": "2021-06-17T12:23:17.337Z"
      },
      {
        "duration": 163,
        "start_time": "2021-06-17T12:26:55.051Z"
      },
      {
        "duration": 4,
        "start_time": "2021-06-17T12:26:59.767Z"
      },
      {
        "duration": 173,
        "start_time": "2021-06-17T12:27:25.298Z"
      },
      {
        "duration": 173,
        "start_time": "2021-06-17T12:28:02.210Z"
      },
      {
        "duration": 53,
        "start_time": "2021-06-17T12:28:07.728Z"
      },
      {
        "duration": 38,
        "start_time": "2021-06-17T12:28:07.970Z"
      },
      {
        "duration": 13,
        "start_time": "2021-06-17T12:28:08.174Z"
      },
      {
        "duration": 4,
        "start_time": "2021-06-17T12:28:08.361Z"
      },
      {
        "duration": 97,
        "start_time": "2021-06-17T12:28:08.551Z"
      },
      {
        "duration": 807,
        "start_time": "2021-06-17T12:28:08.727Z"
      },
      {
        "duration": 237,
        "start_time": "2021-06-17T12:28:09.535Z"
      },
      {
        "duration": 668,
        "start_time": "2021-06-17T12:28:10.417Z"
      },
      {
        "duration": 8,
        "start_time": "2021-06-17T12:40:28.162Z"
      },
      {
        "duration": 6,
        "start_time": "2021-06-17T12:41:30.677Z"
      },
      {
        "duration": 224,
        "start_time": "2021-06-17T12:42:33.026Z"
      },
      {
        "duration": 146,
        "start_time": "2021-06-17T12:42:52.814Z"
      },
      {
        "duration": 144,
        "start_time": "2021-06-17T12:43:13.442Z"
      },
      {
        "duration": 3,
        "start_time": "2021-06-17T12:45:52.647Z"
      },
      {
        "duration": 12,
        "start_time": "2021-06-17T12:47:11.366Z"
      },
      {
        "duration": 3,
        "start_time": "2021-06-17T12:49:36.437Z"
      },
      {
        "duration": 40,
        "start_time": "2021-06-17T12:49:36.583Z"
      },
      {
        "duration": 13,
        "start_time": "2021-06-17T12:49:36.733Z"
      },
      {
        "duration": 3,
        "start_time": "2021-06-17T12:49:36.902Z"
      },
      {
        "duration": 8,
        "start_time": "2021-06-17T12:49:37.072Z"
      },
      {
        "duration": 13,
        "start_time": "2021-06-17T12:49:37.237Z"
      },
      {
        "duration": 9,
        "start_time": "2021-06-17T12:49:37.391Z"
      },
      {
        "duration": 191,
        "start_time": "2021-06-17T12:49:37.556Z"
      },
      {
        "duration": 509,
        "start_time": "2021-06-17T12:49:37.240Z"
      },
      {
        "duration": 101,
        "start_time": "2021-06-17T12:49:37.861Z"
      },
      {
        "duration": 872,
        "start_time": "2021-06-17T12:49:38.022Z"
      },
      {
        "duration": 274,
        "start_time": "2021-06-17T12:49:38.897Z"
      },
      {
        "duration": 160,
        "start_time": "2021-06-17T12:49:39.173Z"
      },
      {
        "duration": 728,
        "start_time": "2021-06-17T12:49:39.334Z"
      },
      {
        "duration": 4,
        "start_time": "2021-06-17T12:51:23.732Z"
      },
      {
        "duration": 13,
        "start_time": "2021-06-17T12:51:35.056Z"
      },
      {
        "duration": 4121,
        "start_time": "2021-06-17T12:55:39.535Z"
      },
      {
        "duration": 493,
        "start_time": "2021-06-17T12:55:43.165Z"
      },
      {
        "duration": 3,
        "start_time": "2021-06-17T12:56:04.423Z"
      },
      {
        "duration": 38,
        "start_time": "2021-06-17T12:56:04.594Z"
      },
      {
        "duration": 14,
        "start_time": "2021-06-17T12:56:04.760Z"
      },
      {
        "duration": 2,
        "start_time": "2021-06-17T12:56:04.936Z"
      },
      {
        "duration": 8,
        "start_time": "2021-06-17T12:56:05.119Z"
      },
      {
        "duration": 13,
        "start_time": "2021-06-17T12:56:05.328Z"
      },
      {
        "duration": 6,
        "start_time": "2021-06-17T12:56:05.537Z"
      },
      {
        "duration": 12,
        "start_time": "2021-06-17T12:56:05.753Z"
      },
      {
        "duration": 6029,
        "start_time": "2021-06-17T12:56:05.969Z"
      },
      {
        "duration": 493,
        "start_time": "2021-06-17T12:56:11.507Z"
      },
      {
        "duration": 4,
        "start_time": "2021-06-17T12:56:33.681Z"
      },
      {
        "duration": 12,
        "start_time": "2021-06-17T12:56:44.153Z"
      },
      {
        "duration": 4215,
        "start_time": "2021-06-17T12:57:08.961Z"
      },
      {
        "duration": 53,
        "start_time": "2021-06-17T12:57:17.681Z"
      },
      {
        "duration": 4224,
        "start_time": "2021-06-17T12:57:25.066Z"
      },
      {
        "duration": 4462,
        "start_time": "2021-06-17T12:59:23.969Z"
      },
      {
        "duration": 102,
        "start_time": "2021-06-17T12:59:30.994Z"
      },
      {
        "duration": 176,
        "start_time": "2021-06-17T13:01:03.863Z"
      },
      {
        "duration": 261,
        "start_time": "2021-06-17T13:01:08.186Z"
      },
      {
        "duration": 900,
        "start_time": "2021-06-17T13:01:26.273Z"
      },
      {
        "duration": 11,
        "start_time": "2021-06-17T13:01:57.726Z"
      },
      {
        "duration": 244,
        "start_time": "2021-06-17T13:02:37.367Z"
      },
      {
        "duration": 200,
        "start_time": "2021-06-17T13:02:52.170Z"
      },
      {
        "duration": 3,
        "start_time": "2021-06-17T13:52:51.212Z"
      },
      {
        "duration": 4250,
        "start_time": "2021-06-17T13:55:12.630Z"
      },
      {
        "duration": 4,
        "start_time": "2021-06-17T13:55:27.748Z"
      },
      {
        "duration": 38,
        "start_time": "2021-06-17T13:55:28.008Z"
      },
      {
        "duration": 13,
        "start_time": "2021-06-17T13:55:28.492Z"
      },
      {
        "duration": 2,
        "start_time": "2021-06-17T13:55:29.083Z"
      },
      {
        "duration": 9,
        "start_time": "2021-06-17T13:55:29.590Z"
      },
      {
        "duration": 14,
        "start_time": "2021-06-17T13:55:30.491Z"
      },
      {
        "duration": 7,
        "start_time": "2021-06-17T13:55:31.092Z"
      },
      {
        "duration": 4102,
        "start_time": "2021-06-17T13:55:31.906Z"
      },
      {
        "duration": 63,
        "start_time": "2021-06-17T14:04:25.553Z"
      },
      {
        "duration": 61,
        "start_time": "2021-06-17T14:05:00.720Z"
      },
      {
        "duration": 14,
        "start_time": "2021-06-17T14:05:18.239Z"
      },
      {
        "duration": 12,
        "start_time": "2021-06-17T14:05:34.152Z"
      },
      {
        "duration": 12,
        "start_time": "2021-06-17T14:05:46.656Z"
      },
      {
        "duration": 13,
        "start_time": "2021-06-17T14:05:53.985Z"
      },
      {
        "duration": 4361,
        "start_time": "2021-06-17T14:55:06.215Z"
      },
      {
        "duration": 250,
        "start_time": "2021-06-17T14:55:16.415Z"
      },
      {
        "duration": 4,
        "start_time": "2021-06-17T14:55:48.044Z"
      },
      {
        "duration": 40,
        "start_time": "2021-06-17T14:55:48.050Z"
      },
      {
        "duration": 13,
        "start_time": "2021-06-17T14:55:48.093Z"
      },
      {
        "duration": 3,
        "start_time": "2021-06-17T14:55:48.255Z"
      },
      {
        "duration": 8,
        "start_time": "2021-06-17T14:55:48.439Z"
      },
      {
        "duration": 12,
        "start_time": "2021-06-17T14:55:48.856Z"
      },
      {
        "duration": 6,
        "start_time": "2021-06-17T14:55:49.187Z"
      },
      {
        "duration": 13,
        "start_time": "2021-06-17T14:55:49.577Z"
      },
      {
        "duration": 13,
        "start_time": "2021-06-17T14:55:49.951Z"
      },
      {
        "duration": 94,
        "start_time": "2021-06-17T14:55:50.248Z"
      },
      {
        "duration": 812,
        "start_time": "2021-06-17T14:55:50.590Z"
      },
      {
        "duration": 192,
        "start_time": "2021-06-17T14:55:51.404Z"
      },
      {
        "duration": 1155,
        "start_time": "2021-06-17T14:55:50.443Z"
      },
      {
        "duration": 171,
        "start_time": "2021-06-17T14:55:51.664Z"
      },
      {
        "duration": 140,
        "start_time": "2021-06-17T14:55:59.533Z"
      },
      {
        "duration": 181,
        "start_time": "2021-06-17T14:56:02.734Z"
      },
      {
        "duration": 205,
        "start_time": "2021-06-17T14:56:24.714Z"
      },
      {
        "duration": 240,
        "start_time": "2021-06-17T14:56:34.887Z"
      },
      {
        "duration": 133,
        "start_time": "2021-06-17T14:56:36.725Z"
      },
      {
        "duration": 4,
        "start_time": "2021-06-17T14:56:53.559Z"
      },
      {
        "duration": 1666,
        "start_time": "2021-06-17T14:57:19.414Z"
      },
      {
        "duration": 634,
        "start_time": "2021-06-17T14:57:55.689Z"
      },
      {
        "duration": 498,
        "start_time": "2021-06-17T14:58:38.848Z"
      },
      {
        "duration": 147,
        "start_time": "2021-06-17T14:59:34.137Z"
      },
      {
        "duration": 1732,
        "start_time": "2021-06-18T11:18:02.261Z"
      },
      {
        "duration": 56,
        "start_time": "2021-06-18T11:18:03.995Z"
      },
      {
        "duration": 19,
        "start_time": "2021-06-18T11:18:04.054Z"
      },
      {
        "duration": 26,
        "start_time": "2021-06-18T11:18:04.076Z"
      },
      {
        "duration": 15,
        "start_time": "2021-06-18T11:18:04.104Z"
      },
      {
        "duration": 25,
        "start_time": "2021-06-18T11:18:04.789Z"
      },
      {
        "duration": 8,
        "start_time": "2021-06-18T11:18:05.470Z"
      },
      {
        "duration": 20,
        "start_time": "2021-06-18T11:18:06.071Z"
      },
      {
        "duration": 20,
        "start_time": "2021-06-18T11:18:06.614Z"
      },
      {
        "duration": 157,
        "start_time": "2021-06-18T11:18:07.238Z"
      },
      {
        "duration": 1328,
        "start_time": "2021-06-18T11:18:07.766Z"
      },
      {
        "duration": 387,
        "start_time": "2021-06-18T11:18:09.101Z"
      },
      {
        "duration": 299,
        "start_time": "2021-06-18T11:18:09.491Z"
      },
      {
        "duration": 1014,
        "start_time": "2021-06-18T11:18:10.004Z"
      },
      {
        "duration": 344,
        "start_time": "2021-06-18T11:18:12.253Z"
      },
      {
        "duration": 209,
        "start_time": "2021-06-18T11:18:13.253Z"
      },
      {
        "duration": 39,
        "start_time": "2021-06-18T11:18:13.965Z"
      },
      {
        "duration": 34,
        "start_time": "2021-06-18T11:20:23.133Z"
      },
      {
        "duration": 5,
        "start_time": "2021-06-18T11:21:01.852Z"
      },
      {
        "duration": 62,
        "start_time": "2021-06-18T11:21:01.860Z"
      },
      {
        "duration": 22,
        "start_time": "2021-06-18T11:21:01.924Z"
      },
      {
        "duration": 20,
        "start_time": "2021-06-18T11:21:01.949Z"
      },
      {
        "duration": 29,
        "start_time": "2021-06-18T11:21:01.972Z"
      },
      {
        "duration": 19,
        "start_time": "2021-06-18T11:21:02.496Z"
      },
      {
        "duration": 10,
        "start_time": "2021-06-18T11:21:02.517Z"
      },
      {
        "duration": 29,
        "start_time": "2021-06-18T11:21:02.530Z"
      },
      {
        "duration": 20,
        "start_time": "2021-06-18T11:21:02.719Z"
      },
      {
        "duration": 156,
        "start_time": "2021-06-18T11:21:02.908Z"
      },
      {
        "duration": 1441,
        "start_time": "2021-06-18T11:21:03.103Z"
      },
      {
        "duration": 418,
        "start_time": "2021-06-18T11:21:04.548Z"
      },
      {
        "duration": 243,
        "start_time": "2021-06-18T11:21:04.969Z"
      },
      {
        "duration": 1033,
        "start_time": "2021-06-18T11:21:05.215Z"
      },
      {
        "duration": 468,
        "start_time": "2021-06-18T11:21:06.251Z"
      },
      {
        "duration": 306,
        "start_time": "2021-06-18T11:21:06.722Z"
      },
      {
        "duration": 38,
        "start_time": "2021-06-18T11:21:07.030Z"
      },
      {
        "duration": 564,
        "start_time": "2021-06-18T11:28:59.792Z"
      },
      {
        "duration": 5,
        "start_time": "2021-06-18T11:29:38.176Z"
      },
      {
        "duration": 47,
        "start_time": "2021-06-18T11:29:38.378Z"
      },
      {
        "duration": 28,
        "start_time": "2021-06-18T11:29:38.569Z"
      },
      {
        "duration": 281,
        "start_time": "2021-06-18T11:29:38.794Z"
      },
      {
        "duration": 5,
        "start_time": "2021-06-18T11:29:39.304Z"
      },
      {
        "duration": 7,
        "start_time": "2021-06-18T11:29:52.436Z"
      },
      {
        "duration": 48,
        "start_time": "2021-06-18T11:29:52.509Z"
      },
      {
        "duration": 21,
        "start_time": "2021-06-18T11:29:52.744Z"
      },
      {
        "duration": 5,
        "start_time": "2021-06-18T11:29:52.953Z"
      },
      {
        "duration": 5,
        "start_time": "2021-06-18T11:29:53.344Z"
      },
      {
        "duration": 12,
        "start_time": "2021-06-18T11:29:53.797Z"
      },
      {
        "duration": 18,
        "start_time": "2021-06-18T11:29:54.042Z"
      },
      {
        "duration": 8,
        "start_time": "2021-06-18T11:29:54.247Z"
      },
      {
        "duration": 19,
        "start_time": "2021-06-18T11:29:54.496Z"
      },
      {
        "duration": 29,
        "start_time": "2021-06-18T11:29:54.941Z"
      },
      {
        "duration": 214,
        "start_time": "2021-06-18T11:29:55.119Z"
      },
      {
        "duration": 2056,
        "start_time": "2021-06-18T11:29:55.354Z"
      },
      {
        "duration": 561,
        "start_time": "2021-06-18T11:29:57.413Z"
      },
      {
        "duration": 322,
        "start_time": "2021-06-18T11:29:57.978Z"
      },
      {
        "duration": 1497,
        "start_time": "2021-06-18T11:29:58.303Z"
      },
      {
        "duration": 334,
        "start_time": "2021-06-18T11:30:02.200Z"
      },
      {
        "duration": 326,
        "start_time": "2021-06-18T11:30:02.584Z"
      },
      {
        "duration": 50,
        "start_time": "2021-06-18T11:30:03.320Z"
      },
      {
        "duration": 503,
        "start_time": "2021-06-18T11:30:04.465Z"
      },
      {
        "duration": 2384,
        "start_time": "2021-06-18T11:30:39.264Z"
      },
      {
        "duration": 2434,
        "start_time": "2021-06-18T11:31:22.392Z"
      },
      {
        "duration": 4401,
        "start_time": "2021-06-18T11:32:07.088Z"
      },
      {
        "duration": 5388,
        "start_time": "2021-06-18T11:33:24.087Z"
      },
      {
        "duration": 5284,
        "start_time": "2021-06-18T11:34:43.122Z"
      },
      {
        "duration": 36,
        "start_time": "2021-06-18T11:36:23.481Z"
      },
      {
        "duration": 1345,
        "start_time": "2021-06-18T11:36:35.029Z"
      },
      {
        "duration": 1335,
        "start_time": "2021-06-18T11:36:35.040Z"
      },
      {
        "duration": 1333,
        "start_time": "2021-06-18T11:36:35.044Z"
      },
      {
        "duration": 318,
        "start_time": "2021-06-18T11:36:41.786Z"
      },
      {
        "duration": 324,
        "start_time": "2021-06-18T11:36:42.151Z"
      },
      {
        "duration": 40,
        "start_time": "2021-06-18T11:36:42.961Z"
      },
      {
        "duration": 52925,
        "start_time": "2021-06-18T11:36:44.129Z"
      },
      {
        "duration": 612,
        "start_time": "2021-06-18T11:39:22.875Z"
      },
      {
        "duration": 5,
        "start_time": "2021-06-18T11:39:49.786Z"
      },
      {
        "duration": 46,
        "start_time": "2021-06-18T11:39:49.996Z"
      },
      {
        "duration": 21,
        "start_time": "2021-06-18T11:39:50.163Z"
      },
      {
        "duration": 6,
        "start_time": "2021-06-18T11:39:50.338Z"
      },
      {
        "duration": 6,
        "start_time": "2021-06-18T11:39:50.515Z"
      },
      {
        "duration": 17,
        "start_time": "2021-06-18T11:39:50.690Z"
      },
      {
        "duration": 18,
        "start_time": "2021-06-18T11:39:50.855Z"
      },
      {
        "duration": 8,
        "start_time": "2021-06-18T11:39:51.042Z"
      },
      {
        "duration": 25,
        "start_time": "2021-06-18T11:39:51.237Z"
      },
      {
        "duration": 27,
        "start_time": "2021-06-18T11:39:52.466Z"
      },
      {
        "duration": 215,
        "start_time": "2021-06-18T11:39:52.496Z"
      },
      {
        "duration": 1979,
        "start_time": "2021-06-18T11:39:52.715Z"
      },
      {
        "duration": 399,
        "start_time": "2021-06-18T11:39:54.698Z"
      },
      {
        "duration": 332,
        "start_time": "2021-06-18T11:39:55.101Z"
      },
      {
        "duration": 1045,
        "start_time": "2021-06-18T11:39:55.436Z"
      },
      {
        "duration": 348,
        "start_time": "2021-06-18T11:39:56.483Z"
      },
      {
        "duration": 217,
        "start_time": "2021-06-18T11:39:56.835Z"
      },
      {
        "duration": 46,
        "start_time": "2021-06-18T11:39:57.054Z"
      },
      {
        "duration": 50072,
        "start_time": "2021-06-18T11:39:57.103Z"
      },
      {
        "duration": 1307,
        "start_time": "2021-06-18T11:40:45.872Z"
      },
      {
        "duration": 29048,
        "start_time": "2021-06-18T11:41:02.705Z"
      },
      {
        "duration": 17299,
        "start_time": "2021-06-18T11:42:35.234Z"
      },
      {
        "duration": 17759,
        "start_time": "2021-06-18T11:43:03.340Z"
      },
      {
        "duration": 64597,
        "start_time": "2021-06-18T11:44:32.130Z"
      },
      {
        "duration": 27083,
        "start_time": "2021-06-18T11:46:04.532Z"
      },
      {
        "duration": 1999,
        "start_time": "2021-06-18T11:47:20.628Z"
      },
      {
        "duration": 73,
        "start_time": "2021-06-18T11:47:22.630Z"
      },
      {
        "duration": 27,
        "start_time": "2021-06-18T11:47:22.707Z"
      },
      {
        "duration": 7,
        "start_time": "2021-06-18T11:47:22.737Z"
      },
      {
        "duration": 8,
        "start_time": "2021-06-18T11:47:22.747Z"
      },
      {
        "duration": 52,
        "start_time": "2021-06-18T11:47:22.758Z"
      },
      {
        "duration": 31,
        "start_time": "2021-06-18T11:47:22.812Z"
      },
      {
        "duration": 11,
        "start_time": "2021-06-18T11:47:22.846Z"
      },
      {
        "duration": 51,
        "start_time": "2021-06-18T11:47:22.862Z"
      },
      {
        "duration": 20,
        "start_time": "2021-06-18T11:47:22.915Z"
      },
      {
        "duration": 185,
        "start_time": "2021-06-18T11:47:22.937Z"
      },
      {
        "duration": 1358,
        "start_time": "2021-06-18T11:47:23.125Z"
      },
      {
        "duration": 405,
        "start_time": "2021-06-18T11:47:24.485Z"
      },
      {
        "duration": 298,
        "start_time": "2021-06-18T11:47:24.893Z"
      },
      {
        "duration": 1023,
        "start_time": "2021-06-18T11:47:25.201Z"
      },
      {
        "duration": 394,
        "start_time": "2021-06-18T11:47:26.227Z"
      },
      {
        "duration": 358,
        "start_time": "2021-06-18T11:47:26.624Z"
      },
      {
        "duration": 61,
        "start_time": "2021-06-18T11:47:26.985Z"
      },
      {
        "duration": 447,
        "start_time": "2021-06-18T11:47:27.049Z"
      },
      {
        "duration": 1330,
        "start_time": "2021-06-18T11:47:26.168Z"
      },
      {
        "duration": 570,
        "start_time": "2021-06-18T11:48:34.002Z"
      },
      {
        "duration": 86312,
        "start_time": "2021-06-18T11:48:57.066Z"
      },
      {
        "duration": 54,
        "start_time": "2021-06-18T11:50:23.381Z"
      },
      {
        "duration": 22909,
        "start_time": "2021-06-18T11:54:25.283Z"
      },
      {
        "duration": 31128,
        "start_time": "2021-06-18T11:54:48.202Z"
      },
      {
        "duration": 4021,
        "start_time": "2021-06-18T11:55:58.629Z"
      },
      {
        "duration": 6263,
        "start_time": "2021-06-18T11:56:33.972Z"
      },
      {
        "duration": 4811,
        "start_time": "2021-06-18T11:56:55.100Z"
      },
      {
        "duration": 4430,
        "start_time": "2021-06-18T11:59:34.980Z"
      },
      {
        "duration": 1749,
        "start_time": "2021-06-18T11:59:51.038Z"
      },
      {
        "duration": 60,
        "start_time": "2021-06-18T11:59:52.799Z"
      },
      {
        "duration": 20,
        "start_time": "2021-06-18T11:59:52.862Z"
      },
      {
        "duration": 21,
        "start_time": "2021-06-18T11:59:52.884Z"
      },
      {
        "duration": 17,
        "start_time": "2021-06-18T11:59:52.908Z"
      },
      {
        "duration": 18,
        "start_time": "2021-06-18T11:59:52.927Z"
      },
      {
        "duration": 20,
        "start_time": "2021-06-18T11:59:52.947Z"
      },
      {
        "duration": 8,
        "start_time": "2021-06-18T11:59:52.971Z"
      },
      {
        "duration": 21,
        "start_time": "2021-06-18T11:59:53.001Z"
      },
      {
        "duration": 21,
        "start_time": "2021-06-18T11:59:53.025Z"
      },
      {
        "duration": 213,
        "start_time": "2021-06-18T11:59:53.049Z"
      },
      {
        "duration": 1883,
        "start_time": "2021-06-18T11:59:53.265Z"
      },
      {
        "duration": 540,
        "start_time": "2021-06-18T11:59:55.151Z"
      },
      {
        "duration": 401,
        "start_time": "2021-06-18T11:59:55.702Z"
      },
      {
        "duration": 1011,
        "start_time": "2021-06-18T11:59:56.106Z"
      },
      {
        "duration": 389,
        "start_time": "2021-06-18T11:59:57.120Z"
      },
      {
        "duration": 216,
        "start_time": "2021-06-18T11:59:57.512Z"
      },
      {
        "duration": 39,
        "start_time": "2021-06-18T11:59:57.731Z"
      },
      {
        "duration": 62417,
        "start_time": "2021-06-18T11:59:57.774Z"
      },
      {
        "duration": 14752,
        "start_time": "2021-06-18T12:01:00.201Z"
      },
      {
        "duration": 4574,
        "start_time": "2021-06-18T12:01:14.956Z"
      },
      {
        "duration": 31,
        "start_time": "2021-06-18T12:01:19.533Z"
      },
      {
        "duration": 12395,
        "start_time": "2021-06-18T12:03:00.784Z"
      },
      {
        "duration": 64143,
        "start_time": "2021-06-18T12:05:07.890Z"
      },
      {
        "duration": 523,
        "start_time": "2021-06-18T12:06:53.498Z"
      },
      {
        "duration": 11767,
        "start_time": "2021-06-18T12:08:25.375Z"
      },
      {
        "duration": 17563,
        "start_time": "2021-06-18T12:09:34.770Z"
      },
      {
        "duration": 11792,
        "start_time": "2021-06-18T12:10:28.547Z"
      },
      {
        "duration": 17326,
        "start_time": "2021-06-18T12:12:35.645Z"
      },
      {
        "duration": 26663,
        "start_time": "2021-06-18T12:13:16.638Z"
      },
      {
        "duration": 26981,
        "start_time": "2021-06-18T12:13:46.357Z"
      },
      {
        "duration": 1482,
        "start_time": "2021-06-18T12:14:47.935Z"
      },
      {
        "duration": 58,
        "start_time": "2021-06-18T12:14:49.419Z"
      },
      {
        "duration": 22,
        "start_time": "2021-06-18T12:14:49.480Z"
      },
      {
        "duration": 5,
        "start_time": "2021-06-18T12:14:49.505Z"
      },
      {
        "duration": 6,
        "start_time": "2021-06-18T12:14:49.513Z"
      },
      {
        "duration": 14,
        "start_time": "2021-06-18T12:14:49.521Z"
      },
      {
        "duration": 19,
        "start_time": "2021-06-18T12:14:49.537Z"
      },
      {
        "duration": 8,
        "start_time": "2021-06-18T12:14:49.602Z"
      },
      {
        "duration": 20,
        "start_time": "2021-06-18T12:14:49.614Z"
      },
      {
        "duration": 18,
        "start_time": "2021-06-18T12:14:49.637Z"
      },
      {
        "duration": 200,
        "start_time": "2021-06-18T12:14:49.657Z"
      },
      {
        "duration": 1347,
        "start_time": "2021-06-18T12:14:49.859Z"
      },
      {
        "duration": 406,
        "start_time": "2021-06-18T12:14:51.208Z"
      },
      {
        "duration": 304,
        "start_time": "2021-06-18T12:14:51.617Z"
      },
      {
        "duration": 1037,
        "start_time": "2021-06-18T12:14:51.924Z"
      },
      {
        "duration": 414,
        "start_time": "2021-06-18T12:14:52.964Z"
      },
      {
        "duration": 363,
        "start_time": "2021-06-18T12:14:53.381Z"
      },
      {
        "duration": 65,
        "start_time": "2021-06-18T12:14:53.747Z"
      },
      {
        "duration": 87382,
        "start_time": "2021-06-18T12:14:53.815Z"
      },
      {
        "duration": 523,
        "start_time": "2021-06-18T12:16:21.201Z"
      },
      {
        "duration": 1334,
        "start_time": "2021-06-18T12:16:20.393Z"
      },
      {
        "duration": 1330,
        "start_time": "2021-06-18T12:16:20.398Z"
      },
      {
        "duration": 287,
        "start_time": "2021-06-18T12:18:41.516Z"
      },
      {
        "duration": 323,
        "start_time": "2021-06-18T12:20:44.842Z"
      },
      {
        "duration": 310,
        "start_time": "2021-06-18T12:20:54.723Z"
      },
      {
        "duration": 9062,
        "start_time": "2021-06-18T12:21:19.242Z"
      },
      {
        "duration": 8961,
        "start_time": "2021-06-18T12:21:31.995Z"
      },
      {
        "duration": 14945,
        "start_time": "2021-06-18T12:21:57.203Z"
      },
      {
        "duration": 1811,
        "start_time": "2021-06-18T12:22:25.983Z"
      },
      {
        "duration": 67,
        "start_time": "2021-06-18T12:22:27.797Z"
      },
      {
        "duration": 34,
        "start_time": "2021-06-18T12:22:27.868Z"
      },
      {
        "duration": 7,
        "start_time": "2021-06-18T12:22:27.905Z"
      },
      {
        "duration": 15,
        "start_time": "2021-06-18T12:22:27.914Z"
      },
      {
        "duration": 15,
        "start_time": "2021-06-18T12:22:27.932Z"
      },
      {
        "duration": 52,
        "start_time": "2021-06-18T12:22:27.950Z"
      },
      {
        "duration": 9,
        "start_time": "2021-06-18T12:22:28.004Z"
      },
      {
        "duration": 21,
        "start_time": "2021-06-18T12:22:28.016Z"
      },
      {
        "duration": 19,
        "start_time": "2021-06-18T12:22:28.040Z"
      },
      {
        "duration": 206,
        "start_time": "2021-06-18T12:22:28.061Z"
      },
      {
        "duration": 1370,
        "start_time": "2021-06-18T12:22:28.269Z"
      },
      {
        "duration": 419,
        "start_time": "2021-06-18T12:22:29.642Z"
      },
      {
        "duration": 311,
        "start_time": "2021-06-18T12:22:30.063Z"
      },
      {
        "duration": 1056,
        "start_time": "2021-06-18T12:22:30.376Z"
      },
      {
        "duration": 376,
        "start_time": "2021-06-18T12:22:31.435Z"
      },
      {
        "duration": 238,
        "start_time": "2021-06-18T12:22:31.814Z"
      },
      {
        "duration": 56,
        "start_time": "2021-06-18T12:22:32.055Z"
      },
      {
        "duration": 64094,
        "start_time": "2021-06-18T12:22:32.114Z"
      },
      {
        "duration": 11442,
        "start_time": "2021-06-18T12:23:36.211Z"
      },
      {
        "duration": 16291,
        "start_time": "2021-06-18T12:23:47.656Z"
      },
      {
        "duration": 654,
        "start_time": "2021-06-18T12:24:03.951Z"
      },
      {
        "duration": 13286,
        "start_time": "2021-06-18T12:25:31.622Z"
      },
      {
        "duration": 646,
        "start_time": "2021-06-18T12:27:41.668Z"
      },
      {
        "duration": 414,
        "start_time": "2021-06-18T12:28:42.902Z"
      },
      {
        "duration": 587,
        "start_time": "2021-06-18T12:29:01.531Z"
      },
      {
        "duration": 371,
        "start_time": "2021-06-18T12:32:09.676Z"
      },
      {
        "duration": 623,
        "start_time": "2021-06-18T12:33:20.686Z"
      },
      {
        "duration": 567,
        "start_time": "2021-06-18T12:33:28.140Z"
      },
      {
        "duration": 32,
        "start_time": "2021-06-18T12:36:07.375Z"
      },
      {
        "duration": 1470,
        "start_time": "2021-06-18T12:36:16.537Z"
      },
      {
        "duration": 56,
        "start_time": "2021-06-18T12:36:18.010Z"
      },
      {
        "duration": 31,
        "start_time": "2021-06-18T12:36:18.070Z"
      },
      {
        "duration": 9,
        "start_time": "2021-06-18T12:36:18.104Z"
      },
      {
        "duration": 6,
        "start_time": "2021-06-18T12:36:18.115Z"
      },
      {
        "duration": 13,
        "start_time": "2021-06-18T12:36:18.124Z"
      },
      {
        "duration": 18,
        "start_time": "2021-06-18T12:36:18.140Z"
      },
      {
        "duration": 9,
        "start_time": "2021-06-18T12:36:18.203Z"
      },
      {
        "duration": 21,
        "start_time": "2021-06-18T12:36:18.216Z"
      },
      {
        "duration": 21,
        "start_time": "2021-06-18T12:36:18.240Z"
      },
      {
        "duration": 214,
        "start_time": "2021-06-18T12:36:18.264Z"
      },
      {
        "duration": 1343,
        "start_time": "2021-06-18T12:36:18.480Z"
      },
      {
        "duration": 401,
        "start_time": "2021-06-18T12:36:19.826Z"
      },
      {
        "duration": 300,
        "start_time": "2021-06-18T12:36:20.229Z"
      },
      {
        "duration": 1031,
        "start_time": "2021-06-18T12:36:20.532Z"
      },
      {
        "duration": 414,
        "start_time": "2021-06-18T12:36:21.566Z"
      },
      {
        "duration": 235,
        "start_time": "2021-06-18T12:36:21.983Z"
      },
      {
        "duration": 35,
        "start_time": "2021-06-18T12:36:22.221Z"
      },
      {
        "duration": 63483,
        "start_time": "2021-06-18T12:36:22.259Z"
      },
      {
        "duration": 11872,
        "start_time": "2021-06-18T12:37:25.744Z"
      },
      {
        "duration": 11450,
        "start_time": "2021-06-18T12:37:37.618Z"
      },
      {
        "duration": 639,
        "start_time": "2021-06-18T12:37:49.071Z"
      },
      {
        "duration": 406,
        "start_time": "2021-06-18T13:01:57.109Z"
      },
      {
        "duration": 986,
        "start_time": "2021-06-18T13:02:20.556Z"
      },
      {
        "duration": 393,
        "start_time": "2021-06-18T14:20:17.297Z"
      },
      {
        "duration": 418,
        "start_time": "2021-06-18T14:21:40.528Z"
      },
      {
        "duration": 17961,
        "start_time": "2021-06-18T14:21:41.960Z"
      },
      {
        "duration": 36097,
        "start_time": "2021-06-18T14:32:16.108Z"
      },
      {
        "duration": 998,
        "start_time": "2021-06-18T14:33:57.176Z"
      },
      {
        "duration": 56368,
        "start_time": "2021-06-18T14:33:58.249Z"
      },
      {
        "duration": 296018,
        "start_time": "2021-06-18T14:42:34.622Z"
      },
      {
        "duration": 142129,
        "start_time": "2021-06-18T14:47:50.438Z"
      },
      {
        "duration": 1553,
        "start_time": "2021-06-18T14:52:57.777Z"
      },
      {
        "duration": 58,
        "start_time": "2021-06-18T14:52:59.333Z"
      },
      {
        "duration": 24,
        "start_time": "2021-06-18T14:52:59.394Z"
      },
      {
        "duration": 8,
        "start_time": "2021-06-18T14:52:59.421Z"
      },
      {
        "duration": 13,
        "start_time": "2021-06-18T14:52:59.431Z"
      },
      {
        "duration": 14,
        "start_time": "2021-06-18T14:52:59.447Z"
      },
      {
        "duration": 49,
        "start_time": "2021-06-18T14:52:59.464Z"
      },
      {
        "duration": 7,
        "start_time": "2021-06-18T14:52:59.517Z"
      },
      {
        "duration": 26,
        "start_time": "2021-06-18T14:52:59.527Z"
      },
      {
        "duration": 54,
        "start_time": "2021-06-18T14:52:59.556Z"
      },
      {
        "duration": 238,
        "start_time": "2021-06-18T14:52:59.613Z"
      },
      {
        "duration": 1925,
        "start_time": "2021-06-18T14:52:59.854Z"
      },
      {
        "duration": 553,
        "start_time": "2021-06-18T14:53:01.782Z"
      },
      {
        "duration": 398,
        "start_time": "2021-06-18T14:53:02.338Z"
      },
      {
        "duration": 1454,
        "start_time": "2021-06-18T14:53:02.739Z"
      },
      {
        "duration": 416,
        "start_time": "2021-06-18T14:53:04.199Z"
      },
      {
        "duration": 228,
        "start_time": "2021-06-18T14:53:04.617Z"
      },
      {
        "duration": 35,
        "start_time": "2021-06-18T14:53:04.848Z"
      },
      {
        "duration": 63092,
        "start_time": "2021-06-18T14:53:04.885Z"
      },
      {
        "duration": 11631,
        "start_time": "2021-06-18T14:54:07.980Z"
      },
      {
        "duration": 11718,
        "start_time": "2021-06-18T14:54:19.613Z"
      },
      {
        "duration": 677,
        "start_time": "2021-06-18T14:54:31.334Z"
      },
      {
        "duration": 1233,
        "start_time": "2021-06-18T14:54:32.017Z"
      },
      {
        "duration": 58349,
        "start_time": "2021-06-18T14:54:33.254Z"
      },
      {
        "duration": 140549,
        "start_time": "2021-06-18T14:55:31.605Z"
      },
      {
        "duration": 53145,
        "start_time": "2021-06-18T14:57:52.156Z"
      },
      {
        "duration": 4837,
        "start_time": "2021-06-18T15:01:46.544Z"
      },
      {
        "duration": 3203,
        "start_time": "2021-06-18T15:02:34.343Z"
      },
      {
        "duration": 3,
        "start_time": "2021-06-18T15:07:32.464Z"
      },
      {
        "duration": 3,
        "start_time": "2021-06-18T15:07:34.160Z"
      },
      {
        "duration": 591,
        "start_time": "2021-06-18T15:08:39.613Z"
      },
      {
        "duration": 3266,
        "start_time": "2021-06-18T15:08:51.734Z"
      },
      {
        "duration": 3032,
        "start_time": "2021-06-18T15:09:02.272Z"
      },
      {
        "duration": 1513,
        "start_time": "2021-06-18T15:23:29.087Z"
      },
      {
        "duration": 55,
        "start_time": "2021-06-18T15:23:30.603Z"
      },
      {
        "duration": 20,
        "start_time": "2021-06-18T15:23:30.661Z"
      },
      {
        "duration": 17,
        "start_time": "2021-06-18T15:23:30.683Z"
      },
      {
        "duration": 12,
        "start_time": "2021-06-18T15:23:30.703Z"
      },
      {
        "duration": 20,
        "start_time": "2021-06-18T15:23:30.717Z"
      },
      {
        "duration": 19,
        "start_time": "2021-06-18T15:23:30.739Z"
      },
      {
        "duration": 7,
        "start_time": "2021-06-18T15:23:30.762Z"
      },
      {
        "duration": 19,
        "start_time": "2021-06-18T15:23:30.802Z"
      },
      {
        "duration": 17,
        "start_time": "2021-06-18T15:23:30.823Z"
      },
      {
        "duration": 188,
        "start_time": "2021-06-18T15:23:30.843Z"
      },
      {
        "duration": 1369,
        "start_time": "2021-06-18T15:23:31.034Z"
      },
      {
        "duration": 395,
        "start_time": "2021-06-18T15:23:32.405Z"
      },
      {
        "duration": 285,
        "start_time": "2021-06-18T15:23:32.803Z"
      },
      {
        "duration": 976,
        "start_time": "2021-06-18T15:23:33.091Z"
      },
      {
        "duration": 378,
        "start_time": "2021-06-18T15:23:34.070Z"
      },
      {
        "duration": 222,
        "start_time": "2021-06-18T15:23:34.451Z"
      },
      {
        "duration": 44,
        "start_time": "2021-06-18T15:23:34.675Z"
      },
      {
        "duration": 62850,
        "start_time": "2021-06-18T15:23:34.721Z"
      },
      {
        "duration": 11398,
        "start_time": "2021-06-18T15:24:37.574Z"
      },
      {
        "duration": 11973,
        "start_time": "2021-06-18T15:24:48.975Z"
      },
      {
        "duration": 649,
        "start_time": "2021-06-18T15:25:00.950Z"
      },
      {
        "duration": 1037,
        "start_time": "2021-06-18T15:25:01.607Z"
      },
      {
        "duration": 56038,
        "start_time": "2021-06-18T15:25:02.647Z"
      },
      {
        "duration": 3217,
        "start_time": "2021-06-18T15:25:58.687Z"
      },
      {
        "duration": 3303,
        "start_time": "2021-06-18T15:26:01.907Z"
      },
      {
        "duration": 89,
        "start_time": "2021-06-18T15:26:05.302Z"
      },
      {
        "duration": -41,
        "start_time": "2021-06-18T15:26:05.435Z"
      },
      {
        "duration": 145970,
        "start_time": "2021-06-18T15:29:21.123Z"
      },
      {
        "duration": 57104,
        "start_time": "2021-06-18T15:31:47.102Z"
      },
      {
        "duration": 37918,
        "start_time": "2021-06-18T15:35:41.324Z"
      },
      {
        "duration": 132246,
        "start_time": "2021-06-18T15:40:30.326Z"
      },
      {
        "duration": 53208,
        "start_time": "2021-06-18T15:44:05.478Z"
      },
      {
        "duration": 17588,
        "start_time": "2021-06-18T15:45:03.814Z"
      },
      {
        "duration": 38067,
        "start_time": "2021-06-18T15:45:23.839Z"
      },
      {
        "duration": 38280,
        "start_time": "2021-06-18T15:46:48.669Z"
      },
      {
        "duration": 1538,
        "start_time": "2021-06-18T15:53:53.464Z"
      },
      {
        "duration": 56,
        "start_time": "2021-06-18T15:53:55.004Z"
      },
      {
        "duration": 19,
        "start_time": "2021-06-18T15:53:55.063Z"
      },
      {
        "duration": 18,
        "start_time": "2021-06-18T15:53:55.085Z"
      },
      {
        "duration": 14,
        "start_time": "2021-06-18T15:53:55.105Z"
      },
      {
        "duration": 22,
        "start_time": "2021-06-18T15:53:55.122Z"
      },
      {
        "duration": 25,
        "start_time": "2021-06-18T15:53:55.147Z"
      },
      {
        "duration": 7,
        "start_time": "2021-06-18T15:53:55.176Z"
      },
      {
        "duration": 18,
        "start_time": "2021-06-18T15:53:55.201Z"
      },
      {
        "duration": 20,
        "start_time": "2021-06-18T15:53:55.221Z"
      },
      {
        "duration": 189,
        "start_time": "2021-06-18T15:53:55.244Z"
      },
      {
        "duration": 1326,
        "start_time": "2021-06-18T15:53:55.435Z"
      },
      {
        "duration": 398,
        "start_time": "2021-06-18T15:53:56.764Z"
      },
      {
        "duration": 297,
        "start_time": "2021-06-18T15:53:57.164Z"
      },
      {
        "duration": 1063,
        "start_time": "2021-06-18T15:53:57.464Z"
      },
      {
        "duration": 395,
        "start_time": "2021-06-18T15:53:58.529Z"
      },
      {
        "duration": 220,
        "start_time": "2021-06-18T15:53:58.927Z"
      },
      {
        "duration": 33,
        "start_time": "2021-06-18T15:53:59.149Z"
      },
      {
        "duration": 62361,
        "start_time": "2021-06-18T15:53:59.185Z"
      },
      {
        "duration": 11842,
        "start_time": "2021-06-18T15:55:01.549Z"
      },
      {
        "duration": 11423,
        "start_time": "2021-06-18T15:55:13.393Z"
      },
      {
        "duration": 589,
        "start_time": "2021-06-18T15:55:24.818Z"
      },
      {
        "duration": 1152,
        "start_time": "2021-06-18T15:55:25.412Z"
      },
      {
        "duration": 56873,
        "start_time": "2021-06-18T15:55:26.566Z"
      },
      {
        "duration": 3293,
        "start_time": "2021-06-18T15:56:23.441Z"
      },
      {
        "duration": 138894,
        "start_time": "2021-06-18T15:56:26.736Z"
      },
      {
        "duration": 38037,
        "start_time": "2021-06-18T15:58:45.632Z"
      },
      {
        "duration": 3039,
        "start_time": "2021-06-18T15:59:23.671Z"
      },
      {
        "duration": 55,
        "start_time": "2021-06-18T16:07:42.834Z"
      },
      {
        "duration": 374,
        "start_time": "2021-06-18T16:08:15.892Z"
      },
      {
        "duration": 59,
        "start_time": "2021-06-18T16:09:28.232Z"
      },
      {
        "duration": 58,
        "start_time": "2021-06-18T16:10:46.429Z"
      },
      {
        "duration": 212,
        "start_time": "2021-06-18T16:10:46.788Z"
      },
      {
        "duration": 579,
        "start_time": "2021-06-18T16:11:10.754Z"
      },
      {
        "duration": 53,
        "start_time": "2021-06-18T16:18:32.214Z"
      },
      {
        "duration": 60,
        "start_time": "2021-06-18T16:18:32.380Z"
      },
      {
        "duration": 45,
        "start_time": "2021-06-18T16:18:32.565Z"
      },
      {
        "duration": 401,
        "start_time": "2021-06-18T16:18:32.802Z"
      },
      {
        "duration": 83,
        "start_time": "2021-06-18T16:18:50.421Z"
      },
      {
        "duration": 53,
        "start_time": "2021-06-18T16:18:53.460Z"
      },
      {
        "duration": 60,
        "start_time": "2021-06-18T16:18:53.922Z"
      },
      {
        "duration": 45,
        "start_time": "2021-06-18T16:18:54.661Z"
      },
      {
        "duration": 400,
        "start_time": "2021-06-18T16:18:55.374Z"
      },
      {
        "duration": 388,
        "start_time": "2021-06-18T16:20:25.246Z"
      },
      {
        "duration": 1604,
        "start_time": "2021-06-19T13:51:48.883Z"
      },
      {
        "duration": 57,
        "start_time": "2021-06-19T13:51:50.490Z"
      },
      {
        "duration": 20,
        "start_time": "2021-06-19T13:51:50.551Z"
      },
      {
        "duration": 7,
        "start_time": "2021-06-19T13:51:50.574Z"
      },
      {
        "duration": 7,
        "start_time": "2021-06-19T13:51:50.584Z"
      },
      {
        "duration": 19,
        "start_time": "2021-06-19T13:51:50.594Z"
      },
      {
        "duration": 57,
        "start_time": "2021-06-19T13:51:50.616Z"
      },
      {
        "duration": 7,
        "start_time": "2021-06-19T13:51:50.677Z"
      },
      {
        "duration": 26,
        "start_time": "2021-06-19T13:51:50.687Z"
      },
      {
        "duration": 42,
        "start_time": "2021-06-19T13:51:50.715Z"
      },
      {
        "duration": 173,
        "start_time": "2021-06-19T13:51:50.759Z"
      },
      {
        "duration": 1338,
        "start_time": "2021-06-19T13:51:50.934Z"
      },
      {
        "duration": 399,
        "start_time": "2021-06-19T13:51:52.274Z"
      },
      {
        "duration": 311,
        "start_time": "2021-06-19T13:51:52.676Z"
      },
      {
        "duration": 1028,
        "start_time": "2021-06-19T13:51:52.989Z"
      },
      {
        "duration": 396,
        "start_time": "2021-06-19T13:51:54.019Z"
      },
      {
        "duration": 237,
        "start_time": "2021-06-19T13:51:54.417Z"
      },
      {
        "duration": 38,
        "start_time": "2021-06-19T13:51:54.658Z"
      },
      {
        "duration": 62738,
        "start_time": "2021-06-19T13:51:54.699Z"
      },
      {
        "duration": 11485,
        "start_time": "2021-06-19T13:52:57.440Z"
      },
      {
        "duration": 11396,
        "start_time": "2021-06-19T13:53:08.927Z"
      },
      {
        "duration": 629,
        "start_time": "2021-06-19T13:53:20.325Z"
      },
      {
        "duration": 1098,
        "start_time": "2021-06-19T13:53:20.961Z"
      },
      {
        "duration": 56347,
        "start_time": "2021-06-19T13:53:22.062Z"
      },
      {
        "duration": 3199,
        "start_time": "2021-06-19T13:54:18.411Z"
      },
      {
        "duration": 136657,
        "start_time": "2021-06-19T13:54:21.612Z"
      },
      {
        "duration": 38148,
        "start_time": "2021-06-19T13:56:38.271Z"
      },
      {
        "duration": 3152,
        "start_time": "2021-06-19T13:57:16.421Z"
      },
      {
        "duration": 52,
        "start_time": "2021-06-19T13:57:19.656Z"
      },
      {
        "duration": 82,
        "start_time": "2021-06-19T13:57:19.710Z"
      },
      {
        "duration": 62,
        "start_time": "2021-06-19T13:57:19.795Z"
      },
      {
        "duration": 536,
        "start_time": "2021-06-19T13:57:19.862Z"
      },
      {
        "duration": 3226,
        "start_time": "2021-06-19T13:58:42.395Z"
      },
      {
        "duration": 36663,
        "start_time": "2021-06-19T13:59:00.592Z"
      },
      {
        "duration": 5,
        "start_time": "2021-06-19T14:00:17.500Z"
      },
      {
        "duration": 46,
        "start_time": "2021-06-19T14:00:17.676Z"
      },
      {
        "duration": 21,
        "start_time": "2021-06-19T14:00:17.867Z"
      },
      {
        "duration": 5,
        "start_time": "2021-06-19T14:00:18.044Z"
      },
      {
        "duration": 5,
        "start_time": "2021-06-19T14:00:18.218Z"
      },
      {
        "duration": 11,
        "start_time": "2021-06-19T14:00:18.402Z"
      },
      {
        "duration": 19,
        "start_time": "2021-06-19T14:00:18.604Z"
      },
      {
        "duration": 1563,
        "start_time": "2021-06-19T14:00:48.981Z"
      },
      {
        "duration": 54,
        "start_time": "2021-06-19T14:00:50.547Z"
      },
      {
        "duration": 20,
        "start_time": "2021-06-19T14:00:50.604Z"
      },
      {
        "duration": 15,
        "start_time": "2021-06-19T14:00:50.626Z"
      },
      {
        "duration": 20,
        "start_time": "2021-06-19T14:00:50.643Z"
      },
      {
        "duration": 30,
        "start_time": "2021-06-19T14:00:50.665Z"
      },
      {
        "duration": 19,
        "start_time": "2021-06-19T14:00:50.697Z"
      },
      {
        "duration": 13,
        "start_time": "2021-06-19T14:00:50.720Z"
      },
      {
        "duration": 31,
        "start_time": "2021-06-19T14:00:50.736Z"
      },
      {
        "duration": 33,
        "start_time": "2021-06-19T14:00:50.769Z"
      },
      {
        "duration": 178,
        "start_time": "2021-06-19T14:00:50.804Z"
      },
      {
        "duration": 1445,
        "start_time": "2021-06-19T14:00:50.984Z"
      },
      {
        "duration": 396,
        "start_time": "2021-06-19T14:00:52.431Z"
      },
      {
        "duration": 306,
        "start_time": "2021-06-19T14:00:52.829Z"
      },
      {
        "duration": 997,
        "start_time": "2021-06-19T14:00:53.137Z"
      },
      {
        "duration": 409,
        "start_time": "2021-06-19T14:00:54.137Z"
      },
      {
        "duration": 222,
        "start_time": "2021-06-19T14:00:54.553Z"
      },
      {
        "duration": 41,
        "start_time": "2021-06-19T14:00:54.778Z"
      },
      {
        "duration": 62665,
        "start_time": "2021-06-19T14:00:54.822Z"
      },
      {
        "duration": 11333,
        "start_time": "2021-06-19T14:01:57.490Z"
      },
      {
        "duration": 11333,
        "start_time": "2021-06-19T14:02:08.826Z"
      },
      {
        "duration": 598,
        "start_time": "2021-06-19T14:02:20.162Z"
      },
      {
        "duration": 989,
        "start_time": "2021-06-19T14:02:20.856Z"
      },
      {
        "duration": 56336,
        "start_time": "2021-06-19T14:02:21.848Z"
      },
      {
        "duration": 137588,
        "start_time": "2021-06-19T14:03:18.187Z"
      },
      {
        "duration": 38014,
        "start_time": "2021-06-19T14:05:35.779Z"
      },
      {
        "duration": 3225,
        "start_time": "2021-06-19T14:06:13.795Z"
      },
      {
        "duration": 3137,
        "start_time": "2021-06-19T14:06:17.022Z"
      },
      {
        "duration": 142,
        "start_time": "2021-06-19T14:06:20.163Z"
      },
      {
        "duration": 80,
        "start_time": "2021-06-19T14:06:20.307Z"
      },
      {
        "duration": 168,
        "start_time": "2021-06-19T14:06:20.389Z"
      },
      {
        "duration": 465,
        "start_time": "2021-06-19T14:06:20.559Z"
      },
      {
        "duration": 3526,
        "start_time": "2021-06-19T14:06:47.931Z"
      },
      {
        "duration": 55864,
        "start_time": "2021-06-19T14:07:46.014Z"
      },
      {
        "duration": 54767,
        "start_time": "2021-06-19T14:08:42.127Z"
      },
      {
        "duration": 55395,
        "start_time": "2021-06-19T14:09:59.918Z"
      },
      {
        "duration": 56010,
        "start_time": "2021-06-19T14:12:45.841Z"
      },
      {
        "duration": 41157,
        "start_time": "2021-06-19T14:13:41.855Z"
      },
      {
        "duration": 3567,
        "start_time": "2021-06-19T14:14:35.231Z"
      },
      {
        "duration": 3520,
        "start_time": "2021-06-19T14:15:02.780Z"
      },
      {
        "duration": 3396,
        "start_time": "2021-06-19T14:15:50.575Z"
      },
      {
        "duration": 1542,
        "start_time": "2021-06-19T14:19:19.919Z"
      },
      {
        "duration": 55,
        "start_time": "2021-06-19T14:19:21.464Z"
      },
      {
        "duration": 19,
        "start_time": "2021-06-19T14:19:21.522Z"
      },
      {
        "duration": 8,
        "start_time": "2021-06-19T14:19:21.554Z"
      },
      {
        "duration": 21,
        "start_time": "2021-06-19T14:19:21.564Z"
      },
      {
        "duration": 24,
        "start_time": "2021-06-19T14:19:21.587Z"
      },
      {
        "duration": 23,
        "start_time": "2021-06-19T14:19:21.614Z"
      },
      {
        "duration": 14,
        "start_time": "2021-06-19T14:19:21.641Z"
      },
      {
        "duration": 30,
        "start_time": "2021-06-19T14:19:21.658Z"
      },
      {
        "duration": 20,
        "start_time": "2021-06-19T14:19:21.691Z"
      },
      {
        "duration": 181,
        "start_time": "2021-06-19T14:19:21.713Z"
      },
      {
        "duration": 1377,
        "start_time": "2021-06-19T14:19:21.896Z"
      },
      {
        "duration": 493,
        "start_time": "2021-06-19T14:19:23.276Z"
      },
      {
        "duration": 308,
        "start_time": "2021-06-19T14:19:23.772Z"
      },
      {
        "duration": 1191,
        "start_time": "2021-06-19T14:19:24.083Z"
      },
      {
        "duration": 410,
        "start_time": "2021-06-19T14:19:25.277Z"
      },
      {
        "duration": 224,
        "start_time": "2021-06-19T14:19:25.689Z"
      },
      {
        "duration": 41,
        "start_time": "2021-06-19T14:19:25.915Z"
      },
      {
        "duration": 64842,
        "start_time": "2021-06-19T14:19:25.958Z"
      },
      {
        "duration": 11782,
        "start_time": "2021-06-19T14:20:30.803Z"
      },
      {
        "duration": 11794,
        "start_time": "2021-06-19T14:20:42.587Z"
      },
      {
        "duration": 580,
        "start_time": "2021-06-19T14:20:54.384Z"
      },
      {
        "duration": 1224,
        "start_time": "2021-06-19T14:20:55.060Z"
      },
      {
        "duration": 56814,
        "start_time": "2021-06-19T14:20:56.287Z"
      },
      {
        "duration": 27104,
        "start_time": "2021-06-19T14:21:53.104Z"
      },
      {
        "duration": 396,
        "start_time": "2021-06-19T14:22:20.211Z"
      },
      {
        "duration": 633,
        "start_time": "2021-06-19T14:22:19.976Z"
      },
      {
        "duration": 612,
        "start_time": "2021-06-19T14:22:19.999Z"
      },
      {
        "duration": 608,
        "start_time": "2021-06-19T14:22:20.004Z"
      },
      {
        "duration": 606,
        "start_time": "2021-06-19T14:22:20.008Z"
      },
      {
        "duration": 604,
        "start_time": "2021-06-19T14:22:20.011Z"
      },
      {
        "duration": 603,
        "start_time": "2021-06-19T14:22:20.013Z"
      },
      {
        "duration": 596,
        "start_time": "2021-06-19T14:22:20.022Z"
      },
      {
        "duration": 39641,
        "start_time": "2021-06-19T14:23:38.388Z"
      },
      {
        "duration": 3414,
        "start_time": "2021-06-19T14:24:18.031Z"
      },
      {
        "duration": 3201,
        "start_time": "2021-06-19T14:24:21.455Z"
      },
      {
        "duration": 148,
        "start_time": "2021-06-19T14:24:24.660Z"
      },
      {
        "duration": 88,
        "start_time": "2021-06-19T14:24:24.811Z"
      },
      {
        "duration": 152,
        "start_time": "2021-06-19T14:24:24.903Z"
      },
      {
        "duration": 504,
        "start_time": "2021-06-19T14:24:25.058Z"
      },
      {
        "duration": 1571,
        "start_time": "2021-06-19T14:27:53.278Z"
      },
      {
        "duration": 75,
        "start_time": "2021-06-19T14:27:54.852Z"
      },
      {
        "duration": 32,
        "start_time": "2021-06-19T14:27:54.931Z"
      },
      {
        "duration": 8,
        "start_time": "2021-06-19T14:27:54.967Z"
      },
      {
        "duration": 15,
        "start_time": "2021-06-19T14:27:54.978Z"
      },
      {
        "duration": 30,
        "start_time": "2021-06-19T14:27:54.995Z"
      },
      {
        "duration": 31,
        "start_time": "2021-06-19T14:27:55.027Z"
      },
      {
        "duration": 7,
        "start_time": "2021-06-19T14:27:55.062Z"
      },
      {
        "duration": 27,
        "start_time": "2021-06-19T14:27:55.072Z"
      },
      {
        "duration": 16,
        "start_time": "2021-06-19T14:27:55.102Z"
      },
      {
        "duration": 197,
        "start_time": "2021-06-19T14:27:55.120Z"
      },
      {
        "duration": 1316,
        "start_time": "2021-06-19T14:27:55.320Z"
      },
      {
        "duration": 395,
        "start_time": "2021-06-19T14:27:56.638Z"
      },
      {
        "duration": 308,
        "start_time": "2021-06-19T14:27:57.035Z"
      },
      {
        "duration": 1179,
        "start_time": "2021-06-19T14:27:57.346Z"
      },
      {
        "duration": 407,
        "start_time": "2021-06-19T14:27:58.527Z"
      },
      {
        "duration": 218,
        "start_time": "2021-06-19T14:27:58.936Z"
      },
      {
        "duration": 37,
        "start_time": "2021-06-19T14:27:59.156Z"
      },
      {
        "duration": 60774,
        "start_time": "2021-06-19T14:27:59.195Z"
      },
      {
        "duration": 11245,
        "start_time": "2021-06-19T14:28:59.971Z"
      },
      {
        "duration": 11774,
        "start_time": "2021-06-19T14:29:11.219Z"
      },
      {
        "duration": 564,
        "start_time": "2021-06-19T14:29:22.996Z"
      },
      {
        "duration": 472,
        "start_time": "2021-06-19T14:29:23.567Z"
      },
      {
        "duration": 590,
        "start_time": "2021-06-19T14:29:23.451Z"
      },
      {
        "duration": 588,
        "start_time": "2021-06-19T14:29:23.455Z"
      },
      {
        "duration": 587,
        "start_time": "2021-06-19T14:29:23.457Z"
      },
      {
        "duration": 586,
        "start_time": "2021-06-19T14:29:23.459Z"
      },
      {
        "duration": 585,
        "start_time": "2021-06-19T14:29:23.461Z"
      },
      {
        "duration": 585,
        "start_time": "2021-06-19T14:29:23.463Z"
      },
      {
        "duration": 585,
        "start_time": "2021-06-19T14:29:23.464Z"
      },
      {
        "duration": 584,
        "start_time": "2021-06-19T14:29:23.466Z"
      },
      {
        "duration": 584,
        "start_time": "2021-06-19T14:29:23.467Z"
      },
      {
        "duration": 583,
        "start_time": "2021-06-19T14:29:23.470Z"
      },
      {
        "duration": 7161,
        "start_time": "2021-06-19T14:30:20.078Z"
      },
      {
        "duration": 587,
        "start_time": "2021-06-19T14:30:26.655Z"
      },
      {
        "duration": 586,
        "start_time": "2021-06-19T14:30:26.658Z"
      },
      {
        "duration": 584,
        "start_time": "2021-06-19T14:30:26.661Z"
      },
      {
        "duration": 584,
        "start_time": "2021-06-19T14:30:26.663Z"
      },
      {
        "duration": 584,
        "start_time": "2021-06-19T14:30:26.664Z"
      },
      {
        "duration": 583,
        "start_time": "2021-06-19T14:30:26.666Z"
      },
      {
        "duration": 583,
        "start_time": "2021-06-19T14:30:26.667Z"
      },
      {
        "duration": 583,
        "start_time": "2021-06-19T14:30:26.669Z"
      },
      {
        "duration": 582,
        "start_time": "2021-06-19T14:30:26.671Z"
      },
      {
        "duration": 581,
        "start_time": "2021-06-19T14:30:26.673Z"
      },
      {
        "duration": 39,
        "start_time": "2021-06-19T14:30:41.887Z"
      },
      {
        "duration": 977,
        "start_time": "2021-06-19T14:30:44.182Z"
      },
      {
        "duration": 56554,
        "start_time": "2021-06-19T14:30:47.962Z"
      },
      {
        "duration": 26383,
        "start_time": "2021-06-19T14:31:44.519Z"
      },
      {
        "duration": 39702,
        "start_time": "2021-06-19T14:32:10.905Z"
      },
      {
        "duration": 3343,
        "start_time": "2021-06-19T14:32:50.609Z"
      },
      {
        "duration": 3309,
        "start_time": "2021-06-19T14:32:53.955Z"
      },
      {
        "duration": 102,
        "start_time": "2021-06-19T14:32:57.356Z"
      },
      {
        "duration": 63,
        "start_time": "2021-06-19T14:32:57.460Z"
      },
      {
        "duration": 134,
        "start_time": "2021-06-19T14:32:57.526Z"
      },
      {
        "duration": 491,
        "start_time": "2021-06-19T14:32:57.663Z"
      },
      {
        "duration": 3089,
        "start_time": "2021-06-19T14:42:43.949Z"
      },
      {
        "duration": 2313,
        "start_time": "2021-06-19T14:43:03.223Z"
      },
      {
        "duration": 4611,
        "start_time": "2021-06-19T14:43:11.240Z"
      },
      {
        "duration": 3084,
        "start_time": "2021-06-19T14:43:27.080Z"
      },
      {
        "duration": 1614,
        "start_time": "2021-06-19T14:44:10.241Z"
      },
      {
        "duration": 55,
        "start_time": "2021-06-19T14:44:11.862Z"
      },
      {
        "duration": 36,
        "start_time": "2021-06-19T14:44:11.919Z"
      },
      {
        "duration": 16,
        "start_time": "2021-06-19T14:44:11.958Z"
      },
      {
        "duration": 5,
        "start_time": "2021-06-19T14:44:11.977Z"
      },
      {
        "duration": 15,
        "start_time": "2021-06-19T14:44:11.985Z"
      },
      {
        "duration": 19,
        "start_time": "2021-06-19T14:44:12.003Z"
      },
      {
        "duration": 9,
        "start_time": "2021-06-19T14:44:12.054Z"
      },
      {
        "duration": 23,
        "start_time": "2021-06-19T14:44:12.066Z"
      },
      {
        "duration": 19,
        "start_time": "2021-06-19T14:44:12.091Z"
      },
      {
        "duration": 191,
        "start_time": "2021-06-19T14:44:12.112Z"
      },
      {
        "duration": 1289,
        "start_time": "2021-06-19T14:44:12.305Z"
      },
      {
        "duration": 395,
        "start_time": "2021-06-19T14:44:13.596Z"
      },
      {
        "duration": 296,
        "start_time": "2021-06-19T14:44:13.993Z"
      },
      {
        "duration": 1008,
        "start_time": "2021-06-19T14:44:14.292Z"
      },
      {
        "duration": 407,
        "start_time": "2021-06-19T14:44:15.304Z"
      },
      {
        "duration": 228,
        "start_time": "2021-06-19T14:44:15.714Z"
      },
      {
        "duration": 41,
        "start_time": "2021-06-19T14:44:15.945Z"
      },
      {
        "duration": 61285,
        "start_time": "2021-06-19T14:44:15.988Z"
      },
      {
        "duration": 11298,
        "start_time": "2021-06-19T14:45:17.275Z"
      },
      {
        "duration": 11541,
        "start_time": "2021-06-19T14:45:28.575Z"
      },
      {
        "duration": 639,
        "start_time": "2021-06-19T14:45:40.118Z"
      },
      {
        "duration": 1083,
        "start_time": "2021-06-19T14:45:40.760Z"
      },
      {
        "duration": 56975,
        "start_time": "2021-06-19T14:45:41.846Z"
      },
      {
        "duration": 27337,
        "start_time": "2021-06-19T14:46:38.824Z"
      },
      {
        "duration": 39879,
        "start_time": "2021-06-19T14:47:06.166Z"
      },
      {
        "duration": 3091,
        "start_time": "2021-06-19T14:47:46.054Z"
      },
      {
        "duration": 3205,
        "start_time": "2021-06-19T14:47:49.155Z"
      },
      {
        "duration": 142,
        "start_time": "2021-06-19T14:47:52.363Z"
      },
      {
        "duration": 89,
        "start_time": "2021-06-19T14:47:52.508Z"
      },
      {
        "duration": 164,
        "start_time": "2021-06-19T14:47:52.599Z"
      },
      {
        "duration": 402,
        "start_time": "2021-06-19T14:47:52.854Z"
      },
      {
        "duration": 1578,
        "start_time": "2021-06-19T14:49:57.281Z"
      },
      {
        "duration": 57,
        "start_time": "2021-06-19T14:49:58.862Z"
      },
      {
        "duration": 29,
        "start_time": "2021-06-19T14:49:58.926Z"
      },
      {
        "duration": 5,
        "start_time": "2021-06-19T14:49:58.958Z"
      },
      {
        "duration": 7,
        "start_time": "2021-06-19T14:49:58.966Z"
      },
      {
        "duration": 20,
        "start_time": "2021-06-19T14:49:58.975Z"
      },
      {
        "duration": 19,
        "start_time": "2021-06-19T14:49:58.999Z"
      },
      {
        "duration": 8,
        "start_time": "2021-06-19T14:49:59.056Z"
      },
      {
        "duration": 20,
        "start_time": "2021-06-19T14:49:59.066Z"
      },
      {
        "duration": 17,
        "start_time": "2021-06-19T14:49:59.088Z"
      },
      {
        "duration": 198,
        "start_time": "2021-06-19T14:49:59.108Z"
      },
      {
        "duration": 1317,
        "start_time": "2021-06-19T14:49:59.309Z"
      },
      {
        "duration": 402,
        "start_time": "2021-06-19T14:50:00.628Z"
      },
      {
        "duration": 314,
        "start_time": "2021-06-19T14:50:01.033Z"
      },
      {
        "duration": 1012,
        "start_time": "2021-06-19T14:50:01.349Z"
      },
      {
        "duration": 400,
        "start_time": "2021-06-19T14:50:02.363Z"
      },
      {
        "duration": 223,
        "start_time": "2021-06-19T14:50:02.765Z"
      },
      {
        "duration": 34,
        "start_time": "2021-06-19T14:50:02.990Z"
      },
      {
        "duration": 62858,
        "start_time": "2021-06-19T14:50:03.027Z"
      },
      {
        "duration": 11654,
        "start_time": "2021-06-19T14:51:05.888Z"
      },
      {
        "duration": 11585,
        "start_time": "2021-06-19T14:51:17.545Z"
      },
      {
        "duration": 627,
        "start_time": "2021-06-19T14:51:29.137Z"
      },
      {
        "duration": 1000,
        "start_time": "2021-06-19T14:51:29.856Z"
      },
      {
        "duration": 56595,
        "start_time": "2021-06-19T14:51:30.859Z"
      },
      {
        "duration": 138249,
        "start_time": "2021-06-19T14:52:27.456Z"
      },
      {
        "duration": 37767,
        "start_time": "2021-06-19T14:54:45.708Z"
      },
      {
        "duration": 3301,
        "start_time": "2021-06-19T14:55:23.477Z"
      },
      {
        "duration": 3176,
        "start_time": "2021-06-19T14:55:26.781Z"
      },
      {
        "duration": 143,
        "start_time": "2021-06-19T14:55:29.960Z"
      },
      {
        "duration": 85,
        "start_time": "2021-06-19T14:55:30.105Z"
      },
      {
        "duration": 163,
        "start_time": "2021-06-19T14:55:30.193Z"
      },
      {
        "duration": 497,
        "start_time": "2021-06-19T14:55:30.360Z"
      },
      {
        "duration": 136017,
        "start_time": "2021-06-19T14:56:36.915Z"
      },
      {
        "duration": 140201,
        "start_time": "2021-06-19T14:59:14.779Z"
      },
      {
        "duration": 31270,
        "start_time": "2021-06-19T15:02:11.309Z"
      },
      {
        "duration": 61456,
        "start_time": "2021-06-19T15:02:55.948Z"
      },
      {
        "duration": 228968,
        "start_time": "2021-06-19T15:04:01.575Z"
      },
      {
        "duration": 14864,
        "start_time": "2021-06-19T15:08:17.694Z"
      },
      {
        "duration": 137382,
        "start_time": "2021-06-19T15:08:45.601Z"
      },
      {
        "duration": 29847,
        "start_time": "2021-06-19T15:11:42.058Z"
      },
      {
        "duration": 30394,
        "start_time": "2021-06-19T15:12:16.066Z"
      },
      {
        "duration": 16068,
        "start_time": "2021-06-19T15:13:00.833Z"
      },
      {
        "duration": 10623,
        "start_time": "2021-06-19T15:13:20.247Z"
      },
      {
        "duration": 101655,
        "start_time": "2021-06-19T15:14:03.200Z"
      },
      {
        "duration": 10365,
        "start_time": "2021-06-19T15:16:27.791Z"
      },
      {
        "duration": 385,
        "start_time": "2021-06-19T15:22:07.243Z"
      },
      {
        "duration": 754,
        "start_time": "2021-06-19T15:24:39.139Z"
      },
      {
        "duration": 9451,
        "start_time": "2021-06-19T15:25:01.557Z"
      },
      {
        "duration": 9803,
        "start_time": "2021-06-19T15:25:18.333Z"
      },
      {
        "duration": 14025,
        "start_time": "2021-06-19T15:27:21.710Z"
      },
      {
        "duration": 1465,
        "start_time": "2021-06-19T15:31:37.189Z"
      },
      {
        "duration": 54,
        "start_time": "2021-06-19T15:31:38.657Z"
      },
      {
        "duration": 20,
        "start_time": "2021-06-19T15:31:38.717Z"
      },
      {
        "duration": 20,
        "start_time": "2021-06-19T15:31:38.739Z"
      },
      {
        "duration": 9,
        "start_time": "2021-06-19T15:31:38.761Z"
      },
      {
        "duration": 28,
        "start_time": "2021-06-19T15:31:38.772Z"
      },
      {
        "duration": 22,
        "start_time": "2021-06-19T15:31:38.804Z"
      },
      {
        "duration": 26,
        "start_time": "2021-06-19T15:31:38.828Z"
      },
      {
        "duration": 18,
        "start_time": "2021-06-19T15:31:38.857Z"
      },
      {
        "duration": 17,
        "start_time": "2021-06-19T15:31:38.878Z"
      },
      {
        "duration": 189,
        "start_time": "2021-06-19T15:31:38.897Z"
      },
      {
        "duration": 1318,
        "start_time": "2021-06-19T15:31:39.088Z"
      },
      {
        "duration": 416,
        "start_time": "2021-06-19T15:31:40.409Z"
      },
      {
        "duration": 296,
        "start_time": "2021-06-19T15:31:40.827Z"
      },
      {
        "duration": 1020,
        "start_time": "2021-06-19T15:31:41.126Z"
      },
      {
        "duration": 407,
        "start_time": "2021-06-19T15:31:42.148Z"
      },
      {
        "duration": 222,
        "start_time": "2021-06-19T15:31:42.558Z"
      },
      {
        "duration": 37,
        "start_time": "2021-06-19T15:31:42.782Z"
      },
      {
        "duration": 62856,
        "start_time": "2021-06-19T15:31:42.821Z"
      },
      {
        "duration": 11727,
        "start_time": "2021-06-19T15:32:45.679Z"
      },
      {
        "duration": 11775,
        "start_time": "2021-06-19T15:32:57.408Z"
      },
      {
        "duration": 667,
        "start_time": "2021-06-19T15:33:09.188Z"
      },
      {
        "duration": 1190,
        "start_time": "2021-06-19T15:33:09.858Z"
      },
      {
        "duration": 58303,
        "start_time": "2021-06-19T15:33:11.051Z"
      },
      {
        "duration": 101693,
        "start_time": "2021-06-19T15:34:09.357Z"
      },
      {
        "duration": 16099,
        "start_time": "2021-06-19T15:35:51.055Z"
      },
      {
        "duration": 10628,
        "start_time": "2021-06-19T15:36:07.157Z"
      },
      {
        "duration": 3171,
        "start_time": "2021-06-19T15:36:17.788Z"
      },
      {
        "duration": 584,
        "start_time": "2021-06-19T15:36:20.963Z"
      },
      {
        "duration": 308,
        "start_time": "2021-06-19T15:36:21.549Z"
      },
      {
        "duration": 14065,
        "start_time": "2021-06-19T15:36:21.859Z"
      },
      {
        "duration": 60,
        "start_time": "2021-06-19T15:36:35.926Z"
      },
      {
        "duration": 80,
        "start_time": "2021-06-19T15:36:35.988Z"
      },
      {
        "duration": 93,
        "start_time": "2021-06-19T15:36:36.070Z"
      },
      {
        "duration": 421,
        "start_time": "2021-06-19T15:36:36.255Z"
      },
      {
        "duration": 9528,
        "start_time": "2021-06-19T15:36:58.564Z"
      },
      {
        "duration": 14349,
        "start_time": "2021-06-19T15:37:11.530Z"
      },
      {
        "duration": 51,
        "start_time": "2021-06-19T15:37:25.881Z"
      },
      {
        "duration": 82,
        "start_time": "2021-06-19T15:37:25.935Z"
      },
      {
        "duration": 137,
        "start_time": "2021-06-19T15:37:26.020Z"
      },
      {
        "duration": 502,
        "start_time": "2021-06-19T15:37:26.160Z"
      },
      {
        "duration": 13717,
        "start_time": "2021-06-19T15:38:08.986Z"
      },
      {
        "duration": 62,
        "start_time": "2021-06-19T15:38:22.706Z"
      },
      {
        "duration": 82,
        "start_time": "2021-06-19T15:38:22.772Z"
      },
      {
        "duration": 111,
        "start_time": "2021-06-19T15:38:22.857Z"
      },
      {
        "duration": 456,
        "start_time": "2021-06-19T15:38:23.056Z"
      },
      {
        "duration": 388,
        "start_time": "2021-06-19T15:38:50.712Z"
      },
      {
        "duration": 6930,
        "start_time": "2021-06-19T15:38:51.111Z"
      },
      {
        "duration": 14030,
        "start_time": "2021-06-19T15:38:58.044Z"
      },
      {
        "duration": 6582,
        "start_time": "2021-06-19T15:39:12.078Z"
      },
      {
        "duration": 14278,
        "start_time": "2021-06-19T15:39:29.251Z"
      },
      {
        "duration": 48,
        "start_time": "2021-06-19T15:39:43.532Z"
      },
      {
        "duration": 72,
        "start_time": "2021-06-19T15:39:43.583Z"
      },
      {
        "duration": 104,
        "start_time": "2021-06-19T15:39:43.658Z"
      },
      {
        "duration": 593,
        "start_time": "2021-06-19T15:39:43.765Z"
      },
      {
        "duration": 1521,
        "start_time": "2021-06-19T15:40:01.933Z"
      },
      {
        "duration": 54,
        "start_time": "2021-06-19T15:40:03.457Z"
      },
      {
        "duration": 20,
        "start_time": "2021-06-19T15:40:03.514Z"
      },
      {
        "duration": 28,
        "start_time": "2021-06-19T15:40:03.537Z"
      },
      {
        "duration": 23,
        "start_time": "2021-06-19T15:40:03.567Z"
      },
      {
        "duration": 29,
        "start_time": "2021-06-19T15:40:03.593Z"
      },
      {
        "duration": 28,
        "start_time": "2021-06-19T15:40:03.625Z"
      },
      {
        "duration": 11,
        "start_time": "2021-06-19T15:40:03.657Z"
      },
      {
        "duration": 40,
        "start_time": "2021-06-19T15:40:03.671Z"
      },
      {
        "duration": 23,
        "start_time": "2021-06-19T15:40:03.713Z"
      },
      {
        "duration": 169,
        "start_time": "2021-06-19T15:40:03.739Z"
      },
      {
        "duration": 1528,
        "start_time": "2021-06-19T15:40:03.910Z"
      },
      {
        "duration": 528,
        "start_time": "2021-06-19T15:40:05.440Z"
      },
      {
        "duration": 292,
        "start_time": "2021-06-19T15:40:05.971Z"
      },
      {
        "duration": 1127,
        "start_time": "2021-06-19T15:40:06.265Z"
      },
      {
        "duration": 401,
        "start_time": "2021-06-19T15:40:07.394Z"
      },
      {
        "duration": 322,
        "start_time": "2021-06-19T15:40:07.797Z"
      },
      {
        "duration": 43,
        "start_time": "2021-06-19T15:40:08.121Z"
      },
      {
        "duration": 62464,
        "start_time": "2021-06-19T15:40:08.166Z"
      },
      {
        "duration": 11404,
        "start_time": "2021-06-19T15:41:10.632Z"
      },
      {
        "duration": 11584,
        "start_time": "2021-06-19T15:41:22.038Z"
      },
      {
        "duration": 541,
        "start_time": "2021-06-19T15:41:33.624Z"
      },
      {
        "duration": 1080,
        "start_time": "2021-06-19T15:41:34.261Z"
      },
      {
        "duration": 57272,
        "start_time": "2021-06-19T15:41:35.344Z"
      },
      {
        "duration": 103739,
        "start_time": "2021-06-19T15:42:32.619Z"
      },
      {
        "duration": 16726,
        "start_time": "2021-06-19T15:44:16.360Z"
      },
      {
        "duration": 10954,
        "start_time": "2021-06-19T15:44:33.088Z"
      },
      {
        "duration": 3313,
        "start_time": "2021-06-19T15:44:44.045Z"
      },
      {
        "duration": 510,
        "start_time": "2021-06-19T15:44:47.361Z"
      },
      {
        "duration": 7234,
        "start_time": "2021-06-19T15:44:47.873Z"
      },
      {
        "duration": 14702,
        "start_time": "2021-06-19T15:44:55.110Z"
      },
      {
        "duration": 70,
        "start_time": "2021-06-19T15:45:09.814Z"
      },
      {
        "duration": 98,
        "start_time": "2021-06-19T15:45:09.886Z"
      },
      {
        "duration": 78,
        "start_time": "2021-06-19T15:45:09.986Z"
      },
      {
        "duration": 432,
        "start_time": "2021-06-19T15:45:10.155Z"
      },
      {
        "duration": 1518,
        "start_time": "2021-06-20T11:41:12.826Z"
      },
      {
        "duration": 55,
        "start_time": "2021-06-20T11:41:14.347Z"
      },
      {
        "duration": 12,
        "start_time": "2021-06-20T11:41:14.404Z"
      },
      {
        "duration": 6,
        "start_time": "2021-06-20T11:41:14.523Z"
      },
      {
        "duration": 23,
        "start_time": "2021-06-20T11:41:15.068Z"
      },
      {
        "duration": 9,
        "start_time": "2021-06-20T11:41:15.881Z"
      },
      {
        "duration": 21,
        "start_time": "2021-06-20T11:41:16.009Z"
      },
      {
        "duration": 220,
        "start_time": "2021-06-20T11:41:16.739Z"
      },
      {
        "duration": 6,
        "start_time": "2021-06-20T11:41:17.184Z"
      },
      {
        "duration": 20,
        "start_time": "2021-06-20T11:41:17.730Z"
      },
      {
        "duration": 155,
        "start_time": "2021-06-20T11:41:18.411Z"
      },
      {
        "duration": 1294,
        "start_time": "2021-06-20T11:41:18.930Z"
      },
      {
        "duration": 452,
        "start_time": "2021-06-20T11:41:20.227Z"
      },
      {
        "duration": 1504,
        "start_time": "2021-06-20T11:49:20.845Z"
      },
      {
        "duration": 54,
        "start_time": "2021-06-20T11:49:22.352Z"
      },
      {
        "duration": 12,
        "start_time": "2021-06-20T11:49:22.409Z"
      },
      {
        "duration": 5,
        "start_time": "2021-06-20T11:49:22.424Z"
      },
      {
        "duration": 43,
        "start_time": "2021-06-20T11:49:22.431Z"
      },
      {
        "duration": 8,
        "start_time": "2021-06-20T11:49:22.476Z"
      },
      {
        "duration": 20,
        "start_time": "2021-06-20T11:49:22.486Z"
      },
      {
        "duration": 260,
        "start_time": "2021-06-20T11:49:22.510Z"
      },
      {
        "duration": 371,
        "start_time": "2021-06-20T11:49:22.773Z"
      },
      {
        "duration": 1246,
        "start_time": "2021-06-20T11:49:21.900Z"
      },
      {
        "duration": 1231,
        "start_time": "2021-06-20T11:49:21.917Z"
      },
      {
        "duration": 1227,
        "start_time": "2021-06-20T11:49:21.922Z"
      },
      {
        "duration": 1224,
        "start_time": "2021-06-20T11:49:21.926Z"
      },
      {
        "duration": 1223,
        "start_time": "2021-06-20T11:49:21.929Z"
      },
      {
        "duration": 1221,
        "start_time": "2021-06-20T11:49:21.932Z"
      },
      {
        "duration": 1219,
        "start_time": "2021-06-20T11:49:21.936Z"
      },
      {
        "duration": 1217,
        "start_time": "2021-06-20T11:49:21.940Z"
      },
      {
        "duration": 1216,
        "start_time": "2021-06-20T11:49:21.943Z"
      },
      {
        "duration": 1214,
        "start_time": "2021-06-20T11:49:21.946Z"
      },
      {
        "duration": 1213,
        "start_time": "2021-06-20T11:49:21.949Z"
      },
      {
        "duration": 1212,
        "start_time": "2021-06-20T11:49:21.951Z"
      },
      {
        "duration": 1211,
        "start_time": "2021-06-20T11:49:21.953Z"
      },
      {
        "duration": 1210,
        "start_time": "2021-06-20T11:49:21.956Z"
      },
      {
        "duration": 1206,
        "start_time": "2021-06-20T11:49:21.962Z"
      },
      {
        "duration": 1206,
        "start_time": "2021-06-20T11:49:21.964Z"
      },
      {
        "duration": 1205,
        "start_time": "2021-06-20T11:49:21.966Z"
      },
      {
        "duration": 1204,
        "start_time": "2021-06-20T11:49:21.968Z"
      },
      {
        "duration": 1203,
        "start_time": "2021-06-20T11:49:21.970Z"
      },
      {
        "duration": 1202,
        "start_time": "2021-06-20T11:49:21.973Z"
      },
      {
        "duration": 1201,
        "start_time": "2021-06-20T11:49:21.975Z"
      },
      {
        "duration": 1201,
        "start_time": "2021-06-20T11:49:21.977Z"
      },
      {
        "duration": 1200,
        "start_time": "2021-06-20T11:49:21.980Z"
      },
      {
        "duration": 1194,
        "start_time": "2021-06-20T11:49:21.987Z"
      },
      {
        "duration": 1193,
        "start_time": "2021-06-20T11:49:21.990Z"
      },
      {
        "duration": 1458,
        "start_time": "2021-06-20T11:50:14.197Z"
      },
      {
        "duration": 52,
        "start_time": "2021-06-20T11:50:15.657Z"
      },
      {
        "duration": 11,
        "start_time": "2021-06-20T11:50:15.712Z"
      },
      {
        "duration": 6,
        "start_time": "2021-06-20T11:50:15.726Z"
      },
      {
        "duration": 39,
        "start_time": "2021-06-20T11:50:15.734Z"
      },
      {
        "duration": 9,
        "start_time": "2021-06-20T11:50:15.775Z"
      },
      {
        "duration": 19,
        "start_time": "2021-06-20T11:50:15.786Z"
      },
      {
        "duration": 368,
        "start_time": "2021-06-20T11:50:15.809Z"
      },
      {
        "duration": 12,
        "start_time": "2021-06-20T11:50:16.180Z"
      },
      {
        "duration": 22,
        "start_time": "2021-06-20T11:50:16.195Z"
      },
      {
        "duration": 196,
        "start_time": "2021-06-20T11:50:16.220Z"
      },
      {
        "duration": 1426,
        "start_time": "2021-06-20T11:50:16.420Z"
      },
      {
        "duration": 466,
        "start_time": "2021-06-20T11:50:17.849Z"
      },
      {
        "duration": 1046,
        "start_time": "2021-06-20T11:50:18.318Z"
      },
      {
        "duration": 407,
        "start_time": "2021-06-20T11:50:19.367Z"
      },
      {
        "duration": 230,
        "start_time": "2021-06-20T11:50:19.778Z"
      },
      {
        "duration": 34,
        "start_time": "2021-06-20T11:50:20.010Z"
      },
      {
        "duration": 602,
        "start_time": "2021-06-20T11:50:20.057Z"
      },
      {
        "duration": 1245,
        "start_time": "2021-06-20T11:50:19.419Z"
      },
      {
        "duration": 1243,
        "start_time": "2021-06-20T11:50:19.422Z"
      },
      {
        "duration": 1241,
        "start_time": "2021-06-20T11:50:19.426Z"
      },
      {
        "duration": 1240,
        "start_time": "2021-06-20T11:50:19.429Z"
      },
      {
        "duration": 1240,
        "start_time": "2021-06-20T11:50:19.432Z"
      },
      {
        "duration": 1240,
        "start_time": "2021-06-20T11:50:19.434Z"
      },
      {
        "duration": 1239,
        "start_time": "2021-06-20T11:50:19.437Z"
      },
      {
        "duration": 1237,
        "start_time": "2021-06-20T11:50:19.440Z"
      },
      {
        "duration": 1237,
        "start_time": "2021-06-20T11:50:19.442Z"
      },
      {
        "duration": 1232,
        "start_time": "2021-06-20T11:50:19.449Z"
      },
      {
        "duration": 1231,
        "start_time": "2021-06-20T11:50:19.452Z"
      },
      {
        "duration": 1231,
        "start_time": "2021-06-20T11:50:19.454Z"
      },
      {
        "duration": 1232,
        "start_time": "2021-06-20T11:50:19.456Z"
      },
      {
        "duration": 1233,
        "start_time": "2021-06-20T11:50:19.457Z"
      },
      {
        "duration": 1233,
        "start_time": "2021-06-20T11:50:19.459Z"
      },
      {
        "duration": 1217,
        "start_time": "2021-06-20T11:50:19.477Z"
      },
      {
        "duration": 288,
        "start_time": "2021-06-20T11:51:32.485Z"
      },
      {
        "duration": 5,
        "start_time": "2021-06-20T11:51:44.629Z"
      },
      {
        "duration": 47,
        "start_time": "2021-06-20T11:51:44.814Z"
      },
      {
        "duration": 11,
        "start_time": "2021-06-20T11:51:44.998Z"
      },
      {
        "duration": 7,
        "start_time": "2021-06-20T11:51:45.419Z"
      },
      {
        "duration": 23,
        "start_time": "2021-06-20T11:51:45.612Z"
      },
      {
        "duration": 9,
        "start_time": "2021-06-20T11:51:45.820Z"
      },
      {
        "duration": 17,
        "start_time": "2021-06-20T11:51:46.021Z"
      },
      {
        "duration": 214,
        "start_time": "2021-06-20T11:51:46.250Z"
      },
      {
        "duration": 278,
        "start_time": "2021-06-20T11:51:46.482Z"
      },
      {
        "duration": 19,
        "start_time": "2021-06-20T11:51:46.780Z"
      },
      {
        "duration": 274,
        "start_time": "2021-06-20T11:52:14.531Z"
      },
      {
        "duration": 10,
        "start_time": "2021-06-20T11:52:58.452Z"
      },
      {
        "duration": 8,
        "start_time": "2021-06-20T11:53:16.723Z"
      },
      {
        "duration": 260,
        "start_time": "2021-06-20T11:53:40.540Z"
      },
      {
        "duration": 1521,
        "start_time": "2021-06-20T11:54:53.129Z"
      },
      {
        "duration": 55,
        "start_time": "2021-06-20T11:54:54.653Z"
      },
      {
        "duration": 12,
        "start_time": "2021-06-20T11:54:54.711Z"
      },
      {
        "duration": 5,
        "start_time": "2021-06-20T11:54:54.725Z"
      },
      {
        "duration": 39,
        "start_time": "2021-06-20T11:54:54.733Z"
      },
      {
        "duration": 8,
        "start_time": "2021-06-20T11:54:54.774Z"
      },
      {
        "duration": 21,
        "start_time": "2021-06-20T11:54:54.785Z"
      },
      {
        "duration": 264,
        "start_time": "2021-06-20T11:54:54.808Z"
      },
      {
        "duration": 88,
        "start_time": "2021-06-20T11:54:55.076Z"
      },
      {
        "duration": 1281,
        "start_time": "2021-06-20T11:54:53.886Z"
      },
      {
        "duration": 1277,
        "start_time": "2021-06-20T11:54:53.892Z"
      },
      {
        "duration": 1275,
        "start_time": "2021-06-20T11:54:53.895Z"
      },
      {
        "duration": 1261,
        "start_time": "2021-06-20T11:54:53.910Z"
      },
      {
        "duration": 1259,
        "start_time": "2021-06-20T11:54:53.914Z"
      },
      {
        "duration": 1257,
        "start_time": "2021-06-20T11:54:53.917Z"
      },
      {
        "duration": 1255,
        "start_time": "2021-06-20T11:54:53.920Z"
      },
      {
        "duration": 1255,
        "start_time": "2021-06-20T11:54:53.922Z"
      },
      {
        "duration": 1253,
        "start_time": "2021-06-20T11:54:53.925Z"
      },
      {
        "duration": 1250,
        "start_time": "2021-06-20T11:54:53.929Z"
      },
      {
        "duration": 1244,
        "start_time": "2021-06-20T11:54:53.937Z"
      },
      {
        "duration": 1242,
        "start_time": "2021-06-20T11:54:53.940Z"
      },
      {
        "duration": 1239,
        "start_time": "2021-06-20T11:54:53.944Z"
      },
      {
        "duration": 1238,
        "start_time": "2021-06-20T11:54:53.947Z"
      },
      {
        "duration": 1238,
        "start_time": "2021-06-20T11:54:53.949Z"
      },
      {
        "duration": 1236,
        "start_time": "2021-06-20T11:54:53.953Z"
      },
      {
        "duration": 1217,
        "start_time": "2021-06-20T11:54:53.974Z"
      },
      {
        "duration": 1210,
        "start_time": "2021-06-20T11:54:53.983Z"
      },
      {
        "duration": 1209,
        "start_time": "2021-06-20T11:54:53.986Z"
      },
      {
        "duration": 1208,
        "start_time": "2021-06-20T11:54:53.989Z"
      },
      {
        "duration": 1210,
        "start_time": "2021-06-20T11:54:53.991Z"
      },
      {
        "duration": 1210,
        "start_time": "2021-06-20T11:54:53.993Z"
      },
      {
        "duration": 1208,
        "start_time": "2021-06-20T11:54:53.997Z"
      },
      {
        "duration": 1257,
        "start_time": "2021-06-20T11:54:53.999Z"
      },
      {
        "duration": 1255,
        "start_time": "2021-06-20T11:54:54.003Z"
      },
      {
        "duration": 1517,
        "start_time": "2021-06-20T11:55:07.617Z"
      },
      {
        "duration": 52,
        "start_time": "2021-06-20T11:55:09.136Z"
      },
      {
        "duration": 12,
        "start_time": "2021-06-20T11:55:09.191Z"
      },
      {
        "duration": 6,
        "start_time": "2021-06-20T11:55:09.206Z"
      },
      {
        "duration": 54,
        "start_time": "2021-06-20T11:55:09.214Z"
      },
      {
        "duration": 8,
        "start_time": "2021-06-20T11:55:09.270Z"
      },
      {
        "duration": 21,
        "start_time": "2021-06-20T11:55:09.281Z"
      },
      {
        "duration": 255,
        "start_time": "2021-06-20T11:55:09.305Z"
      },
      {
        "duration": 5,
        "start_time": "2021-06-20T11:55:09.564Z"
      },
      {
        "duration": 26,
        "start_time": "2021-06-20T11:55:09.572Z"
      },
      {
        "duration": 178,
        "start_time": "2021-06-20T11:55:09.601Z"
      },
      {
        "duration": 1257,
        "start_time": "2021-06-20T11:55:09.781Z"
      },
      {
        "duration": 437,
        "start_time": "2021-06-20T11:55:11.040Z"
      },
      {
        "duration": 983,
        "start_time": "2021-06-20T11:55:11.479Z"
      },
      {
        "duration": 384,
        "start_time": "2021-06-20T11:55:12.466Z"
      },
      {
        "duration": 221,
        "start_time": "2021-06-20T11:55:12.856Z"
      },
      {
        "duration": 37,
        "start_time": "2021-06-20T11:55:13.079Z"
      },
      {
        "duration": 62280,
        "start_time": "2021-06-20T11:55:13.119Z"
      },
      {
        "duration": 11416,
        "start_time": "2021-06-20T11:56:15.402Z"
      },
      {
        "duration": 13135,
        "start_time": "2021-06-20T11:56:26.821Z"
      },
      {
        "duration": 599,
        "start_time": "2021-06-20T11:56:39.960Z"
      },
      {
        "duration": 1057,
        "start_time": "2021-06-20T11:56:40.562Z"
      },
      {
        "duration": 56619,
        "start_time": "2021-06-20T11:56:41.621Z"
      },
      {
        "duration": 102359,
        "start_time": "2021-06-20T11:57:38.243Z"
      },
      {
        "duration": 16496,
        "start_time": "2021-06-20T11:59:20.605Z"
      },
      {
        "duration": 10639,
        "start_time": "2021-06-20T11:59:37.104Z"
      },
      {
        "duration": 3004,
        "start_time": "2021-06-20T11:59:47.755Z"
      },
      {
        "duration": 484,
        "start_time": "2021-06-20T11:59:50.762Z"
      },
      {
        "duration": 7233,
        "start_time": "2021-06-20T11:59:51.249Z"
      },
      {
        "duration": 14412,
        "start_time": "2021-06-20T11:59:58.484Z"
      },
      {
        "duration": 64,
        "start_time": "2021-06-20T12:00:12.899Z"
      },
      {
        "duration": 96,
        "start_time": "2021-06-20T12:00:12.965Z"
      },
      {
        "duration": 96,
        "start_time": "2021-06-20T12:00:13.063Z"
      },
      {
        "duration": 494,
        "start_time": "2021-06-20T12:00:13.162Z"
      },
      {
        "duration": 9171,
        "start_time": "2021-06-20T12:01:44.839Z"
      },
      {
        "duration": 31648,
        "start_time": "2021-06-20T12:03:16.185Z"
      },
      {
        "duration": 30881,
        "start_time": "2021-06-20T12:04:08.621Z"
      },
      {
        "duration": 396,
        "start_time": "2021-06-20T12:05:00.119Z"
      },
      {
        "duration": 1486,
        "start_time": "2021-06-20T12:05:14.170Z"
      },
      {
        "duration": 53,
        "start_time": "2021-06-20T12:05:15.658Z"
      },
      {
        "duration": 11,
        "start_time": "2021-06-20T12:05:15.714Z"
      },
      {
        "duration": 5,
        "start_time": "2021-06-20T12:05:15.728Z"
      },
      {
        "duration": 39,
        "start_time": "2021-06-20T12:05:15.735Z"
      },
      {
        "duration": 7,
        "start_time": "2021-06-20T12:05:15.777Z"
      },
      {
        "duration": 20,
        "start_time": "2021-06-20T12:05:15.786Z"
      },
      {
        "duration": 258,
        "start_time": "2021-06-20T12:05:15.810Z"
      },
      {
        "duration": 6,
        "start_time": "2021-06-20T12:05:16.071Z"
      },
      {
        "duration": 24,
        "start_time": "2021-06-20T12:05:16.079Z"
      },
      {
        "duration": 179,
        "start_time": "2021-06-20T12:05:16.106Z"
      },
      {
        "duration": 1260,
        "start_time": "2021-06-20T12:05:16.287Z"
      },
      {
        "duration": 437,
        "start_time": "2021-06-20T12:05:17.555Z"
      },
      {
        "duration": 394,
        "start_time": "2021-06-20T12:05:17.994Z"
      },
      {
        "duration": 1180,
        "start_time": "2021-06-20T12:05:17.211Z"
      },
      {
        "duration": 1175,
        "start_time": "2021-06-20T12:05:17.217Z"
      },
      {
        "duration": 1167,
        "start_time": "2021-06-20T12:05:17.226Z"
      },
      {
        "duration": 1166,
        "start_time": "2021-06-20T12:05:17.229Z"
      },
      {
        "duration": 1163,
        "start_time": "2021-06-20T12:05:17.233Z"
      },
      {
        "duration": 1155,
        "start_time": "2021-06-20T12:05:17.242Z"
      },
      {
        "duration": 1154,
        "start_time": "2021-06-20T12:05:17.245Z"
      },
      {
        "duration": 1150,
        "start_time": "2021-06-20T12:05:17.250Z"
      },
      {
        "duration": 1142,
        "start_time": "2021-06-20T12:05:17.259Z"
      },
      {
        "duration": 1140,
        "start_time": "2021-06-20T12:05:17.263Z"
      },
      {
        "duration": 1137,
        "start_time": "2021-06-20T12:05:17.267Z"
      },
      {
        "duration": 1130,
        "start_time": "2021-06-20T12:05:17.275Z"
      },
      {
        "duration": 1128,
        "start_time": "2021-06-20T12:05:17.279Z"
      },
      {
        "duration": 1126,
        "start_time": "2021-06-20T12:05:17.282Z"
      },
      {
        "duration": 1117,
        "start_time": "2021-06-20T12:05:17.292Z"
      },
      {
        "duration": 1115,
        "start_time": "2021-06-20T12:05:17.296Z"
      },
      {
        "duration": 1112,
        "start_time": "2021-06-20T12:05:17.300Z"
      },
      {
        "duration": 1105,
        "start_time": "2021-06-20T12:05:17.308Z"
      },
      {
        "duration": 1102,
        "start_time": "2021-06-20T12:05:17.312Z"
      },
      {
        "duration": 1101,
        "start_time": "2021-06-20T12:05:17.315Z"
      },
      {
        "duration": 975,
        "start_time": "2021-06-20T12:06:18.999Z"
      },
      {
        "duration": 30,
        "start_time": "2021-06-20T12:06:24.878Z"
      },
      {
        "duration": 9,
        "start_time": "2021-06-20T12:06:25.515Z"
      },
      {
        "duration": 41,
        "start_time": "2021-06-20T12:06:26.159Z"
      },
      {
        "duration": 5551,
        "start_time": "2021-06-20T12:06:27.556Z"
      },
      {
        "duration": 5098,
        "start_time": "2021-06-20T12:06:33.110Z"
      },
      {
        "duration": 886,
        "start_time": "2021-06-20T12:06:38.211Z"
      },
      {
        "duration": 65,
        "start_time": "2021-06-20T12:06:39.100Z"
      },
      {
        "duration": 95,
        "start_time": "2021-06-20T12:06:39.261Z"
      },
      {
        "duration": 2676,
        "start_time": "2021-06-20T12:06:39.358Z"
      },
      {
        "duration": 8595,
        "start_time": "2021-06-20T12:06:42.036Z"
      },
      {
        "duration": 9059,
        "start_time": "2021-06-20T12:06:50.634Z"
      },
      {
        "duration": 572,
        "start_time": "2021-06-20T12:06:59.696Z"
      },
      {
        "duration": 193,
        "start_time": "2021-06-20T12:07:00.270Z"
      },
      {
        "duration": 102,
        "start_time": "2021-06-20T12:07:00.467Z"
      },
      {
        "duration": 498,
        "start_time": "2021-06-20T12:07:00.572Z"
      },
      {
        "duration": 1414,
        "start_time": "2021-06-20T12:07:01.072Z"
      },
      {
        "duration": 12,
        "start_time": "2021-06-20T12:07:02.489Z"
      },
      {
        "duration": 19,
        "start_time": "2021-06-20T12:07:02.503Z"
      },
      {
        "duration": 131,
        "start_time": "2021-06-20T12:07:02.525Z"
      },
      {
        "duration": 465,
        "start_time": "2021-06-20T12:07:02.660Z"
      },
      {
        "duration": 1478,
        "start_time": "2021-06-20T12:11:25.984Z"
      },
      {
        "duration": 59,
        "start_time": "2021-06-20T12:11:27.465Z"
      },
      {
        "duration": 14,
        "start_time": "2021-06-20T12:11:27.528Z"
      },
      {
        "duration": 7,
        "start_time": "2021-06-20T12:11:27.557Z"
      },
      {
        "duration": 25,
        "start_time": "2021-06-20T12:11:27.567Z"
      },
      {
        "duration": 10,
        "start_time": "2021-06-20T12:11:27.595Z"
      },
      {
        "duration": 64,
        "start_time": "2021-06-20T12:11:27.607Z"
      },
      {
        "duration": 248,
        "start_time": "2021-06-20T12:11:27.676Z"
      },
      {
        "duration": 6,
        "start_time": "2021-06-20T12:11:27.927Z"
      },
      {
        "duration": 29,
        "start_time": "2021-06-20T12:11:27.935Z"
      },
      {
        "duration": 188,
        "start_time": "2021-06-20T12:11:27.967Z"
      },
      {
        "duration": 1337,
        "start_time": "2021-06-20T12:11:28.158Z"
      },
      {
        "duration": 470,
        "start_time": "2021-06-20T12:11:29.499Z"
      },
      {
        "duration": 1058,
        "start_time": "2021-06-20T12:11:29.972Z"
      },
      {
        "duration": 49,
        "start_time": "2021-06-20T12:11:31.032Z"
      },
      {
        "duration": 10,
        "start_time": "2021-06-20T12:11:31.085Z"
      },
      {
        "duration": 61,
        "start_time": "2021-06-20T12:11:31.098Z"
      },
      {
        "duration": 5373,
        "start_time": "2021-06-20T12:11:31.162Z"
      },
      {
        "duration": 4731,
        "start_time": "2021-06-20T12:11:36.537Z"
      },
      {
        "duration": 427,
        "start_time": "2021-06-20T12:11:41.272Z"
      },
      {
        "duration": 347,
        "start_time": "2021-06-20T12:11:41.702Z"
      },
      {
        "duration": 106,
        "start_time": "2021-06-20T12:11:42.052Z"
      },
      {
        "duration": 111,
        "start_time": "2021-06-20T12:11:42.165Z"
      },
      {
        "duration": 2507,
        "start_time": "2021-06-20T12:11:42.279Z"
      },
      {
        "duration": 8178,
        "start_time": "2021-06-20T12:11:44.788Z"
      },
      {
        "duration": 8674,
        "start_time": "2021-06-20T12:11:52.968Z"
      },
      {
        "duration": 614,
        "start_time": "2021-06-20T12:12:01.644Z"
      },
      {
        "duration": 157,
        "start_time": "2021-06-20T12:12:02.261Z"
      },
      {
        "duration": 104,
        "start_time": "2021-06-20T12:12:02.458Z"
      },
      {
        "duration": 483,
        "start_time": "2021-06-20T12:12:02.565Z"
      },
      {
        "duration": 1343,
        "start_time": "2021-06-20T12:12:03.050Z"
      },
      {
        "duration": 14,
        "start_time": "2021-06-20T12:12:04.396Z"
      },
      {
        "duration": 57,
        "start_time": "2021-06-20T12:12:04.413Z"
      },
      {
        "duration": 84,
        "start_time": "2021-06-20T12:12:04.472Z"
      },
      {
        "duration": 505,
        "start_time": "2021-06-20T12:12:04.561Z"
      },
      {
        "duration": 8379,
        "start_time": "2021-06-20T12:13:57.058Z"
      },
      {
        "duration": 8073,
        "start_time": "2021-06-20T12:15:07.291Z"
      },
      {
        "duration": 12073,
        "start_time": "2021-06-20T12:15:35.648Z"
      },
      {
        "duration": 839,
        "start_time": "2021-06-20T12:16:23.928Z"
      },
      {
        "duration": 814,
        "start_time": "2021-06-20T12:16:41.064Z"
      },
      {
        "duration": 1543,
        "start_time": "2021-06-20T12:17:11.021Z"
      },
      {
        "duration": 57,
        "start_time": "2021-06-20T12:17:12.567Z"
      },
      {
        "duration": 11,
        "start_time": "2021-06-20T12:17:12.627Z"
      },
      {
        "duration": 17,
        "start_time": "2021-06-20T12:17:12.641Z"
      },
      {
        "duration": 24,
        "start_time": "2021-06-20T12:17:12.660Z"
      },
      {
        "duration": 9,
        "start_time": "2021-06-20T12:17:12.686Z"
      },
      {
        "duration": 26,
        "start_time": "2021-06-20T12:17:12.697Z"
      },
      {
        "duration": 233,
        "start_time": "2021-06-20T12:17:12.758Z"
      },
      {
        "duration": 5,
        "start_time": "2021-06-20T12:17:12.994Z"
      },
      {
        "duration": 39,
        "start_time": "2021-06-20T12:17:13.001Z"
      },
      {
        "duration": 166,
        "start_time": "2021-06-20T12:17:13.042Z"
      },
      {
        "duration": 1274,
        "start_time": "2021-06-20T12:17:13.210Z"
      },
      {
        "duration": 448,
        "start_time": "2021-06-20T12:17:14.486Z"
      },
      {
        "duration": 991,
        "start_time": "2021-06-20T12:17:14.936Z"
      },
      {
        "duration": 38,
        "start_time": "2021-06-20T12:17:15.929Z"
      },
      {
        "duration": 7,
        "start_time": "2021-06-20T12:17:15.970Z"
      },
      {
        "duration": 35,
        "start_time": "2021-06-20T12:17:15.980Z"
      },
      {
        "duration": 5224,
        "start_time": "2021-06-20T12:17:16.017Z"
      },
      {
        "duration": 4705,
        "start_time": "2021-06-20T12:17:21.243Z"
      },
      {
        "duration": 403,
        "start_time": "2021-06-20T12:17:25.956Z"
      },
      {
        "duration": 357,
        "start_time": "2021-06-20T12:17:26.361Z"
      },
      {
        "duration": 52,
        "start_time": "2021-06-20T12:17:26.721Z"
      },
      {
        "duration": 115,
        "start_time": "2021-06-20T12:17:26.862Z"
      },
      {
        "duration": 2554,
        "start_time": "2021-06-20T12:17:26.980Z"
      },
      {
        "duration": 8262,
        "start_time": "2021-06-20T12:17:29.536Z"
      },
      {
        "duration": 11806,
        "start_time": "2021-06-20T12:17:37.800Z"
      },
      {
        "duration": 823,
        "start_time": "2021-06-20T12:17:49.608Z"
      },
      {
        "duration": 222,
        "start_time": "2021-06-20T12:17:50.434Z"
      },
      {
        "duration": 106,
        "start_time": "2021-06-20T12:17:50.660Z"
      },
      {
        "duration": 491,
        "start_time": "2021-06-20T12:17:50.769Z"
      },
      {
        "duration": 1368,
        "start_time": "2021-06-20T12:17:51.263Z"
      },
      {
        "duration": 24,
        "start_time": "2021-06-20T12:17:52.633Z"
      },
      {
        "duration": 24,
        "start_time": "2021-06-20T12:17:52.659Z"
      },
      {
        "duration": 78,
        "start_time": "2021-06-20T12:17:52.685Z"
      },
      {
        "duration": 480,
        "start_time": "2021-06-20T12:17:52.766Z"
      },
      {
        "duration": 814,
        "start_time": "2021-06-20T12:18:18.344Z"
      },
      {
        "duration": 1537,
        "start_time": "2021-06-20T12:21:03.442Z"
      },
      {
        "duration": 55,
        "start_time": "2021-06-20T12:21:04.982Z"
      },
      {
        "duration": 16,
        "start_time": "2021-06-20T12:21:05.040Z"
      },
      {
        "duration": 5,
        "start_time": "2021-06-20T12:21:05.059Z"
      },
      {
        "duration": 25,
        "start_time": "2021-06-20T12:21:05.066Z"
      },
      {
        "duration": 8,
        "start_time": "2021-06-20T12:21:05.094Z"
      },
      {
        "duration": 57,
        "start_time": "2021-06-20T12:21:05.104Z"
      },
      {
        "duration": 240,
        "start_time": "2021-06-20T12:21:05.165Z"
      },
      {
        "duration": 6,
        "start_time": "2021-06-20T12:21:05.408Z"
      },
      {
        "duration": 40,
        "start_time": "2021-06-20T12:21:05.416Z"
      },
      {
        "duration": 171,
        "start_time": "2021-06-20T12:21:05.459Z"
      },
      {
        "duration": 1280,
        "start_time": "2021-06-20T12:21:05.632Z"
      },
      {
        "duration": 461,
        "start_time": "2021-06-20T12:21:06.915Z"
      },
      {
        "duration": 995,
        "start_time": "2021-06-20T12:21:07.378Z"
      },
      {
        "duration": 30,
        "start_time": "2021-06-20T12:21:08.376Z"
      },
      {
        "duration": 8,
        "start_time": "2021-06-20T12:21:08.408Z"
      },
      {
        "duration": 72,
        "start_time": "2021-06-20T12:21:08.418Z"
      },
      {
        "duration": 5337,
        "start_time": "2021-06-20T12:21:08.493Z"
      },
      {
        "duration": 4774,
        "start_time": "2021-06-20T12:21:13.833Z"
      },
      {
        "duration": 814,
        "start_time": "2021-06-20T12:21:18.609Z"
      },
      {
        "duration": 353,
        "start_time": "2021-06-20T12:21:19.426Z"
      },
      {
        "duration": 84,
        "start_time": "2021-06-20T12:21:19.782Z"
      },
      {
        "duration": 27,
        "start_time": "2021-06-20T12:21:19.961Z"
      },
      {
        "duration": 2546,
        "start_time": "2021-06-20T12:21:19.991Z"
      },
      {
        "duration": 8180,
        "start_time": "2021-06-20T12:21:22.540Z"
      },
      {
        "duration": 11880,
        "start_time": "2021-06-20T12:21:30.722Z"
      },
      {
        "duration": 880,
        "start_time": "2021-06-20T12:21:42.604Z"
      },
      {
        "duration": 173,
        "start_time": "2021-06-20T12:21:43.486Z"
      },
      {
        "duration": 106,
        "start_time": "2021-06-20T12:21:43.662Z"
      },
      {
        "duration": 485,
        "start_time": "2021-06-20T12:21:43.770Z"
      },
      {
        "duration": 1364,
        "start_time": "2021-06-20T12:21:44.257Z"
      },
      {
        "duration": 11,
        "start_time": "2021-06-20T12:21:45.623Z"
      },
      {
        "duration": 38,
        "start_time": "2021-06-20T12:21:45.636Z"
      },
      {
        "duration": 180,
        "start_time": "2021-06-20T12:21:45.676Z"
      },
      {
        "duration": 414,
        "start_time": "2021-06-20T12:21:45.858Z"
      },
      {
        "duration": 1521,
        "start_time": "2021-06-20T14:16:48.513Z"
      },
      {
        "duration": 54,
        "start_time": "2021-06-20T14:16:50.037Z"
      },
      {
        "duration": 11,
        "start_time": "2021-06-20T14:16:50.094Z"
      },
      {
        "duration": 17,
        "start_time": "2021-06-20T14:16:50.108Z"
      },
      {
        "duration": 42,
        "start_time": "2021-06-20T14:16:50.128Z"
      },
      {
        "duration": 8,
        "start_time": "2021-06-20T14:16:50.172Z"
      },
      {
        "duration": 21,
        "start_time": "2021-06-20T14:16:50.183Z"
      },
      {
        "duration": 253,
        "start_time": "2021-06-20T14:16:50.206Z"
      },
      {
        "duration": 6,
        "start_time": "2021-06-20T14:16:50.462Z"
      },
      {
        "duration": 19,
        "start_time": "2021-06-20T14:16:50.470Z"
      },
      {
        "duration": 184,
        "start_time": "2021-06-20T14:16:50.492Z"
      },
      {
        "duration": 1293,
        "start_time": "2021-06-20T14:16:50.678Z"
      },
      {
        "duration": 454,
        "start_time": "2021-06-20T14:16:51.974Z"
      },
      {
        "duration": 1003,
        "start_time": "2021-06-20T14:16:52.431Z"
      },
      {
        "duration": 37,
        "start_time": "2021-06-20T14:16:53.436Z"
      },
      {
        "duration": 8,
        "start_time": "2021-06-20T14:16:53.475Z"
      },
      {
        "duration": 34,
        "start_time": "2021-06-20T14:16:53.486Z"
      },
      {
        "duration": 5516,
        "start_time": "2021-06-20T14:16:53.522Z"
      },
      {
        "duration": 4798,
        "start_time": "2021-06-20T14:16:59.040Z"
      },
      {
        "duration": 823,
        "start_time": "2021-06-20T14:17:03.840Z"
      },
      {
        "duration": 342,
        "start_time": "2021-06-20T14:17:04.665Z"
      },
      {
        "duration": 56,
        "start_time": "2021-06-20T14:17:05.009Z"
      },
      {
        "duration": 197,
        "start_time": "2021-06-20T14:17:05.068Z"
      },
      {
        "duration": 2515,
        "start_time": "2021-06-20T14:17:05.268Z"
      },
      {
        "duration": 8168,
        "start_time": "2021-06-20T14:17:07.785Z"
      },
      {
        "duration": 11767,
        "start_time": "2021-06-20T14:17:15.956Z"
      },
      {
        "duration": 849,
        "start_time": "2021-06-20T14:17:27.727Z"
      },
      {
        "duration": 180,
        "start_time": "2021-06-20T14:17:28.579Z"
      },
      {
        "duration": 108,
        "start_time": "2021-06-20T14:17:28.762Z"
      },
      {
        "duration": 485,
        "start_time": "2021-06-20T14:17:28.873Z"
      },
      {
        "duration": 1368,
        "start_time": "2021-06-20T14:17:29.360Z"
      },
      {
        "duration": 24,
        "start_time": "2021-06-20T14:17:30.731Z"
      },
      {
        "duration": 35,
        "start_time": "2021-06-20T14:17:30.758Z"
      },
      {
        "duration": 60,
        "start_time": "2021-06-20T14:17:30.796Z"
      },
      {
        "duration": 499,
        "start_time": "2021-06-20T14:17:30.860Z"
      },
      {
        "duration": 6,
        "start_time": "2021-06-20T14:25:22.212Z"
      },
      {
        "duration": 394,
        "start_time": "2021-06-20T14:27:20.509Z"
      },
      {
        "duration": 10,
        "start_time": "2021-06-20T14:27:39.358Z"
      },
      {
        "duration": 10,
        "start_time": "2021-06-20T14:27:47.448Z"
      },
      {
        "duration": 167,
        "start_time": "2021-06-20T14:27:51.733Z"
      },
      {
        "duration": 1307,
        "start_time": "2021-06-20T14:27:52.870Z"
      },
      {
        "duration": 383,
        "start_time": "2021-06-20T14:27:54.180Z"
      },
      {
        "duration": 878,
        "start_time": "2021-06-20T14:27:55.464Z"
      },
      {
        "duration": 315,
        "start_time": "2021-06-20T14:28:31.900Z"
      },
      {
        "duration": 273,
        "start_time": "2021-06-20T14:28:46.052Z"
      },
      {
        "duration": 251,
        "start_time": "2021-06-20T14:29:16.694Z"
      },
      {
        "duration": 245,
        "start_time": "2021-06-20T14:29:28.554Z"
      },
      {
        "duration": 7,
        "start_time": "2021-06-20T14:29:48.550Z"
      },
      {
        "duration": 71,
        "start_time": "2021-06-20T14:32:27.843Z"
      },
      {
        "duration": 268,
        "start_time": "2021-06-20T14:40:09.121Z"
      },
      {
        "duration": 95,
        "start_time": "2021-06-20T14:40:30.136Z"
      },
      {
        "duration": 52,
        "start_time": "2021-06-20T14:40:30.325Z"
      },
      {
        "duration": 12,
        "start_time": "2021-06-20T14:40:30.481Z"
      },
      {
        "duration": 6,
        "start_time": "2021-06-20T14:40:30.813Z"
      },
      {
        "duration": 22,
        "start_time": "2021-06-20T14:40:30.975Z"
      },
      {
        "duration": 8,
        "start_time": "2021-06-20T14:40:31.316Z"
      },
      {
        "duration": 224,
        "start_time": "2021-06-20T14:40:31.501Z"
      },
      {
        "duration": 30,
        "start_time": "2021-06-20T14:40:31.727Z"
      },
      {
        "duration": 7,
        "start_time": "2021-06-20T14:40:31.837Z"
      },
      {
        "duration": 228,
        "start_time": "2021-06-20T14:40:32.159Z"
      },
      {
        "duration": 6,
        "start_time": "2021-06-20T14:40:32.390Z"
      },
      {
        "duration": 151,
        "start_time": "2021-06-20T14:40:32.508Z"
      },
      {
        "duration": 1298,
        "start_time": "2021-06-20T14:40:32.867Z"
      },
      {
        "duration": 380,
        "start_time": "2021-06-20T14:40:34.168Z"
      },
      {
        "duration": 387,
        "start_time": "2021-06-20T14:40:55.294Z"
      },
      {
        "duration": 175,
        "start_time": "2021-06-20T14:42:03.698Z"
      },
      {
        "duration": 971,
        "start_time": "2021-06-20T14:45:15.760Z"
      },
      {
        "duration": 4,
        "start_time": "2021-06-20T15:00:54.363Z"
      },
      {
        "duration": 728,
        "start_time": "2021-06-20T15:02:22.861Z"
      },
      {
        "duration": 397,
        "start_time": "2021-06-20T15:02:25.291Z"
      },
      {
        "duration": 107,
        "start_time": "2021-06-20T15:04:46.451Z"
      },
      {
        "duration": 36,
        "start_time": "2021-06-20T15:04:54.243Z"
      },
      {
        "duration": 666,
        "start_time": "2021-06-20T15:05:20.812Z"
      },
      {
        "duration": 402,
        "start_time": "2021-06-20T15:05:21.481Z"
      },
      {
        "duration": 5402,
        "start_time": "2021-06-20T15:06:05.746Z"
      },
      {
        "duration": 4850,
        "start_time": "2021-06-20T15:06:11.150Z"
      },
      {
        "duration": 704,
        "start_time": "2021-06-20T15:06:16.003Z"
      },
      {
        "duration": 416,
        "start_time": "2021-06-20T15:06:16.710Z"
      },
      {
        "duration": 5410,
        "start_time": "2021-06-20T15:06:17.725Z"
      },
      {
        "duration": 5262,
        "start_time": "2021-06-20T15:06:23.137Z"
      },
      {
        "duration": 702,
        "start_time": "2021-06-20T15:06:28.403Z"
      },
      {
        "duration": 422,
        "start_time": "2021-06-20T15:06:29.107Z"
      },
      {
        "duration": 124,
        "start_time": "2021-06-20T15:06:29.531Z"
      },
      {
        "duration": 11981,
        "start_time": "2021-06-20T15:21:02.631Z"
      },
      {
        "duration": 834,
        "start_time": "2021-06-20T15:21:14.615Z"
      },
      {
        "duration": 8433,
        "start_time": "2021-06-20T15:21:34.808Z"
      },
      {
        "duration": 1475,
        "start_time": "2021-06-20T15:21:56.199Z"
      },
      {
        "duration": 56,
        "start_time": "2021-06-20T15:21:57.676Z"
      },
      {
        "duration": 21,
        "start_time": "2021-06-20T15:21:57.735Z"
      },
      {
        "duration": 5,
        "start_time": "2021-06-20T15:21:57.758Z"
      },
      {
        "duration": 26,
        "start_time": "2021-06-20T15:21:57.765Z"
      },
      {
        "duration": 8,
        "start_time": "2021-06-20T15:21:57.793Z"
      },
      {
        "duration": 260,
        "start_time": "2021-06-20T15:21:57.804Z"
      },
      {
        "duration": 21,
        "start_time": "2021-06-20T15:21:58.068Z"
      },
      {
        "duration": 6,
        "start_time": "2021-06-20T15:21:58.092Z"
      },
      {
        "duration": 304,
        "start_time": "2021-06-20T15:21:58.101Z"
      },
      {
        "duration": 5,
        "start_time": "2021-06-20T15:21:58.408Z"
      },
      {
        "duration": 168,
        "start_time": "2021-06-20T15:21:58.415Z"
      },
      {
        "duration": 1281,
        "start_time": "2021-06-20T15:21:58.585Z"
      },
      {
        "duration": 555,
        "start_time": "2021-06-20T15:21:59.868Z"
      },
      {
        "duration": 1007,
        "start_time": "2021-06-20T15:22:00.426Z"
      },
      {
        "duration": 42,
        "start_time": "2021-06-20T15:22:01.436Z"
      },
      {
        "duration": 7,
        "start_time": "2021-06-20T15:22:01.480Z"
      },
      {
        "duration": 38,
        "start_time": "2021-06-20T15:22:01.490Z"
      },
      {
        "duration": 5652,
        "start_time": "2021-06-20T15:22:01.530Z"
      },
      {
        "duration": 4791,
        "start_time": "2021-06-20T15:22:07.185Z"
      },
      {
        "duration": 702,
        "start_time": "2021-06-20T15:22:11.978Z"
      },
      {
        "duration": 409,
        "start_time": "2021-06-20T15:22:12.683Z"
      },
      {
        "duration": 69,
        "start_time": "2021-06-20T15:22:13.097Z"
      },
      {
        "duration": 26,
        "start_time": "2021-06-20T15:22:13.257Z"
      },
      {
        "duration": 78,
        "start_time": "2021-06-20T15:22:13.285Z"
      },
      {
        "duration": 2470,
        "start_time": "2021-06-20T15:22:13.365Z"
      },
      {
        "duration": 8393,
        "start_time": "2021-06-20T15:22:15.838Z"
      },
      {
        "duration": 11983,
        "start_time": "2021-06-20T15:22:24.233Z"
      },
      {
        "duration": 854,
        "start_time": "2021-06-20T15:22:36.218Z"
      },
      {
        "duration": 186,
        "start_time": "2021-06-20T15:22:37.075Z"
      },
      {
        "duration": 567,
        "start_time": "2021-06-20T15:22:37.264Z"
      },
      {
        "duration": 1359,
        "start_time": "2021-06-20T15:22:37.834Z"
      },
      {
        "duration": 11,
        "start_time": "2021-06-20T15:22:39.195Z"
      },
      {
        "duration": 23,
        "start_time": "2021-06-20T15:22:39.208Z"
      },
      {
        "duration": 100,
        "start_time": "2021-06-20T15:22:39.256Z"
      },
      {
        "duration": 479,
        "start_time": "2021-06-20T15:22:39.361Z"
      },
      {
        "duration": 3,
        "start_time": "2021-06-20T15:26:41.651Z"
      },
      {
        "duration": 12,
        "start_time": "2021-06-20T15:33:53.299Z"
      },
      {
        "duration": 26,
        "start_time": "2021-06-20T15:34:23.125Z"
      },
      {
        "duration": 144,
        "start_time": "2021-06-20T15:34:59.914Z"
      },
      {
        "duration": 380,
        "start_time": "2021-06-20T15:37:13.780Z"
      },
      {
        "duration": 1524,
        "start_time": "2021-06-20T15:38:21.426Z"
      },
      {
        "duration": 60,
        "start_time": "2021-06-20T15:38:22.955Z"
      },
      {
        "duration": 14,
        "start_time": "2021-06-20T15:38:23.019Z"
      },
      {
        "duration": 21,
        "start_time": "2021-06-20T15:38:23.036Z"
      },
      {
        "duration": 23,
        "start_time": "2021-06-20T15:38:23.061Z"
      },
      {
        "duration": 10,
        "start_time": "2021-06-20T15:38:23.087Z"
      },
      {
        "duration": 275,
        "start_time": "2021-06-20T15:38:23.100Z"
      },
      {
        "duration": 20,
        "start_time": "2021-06-20T15:38:23.381Z"
      },
      {
        "duration": 6,
        "start_time": "2021-06-20T15:38:23.405Z"
      },
      {
        "duration": 259,
        "start_time": "2021-06-20T15:38:23.414Z"
      },
      {
        "duration": 6,
        "start_time": "2021-06-20T15:38:23.677Z"
      },
      {
        "duration": 172,
        "start_time": "2021-06-20T15:38:23.686Z"
      },
      {
        "duration": 1306,
        "start_time": "2021-06-20T15:38:23.860Z"
      },
      {
        "duration": 474,
        "start_time": "2021-06-20T15:38:25.168Z"
      },
      {
        "duration": 999,
        "start_time": "2021-06-20T15:38:25.645Z"
      },
      {
        "duration": 38,
        "start_time": "2021-06-20T15:38:26.647Z"
      },
      {
        "duration": 11,
        "start_time": "2021-06-20T15:38:26.688Z"
      },
      {
        "duration": 68,
        "start_time": "2021-06-20T15:38:26.701Z"
      },
      {
        "duration": 5727,
        "start_time": "2021-06-20T15:38:26.772Z"
      },
      {
        "duration": 5149,
        "start_time": "2021-06-20T15:38:32.502Z"
      },
      {
        "duration": 720,
        "start_time": "2021-06-20T15:38:37.656Z"
      },
      {
        "duration": 437,
        "start_time": "2021-06-20T15:38:38.378Z"
      },
      {
        "duration": 146,
        "start_time": "2021-06-20T15:38:38.820Z"
      },
      {
        "duration": 105,
        "start_time": "2021-06-20T15:38:38.969Z"
      },
      {
        "duration": 16,
        "start_time": "2021-06-20T15:38:39.076Z"
      },
      {
        "duration": 2551,
        "start_time": "2021-06-20T15:38:39.094Z"
      },
      {
        "duration": 8408,
        "start_time": "2021-06-20T15:38:41.647Z"
      },
      {
        "duration": 12043,
        "start_time": "2021-06-20T15:38:50.057Z"
      },
      {
        "duration": 848,
        "start_time": "2021-06-20T15:39:02.103Z"
      },
      {
        "duration": 139,
        "start_time": "2021-06-20T15:39:02.956Z"
      },
      {
        "duration": 580,
        "start_time": "2021-06-20T15:39:03.160Z"
      },
      {
        "duration": 1384,
        "start_time": "2021-06-20T15:39:03.742Z"
      },
      {
        "duration": 10,
        "start_time": "2021-06-20T15:39:05.129Z"
      },
      {
        "duration": 24,
        "start_time": "2021-06-20T15:39:05.155Z"
      },
      {
        "duration": 80,
        "start_time": "2021-06-20T15:39:05.181Z"
      },
      {
        "duration": 485,
        "start_time": "2021-06-20T15:39:05.265Z"
      },
      {
        "duration": 1648,
        "start_time": "2021-06-20T15:48:01.715Z"
      },
      {
        "duration": 56,
        "start_time": "2021-06-20T15:48:03.365Z"
      },
      {
        "duration": 12,
        "start_time": "2021-06-20T15:48:03.424Z"
      },
      {
        "duration": 18,
        "start_time": "2021-06-20T15:48:03.439Z"
      },
      {
        "duration": 27,
        "start_time": "2021-06-20T15:48:03.459Z"
      },
      {
        "duration": 9,
        "start_time": "2021-06-20T15:48:03.488Z"
      },
      {
        "duration": 263,
        "start_time": "2021-06-20T15:48:03.499Z"
      },
      {
        "duration": 18,
        "start_time": "2021-06-20T15:48:03.766Z"
      },
      {
        "duration": 6,
        "start_time": "2021-06-20T15:48:03.787Z"
      },
      {
        "duration": 10,
        "start_time": "2021-06-20T15:48:03.795Z"
      },
      {
        "duration": 186,
        "start_time": "2021-06-20T15:48:03.807Z"
      },
      {
        "duration": 1390,
        "start_time": "2021-06-20T15:48:03.995Z"
      },
      {
        "duration": 602,
        "start_time": "2021-06-20T15:48:05.387Z"
      },
      {
        "duration": 1007,
        "start_time": "2021-06-20T15:48:05.992Z"
      },
      {
        "duration": 31,
        "start_time": "2021-06-20T15:48:07.001Z"
      },
      {
        "duration": 26,
        "start_time": "2021-06-20T15:48:07.034Z"
      },
      {
        "duration": 35,
        "start_time": "2021-06-20T15:48:07.062Z"
      },
      {
        "duration": 5312,
        "start_time": "2021-06-20T15:48:07.100Z"
      },
      {
        "duration": 4972,
        "start_time": "2021-06-20T15:48:12.415Z"
      },
      {
        "duration": 725,
        "start_time": "2021-06-20T15:48:17.389Z"
      },
      {
        "duration": 423,
        "start_time": "2021-06-20T15:48:18.117Z"
      },
      {
        "duration": 114,
        "start_time": "2021-06-20T15:48:18.542Z"
      },
      {
        "duration": 114,
        "start_time": "2021-06-20T15:48:18.664Z"
      },
      {
        "duration": 17,
        "start_time": "2021-06-20T15:48:18.781Z"
      },
      {
        "duration": 2557,
        "start_time": "2021-06-20T15:48:18.800Z"
      },
      {
        "duration": 8689,
        "start_time": "2021-06-20T15:48:21.359Z"
      },
      {
        "duration": 12229,
        "start_time": "2021-06-20T15:48:30.061Z"
      },
      {
        "duration": 864,
        "start_time": "2021-06-20T15:48:42.293Z"
      },
      {
        "duration": 202,
        "start_time": "2021-06-20T15:48:43.161Z"
      },
      {
        "duration": 658,
        "start_time": "2021-06-20T15:48:43.366Z"
      },
      {
        "duration": 1396,
        "start_time": "2021-06-20T15:48:44.027Z"
      },
      {
        "duration": 10,
        "start_time": "2021-06-20T15:48:45.426Z"
      },
      {
        "duration": 41,
        "start_time": "2021-06-20T15:48:45.438Z"
      },
      {
        "duration": 91,
        "start_time": "2021-06-20T15:48:45.481Z"
      },
      {
        "duration": 412,
        "start_time": "2021-06-20T15:48:45.657Z"
      },
      {
        "duration": 1546,
        "start_time": "2021-06-20T15:51:20.072Z"
      },
      {
        "duration": 55,
        "start_time": "2021-06-20T15:51:21.621Z"
      },
      {
        "duration": 11,
        "start_time": "2021-06-20T15:51:21.679Z"
      },
      {
        "duration": 7,
        "start_time": "2021-06-20T15:51:21.693Z"
      },
      {
        "duration": 29,
        "start_time": "2021-06-20T15:51:21.703Z"
      },
      {
        "duration": 29,
        "start_time": "2021-06-20T15:51:21.734Z"
      },
      {
        "duration": 243,
        "start_time": "2021-06-20T15:51:21.765Z"
      },
      {
        "duration": 18,
        "start_time": "2021-06-20T15:51:22.012Z"
      },
      {
        "duration": 23,
        "start_time": "2021-06-20T15:51:22.033Z"
      },
      {
        "duration": 8,
        "start_time": "2021-06-20T15:51:22.059Z"
      },
      {
        "duration": 165,
        "start_time": "2021-06-20T15:51:22.069Z"
      },
      {
        "duration": 1255,
        "start_time": "2021-06-20T15:51:22.236Z"
      },
      {
        "duration": 450,
        "start_time": "2021-06-20T15:51:23.494Z"
      },
      {
        "duration": 1002,
        "start_time": "2021-06-20T15:51:23.947Z"
      },
      {
        "duration": 31,
        "start_time": "2021-06-20T15:51:24.956Z"
      },
      {
        "duration": 8,
        "start_time": "2021-06-20T15:51:24.989Z"
      },
      {
        "duration": 62,
        "start_time": "2021-06-20T15:51:24.999Z"
      },
      {
        "duration": 5313,
        "start_time": "2021-06-20T15:51:25.064Z"
      },
      {
        "duration": 4868,
        "start_time": "2021-06-20T15:51:30.380Z"
      },
      {
        "duration": 690,
        "start_time": "2021-06-20T15:51:35.251Z"
      },
      {
        "duration": 407,
        "start_time": "2021-06-20T15:51:35.943Z"
      },
      {
        "duration": 105,
        "start_time": "2021-06-20T15:51:36.352Z"
      },
      {
        "duration": 115,
        "start_time": "2021-06-20T15:51:36.465Z"
      },
      {
        "duration": 18,
        "start_time": "2021-06-20T15:51:36.583Z"
      },
      {
        "duration": 2514,
        "start_time": "2021-06-20T15:51:36.604Z"
      },
      {
        "duration": 8472,
        "start_time": "2021-06-20T15:51:39.121Z"
      },
      {
        "duration": 12184,
        "start_time": "2021-06-20T15:51:47.596Z"
      },
      {
        "duration": 857,
        "start_time": "2021-06-20T15:51:59.783Z"
      },
      {
        "duration": 213,
        "start_time": "2021-06-20T15:52:00.643Z"
      },
      {
        "duration": 573,
        "start_time": "2021-06-20T15:52:00.860Z"
      },
      {
        "duration": 1363,
        "start_time": "2021-06-20T15:52:01.435Z"
      },
      {
        "duration": 10,
        "start_time": "2021-06-20T15:52:02.801Z"
      },
      {
        "duration": 45,
        "start_time": "2021-06-20T15:52:02.813Z"
      },
      {
        "duration": 16,
        "start_time": "2021-06-20T15:52:02.860Z"
      },
      {
        "duration": 467,
        "start_time": "2021-06-20T15:52:02.958Z"
      },
      {
        "duration": 1674,
        "start_time": "2021-06-20T15:54:14.790Z"
      },
      {
        "duration": 106,
        "start_time": "2021-06-20T15:54:16.467Z"
      },
      {
        "duration": 14,
        "start_time": "2021-06-20T15:54:16.576Z"
      },
      {
        "duration": 5,
        "start_time": "2021-06-20T15:54:16.593Z"
      },
      {
        "duration": 20,
        "start_time": "2021-06-20T15:54:16.601Z"
      },
      {
        "duration": 9,
        "start_time": "2021-06-20T15:54:16.656Z"
      },
      {
        "duration": 313,
        "start_time": "2021-06-20T15:54:16.668Z"
      },
      {
        "duration": 19,
        "start_time": "2021-06-20T15:54:16.985Z"
      },
      {
        "duration": 6,
        "start_time": "2021-06-20T15:54:17.006Z"
      },
      {
        "duration": 10,
        "start_time": "2021-06-20T15:54:17.014Z"
      },
      {
        "duration": 168,
        "start_time": "2021-06-20T15:54:17.026Z"
      },
      {
        "duration": 1338,
        "start_time": "2021-06-20T15:54:17.196Z"
      },
      {
        "duration": 449,
        "start_time": "2021-06-20T15:54:18.537Z"
      },
      {
        "duration": 981,
        "start_time": "2021-06-20T15:54:18.988Z"
      },
      {
        "duration": 31,
        "start_time": "2021-06-20T15:54:19.971Z"
      },
      {
        "duration": 8,
        "start_time": "2021-06-20T15:54:20.005Z"
      },
      {
        "duration": 66,
        "start_time": "2021-06-20T15:54:20.015Z"
      },
      {
        "duration": 5175,
        "start_time": "2021-06-20T15:54:20.083Z"
      },
      {
        "duration": 4828,
        "start_time": "2021-06-20T15:54:25.261Z"
      },
      {
        "duration": 704,
        "start_time": "2021-06-20T15:54:30.092Z"
      },
      {
        "duration": 402,
        "start_time": "2021-06-20T15:54:30.798Z"
      },
      {
        "duration": 63,
        "start_time": "2021-06-20T15:54:31.202Z"
      },
      {
        "duration": 103,
        "start_time": "2021-06-20T15:54:31.362Z"
      },
      {
        "duration": 16,
        "start_time": "2021-06-20T15:54:31.467Z"
      },
      {
        "duration": 2525,
        "start_time": "2021-06-20T15:54:31.485Z"
      },
      {
        "duration": 8234,
        "start_time": "2021-06-20T15:54:34.013Z"
      },
      {
        "duration": 11863,
        "start_time": "2021-06-20T15:54:42.249Z"
      },
      {
        "duration": 828,
        "start_time": "2021-06-20T15:54:54.115Z"
      },
      {
        "duration": 215,
        "start_time": "2021-06-20T15:54:54.946Z"
      },
      {
        "duration": 582,
        "start_time": "2021-06-20T15:54:55.165Z"
      },
      {
        "duration": 1392,
        "start_time": "2021-06-20T15:54:55.749Z"
      },
      {
        "duration": 16,
        "start_time": "2021-06-20T15:54:57.143Z"
      },
      {
        "duration": 27,
        "start_time": "2021-06-20T15:54:57.162Z"
      },
      {
        "duration": 69,
        "start_time": "2021-06-20T15:54:57.192Z"
      },
      {
        "duration": 498,
        "start_time": "2021-06-20T15:54:57.265Z"
      },
      {
        "duration": 3,
        "start_time": "2021-06-20T15:57:35.462Z"
      },
      {
        "duration": 209,
        "start_time": "2021-06-20T16:06:26.664Z"
      },
      {
        "duration": 1518,
        "start_time": "2021-06-20T16:08:01.530Z"
      },
      {
        "duration": 57,
        "start_time": "2021-06-20T16:08:03.050Z"
      },
      {
        "duration": 11,
        "start_time": "2021-06-20T16:08:03.110Z"
      },
      {
        "duration": 6,
        "start_time": "2021-06-20T16:08:03.124Z"
      },
      {
        "duration": 43,
        "start_time": "2021-06-20T16:08:03.132Z"
      },
      {
        "duration": 9,
        "start_time": "2021-06-20T16:08:03.178Z"
      },
      {
        "duration": 243,
        "start_time": "2021-06-20T16:08:03.189Z"
      },
      {
        "duration": 30,
        "start_time": "2021-06-20T16:08:03.434Z"
      },
      {
        "duration": 6,
        "start_time": "2021-06-20T16:08:03.468Z"
      },
      {
        "duration": 8,
        "start_time": "2021-06-20T16:08:03.477Z"
      },
      {
        "duration": 168,
        "start_time": "2021-06-20T16:08:03.488Z"
      },
      {
        "duration": 1343,
        "start_time": "2021-06-20T16:08:03.658Z"
      },
      {
        "duration": 525,
        "start_time": "2021-06-20T16:08:05.003Z"
      },
      {
        "duration": 1030,
        "start_time": "2021-06-20T16:08:05.557Z"
      },
      {
        "duration": 31,
        "start_time": "2021-06-20T16:08:06.589Z"
      },
      {
        "duration": 33,
        "start_time": "2021-06-20T16:08:06.623Z"
      },
      {
        "duration": 39,
        "start_time": "2021-06-20T16:08:06.658Z"
      },
      {
        "duration": 5228,
        "start_time": "2021-06-20T16:08:06.700Z"
      },
      {
        "duration": 4826,
        "start_time": "2021-06-20T16:08:11.931Z"
      },
      {
        "duration": 708,
        "start_time": "2021-06-20T16:08:16.759Z"
      },
      {
        "duration": 415,
        "start_time": "2021-06-20T16:08:17.469Z"
      },
      {
        "duration": 79,
        "start_time": "2021-06-20T16:08:17.886Z"
      },
      {
        "duration": 25,
        "start_time": "2021-06-20T16:08:18.057Z"
      },
      {
        "duration": 17,
        "start_time": "2021-06-20T16:08:18.084Z"
      },
      {
        "duration": 2553,
        "start_time": "2021-06-20T16:08:18.103Z"
      },
      {
        "duration": 8124,
        "start_time": "2021-06-20T16:08:20.658Z"
      },
      {
        "duration": 11807,
        "start_time": "2021-06-20T16:08:28.787Z"
      },
      {
        "duration": 818,
        "start_time": "2021-06-20T16:08:40.597Z"
      },
      {
        "duration": 150,
        "start_time": "2021-06-20T16:08:41.417Z"
      },
      {
        "duration": 566,
        "start_time": "2021-06-20T16:08:41.660Z"
      },
      {
        "duration": 1390,
        "start_time": "2021-06-20T16:08:42.229Z"
      },
      {
        "duration": 10,
        "start_time": "2021-06-20T16:08:43.622Z"
      },
      {
        "duration": 36,
        "start_time": "2021-06-20T16:08:43.634Z"
      },
      {
        "duration": 88,
        "start_time": "2021-06-20T16:08:43.673Z"
      },
      {
        "duration": 491,
        "start_time": "2021-06-20T16:08:43.765Z"
      },
      {
        "duration": 1477,
        "start_time": "2021-06-20T16:32:56.989Z"
      },
      {
        "duration": 56,
        "start_time": "2021-06-20T16:32:58.469Z"
      },
      {
        "duration": 12,
        "start_time": "2021-06-20T16:32:58.527Z"
      },
      {
        "duration": 16,
        "start_time": "2021-06-20T16:32:58.542Z"
      },
      {
        "duration": 24,
        "start_time": "2021-06-20T16:32:58.560Z"
      },
      {
        "duration": 8,
        "start_time": "2021-06-20T16:32:58.586Z"
      },
      {
        "duration": 249,
        "start_time": "2021-06-20T16:32:58.597Z"
      },
      {
        "duration": 22,
        "start_time": "2021-06-20T16:32:58.849Z"
      },
      {
        "duration": 5,
        "start_time": "2021-06-20T16:32:58.875Z"
      },
      {
        "duration": 7,
        "start_time": "2021-06-20T16:32:58.883Z"
      },
      {
        "duration": 180,
        "start_time": "2021-06-20T16:32:58.892Z"
      },
      {
        "duration": 1340,
        "start_time": "2021-06-20T16:32:59.075Z"
      },
      {
        "duration": 477,
        "start_time": "2021-06-20T16:33:00.417Z"
      },
      {
        "duration": 999,
        "start_time": "2021-06-20T16:33:00.897Z"
      },
      {
        "duration": 30,
        "start_time": "2021-06-20T16:33:01.899Z"
      },
      {
        "duration": 25,
        "start_time": "2021-06-20T16:33:01.932Z"
      },
      {
        "duration": 41,
        "start_time": "2021-06-20T16:33:01.959Z"
      },
      {
        "duration": 5499,
        "start_time": "2021-06-20T16:33:02.002Z"
      },
      {
        "duration": 4775,
        "start_time": "2021-06-20T16:33:07.504Z"
      },
      {
        "duration": 695,
        "start_time": "2021-06-20T16:33:12.281Z"
      },
      {
        "duration": 425,
        "start_time": "2021-06-20T16:33:12.978Z"
      },
      {
        "duration": 59,
        "start_time": "2021-06-20T16:33:13.405Z"
      },
      {
        "duration": 200,
        "start_time": "2021-06-20T16:33:13.468Z"
      },
      {
        "duration": 16,
        "start_time": "2021-06-20T16:33:13.671Z"
      },
      {
        "duration": 2553,
        "start_time": "2021-06-20T16:33:13.689Z"
      },
      {
        "duration": 8159,
        "start_time": "2021-06-20T16:33:16.245Z"
      },
      {
        "duration": 11883,
        "start_time": "2021-06-20T16:33:24.409Z"
      },
      {
        "duration": 849,
        "start_time": "2021-06-20T16:33:36.295Z"
      },
      {
        "duration": 210,
        "start_time": "2021-06-20T16:33:37.147Z"
      },
      {
        "duration": 572,
        "start_time": "2021-06-20T16:33:37.360Z"
      },
      {
        "duration": 1379,
        "start_time": "2021-06-20T16:33:37.934Z"
      },
      {
        "duration": 10,
        "start_time": "2021-06-20T16:33:39.316Z"
      },
      {
        "duration": 46,
        "start_time": "2021-06-20T16:33:39.328Z"
      },
      {
        "duration": 86,
        "start_time": "2021-06-20T16:33:39.376Z"
      },
      {
        "duration": 492,
        "start_time": "2021-06-20T16:33:39.466Z"
      },
      {
        "duration": 1714,
        "start_time": "2021-06-20T16:34:05.251Z"
      },
      {
        "duration": 58,
        "start_time": "2021-06-20T16:34:06.967Z"
      },
      {
        "duration": 27,
        "start_time": "2021-06-20T16:34:07.029Z"
      },
      {
        "duration": 7,
        "start_time": "2021-06-20T16:34:07.060Z"
      },
      {
        "duration": 86,
        "start_time": "2021-06-20T16:34:07.070Z"
      },
      {
        "duration": 11,
        "start_time": "2021-06-20T16:34:07.159Z"
      },
      {
        "duration": 402,
        "start_time": "2021-06-20T16:34:07.173Z"
      },
      {
        "duration": 80,
        "start_time": "2021-06-20T16:34:07.578Z"
      },
      {
        "duration": 7,
        "start_time": "2021-06-20T16:34:07.665Z"
      },
      {
        "duration": 17,
        "start_time": "2021-06-20T16:34:07.675Z"
      },
      {
        "duration": 172,
        "start_time": "2021-06-20T16:34:07.695Z"
      },
      {
        "duration": 1359,
        "start_time": "2021-06-20T16:34:07.870Z"
      },
      {
        "duration": 455,
        "start_time": "2021-06-20T16:34:09.232Z"
      },
      {
        "duration": 1002,
        "start_time": "2021-06-20T16:34:09.689Z"
      },
      {
        "duration": 32,
        "start_time": "2021-06-20T16:34:10.694Z"
      },
      {
        "duration": 28,
        "start_time": "2021-06-20T16:34:10.729Z"
      },
      {
        "duration": 34,
        "start_time": "2021-06-20T16:34:10.759Z"
      },
      {
        "duration": 5396,
        "start_time": "2021-06-20T16:34:10.795Z"
      },
      {
        "duration": 4961,
        "start_time": "2021-06-20T16:34:16.194Z"
      },
      {
        "duration": 685,
        "start_time": "2021-06-20T16:34:21.158Z"
      },
      {
        "duration": 412,
        "start_time": "2021-06-20T16:34:21.845Z"
      },
      {
        "duration": 100,
        "start_time": "2021-06-20T16:34:22.260Z"
      },
      {
        "duration": 114,
        "start_time": "2021-06-20T16:34:22.363Z"
      },
      {
        "duration": 15,
        "start_time": "2021-06-20T16:34:22.480Z"
      },
      {
        "duration": 2638,
        "start_time": "2021-06-20T16:34:22.498Z"
      },
      {
        "duration": 8626,
        "start_time": "2021-06-20T16:34:25.139Z"
      },
      {
        "duration": 12179,
        "start_time": "2021-06-20T16:34:33.771Z"
      },
      {
        "duration": 827,
        "start_time": "2021-06-20T16:34:45.957Z"
      },
      {
        "duration": 174,
        "start_time": "2021-06-20T16:34:46.787Z"
      },
      {
        "duration": 582,
        "start_time": "2021-06-20T16:34:46.965Z"
      },
      {
        "duration": 1383,
        "start_time": "2021-06-20T16:34:47.549Z"
      },
      {
        "duration": 23,
        "start_time": "2021-06-20T16:34:48.935Z"
      },
      {
        "duration": 23,
        "start_time": "2021-06-20T16:34:48.960Z"
      },
      {
        "duration": 78,
        "start_time": "2021-06-20T16:34:48.985Z"
      },
      {
        "duration": 406,
        "start_time": "2021-06-20T16:34:49.156Z"
      },
      {
        "duration": 1116,
        "start_time": "2021-06-21T05:13:51.720Z"
      },
      {
        "duration": 41,
        "start_time": "2021-06-21T05:13:52.838Z"
      },
      {
        "duration": 9,
        "start_time": "2021-06-21T05:13:52.882Z"
      },
      {
        "duration": 56,
        "start_time": "2021-06-21T05:14:38.285Z"
      },
      {
        "duration": 4,
        "start_time": "2021-06-21T05:14:45.358Z"
      },
      {
        "duration": 15,
        "start_time": "2021-06-21T05:14:46.103Z"
      },
      {
        "duration": 7,
        "start_time": "2021-06-21T05:14:48.457Z"
      },
      {
        "duration": 141,
        "start_time": "2021-06-21T05:14:49.286Z"
      },
      {
        "duration": 15,
        "start_time": "2021-06-21T05:14:49.950Z"
      },
      {
        "duration": 5,
        "start_time": "2021-06-21T05:14:50.260Z"
      },
      {
        "duration": 4,
        "start_time": "2021-06-21T05:14:50.680Z"
      },
      {
        "duration": 95,
        "start_time": "2021-06-21T05:14:51.117Z"
      },
      {
        "duration": 786,
        "start_time": "2021-06-21T05:14:51.524Z"
      },
      {
        "duration": 294,
        "start_time": "2021-06-21T05:14:52.312Z"
      },
      {
        "duration": 633,
        "start_time": "2021-06-21T05:14:52.608Z"
      },
      {
        "duration": 18,
        "start_time": "2021-06-21T05:22:27.440Z"
      },
      {
        "duration": 6,
        "start_time": "2021-06-21T05:22:28.760Z"
      },
      {
        "duration": 22,
        "start_time": "2021-06-21T05:22:29.959Z"
      },
      {
        "duration": 3372,
        "start_time": "2021-06-21T05:24:01.404Z"
      },
      {
        "duration": 3022,
        "start_time": "2021-06-21T05:24:04.778Z"
      },
      {
        "duration": 476,
        "start_time": "2021-06-21T05:24:59.421Z"
      },
      {
        "duration": 278,
        "start_time": "2021-06-21T05:25:00.456Z"
      },
      {
        "duration": 33,
        "start_time": "2021-06-21T05:25:01.951Z"
      },
      {
        "duration": 18,
        "start_time": "2021-06-21T05:32:46.297Z"
      },
      {
        "duration": 11,
        "start_time": "2021-06-21T05:32:49.922Z"
      },
      {
        "duration": 1332,
        "start_time": "2021-06-21T05:33:18.835Z"
      },
      {
        "duration": 4233,
        "start_time": "2021-06-21T05:33:25.688Z"
      },
      {
        "duration": 6069,
        "start_time": "2021-06-21T05:33:33.036Z"
      },
      {
        "duration": 450,
        "start_time": "2021-06-21T05:33:39.107Z"
      },
      {
        "duration": 6128,
        "start_time": "2021-06-21T05:37:10.299Z"
      },
      {
        "duration": 433,
        "start_time": "2021-06-21T05:37:22.755Z"
      },
      {
        "duration": 6096,
        "start_time": "2021-06-21T05:37:42.557Z"
      },
      {
        "duration": 4190,
        "start_time": "2021-06-21T05:37:56.059Z"
      },
      {
        "duration": 6150,
        "start_time": "2021-06-21T05:38:03.026Z"
      },
      {
        "duration": 443,
        "start_time": "2021-06-21T05:38:09.178Z"
      },
      {
        "duration": 6159,
        "start_time": "2021-06-21T05:38:35.738Z"
      },
      {
        "duration": 428,
        "start_time": "2021-06-21T05:38:47.864Z"
      },
      {
        "duration": 97,
        "start_time": "2021-06-21T05:41:14.795Z"
      },
      {
        "duration": 328,
        "start_time": "2021-06-21T05:41:31.771Z"
      },
      {
        "duration": 928,
        "start_time": "2021-06-21T05:41:33.268Z"
      },
      {
        "duration": 6065,
        "start_time": "2021-06-21T05:43:44.146Z"
      },
      {
        "duration": 425,
        "start_time": "2021-06-21T05:43:51.900Z"
      },
      {
        "duration": 4361,
        "start_time": "2021-06-21T05:44:43.623Z"
      },
      {
        "duration": 6166,
        "start_time": "2021-06-21T05:46:54.927Z"
      },
      {
        "duration": 423,
        "start_time": "2021-06-21T05:47:05.267Z"
      },
      {
        "duration": 6124,
        "start_time": "2021-06-21T05:47:49.285Z"
      },
      {
        "duration": 4265,
        "start_time": "2021-06-21T05:47:58.492Z"
      },
      {
        "duration": 6288,
        "start_time": "2021-06-21T05:48:06.473Z"
      },
      {
        "duration": 434,
        "start_time": "2021-06-21T05:48:29.163Z"
      },
      {
        "duration": 6215,
        "start_time": "2021-06-21T05:48:53.839Z"
      },
      {
        "duration": 445,
        "start_time": "2021-06-21T05:49:00.056Z"
      },
      {
        "duration": 8,
        "start_time": "2021-06-21T05:55:55.420Z"
      },
      {
        "duration": 17,
        "start_time": "2021-06-21T05:55:56.414Z"
      },
      {
        "duration": 11,
        "start_time": "2021-06-21T05:55:57.447Z"
      },
      {
        "duration": 240,
        "start_time": "2021-06-21T05:56:07.159Z"
      },
      {
        "duration": 6,
        "start_time": "2021-06-22T12:44:43.921Z"
      },
      {
        "duration": 50,
        "start_time": "2021-06-22T12:44:44.088Z"
      },
      {
        "duration": 11,
        "start_time": "2021-06-22T12:44:44.425Z"
      },
      {
        "duration": 5,
        "start_time": "2021-06-22T12:44:45.200Z"
      },
      {
        "duration": 22,
        "start_time": "2021-06-22T12:44:45.384Z"
      },
      {
        "duration": 8,
        "start_time": "2021-06-22T12:44:45.952Z"
      },
      {
        "duration": 217,
        "start_time": "2021-06-22T12:44:46.136Z"
      },
      {
        "duration": 17,
        "start_time": "2021-06-22T12:44:46.496Z"
      },
      {
        "duration": 6,
        "start_time": "2021-06-22T12:44:46.679Z"
      },
      {
        "duration": 5,
        "start_time": "2021-06-22T12:44:47.024Z"
      },
      {
        "duration": 240,
        "start_time": "2021-06-22T12:44:47.751Z"
      },
      {
        "duration": 1350,
        "start_time": "2021-06-22T12:44:48.335Z"
      },
      {
        "duration": 409,
        "start_time": "2021-06-22T12:44:49.688Z"
      },
      {
        "duration": 1127,
        "start_time": "2021-06-22T12:44:50.100Z"
      },
      {
        "duration": 31,
        "start_time": "2021-06-22T12:44:51.815Z"
      },
      {
        "duration": 410,
        "start_time": "2021-06-22T12:44:53.007Z"
      },
      {
        "duration": 11,
        "start_time": "2021-06-22T12:45:09.951Z"
      },
      {
        "duration": 30,
        "start_time": "2021-06-22T12:45:17.664Z"
      },
      {
        "duration": 37,
        "start_time": "2021-06-22T12:46:33.473Z"
      },
      {
        "duration": 300,
        "start_time": "2021-06-22T12:46:38.392Z"
      },
      {
        "duration": 251,
        "start_time": "2021-06-22T12:46:38.912Z"
      },
      {
        "duration": 1490,
        "start_time": "2021-06-22T12:46:57.544Z"
      },
      {
        "duration": 55,
        "start_time": "2021-06-22T12:46:59.037Z"
      },
      {
        "duration": 18,
        "start_time": "2021-06-22T12:46:59.095Z"
      },
      {
        "duration": 6,
        "start_time": "2021-06-22T12:46:59.116Z"
      },
      {
        "duration": 23,
        "start_time": "2021-06-22T12:46:59.124Z"
      },
      {
        "duration": 9,
        "start_time": "2021-06-22T12:46:59.150Z"
      },
      {
        "duration": 270,
        "start_time": "2021-06-22T12:46:59.161Z"
      },
      {
        "duration": 19,
        "start_time": "2021-06-22T12:46:59.434Z"
      },
      {
        "duration": 6,
        "start_time": "2021-06-22T12:46:59.456Z"
      },
      {
        "duration": 5,
        "start_time": "2021-06-22T12:46:59.465Z"
      },
      {
        "duration": 196,
        "start_time": "2021-06-22T12:46:59.472Z"
      },
      {
        "duration": 1311,
        "start_time": "2021-06-22T12:46:59.671Z"
      },
      {
        "duration": 455,
        "start_time": "2021-06-22T12:47:00.985Z"
      },
      {
        "duration": 1031,
        "start_time": "2021-06-22T12:47:01.443Z"
      },
      {
        "duration": 43,
        "start_time": "2021-06-22T12:47:02.476Z"
      },
      {
        "duration": 9,
        "start_time": "2021-06-22T12:47:02.522Z"
      },
      {
        "duration": 391,
        "start_time": "2021-06-22T12:47:02.534Z"
      },
      {
        "duration": 1336,
        "start_time": "2021-06-22T12:47:01.592Z"
      },
      {
        "duration": 1333,
        "start_time": "2021-06-22T12:47:01.596Z"
      },
      {
        "duration": 1329,
        "start_time": "2021-06-22T12:47:01.602Z"
      },
      {
        "duration": 1322,
        "start_time": "2021-06-22T12:47:01.610Z"
      },
      {
        "duration": 1319,
        "start_time": "2021-06-22T12:47:01.614Z"
      },
      {
        "duration": 1315,
        "start_time": "2021-06-22T12:47:01.619Z"
      },
      {
        "duration": 1314,
        "start_time": "2021-06-22T12:47:01.622Z"
      },
      {
        "duration": 1312,
        "start_time": "2021-06-22T12:47:01.625Z"
      },
      {
        "duration": 1311,
        "start_time": "2021-06-22T12:47:01.627Z"
      },
      {
        "duration": 1309,
        "start_time": "2021-06-22T12:47:01.630Z"
      },
      {
        "duration": 1306,
        "start_time": "2021-06-22T12:47:01.635Z"
      },
      {
        "duration": 1304,
        "start_time": "2021-06-22T12:47:01.638Z"
      },
      {
        "duration": 1302,
        "start_time": "2021-06-22T12:47:01.641Z"
      },
      {
        "duration": 1300,
        "start_time": "2021-06-22T12:47:01.644Z"
      },
      {
        "duration": 1290,
        "start_time": "2021-06-22T12:47:01.655Z"
      },
      {
        "duration": 1287,
        "start_time": "2021-06-22T12:47:01.659Z"
      },
      {
        "duration": 1285,
        "start_time": "2021-06-22T12:47:01.663Z"
      },
      {
        "duration": 1282,
        "start_time": "2021-06-22T12:47:01.667Z"
      },
      {
        "duration": 7240,
        "start_time": "2021-06-22T12:47:59.831Z"
      },
      {
        "duration": 1337,
        "start_time": "2021-06-22T12:48:05.736Z"
      },
      {
        "duration": 1335,
        "start_time": "2021-06-22T12:48:05.740Z"
      },
      {
        "duration": 6709,
        "start_time": "2021-06-22T12:48:08.495Z"
      },
      {
        "duration": 8,
        "start_time": "2021-06-22T12:48:26.400Z"
      },
      {
        "duration": 39,
        "start_time": "2021-06-22T12:48:28.575Z"
      },
      {
        "duration": 254,
        "start_time": "2021-06-22T12:48:31.798Z"
      },
      {
        "duration": 10,
        "start_time": "2021-06-22T13:05:31.018Z"
      },
      {
        "duration": 37,
        "start_time": "2021-06-22T13:05:31.739Z"
      },
      {
        "duration": 6,
        "start_time": "2021-06-22T13:05:36.187Z"
      },
      {
        "duration": 50,
        "start_time": "2021-06-22T13:05:36.378Z"
      },
      {
        "duration": 13,
        "start_time": "2021-06-22T13:05:36.698Z"
      },
      {
        "duration": 5,
        "start_time": "2021-06-22T13:05:37.219Z"
      },
      {
        "duration": 23,
        "start_time": "2021-06-22T13:05:37.395Z"
      },
      {
        "duration": 9,
        "start_time": "2021-06-22T13:05:37.922Z"
      },
      {
        "duration": 229,
        "start_time": "2021-06-22T13:05:38.100Z"
      },
      {
        "duration": 18,
        "start_time": "2021-06-22T13:05:38.482Z"
      },
      {
        "duration": 7,
        "start_time": "2021-06-22T13:05:38.657Z"
      },
      {
        "duration": 6,
        "start_time": "2021-06-22T13:05:39.025Z"
      },
      {
        "duration": 157,
        "start_time": "2021-06-22T13:05:39.883Z"
      },
      {
        "duration": 1319,
        "start_time": "2021-06-22T13:05:40.754Z"
      },
      {
        "duration": 412,
        "start_time": "2021-06-22T13:05:42.075Z"
      },
      {
        "duration": 1049,
        "start_time": "2021-06-22T13:05:42.490Z"
      },
      {
        "duration": 31,
        "start_time": "2021-06-22T13:05:43.542Z"
      },
      {
        "duration": 11,
        "start_time": "2021-06-22T13:05:43.907Z"
      },
      {
        "duration": 38,
        "start_time": "2021-06-22T13:05:44.577Z"
      },
      {
        "duration": 268,
        "start_time": "2021-06-22T13:05:45.943Z"
      },
      {
        "duration": 262,
        "start_time": "2021-06-22T13:05:46.786Z"
      },
      {
        "duration": 11,
        "start_time": "2021-06-22T13:07:51.835Z"
      },
      {
        "duration": 45,
        "start_time": "2021-06-22T13:07:53.155Z"
      },
      {
        "duration": 12,
        "start_time": "2021-06-22T13:08:07.779Z"
      },
      {
        "duration": 13,
        "start_time": "2021-06-22T13:08:25.435Z"
      },
      {
        "duration": 6,
        "start_time": "2021-06-22T13:08:33.357Z"
      },
      {
        "duration": 50,
        "start_time": "2021-06-22T13:08:33.538Z"
      },
      {
        "duration": 13,
        "start_time": "2021-06-22T13:08:33.878Z"
      },
      {
        "duration": 6,
        "start_time": "2021-06-22T13:08:34.417Z"
      },
      {
        "duration": 22,
        "start_time": "2021-06-22T13:08:34.586Z"
      },
      {
        "duration": 9,
        "start_time": "2021-06-22T13:08:35.114Z"
      },
      {
        "duration": 224,
        "start_time": "2021-06-22T13:08:35.291Z"
      },
      {
        "duration": 19,
        "start_time": "2021-06-22T13:08:35.658Z"
      },
      {
        "duration": 6,
        "start_time": "2021-06-22T13:08:35.836Z"
      },
      {
        "duration": 6,
        "start_time": "2021-06-22T13:08:36.187Z"
      },
      {
        "duration": 228,
        "start_time": "2021-06-22T13:08:36.898Z"
      },
      {
        "duration": 1349,
        "start_time": "2021-06-22T13:08:37.434Z"
      },
      {
        "duration": 401,
        "start_time": "2021-06-22T13:08:38.786Z"
      },
      {
        "duration": 1027,
        "start_time": "2021-06-22T13:08:39.190Z"
      },
      {
        "duration": 30,
        "start_time": "2021-06-22T13:08:40.220Z"
      },
      {
        "duration": 12,
        "start_time": "2021-06-22T13:08:40.293Z"
      },
      {
        "duration": 41,
        "start_time": "2021-06-22T13:08:40.779Z"
      },
      {
        "duration": 4748,
        "start_time": "2021-06-22T13:08:42.668Z"
      },
      {
        "duration": 4387,
        "start_time": "2021-06-22T13:08:47.419Z"
      },
      {
        "duration": 13,
        "start_time": "2021-06-22T13:09:34.036Z"
      },
      {
        "duration": 5,
        "start_time": "2021-06-22T13:09:41.163Z"
      },
      {
        "duration": 49,
        "start_time": "2021-06-22T13:09:41.338Z"
      },
      {
        "duration": 11,
        "start_time": "2021-06-22T13:09:41.666Z"
      },
      {
        "duration": 5,
        "start_time": "2021-06-22T13:09:42.186Z"
      },
      {
        "duration": 22,
        "start_time": "2021-06-22T13:09:42.346Z"
      },
      {
        "duration": 9,
        "start_time": "2021-06-22T13:09:42.867Z"
      },
      {
        "duration": 221,
        "start_time": "2021-06-22T13:09:43.042Z"
      },
      {
        "duration": 18,
        "start_time": "2021-06-22T13:09:43.409Z"
      },
      {
        "duration": 6,
        "start_time": "2021-06-22T13:09:43.586Z"
      },
      {
        "duration": 5,
        "start_time": "2021-06-22T13:09:43.947Z"
      },
      {
        "duration": 153,
        "start_time": "2021-06-22T13:09:44.722Z"
      },
      {
        "duration": 1397,
        "start_time": "2021-06-22T13:09:45.387Z"
      },
      {
        "duration": 485,
        "start_time": "2021-06-22T13:09:46.786Z"
      },
      {
        "duration": 1042,
        "start_time": "2021-06-22T13:09:47.274Z"
      },
      {
        "duration": 31,
        "start_time": "2021-06-22T13:09:48.318Z"
      },
      {
        "duration": 13,
        "start_time": "2021-06-22T13:09:49.340Z"
      },
      {
        "duration": 40,
        "start_time": "2021-06-22T13:09:50.467Z"
      },
      {
        "duration": 12,
        "start_time": "2021-06-22T13:10:25.868Z"
      },
      {
        "duration": 40,
        "start_time": "2021-06-22T13:10:27.244Z"
      },
      {
        "duration": 5827,
        "start_time": "2021-06-22T13:10:29.260Z"
      },
      {
        "duration": 5499,
        "start_time": "2021-06-22T13:10:35.089Z"
      },
      {
        "duration": 6,
        "start_time": "2021-06-22T13:16:32.274Z"
      },
      {
        "duration": 52,
        "start_time": "2021-06-22T13:16:32.451Z"
      },
      {
        "duration": 12,
        "start_time": "2021-06-22T13:16:32.802Z"
      },
      {
        "duration": 6,
        "start_time": "2021-06-22T13:16:33.330Z"
      },
      {
        "duration": 23,
        "start_time": "2021-06-22T13:16:33.506Z"
      },
      {
        "duration": 8,
        "start_time": "2021-06-22T13:16:34.026Z"
      },
      {
        "duration": 279,
        "start_time": "2021-06-22T13:16:34.203Z"
      },
      {
        "duration": 18,
        "start_time": "2021-06-22T13:16:34.558Z"
      },
      {
        "duration": 6,
        "start_time": "2021-06-22T13:16:34.729Z"
      },
      {
        "duration": 6,
        "start_time": "2021-06-22T13:16:35.082Z"
      },
      {
        "duration": 155,
        "start_time": "2021-06-22T13:16:35.778Z"
      },
      {
        "duration": 1335,
        "start_time": "2021-06-22T13:16:36.371Z"
      },
      {
        "duration": 417,
        "start_time": "2021-06-22T13:16:37.708Z"
      },
      {
        "duration": 1120,
        "start_time": "2021-06-22T13:16:38.128Z"
      },
      {
        "duration": 50,
        "start_time": "2021-06-22T13:16:39.251Z"
      },
      {
        "duration": 15,
        "start_time": "2021-06-22T13:16:39.305Z"
      },
      {
        "duration": 335,
        "start_time": "2021-06-22T13:16:39.489Z"
      },
      {
        "duration": 390,
        "start_time": "2021-06-22T13:16:40.361Z"
      },
      {
        "duration": 1313,
        "start_time": "2021-06-22T13:16:39.442Z"
      },
      {
        "duration": 13,
        "start_time": "2021-06-22T13:21:14.947Z"
      },
      {
        "duration": 44,
        "start_time": "2021-06-22T13:21:22.908Z"
      },
      {
        "duration": 322,
        "start_time": "2021-06-22T13:21:25.301Z"
      },
      {
        "duration": 36,
        "start_time": "2021-06-22T13:21:38.067Z"
      },
      {
        "duration": 12,
        "start_time": "2021-06-22T13:21:42.891Z"
      },
      {
        "duration": 6,
        "start_time": "2021-06-22T13:22:24.907Z"
      },
      {
        "duration": 66,
        "start_time": "2021-06-22T13:22:25.092Z"
      },
      {
        "duration": 13,
        "start_time": "2021-06-22T13:22:25.426Z"
      },
      {
        "duration": 7,
        "start_time": "2021-06-22T13:22:25.963Z"
      },
      {
        "duration": 29,
        "start_time": "2021-06-22T13:22:26.140Z"
      },
      {
        "duration": 11,
        "start_time": "2021-06-22T13:22:26.683Z"
      },
      {
        "duration": 236,
        "start_time": "2021-06-22T13:22:26.881Z"
      },
      {
        "duration": 21,
        "start_time": "2021-06-22T13:22:27.243Z"
      },
      {
        "duration": 6,
        "start_time": "2021-06-22T13:22:27.435Z"
      },
      {
        "duration": 6,
        "start_time": "2021-06-22T13:22:27.826Z"
      },
      {
        "duration": 251,
        "start_time": "2021-06-22T13:22:28.546Z"
      },
      {
        "duration": 1486,
        "start_time": "2021-06-22T13:22:29.107Z"
      },
      {
        "duration": 464,
        "start_time": "2021-06-22T13:22:30.595Z"
      },
      {
        "duration": 1140,
        "start_time": "2021-06-22T13:22:31.063Z"
      },
      {
        "duration": 37,
        "start_time": "2021-06-22T13:22:32.207Z"
      },
      {
        "duration": 36,
        "start_time": "2021-06-22T13:22:32.355Z"
      },
      {
        "duration": 14,
        "start_time": "2021-06-22T13:22:33.947Z"
      },
      {
        "duration": 13,
        "start_time": "2021-06-22T13:22:34.195Z"
      },
      {
        "duration": 53,
        "start_time": "2021-06-22T13:22:34.979Z"
      },
      {
        "duration": 1727,
        "start_time": "2021-06-22T13:23:29.236Z"
      },
      {
        "duration": 443,
        "start_time": "2021-06-22T13:23:30.966Z"
      },
      {
        "duration": 12,
        "start_time": "2021-06-22T13:23:31.412Z"
      },
      {
        "duration": 13,
        "start_time": "2021-06-22T13:23:31.427Z"
      },
      {
        "duration": 50,
        "start_time": "2021-06-22T13:23:31.442Z"
      },
      {
        "duration": 19,
        "start_time": "2021-06-22T13:23:31.495Z"
      },
      {
        "duration": 268,
        "start_time": "2021-06-22T13:23:31.517Z"
      },
      {
        "duration": 26,
        "start_time": "2021-06-22T13:23:31.791Z"
      },
      {
        "duration": 6,
        "start_time": "2021-06-22T13:23:31.820Z"
      },
      {
        "duration": 10,
        "start_time": "2021-06-22T13:23:31.829Z"
      },
      {
        "duration": 201,
        "start_time": "2021-06-22T13:23:31.842Z"
      },
      {
        "duration": 1503,
        "start_time": "2021-06-22T13:23:32.046Z"
      },
      {
        "duration": 559,
        "start_time": "2021-06-22T13:23:33.552Z"
      },
      {
        "duration": 1217,
        "start_time": "2021-06-22T13:23:34.114Z"
      },
      {
        "duration": 32,
        "start_time": "2021-06-22T13:23:35.334Z"
      },
      {
        "duration": 34,
        "start_time": "2021-06-22T13:23:35.386Z"
      },
      {
        "duration": 13,
        "start_time": "2021-06-22T13:23:35.423Z"
      },
      {
        "duration": 50,
        "start_time": "2021-06-22T13:23:35.439Z"
      },
      {
        "duration": 47,
        "start_time": "2021-06-22T13:23:35.492Z"
      },
      {
        "duration": 367,
        "start_time": "2021-06-22T13:23:51.187Z"
      },
      {
        "duration": 315,
        "start_time": "2021-06-22T13:23:52.675Z"
      },
      {
        "duration": 1583,
        "start_time": "2021-06-22T13:23:57.931Z"
      },
      {
        "duration": 256,
        "start_time": "2021-06-22T13:23:59.517Z"
      },
      {
        "duration": 13,
        "start_time": "2021-06-22T13:23:59.776Z"
      },
      {
        "duration": 6,
        "start_time": "2021-06-22T13:23:59.791Z"
      },
      {
        "duration": 29,
        "start_time": "2021-06-22T13:23:59.800Z"
      },
      {
        "duration": 11,
        "start_time": "2021-06-22T13:24:00.812Z"
      },
      {
        "duration": 248,
        "start_time": "2021-06-22T13:24:00.999Z"
      },
      {
        "duration": 24,
        "start_time": "2021-06-22T13:24:01.433Z"
      },
      {
        "duration": 7,
        "start_time": "2021-06-22T13:24:01.629Z"
      },
      {
        "duration": 6,
        "start_time": "2021-06-22T13:24:02.027Z"
      },
      {
        "duration": 194,
        "start_time": "2021-06-22T13:24:02.780Z"
      },
      {
        "duration": 1663,
        "start_time": "2021-06-22T13:24:04.807Z"
      },
      {
        "duration": 491,
        "start_time": "2021-06-22T13:24:06.472Z"
      },
      {
        "duration": 1252,
        "start_time": "2021-06-22T13:24:06.966Z"
      },
      {
        "duration": 37,
        "start_time": "2021-06-22T13:24:08.220Z"
      },
      {
        "duration": 54,
        "start_time": "2021-06-22T13:24:08.259Z"
      },
      {
        "duration": 12,
        "start_time": "2021-06-22T13:24:08.316Z"
      },
      {
        "duration": 19,
        "start_time": "2021-06-22T13:24:08.330Z"
      },
      {
        "duration": 71,
        "start_time": "2021-06-22T13:24:08.352Z"
      },
      {
        "duration": 304,
        "start_time": "2021-06-22T13:24:17.100Z"
      },
      {
        "duration": 223,
        "start_time": "2021-06-22T13:24:17.407Z"
      },
      {
        "duration": 354,
        "start_time": "2021-06-22T13:24:21.649Z"
      },
      {
        "duration": 1773,
        "start_time": "2021-06-22T13:26:01.772Z"
      },
      {
        "duration": 220,
        "start_time": "2021-06-22T13:26:03.548Z"
      },
      {
        "duration": 14,
        "start_time": "2021-06-22T13:26:03.773Z"
      },
      {
        "duration": 14,
        "start_time": "2021-06-22T13:26:03.790Z"
      },
      {
        "duration": 23,
        "start_time": "2021-06-22T13:26:03.808Z"
      },
      {
        "duration": 7,
        "start_time": "2021-06-22T13:26:03.834Z"
      },
      {
        "duration": 291,
        "start_time": "2021-06-22T13:26:03.844Z"
      },
      {
        "duration": 25,
        "start_time": "2021-06-22T13:26:04.139Z"
      },
      {
        "duration": 23,
        "start_time": "2021-06-22T13:26:04.167Z"
      },
      {
        "duration": 21,
        "start_time": "2021-06-22T13:26:04.193Z"
      },
      {
        "duration": 172,
        "start_time": "2021-06-22T13:26:04.216Z"
      },
      {
        "duration": 1443,
        "start_time": "2021-06-22T13:26:04.390Z"
      },
      {
        "duration": 514,
        "start_time": "2021-06-22T13:26:05.837Z"
      },
      {
        "duration": 1216,
        "start_time": "2021-06-22T13:26:06.355Z"
      },
      {
        "duration": 42,
        "start_time": "2021-06-22T13:26:07.573Z"
      },
      {
        "duration": 12,
        "start_time": "2021-06-22T13:26:07.618Z"
      },
      {
        "duration": 13,
        "start_time": "2021-06-22T13:26:07.633Z"
      },
      {
        "duration": 83,
        "start_time": "2021-06-22T13:26:07.648Z"
      },
      {
        "duration": 1636,
        "start_time": "2021-06-22T13:31:37.065Z"
      },
      {
        "duration": 221,
        "start_time": "2021-06-22T13:31:38.705Z"
      },
      {
        "duration": 13,
        "start_time": "2021-06-22T13:31:38.928Z"
      },
      {
        "duration": 6,
        "start_time": "2021-06-22T13:31:38.944Z"
      },
      {
        "duration": 53,
        "start_time": "2021-06-22T13:31:38.953Z"
      },
      {
        "duration": 8,
        "start_time": "2021-06-22T13:31:39.009Z"
      },
      {
        "duration": 264,
        "start_time": "2021-06-22T13:31:39.021Z"
      },
      {
        "duration": 29,
        "start_time": "2021-06-22T13:31:39.288Z"
      },
      {
        "duration": 6,
        "start_time": "2021-06-22T13:31:39.319Z"
      },
      {
        "duration": 10,
        "start_time": "2021-06-22T13:31:39.327Z"
      },
      {
        "duration": 191,
        "start_time": "2021-06-22T13:31:39.339Z"
      },
      {
        "duration": 1700,
        "start_time": "2021-06-22T13:31:39.533Z"
      },
      {
        "duration": 517,
        "start_time": "2021-06-22T13:31:41.236Z"
      },
      {
        "duration": 1314,
        "start_time": "2021-06-22T13:31:41.756Z"
      },
      {
        "duration": 46,
        "start_time": "2021-06-22T13:31:43.072Z"
      },
      {
        "duration": 11,
        "start_time": "2021-06-22T13:31:43.120Z"
      },
      {
        "duration": 8,
        "start_time": "2021-06-22T13:31:43.134Z"
      },
      {
        "duration": 74,
        "start_time": "2021-06-22T13:31:43.144Z"
      },
      {
        "duration": 4751,
        "start_time": "2021-06-22T13:31:43.221Z"
      },
      {
        "duration": 4488,
        "start_time": "2021-06-22T13:31:47.974Z"
      },
      {
        "duration": 621,
        "start_time": "2021-06-22T13:31:52.465Z"
      },
      {
        "duration": 372,
        "start_time": "2021-06-22T13:31:53.094Z"
      },
      {
        "duration": 45,
        "start_time": "2021-06-22T13:31:53.469Z"
      },
      {
        "duration": 117,
        "start_time": "2021-06-22T13:31:53.586Z"
      },
      {
        "duration": 19,
        "start_time": "2021-06-22T13:31:53.705Z"
      },
      {
        "duration": 2291,
        "start_time": "2021-06-22T13:31:53.727Z"
      },
      {
        "duration": 7121,
        "start_time": "2021-06-22T13:31:56.020Z"
      },
      {
        "duration": 10804,
        "start_time": "2021-06-22T13:32:03.144Z"
      },
      {
        "duration": 703,
        "start_time": "2021-06-22T13:32:13.950Z"
      },
      {
        "duration": 152,
        "start_time": "2021-06-22T13:32:14.656Z"
      },
      {
        "duration": 664,
        "start_time": "2021-06-22T13:32:14.890Z"
      },
      {
        "duration": 1755,
        "start_time": "2021-06-22T13:32:15.556Z"
      },
      {
        "duration": 10,
        "start_time": "2021-06-22T13:32:17.314Z"
      },
      {
        "duration": 20,
        "start_time": "2021-06-22T13:32:17.327Z"
      },
      {
        "duration": 45,
        "start_time": "2021-06-22T13:32:17.350Z"
      },
      {
        "duration": 558,
        "start_time": "2021-06-22T13:32:17.398Z"
      },
      {
        "duration": 299,
        "start_time": "2021-06-22T13:37:32.921Z"
      },
      {
        "duration": 83,
        "start_time": "2021-06-22T13:52:55.297Z"
      },
      {
        "duration": 606,
        "start_time": "2021-06-22T13:54:29.882Z"
      },
      {
        "duration": 1163,
        "start_time": "2021-06-22T13:56:10.756Z"
      },
      {
        "duration": 1155,
        "start_time": "2021-06-22T13:56:10.765Z"
      },
      {
        "duration": 1149,
        "start_time": "2021-06-22T13:56:10.772Z"
      },
      {
        "duration": 1144,
        "start_time": "2021-06-22T13:56:10.779Z"
      },
      {
        "duration": 1130,
        "start_time": "2021-06-22T13:56:10.794Z"
      },
      {
        "duration": 1185,
        "start_time": "2021-06-22T13:56:10.801Z"
      },
      {
        "duration": 1183,
        "start_time": "2021-06-22T13:56:10.805Z"
      },
      {
        "duration": 1180,
        "start_time": "2021-06-22T13:56:10.809Z"
      },
      {
        "duration": 1171,
        "start_time": "2021-06-22T13:56:10.820Z"
      },
      {
        "duration": 1169,
        "start_time": "2021-06-22T13:56:10.824Z"
      },
      {
        "duration": 1164,
        "start_time": "2021-06-22T13:56:10.830Z"
      },
      {
        "duration": 1161,
        "start_time": "2021-06-22T13:56:10.835Z"
      },
      {
        "duration": 1159,
        "start_time": "2021-06-22T13:56:10.839Z"
      },
      {
        "duration": 1156,
        "start_time": "2021-06-22T13:56:10.843Z"
      },
      {
        "duration": 1147,
        "start_time": "2021-06-22T13:56:10.854Z"
      },
      {
        "duration": 1145,
        "start_time": "2021-06-22T13:56:10.858Z"
      },
      {
        "duration": 1140,
        "start_time": "2021-06-22T13:56:10.864Z"
      },
      {
        "duration": 1138,
        "start_time": "2021-06-22T13:56:10.868Z"
      },
      {
        "duration": 1134,
        "start_time": "2021-06-22T13:56:10.873Z"
      },
      {
        "duration": 1132,
        "start_time": "2021-06-22T13:56:10.877Z"
      },
      {
        "duration": 1128,
        "start_time": "2021-06-22T13:56:10.882Z"
      },
      {
        "duration": 1126,
        "start_time": "2021-06-22T13:56:10.886Z"
      },
      {
        "duration": 1123,
        "start_time": "2021-06-22T13:56:10.890Z"
      },
      {
        "duration": 1106,
        "start_time": "2021-06-22T13:56:10.909Z"
      },
      {
        "duration": 1085,
        "start_time": "2021-06-22T13:56:10.932Z"
      },
      {
        "duration": 1082,
        "start_time": "2021-06-22T13:56:10.936Z"
      },
      {
        "duration": 1079,
        "start_time": "2021-06-22T13:56:10.941Z"
      },
      {
        "duration": 1067,
        "start_time": "2021-06-22T13:56:10.955Z"
      },
      {
        "duration": 1056,
        "start_time": "2021-06-22T13:56:10.968Z"
      },
      {
        "duration": 1114,
        "start_time": "2021-06-22T13:56:10.972Z"
      },
      {
        "duration": 1111,
        "start_time": "2021-06-22T13:56:10.976Z"
      },
      {
        "duration": 1108,
        "start_time": "2021-06-22T13:56:10.980Z"
      },
      {
        "duration": 1099,
        "start_time": "2021-06-22T13:56:10.990Z"
      },
      {
        "duration": 1096,
        "start_time": "2021-06-22T13:56:10.994Z"
      },
      {
        "duration": 1085,
        "start_time": "2021-06-22T13:56:11.006Z"
      },
      {
        "duration": 1081,
        "start_time": "2021-06-22T13:56:11.011Z"
      },
      {
        "duration": 1078,
        "start_time": "2021-06-22T13:56:11.016Z"
      },
      {
        "duration": 1077,
        "start_time": "2021-06-22T13:56:11.019Z"
      },
      {
        "duration": 1839,
        "start_time": "2021-06-22T13:56:19.948Z"
      },
      {
        "duration": 70,
        "start_time": "2021-06-22T13:56:21.791Z"
      },
      {
        "duration": 23,
        "start_time": "2021-06-22T13:56:21.866Z"
      },
      {
        "duration": 6,
        "start_time": "2021-06-22T13:56:21.893Z"
      },
      {
        "duration": 35,
        "start_time": "2021-06-22T13:56:21.903Z"
      },
      {
        "duration": 9,
        "start_time": "2021-06-22T13:56:21.941Z"
      },
      {
        "duration": 290,
        "start_time": "2021-06-22T13:56:21.986Z"
      },
      {
        "duration": 33,
        "start_time": "2021-06-22T13:56:22.286Z"
      },
      {
        "duration": 7,
        "start_time": "2021-06-22T13:56:22.323Z"
      },
      {
        "duration": 17,
        "start_time": "2021-06-22T13:56:22.334Z"
      },
      {
        "duration": 225,
        "start_time": "2021-06-22T13:56:22.353Z"
      },
      {
        "duration": 1527,
        "start_time": "2021-06-22T13:56:22.585Z"
      },
      {
        "duration": 557,
        "start_time": "2021-06-22T13:56:24.115Z"
      },
      {
        "duration": 1152,
        "start_time": "2021-06-22T13:56:24.684Z"
      },
      {
        "duration": 51,
        "start_time": "2021-06-22T13:56:25.839Z"
      },
      {
        "duration": 13,
        "start_time": "2021-06-22T13:56:25.892Z"
      },
      {
        "duration": 14,
        "start_time": "2021-06-22T13:56:25.908Z"
      },
      {
        "duration": 73,
        "start_time": "2021-06-22T13:56:25.924Z"
      },
      {
        "duration": 5095,
        "start_time": "2021-06-22T13:56:26.001Z"
      },
      {
        "duration": 5047,
        "start_time": "2021-06-22T13:56:31.099Z"
      },
      {
        "duration": 465,
        "start_time": "2021-06-22T13:56:36.149Z"
      },
      {
        "duration": 663,
        "start_time": "2021-06-22T13:56:36.617Z"
      },
      {
        "duration": 388,
        "start_time": "2021-06-22T13:56:37.289Z"
      },
      {
        "duration": 199,
        "start_time": "2021-06-22T13:56:37.687Z"
      },
      {
        "duration": 27,
        "start_time": "2021-06-22T13:56:37.889Z"
      },
      {
        "duration": 18,
        "start_time": "2021-06-22T13:56:37.918Z"
      },
      {
        "duration": 2307,
        "start_time": "2021-06-22T13:56:37.939Z"
      },
      {
        "duration": 112,
        "start_time": "2021-06-22T13:56:40.249Z"
      },
      {
        "duration": 42134,
        "start_time": "2021-06-22T13:56:40.364Z"
      },
      {
        "duration": 9569,
        "start_time": "2021-06-22T13:57:22.501Z"
      },
      {
        "duration": 671,
        "start_time": "2021-06-22T13:57:32.073Z"
      },
      {
        "duration": 142,
        "start_time": "2021-06-22T13:57:32.746Z"
      },
      {
        "duration": 623,
        "start_time": "2021-06-22T13:57:32.892Z"
      },
      {
        "duration": 1988,
        "start_time": "2021-06-22T13:57:33.519Z"
      },
      {
        "duration": 12,
        "start_time": "2021-06-22T13:57:35.510Z"
      },
      {
        "duration": 23,
        "start_time": "2021-06-22T13:57:35.525Z"
      },
      {
        "duration": 46,
        "start_time": "2021-06-22T13:57:35.550Z"
      },
      {
        "duration": 531,
        "start_time": "2021-06-22T13:57:35.687Z"
      },
      {
        "duration": 661,
        "start_time": "2021-06-22T13:57:51.955Z"
      },
      {
        "duration": 707,
        "start_time": "2021-06-22T13:57:59.757Z"
      },
      {
        "duration": 41512,
        "start_time": "2021-06-22T13:58:23.739Z"
      },
      {
        "duration": 9364,
        "start_time": "2021-06-22T13:59:05.255Z"
      },
      {
        "duration": 986,
        "start_time": "2021-06-22T13:59:14.623Z"
      },
      {
        "duration": 980,
        "start_time": "2021-06-22T13:59:40.191Z"
      },
      {
        "duration": 978,
        "start_time": "2021-06-22T13:59:47.210Z"
      },
      {
        "duration": 87756,
        "start_time": "2021-06-22T13:59:56.238Z"
      },
      {
        "duration": 1650,
        "start_time": "2021-06-22T14:01:36.365Z"
      },
      {
        "duration": 56,
        "start_time": "2021-06-22T14:01:38.018Z"
      },
      {
        "duration": 15,
        "start_time": "2021-06-22T14:01:38.077Z"
      },
      {
        "duration": 14,
        "start_time": "2021-06-22T14:01:38.095Z"
      },
      {
        "duration": 27,
        "start_time": "2021-06-22T14:01:38.112Z"
      },
      {
        "duration": 14,
        "start_time": "2021-06-22T14:01:38.141Z"
      },
      {
        "duration": 246,
        "start_time": "2021-06-22T14:01:38.157Z"
      },
      {
        "duration": 25,
        "start_time": "2021-06-22T14:01:38.409Z"
      },
      {
        "duration": 7,
        "start_time": "2021-06-22T14:01:38.438Z"
      },
      {
        "duration": 6,
        "start_time": "2021-06-22T14:01:38.448Z"
      },
      {
        "duration": 177,
        "start_time": "2021-06-22T14:01:38.487Z"
      },
      {
        "duration": 1337,
        "start_time": "2021-06-22T14:01:38.667Z"
      },
      {
        "duration": 478,
        "start_time": "2021-06-22T14:01:40.007Z"
      },
      {
        "duration": 1023,
        "start_time": "2021-06-22T14:01:40.487Z"
      },
      {
        "duration": 31,
        "start_time": "2021-06-22T14:01:41.513Z"
      },
      {
        "duration": 42,
        "start_time": "2021-06-22T14:01:41.546Z"
      },
      {
        "duration": 7,
        "start_time": "2021-06-22T14:01:41.590Z"
      },
      {
        "duration": 45,
        "start_time": "2021-06-22T14:01:41.600Z"
      },
      {
        "duration": 4296,
        "start_time": "2021-06-22T14:01:41.648Z"
      },
      {
        "duration": 4115,
        "start_time": "2021-06-22T14:01:45.947Z"
      },
      {
        "duration": 300,
        "start_time": "2021-06-22T14:01:50.065Z"
      },
      {
        "duration": 628,
        "start_time": "2021-06-22T14:01:50.368Z"
      },
      {
        "duration": 362,
        "start_time": "2021-06-22T14:01:51.001Z"
      },
      {
        "duration": 50,
        "start_time": "2021-06-22T14:01:51.366Z"
      },
      {
        "duration": 123,
        "start_time": "2021-06-22T14:01:51.489Z"
      },
      {
        "duration": 17,
        "start_time": "2021-06-22T14:01:51.614Z"
      },
      {
        "duration": 2110,
        "start_time": "2021-06-22T14:01:51.633Z"
      },
      {
        "duration": 91,
        "start_time": "2021-06-22T14:01:53.745Z"
      },
      {
        "duration": 178888,
        "start_time": "2021-06-22T14:01:53.839Z"
      },
      {
        "duration": 9947,
        "start_time": "2021-06-22T14:04:52.729Z"
      },
      {
        "duration": 1064,
        "start_time": "2021-06-22T14:05:02.687Z"
      },
      {
        "duration": 142,
        "start_time": "2021-06-22T14:05:03.754Z"
      },
      {
        "duration": 595,
        "start_time": "2021-06-22T14:05:03.986Z"
      },
      {
        "duration": 1494,
        "start_time": "2021-06-22T14:05:04.586Z"
      },
      {
        "duration": 15,
        "start_time": "2021-06-22T14:05:06.087Z"
      },
      {
        "duration": 34,
        "start_time": "2021-06-22T14:05:06.105Z"
      },
      {
        "duration": 143,
        "start_time": "2021-06-22T14:05:06.142Z"
      },
      {
        "duration": 486,
        "start_time": "2021-06-22T14:05:06.289Z"
      },
      {
        "duration": 2844,
        "start_time": "2021-06-22T14:06:11.948Z"
      },
      {
        "duration": 191,
        "start_time": "2021-06-22T14:09:19.772Z"
      },
      {
        "duration": 45315,
        "start_time": "2021-06-22T14:09:32.941Z"
      },
      {
        "duration": 23,
        "start_time": "2021-06-22T14:11:22.845Z"
      },
      {
        "duration": 1599,
        "start_time": "2021-06-22T14:21:58.058Z"
      },
      {
        "duration": 60,
        "start_time": "2021-06-22T14:21:59.660Z"
      },
      {
        "duration": 12,
        "start_time": "2021-06-22T14:21:59.723Z"
      },
      {
        "duration": 10,
        "start_time": "2021-06-22T14:21:59.738Z"
      },
      {
        "duration": 47,
        "start_time": "2021-06-22T14:21:59.750Z"
      },
      {
        "duration": 8,
        "start_time": "2021-06-22T14:21:59.799Z"
      },
      {
        "duration": 264,
        "start_time": "2021-06-22T14:21:59.809Z"
      },
      {
        "duration": 28,
        "start_time": "2021-06-22T14:22:00.077Z"
      },
      {
        "duration": 6,
        "start_time": "2021-06-22T14:22:00.108Z"
      },
      {
        "duration": 20,
        "start_time": "2021-06-22T14:22:00.116Z"
      },
      {
        "duration": 194,
        "start_time": "2021-06-22T14:22:00.139Z"
      },
      {
        "duration": 1490,
        "start_time": "2021-06-22T14:22:00.336Z"
      },
      {
        "duration": 483,
        "start_time": "2021-06-22T14:22:01.828Z"
      },
      {
        "duration": 1293,
        "start_time": "2021-06-22T14:22:02.314Z"
      },
      {
        "duration": 31,
        "start_time": "2021-06-22T14:22:03.609Z"
      },
      {
        "duration": 14,
        "start_time": "2021-06-22T14:22:03.642Z"
      },
      {
        "duration": 34,
        "start_time": "2021-06-22T14:22:03.658Z"
      },
      {
        "duration": 41,
        "start_time": "2021-06-22T14:22:03.696Z"
      },
      {
        "duration": 4350,
        "start_time": "2021-06-22T14:22:03.740Z"
      },
      {
        "duration": 4116,
        "start_time": "2021-06-22T14:22:08.093Z"
      },
      {
        "duration": 306,
        "start_time": "2021-06-22T14:22:12.212Z"
      },
      {
        "duration": 604,
        "start_time": "2021-06-22T14:22:12.520Z"
      },
      {
        "duration": 335,
        "start_time": "2021-06-22T14:22:13.129Z"
      },
      {
        "duration": 41,
        "start_time": "2021-06-22T14:22:13.467Z"
      },
      {
        "duration": 185,
        "start_time": "2021-06-22T14:22:13.510Z"
      },
      {
        "duration": 16,
        "start_time": "2021-06-22T14:22:13.698Z"
      },
      {
        "duration": 1949,
        "start_time": "2021-06-22T14:22:13.717Z"
      },
      {
        "duration": 90,
        "start_time": "2021-06-22T14:22:15.668Z"
      },
      {
        "duration": 156427,
        "start_time": "2021-06-22T14:22:15.760Z"
      },
      {
        "duration": 9284,
        "start_time": "2021-06-22T14:24:52.190Z"
      },
      {
        "duration": 3097,
        "start_time": "2021-06-22T14:25:01.476Z"
      },
      {
        "duration": 214,
        "start_time": "2021-06-22T14:25:04.575Z"
      },
      {
        "duration": 582,
        "start_time": "2021-06-22T14:25:04.793Z"
      },
      {
        "duration": 42680,
        "start_time": "2021-06-22T14:25:05.377Z"
      },
      {
        "duration": 42,
        "start_time": "2021-06-22T14:25:48.059Z"
      },
      {
        "duration": 12,
        "start_time": "2021-06-22T14:25:48.104Z"
      },
      {
        "duration": 21,
        "start_time": "2021-06-22T14:25:48.119Z"
      },
      {
        "duration": 56,
        "start_time": "2021-06-22T14:25:48.142Z"
      },
      {
        "duration": 587,
        "start_time": "2021-06-22T14:25:48.203Z"
      },
      {
        "duration": 24,
        "start_time": "2021-06-22T14:26:34.176Z"
      },
      {
        "duration": 15,
        "start_time": "2021-06-22T14:26:42.531Z"
      },
      {
        "duration": 8,
        "start_time": "2021-06-22T14:26:45.279Z"
      },
      {
        "duration": 1658,
        "start_time": "2021-06-22T14:27:01.872Z"
      },
      {
        "duration": 57,
        "start_time": "2021-06-22T14:27:03.532Z"
      },
      {
        "duration": 13,
        "start_time": "2021-06-22T14:27:03.597Z"
      },
      {
        "duration": 13,
        "start_time": "2021-06-22T14:27:03.613Z"
      },
      {
        "duration": 34,
        "start_time": "2021-06-22T14:27:03.629Z"
      },
      {
        "duration": 24,
        "start_time": "2021-06-22T14:27:03.666Z"
      },
      {
        "duration": 272,
        "start_time": "2021-06-22T14:27:03.693Z"
      },
      {
        "duration": 26,
        "start_time": "2021-06-22T14:27:03.970Z"
      },
      {
        "duration": 8,
        "start_time": "2021-06-22T14:27:03.999Z"
      },
      {
        "duration": 21,
        "start_time": "2021-06-22T14:27:04.010Z"
      },
      {
        "duration": 203,
        "start_time": "2021-06-22T14:27:04.034Z"
      },
      {
        "duration": 1428,
        "start_time": "2021-06-22T14:27:04.240Z"
      },
      {
        "duration": 497,
        "start_time": "2021-06-22T14:27:05.670Z"
      },
      {
        "duration": 1090,
        "start_time": "2021-06-22T14:27:06.170Z"
      },
      {
        "duration": 47,
        "start_time": "2021-06-22T14:27:07.262Z"
      },
      {
        "duration": 12,
        "start_time": "2021-06-22T14:27:07.312Z"
      },
      {
        "duration": 7,
        "start_time": "2021-06-22T14:27:07.326Z"
      },
      {
        "duration": 72,
        "start_time": "2021-06-22T14:27:07.335Z"
      },
      {
        "duration": 3898,
        "start_time": "2021-06-22T14:27:07.410Z"
      },
      {
        "duration": 3586,
        "start_time": "2021-06-22T14:27:11.310Z"
      },
      {
        "duration": 258,
        "start_time": "2021-06-22T14:27:14.900Z"
      },
      {
        "duration": 482,
        "start_time": "2021-06-22T14:27:15.161Z"
      },
      {
        "duration": 304,
        "start_time": "2021-06-22T14:27:15.648Z"
      },
      {
        "duration": 53,
        "start_time": "2021-06-22T14:27:15.955Z"
      },
      {
        "duration": 111,
        "start_time": "2021-06-22T14:27:16.086Z"
      },
      {
        "duration": 18,
        "start_time": "2021-06-22T14:27:16.201Z"
      },
      {
        "duration": 1615,
        "start_time": "2021-06-22T14:27:16.221Z"
      },
      {
        "duration": 83,
        "start_time": "2021-06-22T14:27:17.838Z"
      },
      {
        "duration": 137530,
        "start_time": "2021-06-22T14:27:17.924Z"
      },
      {
        "duration": 7493,
        "start_time": "2021-06-22T14:29:35.457Z"
      },
      {
        "duration": 2216,
        "start_time": "2021-06-22T14:29:42.953Z"
      },
      {
        "duration": 130,
        "start_time": "2021-06-22T14:29:45.171Z"
      },
      {
        "duration": 521,
        "start_time": "2021-06-22T14:29:45.386Z"
      },
      {
        "duration": 44931,
        "start_time": "2021-06-22T14:29:45.910Z"
      },
      {
        "duration": 23,
        "start_time": "2021-06-22T14:30:30.843Z"
      },
      {
        "duration": 28,
        "start_time": "2021-06-22T14:30:30.869Z"
      },
      {
        "duration": 32,
        "start_time": "2021-06-22T14:30:30.900Z"
      },
      {
        "duration": 63,
        "start_time": "2021-06-22T14:30:30.935Z"
      },
      {
        "duration": 569,
        "start_time": "2021-06-22T14:30:31.003Z"
      },
      {
        "duration": 1643,
        "start_time": "2021-06-22T14:31:42.962Z"
      },
      {
        "duration": 57,
        "start_time": "2021-06-22T14:31:44.607Z"
      },
      {
        "duration": 18,
        "start_time": "2021-06-22T14:31:44.667Z"
      },
      {
        "duration": 8,
        "start_time": "2021-06-22T14:31:44.689Z"
      },
      {
        "duration": 24,
        "start_time": "2021-06-22T14:31:44.700Z"
      },
      {
        "duration": 12,
        "start_time": "2021-06-22T14:31:44.726Z"
      },
      {
        "duration": 274,
        "start_time": "2021-06-22T14:31:44.740Z"
      },
      {
        "duration": 25,
        "start_time": "2021-06-22T14:31:45.018Z"
      },
      {
        "duration": 6,
        "start_time": "2021-06-22T14:31:45.046Z"
      },
      {
        "duration": 30,
        "start_time": "2021-06-22T14:31:45.055Z"
      },
      {
        "duration": 174,
        "start_time": "2021-06-22T14:31:45.088Z"
      },
      {
        "duration": 1366,
        "start_time": "2021-06-22T14:31:45.264Z"
      },
      {
        "duration": 490,
        "start_time": "2021-06-22T14:31:46.633Z"
      },
      {
        "duration": 1066,
        "start_time": "2021-06-22T14:31:47.125Z"
      },
      {
        "duration": 33,
        "start_time": "2021-06-22T14:31:48.194Z"
      },
      {
        "duration": 13,
        "start_time": "2021-06-22T14:31:48.229Z"
      },
      {
        "duration": 47,
        "start_time": "2021-06-22T14:31:48.244Z"
      },
      {
        "duration": 43,
        "start_time": "2021-06-22T14:31:48.294Z"
      },
      {
        "duration": 10196,
        "start_time": "2021-06-22T14:31:48.340Z"
      },
      {
        "duration": 3540,
        "start_time": "2021-06-22T14:31:58.540Z"
      },
      {
        "duration": 261,
        "start_time": "2021-06-22T14:32:02.087Z"
      },
      {
        "duration": 495,
        "start_time": "2021-06-22T14:32:02.350Z"
      },
      {
        "duration": 295,
        "start_time": "2021-06-22T14:32:02.850Z"
      },
      {
        "duration": 51,
        "start_time": "2021-06-22T14:32:03.149Z"
      },
      {
        "duration": 114,
        "start_time": "2021-06-22T14:32:03.287Z"
      },
      {
        "duration": 16,
        "start_time": "2021-06-22T14:32:03.404Z"
      },
      {
        "duration": 1600,
        "start_time": "2021-06-22T14:32:03.422Z"
      },
      {
        "duration": 85,
        "start_time": "2021-06-22T14:32:05.025Z"
      },
      {
        "duration": 31967,
        "start_time": "2021-06-22T14:32:05.113Z"
      },
      {
        "duration": 7627,
        "start_time": "2021-06-22T14:32:37.087Z"
      },
      {
        "duration": 2175,
        "start_time": "2021-06-22T14:32:44.717Z"
      },
      {
        "duration": 106,
        "start_time": "2021-06-22T14:32:46.895Z"
      },
      {
        "duration": 642,
        "start_time": "2021-06-22T14:32:47.005Z"
      },
      {
        "duration": 10788,
        "start_time": "2021-06-22T14:32:47.649Z"
      },
      {
        "duration": 23,
        "start_time": "2021-06-22T14:32:58.440Z"
      },
      {
        "duration": 33,
        "start_time": "2021-06-22T14:32:58.465Z"
      },
      {
        "duration": 23,
        "start_time": "2021-06-22T14:32:58.501Z"
      },
      {
        "duration": 71,
        "start_time": "2021-06-22T14:32:58.526Z"
      },
      {
        "duration": 527,
        "start_time": "2021-06-22T14:32:58.602Z"
      },
      {
        "duration": 17483,
        "start_time": "2021-06-22T14:33:59.108Z"
      },
      {
        "duration": 1209,
        "start_time": "2021-06-22T14:34:16.595Z"
      },
      {
        "duration": 1234,
        "start_time": "2021-06-22T14:34:23.252Z"
      },
      {
        "duration": 24,
        "start_time": "2021-06-22T14:35:23.605Z"
      },
      {
        "duration": 82,
        "start_time": "2021-06-22T14:35:57.533Z"
      },
      {
        "duration": 1691,
        "start_time": "2021-06-22T14:37:06.770Z"
      },
      {
        "duration": 58,
        "start_time": "2021-06-22T14:37:08.464Z"
      },
      {
        "duration": 13,
        "start_time": "2021-06-22T14:37:08.525Z"
      },
      {
        "duration": 8,
        "start_time": "2021-06-22T14:37:08.541Z"
      },
      {
        "duration": 54,
        "start_time": "2021-06-22T14:37:08.552Z"
      },
      {
        "duration": 8,
        "start_time": "2021-06-22T14:37:08.609Z"
      },
      {
        "duration": 270,
        "start_time": "2021-06-22T14:37:08.620Z"
      },
      {
        "duration": 28,
        "start_time": "2021-06-22T14:37:08.894Z"
      },
      {
        "duration": 8,
        "start_time": "2021-06-22T14:37:08.927Z"
      },
      {
        "duration": 18,
        "start_time": "2021-06-22T14:37:08.938Z"
      },
      {
        "duration": 214,
        "start_time": "2021-06-22T14:37:08.959Z"
      },
      {
        "duration": 1436,
        "start_time": "2021-06-22T14:37:09.176Z"
      },
      {
        "duration": 518,
        "start_time": "2021-06-22T14:37:10.616Z"
      },
      {
        "duration": 1173,
        "start_time": "2021-06-22T14:37:11.136Z"
      },
      {
        "duration": 35,
        "start_time": "2021-06-22T14:37:12.311Z"
      },
      {
        "duration": 38,
        "start_time": "2021-06-22T14:37:12.348Z"
      },
      {
        "duration": 9,
        "start_time": "2021-06-22T14:37:12.389Z"
      },
      {
        "duration": 45,
        "start_time": "2021-06-22T14:37:12.400Z"
      },
      {
        "duration": 11424,
        "start_time": "2021-06-22T14:37:12.447Z"
      },
      {
        "duration": 3859,
        "start_time": "2021-06-22T14:37:23.873Z"
      },
      {
        "duration": 278,
        "start_time": "2021-06-22T14:37:27.735Z"
      },
      {
        "duration": 544,
        "start_time": "2021-06-22T14:37:28.016Z"
      },
      {
        "duration": 331,
        "start_time": "2021-06-22T14:37:28.565Z"
      },
      {
        "duration": 186,
        "start_time": "2021-06-22T14:37:28.900Z"
      },
      {
        "duration": 22,
        "start_time": "2021-06-22T14:37:29.089Z"
      },
      {
        "duration": 16,
        "start_time": "2021-06-22T14:37:29.113Z"
      },
      {
        "duration": 1995,
        "start_time": "2021-06-22T14:37:29.132Z"
      },
      {
        "duration": 107,
        "start_time": "2021-06-22T14:37:31.130Z"
      },
      {
        "duration": 38388,
        "start_time": "2021-06-22T14:37:31.240Z"
      },
      {
        "duration": 20877,
        "start_time": "2021-06-22T14:38:09.630Z"
      },
      {
        "duration": 1440,
        "start_time": "2021-06-22T14:38:30.510Z"
      },
      {
        "duration": 135,
        "start_time": "2021-06-22T14:38:31.953Z"
      },
      {
        "duration": 599,
        "start_time": "2021-06-22T14:38:32.091Z"
      },
      {
        "duration": 11638,
        "start_time": "2021-06-22T14:38:32.693Z"
      },
      {
        "duration": 25,
        "start_time": "2021-06-22T14:38:44.333Z"
      },
      {
        "duration": 33,
        "start_time": "2021-06-22T14:38:44.361Z"
      },
      {
        "duration": 34,
        "start_time": "2021-06-22T14:38:44.397Z"
      },
      {
        "duration": 60,
        "start_time": "2021-06-22T14:38:44.434Z"
      },
      {
        "duration": 555,
        "start_time": "2021-06-22T14:38:44.497Z"
      },
      {
        "duration": 36,
        "start_time": "2021-06-22T14:40:40.287Z"
      },
      {
        "duration": 110,
        "start_time": "2021-06-22T14:41:04.615Z"
      },
      {
        "duration": 41,
        "start_time": "2021-06-22T14:41:27.510Z"
      },
      {
        "duration": 36,
        "start_time": "2021-06-22T14:41:38.583Z"
      },
      {
        "duration": 107,
        "start_time": "2021-06-22T14:42:05.761Z"
      },
      {
        "duration": 688,
        "start_time": "2021-06-22T14:51:43.432Z"
      },
      {
        "duration": 6,
        "start_time": "2021-06-22T14:51:50.689Z"
      },
      {
        "duration": 53,
        "start_time": "2021-06-22T14:51:50.865Z"
      },
      {
        "duration": 1539,
        "start_time": "2021-06-22T14:52:15.874Z"
      },
      {
        "duration": 58,
        "start_time": "2021-06-22T14:52:17.416Z"
      },
      {
        "duration": 16,
        "start_time": "2021-06-22T14:52:17.477Z"
      },
      {
        "duration": 10,
        "start_time": "2021-06-22T14:52:17.496Z"
      },
      {
        "duration": 28,
        "start_time": "2021-06-22T14:52:17.509Z"
      },
      {
        "duration": 8,
        "start_time": "2021-06-22T14:52:17.540Z"
      },
      {
        "duration": 271,
        "start_time": "2021-06-22T14:52:17.551Z"
      },
      {
        "duration": 18,
        "start_time": "2021-06-22T14:52:17.826Z"
      },
      {
        "duration": 6,
        "start_time": "2021-06-22T14:52:17.847Z"
      },
      {
        "duration": 35,
        "start_time": "2021-06-22T14:52:17.855Z"
      },
      {
        "duration": 165,
        "start_time": "2021-06-22T14:52:17.892Z"
      },
      {
        "duration": 1376,
        "start_time": "2021-06-22T14:52:18.060Z"
      },
      {
        "duration": 479,
        "start_time": "2021-06-22T14:52:19.438Z"
      },
      {
        "duration": 1051,
        "start_time": "2021-06-22T14:52:19.920Z"
      },
      {
        "duration": 40,
        "start_time": "2021-06-22T14:52:20.974Z"
      },
      {
        "duration": 13,
        "start_time": "2021-06-22T14:52:21.016Z"
      },
      {
        "duration": 23,
        "start_time": "2021-06-22T14:52:21.031Z"
      },
      {
        "duration": 62,
        "start_time": "2021-06-22T14:52:21.057Z"
      },
      {
        "duration": 11235,
        "start_time": "2021-06-22T14:52:21.121Z"
      },
      {
        "duration": 3847,
        "start_time": "2021-06-22T14:52:32.358Z"
      },
      {
        "duration": 349,
        "start_time": "2021-06-22T14:52:36.208Z"
      },
      {
        "duration": 572,
        "start_time": "2021-06-22T14:52:36.560Z"
      },
      {
        "duration": 369,
        "start_time": "2021-06-22T14:52:37.139Z"
      },
      {
        "duration": 39,
        "start_time": "2021-06-22T14:52:37.511Z"
      },
      {
        "duration": 58,
        "start_time": "2021-06-22T14:52:37.553Z"
      },
      {
        "duration": 175,
        "start_time": "2021-06-22T14:52:37.613Z"
      },
      {
        "duration": 16,
        "start_time": "2021-06-22T14:52:37.791Z"
      },
      {
        "duration": 2054,
        "start_time": "2021-06-22T14:52:37.810Z"
      },
      {
        "duration": 127,
        "start_time": "2021-06-22T14:52:39.867Z"
      },
      {
        "duration": 133,
        "start_time": "2021-06-22T14:52:39.997Z"
      },
      {
        "duration": 38545,
        "start_time": "2021-06-22T14:52:40.133Z"
      },
      {
        "duration": 19847,
        "start_time": "2021-06-22T14:53:18.680Z"
      },
      {
        "duration": 1338,
        "start_time": "2021-06-22T14:53:38.530Z"
      },
      {
        "duration": 126,
        "start_time": "2021-06-22T14:53:39.871Z"
      },
      {
        "duration": 530,
        "start_time": "2021-06-22T14:53:40.087Z"
      },
      {
        "duration": 10303,
        "start_time": "2021-06-22T14:53:40.620Z"
      },
      {
        "duration": 29,
        "start_time": "2021-06-22T14:53:50.925Z"
      },
      {
        "duration": 31,
        "start_time": "2021-06-22T14:53:50.956Z"
      },
      {
        "duration": 34,
        "start_time": "2021-06-22T14:53:50.989Z"
      },
      {
        "duration": 62,
        "start_time": "2021-06-22T14:53:51.025Z"
      },
      {
        "duration": 503,
        "start_time": "2021-06-22T14:53:51.091Z"
      },
      {
        "duration": 1418,
        "start_time": "2021-06-22T14:59:07.934Z"
      },
      {
        "duration": 1631,
        "start_time": "2021-06-22T15:00:01.994Z"
      },
      {
        "duration": 58,
        "start_time": "2021-06-22T15:00:03.628Z"
      },
      {
        "duration": 13,
        "start_time": "2021-06-22T15:00:03.689Z"
      },
      {
        "duration": 7,
        "start_time": "2021-06-22T15:00:03.704Z"
      },
      {
        "duration": 26,
        "start_time": "2021-06-22T15:00:03.714Z"
      },
      {
        "duration": 45,
        "start_time": "2021-06-22T15:00:03.743Z"
      },
      {
        "duration": 245,
        "start_time": "2021-06-22T15:00:03.791Z"
      },
      {
        "duration": 19,
        "start_time": "2021-06-22T15:00:04.040Z"
      },
      {
        "duration": 25,
        "start_time": "2021-06-22T15:00:04.062Z"
      },
      {
        "duration": 11,
        "start_time": "2021-06-22T15:00:04.089Z"
      },
      {
        "duration": 174,
        "start_time": "2021-06-22T15:00:04.103Z"
      },
      {
        "duration": 1362,
        "start_time": "2021-06-22T15:00:04.284Z"
      },
      {
        "duration": 496,
        "start_time": "2021-06-22T15:00:05.648Z"
      },
      {
        "duration": 1051,
        "start_time": "2021-06-22T15:00:06.147Z"
      },
      {
        "duration": 34,
        "start_time": "2021-06-22T15:00:07.200Z"
      },
      {
        "duration": 13,
        "start_time": "2021-06-22T15:00:07.237Z"
      },
      {
        "duration": 37,
        "start_time": "2021-06-22T15:00:07.253Z"
      },
      {
        "duration": 56,
        "start_time": "2021-06-22T15:00:07.293Z"
      },
      {
        "duration": 13906,
        "start_time": "2021-06-22T15:00:07.351Z"
      },
      {
        "duration": 4544,
        "start_time": "2021-06-22T15:00:21.260Z"
      },
      {
        "duration": 394,
        "start_time": "2021-06-22T15:00:25.807Z"
      },
      {
        "duration": 616,
        "start_time": "2021-06-22T15:00:26.203Z"
      },
      {
        "duration": 381,
        "start_time": "2021-06-22T15:00:26.825Z"
      },
      {
        "duration": 40,
        "start_time": "2021-06-22T15:00:27.210Z"
      },
      {
        "duration": 134,
        "start_time": "2021-06-22T15:00:27.253Z"
      },
      {
        "duration": 110,
        "start_time": "2021-06-22T15:00:27.391Z"
      },
      {
        "duration": 16,
        "start_time": "2021-06-22T15:00:27.503Z"
      },
      {
        "duration": 2092,
        "start_time": "2021-06-22T15:00:27.521Z"
      },
      {
        "duration": 124,
        "start_time": "2021-06-22T15:00:29.616Z"
      },
      {
        "duration": 129,
        "start_time": "2021-06-22T15:00:29.742Z"
      },
      {
        "duration": 43055,
        "start_time": "2021-06-22T15:00:29.874Z"
      },
      {
        "duration": 22838,
        "start_time": "2021-06-22T15:01:12.932Z"
      },
      {
        "duration": 1642,
        "start_time": "2021-06-22T15:01:35.772Z"
      },
      {
        "duration": 172,
        "start_time": "2021-06-22T15:01:37.417Z"
      },
      {
        "duration": 594,
        "start_time": "2021-06-22T15:01:37.593Z"
      },
      {
        "duration": 12359,
        "start_time": "2021-06-22T15:01:38.189Z"
      },
      {
        "duration": 40,
        "start_time": "2021-06-22T15:01:50.550Z"
      },
      {
        "duration": 11,
        "start_time": "2021-06-22T15:01:50.592Z"
      },
      {
        "duration": 35,
        "start_time": "2021-06-22T15:01:50.606Z"
      },
      {
        "duration": 145,
        "start_time": "2021-06-22T15:01:50.643Z"
      },
      {
        "duration": 484,
        "start_time": "2021-06-22T15:01:50.791Z"
      },
      {
        "duration": 1547,
        "start_time": "2021-06-22T15:07:14.652Z"
      },
      {
        "duration": 56,
        "start_time": "2021-06-22T15:07:16.202Z"
      },
      {
        "duration": 12,
        "start_time": "2021-06-22T15:07:16.261Z"
      },
      {
        "duration": 7,
        "start_time": "2021-06-22T15:07:16.285Z"
      },
      {
        "duration": 30,
        "start_time": "2021-06-22T15:07:16.294Z"
      },
      {
        "duration": 17,
        "start_time": "2021-06-22T15:07:16.327Z"
      },
      {
        "duration": 249,
        "start_time": "2021-06-22T15:07:16.347Z"
      },
      {
        "duration": 19,
        "start_time": "2021-06-22T15:07:16.600Z"
      },
      {
        "duration": 6,
        "start_time": "2021-06-22T15:07:16.622Z"
      },
      {
        "duration": 7,
        "start_time": "2021-06-22T15:07:16.631Z"
      },
      {
        "duration": 192,
        "start_time": "2021-06-22T15:07:16.641Z"
      },
      {
        "duration": 1334,
        "start_time": "2021-06-22T15:07:16.835Z"
      },
      {
        "duration": 479,
        "start_time": "2021-06-22T15:07:18.172Z"
      },
      {
        "duration": 1045,
        "start_time": "2021-06-22T15:07:18.654Z"
      },
      {
        "duration": 32,
        "start_time": "2021-06-22T15:07:19.702Z"
      },
      {
        "duration": 12,
        "start_time": "2021-06-22T15:07:19.737Z"
      },
      {
        "duration": 37,
        "start_time": "2021-06-22T15:07:19.752Z"
      },
      {
        "duration": 42,
        "start_time": "2021-06-22T15:07:19.792Z"
      },
      {
        "duration": 10356,
        "start_time": "2021-06-22T15:07:19.837Z"
      },
      {
        "duration": 3689,
        "start_time": "2021-06-22T15:07:30.196Z"
      },
      {
        "duration": 359,
        "start_time": "2021-06-22T15:07:33.887Z"
      },
      {
        "duration": 512,
        "start_time": "2021-06-22T15:07:34.249Z"
      },
      {
        "duration": 305,
        "start_time": "2021-06-22T15:07:34.765Z"
      },
      {
        "duration": 43,
        "start_time": "2021-06-22T15:07:35.072Z"
      },
      {
        "duration": 76,
        "start_time": "2021-06-22T15:07:35.117Z"
      },
      {
        "duration": 107,
        "start_time": "2021-06-22T15:07:35.196Z"
      },
      {
        "duration": 17,
        "start_time": "2021-06-22T15:07:35.305Z"
      },
      {
        "duration": 1774,
        "start_time": "2021-06-22T15:07:35.324Z"
      },
      {
        "duration": 104,
        "start_time": "2021-06-22T15:07:37.100Z"
      },
      {
        "duration": 113,
        "start_time": "2021-06-22T15:07:37.207Z"
      },
      {
        "duration": 34029,
        "start_time": "2021-06-22T15:07:37.323Z"
      },
      {
        "duration": 18503,
        "start_time": "2021-06-22T15:08:11.355Z"
      },
      {
        "duration": 1305,
        "start_time": "2021-06-22T15:08:29.861Z"
      },
      {
        "duration": 216,
        "start_time": "2021-06-22T15:08:31.169Z"
      },
      {
        "duration": 728,
        "start_time": "2021-06-22T15:08:31.389Z"
      },
      {
        "duration": 11857,
        "start_time": "2021-06-22T15:08:32.119Z"
      },
      {
        "duration": 29,
        "start_time": "2021-06-22T15:08:43.986Z"
      },
      {
        "duration": 11,
        "start_time": "2021-06-22T15:08:44.018Z"
      },
      {
        "duration": 65,
        "start_time": "2021-06-22T15:08:44.031Z"
      },
      {
        "duration": 89,
        "start_time": "2021-06-22T15:08:44.098Z"
      },
      {
        "duration": 482,
        "start_time": "2021-06-22T15:08:44.191Z"
      },
      {
        "duration": 6,
        "start_time": "2021-06-22T15:12:20.820Z"
      },
      {
        "duration": 6,
        "start_time": "2021-06-22T15:16:12.318Z"
      },
      {
        "duration": 491,
        "start_time": "2021-06-22T15:16:40.774Z"
      },
      {
        "duration": 7,
        "start_time": "2021-06-22T15:17:08.990Z"
      },
      {
        "duration": 18,
        "start_time": "2021-06-22T15:17:44.710Z"
      },
      {
        "duration": 571,
        "start_time": "2021-06-22T15:18:48.864Z"
      },
      {
        "duration": 1246,
        "start_time": "2021-06-22T15:18:59.713Z"
      },
      {
        "duration": 1648,
        "start_time": "2021-06-22T15:25:31.778Z"
      },
      {
        "duration": 56,
        "start_time": "2021-06-22T15:25:33.428Z"
      },
      {
        "duration": 17,
        "start_time": "2021-06-22T15:25:33.489Z"
      },
      {
        "duration": 5,
        "start_time": "2021-06-22T15:25:33.509Z"
      },
      {
        "duration": 21,
        "start_time": "2021-06-22T15:25:33.516Z"
      },
      {
        "duration": 53,
        "start_time": "2021-06-22T15:25:33.539Z"
      },
      {
        "duration": 255,
        "start_time": "2021-06-22T15:25:33.596Z"
      },
      {
        "duration": 19,
        "start_time": "2021-06-22T15:25:33.855Z"
      },
      {
        "duration": 12,
        "start_time": "2021-06-22T15:25:33.885Z"
      },
      {
        "duration": 7,
        "start_time": "2021-06-22T15:25:33.902Z"
      },
      {
        "duration": 199,
        "start_time": "2021-06-22T15:25:33.912Z"
      },
      {
        "duration": 1398,
        "start_time": "2021-06-22T15:25:34.114Z"
      },
      {
        "duration": 494,
        "start_time": "2021-06-22T15:25:35.516Z"
      },
      {
        "duration": 942,
        "start_time": "2021-06-22T15:25:36.013Z"
      },
      {
        "duration": 50,
        "start_time": "2021-06-22T15:25:36.958Z"
      },
      {
        "duration": 14,
        "start_time": "2021-06-22T15:25:37.011Z"
      },
      {
        "duration": 7,
        "start_time": "2021-06-22T15:25:37.027Z"
      },
      {
        "duration": 88,
        "start_time": "2021-06-22T15:25:37.037Z"
      },
      {
        "duration": 10893,
        "start_time": "2021-06-22T15:25:37.127Z"
      },
      {
        "duration": 3788,
        "start_time": "2021-06-22T15:25:48.023Z"
      },
      {
        "duration": 345,
        "start_time": "2021-06-22T15:25:51.813Z"
      },
      {
        "duration": 511,
        "start_time": "2021-06-22T15:25:52.161Z"
      },
      {
        "duration": 309,
        "start_time": "2021-06-22T15:25:52.691Z"
      },
      {
        "duration": 36,
        "start_time": "2021-06-22T15:25:53.004Z"
      },
      {
        "duration": 67,
        "start_time": "2021-06-22T15:25:53.043Z"
      },
      {
        "duration": 112,
        "start_time": "2021-06-22T15:25:53.188Z"
      },
      {
        "duration": 18,
        "start_time": "2021-06-22T15:25:53.303Z"
      },
      {
        "duration": 1920,
        "start_time": "2021-06-22T15:25:53.323Z"
      },
      {
        "duration": 101,
        "start_time": "2021-06-22T15:25:55.245Z"
      },
      {
        "duration": 106,
        "start_time": "2021-06-22T15:25:55.348Z"
      },
      {
        "duration": 35615,
        "start_time": "2021-06-22T15:25:55.457Z"
      },
      {
        "duration": 19396,
        "start_time": "2021-06-22T15:26:31.074Z"
      },
      {
        "duration": 1303,
        "start_time": "2021-06-22T15:26:50.473Z"
      },
      {
        "duration": 124,
        "start_time": "2021-06-22T15:26:51.786Z"
      },
      {
        "duration": 603,
        "start_time": "2021-06-22T15:26:51.997Z"
      },
      {
        "duration": 12531,
        "start_time": "2021-06-22T15:26:52.602Z"
      },
      {
        "duration": 29,
        "start_time": "2021-06-22T15:27:05.136Z"
      },
      {
        "duration": 496,
        "start_time": "2021-06-22T15:27:05.167Z"
      },
      {
        "duration": 5,
        "start_time": "2021-06-22T15:27:05.666Z"
      },
      {
        "duration": 26,
        "start_time": "2021-06-22T15:27:05.674Z"
      },
      {
        "duration": 22,
        "start_time": "2021-06-22T15:27:05.702Z"
      },
      {
        "duration": 62,
        "start_time": "2021-06-22T15:27:05.726Z"
      },
      {
        "duration": 14,
        "start_time": "2021-06-22T15:27:05.791Z"
      },
      {
        "duration": 521,
        "start_time": "2021-06-22T15:27:05.894Z"
      },
      {
        "duration": 625,
        "start_time": "2021-06-22T15:44:05.927Z"
      },
      {
        "duration": 441,
        "start_time": "2021-06-22T15:44:11.751Z"
      },
      {
        "duration": 299,
        "start_time": "2021-06-22T15:44:23.777Z"
      },
      {
        "duration": 438,
        "start_time": "2021-06-22T15:44:28.808Z"
      },
      {
        "duration": 301,
        "start_time": "2021-06-22T15:45:23.880Z"
      },
      {
        "duration": 447,
        "start_time": "2021-06-22T15:46:14.424Z"
      },
      {
        "duration": 5,
        "start_time": "2021-06-22T15:47:39.393Z"
      },
      {
        "duration": 7,
        "start_time": "2021-06-22T15:47:56.446Z"
      },
      {
        "duration": 299,
        "start_time": "2021-06-22T15:49:32.522Z"
      },
      {
        "duration": 444,
        "start_time": "2021-06-22T15:49:36.657Z"
      },
      {
        "duration": 772,
        "start_time": "2021-06-22T15:54:29.098Z"
      },
      {
        "duration": 50,
        "start_time": "2021-06-22T15:54:29.873Z"
      },
      {
        "duration": 13,
        "start_time": "2021-06-22T15:54:29.997Z"
      },
      {
        "duration": 6,
        "start_time": "2021-06-22T15:54:30.578Z"
      },
      {
        "duration": 23,
        "start_time": "2021-06-22T15:54:30.747Z"
      },
      {
        "duration": 9,
        "start_time": "2021-06-22T15:54:31.249Z"
      },
      {
        "duration": 223,
        "start_time": "2021-06-22T15:54:31.410Z"
      },
      {
        "duration": 18,
        "start_time": "2021-06-22T15:54:31.791Z"
      },
      {
        "duration": 6,
        "start_time": "2021-06-22T15:54:31.937Z"
      },
      {
        "duration": 6,
        "start_time": "2021-06-22T15:54:32.276Z"
      },
      {
        "duration": 154,
        "start_time": "2021-06-22T15:54:32.969Z"
      },
      {
        "duration": 1436,
        "start_time": "2021-06-22T15:54:33.490Z"
      },
      {
        "duration": 398,
        "start_time": "2021-06-22T15:54:34.928Z"
      },
      {
        "duration": 880,
        "start_time": "2021-06-22T15:54:35.328Z"
      },
      {
        "duration": 30,
        "start_time": "2021-06-22T15:54:36.211Z"
      },
      {
        "duration": 13,
        "start_time": "2021-06-22T15:54:36.244Z"
      },
      {
        "duration": 8,
        "start_time": "2021-06-22T15:54:36.377Z"
      },
      {
        "duration": 39,
        "start_time": "2021-06-22T15:54:36.778Z"
      },
      {
        "duration": 10248,
        "start_time": "2021-06-22T15:54:37.769Z"
      },
      {
        "duration": 3469,
        "start_time": "2021-06-22T15:54:48.020Z"
      },
      {
        "duration": 316,
        "start_time": "2021-06-22T15:54:51.492Z"
      },
      {
        "duration": 498,
        "start_time": "2021-06-22T15:54:51.811Z"
      },
      {
        "duration": 297,
        "start_time": "2021-06-22T15:54:52.312Z"
      },
      {
        "duration": 36,
        "start_time": "2021-06-22T15:54:52.611Z"
      },
      {
        "duration": 52,
        "start_time": "2021-06-22T15:54:52.649Z"
      },
      {
        "duration": 185,
        "start_time": "2021-06-22T15:54:52.706Z"
      },
      {
        "duration": 17,
        "start_time": "2021-06-22T15:54:52.893Z"
      },
      {
        "duration": 1645,
        "start_time": "2021-06-22T15:54:52.912Z"
      },
      {
        "duration": 110,
        "start_time": "2021-06-22T15:54:54.559Z"
      },
      {
        "duration": 100,
        "start_time": "2021-06-22T15:54:54.671Z"
      },
      {
        "duration": 34317,
        "start_time": "2021-06-22T15:54:54.773Z"
      },
      {
        "duration": 18344,
        "start_time": "2021-06-22T15:55:29.093Z"
      },
      {
        "duration": 1326,
        "start_time": "2021-06-22T15:55:47.440Z"
      },
      {
        "duration": 128,
        "start_time": "2021-06-22T15:55:48.768Z"
      },
      {
        "duration": 583,
        "start_time": "2021-06-22T15:55:48.987Z"
      },
      {
        "duration": 12485,
        "start_time": "2021-06-22T15:55:49.573Z"
      },
      {
        "duration": 39,
        "start_time": "2021-06-22T15:56:02.061Z"
      },
      {
        "duration": 18,
        "start_time": "2021-06-22T15:56:02.103Z"
      },
      {
        "duration": 345,
        "start_time": "2021-06-22T15:56:30.707Z"
      },
      {
        "duration": 300,
        "start_time": "2021-06-22T15:57:38.426Z"
      },
      {
        "duration": 298,
        "start_time": "2021-06-22T15:57:51.442Z"
      },
      {
        "duration": 305,
        "start_time": "2021-06-22T15:58:06.787Z"
      },
      {
        "duration": 589,
        "start_time": "2021-06-22T15:59:27.556Z"
      },
      {
        "duration": 13,
        "start_time": "2021-06-22T15:59:39.043Z"
      },
      {
        "duration": 443,
        "start_time": "2021-06-22T16:06:10.046Z"
      },
      {
        "duration": 13,
        "start_time": "2021-06-22T16:07:47.765Z"
      },
      {
        "duration": 20,
        "start_time": "2021-06-22T16:09:15.637Z"
      },
      {
        "duration": 8,
        "start_time": "2021-06-22T16:12:24.437Z"
      },
      {
        "duration": 69,
        "start_time": "2021-06-22T16:12:24.448Z"
      },
      {
        "duration": 11,
        "start_time": "2021-06-22T16:12:24.520Z"
      },
      {
        "duration": 6,
        "start_time": "2021-06-22T16:12:24.533Z"
      },
      {
        "duration": 45,
        "start_time": "2021-06-22T16:12:24.541Z"
      },
      {
        "duration": 9,
        "start_time": "2021-06-22T16:12:24.589Z"
      },
      {
        "duration": 240,
        "start_time": "2021-06-22T16:12:24.601Z"
      },
      {
        "duration": 18,
        "start_time": "2021-06-22T16:12:24.843Z"
      },
      {
        "duration": 24,
        "start_time": "2021-06-22T16:12:24.863Z"
      },
      {
        "duration": 9,
        "start_time": "2021-06-22T16:12:24.889Z"
      },
      {
        "duration": 174,
        "start_time": "2021-06-22T16:12:24.900Z"
      },
      {
        "duration": 1438,
        "start_time": "2021-06-22T16:12:25.084Z"
      },
      {
        "duration": 401,
        "start_time": "2021-06-22T16:12:26.524Z"
      },
      {
        "duration": 1594,
        "start_time": "2021-06-22T16:13:15.276Z"
      },
      {
        "duration": 55,
        "start_time": "2021-06-22T16:13:16.873Z"
      },
      {
        "duration": 12,
        "start_time": "2021-06-22T16:13:16.931Z"
      },
      {
        "duration": 19,
        "start_time": "2021-06-22T16:13:16.946Z"
      },
      {
        "duration": 35,
        "start_time": "2021-06-22T16:13:16.967Z"
      },
      {
        "duration": 8,
        "start_time": "2021-06-22T16:13:17.005Z"
      },
      {
        "duration": 249,
        "start_time": "2021-06-22T16:13:17.015Z"
      },
      {
        "duration": 27,
        "start_time": "2021-06-22T16:13:17.267Z"
      },
      {
        "duration": 6,
        "start_time": "2021-06-22T16:13:17.297Z"
      },
      {
        "duration": 14,
        "start_time": "2021-06-22T16:13:17.305Z"
      },
      {
        "duration": 166,
        "start_time": "2021-06-22T16:13:17.322Z"
      },
      {
        "duration": 1398,
        "start_time": "2021-06-22T16:13:17.490Z"
      },
      {
        "duration": 410,
        "start_time": "2021-06-22T16:13:18.890Z"
      },
      {
        "duration": 902,
        "start_time": "2021-06-22T16:13:19.303Z"
      },
      {
        "duration": 32,
        "start_time": "2021-06-22T16:13:20.208Z"
      },
      {
        "duration": 13,
        "start_time": "2021-06-22T16:13:20.242Z"
      },
      {
        "duration": 9,
        "start_time": "2021-06-22T16:13:20.287Z"
      },
      {
        "duration": 45,
        "start_time": "2021-06-22T16:13:20.298Z"
      },
      {
        "duration": 10135,
        "start_time": "2021-06-22T16:13:20.346Z"
      },
      {
        "duration": 3514,
        "start_time": "2021-06-22T16:13:30.486Z"
      },
      {
        "duration": 406,
        "start_time": "2021-06-22T16:13:34.003Z"
      },
      {
        "duration": 501,
        "start_time": "2021-06-22T16:13:34.411Z"
      },
      {
        "duration": 306,
        "start_time": "2021-06-22T16:13:34.919Z"
      },
      {
        "duration": 36,
        "start_time": "2021-06-22T16:13:35.229Z"
      },
      {
        "duration": 119,
        "start_time": "2021-06-22T16:13:35.268Z"
      },
      {
        "duration": 114,
        "start_time": "2021-06-22T16:13:35.390Z"
      },
      {
        "duration": 17,
        "start_time": "2021-06-22T16:13:35.506Z"
      },
      {
        "duration": 1667,
        "start_time": "2021-06-22T16:13:35.525Z"
      },
      {
        "duration": 72,
        "start_time": "2021-06-22T16:13:37.194Z"
      },
      {
        "duration": 88,
        "start_time": "2021-06-22T16:13:37.269Z"
      },
      {
        "duration": 29,
        "start_time": "2021-06-22T16:13:37.359Z"
      },
      {
        "duration": 34053,
        "start_time": "2021-06-22T16:13:37.391Z"
      },
      {
        "duration": 19080,
        "start_time": "2021-06-22T16:14:11.446Z"
      },
      {
        "duration": 1302,
        "start_time": "2021-06-22T16:14:30.529Z"
      },
      {
        "duration": 20,
        "start_time": "2021-06-22T16:14:31.833Z"
      },
      {
        "duration": 139,
        "start_time": "2021-06-22T16:14:31.855Z"
      },
      {
        "duration": 581,
        "start_time": "2021-06-22T16:14:32.087Z"
      },
      {
        "duration": 11533,
        "start_time": "2021-06-22T16:14:32.671Z"
      },
      {
        "duration": 31,
        "start_time": "2021-06-22T16:14:44.207Z"
      },
      {
        "duration": 4,
        "start_time": "2021-06-22T16:14:44.240Z"
      },
      {
        "duration": 47,
        "start_time": "2021-06-22T16:14:44.247Z"
      },
      {
        "duration": 14,
        "start_time": "2021-06-22T16:14:44.297Z"
      },
      {
        "duration": 40,
        "start_time": "2021-06-22T16:14:44.314Z"
      },
      {
        "duration": 106,
        "start_time": "2021-06-22T16:14:44.385Z"
      },
      {
        "duration": 494,
        "start_time": "2021-06-22T16:14:44.494Z"
      },
      {
        "duration": 10,
        "start_time": "2021-06-22T16:19:23.498Z"
      },
      {
        "duration": 57,
        "start_time": "2021-06-22T16:19:23.511Z"
      },
      {
        "duration": 24,
        "start_time": "2021-06-22T16:19:23.571Z"
      },
      {
        "duration": 7,
        "start_time": "2021-06-22T16:19:23.598Z"
      },
      {
        "duration": 25,
        "start_time": "2021-06-22T16:19:23.607Z"
      },
      {
        "duration": 52,
        "start_time": "2021-06-22T16:19:23.635Z"
      },
      {
        "duration": 235,
        "start_time": "2021-06-22T16:19:23.691Z"
      },
      {
        "duration": 19,
        "start_time": "2021-06-22T16:19:23.929Z"
      },
      {
        "duration": 36,
        "start_time": "2021-06-22T16:19:23.951Z"
      },
      {
        "duration": 13,
        "start_time": "2021-06-22T16:19:23.989Z"
      },
      {
        "duration": 234,
        "start_time": "2021-06-22T16:19:24.005Z"
      },
      {
        "duration": 1453,
        "start_time": "2021-06-22T16:19:24.242Z"
      },
      {
        "duration": 413,
        "start_time": "2021-06-22T16:19:25.698Z"
      },
      {
        "duration": 981,
        "start_time": "2021-06-22T16:19:26.115Z"
      },
      {
        "duration": 44,
        "start_time": "2021-06-22T16:19:27.100Z"
      },
      {
        "duration": 41,
        "start_time": "2021-06-22T16:19:27.147Z"
      },
      {
        "duration": 8,
        "start_time": "2021-06-22T16:19:27.191Z"
      },
      {
        "duration": 43,
        "start_time": "2021-06-22T16:19:27.202Z"
      },
      {
        "duration": 9913,
        "start_time": "2021-06-22T16:19:27.247Z"
      },
      {
        "duration": 3477,
        "start_time": "2021-06-22T16:19:37.163Z"
      },
      {
        "duration": 383,
        "start_time": "2021-06-22T16:19:40.643Z"
      },
      {
        "duration": 476,
        "start_time": "2021-06-22T16:19:41.029Z"
      },
      {
        "duration": 293,
        "start_time": "2021-06-22T16:19:41.514Z"
      },
      {
        "duration": 36,
        "start_time": "2021-06-22T16:19:41.810Z"
      },
      {
        "duration": 52,
        "start_time": "2021-06-22T16:19:41.848Z"
      },
      {
        "duration": 112,
        "start_time": "2021-06-22T16:19:41.987Z"
      },
      {
        "duration": 16,
        "start_time": "2021-06-22T16:19:42.101Z"
      },
      {
        "duration": 1546,
        "start_time": "2021-06-22T16:19:42.120Z"
      },
      {
        "duration": 70,
        "start_time": "2021-06-22T16:19:43.669Z"
      },
      {
        "duration": 88,
        "start_time": "2021-06-22T16:19:43.742Z"
      },
      {
        "duration": 12,
        "start_time": "2021-06-22T16:19:43.833Z"
      },
      {
        "duration": 31676,
        "start_time": "2021-06-22T16:19:43.847Z"
      },
      {
        "duration": 16868,
        "start_time": "2021-06-22T16:20:15.525Z"
      },
      {
        "duration": 1141,
        "start_time": "2021-06-22T16:20:32.396Z"
      },
      {
        "duration": 22,
        "start_time": "2021-06-22T16:20:33.540Z"
      },
      {
        "duration": 130,
        "start_time": "2021-06-22T16:20:33.565Z"
      },
      {
        "duration": 613,
        "start_time": "2021-06-22T16:20:33.698Z"
      },
      {
        "duration": 11032,
        "start_time": "2021-06-22T16:20:34.314Z"
      },
      {
        "duration": 44,
        "start_time": "2021-06-22T16:20:45.348Z"
      },
      {
        "duration": 3,
        "start_time": "2021-06-22T16:20:45.395Z"
      },
      {
        "duration": 26,
        "start_time": "2021-06-22T16:20:45.400Z"
      },
      {
        "duration": 16,
        "start_time": "2021-06-22T16:20:45.428Z"
      },
      {
        "duration": 56,
        "start_time": "2021-06-22T16:20:45.447Z"
      },
      {
        "duration": 83,
        "start_time": "2021-06-22T16:20:45.505Z"
      },
      {
        "duration": 510,
        "start_time": "2021-06-22T16:20:45.592Z"
      },
      {
        "duration": 2164,
        "start_time": "2021-06-22T18:18:04.530Z"
      },
      {
        "duration": 75,
        "start_time": "2021-06-22T18:18:06.697Z"
      },
      {
        "duration": 17,
        "start_time": "2021-06-22T18:18:06.776Z"
      },
      {
        "duration": 7,
        "start_time": "2021-06-22T18:18:06.796Z"
      },
      {
        "duration": 30,
        "start_time": "2021-06-22T18:18:06.806Z"
      },
      {
        "duration": 48,
        "start_time": "2021-06-22T18:18:06.839Z"
      },
      {
        "duration": 332,
        "start_time": "2021-06-22T18:18:06.890Z"
      },
      {
        "duration": 26,
        "start_time": "2021-06-22T18:18:07.227Z"
      },
      {
        "duration": 30,
        "start_time": "2021-06-22T18:18:07.257Z"
      },
      {
        "duration": 14,
        "start_time": "2021-06-22T18:18:07.291Z"
      },
      {
        "duration": 234,
        "start_time": "2021-06-22T18:18:07.309Z"
      },
      {
        "duration": 1388,
        "start_time": "2021-06-22T18:18:07.546Z"
      },
      {
        "duration": 424,
        "start_time": "2021-06-22T18:18:08.938Z"
      },
      {
        "duration": 864,
        "start_time": "2021-06-22T18:18:09.365Z"
      },
      {
        "duration": 33,
        "start_time": "2021-06-22T18:18:10.232Z"
      },
      {
        "duration": 13,
        "start_time": "2021-06-22T18:18:10.285Z"
      },
      {
        "duration": 7,
        "start_time": "2021-06-22T18:18:10.300Z"
      },
      {
        "duration": 39,
        "start_time": "2021-06-22T18:18:10.310Z"
      },
      {
        "duration": 10081,
        "start_time": "2021-06-22T18:18:10.351Z"
      },
      {
        "duration": 3518,
        "start_time": "2021-06-22T18:18:20.435Z"
      },
      {
        "duration": 390,
        "start_time": "2021-06-22T18:18:23.955Z"
      },
      {
        "duration": 475,
        "start_time": "2021-06-22T18:18:24.347Z"
      },
      {
        "duration": 309,
        "start_time": "2021-06-22T18:18:24.827Z"
      },
      {
        "duration": 33,
        "start_time": "2021-06-22T18:18:25.139Z"
      },
      {
        "duration": 99,
        "start_time": "2021-06-22T18:18:25.186Z"
      },
      {
        "duration": 113,
        "start_time": "2021-06-22T18:18:25.289Z"
      },
      {
        "duration": 16,
        "start_time": "2021-06-22T18:18:25.404Z"
      },
      {
        "duration": 2098,
        "start_time": "2021-06-22T18:18:25.422Z"
      },
      {
        "duration": 99,
        "start_time": "2021-06-22T18:18:27.523Z"
      },
      {
        "duration": 105,
        "start_time": "2021-06-22T18:18:27.625Z"
      },
      {
        "duration": 17,
        "start_time": "2021-06-22T18:18:27.733Z"
      },
      {
        "duration": 43187,
        "start_time": "2021-06-22T18:18:27.753Z"
      },
      {
        "duration": 21062,
        "start_time": "2021-06-22T18:19:10.943Z"
      },
      {
        "duration": 1137,
        "start_time": "2021-06-22T18:19:32.007Z"
      },
      {
        "duration": 19,
        "start_time": "2021-06-22T18:19:33.146Z"
      },
      {
        "duration": 122,
        "start_time": "2021-06-22T18:19:33.167Z"
      },
      {
        "duration": 594,
        "start_time": "2021-06-22T18:19:33.292Z"
      },
      {
        "duration": 11000,
        "start_time": "2021-06-22T18:19:33.888Z"
      },
      {
        "duration": 28,
        "start_time": "2021-06-22T18:19:44.890Z"
      },
      {
        "duration": 3,
        "start_time": "2021-06-22T18:19:44.920Z"
      },
      {
        "duration": 21,
        "start_time": "2021-06-22T18:19:44.925Z"
      },
      {
        "duration": 43,
        "start_time": "2021-06-22T18:19:44.948Z"
      },
      {
        "duration": 36,
        "start_time": "2021-06-22T18:19:44.994Z"
      },
      {
        "duration": 158,
        "start_time": "2021-06-22T18:19:45.033Z"
      },
      {
        "duration": 491,
        "start_time": "2021-06-22T18:19:45.194Z"
      },
      {
        "duration": 6,
        "start_time": "2021-06-22T18:30:45.534Z"
      },
      {
        "duration": 16,
        "start_time": "2021-06-22T18:30:54.513Z"
      },
      {
        "duration": 1566,
        "start_time": "2021-06-22T18:47:35.589Z"
      },
      {
        "duration": 54,
        "start_time": "2021-06-22T18:47:37.158Z"
      },
      {
        "duration": 11,
        "start_time": "2021-06-22T18:47:37.215Z"
      },
      {
        "duration": 7,
        "start_time": "2021-06-22T18:47:37.229Z"
      },
      {
        "duration": 47,
        "start_time": "2021-06-22T18:47:37.239Z"
      },
      {
        "duration": 7,
        "start_time": "2021-06-22T18:47:37.289Z"
      },
      {
        "duration": 245,
        "start_time": "2021-06-22T18:47:37.299Z"
      },
      {
        "duration": 20,
        "start_time": "2021-06-22T18:47:37.548Z"
      },
      {
        "duration": 19,
        "start_time": "2021-06-22T18:47:37.570Z"
      },
      {
        "duration": 17,
        "start_time": "2021-06-22T18:47:37.592Z"
      },
      {
        "duration": 202,
        "start_time": "2021-06-22T18:47:37.611Z"
      },
      {
        "duration": 1492,
        "start_time": "2021-06-22T18:47:37.815Z"
      },
      {
        "duration": 406,
        "start_time": "2021-06-22T18:47:39.309Z"
      },
      {
        "duration": 828,
        "start_time": "2021-06-22T18:47:39.717Z"
      },
      {
        "duration": 51,
        "start_time": "2021-06-22T18:47:40.547Z"
      },
      {
        "duration": 11,
        "start_time": "2021-06-22T18:47:40.601Z"
      },
      {
        "duration": 7,
        "start_time": "2021-06-22T18:47:40.614Z"
      },
      {
        "duration": 67,
        "start_time": "2021-06-22T18:47:40.623Z"
      },
      {
        "duration": 9620,
        "start_time": "2021-06-22T18:47:40.692Z"
      },
      {
        "duration": 3392,
        "start_time": "2021-06-22T18:47:50.314Z"
      },
      {
        "duration": 378,
        "start_time": "2021-06-22T18:47:53.709Z"
      },
      {
        "duration": 470,
        "start_time": "2021-06-22T18:47:54.089Z"
      },
      {
        "duration": 278,
        "start_time": "2021-06-22T18:47:54.565Z"
      },
      {
        "duration": 50,
        "start_time": "2021-06-22T18:47:54.846Z"
      },
      {
        "duration": 89,
        "start_time": "2021-06-22T18:47:54.899Z"
      },
      {
        "duration": 112,
        "start_time": "2021-06-22T18:47:54.991Z"
      },
      {
        "duration": 16,
        "start_time": "2021-06-22T18:47:55.106Z"
      },
      {
        "duration": 1562,
        "start_time": "2021-06-22T18:47:55.125Z"
      },
      {
        "duration": 67,
        "start_time": "2021-06-22T18:47:56.690Z"
      },
      {
        "duration": 83,
        "start_time": "2021-06-22T18:47:56.759Z"
      },
      {
        "duration": 13,
        "start_time": "2021-06-22T18:47:56.845Z"
      },
      {
        "duration": 31328,
        "start_time": "2021-06-22T18:47:56.861Z"
      },
      {
        "duration": 16647,
        "start_time": "2021-06-22T18:48:28.192Z"
      },
      {
        "duration": 1155,
        "start_time": "2021-06-22T18:48:44.841Z"
      },
      {
        "duration": 18,
        "start_time": "2021-06-22T18:48:45.998Z"
      },
      {
        "duration": 174,
        "start_time": "2021-06-22T18:48:46.018Z"
      },
      {
        "duration": 462,
        "start_time": "2021-06-22T18:48:46.285Z"
      },
      {
        "duration": 11099,
        "start_time": "2021-06-22T18:48:46.749Z"
      },
      {
        "duration": 40,
        "start_time": "2021-06-22T18:48:57.851Z"
      },
      {
        "duration": 3,
        "start_time": "2021-06-22T18:48:57.893Z"
      },
      {
        "duration": 18,
        "start_time": "2021-06-22T18:48:57.898Z"
      },
      {
        "duration": 11,
        "start_time": "2021-06-22T18:48:57.918Z"
      },
      {
        "duration": 70,
        "start_time": "2021-06-22T18:48:57.931Z"
      },
      {
        "duration": 82,
        "start_time": "2021-06-22T18:48:58.003Z"
      },
      {
        "duration": 508,
        "start_time": "2021-06-22T18:48:58.089Z"
      },
      {
        "duration": 13,
        "start_time": "2021-06-22T18:48:58.600Z"
      },
      {
        "duration": 1602,
        "start_time": "2021-06-23T11:20:52.734Z"
      },
      {
        "duration": 440,
        "start_time": "2021-06-23T11:20:54.338Z"
      },
      {
        "duration": 11,
        "start_time": "2021-06-23T11:20:54.781Z"
      },
      {
        "duration": 6,
        "start_time": "2021-06-23T11:20:54.795Z"
      },
      {
        "duration": 21,
        "start_time": "2021-06-23T11:20:54.804Z"
      },
      {
        "duration": 8,
        "start_time": "2021-06-23T11:20:54.827Z"
      },
      {
        "duration": 247,
        "start_time": "2021-06-23T11:20:54.837Z"
      },
      {
        "duration": 28,
        "start_time": "2021-06-23T11:20:55.088Z"
      },
      {
        "duration": 6,
        "start_time": "2021-06-23T11:20:55.119Z"
      },
      {
        "duration": 19,
        "start_time": "2021-06-23T11:20:55.127Z"
      },
      {
        "duration": 168,
        "start_time": "2021-06-23T11:20:55.149Z"
      },
      {
        "duration": 1333,
        "start_time": "2021-06-23T11:20:55.319Z"
      },
      {
        "duration": 373,
        "start_time": "2021-06-23T11:20:56.655Z"
      },
      {
        "duration": 807,
        "start_time": "2021-06-23T11:20:57.030Z"
      },
      {
        "duration": 30,
        "start_time": "2021-06-23T11:20:57.839Z"
      },
      {
        "duration": 37,
        "start_time": "2021-06-23T11:20:57.871Z"
      },
      {
        "duration": 7,
        "start_time": "2021-06-23T11:20:57.911Z"
      },
      {
        "duration": 43,
        "start_time": "2021-06-23T11:20:57.920Z"
      },
      {
        "duration": 9678,
        "start_time": "2021-06-23T11:20:57.965Z"
      },
      {
        "duration": 3320,
        "start_time": "2021-06-23T11:21:07.646Z"
      },
      {
        "duration": 382,
        "start_time": "2021-06-23T11:21:10.969Z"
      },
      {
        "duration": 465,
        "start_time": "2021-06-23T11:21:11.353Z"
      },
      {
        "duration": 263,
        "start_time": "2021-06-23T11:21:11.823Z"
      },
      {
        "duration": 41,
        "start_time": "2021-06-23T11:21:12.089Z"
      },
      {
        "duration": 73,
        "start_time": "2021-06-23T11:21:12.133Z"
      },
      {
        "duration": 104,
        "start_time": "2021-06-23T11:21:12.209Z"
      },
      {
        "duration": 16,
        "start_time": "2021-06-23T11:21:12.316Z"
      },
      {
        "duration": 1527,
        "start_time": "2021-06-23T11:21:12.335Z"
      },
      {
        "duration": 72,
        "start_time": "2021-06-23T11:21:13.865Z"
      },
      {
        "duration": 76,
        "start_time": "2021-06-23T11:21:13.939Z"
      },
      {
        "duration": 12,
        "start_time": "2021-06-23T11:21:14.018Z"
      },
      {
        "duration": 30079,
        "start_time": "2021-06-23T11:21:14.033Z"
      },
      {
        "duration": 16800,
        "start_time": "2021-06-23T11:21:44.115Z"
      },
      {
        "duration": 1111,
        "start_time": "2021-06-23T11:22:00.917Z"
      },
      {
        "duration": 20,
        "start_time": "2021-06-23T11:22:02.030Z"
      },
      {
        "duration": 153,
        "start_time": "2021-06-23T11:22:02.052Z"
      },
      {
        "duration": 347,
        "start_time": "2021-06-23T11:22:02.208Z"
      },
      {
        "duration": 6491,
        "start_time": "2021-06-23T11:22:02.558Z"
      },
      {
        "duration": 25,
        "start_time": "2021-06-23T11:22:09.052Z"
      },
      {
        "duration": 23,
        "start_time": "2021-06-23T11:22:09.080Z"
      },
      {
        "duration": 18,
        "start_time": "2021-06-23T11:22:09.106Z"
      },
      {
        "duration": 13,
        "start_time": "2021-06-23T11:22:09.126Z"
      },
      {
        "duration": 82,
        "start_time": "2021-06-23T11:22:09.142Z"
      },
      {
        "duration": 76,
        "start_time": "2021-06-23T11:22:09.226Z"
      },
      {
        "duration": 485,
        "start_time": "2021-06-23T11:22:09.306Z"
      },
      {
        "duration": 14,
        "start_time": "2021-06-23T11:22:09.800Z"
      },
      {
        "duration": 1957,
        "start_time": "2021-06-23T11:59:20.119Z"
      },
      {
        "duration": 53,
        "start_time": "2021-06-23T11:59:22.079Z"
      },
      {
        "duration": 12,
        "start_time": "2021-06-23T11:59:22.135Z"
      },
      {
        "duration": 7,
        "start_time": "2021-06-23T11:59:22.149Z"
      },
      {
        "duration": 47,
        "start_time": "2021-06-23T11:59:22.158Z"
      },
      {
        "duration": 9,
        "start_time": "2021-06-23T11:59:22.207Z"
      },
      {
        "duration": 239,
        "start_time": "2021-06-23T11:59:22.218Z"
      },
      {
        "duration": 23,
        "start_time": "2021-06-23T11:59:22.461Z"
      },
      {
        "duration": 6,
        "start_time": "2021-06-23T11:59:22.500Z"
      },
      {
        "duration": 15,
        "start_time": "2021-06-23T11:59:22.508Z"
      },
      {
        "duration": 170,
        "start_time": "2021-06-23T11:59:22.525Z"
      },
      {
        "duration": 1483,
        "start_time": "2021-06-23T11:59:22.700Z"
      },
      {
        "duration": 392,
        "start_time": "2021-06-23T11:59:24.186Z"
      },
      {
        "duration": 775,
        "start_time": "2021-06-23T11:59:24.580Z"
      },
      {
        "duration": 47,
        "start_time": "2021-06-23T11:59:25.357Z"
      },
      {
        "duration": 12,
        "start_time": "2021-06-23T11:59:25.406Z"
      },
      {
        "duration": 10,
        "start_time": "2021-06-23T11:59:25.420Z"
      },
      {
        "duration": 73,
        "start_time": "2021-06-23T11:59:25.432Z"
      },
      {
        "duration": 9845,
        "start_time": "2021-06-23T11:59:25.507Z"
      },
      {
        "duration": 3328,
        "start_time": "2021-06-23T11:59:35.355Z"
      },
      {
        "duration": 375,
        "start_time": "2021-06-23T11:59:38.685Z"
      },
      {
        "duration": 465,
        "start_time": "2021-06-23T11:59:39.062Z"
      },
      {
        "duration": 281,
        "start_time": "2021-06-23T11:59:39.532Z"
      },
      {
        "duration": 33,
        "start_time": "2021-06-23T11:59:39.817Z"
      },
      {
        "duration": 148,
        "start_time": "2021-06-23T11:59:39.853Z"
      },
      {
        "duration": 110,
        "start_time": "2021-06-23T11:59:40.005Z"
      },
      {
        "duration": 15,
        "start_time": "2021-06-23T11:59:40.117Z"
      },
      {
        "duration": 1587,
        "start_time": "2021-06-23T11:59:40.134Z"
      },
      {
        "duration": 82,
        "start_time": "2021-06-23T11:59:41.723Z"
      },
      {
        "duration": 69,
        "start_time": "2021-06-23T11:59:41.808Z"
      },
      {
        "duration": 29,
        "start_time": "2021-06-23T11:59:41.880Z"
      },
      {
        "duration": 30567,
        "start_time": "2021-06-23T11:59:41.911Z"
      },
      {
        "duration": 16433,
        "start_time": "2021-06-23T12:00:12.480Z"
      },
      {
        "duration": 1166,
        "start_time": "2021-06-23T12:00:28.915Z"
      },
      {
        "duration": 27,
        "start_time": "2021-06-23T12:00:30.084Z"
      },
      {
        "duration": 190,
        "start_time": "2021-06-23T12:00:30.114Z"
      },
      {
        "duration": 546,
        "start_time": "2021-06-23T12:00:30.307Z"
      },
      {
        "duration": 756,
        "start_time": "2021-06-23T12:00:30.101Z"
      },
      {
        "duration": 753,
        "start_time": "2021-06-23T12:00:30.107Z"
      },
      {
        "duration": 751,
        "start_time": "2021-06-23T12:00:30.111Z"
      },
      {
        "duration": 748,
        "start_time": "2021-06-23T12:00:30.116Z"
      },
      {
        "duration": 747,
        "start_time": "2021-06-23T12:00:30.120Z"
      },
      {
        "duration": 745,
        "start_time": "2021-06-23T12:00:30.124Z"
      },
      {
        "duration": 743,
        "start_time": "2021-06-23T12:00:30.128Z"
      },
      {
        "duration": 734,
        "start_time": "2021-06-23T12:00:30.139Z"
      },
      {
        "duration": 732,
        "start_time": "2021-06-23T12:00:30.143Z"
      },
      {
        "duration": 255,
        "start_time": "2021-06-23T12:02:59.756Z"
      },
      {
        "duration": 6854,
        "start_time": "2021-06-23T12:03:00.124Z"
      },
      {
        "duration": 33,
        "start_time": "2021-06-23T12:03:06.981Z"
      },
      {
        "duration": 4,
        "start_time": "2021-06-23T12:03:07.018Z"
      },
      {
        "duration": 14,
        "start_time": "2021-06-23T12:03:07.025Z"
      },
      {
        "duration": 74,
        "start_time": "2021-06-23T12:03:07.042Z"
      },
      {
        "duration": 82,
        "start_time": "2021-06-23T12:03:07.119Z"
      },
      {
        "duration": 497,
        "start_time": "2021-06-23T12:03:07.204Z"
      },
      {
        "duration": 14,
        "start_time": "2021-06-23T12:03:07.703Z"
      },
      {
        "duration": 27,
        "start_time": "2021-06-23T12:03:47.054Z"
      },
      {
        "duration": 25,
        "start_time": "2021-06-23T12:03:51.447Z"
      },
      {
        "duration": 3,
        "start_time": "2021-06-23T12:03:55.517Z"
      },
      {
        "duration": 11,
        "start_time": "2021-06-23T12:03:56.669Z"
      },
      {
        "duration": 36,
        "start_time": "2021-06-23T12:03:56.852Z"
      },
      {
        "duration": 57,
        "start_time": "2021-06-23T12:03:57.045Z"
      },
      {
        "duration": 403,
        "start_time": "2021-06-23T12:03:57.501Z"
      },
      {
        "duration": 13,
        "start_time": "2021-06-23T12:03:57.906Z"
      },
      {
        "duration": 1612,
        "start_time": "2021-06-23T12:05:42.152Z"
      },
      {
        "duration": 58,
        "start_time": "2021-06-23T12:05:43.767Z"
      },
      {
        "duration": 15,
        "start_time": "2021-06-23T12:05:43.830Z"
      },
      {
        "duration": 6,
        "start_time": "2021-06-23T12:05:43.848Z"
      },
      {
        "duration": 56,
        "start_time": "2021-06-23T12:05:43.857Z"
      },
      {
        "duration": 8,
        "start_time": "2021-06-23T12:05:43.915Z"
      },
      {
        "duration": 251,
        "start_time": "2021-06-23T12:05:43.926Z"
      },
      {
        "duration": 34,
        "start_time": "2021-06-23T12:05:44.181Z"
      },
      {
        "duration": 5,
        "start_time": "2021-06-23T12:05:44.218Z"
      },
      {
        "duration": 11,
        "start_time": "2021-06-23T12:05:44.226Z"
      },
      {
        "duration": 177,
        "start_time": "2021-06-23T12:05:44.240Z"
      },
      {
        "duration": 1361,
        "start_time": "2021-06-23T12:05:44.419Z"
      },
      {
        "duration": 383,
        "start_time": "2021-06-23T12:05:45.783Z"
      },
      {
        "duration": 931,
        "start_time": "2021-06-23T12:05:46.169Z"
      },
      {
        "duration": 31,
        "start_time": "2021-06-23T12:05:47.102Z"
      },
      {
        "duration": 11,
        "start_time": "2021-06-23T12:05:47.135Z"
      },
      {
        "duration": 10,
        "start_time": "2021-06-23T12:05:47.149Z"
      },
      {
        "duration": 75,
        "start_time": "2021-06-23T12:05:47.161Z"
      },
      {
        "duration": 9396,
        "start_time": "2021-06-23T12:05:47.239Z"
      },
      {
        "duration": 3441,
        "start_time": "2021-06-23T12:05:56.638Z"
      },
      {
        "duration": 392,
        "start_time": "2021-06-23T12:06:00.082Z"
      },
      {
        "duration": 494,
        "start_time": "2021-06-23T12:06:00.476Z"
      },
      {
        "duration": 292,
        "start_time": "2021-06-23T12:06:00.975Z"
      },
      {
        "duration": 49,
        "start_time": "2021-06-23T12:06:01.270Z"
      },
      {
        "duration": 85,
        "start_time": "2021-06-23T12:06:01.322Z"
      },
      {
        "duration": 111,
        "start_time": "2021-06-23T12:06:01.411Z"
      },
      {
        "duration": 14,
        "start_time": "2021-06-23T12:06:01.525Z"
      },
      {
        "duration": 1559,
        "start_time": "2021-06-23T12:06:01.542Z"
      },
      {
        "duration": 70,
        "start_time": "2021-06-23T12:06:03.104Z"
      },
      {
        "duration": 87,
        "start_time": "2021-06-23T12:06:03.177Z"
      },
      {
        "duration": 34,
        "start_time": "2021-06-23T12:06:03.266Z"
      },
      {
        "duration": 30501,
        "start_time": "2021-06-23T12:06:03.303Z"
      },
      {
        "duration": 16274,
        "start_time": "2021-06-23T12:06:33.806Z"
      },
      {
        "duration": 1094,
        "start_time": "2021-06-23T12:06:50.083Z"
      },
      {
        "duration": 31,
        "start_time": "2021-06-23T12:06:51.180Z"
      },
      {
        "duration": 97,
        "start_time": "2021-06-23T12:06:51.214Z"
      },
      {
        "duration": 341,
        "start_time": "2021-06-23T12:06:51.402Z"
      },
      {
        "duration": 6831,
        "start_time": "2021-06-23T12:06:51.746Z"
      },
      {
        "duration": 40,
        "start_time": "2021-06-23T12:06:58.579Z"
      },
      {
        "duration": 4,
        "start_time": "2021-06-23T12:06:58.621Z"
      },
      {
        "duration": 12,
        "start_time": "2021-06-23T12:06:58.627Z"
      },
      {
        "duration": 35,
        "start_time": "2021-06-23T12:06:58.641Z"
      },
      {
        "duration": 32,
        "start_time": "2021-06-23T12:06:58.679Z"
      },
      {
        "duration": 527,
        "start_time": "2021-06-23T12:06:58.804Z"
      },
      {
        "duration": 69,
        "start_time": "2021-06-23T12:06:59.333Z"
      },
      {
        "duration": 1019,
        "start_time": "2021-06-23T12:11:36.211Z"
      },
      {
        "duration": 381,
        "start_time": "2021-06-23T12:14:11.228Z"
      },
      {
        "duration": 14,
        "start_time": "2021-06-23T12:14:27.971Z"
      },
      {
        "duration": 34,
        "start_time": "2021-06-23T12:15:25.253Z"
      },
      {
        "duration": 27,
        "start_time": "2021-06-23T12:16:44.116Z"
      },
      {
        "duration": 13,
        "start_time": "2021-06-23T12:16:57.044Z"
      },
      {
        "duration": 71,
        "start_time": "2021-06-23T12:17:51.404Z"
      },
      {
        "duration": 13,
        "start_time": "2021-06-23T12:18:11.053Z"
      },
      {
        "duration": 411,
        "start_time": "2021-06-23T12:19:34.750Z"
      },
      {
        "duration": 1079,
        "start_time": "2021-06-23T12:19:55.246Z"
      },
      {
        "duration": 14,
        "start_time": "2021-06-23T12:20:05.493Z"
      },
      {
        "duration": 152,
        "start_time": "2021-06-23T12:20:45.358Z"
      },
      {
        "duration": 14,
        "start_time": "2021-06-23T12:21:03.501Z"
      },
      {
        "duration": 1613,
        "start_time": "2021-06-23T12:21:20.468Z"
      },
      {
        "duration": 56,
        "start_time": "2021-06-23T12:21:22.083Z"
      },
      {
        "duration": 12,
        "start_time": "2021-06-23T12:21:22.142Z"
      },
      {
        "duration": 6,
        "start_time": "2021-06-23T12:21:22.157Z"
      },
      {
        "duration": 55,
        "start_time": "2021-06-23T12:21:22.165Z"
      },
      {
        "duration": 9,
        "start_time": "2021-06-23T12:21:22.223Z"
      },
      {
        "duration": 261,
        "start_time": "2021-06-23T12:21:22.234Z"
      },
      {
        "duration": 23,
        "start_time": "2021-06-23T12:21:22.502Z"
      },
      {
        "duration": 6,
        "start_time": "2021-06-23T12:21:22.528Z"
      },
      {
        "duration": 12,
        "start_time": "2021-06-23T12:21:22.537Z"
      },
      {
        "duration": 189,
        "start_time": "2021-06-23T12:21:22.552Z"
      },
      {
        "duration": 1507,
        "start_time": "2021-06-23T12:21:22.743Z"
      },
      {
        "duration": 391,
        "start_time": "2021-06-23T12:21:24.252Z"
      },
      {
        "duration": 941,
        "start_time": "2021-06-23T12:21:24.645Z"
      },
      {
        "duration": 39,
        "start_time": "2021-06-23T12:21:25.589Z"
      },
      {
        "duration": 12,
        "start_time": "2021-06-23T12:21:25.630Z"
      },
      {
        "duration": 9,
        "start_time": "2021-06-23T12:21:25.644Z"
      },
      {
        "duration": 71,
        "start_time": "2021-06-23T12:21:25.655Z"
      },
      {
        "duration": 9815,
        "start_time": "2021-06-23T12:21:25.728Z"
      },
      {
        "duration": 3500,
        "start_time": "2021-06-23T12:21:35.546Z"
      },
      {
        "duration": 392,
        "start_time": "2021-06-23T12:21:39.049Z"
      },
      {
        "duration": 477,
        "start_time": "2021-06-23T12:21:39.443Z"
      },
      {
        "duration": 283,
        "start_time": "2021-06-23T12:21:39.925Z"
      },
      {
        "duration": 34,
        "start_time": "2021-06-23T12:21:40.210Z"
      },
      {
        "duration": 62,
        "start_time": "2021-06-23T12:21:40.246Z"
      },
      {
        "duration": 20,
        "start_time": "2021-06-23T12:21:40.402Z"
      },
      {
        "duration": 15,
        "start_time": "2021-06-23T12:21:40.424Z"
      },
      {
        "duration": 1617,
        "start_time": "2021-06-23T12:21:40.442Z"
      },
      {
        "duration": 83,
        "start_time": "2021-06-23T12:21:42.063Z"
      },
      {
        "duration": 101,
        "start_time": "2021-06-23T12:21:42.149Z"
      },
      {
        "duration": 13,
        "start_time": "2021-06-23T12:21:42.253Z"
      },
      {
        "duration": 30336,
        "start_time": "2021-06-23T12:21:42.269Z"
      },
      {
        "duration": 16071,
        "start_time": "2021-06-23T12:22:12.608Z"
      },
      {
        "duration": 1123,
        "start_time": "2021-06-23T12:22:28.681Z"
      },
      {
        "duration": 18,
        "start_time": "2021-06-23T12:22:29.806Z"
      },
      {
        "duration": 182,
        "start_time": "2021-06-23T12:22:29.827Z"
      },
      {
        "duration": 267,
        "start_time": "2021-06-23T12:22:30.101Z"
      },
      {
        "duration": 6791,
        "start_time": "2021-06-23T12:22:30.371Z"
      },
      {
        "duration": 50,
        "start_time": "2021-06-23T12:22:37.164Z"
      },
      {
        "duration": 3,
        "start_time": "2021-06-23T12:22:37.217Z"
      },
      {
        "duration": 25,
        "start_time": "2021-06-23T12:22:37.222Z"
      },
      {
        "duration": 53,
        "start_time": "2021-06-23T12:22:37.249Z"
      },
      {
        "duration": 14,
        "start_time": "2021-06-23T12:22:37.304Z"
      },
      {
        "duration": 582,
        "start_time": "2021-06-23T12:22:37.320Z"
      },
      {
        "duration": 13,
        "start_time": "2021-06-23T12:22:37.905Z"
      },
      {
        "duration": 1523,
        "start_time": "2021-06-23T12:23:28.842Z"
      },
      {
        "duration": 56,
        "start_time": "2021-06-23T12:23:30.368Z"
      },
      {
        "duration": 12,
        "start_time": "2021-06-23T12:23:30.427Z"
      },
      {
        "duration": 13,
        "start_time": "2021-06-23T12:23:30.441Z"
      },
      {
        "duration": 44,
        "start_time": "2021-06-23T12:23:30.456Z"
      },
      {
        "duration": 19,
        "start_time": "2021-06-23T12:23:30.503Z"
      },
      {
        "duration": 235,
        "start_time": "2021-06-23T12:23:30.524Z"
      },
      {
        "duration": 18,
        "start_time": "2021-06-23T12:23:30.763Z"
      },
      {
        "duration": 8,
        "start_time": "2021-06-23T12:23:30.800Z"
      },
      {
        "duration": 9,
        "start_time": "2021-06-23T12:23:30.810Z"
      },
      {
        "duration": 168,
        "start_time": "2021-06-23T12:23:30.822Z"
      },
      {
        "duration": 1486,
        "start_time": "2021-06-23T12:23:30.992Z"
      },
      {
        "duration": 409,
        "start_time": "2021-06-23T12:23:32.480Z"
      },
      {
        "duration": 952,
        "start_time": "2021-06-23T12:23:32.892Z"
      },
      {
        "duration": 33,
        "start_time": "2021-06-23T12:23:33.847Z"
      },
      {
        "duration": 15,
        "start_time": "2021-06-23T12:23:33.900Z"
      },
      {
        "duration": 12,
        "start_time": "2021-06-23T12:23:33.917Z"
      },
      {
        "duration": 69,
        "start_time": "2021-06-23T12:23:33.931Z"
      },
      {
        "duration": 10453,
        "start_time": "2021-06-23T12:23:34.003Z"
      },
      {
        "duration": 3567,
        "start_time": "2021-06-23T12:23:44.458Z"
      },
      {
        "duration": 411,
        "start_time": "2021-06-23T12:23:48.027Z"
      },
      {
        "duration": 509,
        "start_time": "2021-06-23T12:23:48.441Z"
      },
      {
        "duration": 302,
        "start_time": "2021-06-23T12:23:48.955Z"
      },
      {
        "duration": 45,
        "start_time": "2021-06-23T12:23:49.260Z"
      },
      {
        "duration": 95,
        "start_time": "2021-06-23T12:23:49.307Z"
      },
      {
        "duration": 112,
        "start_time": "2021-06-23T12:23:49.406Z"
      },
      {
        "duration": 16,
        "start_time": "2021-06-23T12:23:49.521Z"
      },
      {
        "duration": 1820,
        "start_time": "2021-06-23T12:23:49.540Z"
      },
      {
        "duration": 89,
        "start_time": "2021-06-23T12:23:51.363Z"
      },
      {
        "duration": 91,
        "start_time": "2021-06-23T12:23:51.454Z"
      },
      {
        "duration": 12,
        "start_time": "2021-06-23T12:23:51.548Z"
      },
      {
        "duration": 33287,
        "start_time": "2021-06-23T12:23:51.562Z"
      },
      {
        "duration": 18357,
        "start_time": "2021-06-23T12:24:24.852Z"
      },
      {
        "duration": 1317,
        "start_time": "2021-06-23T12:24:43.212Z"
      },
      {
        "duration": 19,
        "start_time": "2021-06-23T12:24:44.531Z"
      },
      {
        "duration": 161,
        "start_time": "2021-06-23T12:24:44.553Z"
      },
      {
        "duration": 301,
        "start_time": "2021-06-23T12:24:44.802Z"
      },
      {
        "duration": 7666,
        "start_time": "2021-06-23T12:24:45.105Z"
      },
      {
        "duration": 68,
        "start_time": "2021-06-23T12:24:52.774Z"
      },
      {
        "duration": 4,
        "start_time": "2021-06-23T12:24:52.845Z"
      },
      {
        "duration": 16,
        "start_time": "2021-06-23T12:24:52.851Z"
      },
      {
        "duration": 62,
        "start_time": "2021-06-23T12:24:52.869Z"
      },
      {
        "duration": 75,
        "start_time": "2021-06-23T12:24:52.933Z"
      },
      {
        "duration": 541,
        "start_time": "2021-06-23T12:24:53.011Z"
      },
      {
        "duration": 13,
        "start_time": "2021-06-23T12:24:53.555Z"
      },
      {
        "duration": 453,
        "start_time": "2021-06-23T12:41:21.252Z"
      },
      {
        "duration": 14,
        "start_time": "2021-06-23T12:42:12.980Z"
      },
      {
        "duration": 1584,
        "start_time": "2021-06-23T12:53:28.653Z"
      },
      {
        "duration": 55,
        "start_time": "2021-06-23T12:53:30.240Z"
      },
      {
        "duration": 12,
        "start_time": "2021-06-23T12:53:30.298Z"
      },
      {
        "duration": 13,
        "start_time": "2021-06-23T12:53:30.312Z"
      },
      {
        "duration": 23,
        "start_time": "2021-06-23T12:53:30.328Z"
      },
      {
        "duration": 8,
        "start_time": "2021-06-23T12:53:30.353Z"
      },
      {
        "duration": 259,
        "start_time": "2021-06-23T12:53:30.364Z"
      },
      {
        "duration": 18,
        "start_time": "2021-06-23T12:53:30.627Z"
      },
      {
        "duration": 8,
        "start_time": "2021-06-23T12:53:30.648Z"
      },
      {
        "duration": 25,
        "start_time": "2021-06-23T12:53:30.658Z"
      },
      {
        "duration": 163,
        "start_time": "2021-06-23T12:53:30.685Z"
      },
      {
        "duration": 1403,
        "start_time": "2021-06-23T12:53:30.850Z"
      },
      {
        "duration": 389,
        "start_time": "2021-06-23T12:53:32.255Z"
      },
      {
        "duration": 931,
        "start_time": "2021-06-23T12:53:32.647Z"
      },
      {
        "duration": 39,
        "start_time": "2021-06-23T12:53:33.580Z"
      },
      {
        "duration": 13,
        "start_time": "2021-06-23T12:53:33.621Z"
      },
      {
        "duration": 16,
        "start_time": "2021-06-23T12:53:33.637Z"
      },
      {
        "duration": 71,
        "start_time": "2021-06-23T12:53:33.655Z"
      },
      {
        "duration": 10093,
        "start_time": "2021-06-23T12:53:33.729Z"
      },
      {
        "duration": 3704,
        "start_time": "2021-06-23T12:53:43.824Z"
      },
      {
        "duration": 404,
        "start_time": "2021-06-23T12:53:47.531Z"
      },
      {
        "duration": 510,
        "start_time": "2021-06-23T12:53:47.937Z"
      },
      {
        "duration": 300,
        "start_time": "2021-06-23T12:53:48.453Z"
      },
      {
        "duration": 46,
        "start_time": "2021-06-23T12:53:48.756Z"
      },
      {
        "duration": 30,
        "start_time": "2021-06-23T12:53:48.805Z"
      },
      {
        "duration": 114,
        "start_time": "2021-06-23T12:53:48.903Z"
      },
      {
        "duration": 17,
        "start_time": "2021-06-23T12:53:49.020Z"
      },
      {
        "duration": 1759,
        "start_time": "2021-06-23T12:53:49.039Z"
      },
      {
        "duration": 75,
        "start_time": "2021-06-23T12:53:50.801Z"
      },
      {
        "duration": 96,
        "start_time": "2021-06-23T12:53:50.879Z"
      },
      {
        "duration": 33,
        "start_time": "2021-06-23T12:53:50.977Z"
      },
      {
        "duration": 34081,
        "start_time": "2021-06-23T12:53:51.013Z"
      },
      {
        "duration": 18871,
        "start_time": "2021-06-23T12:54:25.096Z"
      },
      {
        "duration": 1244,
        "start_time": "2021-06-23T12:54:43.970Z"
      },
      {
        "duration": 19,
        "start_time": "2021-06-23T12:54:45.217Z"
      },
      {
        "duration": 167,
        "start_time": "2021-06-23T12:54:45.239Z"
      },
      {
        "duration": 369,
        "start_time": "2021-06-23T12:54:45.409Z"
      },
      {
        "duration": 7493,
        "start_time": "2021-06-23T12:54:45.780Z"
      },
      {
        "duration": 59,
        "start_time": "2021-06-23T12:54:53.275Z"
      },
      {
        "duration": 477,
        "start_time": "2021-06-23T12:54:53.337Z"
      },
      {
        "duration": 16,
        "start_time": "2021-06-23T12:54:53.818Z"
      },
      {
        "duration": 13,
        "start_time": "2021-06-23T12:54:53.837Z"
      },
      {
        "duration": 73,
        "start_time": "2021-06-23T12:54:53.853Z"
      },
      {
        "duration": 79,
        "start_time": "2021-06-23T12:54:53.929Z"
      },
      {
        "duration": 413,
        "start_time": "2021-06-23T12:54:54.100Z"
      },
      {
        "duration": 13,
        "start_time": "2021-06-23T12:54:54.516Z"
      },
      {
        "duration": 1780,
        "start_time": "2021-06-23T13:02:11.389Z"
      },
      {
        "duration": 81,
        "start_time": "2021-06-23T13:02:13.172Z"
      },
      {
        "duration": 20,
        "start_time": "2021-06-23T13:02:13.258Z"
      },
      {
        "duration": 24,
        "start_time": "2021-06-23T13:02:13.282Z"
      },
      {
        "duration": 33,
        "start_time": "2021-06-23T13:02:13.309Z"
      },
      {
        "duration": 12,
        "start_time": "2021-06-23T13:02:13.345Z"
      },
      {
        "duration": 318,
        "start_time": "2021-06-23T13:02:13.360Z"
      },
      {
        "duration": 36,
        "start_time": "2021-06-23T13:02:13.682Z"
      },
      {
        "duration": 7,
        "start_time": "2021-06-23T13:02:13.722Z"
      },
      {
        "duration": 8,
        "start_time": "2021-06-23T13:02:13.732Z"
      },
      {
        "duration": 179,
        "start_time": "2021-06-23T13:02:13.743Z"
      },
      {
        "duration": 1344,
        "start_time": "2021-06-23T13:02:13.925Z"
      },
      {
        "duration": 396,
        "start_time": "2021-06-23T13:02:15.271Z"
      },
      {
        "duration": 924,
        "start_time": "2021-06-23T13:02:15.670Z"
      },
      {
        "duration": 32,
        "start_time": "2021-06-23T13:02:16.597Z"
      },
      {
        "duration": 13,
        "start_time": "2021-06-23T13:02:16.631Z"
      },
      {
        "duration": 56,
        "start_time": "2021-06-23T13:02:16.647Z"
      },
      {
        "duration": 42,
        "start_time": "2021-06-23T13:02:16.706Z"
      },
      {
        "duration": 9920,
        "start_time": "2021-06-23T13:02:16.751Z"
      },
      {
        "duration": 3524,
        "start_time": "2021-06-23T13:02:26.674Z"
      },
      {
        "duration": 400,
        "start_time": "2021-06-23T13:02:30.201Z"
      },
      {
        "duration": 499,
        "start_time": "2021-06-23T13:02:30.603Z"
      },
      {
        "duration": 314,
        "start_time": "2021-06-23T13:02:31.111Z"
      },
      {
        "duration": 35,
        "start_time": "2021-06-23T13:02:31.428Z"
      },
      {
        "duration": 53,
        "start_time": "2021-06-23T13:02:31.465Z"
      },
      {
        "duration": 112,
        "start_time": "2021-06-23T13:02:31.605Z"
      },
      {
        "duration": 16,
        "start_time": "2021-06-23T13:02:31.720Z"
      },
      {
        "duration": 1715,
        "start_time": "2021-06-23T13:02:31.739Z"
      },
      {
        "duration": 91,
        "start_time": "2021-06-23T13:02:33.457Z"
      },
      {
        "duration": 83,
        "start_time": "2021-06-23T13:02:33.550Z"
      },
      {
        "duration": 12,
        "start_time": "2021-06-23T13:02:33.636Z"
      },
      {
        "duration": 34111,
        "start_time": "2021-06-23T13:02:33.651Z"
      },
      {
        "duration": 18004,
        "start_time": "2021-06-23T13:03:07.765Z"
      },
      {
        "duration": 1225,
        "start_time": "2021-06-23T13:03:25.772Z"
      },
      {
        "duration": 20,
        "start_time": "2021-06-23T13:03:27.001Z"
      },
      {
        "duration": 188,
        "start_time": "2021-06-23T13:03:27.023Z"
      },
      {
        "duration": 271,
        "start_time": "2021-06-23T13:03:27.301Z"
      },
      {
        "duration": 7289,
        "start_time": "2021-06-23T13:03:27.574Z"
      },
      {
        "duration": 53,
        "start_time": "2021-06-23T13:03:34.865Z"
      },
      {
        "duration": 454,
        "start_time": "2021-06-23T13:03:34.920Z"
      },
      {
        "duration": 24,
        "start_time": "2021-06-23T13:03:35.376Z"
      },
      {
        "duration": 16,
        "start_time": "2021-06-23T13:03:35.404Z"
      },
      {
        "duration": 40,
        "start_time": "2021-06-23T13:03:35.422Z"
      },
      {
        "duration": 143,
        "start_time": "2021-06-23T13:03:35.465Z"
      },
      {
        "duration": 433,
        "start_time": "2021-06-23T13:03:35.610Z"
      },
      {
        "duration": 18,
        "start_time": "2021-06-23T13:03:36.046Z"
      },
      {
        "duration": 1538,
        "start_time": "2021-06-23T13:11:35.540Z"
      },
      {
        "duration": 58,
        "start_time": "2021-06-23T13:11:37.080Z"
      },
      {
        "duration": 12,
        "start_time": "2021-06-23T13:11:37.141Z"
      },
      {
        "duration": 9,
        "start_time": "2021-06-23T13:11:37.156Z"
      },
      {
        "duration": 42,
        "start_time": "2021-06-23T13:11:37.167Z"
      },
      {
        "duration": 8,
        "start_time": "2021-06-23T13:11:37.212Z"
      },
      {
        "duration": 267,
        "start_time": "2021-06-23T13:11:37.223Z"
      },
      {
        "duration": 22,
        "start_time": "2021-06-23T13:11:37.504Z"
      },
      {
        "duration": 6,
        "start_time": "2021-06-23T13:11:37.529Z"
      },
      {
        "duration": 13,
        "start_time": "2021-06-23T13:11:37.538Z"
      },
      {
        "duration": 189,
        "start_time": "2021-06-23T13:11:37.554Z"
      },
      {
        "duration": 1394,
        "start_time": "2021-06-23T13:11:37.746Z"
      },
      {
        "duration": 386,
        "start_time": "2021-06-23T13:11:39.143Z"
      },
      {
        "duration": 926,
        "start_time": "2021-06-23T13:11:39.532Z"
      },
      {
        "duration": 47,
        "start_time": "2021-06-23T13:11:40.461Z"
      },
      {
        "duration": 12,
        "start_time": "2021-06-23T13:11:40.510Z"
      },
      {
        "duration": 17,
        "start_time": "2021-06-23T13:11:40.525Z"
      },
      {
        "duration": 64,
        "start_time": "2021-06-23T13:11:40.544Z"
      },
      {
        "duration": 9523,
        "start_time": "2021-06-23T13:11:40.610Z"
      },
      {
        "duration": 3432,
        "start_time": "2021-06-23T13:11:50.136Z"
      },
      {
        "duration": 425,
        "start_time": "2021-06-23T13:11:53.570Z"
      },
      {
        "duration": 485,
        "start_time": "2021-06-23T13:11:54.001Z"
      },
      {
        "duration": 264,
        "start_time": "2021-06-23T13:11:54.500Z"
      },
      {
        "duration": 45,
        "start_time": "2021-06-23T13:11:54.767Z"
      },
      {
        "duration": 92,
        "start_time": "2021-06-23T13:11:54.814Z"
      },
      {
        "duration": 112,
        "start_time": "2021-06-23T13:11:54.910Z"
      },
      {
        "duration": 16,
        "start_time": "2021-06-23T13:11:55.024Z"
      },
      {
        "duration": 1533,
        "start_time": "2021-06-23T13:11:55.042Z"
      },
      {
        "duration": 81,
        "start_time": "2021-06-23T13:11:56.577Z"
      },
      {
        "duration": 82,
        "start_time": "2021-06-23T13:11:56.661Z"
      },
      {
        "duration": 12,
        "start_time": "2021-06-23T13:11:56.746Z"
      },
      {
        "duration": 31076,
        "start_time": "2021-06-23T13:11:56.761Z"
      },
      {
        "duration": 16441,
        "start_time": "2021-06-23T13:12:27.840Z"
      },
      {
        "duration": 1177,
        "start_time": "2021-06-23T13:12:44.284Z"
      },
      {
        "duration": 20,
        "start_time": "2021-06-23T13:12:45.463Z"
      },
      {
        "duration": 217,
        "start_time": "2021-06-23T13:12:45.486Z"
      },
      {
        "duration": 335,
        "start_time": "2021-06-23T13:12:45.706Z"
      },
      {
        "duration": 7046,
        "start_time": "2021-06-23T13:12:46.044Z"
      },
      {
        "duration": 46,
        "start_time": "2021-06-23T13:12:53.093Z"
      },
      {
        "duration": 515,
        "start_time": "2021-06-23T13:12:53.141Z"
      },
      {
        "duration": 16,
        "start_time": "2021-06-23T13:12:53.659Z"
      },
      {
        "duration": 30,
        "start_time": "2021-06-23T13:12:53.677Z"
      },
      {
        "duration": 39,
        "start_time": "2021-06-23T13:12:53.709Z"
      },
      {
        "duration": 62,
        "start_time": "2021-06-23T13:12:53.751Z"
      },
      {
        "duration": 461,
        "start_time": "2021-06-23T13:12:53.901Z"
      },
      {
        "duration": 14,
        "start_time": "2021-06-23T13:12:54.364Z"
      }
    ],
    "kernelspec": {
      "display_name": "Python 3 (ipykernel)",
      "language": "python",
      "name": "python3"
    },
    "language_info": {
      "codemirror_mode": {
        "name": "ipython",
        "version": 3
      },
      "file_extension": ".py",
      "mimetype": "text/x-python",
      "name": "python",
      "nbconvert_exporter": "python",
      "pygments_lexer": "ipython3",
      "version": "3.9.5"
    },
    "toc": {
      "base_numbering": 1,
      "nav_menu": {},
      "number_sections": true,
      "sideBar": true,
      "skip_h1_title": true,
      "title_cell": "Содержание",
      "title_sidebar": "Contents",
      "toc_cell": true,
      "toc_position": {
        "height": "calc(100% - 180px)",
        "left": "10px",
        "top": "150px",
        "width": "323.903px"
      },
      "toc_section_display": true,
      "toc_window_display": true
    },
    "colab": {
      "name": "Бета-Банк.ipynb",
      "provenance": []
    }
  },
  "nbformat": 4,
  "nbformat_minor": 0
}