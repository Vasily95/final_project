{
  "cells": [
    {
      "cell_type": "markdown",
      "metadata": {
        "id": "view-in-github",
        "colab_type": "text"
      },
      "source": [
        "<a href=\"https://colab.research.google.com/github/Vasily95/final_project/blob/Vasily95-patch-1/%D0%97%D0%B0%D0%B5%D0%BC%D1%89%D0%B8%D0%BA%D0%B8_%D0%BA%D1%80%D0%B5%D0%B4%D0%B8%D1%82%D0%B0.ipynb\" target=\"_parent\"><img src=\"https://colab.research.google.com/assets/colab-badge.svg\" alt=\"Open In Colab\"/></a>"
      ]
    },
    {
      "cell_type": "markdown",
      "metadata": {
        "id": "B4ub3HkmQDnB"
      },
      "source": [
        "# Исследование надёжности заёмщиков\n",
        "\n",
        "Заказчик — кредитный отдел банка. Нужно разобраться, влияет ли семейное положение и количество детей клиента на факт погашения кредита в срок. Входные данные от банка — статистика о платёжеспособности клиентов.\n",
        "\n",
        "Результаты исследования будут учтены при построении модели **кредитного скоринга** — специальной системы, которая оценивает способность потенциального заёмщика вернуть кредит банку."
      ]
    },
    {
      "cell_type": "markdown",
      "metadata": {
        "id": "xsnrV7-sQDnC"
      },
      "source": [
        "## Шаг 1. Откройте файл с данными и изучите общую информацию"
      ]
    },
    {
      "cell_type": "code",
      "execution_count": null,
      "metadata": {
        "id": "dkMa77AhQDnD",
        "outputId": "a65f86d4-1c43-48c5-a655-a31608099091"
      },
      "outputs": [
        {
          "data": {
            "text/html": [
              "<div>\n",
              "<style scoped>\n",
              "    .dataframe tbody tr th:only-of-type {\n",
              "        vertical-align: middle;\n",
              "    }\n",
              "\n",
              "    .dataframe tbody tr th {\n",
              "        vertical-align: top;\n",
              "    }\n",
              "\n",
              "    .dataframe thead th {\n",
              "        text-align: right;\n",
              "    }\n",
              "</style>\n",
              "<table border=\"1\" class=\"dataframe\">\n",
              "  <thead>\n",
              "    <tr style=\"text-align: right;\">\n",
              "      <th></th>\n",
              "      <th>children</th>\n",
              "      <th>days_employed</th>\n",
              "      <th>dob_years</th>\n",
              "      <th>education</th>\n",
              "      <th>education_id</th>\n",
              "      <th>family_status</th>\n",
              "      <th>family_status_id</th>\n",
              "      <th>gender</th>\n",
              "      <th>income_type</th>\n",
              "      <th>debt</th>\n",
              "      <th>total_income</th>\n",
              "      <th>purpose</th>\n",
              "    </tr>\n",
              "  </thead>\n",
              "  <tbody>\n",
              "    <tr>\n",
              "      <th>0</th>\n",
              "      <td>1</td>\n",
              "      <td>-8437.673028</td>\n",
              "      <td>42</td>\n",
              "      <td>высшее</td>\n",
              "      <td>0</td>\n",
              "      <td>женат / замужем</td>\n",
              "      <td>0</td>\n",
              "      <td>F</td>\n",
              "      <td>сотрудник</td>\n",
              "      <td>0</td>\n",
              "      <td>253875.639453</td>\n",
              "      <td>покупка жилья</td>\n",
              "    </tr>\n",
              "    <tr>\n",
              "      <th>1</th>\n",
              "      <td>1</td>\n",
              "      <td>-4024.803754</td>\n",
              "      <td>36</td>\n",
              "      <td>среднее</td>\n",
              "      <td>1</td>\n",
              "      <td>женат / замужем</td>\n",
              "      <td>0</td>\n",
              "      <td>F</td>\n",
              "      <td>сотрудник</td>\n",
              "      <td>0</td>\n",
              "      <td>112080.014102</td>\n",
              "      <td>приобретение автомобиля</td>\n",
              "    </tr>\n",
              "    <tr>\n",
              "      <th>2</th>\n",
              "      <td>0</td>\n",
              "      <td>-5623.422610</td>\n",
              "      <td>33</td>\n",
              "      <td>Среднее</td>\n",
              "      <td>1</td>\n",
              "      <td>женат / замужем</td>\n",
              "      <td>0</td>\n",
              "      <td>M</td>\n",
              "      <td>сотрудник</td>\n",
              "      <td>0</td>\n",
              "      <td>145885.952297</td>\n",
              "      <td>покупка жилья</td>\n",
              "    </tr>\n",
              "    <tr>\n",
              "      <th>3</th>\n",
              "      <td>3</td>\n",
              "      <td>-4124.747207</td>\n",
              "      <td>32</td>\n",
              "      <td>среднее</td>\n",
              "      <td>1</td>\n",
              "      <td>женат / замужем</td>\n",
              "      <td>0</td>\n",
              "      <td>M</td>\n",
              "      <td>сотрудник</td>\n",
              "      <td>0</td>\n",
              "      <td>267628.550329</td>\n",
              "      <td>дополнительное образование</td>\n",
              "    </tr>\n",
              "    <tr>\n",
              "      <th>4</th>\n",
              "      <td>0</td>\n",
              "      <td>340266.072047</td>\n",
              "      <td>53</td>\n",
              "      <td>среднее</td>\n",
              "      <td>1</td>\n",
              "      <td>гражданский брак</td>\n",
              "      <td>1</td>\n",
              "      <td>F</td>\n",
              "      <td>пенсионер</td>\n",
              "      <td>0</td>\n",
              "      <td>158616.077870</td>\n",
              "      <td>сыграть свадьбу</td>\n",
              "    </tr>\n",
              "    <tr>\n",
              "      <th>5</th>\n",
              "      <td>0</td>\n",
              "      <td>-926.185831</td>\n",
              "      <td>27</td>\n",
              "      <td>высшее</td>\n",
              "      <td>0</td>\n",
              "      <td>гражданский брак</td>\n",
              "      <td>1</td>\n",
              "      <td>M</td>\n",
              "      <td>компаньон</td>\n",
              "      <td>0</td>\n",
              "      <td>255763.565419</td>\n",
              "      <td>покупка жилья</td>\n",
              "    </tr>\n",
              "    <tr>\n",
              "      <th>6</th>\n",
              "      <td>0</td>\n",
              "      <td>-2879.202052</td>\n",
              "      <td>43</td>\n",
              "      <td>высшее</td>\n",
              "      <td>0</td>\n",
              "      <td>женат / замужем</td>\n",
              "      <td>0</td>\n",
              "      <td>F</td>\n",
              "      <td>компаньон</td>\n",
              "      <td>0</td>\n",
              "      <td>240525.971920</td>\n",
              "      <td>операции с жильем</td>\n",
              "    </tr>\n",
              "    <tr>\n",
              "      <th>7</th>\n",
              "      <td>0</td>\n",
              "      <td>-152.779569</td>\n",
              "      <td>50</td>\n",
              "      <td>СРЕДНЕЕ</td>\n",
              "      <td>1</td>\n",
              "      <td>женат / замужем</td>\n",
              "      <td>0</td>\n",
              "      <td>M</td>\n",
              "      <td>сотрудник</td>\n",
              "      <td>0</td>\n",
              "      <td>135823.934197</td>\n",
              "      <td>образование</td>\n",
              "    </tr>\n",
              "    <tr>\n",
              "      <th>8</th>\n",
              "      <td>2</td>\n",
              "      <td>-6929.865299</td>\n",
              "      <td>35</td>\n",
              "      <td>ВЫСШЕЕ</td>\n",
              "      <td>0</td>\n",
              "      <td>гражданский брак</td>\n",
              "      <td>1</td>\n",
              "      <td>F</td>\n",
              "      <td>сотрудник</td>\n",
              "      <td>0</td>\n",
              "      <td>95856.832424</td>\n",
              "      <td>на проведение свадьбы</td>\n",
              "    </tr>\n",
              "    <tr>\n",
              "      <th>9</th>\n",
              "      <td>0</td>\n",
              "      <td>-2188.756445</td>\n",
              "      <td>41</td>\n",
              "      <td>среднее</td>\n",
              "      <td>1</td>\n",
              "      <td>женат / замужем</td>\n",
              "      <td>0</td>\n",
              "      <td>M</td>\n",
              "      <td>сотрудник</td>\n",
              "      <td>0</td>\n",
              "      <td>144425.938277</td>\n",
              "      <td>покупка жилья для семьи</td>\n",
              "    </tr>\n",
              "    <tr>\n",
              "      <th>10</th>\n",
              "      <td>2</td>\n",
              "      <td>-4171.483647</td>\n",
              "      <td>36</td>\n",
              "      <td>высшее</td>\n",
              "      <td>0</td>\n",
              "      <td>женат / замужем</td>\n",
              "      <td>0</td>\n",
              "      <td>M</td>\n",
              "      <td>компаньон</td>\n",
              "      <td>0</td>\n",
              "      <td>113943.491460</td>\n",
              "      <td>покупка недвижимости</td>\n",
              "    </tr>\n",
              "    <tr>\n",
              "      <th>11</th>\n",
              "      <td>0</td>\n",
              "      <td>-792.701887</td>\n",
              "      <td>40</td>\n",
              "      <td>среднее</td>\n",
              "      <td>1</td>\n",
              "      <td>женат / замужем</td>\n",
              "      <td>0</td>\n",
              "      <td>F</td>\n",
              "      <td>сотрудник</td>\n",
              "      <td>0</td>\n",
              "      <td>77069.234271</td>\n",
              "      <td>покупка коммерческой недвижимости</td>\n",
              "    </tr>\n",
              "    <tr>\n",
              "      <th>12</th>\n",
              "      <td>0</td>\n",
              "      <td>NaN</td>\n",
              "      <td>65</td>\n",
              "      <td>среднее</td>\n",
              "      <td>1</td>\n",
              "      <td>гражданский брак</td>\n",
              "      <td>1</td>\n",
              "      <td>M</td>\n",
              "      <td>пенсионер</td>\n",
              "      <td>0</td>\n",
              "      <td>NaN</td>\n",
              "      <td>сыграть свадьбу</td>\n",
              "    </tr>\n",
              "    <tr>\n",
              "      <th>13</th>\n",
              "      <td>0</td>\n",
              "      <td>-1846.641941</td>\n",
              "      <td>54</td>\n",
              "      <td>неоконченное высшее</td>\n",
              "      <td>2</td>\n",
              "      <td>женат / замужем</td>\n",
              "      <td>0</td>\n",
              "      <td>F</td>\n",
              "      <td>сотрудник</td>\n",
              "      <td>0</td>\n",
              "      <td>130458.228857</td>\n",
              "      <td>приобретение автомобиля</td>\n",
              "    </tr>\n",
              "    <tr>\n",
              "      <th>14</th>\n",
              "      <td>0</td>\n",
              "      <td>-1844.956182</td>\n",
              "      <td>56</td>\n",
              "      <td>высшее</td>\n",
              "      <td>0</td>\n",
              "      <td>гражданский брак</td>\n",
              "      <td>1</td>\n",
              "      <td>F</td>\n",
              "      <td>компаньон</td>\n",
              "      <td>1</td>\n",
              "      <td>165127.911772</td>\n",
              "      <td>покупка жилой недвижимости</td>\n",
              "    </tr>\n",
              "  </tbody>\n",
              "</table>\n",
              "</div>"
            ],
            "text/plain": [
              "    children  days_employed  dob_years            education  education_id  \\\n",
              "0          1   -8437.673028         42               высшее             0   \n",
              "1          1   -4024.803754         36              среднее             1   \n",
              "2          0   -5623.422610         33              Среднее             1   \n",
              "3          3   -4124.747207         32              среднее             1   \n",
              "4          0  340266.072047         53              среднее             1   \n",
              "5          0    -926.185831         27               высшее             0   \n",
              "6          0   -2879.202052         43               высшее             0   \n",
              "7          0    -152.779569         50              СРЕДНЕЕ             1   \n",
              "8          2   -6929.865299         35               ВЫСШЕЕ             0   \n",
              "9          0   -2188.756445         41              среднее             1   \n",
              "10         2   -4171.483647         36               высшее             0   \n",
              "11         0    -792.701887         40              среднее             1   \n",
              "12         0            NaN         65              среднее             1   \n",
              "13         0   -1846.641941         54  неоконченное высшее             2   \n",
              "14         0   -1844.956182         56               высшее             0   \n",
              "\n",
              "       family_status  family_status_id gender income_type  debt  \\\n",
              "0    женат / замужем                 0      F   сотрудник     0   \n",
              "1    женат / замужем                 0      F   сотрудник     0   \n",
              "2    женат / замужем                 0      M   сотрудник     0   \n",
              "3    женат / замужем                 0      M   сотрудник     0   \n",
              "4   гражданский брак                 1      F   пенсионер     0   \n",
              "5   гражданский брак                 1      M   компаньон     0   \n",
              "6    женат / замужем                 0      F   компаньон     0   \n",
              "7    женат / замужем                 0      M   сотрудник     0   \n",
              "8   гражданский брак                 1      F   сотрудник     0   \n",
              "9    женат / замужем                 0      M   сотрудник     0   \n",
              "10   женат / замужем                 0      M   компаньон     0   \n",
              "11   женат / замужем                 0      F   сотрудник     0   \n",
              "12  гражданский брак                 1      M   пенсионер     0   \n",
              "13   женат / замужем                 0      F   сотрудник     0   \n",
              "14  гражданский брак                 1      F   компаньон     1   \n",
              "\n",
              "     total_income                            purpose  \n",
              "0   253875.639453                      покупка жилья  \n",
              "1   112080.014102            приобретение автомобиля  \n",
              "2   145885.952297                      покупка жилья  \n",
              "3   267628.550329         дополнительное образование  \n",
              "4   158616.077870                    сыграть свадьбу  \n",
              "5   255763.565419                      покупка жилья  \n",
              "6   240525.971920                  операции с жильем  \n",
              "7   135823.934197                        образование  \n",
              "8    95856.832424              на проведение свадьбы  \n",
              "9   144425.938277            покупка жилья для семьи  \n",
              "10  113943.491460               покупка недвижимости  \n",
              "11   77069.234271  покупка коммерческой недвижимости  \n",
              "12            NaN                    сыграть свадьбу  \n",
              "13  130458.228857            приобретение автомобиля  \n",
              "14  165127.911772         покупка жилой недвижимости  "
            ]
          },
          "execution_count": 1,
          "metadata": {},
          "output_type": "execute_result"
        }
      ],
      "source": [
        "import pandas as pd\n",
        "bank_rock = pd.read_csv('/datasets/data.csv')\n",
        "bank_rock.head(15)\n"
      ]
    },
    {
      "cell_type": "markdown",
      "metadata": {
        "id": "UTK51I6BQDnF"
      },
      "source": [
        "**Вывод**"
      ]
    },
    {
      "cell_type": "markdown",
      "metadata": {
        "id": "DBGEvyzVQDnF"
      },
      "source": [
        "Выводим первые 15 строк таблицы на экран. В таблице мы видим, что некоторые столбцы будет необходимо обработать для того, чтобы позднее проводить исследование. В столбце \"трудовой стаж в днях\" присутствуют минусовые значения, а также некоторые значения пропущены. Такая же ситуация в столбце \"доход\". Позднее проверим, есть ли зависимость между этими двумя столбцами. Необходимо также проверить столбцы \"дети\", \"пол\", \"образование\" на наличие артефактов.   "
      ]
    },
    {
      "cell_type": "markdown",
      "metadata": {
        "id": "6yu3NC8zQDnH"
      },
      "source": [
        "## Шаг 2. Предобработка данных"
      ]
    },
    {
      "cell_type": "markdown",
      "metadata": {
        "id": "zwvkZrY5QDnH"
      },
      "source": [
        "### Обработка пропусков"
      ]
    },
    {
      "cell_type": "code",
      "execution_count": null,
      "metadata": {
        "id": "539QM9tKQDnI",
        "outputId": "8663fa4f-3a33-4fc5-8793-14ff04cd51c6"
      },
      "outputs": [
        {
          "data": {
            "text/html": [
              "<div>\n",
              "<style scoped>\n",
              "    .dataframe tbody tr th:only-of-type {\n",
              "        vertical-align: middle;\n",
              "    }\n",
              "\n",
              "    .dataframe tbody tr th {\n",
              "        vertical-align: top;\n",
              "    }\n",
              "\n",
              "    .dataframe thead th {\n",
              "        text-align: right;\n",
              "    }\n",
              "</style>\n",
              "<table border=\"1\" class=\"dataframe\">\n",
              "  <thead>\n",
              "    <tr style=\"text-align: right;\">\n",
              "      <th></th>\n",
              "      <th>children</th>\n",
              "      <th>days_employed</th>\n",
              "      <th>dob_years</th>\n",
              "      <th>education</th>\n",
              "      <th>education_id</th>\n",
              "      <th>family_status</th>\n",
              "      <th>family_status_id</th>\n",
              "      <th>gender</th>\n",
              "      <th>income_type</th>\n",
              "      <th>debt</th>\n",
              "      <th>total_income</th>\n",
              "      <th>purpose</th>\n",
              "    </tr>\n",
              "  </thead>\n",
              "  <tbody>\n",
              "    <tr>\n",
              "      <th>12</th>\n",
              "      <td>0</td>\n",
              "      <td>NaN</td>\n",
              "      <td>65</td>\n",
              "      <td>среднее</td>\n",
              "      <td>1</td>\n",
              "      <td>гражданский брак</td>\n",
              "      <td>1</td>\n",
              "      <td>M</td>\n",
              "      <td>пенсионер</td>\n",
              "      <td>0</td>\n",
              "      <td>NaN</td>\n",
              "      <td>сыграть свадьбу</td>\n",
              "    </tr>\n",
              "    <tr>\n",
              "      <th>26</th>\n",
              "      <td>0</td>\n",
              "      <td>NaN</td>\n",
              "      <td>41</td>\n",
              "      <td>среднее</td>\n",
              "      <td>1</td>\n",
              "      <td>женат / замужем</td>\n",
              "      <td>0</td>\n",
              "      <td>M</td>\n",
              "      <td>госслужащий</td>\n",
              "      <td>0</td>\n",
              "      <td>NaN</td>\n",
              "      <td>образование</td>\n",
              "    </tr>\n",
              "    <tr>\n",
              "      <th>29</th>\n",
              "      <td>0</td>\n",
              "      <td>NaN</td>\n",
              "      <td>63</td>\n",
              "      <td>среднее</td>\n",
              "      <td>1</td>\n",
              "      <td>Не женат / не замужем</td>\n",
              "      <td>4</td>\n",
              "      <td>F</td>\n",
              "      <td>пенсионер</td>\n",
              "      <td>0</td>\n",
              "      <td>NaN</td>\n",
              "      <td>строительство жилой недвижимости</td>\n",
              "    </tr>\n",
              "    <tr>\n",
              "      <th>41</th>\n",
              "      <td>0</td>\n",
              "      <td>NaN</td>\n",
              "      <td>50</td>\n",
              "      <td>среднее</td>\n",
              "      <td>1</td>\n",
              "      <td>женат / замужем</td>\n",
              "      <td>0</td>\n",
              "      <td>F</td>\n",
              "      <td>госслужащий</td>\n",
              "      <td>0</td>\n",
              "      <td>NaN</td>\n",
              "      <td>сделка с подержанным автомобилем</td>\n",
              "    </tr>\n",
              "    <tr>\n",
              "      <th>55</th>\n",
              "      <td>0</td>\n",
              "      <td>NaN</td>\n",
              "      <td>54</td>\n",
              "      <td>среднее</td>\n",
              "      <td>1</td>\n",
              "      <td>гражданский брак</td>\n",
              "      <td>1</td>\n",
              "      <td>F</td>\n",
              "      <td>пенсионер</td>\n",
              "      <td>1</td>\n",
              "      <td>NaN</td>\n",
              "      <td>сыграть свадьбу</td>\n",
              "    </tr>\n",
              "    <tr>\n",
              "      <th>65</th>\n",
              "      <td>0</td>\n",
              "      <td>NaN</td>\n",
              "      <td>21</td>\n",
              "      <td>среднее</td>\n",
              "      <td>1</td>\n",
              "      <td>Не женат / не замужем</td>\n",
              "      <td>4</td>\n",
              "      <td>M</td>\n",
              "      <td>компаньон</td>\n",
              "      <td>0</td>\n",
              "      <td>NaN</td>\n",
              "      <td>операции с коммерческой недвижимостью</td>\n",
              "    </tr>\n",
              "    <tr>\n",
              "      <th>67</th>\n",
              "      <td>0</td>\n",
              "      <td>NaN</td>\n",
              "      <td>52</td>\n",
              "      <td>высшее</td>\n",
              "      <td>0</td>\n",
              "      <td>женат / замужем</td>\n",
              "      <td>0</td>\n",
              "      <td>F</td>\n",
              "      <td>пенсионер</td>\n",
              "      <td>0</td>\n",
              "      <td>NaN</td>\n",
              "      <td>покупка жилья для семьи</td>\n",
              "    </tr>\n",
              "    <tr>\n",
              "      <th>72</th>\n",
              "      <td>1</td>\n",
              "      <td>NaN</td>\n",
              "      <td>32</td>\n",
              "      <td>высшее</td>\n",
              "      <td>0</td>\n",
              "      <td>женат / замужем</td>\n",
              "      <td>0</td>\n",
              "      <td>M</td>\n",
              "      <td>госслужащий</td>\n",
              "      <td>0</td>\n",
              "      <td>NaN</td>\n",
              "      <td>операции с коммерческой недвижимостью</td>\n",
              "    </tr>\n",
              "    <tr>\n",
              "      <th>82</th>\n",
              "      <td>2</td>\n",
              "      <td>NaN</td>\n",
              "      <td>50</td>\n",
              "      <td>высшее</td>\n",
              "      <td>0</td>\n",
              "      <td>женат / замужем</td>\n",
              "      <td>0</td>\n",
              "      <td>F</td>\n",
              "      <td>сотрудник</td>\n",
              "      <td>0</td>\n",
              "      <td>NaN</td>\n",
              "      <td>жилье</td>\n",
              "    </tr>\n",
              "    <tr>\n",
              "      <th>83</th>\n",
              "      <td>0</td>\n",
              "      <td>NaN</td>\n",
              "      <td>52</td>\n",
              "      <td>среднее</td>\n",
              "      <td>1</td>\n",
              "      <td>женат / замужем</td>\n",
              "      <td>0</td>\n",
              "      <td>M</td>\n",
              "      <td>сотрудник</td>\n",
              "      <td>0</td>\n",
              "      <td>NaN</td>\n",
              "      <td>жилье</td>\n",
              "    </tr>\n",
              "  </tbody>\n",
              "</table>\n",
              "</div>"
            ],
            "text/plain": [
              "    children  days_employed  dob_years education  education_id  \\\n",
              "12         0            NaN         65   среднее             1   \n",
              "26         0            NaN         41   среднее             1   \n",
              "29         0            NaN         63   среднее             1   \n",
              "41         0            NaN         50   среднее             1   \n",
              "55         0            NaN         54   среднее             1   \n",
              "65         0            NaN         21   среднее             1   \n",
              "67         0            NaN         52    высшее             0   \n",
              "72         1            NaN         32    высшее             0   \n",
              "82         2            NaN         50    высшее             0   \n",
              "83         0            NaN         52   среднее             1   \n",
              "\n",
              "            family_status  family_status_id gender  income_type  debt  \\\n",
              "12       гражданский брак                 1      M    пенсионер     0   \n",
              "26        женат / замужем                 0      M  госслужащий     0   \n",
              "29  Не женат / не замужем                 4      F    пенсионер     0   \n",
              "41        женат / замужем                 0      F  госслужащий     0   \n",
              "55       гражданский брак                 1      F    пенсионер     1   \n",
              "65  Не женат / не замужем                 4      M    компаньон     0   \n",
              "67        женат / замужем                 0      F    пенсионер     0   \n",
              "72        женат / замужем                 0      M  госслужащий     0   \n",
              "82        женат / замужем                 0      F    сотрудник     0   \n",
              "83        женат / замужем                 0      M    сотрудник     0   \n",
              "\n",
              "    total_income                                purpose  \n",
              "12           NaN                        сыграть свадьбу  \n",
              "26           NaN                            образование  \n",
              "29           NaN       строительство жилой недвижимости  \n",
              "41           NaN       сделка с подержанным автомобилем  \n",
              "55           NaN                        сыграть свадьбу  \n",
              "65           NaN  операции с коммерческой недвижимостью  \n",
              "67           NaN                покупка жилья для семьи  \n",
              "72           NaN  операции с коммерческой недвижимостью  \n",
              "82           NaN                                  жилье  \n",
              "83           NaN                                  жилье  "
            ]
          },
          "execution_count": 2,
          "metadata": {},
          "output_type": "execute_result"
        }
      ],
      "source": [
        "#bank_rock.info()\n",
        "bank_rock[bank_rock['days_employed'].isnull()].head(10)"
      ]
    },
    {
      "cell_type": "markdown",
      "metadata": {
        "id": "nlUKsdU9QDnJ"
      },
      "source": [
        "Проверяем количество пропущеннных значений в столбцах \"доход\" и \"общий трудовой стаж\". При помощи функции 'isnull()' выводим на экран пропущенные значение в столбце \"общий трудовой стаж\". Видим что количество пропущенных значений в обоих столбцах совпадает и сами столбцы также совпадают. Из этого можно сделать вывод, что либо клиенты намеренно не указывали свои данные, либо произошел сбой на стороне системы, и поэтому данные пропущены."
      ]
    },
    {
      "cell_type": "code",
      "execution_count": null,
      "metadata": {
        "id": "MAbxwINVQDnJ"
      },
      "outputs": [],
      "source": [
        "median_income = bank_rock.groupby('income_type')['total_income'].transform('mean')\n",
        "bank_rock['total_income'].fillna(median_income, inplace=True)\n",
        "median_employ = bank_rock['days_employed'].median()\n",
        "bank_rock['days_employed'] = bank_rock['days_employed'].fillna(median_employ)\n"
      ]
    },
    {
      "cell_type": "markdown",
      "metadata": {
        "id": "5YSZJY4hQDnK"
      },
      "source": [
        "Прежде всего проверяем пропущенные значения в столбцах \"общий трудовой стаж\" и \"доход\". Столбец \"доход\" будет нам необходим для дальнейшего исследования, поэтому убрать строки с пропусками мы не можем, т.к. это повлечет за собой искажение данных. При помощи функции 'transform()', находим среднее число для каждого типа занятости, и при помощи 'fillna()' и 'inplace=True' заполняем пропущенные поля в столбце \"доход\". Столбец \"общий трудовой стаж\" нам не понадобится, однако было решено также обработать данный столбец. Используя функцию 'median' запоняем пропущенные значения средним значением. \n",
        "\n"
      ]
    },
    {
      "cell_type": "code",
      "execution_count": null,
      "metadata": {
        "id": "BGg1rHn2QDnL"
      },
      "outputs": [],
      "source": [
        "bank_rock['days_employed'] = bank_rock['days_employed'].abs()"
      ]
    },
    {
      "cell_type": "markdown",
      "metadata": {
        "id": "HCoB8lVfQDnM"
      },
      "source": [
        "Также в столбце \"общий трудовой стаж\" мы видим отрицательные значения, что противоречит логике. Функцией 'abs()' заменяем количество дней на положительные значения. Выводим первые 15 строк таблицы для проверки."
      ]
    },
    {
      "cell_type": "code",
      "execution_count": null,
      "metadata": {
        "scrolled": true,
        "id": "4Uw7-R4tQDnM",
        "outputId": "205167b8-f9a5-4780-cf37-258cc0d71d5f"
      },
      "outputs": [
        {
          "data": {
            "text/html": [
              "<div>\n",
              "<style scoped>\n",
              "    .dataframe tbody tr th:only-of-type {\n",
              "        vertical-align: middle;\n",
              "    }\n",
              "\n",
              "    .dataframe tbody tr th {\n",
              "        vertical-align: top;\n",
              "    }\n",
              "\n",
              "    .dataframe thead th {\n",
              "        text-align: right;\n",
              "    }\n",
              "</style>\n",
              "<table border=\"1\" class=\"dataframe\">\n",
              "  <thead>\n",
              "    <tr style=\"text-align: right;\">\n",
              "      <th></th>\n",
              "      <th>children</th>\n",
              "      <th>days_employed</th>\n",
              "      <th>dob_years</th>\n",
              "      <th>education</th>\n",
              "      <th>education_id</th>\n",
              "      <th>family_status</th>\n",
              "      <th>family_status_id</th>\n",
              "      <th>gender</th>\n",
              "      <th>income_type</th>\n",
              "      <th>debt</th>\n",
              "      <th>total_income</th>\n",
              "      <th>purpose</th>\n",
              "    </tr>\n",
              "  </thead>\n",
              "  <tbody>\n",
              "    <tr>\n",
              "      <th>0</th>\n",
              "      <td>1</td>\n",
              "      <td>8437.673028</td>\n",
              "      <td>42</td>\n",
              "      <td>высшее</td>\n",
              "      <td>0</td>\n",
              "      <td>женат / замужем</td>\n",
              "      <td>0</td>\n",
              "      <td>F</td>\n",
              "      <td>сотрудник</td>\n",
              "      <td>0</td>\n",
              "      <td>253875.639453</td>\n",
              "      <td>покупка жилья</td>\n",
              "    </tr>\n",
              "    <tr>\n",
              "      <th>1</th>\n",
              "      <td>1</td>\n",
              "      <td>4024.803754</td>\n",
              "      <td>36</td>\n",
              "      <td>среднее</td>\n",
              "      <td>1</td>\n",
              "      <td>женат / замужем</td>\n",
              "      <td>0</td>\n",
              "      <td>F</td>\n",
              "      <td>сотрудник</td>\n",
              "      <td>0</td>\n",
              "      <td>112080.014102</td>\n",
              "      <td>приобретение автомобиля</td>\n",
              "    </tr>\n",
              "    <tr>\n",
              "      <th>2</th>\n",
              "      <td>0</td>\n",
              "      <td>5623.422610</td>\n",
              "      <td>33</td>\n",
              "      <td>Среднее</td>\n",
              "      <td>1</td>\n",
              "      <td>женат / замужем</td>\n",
              "      <td>0</td>\n",
              "      <td>M</td>\n",
              "      <td>сотрудник</td>\n",
              "      <td>0</td>\n",
              "      <td>145885.952297</td>\n",
              "      <td>покупка жилья</td>\n",
              "    </tr>\n",
              "    <tr>\n",
              "      <th>3</th>\n",
              "      <td>3</td>\n",
              "      <td>4124.747207</td>\n",
              "      <td>32</td>\n",
              "      <td>среднее</td>\n",
              "      <td>1</td>\n",
              "      <td>женат / замужем</td>\n",
              "      <td>0</td>\n",
              "      <td>M</td>\n",
              "      <td>сотрудник</td>\n",
              "      <td>0</td>\n",
              "      <td>267628.550329</td>\n",
              "      <td>дополнительное образование</td>\n",
              "    </tr>\n",
              "    <tr>\n",
              "      <th>4</th>\n",
              "      <td>0</td>\n",
              "      <td>340266.072047</td>\n",
              "      <td>53</td>\n",
              "      <td>среднее</td>\n",
              "      <td>1</td>\n",
              "      <td>гражданский брак</td>\n",
              "      <td>1</td>\n",
              "      <td>F</td>\n",
              "      <td>пенсионер</td>\n",
              "      <td>0</td>\n",
              "      <td>158616.077870</td>\n",
              "      <td>сыграть свадьбу</td>\n",
              "    </tr>\n",
              "    <tr>\n",
              "      <th>5</th>\n",
              "      <td>0</td>\n",
              "      <td>926.185831</td>\n",
              "      <td>27</td>\n",
              "      <td>высшее</td>\n",
              "      <td>0</td>\n",
              "      <td>гражданский брак</td>\n",
              "      <td>1</td>\n",
              "      <td>M</td>\n",
              "      <td>компаньон</td>\n",
              "      <td>0</td>\n",
              "      <td>255763.565419</td>\n",
              "      <td>покупка жилья</td>\n",
              "    </tr>\n",
              "    <tr>\n",
              "      <th>6</th>\n",
              "      <td>0</td>\n",
              "      <td>2879.202052</td>\n",
              "      <td>43</td>\n",
              "      <td>высшее</td>\n",
              "      <td>0</td>\n",
              "      <td>женат / замужем</td>\n",
              "      <td>0</td>\n",
              "      <td>F</td>\n",
              "      <td>компаньон</td>\n",
              "      <td>0</td>\n",
              "      <td>240525.971920</td>\n",
              "      <td>операции с жильем</td>\n",
              "    </tr>\n",
              "    <tr>\n",
              "      <th>7</th>\n",
              "      <td>0</td>\n",
              "      <td>152.779569</td>\n",
              "      <td>50</td>\n",
              "      <td>СРЕДНЕЕ</td>\n",
              "      <td>1</td>\n",
              "      <td>женат / замужем</td>\n",
              "      <td>0</td>\n",
              "      <td>M</td>\n",
              "      <td>сотрудник</td>\n",
              "      <td>0</td>\n",
              "      <td>135823.934197</td>\n",
              "      <td>образование</td>\n",
              "    </tr>\n",
              "    <tr>\n",
              "      <th>8</th>\n",
              "      <td>2</td>\n",
              "      <td>6929.865299</td>\n",
              "      <td>35</td>\n",
              "      <td>ВЫСШЕЕ</td>\n",
              "      <td>0</td>\n",
              "      <td>гражданский брак</td>\n",
              "      <td>1</td>\n",
              "      <td>F</td>\n",
              "      <td>сотрудник</td>\n",
              "      <td>0</td>\n",
              "      <td>95856.832424</td>\n",
              "      <td>на проведение свадьбы</td>\n",
              "    </tr>\n",
              "    <tr>\n",
              "      <th>9</th>\n",
              "      <td>0</td>\n",
              "      <td>2188.756445</td>\n",
              "      <td>41</td>\n",
              "      <td>среднее</td>\n",
              "      <td>1</td>\n",
              "      <td>женат / замужем</td>\n",
              "      <td>0</td>\n",
              "      <td>M</td>\n",
              "      <td>сотрудник</td>\n",
              "      <td>0</td>\n",
              "      <td>144425.938277</td>\n",
              "      <td>покупка жилья для семьи</td>\n",
              "    </tr>\n",
              "    <tr>\n",
              "      <th>10</th>\n",
              "      <td>2</td>\n",
              "      <td>4171.483647</td>\n",
              "      <td>36</td>\n",
              "      <td>высшее</td>\n",
              "      <td>0</td>\n",
              "      <td>женат / замужем</td>\n",
              "      <td>0</td>\n",
              "      <td>M</td>\n",
              "      <td>компаньон</td>\n",
              "      <td>0</td>\n",
              "      <td>113943.491460</td>\n",
              "      <td>покупка недвижимости</td>\n",
              "    </tr>\n",
              "    <tr>\n",
              "      <th>11</th>\n",
              "      <td>0</td>\n",
              "      <td>792.701887</td>\n",
              "      <td>40</td>\n",
              "      <td>среднее</td>\n",
              "      <td>1</td>\n",
              "      <td>женат / замужем</td>\n",
              "      <td>0</td>\n",
              "      <td>F</td>\n",
              "      <td>сотрудник</td>\n",
              "      <td>0</td>\n",
              "      <td>77069.234271</td>\n",
              "      <td>покупка коммерческой недвижимости</td>\n",
              "    </tr>\n",
              "    <tr>\n",
              "      <th>12</th>\n",
              "      <td>0</td>\n",
              "      <td>1203.369529</td>\n",
              "      <td>65</td>\n",
              "      <td>среднее</td>\n",
              "      <td>1</td>\n",
              "      <td>гражданский брак</td>\n",
              "      <td>1</td>\n",
              "      <td>M</td>\n",
              "      <td>пенсионер</td>\n",
              "      <td>0</td>\n",
              "      <td>137127.465690</td>\n",
              "      <td>сыграть свадьбу</td>\n",
              "    </tr>\n",
              "    <tr>\n",
              "      <th>13</th>\n",
              "      <td>0</td>\n",
              "      <td>1846.641941</td>\n",
              "      <td>54</td>\n",
              "      <td>неоконченное высшее</td>\n",
              "      <td>2</td>\n",
              "      <td>женат / замужем</td>\n",
              "      <td>0</td>\n",
              "      <td>F</td>\n",
              "      <td>сотрудник</td>\n",
              "      <td>0</td>\n",
              "      <td>130458.228857</td>\n",
              "      <td>приобретение автомобиля</td>\n",
              "    </tr>\n",
              "    <tr>\n",
              "      <th>14</th>\n",
              "      <td>0</td>\n",
              "      <td>1844.956182</td>\n",
              "      <td>56</td>\n",
              "      <td>высшее</td>\n",
              "      <td>0</td>\n",
              "      <td>гражданский брак</td>\n",
              "      <td>1</td>\n",
              "      <td>F</td>\n",
              "      <td>компаньон</td>\n",
              "      <td>1</td>\n",
              "      <td>165127.911772</td>\n",
              "      <td>покупка жилой недвижимости</td>\n",
              "    </tr>\n",
              "  </tbody>\n",
              "</table>\n",
              "</div>"
            ],
            "text/plain": [
              "    children  days_employed  dob_years            education  education_id  \\\n",
              "0          1    8437.673028         42               высшее             0   \n",
              "1          1    4024.803754         36              среднее             1   \n",
              "2          0    5623.422610         33              Среднее             1   \n",
              "3          3    4124.747207         32              среднее             1   \n",
              "4          0  340266.072047         53              среднее             1   \n",
              "5          0     926.185831         27               высшее             0   \n",
              "6          0    2879.202052         43               высшее             0   \n",
              "7          0     152.779569         50              СРЕДНЕЕ             1   \n",
              "8          2    6929.865299         35               ВЫСШЕЕ             0   \n",
              "9          0    2188.756445         41              среднее             1   \n",
              "10         2    4171.483647         36               высшее             0   \n",
              "11         0     792.701887         40              среднее             1   \n",
              "12         0    1203.369529         65              среднее             1   \n",
              "13         0    1846.641941         54  неоконченное высшее             2   \n",
              "14         0    1844.956182         56               высшее             0   \n",
              "\n",
              "       family_status  family_status_id gender income_type  debt  \\\n",
              "0    женат / замужем                 0      F   сотрудник     0   \n",
              "1    женат / замужем                 0      F   сотрудник     0   \n",
              "2    женат / замужем                 0      M   сотрудник     0   \n",
              "3    женат / замужем                 0      M   сотрудник     0   \n",
              "4   гражданский брак                 1      F   пенсионер     0   \n",
              "5   гражданский брак                 1      M   компаньон     0   \n",
              "6    женат / замужем                 0      F   компаньон     0   \n",
              "7    женат / замужем                 0      M   сотрудник     0   \n",
              "8   гражданский брак                 1      F   сотрудник     0   \n",
              "9    женат / замужем                 0      M   сотрудник     0   \n",
              "10   женат / замужем                 0      M   компаньон     0   \n",
              "11   женат / замужем                 0      F   сотрудник     0   \n",
              "12  гражданский брак                 1      M   пенсионер     0   \n",
              "13   женат / замужем                 0      F   сотрудник     0   \n",
              "14  гражданский брак                 1      F   компаньон     1   \n",
              "\n",
              "     total_income                            purpose  \n",
              "0   253875.639453                      покупка жилья  \n",
              "1   112080.014102            приобретение автомобиля  \n",
              "2   145885.952297                      покупка жилья  \n",
              "3   267628.550329         дополнительное образование  \n",
              "4   158616.077870                    сыграть свадьбу  \n",
              "5   255763.565419                      покупка жилья  \n",
              "6   240525.971920                  операции с жильем  \n",
              "7   135823.934197                        образование  \n",
              "8    95856.832424              на проведение свадьбы  \n",
              "9   144425.938277            покупка жилья для семьи  \n",
              "10  113943.491460               покупка недвижимости  \n",
              "11   77069.234271  покупка коммерческой недвижимости  \n",
              "12  137127.465690                    сыграть свадьбу  \n",
              "13  130458.228857            приобретение автомобиля  \n",
              "14  165127.911772         покупка жилой недвижимости  "
            ]
          },
          "execution_count": 5,
          "metadata": {},
          "output_type": "execute_result"
        }
      ],
      "source": [
        "bank_rock.head(15)"
      ]
    },
    {
      "cell_type": "markdown",
      "metadata": {
        "id": "ZRJhYSKRQDnN"
      },
      "source": [
        "**Вывод**"
      ]
    },
    {
      "cell_type": "markdown",
      "metadata": {
        "id": "dR25QSCzQDnN"
      },
      "source": [
        "В данном разделе мы заполнили пропущенные значения, убрали отрицательные числа из столбца \"общий трудовой стаж\", подготовили столбцы для последующей обработки."
      ]
    },
    {
      "cell_type": "markdown",
      "metadata": {
        "id": "h5mwbJ0CQDnO"
      },
      "source": [
        "### Замена типа данных"
      ]
    },
    {
      "cell_type": "code",
      "execution_count": null,
      "metadata": {
        "id": "xLA5LSvjQDnO",
        "outputId": "72f3e350-c06e-45c0-c69f-a8dbce4c88c9"
      },
      "outputs": [
        {
          "data": {
            "text/plain": [
              "array(['высшее', 'среднее', 'неоконченное высшее', 'начальное',\n",
              "       'ученая степень'], dtype=object)"
            ]
          },
          "execution_count": 6,
          "metadata": {},
          "output_type": "execute_result"
        }
      ],
      "source": [
        "bank_rock['education'] = bank_rock['education'].str.lower()\n",
        "bank_rock['education'].unique()"
      ]
    },
    {
      "cell_type": "markdown",
      "metadata": {
        "id": "li45MUQGQDnO"
      },
      "source": [
        "В столбце \"образование\" необходимо унифицировать регистр значений, делаем это при помощи функции 'str.lower()'. После проверяем все возможные значения для данного столбца. У нас осталось 5 значений, записанные при помощи строчных букв, по которым в будущем будет удобно классифицировать таблицы."
      ]
    },
    {
      "cell_type": "code",
      "execution_count": null,
      "metadata": {
        "id": "BCokCU7oQDnP"
      },
      "outputs": [],
      "source": [
        "#bank_rock.info()\n",
        "bank_rock['total_income']=bank_rock['total_income'].astype('int64')"
      ]
    },
    {
      "cell_type": "code",
      "execution_count": null,
      "metadata": {
        "id": "942_dpIyQDnP"
      },
      "outputs": [],
      "source": [
        "bank_rock['days_employed']=bank_rock['days_employed'].astype('int64')"
      ]
    },
    {
      "cell_type": "markdown",
      "metadata": {
        "id": "iEZaujmaQDnP"
      },
      "source": [
        "Еще раз проверим тип данных в таблице. \n",
        "Столбцы \"общий трудовой стаж\" и \"доход\" имею тип float. С помощью функции 'astype()' заменим значения в данных столбцах на тип int для удобства в дальнейших вычислениях."
      ]
    },
    {
      "cell_type": "markdown",
      "metadata": {
        "id": "ilzLfq2IQDnQ"
      },
      "source": [
        "**Вывод**"
      ]
    },
    {
      "cell_type": "markdown",
      "metadata": {
        "id": "p-pBD-XcQDnQ"
      },
      "source": [
        "В данном разделе были изменены типы данных в таблице на целые числа для дальнейших вычислений, а также унифицирован регистр для столбца \"образование\""
      ]
    },
    {
      "cell_type": "markdown",
      "metadata": {
        "id": "y1sElIZwQDnQ"
      },
      "source": [
        ""
      ]
    },
    {
      "cell_type": "markdown",
      "metadata": {
        "id": "RJs6FnscQDnQ"
      },
      "source": [
        "### Обработка дубликатов"
      ]
    },
    {
      "cell_type": "code",
      "execution_count": null,
      "metadata": {
        "id": "IvYTVFPiQDnR",
        "outputId": "6c1efe7f-c9f1-4555-aaeb-a4c71583eac1"
      },
      "outputs": [
        {
          "data": {
            "text/plain": [
              "array([ 1,  0,  3,  2, -1,  4, 20,  5])"
            ]
          },
          "execution_count": 9,
          "metadata": {},
          "output_type": "execute_result"
        }
      ],
      "source": [
        "bank_rock['children'].unique()"
      ]
    },
    {
      "cell_type": "markdown",
      "metadata": {
        "id": "P7eDU_kVQDnR"
      },
      "source": [
        "Проверяем значения для столбца \"кол-во детей\", видим, что там есть два значения, которые могут быть ошибочными \"-1\" и \"20\""
      ]
    },
    {
      "cell_type": "code",
      "execution_count": null,
      "metadata": {
        "id": "4Kky0xj7QDnR",
        "outputId": "c3099c6b-29a7-47a6-d363-0babce9e33a2"
      },
      "outputs": [
        {
          "data": {
            "text/plain": [
              "children\n",
              "-1        47\n",
              " 0     14149\n",
              " 1      4818\n",
              " 2      2055\n",
              " 3       330\n",
              " 4        41\n",
              " 5         9\n",
              " 20       76\n",
              "Name: family_status, dtype: int64"
            ]
          },
          "execution_count": 10,
          "metadata": {},
          "output_type": "execute_result"
        }
      ],
      "source": [
        "bank_rock.groupby('children')['family_status'].count()"
      ]
    },
    {
      "cell_type": "markdown",
      "metadata": {
        "id": "sktdX0X3QDnR"
      },
      "source": [
        "Считаем количество значений. Крайне маловероятно, что у 76 людей из выборки есть по 20 детей. Возможно при заполнении данных произошла ошибка в появлении '-' и лишнего нуля, будет необходимо их заменить на нужные значения: \"1\" и \"2\" при помощи функции \"replace()\"."
      ]
    },
    {
      "cell_type": "code",
      "execution_count": null,
      "metadata": {
        "id": "VWV91eCJQDnS",
        "outputId": "18fc4895-9706-4863-c515-ac849725d977"
      },
      "outputs": [
        {
          "data": {
            "text/plain": [
              "array([1, 0, 3, 2, 4, 5])"
            ]
          },
          "execution_count": 11,
          "metadata": {},
          "output_type": "execute_result"
        }
      ],
      "source": [
        "bank_rock['children'] = bank_rock['children'].replace(-1, 1)\n",
        "bank_rock['children'] = bank_rock['children'].replace(20, 2)\n",
        "bank_rock['children'].unique()"
      ]
    },
    {
      "cell_type": "markdown",
      "metadata": {
        "id": "MyCvTBQKQDnS"
      },
      "source": [
        "Проверяем новые значения с помощью функции 'unique()'"
      ]
    },
    {
      "cell_type": "code",
      "execution_count": null,
      "metadata": {
        "id": "SvUmVargQDnT",
        "outputId": "2b10866b-cf51-4120-f030-28effaab9e6e"
      },
      "outputs": [
        {
          "data": {
            "text/html": [
              "<div>\n",
              "<style scoped>\n",
              "    .dataframe tbody tr th:only-of-type {\n",
              "        vertical-align: middle;\n",
              "    }\n",
              "\n",
              "    .dataframe tbody tr th {\n",
              "        vertical-align: top;\n",
              "    }\n",
              "\n",
              "    .dataframe thead th {\n",
              "        text-align: right;\n",
              "    }\n",
              "</style>\n",
              "<table border=\"1\" class=\"dataframe\">\n",
              "  <thead>\n",
              "    <tr style=\"text-align: right;\">\n",
              "      <th></th>\n",
              "      <th>children</th>\n",
              "      <th>days_employed</th>\n",
              "      <th>dob_years</th>\n",
              "      <th>education</th>\n",
              "      <th>education_id</th>\n",
              "      <th>family_status</th>\n",
              "      <th>family_status_id</th>\n",
              "      <th>gender</th>\n",
              "      <th>income_type</th>\n",
              "      <th>debt</th>\n",
              "      <th>total_income</th>\n",
              "      <th>purpose</th>\n",
              "    </tr>\n",
              "  </thead>\n",
              "  <tbody>\n",
              "    <tr>\n",
              "      <th>10701</th>\n",
              "      <td>0</td>\n",
              "      <td>2358</td>\n",
              "      <td>24</td>\n",
              "      <td>неоконченное высшее</td>\n",
              "      <td>2</td>\n",
              "      <td>гражданский брак</td>\n",
              "      <td>1</td>\n",
              "      <td>XNA</td>\n",
              "      <td>компаньон</td>\n",
              "      <td>0</td>\n",
              "      <td>203905</td>\n",
              "      <td>покупка недвижимости</td>\n",
              "    </tr>\n",
              "  </tbody>\n",
              "</table>\n",
              "</div>"
            ],
            "text/plain": [
              "       children  days_employed  dob_years            education  education_id  \\\n",
              "10701         0           2358         24  неоконченное высшее             2   \n",
              "\n",
              "          family_status  family_status_id gender income_type  debt  \\\n",
              "10701  гражданский брак                 1    XNA   компаньон     0   \n",
              "\n",
              "       total_income               purpose  \n",
              "10701        203905  покупка недвижимости  "
            ]
          },
          "execution_count": 12,
          "metadata": {},
          "output_type": "execute_result"
        }
      ],
      "source": [
        "#bank_rock['gender'].unique()\n",
        "#bank_rock['gender'].value_counts()\n",
        "bank_rock[bank_rock['gender']== 'XNA']"
      ]
    },
    {
      "cell_type": "markdown",
      "metadata": {
        "id": "70icQ7aGQDnT"
      },
      "source": [
        "Рассморим столбец \"пол\". Вызовем функцию, для проверки всех значений. Кроме 'F' и 'M' есть еще некий 'XNA'. Проверяем количество таких строк через сокращенную функцию 'loc()'. Есть всего одна такая строка."
      ]
    },
    {
      "cell_type": "code",
      "execution_count": null,
      "metadata": {
        "id": "NJPCcpxsQDnT"
      },
      "outputs": [],
      "source": [
        "bank_rock = bank_rock.drop(index=[10701])"
      ]
    },
    {
      "cell_type": "markdown",
      "metadata": {
        "id": "FXBCri1-QDnT"
      },
      "source": [
        "При помощи функции drop(), удаляем данную строку, указывая индекс, который мы ранее нашли."
      ]
    },
    {
      "cell_type": "code",
      "execution_count": null,
      "metadata": {
        "id": "DevWf3DWQDnU"
      },
      "outputs": [],
      "source": [
        "#bank_rock['gender'].unique()"
      ]
    },
    {
      "cell_type": "markdown",
      "metadata": {
        "id": "-untmB_jQDnU"
      },
      "source": [
        "Выводим значения столбца \"пол\" повторно для проверки."
      ]
    },
    {
      "cell_type": "code",
      "execution_count": null,
      "metadata": {
        "scrolled": true,
        "id": "xO7kM6yXQDnU",
        "outputId": "db63f544-8a2f-4c93-a844-0c88642d137d"
      },
      "outputs": [
        {
          "data": {
            "text/plain": [
              "array([42, 36, 33, 32, 53, 27, 43, 50, 35, 41, 40, 65, 54, 56, 26, 48, 24,\n",
              "       21, 57, 67, 28, 63, 62, 47, 34, 68, 25, 31, 30, 20, 49, 37, 45, 61,\n",
              "       64, 44, 52, 46, 23, 38, 39, 51,  0, 59, 29, 60, 55, 58, 71, 22, 73,\n",
              "       66, 69, 19, 72, 70, 74, 75])"
            ]
          },
          "execution_count": 15,
          "metadata": {},
          "output_type": "execute_result"
        }
      ],
      "source": [
        "bank_rock['dob_years'].unique()"
      ]
    },
    {
      "cell_type": "markdown",
      "metadata": {
        "id": "f45LiONcQDnV"
      },
      "source": [
        "Проверяем уникальные значения для столбца \"возраст клиента в годах\". Видим, что у некоторых клиентов заполнено число \"0\", что не может быть правдой."
      ]
    },
    {
      "cell_type": "code",
      "execution_count": null,
      "metadata": {
        "id": "B-n2QF_HQDnV",
        "outputId": "e3ef26cf-9826-4924-864f-9a7ffeadda47"
      },
      "outputs": [
        {
          "data": {
            "text/plain": [
              "dob_years\n",
              "0     101\n",
              "19     14\n",
              "20     51\n",
              "21    111\n",
              "22    183\n",
              "23    254\n",
              "24    263\n",
              "25    357\n",
              "26    408\n",
              "27    493\n",
              "28    503\n",
              "29    545\n",
              "30    540\n",
              "31    560\n",
              "32    510\n",
              "33    581\n",
              "34    603\n",
              "35    617\n",
              "36    555\n",
              "37    537\n",
              "38    598\n",
              "39    573\n",
              "40    609\n",
              "41    607\n",
              "42    597\n",
              "43    513\n",
              "44    547\n",
              "45    497\n",
              "46    475\n",
              "47    480\n",
              "48    538\n",
              "49    508\n",
              "50    514\n",
              "51    448\n",
              "52    484\n",
              "53    459\n",
              "54    479\n",
              "55    443\n",
              "56    487\n",
              "57    460\n",
              "58    461\n",
              "59    444\n",
              "60    377\n",
              "61    355\n",
              "62    352\n",
              "63    269\n",
              "64    265\n",
              "65    194\n",
              "66    183\n",
              "67    167\n",
              "68     99\n",
              "69     85\n",
              "70     65\n",
              "71     58\n",
              "72     33\n",
              "73      8\n",
              "74      6\n",
              "75      1\n",
              "Name: family_status, dtype: int64"
            ]
          },
          "execution_count": 16,
          "metadata": {},
          "output_type": "execute_result"
        }
      ],
      "source": [
        "bank_rock.groupby('dob_years')['family_status'].count()\n"
      ]
    },
    {
      "cell_type": "code",
      "execution_count": null,
      "metadata": {
        "id": "RkMjbFxPQDnV",
        "outputId": "ffc44ead-4bce-49b0-c13a-a3c97f7f6c89"
      },
      "outputs": [
        {
          "name": "stdout",
          "output_type": "stream",
          "text": [
            "Доля удаляемого датасета составляет: 0.47%\n"
          ]
        }
      ],
      "source": [
        "drop_per = 101 / len(bank_rock)\n",
        "print (\"Доля удаляемого датасета составляет: {:.2%}\".format(drop_per))"
      ]
    },
    {
      "cell_type": "code",
      "execution_count": null,
      "metadata": {
        "id": "N17_RryKQDnW"
      },
      "outputs": [],
      "source": [
        "bank_rock = bank_rock.drop(bank_rock[bank_rock['dob_years'] == 0].index)"
      ]
    },
    {
      "cell_type": "markdown",
      "metadata": {
        "id": "rKJLq0QTQDnW"
      },
      "source": [
        "Посчитали количество строк в котором значение равно 0. Т.к. процент таких строк очень маленький, мы не можем заполнить значения средним числом за клиента, данные строки были удалены из таблицы. "
      ]
    },
    {
      "cell_type": "code",
      "execution_count": null,
      "metadata": {
        "id": "dEUAiVzMQDnX",
        "outputId": "f7d8f85a-992a-4db0-d807-fed5acdc0714"
      },
      "outputs": [
        {
          "data": {
            "text/plain": [
              "71"
            ]
          },
          "execution_count": 19,
          "metadata": {},
          "output_type": "execute_result"
        }
      ],
      "source": [
        "bank_rock.duplicated().sum()"
      ]
    },
    {
      "cell_type": "code",
      "execution_count": null,
      "metadata": {
        "id": "U3avUM36QDnY"
      },
      "outputs": [],
      "source": [
        "bank_rock=bank_rock.drop_duplicates().reset_index(drop= True)"
      ]
    },
    {
      "cell_type": "code",
      "execution_count": null,
      "metadata": {
        "id": "Niblxs38QDnY",
        "outputId": "4041da0d-838c-4fca-880b-4ff656900ab3"
      },
      "outputs": [
        {
          "data": {
            "text/plain": [
              "0"
            ]
          },
          "execution_count": 21,
          "metadata": {},
          "output_type": "execute_result"
        }
      ],
      "source": [
        "bank_rock.duplicated().sum()"
      ]
    },
    {
      "cell_type": "markdown",
      "metadata": {
        "id": "s8Uo_304QDnZ"
      },
      "source": [
        "Проверили количество дубликатов в таблице после всех изменений, их оказалось 71. Используя фунцкию 'drop_duplicates().reset_index(drop= True)' удаляем все дубликаты, не создавая столбец со старыми значениями индексов.\n",
        "Проверяем еще раз количество дубликатов функцией 'bank_rock.duplicated().sum()'\n"
      ]
    },
    {
      "cell_type": "markdown",
      "metadata": {
        "id": "7Vcs2FPDQDnZ"
      },
      "source": [
        "**Вывод**"
      ]
    },
    {
      "cell_type": "markdown",
      "metadata": {
        "id": "r2wxUOUFQDnZ"
      },
      "source": [
        "В данном разделе мы удалили все значения, которые в будущем исказили бы выводы в исследовании."
      ]
    },
    {
      "cell_type": "markdown",
      "metadata": {
        "id": "acOxISPLQDnZ"
      },
      "source": [
        "### Лемматизация"
      ]
    },
    {
      "cell_type": "code",
      "execution_count": null,
      "metadata": {
        "id": "5YcilcinQDna",
        "outputId": "b387caca-9794-47a4-bc94-5954519ce9a1"
      },
      "outputs": [
        {
          "data": {
            "text/plain": [
              "array(['покупка жилья', 'приобретение автомобиля',\n",
              "       'дополнительное образование', 'сыграть свадьбу',\n",
              "       'операции с жильем', 'образование', 'на проведение свадьбы',\n",
              "       'покупка жилья для семьи', 'покупка недвижимости',\n",
              "       'покупка коммерческой недвижимости', 'покупка жилой недвижимости',\n",
              "       'строительство собственной недвижимости', 'недвижимость',\n",
              "       'строительство недвижимости', 'на покупку подержанного автомобиля',\n",
              "       'на покупку своего автомобиля',\n",
              "       'операции с коммерческой недвижимостью',\n",
              "       'строительство жилой недвижимости', 'жилье',\n",
              "       'операции со своей недвижимостью', 'автомобили',\n",
              "       'заняться образованием', 'сделка с подержанным автомобилем',\n",
              "       'получение образования', 'автомобиль', 'свадьба',\n",
              "       'получение дополнительного образования', 'покупка своего жилья',\n",
              "       'операции с недвижимостью', 'получение высшего образования',\n",
              "       'свой автомобиль', 'сделка с автомобилем',\n",
              "       'профильное образование', 'высшее образование',\n",
              "       'покупка жилья для сдачи', 'на покупку автомобиля', 'ремонт жилью',\n",
              "       'заняться высшим образованием'], dtype=object)"
            ]
          },
          "execution_count": 22,
          "metadata": {},
          "output_type": "execute_result"
        }
      ],
      "source": [
        "from pymystem3 import Mystem\n",
        "m = Mystem()\n",
        "bank_rock['purpose'].unique()"
      ]
    },
    {
      "cell_type": "markdown",
      "metadata": {
        "id": "jltLwyLiQDna"
      },
      "source": [
        "Вызываем функцию для проверки всех возможных значений для столбца \"цель кредита\". Замечаем, что в целом есть повторяющиеся значения, выраженные разными словами. Необходимо вызвать лемматизатор для слов на русском.\n"
      ]
    },
    {
      "cell_type": "markdown",
      "metadata": {
        "id": "Kj5h32bzQDna"
      },
      "source": [
        "Сохраняем список значений столбца \"цель кредита\" в переменную 'word_list'. Создаем пустой список 'lems'. С помощью цикла для всех значений вызываем функцию лемматизации 'm.lemmatize()',  потом применяем ее к значениям 'word_list', выводим на экран список (lems)."
      ]
    },
    {
      "cell_type": "code",
      "execution_count": null,
      "metadata": {
        "scrolled": true,
        "id": "ynhDfanHQDna",
        "outputId": "5b759284-612d-4e82-9cdc-e02209fc9ef9"
      },
      "outputs": [
        {
          "name": "stdout",
          "output_type": "stream",
          "text": [
            "покупка автомобиля\n"
          ]
        },
        {
          "data": {
            "text/html": [
              "<div>\n",
              "<style scoped>\n",
              "    .dataframe tbody tr th:only-of-type {\n",
              "        vertical-align: middle;\n",
              "    }\n",
              "\n",
              "    .dataframe tbody tr th {\n",
              "        vertical-align: top;\n",
              "    }\n",
              "\n",
              "    .dataframe thead th {\n",
              "        text-align: right;\n",
              "    }\n",
              "</style>\n",
              "<table border=\"1\" class=\"dataframe\">\n",
              "  <thead>\n",
              "    <tr style=\"text-align: right;\">\n",
              "      <th></th>\n",
              "      <th>children</th>\n",
              "      <th>days_employed</th>\n",
              "      <th>dob_years</th>\n",
              "      <th>education</th>\n",
              "      <th>education_id</th>\n",
              "      <th>family_status</th>\n",
              "      <th>family_status_id</th>\n",
              "      <th>gender</th>\n",
              "      <th>income_type</th>\n",
              "      <th>debt</th>\n",
              "      <th>total_income</th>\n",
              "      <th>purpose</th>\n",
              "      <th>new_purpose</th>\n",
              "    </tr>\n",
              "  </thead>\n",
              "  <tbody>\n",
              "    <tr>\n",
              "      <th>0</th>\n",
              "      <td>1</td>\n",
              "      <td>8437</td>\n",
              "      <td>42</td>\n",
              "      <td>высшее</td>\n",
              "      <td>0</td>\n",
              "      <td>женат / замужем</td>\n",
              "      <td>0</td>\n",
              "      <td>F</td>\n",
              "      <td>сотрудник</td>\n",
              "      <td>0</td>\n",
              "      <td>253875</td>\n",
              "      <td>покупка жилья</td>\n",
              "      <td>операции с недвижимостью</td>\n",
              "    </tr>\n",
              "    <tr>\n",
              "      <th>1</th>\n",
              "      <td>1</td>\n",
              "      <td>4024</td>\n",
              "      <td>36</td>\n",
              "      <td>среднее</td>\n",
              "      <td>1</td>\n",
              "      <td>женат / замужем</td>\n",
              "      <td>0</td>\n",
              "      <td>F</td>\n",
              "      <td>сотрудник</td>\n",
              "      <td>0</td>\n",
              "      <td>112080</td>\n",
              "      <td>приобретение автомобиля</td>\n",
              "      <td>покупка автомобиля</td>\n",
              "    </tr>\n",
              "    <tr>\n",
              "      <th>2</th>\n",
              "      <td>0</td>\n",
              "      <td>5623</td>\n",
              "      <td>33</td>\n",
              "      <td>среднее</td>\n",
              "      <td>1</td>\n",
              "      <td>женат / замужем</td>\n",
              "      <td>0</td>\n",
              "      <td>M</td>\n",
              "      <td>сотрудник</td>\n",
              "      <td>0</td>\n",
              "      <td>145885</td>\n",
              "      <td>покупка жилья</td>\n",
              "      <td>операции с недвижимостью</td>\n",
              "    </tr>\n",
              "    <tr>\n",
              "      <th>3</th>\n",
              "      <td>3</td>\n",
              "      <td>4124</td>\n",
              "      <td>32</td>\n",
              "      <td>среднее</td>\n",
              "      <td>1</td>\n",
              "      <td>женат / замужем</td>\n",
              "      <td>0</td>\n",
              "      <td>M</td>\n",
              "      <td>сотрудник</td>\n",
              "      <td>0</td>\n",
              "      <td>267628</td>\n",
              "      <td>дополнительное образование</td>\n",
              "      <td>образование</td>\n",
              "    </tr>\n",
              "    <tr>\n",
              "      <th>4</th>\n",
              "      <td>0</td>\n",
              "      <td>340266</td>\n",
              "      <td>53</td>\n",
              "      <td>среднее</td>\n",
              "      <td>1</td>\n",
              "      <td>гражданский брак</td>\n",
              "      <td>1</td>\n",
              "      <td>F</td>\n",
              "      <td>пенсионер</td>\n",
              "      <td>0</td>\n",
              "      <td>158616</td>\n",
              "      <td>сыграть свадьбу</td>\n",
              "      <td>проведение свадьбы</td>\n",
              "    </tr>\n",
              "    <tr>\n",
              "      <th>5</th>\n",
              "      <td>0</td>\n",
              "      <td>926</td>\n",
              "      <td>27</td>\n",
              "      <td>высшее</td>\n",
              "      <td>0</td>\n",
              "      <td>гражданский брак</td>\n",
              "      <td>1</td>\n",
              "      <td>M</td>\n",
              "      <td>компаньон</td>\n",
              "      <td>0</td>\n",
              "      <td>255763</td>\n",
              "      <td>покупка жилья</td>\n",
              "      <td>операции с недвижимостью</td>\n",
              "    </tr>\n",
              "    <tr>\n",
              "      <th>6</th>\n",
              "      <td>0</td>\n",
              "      <td>2879</td>\n",
              "      <td>43</td>\n",
              "      <td>высшее</td>\n",
              "      <td>0</td>\n",
              "      <td>женат / замужем</td>\n",
              "      <td>0</td>\n",
              "      <td>F</td>\n",
              "      <td>компаньон</td>\n",
              "      <td>0</td>\n",
              "      <td>240525</td>\n",
              "      <td>операции с жильем</td>\n",
              "      <td>операции с недвижимостью</td>\n",
              "    </tr>\n",
              "    <tr>\n",
              "      <th>7</th>\n",
              "      <td>0</td>\n",
              "      <td>152</td>\n",
              "      <td>50</td>\n",
              "      <td>среднее</td>\n",
              "      <td>1</td>\n",
              "      <td>женат / замужем</td>\n",
              "      <td>0</td>\n",
              "      <td>M</td>\n",
              "      <td>сотрудник</td>\n",
              "      <td>0</td>\n",
              "      <td>135823</td>\n",
              "      <td>образование</td>\n",
              "      <td>образование</td>\n",
              "    </tr>\n",
              "    <tr>\n",
              "      <th>8</th>\n",
              "      <td>2</td>\n",
              "      <td>6929</td>\n",
              "      <td>35</td>\n",
              "      <td>высшее</td>\n",
              "      <td>0</td>\n",
              "      <td>гражданский брак</td>\n",
              "      <td>1</td>\n",
              "      <td>F</td>\n",
              "      <td>сотрудник</td>\n",
              "      <td>0</td>\n",
              "      <td>95856</td>\n",
              "      <td>на проведение свадьбы</td>\n",
              "      <td>проведение свадьбы</td>\n",
              "    </tr>\n",
              "    <tr>\n",
              "      <th>9</th>\n",
              "      <td>0</td>\n",
              "      <td>2188</td>\n",
              "      <td>41</td>\n",
              "      <td>среднее</td>\n",
              "      <td>1</td>\n",
              "      <td>женат / замужем</td>\n",
              "      <td>0</td>\n",
              "      <td>M</td>\n",
              "      <td>сотрудник</td>\n",
              "      <td>0</td>\n",
              "      <td>144425</td>\n",
              "      <td>покупка жилья для семьи</td>\n",
              "      <td>операции с недвижимостью</td>\n",
              "    </tr>\n",
              "  </tbody>\n",
              "</table>\n",
              "</div>"
            ],
            "text/plain": [
              "   children  days_employed  dob_years education  education_id  \\\n",
              "0         1           8437         42    высшее             0   \n",
              "1         1           4024         36   среднее             1   \n",
              "2         0           5623         33   среднее             1   \n",
              "3         3           4124         32   среднее             1   \n",
              "4         0         340266         53   среднее             1   \n",
              "5         0            926         27    высшее             0   \n",
              "6         0           2879         43    высшее             0   \n",
              "7         0            152         50   среднее             1   \n",
              "8         2           6929         35    высшее             0   \n",
              "9         0           2188         41   среднее             1   \n",
              "\n",
              "      family_status  family_status_id gender income_type  debt  total_income  \\\n",
              "0   женат / замужем                 0      F   сотрудник     0        253875   \n",
              "1   женат / замужем                 0      F   сотрудник     0        112080   \n",
              "2   женат / замужем                 0      M   сотрудник     0        145885   \n",
              "3   женат / замужем                 0      M   сотрудник     0        267628   \n",
              "4  гражданский брак                 1      F   пенсионер     0        158616   \n",
              "5  гражданский брак                 1      M   компаньон     0        255763   \n",
              "6   женат / замужем                 0      F   компаньон     0        240525   \n",
              "7   женат / замужем                 0      M   сотрудник     0        135823   \n",
              "8  гражданский брак                 1      F   сотрудник     0         95856   \n",
              "9   женат / замужем                 0      M   сотрудник     0        144425   \n",
              "\n",
              "                      purpose               new_purpose  \n",
              "0               покупка жилья  операции с недвижимостью  \n",
              "1     приобретение автомобиля        покупка автомобиля  \n",
              "2               покупка жилья  операции с недвижимостью  \n",
              "3  дополнительное образование               образование  \n",
              "4             сыграть свадьбу        проведение свадьбы  \n",
              "5               покупка жилья  операции с недвижимостью  \n",
              "6           операции с жильем  операции с недвижимостью  \n",
              "7                 образование               образование  \n",
              "8       на проведение свадьбы        проведение свадьбы  \n",
              "9     покупка жилья для семьи  операции с недвижимостью  "
            ]
          },
          "execution_count": 23,
          "metadata": {},
          "output_type": "execute_result"
        }
      ],
      "source": [
        "def purpose_short(purpose):\n",
        "    \n",
        "    lem_purpose=m.lemmatize(purpose)\n",
        "    \n",
        "    if 'жилье' in lem_purpose:\n",
        "        return 'операции с недвижимостью'\n",
        "    if 'недвижимость' in lem_purpose:\n",
        "        return 'операции с недвижимостью'\n",
        "    if 'автомобиль' in lem_purpose:\n",
        "        return 'покупка автомобиля'\n",
        "    if 'образование' in lem_purpose:\n",
        "        return 'образование'\n",
        "    if 'свадьба' in lem_purpose:\n",
        "        return 'проведение свадьбы'\n",
        "    return 'другое'  \n",
        "    \n",
        "print(purpose_short('автомобиля'))\n",
        "bank_rock['new_purpose'] = bank_rock['purpose'].apply(purpose_short)\n",
        "#bank_rock['purpose'].unique()\n",
        "bank_rock.head(10)"
      ]
    },
    {
      "cell_type": "markdown",
      "metadata": {
        "id": "arfI9eGnQDnb"
      },
      "source": [
        "Создаем функцию 'def purpose_short(word)', которая будет искать похожие слова в полученным списке. Прописываем условие, которое будет совпадать со словами в списке. \n",
        "Проверяем, работает ли функция корректно, после этого создаем новый столбец методом 'apply()', прописываем внутри функцию, которая будет обрабатывать старые значения и выводить новые. \n",
        "Применяем ее к таблице, выводим первые 10 строк."
      ]
    },
    {
      "cell_type": "markdown",
      "metadata": {
        "id": "5M9U_0sDQDnc"
      },
      "source": [
        "**Вывод**"
      ]
    },
    {
      "cell_type": "markdown",
      "metadata": {
        "id": "rup6BTCAQDnc"
      },
      "source": [
        "В данном разделе мы унифицировали множественные значения в столбце \"образование\", получив на выходе 4 значения, что значительно упростит нам дальнейшие наблюдения и расчеты."
      ]
    },
    {
      "cell_type": "markdown",
      "metadata": {
        "id": "pJ0phQ5pQDnc"
      },
      "source": [
        "### Категоризация данных"
      ]
    },
    {
      "cell_type": "code",
      "execution_count": null,
      "metadata": {
        "scrolled": true,
        "id": "IUvzsuGRQDnc",
        "outputId": "fdbf76c7-3ea4-4a3f-d73a-45192044c012"
      },
      "outputs": [
        {
          "data": {
            "text/html": [
              "<div>\n",
              "<style scoped>\n",
              "    .dataframe tbody tr th:only-of-type {\n",
              "        vertical-align: middle;\n",
              "    }\n",
              "\n",
              "    .dataframe tbody tr th {\n",
              "        vertical-align: top;\n",
              "    }\n",
              "\n",
              "    .dataframe thead th {\n",
              "        text-align: right;\n",
              "    }\n",
              "</style>\n",
              "<table border=\"1\" class=\"dataframe\">\n",
              "  <thead>\n",
              "    <tr style=\"text-align: right;\">\n",
              "      <th></th>\n",
              "      <th>children</th>\n",
              "      <th>days_employed</th>\n",
              "      <th>dob_years</th>\n",
              "      <th>education</th>\n",
              "      <th>education_id</th>\n",
              "      <th>family_status</th>\n",
              "      <th>family_status_id</th>\n",
              "      <th>gender</th>\n",
              "      <th>income_type</th>\n",
              "      <th>debt</th>\n",
              "      <th>total_income</th>\n",
              "      <th>purpose</th>\n",
              "      <th>new_purpose</th>\n",
              "    </tr>\n",
              "  </thead>\n",
              "  <tbody>\n",
              "    <tr>\n",
              "      <th>14479</th>\n",
              "      <td>0</td>\n",
              "      <td>359219</td>\n",
              "      <td>57</td>\n",
              "      <td>среднее</td>\n",
              "      <td>1</td>\n",
              "      <td>женат / замужем</td>\n",
              "      <td>0</td>\n",
              "      <td>F</td>\n",
              "      <td>пенсионер</td>\n",
              "      <td>1</td>\n",
              "      <td>20667</td>\n",
              "      <td>недвижимость</td>\n",
              "      <td>операции с недвижимостью</td>\n",
              "    </tr>\n",
              "    <tr>\n",
              "      <th>12918</th>\n",
              "      <td>0</td>\n",
              "      <td>369708</td>\n",
              "      <td>37</td>\n",
              "      <td>среднее</td>\n",
              "      <td>1</td>\n",
              "      <td>гражданский брак</td>\n",
              "      <td>1</td>\n",
              "      <td>M</td>\n",
              "      <td>пенсионер</td>\n",
              "      <td>0</td>\n",
              "      <td>21205</td>\n",
              "      <td>заняться высшим образованием</td>\n",
              "      <td>образование</td>\n",
              "    </tr>\n",
              "    <tr>\n",
              "      <th>16053</th>\n",
              "      <td>1</td>\n",
              "      <td>3642</td>\n",
              "      <td>52</td>\n",
              "      <td>среднее</td>\n",
              "      <td>1</td>\n",
              "      <td>женат / замужем</td>\n",
              "      <td>0</td>\n",
              "      <td>M</td>\n",
              "      <td>сотрудник</td>\n",
              "      <td>0</td>\n",
              "      <td>21367</td>\n",
              "      <td>приобретение автомобиля</td>\n",
              "      <td>покупка автомобиля</td>\n",
              "    </tr>\n",
              "    <tr>\n",
              "      <th>1590</th>\n",
              "      <td>0</td>\n",
              "      <td>359726</td>\n",
              "      <td>68</td>\n",
              "      <td>среднее</td>\n",
              "      <td>1</td>\n",
              "      <td>гражданский брак</td>\n",
              "      <td>1</td>\n",
              "      <td>M</td>\n",
              "      <td>пенсионер</td>\n",
              "      <td>0</td>\n",
              "      <td>21695</td>\n",
              "      <td>на проведение свадьбы</td>\n",
              "      <td>проведение свадьбы</td>\n",
              "    </tr>\n",
              "    <tr>\n",
              "      <th>14173</th>\n",
              "      <td>0</td>\n",
              "      <td>346602</td>\n",
              "      <td>61</td>\n",
              "      <td>среднее</td>\n",
              "      <td>1</td>\n",
              "      <td>женат / замужем</td>\n",
              "      <td>0</td>\n",
              "      <td>F</td>\n",
              "      <td>пенсионер</td>\n",
              "      <td>0</td>\n",
              "      <td>21895</td>\n",
              "      <td>недвижимость</td>\n",
              "      <td>операции с недвижимостью</td>\n",
              "    </tr>\n",
              "    <tr>\n",
              "      <th>...</th>\n",
              "      <td>...</td>\n",
              "      <td>...</td>\n",
              "      <td>...</td>\n",
              "      <td>...</td>\n",
              "      <td>...</td>\n",
              "      <td>...</td>\n",
              "      <td>...</td>\n",
              "      <td>...</td>\n",
              "      <td>...</td>\n",
              "      <td>...</td>\n",
              "      <td>...</td>\n",
              "      <td>...</td>\n",
              "      <td>...</td>\n",
              "    </tr>\n",
              "    <tr>\n",
              "      <th>17050</th>\n",
              "      <td>0</td>\n",
              "      <td>5734</td>\n",
              "      <td>42</td>\n",
              "      <td>высшее</td>\n",
              "      <td>0</td>\n",
              "      <td>гражданский брак</td>\n",
              "      <td>1</td>\n",
              "      <td>M</td>\n",
              "      <td>компаньон</td>\n",
              "      <td>0</td>\n",
              "      <td>1711309</td>\n",
              "      <td>сыграть свадьбу</td>\n",
              "      <td>проведение свадьбы</td>\n",
              "    </tr>\n",
              "    <tr>\n",
              "      <th>20642</th>\n",
              "      <td>0</td>\n",
              "      <td>4719</td>\n",
              "      <td>61</td>\n",
              "      <td>среднее</td>\n",
              "      <td>1</td>\n",
              "      <td>Не женат / не замужем</td>\n",
              "      <td>4</td>\n",
              "      <td>F</td>\n",
              "      <td>сотрудник</td>\n",
              "      <td>0</td>\n",
              "      <td>1715018</td>\n",
              "      <td>покупка жилья для семьи</td>\n",
              "      <td>операции с недвижимостью</td>\n",
              "    </tr>\n",
              "    <tr>\n",
              "      <th>9115</th>\n",
              "      <td>1</td>\n",
              "      <td>5248</td>\n",
              "      <td>35</td>\n",
              "      <td>среднее</td>\n",
              "      <td>1</td>\n",
              "      <td>гражданский брак</td>\n",
              "      <td>1</td>\n",
              "      <td>M</td>\n",
              "      <td>сотрудник</td>\n",
              "      <td>0</td>\n",
              "      <td>1726276</td>\n",
              "      <td>дополнительное образование</td>\n",
              "      <td>образование</td>\n",
              "    </tr>\n",
              "    <tr>\n",
              "      <th>19451</th>\n",
              "      <td>1</td>\n",
              "      <td>2577</td>\n",
              "      <td>39</td>\n",
              "      <td>высшее</td>\n",
              "      <td>0</td>\n",
              "      <td>женат / замужем</td>\n",
              "      <td>0</td>\n",
              "      <td>M</td>\n",
              "      <td>компаньон</td>\n",
              "      <td>1</td>\n",
              "      <td>2200852</td>\n",
              "      <td>строительство недвижимости</td>\n",
              "      <td>операции с недвижимостью</td>\n",
              "    </tr>\n",
              "    <tr>\n",
              "      <th>12326</th>\n",
              "      <td>0</td>\n",
              "      <td>1477</td>\n",
              "      <td>44</td>\n",
              "      <td>высшее</td>\n",
              "      <td>0</td>\n",
              "      <td>женат / замужем</td>\n",
              "      <td>0</td>\n",
              "      <td>M</td>\n",
              "      <td>компаньон</td>\n",
              "      <td>0</td>\n",
              "      <td>2265604</td>\n",
              "      <td>ремонт жилью</td>\n",
              "      <td>операции с недвижимостью</td>\n",
              "    </tr>\n",
              "  </tbody>\n",
              "</table>\n",
              "<p>21352 rows × 13 columns</p>\n",
              "</div>"
            ],
            "text/plain": [
              "       children  days_employed  dob_years education  education_id  \\\n",
              "14479         0         359219         57   среднее             1   \n",
              "12918         0         369708         37   среднее             1   \n",
              "16053         1           3642         52   среднее             1   \n",
              "1590          0         359726         68   среднее             1   \n",
              "14173         0         346602         61   среднее             1   \n",
              "...         ...            ...        ...       ...           ...   \n",
              "17050         0           5734         42    высшее             0   \n",
              "20642         0           4719         61   среднее             1   \n",
              "9115          1           5248         35   среднее             1   \n",
              "19451         1           2577         39    высшее             0   \n",
              "12326         0           1477         44    высшее             0   \n",
              "\n",
              "               family_status  family_status_id gender income_type  debt  \\\n",
              "14479        женат / замужем                 0      F   пенсионер     1   \n",
              "12918       гражданский брак                 1      M   пенсионер     0   \n",
              "16053        женат / замужем                 0      M   сотрудник     0   \n",
              "1590        гражданский брак                 1      M   пенсионер     0   \n",
              "14173        женат / замужем                 0      F   пенсионер     0   \n",
              "...                      ...               ...    ...         ...   ...   \n",
              "17050       гражданский брак                 1      M   компаньон     0   \n",
              "20642  Не женат / не замужем                 4      F   сотрудник     0   \n",
              "9115        гражданский брак                 1      M   сотрудник     0   \n",
              "19451        женат / замужем                 0      M   компаньон     1   \n",
              "12326        женат / замужем                 0      M   компаньон     0   \n",
              "\n",
              "       total_income                       purpose               new_purpose  \n",
              "14479         20667                  недвижимость  операции с недвижимостью  \n",
              "12918         21205  заняться высшим образованием               образование  \n",
              "16053         21367       приобретение автомобиля        покупка автомобиля  \n",
              "1590          21695         на проведение свадьбы        проведение свадьбы  \n",
              "14173         21895                  недвижимость  операции с недвижимостью  \n",
              "...             ...                           ...                       ...  \n",
              "17050       1711309               сыграть свадьбу        проведение свадьбы  \n",
              "20642       1715018       покупка жилья для семьи  операции с недвижимостью  \n",
              "9115        1726276    дополнительное образование               образование  \n",
              "19451       2200852    строительство недвижимости  операции с недвижимостью  \n",
              "12326       2265604                  ремонт жилью  операции с недвижимостью  \n",
              "\n",
              "[21352 rows x 13 columns]"
            ]
          },
          "execution_count": 24,
          "metadata": {},
          "output_type": "execute_result"
        }
      ],
      "source": [
        "bank_rock.sort_values(by = 'total_income')"
      ]
    },
    {
      "cell_type": "code",
      "execution_count": null,
      "metadata": {
        "scrolled": true,
        "id": "YeIVa9R8QDnd",
        "outputId": "3ea5a0a7-ca85-445d-b047-7c2e005040dc"
      },
      "outputs": [
        {
          "data": {
            "text/plain": [
              "<AxesSubplot:>"
            ]
          },
          "execution_count": 25,
          "metadata": {},
          "output_type": "execute_result"
        },
        {
          "data": {
            "image/png": "[encoded data removed]",
            "text/plain": [
              "<Figure size 432x288 with 1 Axes>"
            ]
          },
          "metadata": {
            "needs_background": "light"
          },
          "output_type": "display_data"
        }
      ],
      "source": [
        "bank_rock['total_income'].hist()\n"
      ]
    },
    {
      "cell_type": "markdown",
      "metadata": {
        "id": "Fe2Y-89UQDnd"
      },
      "source": [
        "Отсоритируем таблицу по столбцу \"доход\", используя функцию 'sort_values(by =)'. Мы видим верхние и нижние значения. Также вызывем функцию гистогаммы.  Для дальнейшиего исследавания нам необходимо будем разбить данные на несколько категорий. Внесем категории 'доход ниже среднего', 'средний доход', 'доход выше среднего' и 'очень высокий доход'. С помощью функции 'def' и 'if' установим верхний и нижний пределы для каждой категории. Примерные цифры брались из гистограммы."
      ]
    },
    {
      "cell_type": "code",
      "execution_count": null,
      "metadata": {
        "id": "fluca5EEQDne",
        "outputId": "6ab82b4d-7c5e-4f3c-b37c-079c136342b9"
      },
      "outputs": [
        {
          "data": {
            "text/plain": [
              "'доход выше среднего'"
            ]
          },
          "execution_count": 26,
          "metadata": {},
          "output_type": "execute_result"
        }
      ],
      "source": [
        "def income_group(income):\n",
        "    if 20000<=income<100000:\n",
        "        return 'доход ниже среднего'\n",
        "    if 100001<=income<=150000:\n",
        "        return 'средний доход'\n",
        "    if 150001<=income<=300000:\n",
        "        return 'доход выше среднего'\n",
        "    if income>300001:\n",
        "        return 'очень высокий доход'\n",
        "income_group (285000)"
      ]
    },
    {
      "cell_type": "markdown",
      "metadata": {
        "id": "0yJ8UNIfQDne"
      },
      "source": [
        "Проверяем корректность работы функции."
      ]
    },
    {
      "cell_type": "code",
      "execution_count": null,
      "metadata": {
        "scrolled": true,
        "id": "6e3nLtgJQDne",
        "outputId": "96d1b02e-b43d-4ecf-8ba1-143e4ff01a2b"
      },
      "outputs": [
        {
          "data": {
            "text/html": [
              "<div>\n",
              "<style scoped>\n",
              "    .dataframe tbody tr th:only-of-type {\n",
              "        vertical-align: middle;\n",
              "    }\n",
              "\n",
              "    .dataframe tbody tr th {\n",
              "        vertical-align: top;\n",
              "    }\n",
              "\n",
              "    .dataframe thead th {\n",
              "        text-align: right;\n",
              "    }\n",
              "</style>\n",
              "<table border=\"1\" class=\"dataframe\">\n",
              "  <thead>\n",
              "    <tr style=\"text-align: right;\">\n",
              "      <th></th>\n",
              "      <th>children</th>\n",
              "      <th>days_employed</th>\n",
              "      <th>dob_years</th>\n",
              "      <th>education</th>\n",
              "      <th>education_id</th>\n",
              "      <th>family_status</th>\n",
              "      <th>family_status_id</th>\n",
              "      <th>gender</th>\n",
              "      <th>income_type</th>\n",
              "      <th>debt</th>\n",
              "      <th>total_income</th>\n",
              "      <th>purpose</th>\n",
              "      <th>new_purpose</th>\n",
              "      <th>income_int</th>\n",
              "    </tr>\n",
              "  </thead>\n",
              "  <tbody>\n",
              "    <tr>\n",
              "      <th>0</th>\n",
              "      <td>1</td>\n",
              "      <td>8437</td>\n",
              "      <td>42</td>\n",
              "      <td>высшее</td>\n",
              "      <td>0</td>\n",
              "      <td>женат / замужем</td>\n",
              "      <td>0</td>\n",
              "      <td>F</td>\n",
              "      <td>сотрудник</td>\n",
              "      <td>0</td>\n",
              "      <td>253875</td>\n",
              "      <td>покупка жилья</td>\n",
              "      <td>операции с недвижимостью</td>\n",
              "      <td>доход выше среднего</td>\n",
              "    </tr>\n",
              "    <tr>\n",
              "      <th>1</th>\n",
              "      <td>1</td>\n",
              "      <td>4024</td>\n",
              "      <td>36</td>\n",
              "      <td>среднее</td>\n",
              "      <td>1</td>\n",
              "      <td>женат / замужем</td>\n",
              "      <td>0</td>\n",
              "      <td>F</td>\n",
              "      <td>сотрудник</td>\n",
              "      <td>0</td>\n",
              "      <td>112080</td>\n",
              "      <td>приобретение автомобиля</td>\n",
              "      <td>покупка автомобиля</td>\n",
              "      <td>средний доход</td>\n",
              "    </tr>\n",
              "    <tr>\n",
              "      <th>2</th>\n",
              "      <td>0</td>\n",
              "      <td>5623</td>\n",
              "      <td>33</td>\n",
              "      <td>среднее</td>\n",
              "      <td>1</td>\n",
              "      <td>женат / замужем</td>\n",
              "      <td>0</td>\n",
              "      <td>M</td>\n",
              "      <td>сотрудник</td>\n",
              "      <td>0</td>\n",
              "      <td>145885</td>\n",
              "      <td>покупка жилья</td>\n",
              "      <td>операции с недвижимостью</td>\n",
              "      <td>средний доход</td>\n",
              "    </tr>\n",
              "    <tr>\n",
              "      <th>3</th>\n",
              "      <td>3</td>\n",
              "      <td>4124</td>\n",
              "      <td>32</td>\n",
              "      <td>среднее</td>\n",
              "      <td>1</td>\n",
              "      <td>женат / замужем</td>\n",
              "      <td>0</td>\n",
              "      <td>M</td>\n",
              "      <td>сотрудник</td>\n",
              "      <td>0</td>\n",
              "      <td>267628</td>\n",
              "      <td>дополнительное образование</td>\n",
              "      <td>образование</td>\n",
              "      <td>доход выше среднего</td>\n",
              "    </tr>\n",
              "    <tr>\n",
              "      <th>4</th>\n",
              "      <td>0</td>\n",
              "      <td>340266</td>\n",
              "      <td>53</td>\n",
              "      <td>среднее</td>\n",
              "      <td>1</td>\n",
              "      <td>гражданский брак</td>\n",
              "      <td>1</td>\n",
              "      <td>F</td>\n",
              "      <td>пенсионер</td>\n",
              "      <td>0</td>\n",
              "      <td>158616</td>\n",
              "      <td>сыграть свадьбу</td>\n",
              "      <td>проведение свадьбы</td>\n",
              "      <td>доход выше среднего</td>\n",
              "    </tr>\n",
              "    <tr>\n",
              "      <th>5</th>\n",
              "      <td>0</td>\n",
              "      <td>926</td>\n",
              "      <td>27</td>\n",
              "      <td>высшее</td>\n",
              "      <td>0</td>\n",
              "      <td>гражданский брак</td>\n",
              "      <td>1</td>\n",
              "      <td>M</td>\n",
              "      <td>компаньон</td>\n",
              "      <td>0</td>\n",
              "      <td>255763</td>\n",
              "      <td>покупка жилья</td>\n",
              "      <td>операции с недвижимостью</td>\n",
              "      <td>доход выше среднего</td>\n",
              "    </tr>\n",
              "    <tr>\n",
              "      <th>6</th>\n",
              "      <td>0</td>\n",
              "      <td>2879</td>\n",
              "      <td>43</td>\n",
              "      <td>высшее</td>\n",
              "      <td>0</td>\n",
              "      <td>женат / замужем</td>\n",
              "      <td>0</td>\n",
              "      <td>F</td>\n",
              "      <td>компаньон</td>\n",
              "      <td>0</td>\n",
              "      <td>240525</td>\n",
              "      <td>операции с жильем</td>\n",
              "      <td>операции с недвижимостью</td>\n",
              "      <td>доход выше среднего</td>\n",
              "    </tr>\n",
              "    <tr>\n",
              "      <th>7</th>\n",
              "      <td>0</td>\n",
              "      <td>152</td>\n",
              "      <td>50</td>\n",
              "      <td>среднее</td>\n",
              "      <td>1</td>\n",
              "      <td>женат / замужем</td>\n",
              "      <td>0</td>\n",
              "      <td>M</td>\n",
              "      <td>сотрудник</td>\n",
              "      <td>0</td>\n",
              "      <td>135823</td>\n",
              "      <td>образование</td>\n",
              "      <td>образование</td>\n",
              "      <td>средний доход</td>\n",
              "    </tr>\n",
              "    <tr>\n",
              "      <th>8</th>\n",
              "      <td>2</td>\n",
              "      <td>6929</td>\n",
              "      <td>35</td>\n",
              "      <td>высшее</td>\n",
              "      <td>0</td>\n",
              "      <td>гражданский брак</td>\n",
              "      <td>1</td>\n",
              "      <td>F</td>\n",
              "      <td>сотрудник</td>\n",
              "      <td>0</td>\n",
              "      <td>95856</td>\n",
              "      <td>на проведение свадьбы</td>\n",
              "      <td>проведение свадьбы</td>\n",
              "      <td>доход ниже среднего</td>\n",
              "    </tr>\n",
              "    <tr>\n",
              "      <th>9</th>\n",
              "      <td>0</td>\n",
              "      <td>2188</td>\n",
              "      <td>41</td>\n",
              "      <td>среднее</td>\n",
              "      <td>1</td>\n",
              "      <td>женат / замужем</td>\n",
              "      <td>0</td>\n",
              "      <td>M</td>\n",
              "      <td>сотрудник</td>\n",
              "      <td>0</td>\n",
              "      <td>144425</td>\n",
              "      <td>покупка жилья для семьи</td>\n",
              "      <td>операции с недвижимостью</td>\n",
              "      <td>средний доход</td>\n",
              "    </tr>\n",
              "  </tbody>\n",
              "</table>\n",
              "</div>"
            ],
            "text/plain": [
              "   children  days_employed  dob_years education  education_id  \\\n",
              "0         1           8437         42    высшее             0   \n",
              "1         1           4024         36   среднее             1   \n",
              "2         0           5623         33   среднее             1   \n",
              "3         3           4124         32   среднее             1   \n",
              "4         0         340266         53   среднее             1   \n",
              "5         0            926         27    высшее             0   \n",
              "6         0           2879         43    высшее             0   \n",
              "7         0            152         50   среднее             1   \n",
              "8         2           6929         35    высшее             0   \n",
              "9         0           2188         41   среднее             1   \n",
              "\n",
              "      family_status  family_status_id gender income_type  debt  total_income  \\\n",
              "0   женат / замужем                 0      F   сотрудник     0        253875   \n",
              "1   женат / замужем                 0      F   сотрудник     0        112080   \n",
              "2   женат / замужем                 0      M   сотрудник     0        145885   \n",
              "3   женат / замужем                 0      M   сотрудник     0        267628   \n",
              "4  гражданский брак                 1      F   пенсионер     0        158616   \n",
              "5  гражданский брак                 1      M   компаньон     0        255763   \n",
              "6   женат / замужем                 0      F   компаньон     0        240525   \n",
              "7   женат / замужем                 0      M   сотрудник     0        135823   \n",
              "8  гражданский брак                 1      F   сотрудник     0         95856   \n",
              "9   женат / замужем                 0      M   сотрудник     0        144425   \n",
              "\n",
              "                      purpose               new_purpose           income_int  \n",
              "0               покупка жилья  операции с недвижимостью  доход выше среднего  \n",
              "1     приобретение автомобиля        покупка автомобиля        средний доход  \n",
              "2               покупка жилья  операции с недвижимостью        средний доход  \n",
              "3  дополнительное образование               образование  доход выше среднего  \n",
              "4             сыграть свадьбу        проведение свадьбы  доход выше среднего  \n",
              "5               покупка жилья  операции с недвижимостью  доход выше среднего  \n",
              "6           операции с жильем  операции с недвижимостью  доход выше среднего  \n",
              "7                 образование               образование        средний доход  \n",
              "8       на проведение свадьбы        проведение свадьбы  доход ниже среднего  \n",
              "9     покупка жилья для семьи  операции с недвижимостью        средний доход  "
            ]
          },
          "execution_count": 27,
          "metadata": {},
          "output_type": "execute_result"
        }
      ],
      "source": [
        "bank_rock['income_int'] = bank_rock['total_income'].apply(income_group)\n",
        "bank_rock.head(10)"
      ]
    },
    {
      "cell_type": "markdown",
      "metadata": {
        "id": "ys8kzrchQDnf"
      },
      "source": [
        "При помощи функции 'apply()' применяем новые параметры на столбец \"общий доход\", создаем новый столбец, выводим первые 10 строк на экран."
      ]
    },
    {
      "cell_type": "code",
      "execution_count": null,
      "metadata": {
        "id": "IO9NphARQDnf",
        "outputId": "fbd5ea67-40da-4c2d-9e15-63dd7056354f"
      },
      "outputs": [
        {
          "data": {
            "text/plain": [
              "new_purpose\n",
              "образование                  3995\n",
              "операции с недвижимостью    10763\n",
              "покупка автомобиля           4284\n",
              "проведение свадьбы           2310\n",
              "Name: debt, dtype: int64"
            ]
          },
          "execution_count": 28,
          "metadata": {},
          "output_type": "execute_result"
        }
      ],
      "source": [
        "bank_rock.groupby('new_purpose')['debt'].count()"
      ]
    },
    {
      "cell_type": "markdown",
      "metadata": {
        "id": "AKNgEhW_QDng"
      },
      "source": [
        "Также для ответов в разделе 3 сгруппируем и посчитаем количество кредитов для каждой цели."
      ]
    },
    {
      "cell_type": "code",
      "execution_count": null,
      "metadata": {
        "id": "WfNqpJTPQDng",
        "outputId": "18d131b2-1f6d-4073-9388-6c3a3b499281"
      },
      "outputs": [
        {
          "data": {
            "text/plain": [
              "'молодежь'"
            ]
          },
          "execution_count": 29,
          "metadata": {},
          "output_type": "execute_result"
        }
      ],
      "source": [
        "def age_inter(age):\n",
        "    if age<30:\n",
        "        return 'молодежь'\n",
        "    if 30<=age<=55:\n",
        "        return 'взрослые'\n",
        "    if age>55:\n",
        "        return 'пенсионеры'\n",
        "age_inter (25)\n"
      ]
    },
    {
      "cell_type": "code",
      "execution_count": null,
      "metadata": {
        "scrolled": true,
        "id": "MuviKnAkQDng",
        "outputId": "81947de4-6a21-4d89-b2ba-88706b47f777"
      },
      "outputs": [
        {
          "data": {
            "text/html": [
              "<div>\n",
              "<style scoped>\n",
              "    .dataframe tbody tr th:only-of-type {\n",
              "        vertical-align: middle;\n",
              "    }\n",
              "\n",
              "    .dataframe tbody tr th {\n",
              "        vertical-align: top;\n",
              "    }\n",
              "\n",
              "    .dataframe thead th {\n",
              "        text-align: right;\n",
              "    }\n",
              "</style>\n",
              "<table border=\"1\" class=\"dataframe\">\n",
              "  <thead>\n",
              "    <tr style=\"text-align: right;\">\n",
              "      <th></th>\n",
              "      <th>children</th>\n",
              "      <th>days_employed</th>\n",
              "      <th>dob_years</th>\n",
              "      <th>education</th>\n",
              "      <th>education_id</th>\n",
              "      <th>family_status</th>\n",
              "      <th>family_status_id</th>\n",
              "      <th>gender</th>\n",
              "      <th>income_type</th>\n",
              "      <th>debt</th>\n",
              "      <th>total_income</th>\n",
              "      <th>purpose</th>\n",
              "      <th>new_purpose</th>\n",
              "      <th>income_int</th>\n",
              "      <th>years_int</th>\n",
              "    </tr>\n",
              "  </thead>\n",
              "  <tbody>\n",
              "    <tr>\n",
              "      <th>0</th>\n",
              "      <td>1</td>\n",
              "      <td>8437</td>\n",
              "      <td>42</td>\n",
              "      <td>высшее</td>\n",
              "      <td>0</td>\n",
              "      <td>женат / замужем</td>\n",
              "      <td>0</td>\n",
              "      <td>F</td>\n",
              "      <td>сотрудник</td>\n",
              "      <td>0</td>\n",
              "      <td>253875</td>\n",
              "      <td>покупка жилья</td>\n",
              "      <td>операции с недвижимостью</td>\n",
              "      <td>доход выше среднего</td>\n",
              "      <td>взрослые</td>\n",
              "    </tr>\n",
              "    <tr>\n",
              "      <th>1</th>\n",
              "      <td>1</td>\n",
              "      <td>4024</td>\n",
              "      <td>36</td>\n",
              "      <td>среднее</td>\n",
              "      <td>1</td>\n",
              "      <td>женат / замужем</td>\n",
              "      <td>0</td>\n",
              "      <td>F</td>\n",
              "      <td>сотрудник</td>\n",
              "      <td>0</td>\n",
              "      <td>112080</td>\n",
              "      <td>приобретение автомобиля</td>\n",
              "      <td>покупка автомобиля</td>\n",
              "      <td>средний доход</td>\n",
              "      <td>взрослые</td>\n",
              "    </tr>\n",
              "    <tr>\n",
              "      <th>2</th>\n",
              "      <td>0</td>\n",
              "      <td>5623</td>\n",
              "      <td>33</td>\n",
              "      <td>среднее</td>\n",
              "      <td>1</td>\n",
              "      <td>женат / замужем</td>\n",
              "      <td>0</td>\n",
              "      <td>M</td>\n",
              "      <td>сотрудник</td>\n",
              "      <td>0</td>\n",
              "      <td>145885</td>\n",
              "      <td>покупка жилья</td>\n",
              "      <td>операции с недвижимостью</td>\n",
              "      <td>средний доход</td>\n",
              "      <td>взрослые</td>\n",
              "    </tr>\n",
              "    <tr>\n",
              "      <th>3</th>\n",
              "      <td>3</td>\n",
              "      <td>4124</td>\n",
              "      <td>32</td>\n",
              "      <td>среднее</td>\n",
              "      <td>1</td>\n",
              "      <td>женат / замужем</td>\n",
              "      <td>0</td>\n",
              "      <td>M</td>\n",
              "      <td>сотрудник</td>\n",
              "      <td>0</td>\n",
              "      <td>267628</td>\n",
              "      <td>дополнительное образование</td>\n",
              "      <td>образование</td>\n",
              "      <td>доход выше среднего</td>\n",
              "      <td>взрослые</td>\n",
              "    </tr>\n",
              "    <tr>\n",
              "      <th>4</th>\n",
              "      <td>0</td>\n",
              "      <td>340266</td>\n",
              "      <td>53</td>\n",
              "      <td>среднее</td>\n",
              "      <td>1</td>\n",
              "      <td>гражданский брак</td>\n",
              "      <td>1</td>\n",
              "      <td>F</td>\n",
              "      <td>пенсионер</td>\n",
              "      <td>0</td>\n",
              "      <td>158616</td>\n",
              "      <td>сыграть свадьбу</td>\n",
              "      <td>проведение свадьбы</td>\n",
              "      <td>доход выше среднего</td>\n",
              "      <td>взрослые</td>\n",
              "    </tr>\n",
              "    <tr>\n",
              "      <th>5</th>\n",
              "      <td>0</td>\n",
              "      <td>926</td>\n",
              "      <td>27</td>\n",
              "      <td>высшее</td>\n",
              "      <td>0</td>\n",
              "      <td>гражданский брак</td>\n",
              "      <td>1</td>\n",
              "      <td>M</td>\n",
              "      <td>компаньон</td>\n",
              "      <td>0</td>\n",
              "      <td>255763</td>\n",
              "      <td>покупка жилья</td>\n",
              "      <td>операции с недвижимостью</td>\n",
              "      <td>доход выше среднего</td>\n",
              "      <td>молодежь</td>\n",
              "    </tr>\n",
              "    <tr>\n",
              "      <th>6</th>\n",
              "      <td>0</td>\n",
              "      <td>2879</td>\n",
              "      <td>43</td>\n",
              "      <td>высшее</td>\n",
              "      <td>0</td>\n",
              "      <td>женат / замужем</td>\n",
              "      <td>0</td>\n",
              "      <td>F</td>\n",
              "      <td>компаньон</td>\n",
              "      <td>0</td>\n",
              "      <td>240525</td>\n",
              "      <td>операции с жильем</td>\n",
              "      <td>операции с недвижимостью</td>\n",
              "      <td>доход выше среднего</td>\n",
              "      <td>взрослые</td>\n",
              "    </tr>\n",
              "    <tr>\n",
              "      <th>7</th>\n",
              "      <td>0</td>\n",
              "      <td>152</td>\n",
              "      <td>50</td>\n",
              "      <td>среднее</td>\n",
              "      <td>1</td>\n",
              "      <td>женат / замужем</td>\n",
              "      <td>0</td>\n",
              "      <td>M</td>\n",
              "      <td>сотрудник</td>\n",
              "      <td>0</td>\n",
              "      <td>135823</td>\n",
              "      <td>образование</td>\n",
              "      <td>образование</td>\n",
              "      <td>средний доход</td>\n",
              "      <td>взрослые</td>\n",
              "    </tr>\n",
              "    <tr>\n",
              "      <th>8</th>\n",
              "      <td>2</td>\n",
              "      <td>6929</td>\n",
              "      <td>35</td>\n",
              "      <td>высшее</td>\n",
              "      <td>0</td>\n",
              "      <td>гражданский брак</td>\n",
              "      <td>1</td>\n",
              "      <td>F</td>\n",
              "      <td>сотрудник</td>\n",
              "      <td>0</td>\n",
              "      <td>95856</td>\n",
              "      <td>на проведение свадьбы</td>\n",
              "      <td>проведение свадьбы</td>\n",
              "      <td>доход ниже среднего</td>\n",
              "      <td>взрослые</td>\n",
              "    </tr>\n",
              "    <tr>\n",
              "      <th>9</th>\n",
              "      <td>0</td>\n",
              "      <td>2188</td>\n",
              "      <td>41</td>\n",
              "      <td>среднее</td>\n",
              "      <td>1</td>\n",
              "      <td>женат / замужем</td>\n",
              "      <td>0</td>\n",
              "      <td>M</td>\n",
              "      <td>сотрудник</td>\n",
              "      <td>0</td>\n",
              "      <td>144425</td>\n",
              "      <td>покупка жилья для семьи</td>\n",
              "      <td>операции с недвижимостью</td>\n",
              "      <td>средний доход</td>\n",
              "      <td>взрослые</td>\n",
              "    </tr>\n",
              "  </tbody>\n",
              "</table>\n",
              "</div>"
            ],
            "text/plain": [
              "   children  days_employed  dob_years education  education_id  \\\n",
              "0         1           8437         42    высшее             0   \n",
              "1         1           4024         36   среднее             1   \n",
              "2         0           5623         33   среднее             1   \n",
              "3         3           4124         32   среднее             1   \n",
              "4         0         340266         53   среднее             1   \n",
              "5         0            926         27    высшее             0   \n",
              "6         0           2879         43    высшее             0   \n",
              "7         0            152         50   среднее             1   \n",
              "8         2           6929         35    высшее             0   \n",
              "9         0           2188         41   среднее             1   \n",
              "\n",
              "      family_status  family_status_id gender income_type  debt  total_income  \\\n",
              "0   женат / замужем                 0      F   сотрудник     0        253875   \n",
              "1   женат / замужем                 0      F   сотрудник     0        112080   \n",
              "2   женат / замужем                 0      M   сотрудник     0        145885   \n",
              "3   женат / замужем                 0      M   сотрудник     0        267628   \n",
              "4  гражданский брак                 1      F   пенсионер     0        158616   \n",
              "5  гражданский брак                 1      M   компаньон     0        255763   \n",
              "6   женат / замужем                 0      F   компаньон     0        240525   \n",
              "7   женат / замужем                 0      M   сотрудник     0        135823   \n",
              "8  гражданский брак                 1      F   сотрудник     0         95856   \n",
              "9   женат / замужем                 0      M   сотрудник     0        144425   \n",
              "\n",
              "                      purpose               new_purpose           income_int  \\\n",
              "0               покупка жилья  операции с недвижимостью  доход выше среднего   \n",
              "1     приобретение автомобиля        покупка автомобиля        средний доход   \n",
              "2               покупка жилья  операции с недвижимостью        средний доход   \n",
              "3  дополнительное образование               образование  доход выше среднего   \n",
              "4             сыграть свадьбу        проведение свадьбы  доход выше среднего   \n",
              "5               покупка жилья  операции с недвижимостью  доход выше среднего   \n",
              "6           операции с жильем  операции с недвижимостью  доход выше среднего   \n",
              "7                 образование               образование        средний доход   \n",
              "8       на проведение свадьбы        проведение свадьбы  доход ниже среднего   \n",
              "9     покупка жилья для семьи  операции с недвижимостью        средний доход   \n",
              "\n",
              "  years_int  \n",
              "0  взрослые  \n",
              "1  взрослые  \n",
              "2  взрослые  \n",
              "3  взрослые  \n",
              "4  взрослые  \n",
              "5  молодежь  \n",
              "6  взрослые  \n",
              "7  взрослые  \n",
              "8  взрослые  \n",
              "9  взрослые  "
            ]
          },
          "execution_count": 30,
          "metadata": {},
          "output_type": "execute_result"
        }
      ],
      "source": [
        "bank_rock['years_int'] = bank_rock['dob_years'].apply(age_inter)\n",
        "bank_rock.head(10)"
      ]
    },
    {
      "cell_type": "markdown",
      "metadata": {
        "id": "c2A4PpEWQDng"
      },
      "source": [
        "Теперь необходимо разбить значения в столбце \"возраст клиента в годах\" на категории. Выберем 3: 'молодежь', 'взрослые', 'пенсионеры'. Укажем временной интервал для каждого из них, создадим функцию 'def age_inter(age)', которая заменит данные в столбце \"возраст клиента в годах\"\n",
        "Проверим корректность работы функции.\n",
        "Выведем 10 строк таблицы"
      ]
    },
    {
      "cell_type": "code",
      "execution_count": null,
      "metadata": {
        "id": "Kj6uIs9QQDnh",
        "outputId": "e75fa21e-1610-429b-f5d2-79382c205f2c"
      },
      "outputs": [
        {
          "name": "stdout",
          "output_type": "stream",
          "text": [
            "есть долг\n"
          ]
        }
      ],
      "source": [
        "def family_debt(row):\n",
        "    family_status=row['family_status']\n",
        "    debt=row['debt']\n",
        "    if family_status == 'женат / замужем' or 'гражданский брак' or 'Не женат / не замужем' or 'вдовец / вдова':\n",
        "        if debt == 1:\n",
        "            return 'есть долг'\n",
        "    return 'нет долга'\n",
        "\n",
        "row_values = ['женат / замужем', 1]\n",
        "row_columns = ['family_status', 'debt']\n",
        "row = pd.Series(data=row_values, index=row_columns)\n",
        "print(family_debt(row))\n"
      ]
    },
    {
      "cell_type": "markdown",
      "metadata": {
        "id": "5_ocFABpQDnh"
      },
      "source": [
        "Создадим функцию 'def family_debt(row)', которая вместо числовых значений будет возвращать значения 'нет долга', 'есть долг'.  У нас будет две переменные - \"задолженность\" и \"семейный статус\".\n",
        "Проверяем корректность работы функции, вставляем значение 'женат / замужем', и  '1'."
      ]
    },
    {
      "cell_type": "code",
      "execution_count": null,
      "metadata": {
        "id": "05eY4HWwQDnh",
        "outputId": "78fb8deb-5562-4015-9541-4330a1c2f578"
      },
      "outputs": [
        {
          "data": {
            "text/html": [
              "<div>\n",
              "<style scoped>\n",
              "    .dataframe tbody tr th:only-of-type {\n",
              "        vertical-align: middle;\n",
              "    }\n",
              "\n",
              "    .dataframe tbody tr th {\n",
              "        vertical-align: top;\n",
              "    }\n",
              "\n",
              "    .dataframe thead th {\n",
              "        text-align: right;\n",
              "    }\n",
              "</style>\n",
              "<table border=\"1\" class=\"dataframe\">\n",
              "  <thead>\n",
              "    <tr style=\"text-align: right;\">\n",
              "      <th></th>\n",
              "      <th>children</th>\n",
              "      <th>days_employed</th>\n",
              "      <th>dob_years</th>\n",
              "      <th>education</th>\n",
              "      <th>education_id</th>\n",
              "      <th>family_status</th>\n",
              "      <th>family_status_id</th>\n",
              "      <th>gender</th>\n",
              "      <th>income_type</th>\n",
              "      <th>debt</th>\n",
              "      <th>total_income</th>\n",
              "      <th>purpose</th>\n",
              "      <th>new_purpose</th>\n",
              "      <th>income_int</th>\n",
              "      <th>years_int</th>\n",
              "      <th>debt_new</th>\n",
              "    </tr>\n",
              "  </thead>\n",
              "  <tbody>\n",
              "    <tr>\n",
              "      <th>0</th>\n",
              "      <td>1</td>\n",
              "      <td>8437</td>\n",
              "      <td>42</td>\n",
              "      <td>высшее</td>\n",
              "      <td>0</td>\n",
              "      <td>женат / замужем</td>\n",
              "      <td>0</td>\n",
              "      <td>F</td>\n",
              "      <td>сотрудник</td>\n",
              "      <td>0</td>\n",
              "      <td>253875</td>\n",
              "      <td>покупка жилья</td>\n",
              "      <td>операции с недвижимостью</td>\n",
              "      <td>доход выше среднего</td>\n",
              "      <td>взрослые</td>\n",
              "      <td>нет долга</td>\n",
              "    </tr>\n",
              "    <tr>\n",
              "      <th>1</th>\n",
              "      <td>1</td>\n",
              "      <td>4024</td>\n",
              "      <td>36</td>\n",
              "      <td>среднее</td>\n",
              "      <td>1</td>\n",
              "      <td>женат / замужем</td>\n",
              "      <td>0</td>\n",
              "      <td>F</td>\n",
              "      <td>сотрудник</td>\n",
              "      <td>0</td>\n",
              "      <td>112080</td>\n",
              "      <td>приобретение автомобиля</td>\n",
              "      <td>покупка автомобиля</td>\n",
              "      <td>средний доход</td>\n",
              "      <td>взрослые</td>\n",
              "      <td>нет долга</td>\n",
              "    </tr>\n",
              "    <tr>\n",
              "      <th>2</th>\n",
              "      <td>0</td>\n",
              "      <td>5623</td>\n",
              "      <td>33</td>\n",
              "      <td>среднее</td>\n",
              "      <td>1</td>\n",
              "      <td>женат / замужем</td>\n",
              "      <td>0</td>\n",
              "      <td>M</td>\n",
              "      <td>сотрудник</td>\n",
              "      <td>0</td>\n",
              "      <td>145885</td>\n",
              "      <td>покупка жилья</td>\n",
              "      <td>операции с недвижимостью</td>\n",
              "      <td>средний доход</td>\n",
              "      <td>взрослые</td>\n",
              "      <td>нет долга</td>\n",
              "    </tr>\n",
              "    <tr>\n",
              "      <th>3</th>\n",
              "      <td>3</td>\n",
              "      <td>4124</td>\n",
              "      <td>32</td>\n",
              "      <td>среднее</td>\n",
              "      <td>1</td>\n",
              "      <td>женат / замужем</td>\n",
              "      <td>0</td>\n",
              "      <td>M</td>\n",
              "      <td>сотрудник</td>\n",
              "      <td>0</td>\n",
              "      <td>267628</td>\n",
              "      <td>дополнительное образование</td>\n",
              "      <td>образование</td>\n",
              "      <td>доход выше среднего</td>\n",
              "      <td>взрослые</td>\n",
              "      <td>нет долга</td>\n",
              "    </tr>\n",
              "    <tr>\n",
              "      <th>4</th>\n",
              "      <td>0</td>\n",
              "      <td>340266</td>\n",
              "      <td>53</td>\n",
              "      <td>среднее</td>\n",
              "      <td>1</td>\n",
              "      <td>гражданский брак</td>\n",
              "      <td>1</td>\n",
              "      <td>F</td>\n",
              "      <td>пенсионер</td>\n",
              "      <td>0</td>\n",
              "      <td>158616</td>\n",
              "      <td>сыграть свадьбу</td>\n",
              "      <td>проведение свадьбы</td>\n",
              "      <td>доход выше среднего</td>\n",
              "      <td>взрослые</td>\n",
              "      <td>нет долга</td>\n",
              "    </tr>\n",
              "    <tr>\n",
              "      <th>5</th>\n",
              "      <td>0</td>\n",
              "      <td>926</td>\n",
              "      <td>27</td>\n",
              "      <td>высшее</td>\n",
              "      <td>0</td>\n",
              "      <td>гражданский брак</td>\n",
              "      <td>1</td>\n",
              "      <td>M</td>\n",
              "      <td>компаньон</td>\n",
              "      <td>0</td>\n",
              "      <td>255763</td>\n",
              "      <td>покупка жилья</td>\n",
              "      <td>операции с недвижимостью</td>\n",
              "      <td>доход выше среднего</td>\n",
              "      <td>молодежь</td>\n",
              "      <td>нет долга</td>\n",
              "    </tr>\n",
              "    <tr>\n",
              "      <th>6</th>\n",
              "      <td>0</td>\n",
              "      <td>2879</td>\n",
              "      <td>43</td>\n",
              "      <td>высшее</td>\n",
              "      <td>0</td>\n",
              "      <td>женат / замужем</td>\n",
              "      <td>0</td>\n",
              "      <td>F</td>\n",
              "      <td>компаньон</td>\n",
              "      <td>0</td>\n",
              "      <td>240525</td>\n",
              "      <td>операции с жильем</td>\n",
              "      <td>операции с недвижимостью</td>\n",
              "      <td>доход выше среднего</td>\n",
              "      <td>взрослые</td>\n",
              "      <td>нет долга</td>\n",
              "    </tr>\n",
              "    <tr>\n",
              "      <th>7</th>\n",
              "      <td>0</td>\n",
              "      <td>152</td>\n",
              "      <td>50</td>\n",
              "      <td>среднее</td>\n",
              "      <td>1</td>\n",
              "      <td>женат / замужем</td>\n",
              "      <td>0</td>\n",
              "      <td>M</td>\n",
              "      <td>сотрудник</td>\n",
              "      <td>0</td>\n",
              "      <td>135823</td>\n",
              "      <td>образование</td>\n",
              "      <td>образование</td>\n",
              "      <td>средний доход</td>\n",
              "      <td>взрослые</td>\n",
              "      <td>нет долга</td>\n",
              "    </tr>\n",
              "    <tr>\n",
              "      <th>8</th>\n",
              "      <td>2</td>\n",
              "      <td>6929</td>\n",
              "      <td>35</td>\n",
              "      <td>высшее</td>\n",
              "      <td>0</td>\n",
              "      <td>гражданский брак</td>\n",
              "      <td>1</td>\n",
              "      <td>F</td>\n",
              "      <td>сотрудник</td>\n",
              "      <td>0</td>\n",
              "      <td>95856</td>\n",
              "      <td>на проведение свадьбы</td>\n",
              "      <td>проведение свадьбы</td>\n",
              "      <td>доход ниже среднего</td>\n",
              "      <td>взрослые</td>\n",
              "      <td>нет долга</td>\n",
              "    </tr>\n",
              "    <tr>\n",
              "      <th>9</th>\n",
              "      <td>0</td>\n",
              "      <td>2188</td>\n",
              "      <td>41</td>\n",
              "      <td>среднее</td>\n",
              "      <td>1</td>\n",
              "      <td>женат / замужем</td>\n",
              "      <td>0</td>\n",
              "      <td>M</td>\n",
              "      <td>сотрудник</td>\n",
              "      <td>0</td>\n",
              "      <td>144425</td>\n",
              "      <td>покупка жилья для семьи</td>\n",
              "      <td>операции с недвижимостью</td>\n",
              "      <td>средний доход</td>\n",
              "      <td>взрослые</td>\n",
              "      <td>нет долга</td>\n",
              "    </tr>\n",
              "    <tr>\n",
              "      <th>10</th>\n",
              "      <td>2</td>\n",
              "      <td>4171</td>\n",
              "      <td>36</td>\n",
              "      <td>высшее</td>\n",
              "      <td>0</td>\n",
              "      <td>женат / замужем</td>\n",
              "      <td>0</td>\n",
              "      <td>M</td>\n",
              "      <td>компаньон</td>\n",
              "      <td>0</td>\n",
              "      <td>113943</td>\n",
              "      <td>покупка недвижимости</td>\n",
              "      <td>операции с недвижимостью</td>\n",
              "      <td>средний доход</td>\n",
              "      <td>взрослые</td>\n",
              "      <td>нет долга</td>\n",
              "    </tr>\n",
              "    <tr>\n",
              "      <th>11</th>\n",
              "      <td>0</td>\n",
              "      <td>792</td>\n",
              "      <td>40</td>\n",
              "      <td>среднее</td>\n",
              "      <td>1</td>\n",
              "      <td>женат / замужем</td>\n",
              "      <td>0</td>\n",
              "      <td>F</td>\n",
              "      <td>сотрудник</td>\n",
              "      <td>0</td>\n",
              "      <td>77069</td>\n",
              "      <td>покупка коммерческой недвижимости</td>\n",
              "      <td>операции с недвижимостью</td>\n",
              "      <td>доход ниже среднего</td>\n",
              "      <td>взрослые</td>\n",
              "      <td>нет долга</td>\n",
              "    </tr>\n",
              "    <tr>\n",
              "      <th>12</th>\n",
              "      <td>0</td>\n",
              "      <td>1203</td>\n",
              "      <td>65</td>\n",
              "      <td>среднее</td>\n",
              "      <td>1</td>\n",
              "      <td>гражданский брак</td>\n",
              "      <td>1</td>\n",
              "      <td>M</td>\n",
              "      <td>пенсионер</td>\n",
              "      <td>0</td>\n",
              "      <td>137127</td>\n",
              "      <td>сыграть свадьбу</td>\n",
              "      <td>проведение свадьбы</td>\n",
              "      <td>средний доход</td>\n",
              "      <td>пенсионеры</td>\n",
              "      <td>нет долга</td>\n",
              "    </tr>\n",
              "    <tr>\n",
              "      <th>13</th>\n",
              "      <td>0</td>\n",
              "      <td>1846</td>\n",
              "      <td>54</td>\n",
              "      <td>неоконченное высшее</td>\n",
              "      <td>2</td>\n",
              "      <td>женат / замужем</td>\n",
              "      <td>0</td>\n",
              "      <td>F</td>\n",
              "      <td>сотрудник</td>\n",
              "      <td>0</td>\n",
              "      <td>130458</td>\n",
              "      <td>приобретение автомобиля</td>\n",
              "      <td>покупка автомобиля</td>\n",
              "      <td>средний доход</td>\n",
              "      <td>взрослые</td>\n",
              "      <td>нет долга</td>\n",
              "    </tr>\n",
              "    <tr>\n",
              "      <th>14</th>\n",
              "      <td>0</td>\n",
              "      <td>1844</td>\n",
              "      <td>56</td>\n",
              "      <td>высшее</td>\n",
              "      <td>0</td>\n",
              "      <td>гражданский брак</td>\n",
              "      <td>1</td>\n",
              "      <td>F</td>\n",
              "      <td>компаньон</td>\n",
              "      <td>1</td>\n",
              "      <td>165127</td>\n",
              "      <td>покупка жилой недвижимости</td>\n",
              "      <td>операции с недвижимостью</td>\n",
              "      <td>доход выше среднего</td>\n",
              "      <td>пенсионеры</td>\n",
              "      <td>есть долг</td>\n",
              "    </tr>\n",
              "    <tr>\n",
              "      <th>15</th>\n",
              "      <td>1</td>\n",
              "      <td>972</td>\n",
              "      <td>26</td>\n",
              "      <td>среднее</td>\n",
              "      <td>1</td>\n",
              "      <td>женат / замужем</td>\n",
              "      <td>0</td>\n",
              "      <td>F</td>\n",
              "      <td>сотрудник</td>\n",
              "      <td>0</td>\n",
              "      <td>116820</td>\n",
              "      <td>строительство собственной недвижимости</td>\n",
              "      <td>операции с недвижимостью</td>\n",
              "      <td>средний доход</td>\n",
              "      <td>молодежь</td>\n",
              "      <td>нет долга</td>\n",
              "    </tr>\n",
              "    <tr>\n",
              "      <th>16</th>\n",
              "      <td>0</td>\n",
              "      <td>1719</td>\n",
              "      <td>35</td>\n",
              "      <td>среднее</td>\n",
              "      <td>1</td>\n",
              "      <td>женат / замужем</td>\n",
              "      <td>0</td>\n",
              "      <td>F</td>\n",
              "      <td>сотрудник</td>\n",
              "      <td>0</td>\n",
              "      <td>289202</td>\n",
              "      <td>недвижимость</td>\n",
              "      <td>операции с недвижимостью</td>\n",
              "      <td>доход выше среднего</td>\n",
              "      <td>взрослые</td>\n",
              "      <td>нет долга</td>\n",
              "    </tr>\n",
              "    <tr>\n",
              "      <th>17</th>\n",
              "      <td>0</td>\n",
              "      <td>2369</td>\n",
              "      <td>33</td>\n",
              "      <td>высшее</td>\n",
              "      <td>0</td>\n",
              "      <td>гражданский брак</td>\n",
              "      <td>1</td>\n",
              "      <td>M</td>\n",
              "      <td>сотрудник</td>\n",
              "      <td>0</td>\n",
              "      <td>90410</td>\n",
              "      <td>строительство недвижимости</td>\n",
              "      <td>операции с недвижимостью</td>\n",
              "      <td>доход ниже среднего</td>\n",
              "      <td>взрослые</td>\n",
              "      <td>нет долга</td>\n",
              "    </tr>\n",
              "    <tr>\n",
              "      <th>18</th>\n",
              "      <td>0</td>\n",
              "      <td>400281</td>\n",
              "      <td>53</td>\n",
              "      <td>среднее</td>\n",
              "      <td>1</td>\n",
              "      <td>вдовец / вдова</td>\n",
              "      <td>2</td>\n",
              "      <td>F</td>\n",
              "      <td>пенсионер</td>\n",
              "      <td>0</td>\n",
              "      <td>56823</td>\n",
              "      <td>на покупку подержанного автомобиля</td>\n",
              "      <td>покупка автомобиля</td>\n",
              "      <td>доход ниже среднего</td>\n",
              "      <td>взрослые</td>\n",
              "      <td>нет долга</td>\n",
              "    </tr>\n",
              "    <tr>\n",
              "      <th>19</th>\n",
              "      <td>0</td>\n",
              "      <td>10038</td>\n",
              "      <td>48</td>\n",
              "      <td>среднее</td>\n",
              "      <td>1</td>\n",
              "      <td>в разводе</td>\n",
              "      <td>3</td>\n",
              "      <td>F</td>\n",
              "      <td>сотрудник</td>\n",
              "      <td>0</td>\n",
              "      <td>242831</td>\n",
              "      <td>на покупку своего автомобиля</td>\n",
              "      <td>покупка автомобиля</td>\n",
              "      <td>доход выше среднего</td>\n",
              "      <td>взрослые</td>\n",
              "      <td>нет долга</td>\n",
              "    </tr>\n",
              "  </tbody>\n",
              "</table>\n",
              "</div>"
            ],
            "text/plain": [
              "    children  days_employed  dob_years            education  education_id  \\\n",
              "0          1           8437         42               высшее             0   \n",
              "1          1           4024         36              среднее             1   \n",
              "2          0           5623         33              среднее             1   \n",
              "3          3           4124         32              среднее             1   \n",
              "4          0         340266         53              среднее             1   \n",
              "5          0            926         27               высшее             0   \n",
              "6          0           2879         43               высшее             0   \n",
              "7          0            152         50              среднее             1   \n",
              "8          2           6929         35               высшее             0   \n",
              "9          0           2188         41              среднее             1   \n",
              "10         2           4171         36               высшее             0   \n",
              "11         0            792         40              среднее             1   \n",
              "12         0           1203         65              среднее             1   \n",
              "13         0           1846         54  неоконченное высшее             2   \n",
              "14         0           1844         56               высшее             0   \n",
              "15         1            972         26              среднее             1   \n",
              "16         0           1719         35              среднее             1   \n",
              "17         0           2369         33               высшее             0   \n",
              "18         0         400281         53              среднее             1   \n",
              "19         0          10038         48              среднее             1   \n",
              "\n",
              "       family_status  family_status_id gender income_type  debt  total_income  \\\n",
              "0    женат / замужем                 0      F   сотрудник     0        253875   \n",
              "1    женат / замужем                 0      F   сотрудник     0        112080   \n",
              "2    женат / замужем                 0      M   сотрудник     0        145885   \n",
              "3    женат / замужем                 0      M   сотрудник     0        267628   \n",
              "4   гражданский брак                 1      F   пенсионер     0        158616   \n",
              "5   гражданский брак                 1      M   компаньон     0        255763   \n",
              "6    женат / замужем                 0      F   компаньон     0        240525   \n",
              "7    женат / замужем                 0      M   сотрудник     0        135823   \n",
              "8   гражданский брак                 1      F   сотрудник     0         95856   \n",
              "9    женат / замужем                 0      M   сотрудник     0        144425   \n",
              "10   женат / замужем                 0      M   компаньон     0        113943   \n",
              "11   женат / замужем                 0      F   сотрудник     0         77069   \n",
              "12  гражданский брак                 1      M   пенсионер     0        137127   \n",
              "13   женат / замужем                 0      F   сотрудник     0        130458   \n",
              "14  гражданский брак                 1      F   компаньон     1        165127   \n",
              "15   женат / замужем                 0      F   сотрудник     0        116820   \n",
              "16   женат / замужем                 0      F   сотрудник     0        289202   \n",
              "17  гражданский брак                 1      M   сотрудник     0         90410   \n",
              "18    вдовец / вдова                 2      F   пенсионер     0         56823   \n",
              "19         в разводе                 3      F   сотрудник     0        242831   \n",
              "\n",
              "                                   purpose               new_purpose  \\\n",
              "0                            покупка жилья  операции с недвижимостью   \n",
              "1                  приобретение автомобиля        покупка автомобиля   \n",
              "2                            покупка жилья  операции с недвижимостью   \n",
              "3               дополнительное образование               образование   \n",
              "4                          сыграть свадьбу        проведение свадьбы   \n",
              "5                            покупка жилья  операции с недвижимостью   \n",
              "6                        операции с жильем  операции с недвижимостью   \n",
              "7                              образование               образование   \n",
              "8                    на проведение свадьбы        проведение свадьбы   \n",
              "9                  покупка жилья для семьи  операции с недвижимостью   \n",
              "10                    покупка недвижимости  операции с недвижимостью   \n",
              "11       покупка коммерческой недвижимости  операции с недвижимостью   \n",
              "12                         сыграть свадьбу        проведение свадьбы   \n",
              "13                 приобретение автомобиля        покупка автомобиля   \n",
              "14              покупка жилой недвижимости  операции с недвижимостью   \n",
              "15  строительство собственной недвижимости  операции с недвижимостью   \n",
              "16                            недвижимость  операции с недвижимостью   \n",
              "17              строительство недвижимости  операции с недвижимостью   \n",
              "18      на покупку подержанного автомобиля        покупка автомобиля   \n",
              "19            на покупку своего автомобиля        покупка автомобиля   \n",
              "\n",
              "             income_int   years_int   debt_new  \n",
              "0   доход выше среднего    взрослые  нет долга  \n",
              "1         средний доход    взрослые  нет долга  \n",
              "2         средний доход    взрослые  нет долга  \n",
              "3   доход выше среднего    взрослые  нет долга  \n",
              "4   доход выше среднего    взрослые  нет долга  \n",
              "5   доход выше среднего    молодежь  нет долга  \n",
              "6   доход выше среднего    взрослые  нет долга  \n",
              "7         средний доход    взрослые  нет долга  \n",
              "8   доход ниже среднего    взрослые  нет долга  \n",
              "9         средний доход    взрослые  нет долга  \n",
              "10        средний доход    взрослые  нет долга  \n",
              "11  доход ниже среднего    взрослые  нет долга  \n",
              "12        средний доход  пенсионеры  нет долга  \n",
              "13        средний доход    взрослые  нет долга  \n",
              "14  доход выше среднего  пенсионеры  есть долг  \n",
              "15        средний доход    молодежь  нет долга  \n",
              "16  доход выше среднего    взрослые  нет долга  \n",
              "17  доход ниже среднего    взрослые  нет долга  \n",
              "18  доход ниже среднего    взрослые  нет долга  \n",
              "19  доход выше среднего    взрослые  нет долга  "
            ]
          },
          "execution_count": 32,
          "metadata": {},
          "output_type": "execute_result"
        }
      ],
      "source": [
        "bank_rock['debt_new'] = bank_rock.apply(family_debt, axis=1)\n",
        "bank_rock.head(20)"
      ]
    },
    {
      "cell_type": "markdown",
      "metadata": {
        "id": "wHoJrh9CQDni"
      },
      "source": [
        "Вносим новый столбец 'debt_new' в таблицу. Выводим 20 строк для проверки"
      ]
    },
    {
      "cell_type": "markdown",
      "metadata": {
        "id": "IiFMdJGEQDni"
      },
      "source": [
        "**Вывод**"
      ]
    },
    {
      "cell_type": "markdown",
      "metadata": {
        "id": "vFpbC3nTQDnj"
      },
      "source": [
        "Подводя итоги данного раздела и учитывая характер будущих задач, я решил выделить 3, по моему мнению, основные группы, которые необходимо категоризировать: возраст, сумму дохода и наличие просрочки. В первую очередь, это было связано с задачами, которые нам будет необходимо решить позднее. Во-вторых, мне кажется данные группы (особенно \"уровень дохода\" и \"возраст\") являются наиболее удобными для представления будущих сводных таблиц. Ну и как было сказано на обучении, нельзя работать с единичными отрывками и делать из них статистические выводы. Для этого такие данные как \"доход\" и \"возраст\"(значение которых может быть бесконечно много) необходимо сгруппировать, чтобы можно было грамотно сформулировать выводы. Значения просрочки \"1\" и \"0\" были преобразованы скорее для удобства и красивого, понятного для человека оформления(будут использованы в последнем разделе, при ответе на последний вопрос)."
      ]
    },
    {
      "cell_type": "markdown",
      "metadata": {
        "id": "ki5D23P1QDnj"
      },
      "source": [
        "## Шаг 3. Ответьте на вопросы"
      ]
    },
    {
      "cell_type": "markdown",
      "metadata": {
        "id": "yTuiLjnkQDnj"
      },
      "source": [
        "- Есть ли зависимость между наличием детей и возвратом кредита в срок?"
      ]
    },
    {
      "cell_type": "code",
      "execution_count": null,
      "metadata": {
        "id": "dkrnrusFQDnk",
        "outputId": "dcb87a43-f2fe-4834-f9d2-2360ed8b6172"
      },
      "outputs": [
        {
          "data": {
            "text/html": [
              "<div>\n",
              "<style scoped>\n",
              "    .dataframe tbody tr th:only-of-type {\n",
              "        vertical-align: middle;\n",
              "    }\n",
              "\n",
              "    .dataframe tbody tr th {\n",
              "        vertical-align: top;\n",
              "    }\n",
              "\n",
              "    .dataframe thead tr th {\n",
              "        text-align: left;\n",
              "    }\n",
              "\n",
              "    .dataframe thead tr:last-of-type th {\n",
              "        text-align: right;\n",
              "    }\n",
              "</style>\n",
              "<table border=\"1\" class=\"dataframe\">\n",
              "  <thead>\n",
              "    <tr>\n",
              "      <th></th>\n",
              "      <th colspan=\"2\" halign=\"left\">debt</th>\n",
              "    </tr>\n",
              "    <tr>\n",
              "      <th></th>\n",
              "      <th>count</th>\n",
              "      <th>sum</th>\n",
              "    </tr>\n",
              "    <tr>\n",
              "      <th>children</th>\n",
              "      <th></th>\n",
              "      <th></th>\n",
              "    </tr>\n",
              "  </thead>\n",
              "  <tbody>\n",
              "    <tr>\n",
              "      <th>0</th>\n",
              "      <td>14021</td>\n",
              "      <td>1058</td>\n",
              "    </tr>\n",
              "    <tr>\n",
              "      <th>1</th>\n",
              "      <td>4839</td>\n",
              "      <td>442</td>\n",
              "    </tr>\n",
              "    <tr>\n",
              "      <th>2</th>\n",
              "      <td>2114</td>\n",
              "      <td>202</td>\n",
              "    </tr>\n",
              "    <tr>\n",
              "      <th>3</th>\n",
              "      <td>328</td>\n",
              "      <td>27</td>\n",
              "    </tr>\n",
              "    <tr>\n",
              "      <th>4</th>\n",
              "      <td>41</td>\n",
              "      <td>4</td>\n",
              "    </tr>\n",
              "    <tr>\n",
              "      <th>5</th>\n",
              "      <td>9</td>\n",
              "      <td>0</td>\n",
              "    </tr>\n",
              "  </tbody>\n",
              "</table>\n",
              "</div>"
            ],
            "text/plain": [
              "           debt      \n",
              "          count   sum\n",
              "children             \n",
              "0         14021  1058\n",
              "1          4839   442\n",
              "2          2114   202\n",
              "3           328    27\n",
              "4            41     4\n",
              "5             9     0"
            ]
          },
          "execution_count": 33,
          "metadata": {},
          "output_type": "execute_result"
        }
      ],
      "source": [
        "chil_debt_stat=bank_rock.groupby('children').agg({'debt':['count','sum']})\n",
        "chil_debt_stat"
      ]
    },
    {
      "cell_type": "code",
      "execution_count": null,
      "metadata": {
        "id": "HKkgba1bQDnk"
      },
      "outputs": [],
      "source": [
        "list_d = bank_rock.groupby('children')['family_status'].count()"
      ]
    },
    {
      "cell_type": "code",
      "execution_count": null,
      "metadata": {
        "id": "1mwdA3ljQDnk"
      },
      "outputs": [],
      "source": [
        "chil_debt = chil_debt_stat['debt']['sum'] / chil_debt_stat['debt']['count']"
      ]
    },
    {
      "cell_type": "code",
      "execution_count": null,
      "metadata": {
        "id": "9HnLofOoQDnk",
        "outputId": "77a87a6f-590a-4bd0-94e1-bae91d9b5d74"
      },
      "outputs": [
        {
          "name": "stdout",
          "output_type": "stream",
          "text": [
            "children\n",
            "0    14021\n",
            "1     4839\n",
            "2     2114\n",
            "3      328\n",
            "4       41\n",
            "5        9\n",
            "Name: family_status, dtype: int64\n",
            "Доля должников в данной категории составляет: 7.55%\n",
            "Доля должников в данной категории составляет: 9.13%\n",
            "Доля должников в данной категории составляет: 9.56%\n",
            "Доля должников в данной категории составляет: 8.23%\n",
            "Доля должников в данной категории составляет: 9.76%\n",
            "Доля должников в данной категории составляет: 0.00%\n"
          ]
        }
      ],
      "source": [
        "print (list_d)\n",
        "for i in chil_debt:\n",
        "    print (\"Доля должников в данной категории составляет: {:.2%}\".format(i))    \n"
      ]
    },
    {
      "cell_type": "markdown",
      "metadata": {
        "id": "ULVevdxdQDnk"
      },
      "source": [
        "**Вывод**"
      ]
    },
    {
      "cell_type": "markdown",
      "metadata": {
        "id": "tk2P7sY9QDnl"
      },
      "source": [
        "В таблице №1 мы вывели сгруппировали клиентов по количеству детей, в таблице №2 отобразили долю просрочек в каждой категории.\n",
        "Обращая внимание на данные можно сказать, что у клиентов с 5 детьми отсутствуют просрочки. В то же время надо учитывать, что таких клиентов всего 9, поэтому о прямом положительном влиянии большого количества детей на выплату в срок нельзя говорить. На это указывают показатели категории клиентов с 4 детьми. Доля клиентов, у которых 4 ребенка, являтся самой высокой. Далее процент у кого есть дети везде примерно одинаковый (в среднем 9%), и лишь у людей без детей он немного меньше. Из этого можно сделать вывод, что количество детей не влияет на возврат кредита, принимая во внимания тот факт, что 5 детей большая редкость и что выборка в 9 человек в группе клиентов, у которых 5 детей, очень мала для представлнения каких-либо выводов. "
      ]
    },
    {
      "cell_type": "markdown",
      "metadata": {
        "id": "z1tYLbFKQDnl"
      },
      "source": [
        "- Есть ли зависимость между семейным положением и возвратом кредита в срок?"
      ]
    },
    {
      "cell_type": "code",
      "execution_count": null,
      "metadata": {
        "id": "I-dN9GAtQDnm",
        "outputId": "e7a14e7a-4618-42fb-b61c-a6c26db11446"
      },
      "outputs": [
        {
          "data": {
            "text/plain": [
              "нет долга    19619\n",
              "есть долг     1733\n",
              "Name: debt_new, dtype: int64"
            ]
          },
          "execution_count": 37,
          "metadata": {},
          "output_type": "execute_result"
        }
      ],
      "source": [
        "bank_rock['debt_new'].value_counts()"
      ]
    },
    {
      "cell_type": "markdown",
      "metadata": {
        "id": "7ZMSIPZcQDnm"
      },
      "source": [
        "Найдем общее количество просроченных кредитов"
      ]
    },
    {
      "cell_type": "code",
      "execution_count": null,
      "metadata": {
        "id": "naJV_k1KQDnm",
        "outputId": "efaa1949-a0da-44f2-ff93-c660e15901e3"
      },
      "outputs": [
        {
          "name": "stdout",
          "output_type": "stream",
          "text": [
            "                        debt     \n",
            "                       count  sum\n",
            "family_status                    \n",
            "Не женат / не замужем   2794  273\n",
            "в разводе               1185   85\n",
            "вдовец / вдова           954   62\n",
            "гражданский брак        4129  386\n",
            "женат / замужем        12290  927\n",
            "\n",
            "Доля должников в данной категории составляет: 9.77%\n",
            "Доля должников в данной категории составляет: 7.17%\n",
            "Доля должников в данной категории составляет: 6.50%\n",
            "Доля должников в данной категории составляет: 9.35%\n",
            "Доля должников в данной категории составляет: 7.54%\n"
          ]
        }
      ],
      "source": [
        "fam_debt_stat=bank_rock.groupby('family_status').agg({'debt':['count','sum']}) \n",
        "print (fam_debt_stat)\n",
        "print()\n",
        "family_debt=fam_debt_stat['debt']['sum']/fam_debt_stat['debt']['count']\n",
        "for i in family_debt:\n",
        "    print (\"Доля должников в данной категории составляет: {:.2%}\".format(i))    "
      ]
    },
    {
      "cell_type": "markdown",
      "metadata": {
        "id": "e4lbJypiQDnn"
      },
      "source": [
        "Групируем данные по двум столбцам \"семейный статус\" и \"долг\", выводим количество элементов каждого семейного статуса (count) и количество просрочек для каждого семейного статуса (sum). Сохраняем полученные результаты в переменную 'fam_debt_stat'. Для того, чтобы найти долю, делим (count) на (sum) и выводим переменную 'family_debt'\n",
        "Сравниваем 2 таблицы."
      ]
    },
    {
      "cell_type": "markdown",
      "metadata": {
        "id": "BT3NLRsPQDnn"
      },
      "source": [
        "**Вывод**"
      ]
    },
    {
      "cell_type": "markdown",
      "metadata": {
        "id": "UuE56IuGQDno"
      },
      "source": [
        "На основе полученных данных можно сказать, что меньше всего должников среди вдов и вдовцов. Чуть выше процент у тех людей, кто находится в разводе. Самые \"худшие\" результаты обнаружились у тех, кто вообще не состоит в отношениях. Это можно объяснить тем, что в данной ситуации люди, пережившие разрыв по той или иной причине, более отвественно подходят к вопросу кредитования.\n"
      ]
    },
    {
      "cell_type": "markdown",
      "metadata": {
        "id": "hJxg7HlXQDno"
      },
      "source": [
        ""
      ]
    },
    {
      "cell_type": "markdown",
      "metadata": {
        "id": "jcyR1E-cQDno"
      },
      "source": [
        "- Есть ли зависимость между уровнем дохода и возвратом кредита в срок?"
      ]
    },
    {
      "cell_type": "code",
      "execution_count": null,
      "metadata": {
        "id": "6dxmhQM4QDno"
      },
      "outputs": [],
      "source": [
        "inc_debt_stat =bank_rock.groupby('income_int').agg({'debt':['count','sum']})"
      ]
    },
    {
      "cell_type": "code",
      "execution_count": null,
      "metadata": {
        "id": "5TAr-Oh6QDno",
        "outputId": "6f92c768-1d52-4d24-8c8b-f796665eee47"
      },
      "outputs": [
        {
          "name": "stdout",
          "output_type": "stream",
          "text": [
            "                     debt     \n",
            "                    count  sum\n",
            "income_int                    \n",
            "доход выше среднего  9368  751\n",
            "доход ниже среднего  4440  353\n",
            "очень высокий доход  1479  106\n",
            "средний доход        6065  523\n",
            "\n",
            "Доля должников в данной категории составляет: 8.02%\n",
            "Доля должников в данной категории составляет: 7.95%\n",
            "Доля должников в данной категории составляет: 7.17%\n",
            "Доля должников в данной категории составляет: 8.62%\n"
          ]
        }
      ],
      "source": [
        "inc_debt = inc_debt_stat['debt']['sum'] / inc_debt_stat['debt']['count']\n",
        "print (inc_debt_stat)\n",
        "print()\n",
        "for i in inc_debt:\n",
        "    print (\"Доля должников в данной категории составляет: {:.2%}\".format(i))                                                        "
      ]
    },
    {
      "cell_type": "markdown",
      "metadata": {
        "id": "n3eq95WnQDnp"
      },
      "source": [
        "Групируем данные по двум столбцам \"доход\" и \"долг\", выводим количество элементов каждой категории дохода (count) и количество просрочек для каждого семейного статуса (sum). Сохраняем полученные результаты в переменную 'inc_debt_stat'. Для того, чтобы найти долю, делим (count) на (sum) и выводим переменную 'inc_debt'\n",
        "Выводим на экран обе таблицы."
      ]
    },
    {
      "cell_type": "markdown",
      "metadata": {
        "id": "ewzJI1vmQDnp"
      },
      "source": [
        "**Вывод**"
      ]
    },
    {
      "cell_type": "markdown",
      "metadata": {
        "id": "R71vFkypQDnp"
      },
      "source": [
        "Из таблиц мы видим, что ожидаемо лучше всех справляются люди с очень высоким доходом(выше 300 000 руб.). Обычно клиенты с доходом более 300 000р. берут кредит на короткий срок, когда нужны деньги \"здесь и сейчас\", а имеющиеся средства находятся на непрерываемых вкладах\\в иностранной валюте. Почти с одинаковой долей с финансовой нагрузкой справляются люди с доходом выше(от 150 000 руб. до 300 000 руб.) и ниже среднего(до 100 000 руб). Люди с доходом ниже среднего(до 100 000 руб) обычно берут кредит на длительный срок под самый маленький процент, для того, чтобы успешно его погасить и взять новый, наличие просрочки испортит их кредитную историю. Самые \"худшие\" результаты оказались у людей со средним доходом(от 100 000 руб. до 150 000)."
      ]
    },
    {
      "cell_type": "markdown",
      "metadata": {
        "id": "nRJwcn--QDnq"
      },
      "source": [
        "- Как разные цели кредита влияют на его возврат в срок?"
      ]
    },
    {
      "cell_type": "code",
      "execution_count": null,
      "metadata": {
        "id": "BIk1ymwnQDnq"
      },
      "outputs": [],
      "source": [
        "purp_debt_stat = bank_rock.groupby('new_purpose').agg({'debt':['count','sum']})\n",
        "purp_debt = purp_debt_stat['debt']['sum'] / purp_debt_stat['debt']['count']\n"
      ]
    },
    {
      "cell_type": "code",
      "execution_count": null,
      "metadata": {
        "id": "EVav0paPQDnq",
        "outputId": "c21021c5-417c-429d-d61a-79eb1a17587f"
      },
      "outputs": [
        {
          "name": "stdout",
          "output_type": "stream",
          "text": [
            "                           debt     \n",
            "                          count  sum\n",
            "new_purpose                         \n",
            "образование                3995  370\n",
            "операции с недвижимостью  10763  779\n",
            "покупка автомобиля         4284  400\n",
            "проведение свадьбы         2310  184\n",
            "\n",
            "Доля должников в данной категории составляет: 9.26%\n",
            "Доля должников в данной категории составляет: 7.24%\n",
            "Доля должников в данной категории составляет: 9.34%\n",
            "Доля должников в данной категории составляет: 7.97%\n"
          ]
        }
      ],
      "source": [
        "print (purp_debt_stat)\n",
        "print()\n",
        "for i in purp_debt:\n",
        "    print (\"Доля должников в данной категории составляет: {:.2%}\".format(i))"
      ]
    },
    {
      "cell_type": "code",
      "execution_count": null,
      "metadata": {
        "id": "xx3PgcXIQDnq",
        "outputId": "257ccce7-b483-4551-8ee4-c6f2de730a58"
      },
      "outputs": [
        {
          "data": {
            "text/html": [
              "<div>\n",
              "<style scoped>\n",
              "    .dataframe tbody tr th:only-of-type {\n",
              "        vertical-align: middle;\n",
              "    }\n",
              "\n",
              "    .dataframe tbody tr th {\n",
              "        vertical-align: top;\n",
              "    }\n",
              "\n",
              "    .dataframe thead th {\n",
              "        text-align: right;\n",
              "    }\n",
              "</style>\n",
              "<table border=\"1\" class=\"dataframe\">\n",
              "  <thead>\n",
              "    <tr style=\"text-align: right;\">\n",
              "      <th>debt_new</th>\n",
              "      <th>есть долг</th>\n",
              "      <th>нет долга</th>\n",
              "    </tr>\n",
              "    <tr>\n",
              "      <th>new_purpose</th>\n",
              "      <th></th>\n",
              "      <th></th>\n",
              "    </tr>\n",
              "  </thead>\n",
              "  <tbody>\n",
              "    <tr>\n",
              "      <th>образование</th>\n",
              "      <td>370</td>\n",
              "      <td>3625</td>\n",
              "    </tr>\n",
              "    <tr>\n",
              "      <th>операции с недвижимостью</th>\n",
              "      <td>779</td>\n",
              "      <td>9984</td>\n",
              "    </tr>\n",
              "    <tr>\n",
              "      <th>покупка автомобиля</th>\n",
              "      <td>400</td>\n",
              "      <td>3884</td>\n",
              "    </tr>\n",
              "    <tr>\n",
              "      <th>проведение свадьбы</th>\n",
              "      <td>184</td>\n",
              "      <td>2126</td>\n",
              "    </tr>\n",
              "  </tbody>\n",
              "</table>\n",
              "</div>"
            ],
            "text/plain": [
              "debt_new                  есть долг  нет долга\n",
              "new_purpose                                   \n",
              "образование                     370       3625\n",
              "операции с недвижимостью        779       9984\n",
              "покупка автомобиля              400       3884\n",
              "проведение свадьбы              184       2126"
            ]
          },
          "execution_count": 43,
          "metadata": {},
          "output_type": "execute_result"
        }
      ],
      "source": [
        "c=bank_rock.pivot_table(index=['new_purpose'],columns='debt_new',values='debt',aggfunc='count',)\n",
        "c"
      ]
    },
    {
      "cell_type": "markdown",
      "metadata": {
        "id": "k3soc0opQDnr"
      },
      "source": [
        "Группируем по столбцам \"новая цель\" и \"просрочка\", выводим долю должников в каждой категории."
      ]
    },
    {
      "cell_type": "code",
      "execution_count": null,
      "metadata": {
        "id": "TS4f-XvTQDnr",
        "outputId": "bd77755a-95e4-405b-cbac-dd5b865900d9"
      },
      "outputs": [
        {
          "data": {
            "text/html": [
              "<div>\n",
              "<style scoped>\n",
              "    .dataframe tbody tr th:only-of-type {\n",
              "        vertical-align: middle;\n",
              "    }\n",
              "\n",
              "    .dataframe tbody tr th {\n",
              "        vertical-align: top;\n",
              "    }\n",
              "\n",
              "    .dataframe thead tr th {\n",
              "        text-align: left;\n",
              "    }\n",
              "\n",
              "    .dataframe thead tr:last-of-type th {\n",
              "        text-align: right;\n",
              "    }\n",
              "</style>\n",
              "<table border=\"1\" class=\"dataframe\">\n",
              "  <thead>\n",
              "    <tr>\n",
              "      <th></th>\n",
              "      <th>count</th>\n",
              "      <th>sum</th>\n",
              "      <th>mean</th>\n",
              "    </tr>\n",
              "    <tr>\n",
              "      <th></th>\n",
              "      <th>debt</th>\n",
              "      <th>debt</th>\n",
              "      <th>debt</th>\n",
              "    </tr>\n",
              "    <tr>\n",
              "      <th>new_purpose</th>\n",
              "      <th></th>\n",
              "      <th></th>\n",
              "      <th></th>\n",
              "    </tr>\n",
              "  </thead>\n",
              "  <tbody>\n",
              "    <tr>\n",
              "      <th>образование</th>\n",
              "      <td>3995</td>\n",
              "      <td>370</td>\n",
              "      <td>0.092616</td>\n",
              "    </tr>\n",
              "    <tr>\n",
              "      <th>операции с недвижимостью</th>\n",
              "      <td>10763</td>\n",
              "      <td>779</td>\n",
              "      <td>0.072378</td>\n",
              "    </tr>\n",
              "    <tr>\n",
              "      <th>покупка автомобиля</th>\n",
              "      <td>4284</td>\n",
              "      <td>400</td>\n",
              "      <td>0.093371</td>\n",
              "    </tr>\n",
              "    <tr>\n",
              "      <th>проведение свадьбы</th>\n",
              "      <td>2310</td>\n",
              "      <td>184</td>\n",
              "      <td>0.079654</td>\n",
              "    </tr>\n",
              "  </tbody>\n",
              "</table>\n",
              "</div>"
            ],
            "text/plain": [
              "                          count  sum      mean\n",
              "                           debt debt      debt\n",
              "new_purpose                                   \n",
              "образование                3995  370  0.092616\n",
              "операции с недвижимостью  10763  779  0.072378\n",
              "покупка автомобиля         4284  400  0.093371\n",
              "проведение свадьбы         2310  184  0.079654"
            ]
          },
          "execution_count": 44,
          "metadata": {},
          "output_type": "execute_result"
        }
      ],
      "source": [
        "#код ревьюера для примера\n",
        "bank_rock.pivot_table(index=['new_purpose'],values='debt',aggfunc=['count', 'sum', 'mean'])"
      ]
    },
    {
      "cell_type": "markdown",
      "metadata": {
        "id": "kK-9NWHJQDns"
      },
      "source": [
        "**Вывод**"
      ]
    },
    {
      "cell_type": "markdown",
      "metadata": {
        "id": "LAwwEcyRQDns"
      },
      "source": [
        "В данных таблицах мы видим, что больше всего кредитов берут на операции с недвижимостью, однако доля просрочек там ниже всего. Скорее всего, люди понимают, что покупка квартиры является серьезным решением и к нему подходят более ответственно, взвешивая все \"за\" и \"против\". Очень высокий процент у тех кто брал кредит на образование и на покупку автомобиля. Это может быть связано с тем, что клиенты в данной категории в основном являются молодежью, и не всегда есть стабильный доход для исполнения кредитных обязательств. "
      ]
    },
    {
      "cell_type": "markdown",
      "metadata": {
        "id": "Ep7p1Ug4QDnt"
      },
      "source": [
        "## Шаг 4. Общий вывод"
      ]
    },
    {
      "cell_type": "markdown",
      "metadata": {
        "id": "6XH531U2QDnt"
      },
      "source": [
        "В данном проекте перед тем как решать поставленные банком задачи было необходимо обработать данные. В процессе обработки встречались различные \"артефакты\" - пропуски, отрицательные значения, неизвестные данные. Для их устранения было использовано ряд методов: замена значений, внесение среднего значения по столбцу, удаления ненужных строк, если не было возможности заполнить данные. В целом было удалено менее 1 % информации, что не должно сказаться на результатах исследования.\n",
        "\n",
        "Банк всегда обращает внимание на тот факт, для каких целей клиенты берут потребительский кредит. В нашем случае в столбце \"цель кредита\" присутствовало огромное количество значений. Данные значения были унифицированы в 4 категории для дальнейшего удобства.\n",
        "\n",
        "Следующим шагом стала категоризация данных. Для этого были выбраны 3 столбца: доход, возраст и наличие просрочки. Создание категорий позволило дать объективные ответы в следующем разделе.  \n",
        "\n",
        "Подводя итоги, можно сказать что не все параметры одинаково влияют на возможную просрочку у клиентов. Многое зависит от цели кредита, его суммы, ежемесячного платежа и т.д. С нашей точки зрения, есть 2 важных параметра, на которые банк должен обратить внимание в первую очередь: сумма дохода и семейный статус клиента. Эти данные должны быть учтены кредитным отделом банка при построении модели кредитного скоринга.\n",
        "\n",
        "  "
      ]
    },
    {
      "cell_type": "markdown",
      "metadata": {
        "id": "6HWUMebRQDny"
      },
      "source": [
        "## Чек-лист готовности проекта\n",
        "\n",
        "Поставьте 'x' в выполненных пунктах. Далее нажмите Shift+Enter."
      ]
    },
    {
      "cell_type": "markdown",
      "metadata": {
        "id": "1fDWGRshQDny"
      },
      "source": [
        "- [x]  открыт файл;\n",
        "- [x]  файл изучен;\n",
        "- [x]  определены пропущенные значения;\n",
        "- [x]  заполнены пропущенные значения;\n",
        "- [x]  есть пояснение, какие пропущенные значения обнаружены;\n",
        "- [x]  описаны возможные причины появления пропусков в данных;\n",
        "- [x]  объяснено, по какому принципу заполнены пропуски;\n",
        "- [x]  заменен вещественный тип данных на целочисленный;\n",
        "- [x]  есть пояснение, какой метод используется для изменения типа данных и почему;\n",
        "- [x]  удалены дубликаты;\n",
        "- [x]  есть пояснение, какой метод используется для поиска и удаления дубликатов;\n",
        "- [x]  описаны возможные причины появления дубликатов в данных;\n",
        "- [x]  выделены леммы в значениях столбца с целями получения кредита;\n",
        "- [x]  описан процесс лемматизации;\n",
        "- [x]  данные категоризированы;\n",
        "- [x]  есть объяснение принципа категоризации данных;\n",
        "- [x]  есть ответ на вопрос: \"Есть ли зависимость между наличием детей и возвратом кредита в срок?\";\n",
        "- [x]  есть ответ на вопрос: \"Есть ли зависимость между семейным положением и возвратом кредита в срок?\";\n",
        "- [x]  есть ответ на вопрос: \"Есть ли зависимость между уровнем дохода и возвратом кредита в срок?\";\n",
        "- [x]  есть ответ на вопрос: \"Как разные цели кредита влияют на его возврат в срок?\";\n",
        "- [x]  в каждом этапе есть выводы;\n",
        "- [x]  есть общий вывод."
      ]
    }
  ],
  "metadata": {
    "ExecuteTimeLog": [
      {
        "duration": 482,
        "start_time": "2022-04-21T12:58:44.178Z"
      },
      {
        "duration": 12,
        "start_time": "2022-04-21T12:58:44.662Z"
      },
      {
        "duration": 13,
        "start_time": "2022-04-21T12:58:44.676Z"
      },
      {
        "duration": 9,
        "start_time": "2022-04-21T12:58:44.691Z"
      },
      {
        "duration": 18,
        "start_time": "2022-04-21T12:58:44.701Z"
      },
      {
        "duration": 17,
        "start_time": "2022-04-21T12:58:44.721Z"
      },
      {
        "duration": 6,
        "start_time": "2022-04-21T12:58:44.739Z"
      },
      {
        "duration": 10,
        "start_time": "2022-04-21T12:58:44.746Z"
      },
      {
        "duration": 7,
        "start_time": "2022-04-21T12:58:44.757Z"
      },
      {
        "duration": 8,
        "start_time": "2022-04-21T12:58:44.766Z"
      },
      {
        "duration": 8,
        "start_time": "2022-04-21T12:58:44.776Z"
      },
      {
        "duration": 12,
        "start_time": "2022-04-21T12:58:44.800Z"
      },
      {
        "duration": 5,
        "start_time": "2022-04-21T12:58:44.813Z"
      },
      {
        "duration": 5,
        "start_time": "2022-04-21T12:58:44.819Z"
      },
      {
        "duration": 7,
        "start_time": "2022-04-21T12:58:44.825Z"
      },
      {
        "duration": 8,
        "start_time": "2022-04-21T12:58:44.834Z"
      },
      {
        "duration": 3,
        "start_time": "2022-04-21T12:58:44.844Z"
      },
      {
        "duration": 10,
        "start_time": "2022-04-21T12:58:44.848Z"
      },
      {
        "duration": 53,
        "start_time": "2022-04-21T12:58:44.859Z"
      },
      {
        "duration": 17,
        "start_time": "2022-04-21T12:58:44.913Z"
      },
      {
        "duration": 16,
        "start_time": "2022-04-21T12:58:44.931Z"
      },
      {
        "duration": 9,
        "start_time": "2022-04-21T12:58:44.948Z"
      },
      {
        "duration": 3708,
        "start_time": "2022-04-21T12:58:44.959Z"
      },
      {
        "duration": 35,
        "start_time": "2022-04-21T12:58:48.668Z"
      },
      {
        "duration": 527,
        "start_time": "2022-04-21T12:58:48.705Z"
      },
      {
        "duration": 5,
        "start_time": "2022-04-21T12:58:49.233Z"
      },
      {
        "duration": 20,
        "start_time": "2022-04-21T12:58:49.239Z"
      },
      {
        "duration": 8,
        "start_time": "2022-04-21T12:58:49.262Z"
      },
      {
        "duration": 4,
        "start_time": "2022-04-21T12:58:49.272Z"
      },
      {
        "duration": 18,
        "start_time": "2022-04-21T12:58:49.301Z"
      },
      {
        "duration": 6,
        "start_time": "2022-04-21T12:58:49.321Z"
      },
      {
        "duration": 204,
        "start_time": "2022-04-21T12:58:49.328Z"
      },
      {
        "duration": 12,
        "start_time": "2022-04-21T12:58:49.534Z"
      },
      {
        "duration": 5,
        "start_time": "2022-04-21T12:58:49.548Z"
      },
      {
        "duration": 5,
        "start_time": "2022-04-21T12:58:49.555Z"
      },
      {
        "duration": 6,
        "start_time": "2022-04-21T12:58:49.562Z"
      },
      {
        "duration": 9,
        "start_time": "2022-04-21T12:58:49.599Z"
      },
      {
        "duration": 13,
        "start_time": "2022-04-21T12:58:49.610Z"
      },
      {
        "duration": 8,
        "start_time": "2022-04-21T12:58:49.624Z"
      },
      {
        "duration": 12,
        "start_time": "2022-04-21T12:58:49.634Z"
      },
      {
        "duration": 12,
        "start_time": "2022-04-21T12:58:49.648Z"
      },
      {
        "duration": 5,
        "start_time": "2022-04-21T12:58:49.661Z"
      },
      {
        "duration": 42,
        "start_time": "2022-04-21T12:58:49.668Z"
      },
      {
        "duration": 25,
        "start_time": "2022-04-21T12:58:49.711Z"
      }
    ],
    "kernelspec": {
      "display_name": "Python 3 (ipykernel)",
      "language": "python",
      "name": "python3"
    },
    "language_info": {
      "codemirror_mode": {
        "name": "ipython",
        "version": 3
      },
      "file_extension": ".py",
      "mimetype": "text/x-python",
      "name": "python",
      "nbconvert_exporter": "python",
      "pygments_lexer": "ipython3",
      "version": "3.9.5"
    },
    "toc": {
      "base_numbering": 1,
      "nav_menu": {},
      "number_sections": true,
      "sideBar": true,
      "skip_h1_title": true,
      "title_cell": "Table of Contents",
      "title_sidebar": "Contents",
      "toc_cell": false,
      "toc_position": {},
      "toc_section_display": true,
      "toc_window_display": false
    },
    "colab": {
      "name": "Заемщики кредита",
      "provenance": [],
      "include_colab_link": true
    }
  },
  "nbformat": 4,
  "nbformat_minor": 0
}