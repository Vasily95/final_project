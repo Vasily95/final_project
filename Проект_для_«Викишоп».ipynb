{
  "cells": [
    {
      "cell_type": "markdown",
      "metadata": {
        "id": "VEoek9c9Mw9r"
      },
      "source": [
        "<h1>Содержание<span class=\"tocSkip\"></span></h1>\n",
        "<div class=\"toc\"><ul class=\"toc-item\"><li><span><a href=\"#Подготовка\" data-toc-modified-id=\"Подготовка-1\"><span class=\"toc-item-num\">1&nbsp;&nbsp;</span>Подготовка</a></span></li><li><span><a href=\"#Обучение\" data-toc-modified-id=\"Обучение-2\"><span class=\"toc-item-num\">2&nbsp;&nbsp;</span>Обучение</a></span></li><li><span><a href=\"#Выводы\" data-toc-modified-id=\"Выводы-3\"><span class=\"toc-item-num\">3&nbsp;&nbsp;</span>Выводы</a></span></li><li><span><a href=\"#Чек-лист-проверки\" data-toc-modified-id=\"Чек-лист-проверки-4\"><span class=\"toc-item-num\">4&nbsp;&nbsp;</span>Чек-лист проверки</a></span></li></ul></div>"
      ]
    },
    {
      "cell_type": "markdown",
      "metadata": {
        "id": "0MWAyB1jM6HT"
      },
      "source": [
        "Интернет-магазин «Викишоп» запускает новый сервис. Теперь пользователи могут редактировать и дополнять описания товаров, как в вики-сообществах. То есть клиенты предлагают свои правки и комментируют изменения других. Магазину нужен инструмент, который будет искать токсичные комментарии и отправлять их на модерацию. \n",
        "\n",
        "Обучите модель классифицировать комментарии на позитивные и негативные. В вашем распоряжении набор данных с разметкой о токсичности правок.\n",
        "\n",
        "Постройте модель со значением метрики качества *F1* не меньше 0.75. \n",
        "\n",
        "**Инструкция по выполнению проекта**\n",
        "\n",
        "1. Загрузите и подготовьте данные.\n",
        "2. Обучите разные модели. \n",
        "3. Сделайте выводы.\n",
        "\n",
        "Для выполнения проекта применять *BERT* необязательно, но вы можете попробовать.\n",
        "\n",
        "**Описание данных**\n",
        "\n",
        "Данные находятся в файле `toxic_comments.csv`. Столбец *text* в нём содержит текст комментария, а *toxic* — целевой признак."
      ]
    },
    {
      "cell_type": "markdown",
      "metadata": {
        "id": "et9Joe787Ahv"
      },
      "source": [
        "В первый раз решил попробовать сделаьть сам проект через Колаб, т.к.  сожалению, Kernel постоянно вылетал при обработке данных. Нашел в интернете как установить библиотеки(\"pip install transformers\" для возможной установки модель BERT и  \"pip install catboost\" для кэтбуста)"
      ]
    },
    {
      "cell_type": "markdown",
      "metadata": {
        "id": "CDXVrou7yifj"
      },
      "source": [
        "## Подготовка"
      ]
    },
    {
      "cell_type": "code",
      "execution_count": null,
      "metadata": {
        "colab": {
          "base_uri": "https://localhost:8080/"
        },
        "id": "jaBtKDqqM0qF",
        "outputId": "b8c1d265-be77-482f-89a7-f92f92003377"
      },
      "outputs": [
        {
          "name": "stdout",
          "output_type": "stream",
          "text": [
            "Collecting transformers\n",
            "  Downloading transformers-4.15.0-py3-none-any.whl (3.4 MB)\n",
            "\u001b[K     |████████████████████████████████| 3.4 MB 13.7 MB/s \n",
            "\u001b[?25hCollecting tokenizers<0.11,>=0.10.1\n",
            "  Downloading tokenizers-0.10.3-cp37-cp37m-manylinux_2_5_x86_64.manylinux1_x86_64.manylinux_2_12_x86_64.manylinux2010_x86_64.whl (3.3 MB)\n",
            "\u001b[K     |████████████████████████████████| 3.3 MB 36.9 MB/s \n",
            "\u001b[?25hRequirement already satisfied: numpy>=1.17 in /usr/local/lib/python3.7/dist-packages (from transformers) (1.19.5)\n",
            "Requirement already satisfied: tqdm>=4.27 in /usr/local/lib/python3.7/dist-packages (from transformers) (4.62.3)\n",
            "Requirement already satisfied: filelock in /usr/local/lib/python3.7/dist-packages (from transformers) (3.4.0)\n",
            "Requirement already satisfied: regex!=2019.12.17 in /usr/local/lib/python3.7/dist-packages (from transformers) (2019.12.20)\n",
            "Collecting pyyaml>=5.1\n",
            "  Downloading PyYAML-6.0-cp37-cp37m-manylinux_2_5_x86_64.manylinux1_x86_64.manylinux_2_12_x86_64.manylinux2010_x86_64.whl (596 kB)\n",
            "\u001b[K     |████████████████████████████████| 596 kB 46.6 MB/s \n",
            "\u001b[?25hRequirement already satisfied: packaging>=20.0 in /usr/local/lib/python3.7/dist-packages (from transformers) (21.3)\n",
            "Collecting sacremoses\n",
            "  Downloading sacremoses-0.0.46-py3-none-any.whl (895 kB)\n",
            "\u001b[K     |████████████████████████████████| 895 kB 42.2 MB/s \n",
            "\u001b[?25hRequirement already satisfied: requests in /usr/local/lib/python3.7/dist-packages (from transformers) (2.23.0)\n",
            "Collecting huggingface-hub<1.0,>=0.1.0\n",
            "  Downloading huggingface_hub-0.2.1-py3-none-any.whl (61 kB)\n",
            "\u001b[K     |████████████████████████████████| 61 kB 269 kB/s \n",
            "\u001b[?25hRequirement already satisfied: importlib-metadata in /usr/local/lib/python3.7/dist-packages (from transformers) (4.8.2)\n",
            "Requirement already satisfied: typing-extensions>=3.7.4.3 in /usr/local/lib/python3.7/dist-packages (from huggingface-hub<1.0,>=0.1.0->transformers) (3.10.0.2)\n",
            "Requirement already satisfied: pyparsing!=3.0.5,>=2.0.2 in /usr/local/lib/python3.7/dist-packages (from packaging>=20.0->transformers) (3.0.6)\n",
            "Requirement already satisfied: zipp>=0.5 in /usr/local/lib/python3.7/dist-packages (from importlib-metadata->transformers) (3.6.0)\n",
            "Requirement already satisfied: chardet<4,>=3.0.2 in /usr/local/lib/python3.7/dist-packages (from requests->transformers) (3.0.4)\n",
            "Requirement already satisfied: urllib3!=1.25.0,!=1.25.1,<1.26,>=1.21.1 in /usr/local/lib/python3.7/dist-packages (from requests->transformers) (1.24.3)\n",
            "Requirement already satisfied: certifi>=2017.4.17 in /usr/local/lib/python3.7/dist-packages (from requests->transformers) (2021.10.8)\n",
            "Requirement already satisfied: idna<3,>=2.5 in /usr/local/lib/python3.7/dist-packages (from requests->transformers) (2.10)\n",
            "Requirement already satisfied: six in /usr/local/lib/python3.7/dist-packages (from sacremoses->transformers) (1.15.0)\n",
            "Requirement already satisfied: joblib in /usr/local/lib/python3.7/dist-packages (from sacremoses->transformers) (1.1.0)\n",
            "Requirement already satisfied: click in /usr/local/lib/python3.7/dist-packages (from sacremoses->transformers) (7.1.2)\n",
            "Installing collected packages: pyyaml, tokenizers, sacremoses, huggingface-hub, transformers\n",
            "  Attempting uninstall: pyyaml\n",
            "    Found existing installation: PyYAML 3.13\n",
            "    Uninstalling PyYAML-3.13:\n",
            "      Successfully uninstalled PyYAML-3.13\n",
            "Successfully installed huggingface-hub-0.2.1 pyyaml-6.0 sacremoses-0.0.46 tokenizers-0.10.3 transformers-4.15.0\n"
          ]
        }
      ],
      "source": [
        "pip install transformers"
      ]
    },
    {
      "cell_type": "code",
      "execution_count": null,
      "metadata": {
        "colab": {
          "base_uri": "https://localhost:8080/"
        },
        "id": "At6vh9xGzv0Q",
        "outputId": "75dee1d5-88da-4ab5-f649-758e68f0f7bf"
      },
      "outputs": [
        {
          "name": "stdout",
          "output_type": "stream",
          "text": [
            "Collecting catboost\n",
            "  Downloading catboost-1.0.3-cp37-none-manylinux1_x86_64.whl (76.3 MB)\n",
            "\u001b[K     |████████████████████████████████| 76.3 MB 44 kB/s \n",
            "\u001b[?25hRequirement already satisfied: matplotlib in /usr/local/lib/python3.7/dist-packages (from catboost) (3.2.2)\n",
            "Requirement already satisfied: plotly in /usr/local/lib/python3.7/dist-packages (from catboost) (4.4.1)\n",
            "Requirement already satisfied: graphviz in /usr/local/lib/python3.7/dist-packages (from catboost) (0.10.1)\n",
            "Requirement already satisfied: six in /usr/local/lib/python3.7/dist-packages (from catboost) (1.15.0)\n",
            "Requirement already satisfied: pandas>=0.24.0 in /usr/local/lib/python3.7/dist-packages (from catboost) (1.1.5)\n",
            "Requirement already satisfied: numpy>=1.16.0 in /usr/local/lib/python3.7/dist-packages (from catboost) (1.19.5)\n",
            "Requirement already satisfied: scipy in /usr/local/lib/python3.7/dist-packages (from catboost) (1.4.1)\n",
            "Requirement already satisfied: pytz>=2017.2 in /usr/local/lib/python3.7/dist-packages (from pandas>=0.24.0->catboost) (2018.9)\n",
            "Requirement already satisfied: python-dateutil>=2.7.3 in /usr/local/lib/python3.7/dist-packages (from pandas>=0.24.0->catboost) (2.8.2)\n",
            "Requirement already satisfied: pyparsing!=2.0.4,!=2.1.2,!=2.1.6,>=2.0.1 in /usr/local/lib/python3.7/dist-packages (from matplotlib->catboost) (3.0.6)\n",
            "Requirement already satisfied: cycler>=0.10 in /usr/local/lib/python3.7/dist-packages (from matplotlib->catboost) (0.11.0)\n",
            "Requirement already satisfied: kiwisolver>=1.0.1 in /usr/local/lib/python3.7/dist-packages (from matplotlib->catboost) (1.3.2)\n",
            "Requirement already satisfied: retrying>=1.3.3 in /usr/local/lib/python3.7/dist-packages (from plotly->catboost) (1.3.3)\n",
            "Installing collected packages: catboost\n",
            "Successfully installed catboost-1.0.3\n"
          ]
        }
      ],
      "source": [
        "! pip install catboost"
      ]
    },
    {
      "cell_type": "markdown",
      "metadata": {
        "id": "uHlMHFT48i-S"
      },
      "source": [
        "Импортируем необходимые для исследования библиотеки. Для построения моделей для поиска лучшего значения метрики f1 мы возьмем CATBoost, LGBMClassifier и LogisticRegression"
      ]
    },
    {
      "cell_type": "code",
      "execution_count": null,
      "metadata": {
        "colab": {
          "base_uri": "https://localhost:8080/"
        },
        "id": "nE3ngEaWYGFi",
        "outputId": "4e7c1cae-6d8f-400b-a246-17d0a8eda6e2"
      },
      "outputs": [
        {
          "name": "stdout",
          "output_type": "stream",
          "text": [
            "[nltk_data] Downloading package wordnet to /root/nltk_data...\n",
            "[nltk_data]   Unzipping corpora/wordnet.zip.\n",
            "[nltk_data] Downloading package stopwords to /root/nltk_data...\n",
            "[nltk_data]   Unzipping corpora/stopwords.zip.\n"
          ]
        }
      ],
      "source": [
        "import pandas as pd\n",
        "import numpy as np\n",
        "from tqdm import notebook\n",
        "from sklearn.model_selection import train_test_split\n",
        "from sklearn.model_selection import cross_val_score\n",
        "from sklearn.model_selection import GridSearchCV\n",
        "from sklearn.metrics import f1_score\n",
        "import matplotlib.pyplot as plt\n",
        "\n",
        "import nltk\n",
        "nltk.download('wordnet')\n",
        "nltk.download('stopwords')\n",
        "from nltk.corpus import stopwords as nltk_stopwords\n",
        "from nltk.stem import WordNetLemmatizer \n",
        "\n",
        "import torch\n",
        "import transformers\n",
        "import re\n",
        "from sklearn.feature_extraction.text import TfidfVectorizer\n",
        "from pymystem3 import Mystem\n",
        "\n",
        "from sklearn.linear_model import LogisticRegression\n",
        "from lightgbm import LGBMClassifier\n",
        "import lightgbm as lgb\n",
        "from catboost import CatBoostClassifier\n",
        "from catboost import cv\n",
        "import catboost as cb\n",
        "from sklearn.model_selection import GridSearchCV\n",
        "from catboost import Pool\n",
        "\n",
        "from tqdm import notebook \n",
        "from tqdm import tqdm\n",
        "\n",
        "import warnings\n",
        "warnings.filterwarnings('ignore')"
      ]
    },
    {
      "cell_type": "code",
      "execution_count": null,
      "metadata": {
        "colab": {
          "base_uri": "https://localhost:8080/"
        },
        "id": "7CTLhZH1cAOS",
        "outputId": "19fcc5d7-7468-4703-f7b9-327f2d5c5d56"
      },
      "outputs": [
        {
          "name": "stdout",
          "output_type": "stream",
          "text": [
            "Mounted at /content/gdrive\n"
          ]
        }
      ],
      "source": [
        "from google.colab import drive \n",
        "drive.mount('/content/gdrive')"
      ]
    },
    {
      "cell_type": "markdown",
      "metadata": {
        "id": "clU0B8aZ823e"
      },
      "source": [
        "Загрузим таблицу с комментариями, проверим количество строк и столбцов. При загрузке в колаб постоянно возникала ошибка, данные полностью не загружались, поэтому также прописал доп параметры."
      ]
    },
    {
      "cell_type": "code",
      "execution_count": null,
      "metadata": {
        "id": "PNbPwaL3cTkT"
      },
      "outputs": [],
      "source": [
        "df_tweets = pd.read_csv('/content/sample_data/toxic_comments.csv',\n",
        "                      error_bad_lines=False, engine=\"python\")"
      ]
    },
    {
      "cell_type": "markdown",
      "metadata": {
        "id": "DDOY9HbRGoYV"
      },
      "source": [
        "Также, как уже сказал, в первый раз использую Colab, поэтому не совсем понимаю, сможет ли проверяющий загрузить исходный файл toxic_comments, кроме того прописал предоставления доступа к гугл - диску.  "
      ]
    },
    {
      "cell_type": "code",
      "execution_count": null,
      "metadata": {
        "colab": {
          "base_uri": "https://localhost:8080/",
          "height": 519
        },
        "id": "yKPAo5S7YT4h",
        "outputId": "6ecaac45-d091-400b-f8b9-08757785eeca"
      },
      "outputs": [
        {
          "data": {
            "text/html": [
              "\n",
              "  <div id=\"df-ac51e478-5ba9-4cc8-8051-10d89b7a1201\">\n",
              "    <div class=\"colab-df-container\">\n",
              "      <div>\n",
              "<style scoped>\n",
              "    .dataframe tbody tr th:only-of-type {\n",
              "        vertical-align: middle;\n",
              "    }\n",
              "\n",
              "    .dataframe tbody tr th {\n",
              "        vertical-align: top;\n",
              "    }\n",
              "\n",
              "    .dataframe thead th {\n",
              "        text-align: right;\n",
              "    }\n",
              "</style>\n",
              "<table border=\"1\" class=\"dataframe\">\n",
              "  <thead>\n",
              "    <tr style=\"text-align: right;\">\n",
              "      <th></th>\n",
              "      <th>text</th>\n",
              "      <th>toxic</th>\n",
              "    </tr>\n",
              "  </thead>\n",
              "  <tbody>\n",
              "    <tr>\n",
              "      <th>0</th>\n",
              "      <td>Explanation\\nWhy the edits made under my usern...</td>\n",
              "      <td>0</td>\n",
              "    </tr>\n",
              "    <tr>\n",
              "      <th>1</th>\n",
              "      <td>D'aww! He matches this background colour I'm s...</td>\n",
              "      <td>0</td>\n",
              "    </tr>\n",
              "    <tr>\n",
              "      <th>2</th>\n",
              "      <td>Hey man, I'm really not trying to edit war. It...</td>\n",
              "      <td>0</td>\n",
              "    </tr>\n",
              "    <tr>\n",
              "      <th>3</th>\n",
              "      <td>\"\\nMore\\nI can't make any real suggestions on ...</td>\n",
              "      <td>0</td>\n",
              "    </tr>\n",
              "    <tr>\n",
              "      <th>4</th>\n",
              "      <td>You, sir, are my hero. Any chance you remember...</td>\n",
              "      <td>0</td>\n",
              "    </tr>\n",
              "    <tr>\n",
              "      <th>5</th>\n",
              "      <td>\"\\n\\nCongratulations from me as well, use the ...</td>\n",
              "      <td>0</td>\n",
              "    </tr>\n",
              "    <tr>\n",
              "      <th>6</th>\n",
              "      <td>COCKSUCKER BEFORE YOU PISS AROUND ON MY WORK</td>\n",
              "      <td>1</td>\n",
              "    </tr>\n",
              "    <tr>\n",
              "      <th>7</th>\n",
              "      <td>Your vandalism to the Matt Shirvington article...</td>\n",
              "      <td>0</td>\n",
              "    </tr>\n",
              "    <tr>\n",
              "      <th>8</th>\n",
              "      <td>Sorry if the word 'nonsense' was offensive to ...</td>\n",
              "      <td>0</td>\n",
              "    </tr>\n",
              "    <tr>\n",
              "      <th>9</th>\n",
              "      <td>alignment on this subject and which are contra...</td>\n",
              "      <td>0</td>\n",
              "    </tr>\n",
              "    <tr>\n",
              "      <th>10</th>\n",
              "      <td>\"\\nFair use rationale for Image:Wonju.jpg\\n\\nT...</td>\n",
              "      <td>0</td>\n",
              "    </tr>\n",
              "    <tr>\n",
              "      <th>11</th>\n",
              "      <td>bbq \\n\\nbe a man and lets discuss it-maybe ove...</td>\n",
              "      <td>0</td>\n",
              "    </tr>\n",
              "    <tr>\n",
              "      <th>12</th>\n",
              "      <td>Hey... what is it..\\n@ | talk .\\nWhat is it......</td>\n",
              "      <td>1</td>\n",
              "    </tr>\n",
              "    <tr>\n",
              "      <th>13</th>\n",
              "      <td>Before you start throwing accusations and warn...</td>\n",
              "      <td>0</td>\n",
              "    </tr>\n",
              "    <tr>\n",
              "      <th>14</th>\n",
              "      <td>Oh, and the girl above started her arguments w...</td>\n",
              "      <td>0</td>\n",
              "    </tr>\n",
              "  </tbody>\n",
              "</table>\n",
              "</div>\n",
              "      <button class=\"colab-df-convert\" onclick=\"convertToInteractive('df-ac51e478-5ba9-4cc8-8051-10d89b7a1201')\"\n",
              "              title=\"Convert this dataframe to an interactive table.\"\n",
              "              style=\"display:none;\">\n",
              "        \n",
              "  <svg xmlns=\"http://www.w3.org/2000/svg\" height=\"24px\"viewBox=\"0 0 24 24\"\n",
              "       width=\"24px\">\n",
              "    <path d=\"M0 0h24v24H0V0z\" fill=\"none\"/>\n",
              "    <path d=\"M18.56 5.44l.94 2.06.94-2.06 2.06-.94-2.06-.94-.94-2.06-.94 2.06-2.06.94zm-11 1L8.5 8.5l.94-2.06 2.06-.94-2.06-.94L8.5 2.5l-.94 2.06-2.06.94zm10 10l.94 2.06.94-2.06 2.06-.94-2.06-.94-.94-2.06-.94 2.06-2.06.94z\"/><path d=\"M17.41 7.96l-1.37-1.37c-.4-.4-.92-.59-1.43-.59-.52 0-1.04.2-1.43.59L10.3 9.45l-7.72 7.72c-.78.78-.78 2.05 0 2.83L4 21.41c.39.39.9.59 1.41.59.51 0 1.02-.2 1.41-.59l7.78-7.78 2.81-2.81c.8-.78.8-2.07 0-2.86zM5.41 20L4 18.59l7.72-7.72 1.47 1.35L5.41 20z\"/>\n",
              "  </svg>\n",
              "      </button>\n",
              "      \n",
              "  <style>\n",
              "    .colab-df-container {\n",
              "      display:flex;\n",
              "      flex-wrap:wrap;\n",
              "      gap: 12px;\n",
              "    }\n",
              "\n",
              "    .colab-df-convert {\n",
              "      background-color: #E8F0FE;\n",
              "      border: none;\n",
              "      border-radius: 50%;\n",
              "      cursor: pointer;\n",
              "      display: none;\n",
              "      fill: #1967D2;\n",
              "      height: 32px;\n",
              "      padding: 0 0 0 0;\n",
              "      width: 32px;\n",
              "    }\n",
              "\n",
              "    .colab-df-convert:hover {\n",
              "      background-color: #E2EBFA;\n",
              "      box-shadow: 0px 1px 2px rgba(60, 64, 67, 0.3), 0px 1px 3px 1px rgba(60, 64, 67, 0.15);\n",
              "      fill: #174EA6;\n",
              "    }\n",
              "\n",
              "    [theme=dark] .colab-df-convert {\n",
              "      background-color: #3B4455;\n",
              "      fill: #D2E3FC;\n",
              "    }\n",
              "\n",
              "    [theme=dark] .colab-df-convert:hover {\n",
              "      background-color: #434B5C;\n",
              "      box-shadow: 0px 1px 3px 1px rgba(0, 0, 0, 0.15);\n",
              "      filter: drop-shadow(0px 1px 2px rgba(0, 0, 0, 0.3));\n",
              "      fill: #FFFFFF;\n",
              "    }\n",
              "  </style>\n",
              "\n",
              "      <script>\n",
              "        const buttonEl =\n",
              "          document.querySelector('#df-ac51e478-5ba9-4cc8-8051-10d89b7a1201 button.colab-df-convert');\n",
              "        buttonEl.style.display =\n",
              "          google.colab.kernel.accessAllowed ? 'block' : 'none';\n",
              "\n",
              "        async function convertToInteractive(key) {\n",
              "          const element = document.querySelector('#df-ac51e478-5ba9-4cc8-8051-10d89b7a1201');\n",
              "          const dataTable =\n",
              "            await google.colab.kernel.invokeFunction('convertToInteractive',\n",
              "                                                     [key], {});\n",
              "          if (!dataTable) return;\n",
              "\n",
              "          const docLinkHtml = 'Like what you see? Visit the ' +\n",
              "            '<a target=\"_blank\" href=https://colab.research.google.com/notebooks/data_table.ipynb>data table notebook</a>'\n",
              "            + ' to learn more about interactive tables.';\n",
              "          element.innerHTML = '';\n",
              "          dataTable['output_type'] = 'display_data';\n",
              "          await google.colab.output.renderOutput(dataTable, element);\n",
              "          const docLink = document.createElement('div');\n",
              "          docLink.innerHTML = docLinkHtml;\n",
              "          element.appendChild(docLink);\n",
              "        }\n",
              "      </script>\n",
              "    </div>\n",
              "  </div>\n",
              "  "
            ],
            "text/plain": [
              "                                                 text  toxic\n",
              "0   Explanation\\nWhy the edits made under my usern...      0\n",
              "1   D'aww! He matches this background colour I'm s...      0\n",
              "2   Hey man, I'm really not trying to edit war. It...      0\n",
              "3   \"\\nMore\\nI can't make any real suggestions on ...      0\n",
              "4   You, sir, are my hero. Any chance you remember...      0\n",
              "5   \"\\n\\nCongratulations from me as well, use the ...      0\n",
              "6        COCKSUCKER BEFORE YOU PISS AROUND ON MY WORK      1\n",
              "7   Your vandalism to the Matt Shirvington article...      0\n",
              "8   Sorry if the word 'nonsense' was offensive to ...      0\n",
              "9   alignment on this subject and which are contra...      0\n",
              "10  \"\\nFair use rationale for Image:Wonju.jpg\\n\\nT...      0\n",
              "11  bbq \\n\\nbe a man and lets discuss it-maybe ove...      0\n",
              "12  Hey... what is it..\\n@ | talk .\\nWhat is it......      1\n",
              "13  Before you start throwing accusations and warn...      0\n",
              "14  Oh, and the girl above started her arguments w...      0"
            ]
          },
          "execution_count": 6,
          "metadata": {},
          "output_type": "execute_result"
        }
      ],
      "source": [
        "df_tweets.head(15)"
      ]
    },
    {
      "cell_type": "code",
      "execution_count": null,
      "metadata": {
        "colab": {
          "base_uri": "https://localhost:8080/"
        },
        "id": "DtaO3TJvcheJ",
        "outputId": "fdbb2728-a54f-4bcc-9956-c3ad125b7165"
      },
      "outputs": [
        {
          "name": "stdout",
          "output_type": "stream",
          "text": [
            "<class 'pandas.core.frame.DataFrame'>\n",
            "RangeIndex: 159571 entries, 0 to 159570\n",
            "Data columns (total 2 columns):\n",
            " #   Column  Non-Null Count   Dtype \n",
            "---  ------  --------------   ----- \n",
            " 0   text    159571 non-null  object\n",
            " 1   toxic   159571 non-null  int64 \n",
            "dtypes: int64(1), object(1)\n",
            "memory usage: 2.4+ MB\n"
          ]
        }
      ],
      "source": [
        "df_tweets.info()"
      ]
    },
    {
      "cell_type": "markdown",
      "metadata": {
        "id": "g4vLZUwAStEb"
      },
      "source": [
        "Нам будет необходимо перекодировать текст "
      ]
    },
    {
      "cell_type": "markdown",
      "metadata": {
        "id": "xzblZBjY9T8T"
      },
      "source": [
        "Рассмотрим процесс \"очистки\" на примере одного случайного предложения. Для этого воспользуемся модулем re, обозначим символы(буквы), которые мы оставим."
      ]
    },
    {
      "cell_type": "code",
      "execution_count": null,
      "metadata": {
        "id": "2gO9CGMrJbnJ"
      },
      "outputs": [],
      "source": [
        "df_tweets['text'] = df_tweets['text'].str.lower()"
      ]
    },
    {
      "cell_type": "code",
      "execution_count": null,
      "metadata": {
        "colab": {
          "base_uri": "https://localhost:8080/",
          "height": 35
        },
        "id": "-4KLu6qOdNSD",
        "outputId": "8e433ae6-c2b2-4f37-d5ae-087ae9c51d16"
      },
      "outputs": [
        {
          "data": {
            "application/vnd.google.colaboratory.intrinsic+json": {
              "type": "string"
            },
            "text/plain": [
              "'bbq \\n\\nbe a man and lets discuss it-maybe over the phone?'"
            ]
          },
          "execution_count": 9,
          "metadata": {},
          "output_type": "execute_result"
        }
      ],
      "source": [
        "df_tweets['text'][11]"
      ]
    },
    {
      "cell_type": "code",
      "execution_count": null,
      "metadata": {
        "colab": {
          "base_uri": "https://localhost:8080/",
          "height": 35
        },
        "id": "I42eiql0dTaA",
        "outputId": "2a51b8a5-0415-40d9-b13f-c62b48bd84a9"
      },
      "outputs": [
        {
          "data": {
            "application/vnd.google.colaboratory.intrinsic+json": {
              "type": "string"
            },
            "text/plain": [
              "'bbq   be a man and lets discuss it maybe over the phone '"
            ]
          },
          "execution_count": 10,
          "metadata": {},
          "output_type": "execute_result"
        }
      ],
      "source": [
        "re.sub(r\"[^a-zA-Z]\",' ', df_tweets['text'][11])"
      ]
    },
    {
      "cell_type": "markdown",
      "metadata": {
        "id": "HgbW8IvdS6EN"
      },
      "source": [
        "Создадим корпус постов. Преобразуем столбец text в список текстов. Переведём тексты в стандартный для Python формат: кодировку Unicode. Выведем случайную строку"
      ]
    },
    {
      "cell_type": "code",
      "execution_count": null,
      "metadata": {
        "colab": {
          "base_uri": "https://localhost:8080/"
        },
        "id": "3JUNFXGHdUBv",
        "outputId": "77c4510d-da7f-49a7-e5a4-2687985f1bd1"
      },
      "outputs": [
        {
          "name": "stdout",
          "output_type": "stream",
          "text": [
            "bbq \n",
            "\n",
            "be a man and lets discuss it-maybe over the phone?\n"
          ]
        }
      ],
      "source": [
        "corpus = df_tweets['text'].values.astype('U')\n",
        "print(corpus[11])"
      ]
    },
    {
      "cell_type": "markdown",
      "metadata": {
        "id": "LBoT4jYmTF0T"
      },
      "source": [
        "Очистим текст от лишних символов при помощи регулярных выражений. Для этого воспользуемся модулем **re**. Создадим функцию, которая очистит наш текст от лишних символов. В нее также пропишем функции join() и split() для устранения пробелов.\n",
        "В первую очередь проеведем процесс лемматизации, для этого воспользуемся **\"Wordnet\"**  *(большая, свободно распространяемая и общедоступная лексическая база данных для английского языка с целью установления структурированных семантических отношений между словами)*"
      ]
    },
    {
      "cell_type": "code",
      "execution_count": null,
      "metadata": {
        "id": "v8XnS_6ig2Cy"
      },
      "outputs": [],
      "source": [
        "wnl = WordNetLemmatizer()"
      ]
    },
    {
      "cell_type": "code",
      "execution_count": null,
      "metadata": {
        "id": "NPGunWLTgswW"
      },
      "outputs": [],
      "source": [
        "def text_clear(text):\n",
        "    pattern = re.sub(r'[^a-zA-Z]', ' ', text)\n",
        "    clear = pattern.split()\n",
        "    lemm = []\n",
        "    for i in range(len(clear)):\n",
        "        lemm.append(wnl.lemmatize(clear[i]))\n",
        "    return \" \".join(lemm)"
      ]
    },
    {
      "cell_type": "markdown",
      "metadata": {
        "id": "qxTueQLYU7sc"
      },
      "source": [
        "Выполним функции на \"мешке\" наших текстов. Так как количество строк большое, попробовал вставить функцию процессинга."
      ]
    },
    {
      "cell_type": "code",
      "execution_count": null,
      "metadata": {
        "colab": {
          "base_uri": "https://localhost:8080/"
        },
        "id": "ESQE8x08enu_",
        "outputId": "c7ccf3a6-e008-4f9a-8593-2f9f87a818c9"
      },
      "outputs": [
        {
          "name": "stderr",
          "output_type": "stream",
          "text": [
            "100%|██████████| 159571/159571 [01:03<00:00, 2515.12it/s]"
          ]
        },
        {
          "name": "stdout",
          "output_type": "stream",
          "text": [
            "CPU times: user 1min 2s, sys: 505 ms, total: 1min 2s\n",
            "Wall time: 1min 3s\n"
          ]
        },
        {
          "name": "stderr",
          "output_type": "stream",
          "text": [
            "\n"
          ]
        }
      ],
      "source": [
        "%%time\n",
        "for i in tqdm(range(len(corpus))):\n",
        "    corpus[i] = text_clear(corpus[i])"
      ]
    },
    {
      "cell_type": "markdown",
      "metadata": {
        "id": "r-18aMYDVTkj"
      },
      "source": [
        "Объединим нашу исходную таблицу и обновлненный текст, колонку со \"старым\" удалим."
      ]
    },
    {
      "cell_type": "code",
      "execution_count": null,
      "metadata": {
        "colab": {
          "base_uri": "https://localhost:8080/",
          "height": 424
        },
        "id": "kaOU7mEJhHWe",
        "outputId": "87c52f0d-1381-4a58-f161-21d0c8582555"
      },
      "outputs": [
        {
          "data": {
            "text/html": [
              "\n",
              "  <div id=\"df-9e9a22c1-d2d5-474d-b637-dc347c27f743\">\n",
              "    <div class=\"colab-df-container\">\n",
              "      <div>\n",
              "<style scoped>\n",
              "    .dataframe tbody tr th:only-of-type {\n",
              "        vertical-align: middle;\n",
              "    }\n",
              "\n",
              "    .dataframe tbody tr th {\n",
              "        vertical-align: top;\n",
              "    }\n",
              "\n",
              "    .dataframe thead th {\n",
              "        text-align: right;\n",
              "    }\n",
              "</style>\n",
              "<table border=\"1\" class=\"dataframe\">\n",
              "  <thead>\n",
              "    <tr style=\"text-align: right;\">\n",
              "      <th></th>\n",
              "      <th>toxic</th>\n",
              "      <th>lemm_text</th>\n",
              "    </tr>\n",
              "  </thead>\n",
              "  <tbody>\n",
              "    <tr>\n",
              "      <th>0</th>\n",
              "      <td>0</td>\n",
              "      <td>explanation why the edits made under my userna...</td>\n",
              "    </tr>\n",
              "    <tr>\n",
              "      <th>1</th>\n",
              "      <td>0</td>\n",
              "      <td>d aww he match this background colour i m seem...</td>\n",
              "    </tr>\n",
              "    <tr>\n",
              "      <th>2</th>\n",
              "      <td>0</td>\n",
              "      <td>hey man i m really not trying to edit war it s...</td>\n",
              "    </tr>\n",
              "    <tr>\n",
              "      <th>3</th>\n",
              "      <td>0</td>\n",
              "      <td>more i can t make any real suggestion on impro...</td>\n",
              "    </tr>\n",
              "    <tr>\n",
              "      <th>4</th>\n",
              "      <td>0</td>\n",
              "      <td>you sir are my hero any chance you remember wh...</td>\n",
              "    </tr>\n",
              "    <tr>\n",
              "      <th>...</th>\n",
              "      <td>...</td>\n",
              "      <td>...</td>\n",
              "    </tr>\n",
              "    <tr>\n",
              "      <th>159566</th>\n",
              "      <td>0</td>\n",
              "      <td>and for the second time of asking when your vi...</td>\n",
              "    </tr>\n",
              "    <tr>\n",
              "      <th>159567</th>\n",
              "      <td>0</td>\n",
              "      <td>you should be ashamed of yourself that is a ho...</td>\n",
              "    </tr>\n",
              "    <tr>\n",
              "      <th>159568</th>\n",
              "      <td>0</td>\n",
              "      <td>spitzer umm there no actual article for prosti...</td>\n",
              "    </tr>\n",
              "    <tr>\n",
              "      <th>159569</th>\n",
              "      <td>0</td>\n",
              "      <td>and it look like it wa actually you who put on...</td>\n",
              "    </tr>\n",
              "    <tr>\n",
              "      <th>159570</th>\n",
              "      <td>0</td>\n",
              "      <td>and i really don t think you understand i came...</td>\n",
              "    </tr>\n",
              "  </tbody>\n",
              "</table>\n",
              "<p>159571 rows × 2 columns</p>\n",
              "</div>\n",
              "      <button class=\"colab-df-convert\" onclick=\"convertToInteractive('df-9e9a22c1-d2d5-474d-b637-dc347c27f743')\"\n",
              "              title=\"Convert this dataframe to an interactive table.\"\n",
              "              style=\"display:none;\">\n",
              "        \n",
              "  <svg xmlns=\"http://www.w3.org/2000/svg\" height=\"24px\"viewBox=\"0 0 24 24\"\n",
              "       width=\"24px\">\n",
              "    <path d=\"M0 0h24v24H0V0z\" fill=\"none\"/>\n",
              "    <path d=\"M18.56 5.44l.94 2.06.94-2.06 2.06-.94-2.06-.94-.94-2.06-.94 2.06-2.06.94zm-11 1L8.5 8.5l.94-2.06 2.06-.94-2.06-.94L8.5 2.5l-.94 2.06-2.06.94zm10 10l.94 2.06.94-2.06 2.06-.94-2.06-.94-.94-2.06-.94 2.06-2.06.94z\"/><path d=\"M17.41 7.96l-1.37-1.37c-.4-.4-.92-.59-1.43-.59-.52 0-1.04.2-1.43.59L10.3 9.45l-7.72 7.72c-.78.78-.78 2.05 0 2.83L4 21.41c.39.39.9.59 1.41.59.51 0 1.02-.2 1.41-.59l7.78-7.78 2.81-2.81c.8-.78.8-2.07 0-2.86zM5.41 20L4 18.59l7.72-7.72 1.47 1.35L5.41 20z\"/>\n",
              "  </svg>\n",
              "      </button>\n",
              "      \n",
              "  <style>\n",
              "    .colab-df-container {\n",
              "      display:flex;\n",
              "      flex-wrap:wrap;\n",
              "      gap: 12px;\n",
              "    }\n",
              "\n",
              "    .colab-df-convert {\n",
              "      background-color: #E8F0FE;\n",
              "      border: none;\n",
              "      border-radius: 50%;\n",
              "      cursor: pointer;\n",
              "      display: none;\n",
              "      fill: #1967D2;\n",
              "      height: 32px;\n",
              "      padding: 0 0 0 0;\n",
              "      width: 32px;\n",
              "    }\n",
              "\n",
              "    .colab-df-convert:hover {\n",
              "      background-color: #E2EBFA;\n",
              "      box-shadow: 0px 1px 2px rgba(60, 64, 67, 0.3), 0px 1px 3px 1px rgba(60, 64, 67, 0.15);\n",
              "      fill: #174EA6;\n",
              "    }\n",
              "\n",
              "    [theme=dark] .colab-df-convert {\n",
              "      background-color: #3B4455;\n",
              "      fill: #D2E3FC;\n",
              "    }\n",
              "\n",
              "    [theme=dark] .colab-df-convert:hover {\n",
              "      background-color: #434B5C;\n",
              "      box-shadow: 0px 1px 3px 1px rgba(0, 0, 0, 0.15);\n",
              "      filter: drop-shadow(0px 1px 2px rgba(0, 0, 0, 0.3));\n",
              "      fill: #FFFFFF;\n",
              "    }\n",
              "  </style>\n",
              "\n",
              "      <script>\n",
              "        const buttonEl =\n",
              "          document.querySelector('#df-9e9a22c1-d2d5-474d-b637-dc347c27f743 button.colab-df-convert');\n",
              "        buttonEl.style.display =\n",
              "          google.colab.kernel.accessAllowed ? 'block' : 'none';\n",
              "\n",
              "        async function convertToInteractive(key) {\n",
              "          const element = document.querySelector('#df-9e9a22c1-d2d5-474d-b637-dc347c27f743');\n",
              "          const dataTable =\n",
              "            await google.colab.kernel.invokeFunction('convertToInteractive',\n",
              "                                                     [key], {});\n",
              "          if (!dataTable) return;\n",
              "\n",
              "          const docLinkHtml = 'Like what you see? Visit the ' +\n",
              "            '<a target=\"_blank\" href=https://colab.research.google.com/notebooks/data_table.ipynb>data table notebook</a>'\n",
              "            + ' to learn more about interactive tables.';\n",
              "          element.innerHTML = '';\n",
              "          dataTable['output_type'] = 'display_data';\n",
              "          await google.colab.output.renderOutput(dataTable, element);\n",
              "          const docLink = document.createElement('div');\n",
              "          docLink.innerHTML = docLinkHtml;\n",
              "          element.appendChild(docLink);\n",
              "        }\n",
              "      </script>\n",
              "    </div>\n",
              "  </div>\n",
              "  "
            ],
            "text/plain": [
              "        toxic                                          lemm_text\n",
              "0           0  explanation why the edits made under my userna...\n",
              "1           0  d aww he match this background colour i m seem...\n",
              "2           0  hey man i m really not trying to edit war it s...\n",
              "3           0  more i can t make any real suggestion on impro...\n",
              "4           0  you sir are my hero any chance you remember wh...\n",
              "...       ...                                                ...\n",
              "159566      0  and for the second time of asking when your vi...\n",
              "159567      0  you should be ashamed of yourself that is a ho...\n",
              "159568      0  spitzer umm there no actual article for prosti...\n",
              "159569      0  and it look like it wa actually you who put on...\n",
              "159570      0  and i really don t think you understand i came...\n",
              "\n",
              "[159571 rows x 2 columns]"
            ]
          },
          "execution_count": 15,
          "metadata": {},
          "output_type": "execute_result"
        }
      ],
      "source": [
        "df_corpus = pd.DataFrame(corpus)\n",
        "df_tweets['lemm_text'] = df_corpus[0]\n",
        "df_tweets.drop('text', axis=1, inplace=True)\n",
        "df_tweets"
      ]
    },
    {
      "cell_type": "markdown",
      "metadata": {
        "id": "_bwvm-zIyX-R"
      },
      "source": [
        "### Вывод по первой главе "
      ]
    },
    {
      "cell_type": "markdown",
      "metadata": {
        "id": "XjL96v2PydwR"
      },
      "source": [
        "В данном разделе мы загрузили данные, посмотрели на таблицу. Она состоит из двух столбцов, пропусков в таблице нет. Рассмотрели на конкретном примере одного комментария, как работает очистка текста. После этого \"очистили\" текст при помощи создания функции. Новый столбец объединим с исходной таблицей, оставим столбец \"Toxic\" "
      ]
    },
    {
      "cell_type": "markdown",
      "metadata": {
        "id": "Ec1AWrwzyvOW"
      },
      "source": [
        "## 2. Обучение"
      ]
    },
    {
      "cell_type": "code",
      "execution_count": null,
      "metadata": {
        "colab": {
          "base_uri": "https://localhost:8080/",
          "height": 363
        },
        "id": "5mOcPGNKlbD9",
        "outputId": "3ec80f71-c903-4082-d392-9244fa2764d3"
      },
      "outputs": [
        {
          "data": {
            "text/html": [
              "\n",
              "  <div id=\"df-4f2f3fcd-c48b-4a43-a9ac-e60b140cd499\">\n",
              "    <div class=\"colab-df-container\">\n",
              "      <div>\n",
              "<style scoped>\n",
              "    .dataframe tbody tr th:only-of-type {\n",
              "        vertical-align: middle;\n",
              "    }\n",
              "\n",
              "    .dataframe tbody tr th {\n",
              "        vertical-align: top;\n",
              "    }\n",
              "\n",
              "    .dataframe thead th {\n",
              "        text-align: right;\n",
              "    }\n",
              "</style>\n",
              "<table border=\"1\" class=\"dataframe\">\n",
              "  <thead>\n",
              "    <tr style=\"text-align: right;\">\n",
              "      <th></th>\n",
              "      <th>toxic</th>\n",
              "      <th>lemm_text</th>\n",
              "    </tr>\n",
              "  </thead>\n",
              "  <tbody>\n",
              "    <tr>\n",
              "      <th>0</th>\n",
              "      <td>0</td>\n",
              "      <td>explanation why the edits made under my userna...</td>\n",
              "    </tr>\n",
              "    <tr>\n",
              "      <th>1</th>\n",
              "      <td>0</td>\n",
              "      <td>d aww he match this background colour i m seem...</td>\n",
              "    </tr>\n",
              "    <tr>\n",
              "      <th>2</th>\n",
              "      <td>0</td>\n",
              "      <td>hey man i m really not trying to edit war it s...</td>\n",
              "    </tr>\n",
              "    <tr>\n",
              "      <th>3</th>\n",
              "      <td>0</td>\n",
              "      <td>more i can t make any real suggestion on impro...</td>\n",
              "    </tr>\n",
              "    <tr>\n",
              "      <th>4</th>\n",
              "      <td>0</td>\n",
              "      <td>you sir are my hero any chance you remember wh...</td>\n",
              "    </tr>\n",
              "    <tr>\n",
              "      <th>5</th>\n",
              "      <td>0</td>\n",
              "      <td>congratulation from me a well use the tool wel...</td>\n",
              "    </tr>\n",
              "    <tr>\n",
              "      <th>6</th>\n",
              "      <td>1</td>\n",
              "      <td>cocksucker before you piss around on my work</td>\n",
              "    </tr>\n",
              "    <tr>\n",
              "      <th>7</th>\n",
              "      <td>0</td>\n",
              "      <td>your vandalism to the matt shirvington article...</td>\n",
              "    </tr>\n",
              "    <tr>\n",
              "      <th>8</th>\n",
              "      <td>0</td>\n",
              "      <td>sorry if the word nonsense wa offensive to you...</td>\n",
              "    </tr>\n",
              "    <tr>\n",
              "      <th>9</th>\n",
              "      <td>0</td>\n",
              "      <td>alignment on this subject and which are contra...</td>\n",
              "    </tr>\n",
              "  </tbody>\n",
              "</table>\n",
              "</div>\n",
              "      <button class=\"colab-df-convert\" onclick=\"convertToInteractive('df-4f2f3fcd-c48b-4a43-a9ac-e60b140cd499')\"\n",
              "              title=\"Convert this dataframe to an interactive table.\"\n",
              "              style=\"display:none;\">\n",
              "        \n",
              "  <svg xmlns=\"http://www.w3.org/2000/svg\" height=\"24px\"viewBox=\"0 0 24 24\"\n",
              "       width=\"24px\">\n",
              "    <path d=\"M0 0h24v24H0V0z\" fill=\"none\"/>\n",
              "    <path d=\"M18.56 5.44l.94 2.06.94-2.06 2.06-.94-2.06-.94-.94-2.06-.94 2.06-2.06.94zm-11 1L8.5 8.5l.94-2.06 2.06-.94-2.06-.94L8.5 2.5l-.94 2.06-2.06.94zm10 10l.94 2.06.94-2.06 2.06-.94-2.06-.94-.94-2.06-.94 2.06-2.06.94z\"/><path d=\"M17.41 7.96l-1.37-1.37c-.4-.4-.92-.59-1.43-.59-.52 0-1.04.2-1.43.59L10.3 9.45l-7.72 7.72c-.78.78-.78 2.05 0 2.83L4 21.41c.39.39.9.59 1.41.59.51 0 1.02-.2 1.41-.59l7.78-7.78 2.81-2.81c.8-.78.8-2.07 0-2.86zM5.41 20L4 18.59l7.72-7.72 1.47 1.35L5.41 20z\"/>\n",
              "  </svg>\n",
              "      </button>\n",
              "      \n",
              "  <style>\n",
              "    .colab-df-container {\n",
              "      display:flex;\n",
              "      flex-wrap:wrap;\n",
              "      gap: 12px;\n",
              "    }\n",
              "\n",
              "    .colab-df-convert {\n",
              "      background-color: #E8F0FE;\n",
              "      border: none;\n",
              "      border-radius: 50%;\n",
              "      cursor: pointer;\n",
              "      display: none;\n",
              "      fill: #1967D2;\n",
              "      height: 32px;\n",
              "      padding: 0 0 0 0;\n",
              "      width: 32px;\n",
              "    }\n",
              "\n",
              "    .colab-df-convert:hover {\n",
              "      background-color: #E2EBFA;\n",
              "      box-shadow: 0px 1px 2px rgba(60, 64, 67, 0.3), 0px 1px 3px 1px rgba(60, 64, 67, 0.15);\n",
              "      fill: #174EA6;\n",
              "    }\n",
              "\n",
              "    [theme=dark] .colab-df-convert {\n",
              "      background-color: #3B4455;\n",
              "      fill: #D2E3FC;\n",
              "    }\n",
              "\n",
              "    [theme=dark] .colab-df-convert:hover {\n",
              "      background-color: #434B5C;\n",
              "      box-shadow: 0px 1px 3px 1px rgba(0, 0, 0, 0.15);\n",
              "      filter: drop-shadow(0px 1px 2px rgba(0, 0, 0, 0.3));\n",
              "      fill: #FFFFFF;\n",
              "    }\n",
              "  </style>\n",
              "\n",
              "      <script>\n",
              "        const buttonEl =\n",
              "          document.querySelector('#df-4f2f3fcd-c48b-4a43-a9ac-e60b140cd499 button.colab-df-convert');\n",
              "        buttonEl.style.display =\n",
              "          google.colab.kernel.accessAllowed ? 'block' : 'none';\n",
              "\n",
              "        async function convertToInteractive(key) {\n",
              "          const element = document.querySelector('#df-4f2f3fcd-c48b-4a43-a9ac-e60b140cd499');\n",
              "          const dataTable =\n",
              "            await google.colab.kernel.invokeFunction('convertToInteractive',\n",
              "                                                     [key], {});\n",
              "          if (!dataTable) return;\n",
              "\n",
              "          const docLinkHtml = 'Like what you see? Visit the ' +\n",
              "            '<a target=\"_blank\" href=https://colab.research.google.com/notebooks/data_table.ipynb>data table notebook</a>'\n",
              "            + ' to learn more about interactive tables.';\n",
              "          element.innerHTML = '';\n",
              "          dataTable['output_type'] = 'display_data';\n",
              "          await google.colab.output.renderOutput(dataTable, element);\n",
              "          const docLink = document.createElement('div');\n",
              "          docLink.innerHTML = docLinkHtml;\n",
              "          element.appendChild(docLink);\n",
              "        }\n",
              "      </script>\n",
              "    </div>\n",
              "  </div>\n",
              "  "
            ],
            "text/plain": [
              "   toxic                                          lemm_text\n",
              "0      0  explanation why the edits made under my userna...\n",
              "1      0  d aww he match this background colour i m seem...\n",
              "2      0  hey man i m really not trying to edit war it s...\n",
              "3      0  more i can t make any real suggestion on impro...\n",
              "4      0  you sir are my hero any chance you remember wh...\n",
              "5      0  congratulation from me a well use the tool wel...\n",
              "6      1       cocksucker before you piss around on my work\n",
              "7      0  your vandalism to the matt shirvington article...\n",
              "8      0  sorry if the word nonsense wa offensive to you...\n",
              "9      0  alignment on this subject and which are contra..."
            ]
          },
          "metadata": {},
          "output_type": "display_data"
        }
      ],
      "source": [
        "display(df_tweets.head(10))"
      ]
    },
    {
      "cell_type": "markdown",
      "metadata": {
        "id": "eYSrFKXo9rcC"
      },
      "source": [
        "Вызовем функцию stopwords.words(), передадим ей аргумент 'english', то есть англоязычные стоп-слова:"
      ]
    },
    {
      "cell_type": "code",
      "execution_count": null,
      "metadata": {
        "id": "REdo5ZNXPEaz"
      },
      "outputs": [],
      "source": [
        "stopwords = set(nltk_stopwords.words('english'))\n",
        "count_tf_idf = TfidfVectorizer(stop_words = stopwords)"
      ]
    },
    {
      "cell_type": "markdown",
      "metadata": {
        "id": "7Omo5ioT_0Y6"
      },
      "source": [
        "Разобем данные на таргет и признаки. Целевым признаком в нашем случае является столбец \"toxic\".Разделим данные на обучющую и тестовую выборку, но до этого проведем векторизацию текста в features. Создадим счётчик, указав в нём стоп-слова(TfidfVectorizer).\n",
        "\n",
        "Причина по которой провел векторизацию текста до разделения на обучающую и тестовую: после векторизации в тестовой и обучающей части признаков создавались матрицы различных масштабов, к сожалению, причину этого так и не смог определить и исправить"
      ]
    },
    {
      "cell_type": "code",
      "execution_count": null,
      "metadata": {
        "id": "-v3DIf6LijWX"
      },
      "outputs": [],
      "source": [
        "features = df_tweets['lemm_text']\n",
        "target = df_tweets['toxic']\n",
        "random_state = 17\n",
        "features_train_old, features_test_old, target_train, target_test = train_test_split(\n",
        "  features, target, test_size=0.25, random_state=random_state, stratify = target)"
      ]
    },
    {
      "cell_type": "code",
      "execution_count": null,
      "metadata": {
        "id": "DlwVX4-y8bus"
      },
      "outputs": [],
      "source": [
        "features_train = count_tf_idf.fit_transform(features_train_old)\n",
        "features_test = count_tf_idf.transform(features_test_old)"
      ]
    },
    {
      "cell_type": "markdown",
      "metadata": {
        "id": "8HMv895dAw_D"
      },
      "source": [
        "Проверим размеры выборок "
      ]
    },
    {
      "cell_type": "code",
      "execution_count": null,
      "metadata": {
        "colab": {
          "base_uri": "https://localhost:8080/"
        },
        "id": "r-qbdTiCmVsA",
        "outputId": "cf0fb364-22b9-4310-812e-33c57ee653a7"
      },
      "outputs": [
        {
          "name": "stdout",
          "output_type": "stream",
          "text": [
            "Размер обучающей выборки признаков, матрица : (119678, 133719)\n",
            "Размер тестовой выборки признаков, матрица : (39893, 133719)\n",
            "Размер обучающей выборки целевого признака 119678\n",
            "Размер тестовой выборки целевого признака 39893\n"
          ]
        }
      ],
      "source": [
        "print('Размер обучающей выборки признаков, матрица :', features_train.shape)\n",
        "print('Размер тестовой выборки признаков, матрица :', features_test.shape)\n",
        "print('Размер обучающей выборки целевого признака', target_train.shape[0])\n",
        "print('Размер тестовой выборки целевого признака',target_test.shape[0])"
      ]
    },
    {
      "cell_type": "markdown",
      "metadata": {
        "id": "0JlyMcKHA__-"
      },
      "source": [
        "### 2.1 Логистическая регрессия"
      ]
    },
    {
      "cell_type": "markdown",
      "metadata": {
        "id": "W-UYrvM_BErS"
      },
      "source": [
        "Первая модель, которую мы обучим, будет логистическая регрессия. Для начала воспользуемся GridSearch для поиска лучших параметров. Скорингом будет метрика f1. Также проверим, сколько времени потребуетсчя для поиска параметров"
      ]
    },
    {
      "cell_type": "code",
      "execution_count": null,
      "metadata": {
        "colab": {
          "base_uri": "https://localhost:8080/"
        },
        "id": "0bLDvR7ZYVlw",
        "outputId": "89d72c51-87b6-47b4-e337-76d3e62a882e"
      },
      "outputs": [
        {
          "name": "stdout",
          "output_type": "stream",
          "text": [
            "CPU times: user 548 µs, sys: 0 ns, total: 548 µs\n",
            "Wall time: 558 µs\n"
          ]
        }
      ],
      "source": [
        "%%time\n",
        "regression = LogisticRegression(fit_intercept=True, \n",
        "                                random_state = random_state,\n",
        "                                solver='liblinear',\n",
        "                                n_jobs = -1\n",
        "                               )\n",
        "regression_parametrs = {'C': [0.1, 1, 10], 'class_weight': ['balanced', 'auto']}\n",
        "regression_grid = GridSearchCV(\n",
        "    regression, regression_parametrs, scoring='f1', cv=3)"
      ]
    },
    {
      "cell_type": "code",
      "execution_count": null,
      "metadata": {
        "colab": {
          "base_uri": "https://localhost:8080/"
        },
        "id": "2FqyJLDGep8d",
        "outputId": "821bb972-3913-461c-bd4a-a270b0379477"
      },
      "outputs": [
        {
          "name": "stdout",
          "output_type": "stream",
          "text": [
            "Лучшие параметры для логистической регрессии: {'C': 10, 'class_weight': 'balanced'}\n",
            "CPU times: user 37.1 s, sys: 25.2 s, total: 1min 2s\n",
            "Wall time: 33.4 s\n"
          ]
        }
      ],
      "source": [
        "%%time\n",
        "regression_grid.fit(features_train, target_train)\n",
        "regression_model = regression_grid.best_estimator_\n",
        "regression_model_predictions = regression_model.predict(features_test)\n",
        "regression_params = regression_grid.best_params_\n",
        "print('Лучшие параметры для логистической регрессии:', regression_params)"
      ]
    },
    {
      "cell_type": "code",
      "execution_count": null,
      "metadata": {
        "colab": {
          "base_uri": "https://localhost:8080/"
        },
        "id": "GbslW941L40L",
        "outputId": "b4420e6a-fdee-4171-925b-c47d9077ca78"
      },
      "outputs": [
        {
          "name": "stdout",
          "output_type": "stream",
          "text": [
            "0.762\n"
          ]
        }
      ],
      "source": [
        "regression_f1 = round(f1_score(target_test, regression_model_predictions), 3) \n",
        "print(regression_f1)"
      ]
    },
    {
      "cell_type": "markdown",
      "metadata": {
        "id": "NvKI7t5sFWbz"
      },
      "source": [
        "Мы определили параметры для обучения, обучаем нашу модель и смотрим какое значение f1 мы получим"
      ]
    },
    {
      "cell_type": "markdown",
      "metadata": {
        "id": "ROdfblwUFnMF"
      },
      "source": [
        "В целом Регрессия хорошо справилась с задачей показав результат лучше, чем нам определено в задаче, для нахождения параметров, обучения и предсказания потребовалось меньше минуты."
      ]
    },
    {
      "cell_type": "markdown",
      "metadata": {
        "id": "TGAWwToTF4Xs"
      },
      "source": [
        "### 2.2 Light Gradient Boosted Machine"
      ]
    },
    {
      "cell_type": "markdown",
      "metadata": {
        "id": "g5Gvs8mcF8cp"
      },
      "source": [
        "Следующую модель, которую мы используем будем LGBMClassifier.Проведем те же самые действия: поиск лучших параметров, обучение, предсказание и определения метрики f1. Здесь в качестве параметров будем искать глубину и \"количество листьев\""
      ]
    },
    {
      "cell_type": "code",
      "execution_count": null,
      "metadata": {
        "colab": {
          "base_uri": "https://localhost:8080/"
        },
        "id": "AwmvnD9Fe-Gs",
        "outputId": "20c1b8d1-3884-4f65-855e-165bbe1b3bd4"
      },
      "outputs": [
        {
          "name": "stdout",
          "output_type": "stream",
          "text": [
            "Fitting 3 folds for each of 4 candidates, totalling 12 fits\n",
            "CPU times: user 8min 31s, sys: 1.62 s, total: 8min 32s\n",
            "Wall time: 8min 33s\n"
          ]
        }
      ],
      "source": [
        "%%time\n",
        "warnings.simplefilter(action = 'ignore', category = FutureWarning)\n",
        "modelLight1 = LGBMClassifier(\n",
        "    loss_function='f1', n_jobs = -1, random_state = random_state\n",
        "    )\n",
        "parameters_light = {'depth':[6,8], 'learning_rate':[0.2], 'num_leaves':[10,20]}\n",
        "light = GridSearchCV(modelLight1, parameters_light,\n",
        "            cv = 3,\n",
        "            verbose = True)\n",
        "light.fit(features_train, target_train)"
      ]
    },
    {
      "cell_type": "markdown",
      "metadata": {
        "id": "7hlpglnLHlaw"
      },
      "source": [
        "Выведем лучшие параметры для обучения"
      ]
    },
    {
      "cell_type": "code",
      "execution_count": null,
      "metadata": {
        "id": "7V_RyvUNh0NM"
      },
      "outputs": [],
      "source": [
        "modelLight = light.best_estimator_"
      ]
    },
    {
      "cell_type": "code",
      "execution_count": null,
      "metadata": {
        "colab": {
          "base_uri": "https://localhost:8080/"
        },
        "id": "Fo8OmF-3iBtT",
        "outputId": "2f9f0fd2-7f22-4d81-d995-30d877cfab7f"
      },
      "outputs": [
        {
          "name": "stdout",
          "output_type": "stream",
          "text": [
            "0.76\n",
            "CPU times: user 2.19 s, sys: 4.57 ms, total: 2.2 s\n",
            "Wall time: 2.19 s\n"
          ]
        }
      ],
      "source": [
        "%%time\n",
        "light_predict = modelLight.predict(features_test)\n",
        "light_f1 = round(f1_score(target_test, light_predict),3)\n",
        "print(light_f1)"
      ]
    },
    {
      "cell_type": "markdown",
      "metadata": {
        "id": "5-4_c9dmJ-2I"
      },
      "source": [
        "  Модель показала лучший результат чем предыдущая, однако времени на обучение и предсказание потребовалось гораздо больше (около 6 минут)"
      ]
    },
    {
      "cell_type": "markdown",
      "metadata": {
        "id": "Sv5lk2a2L4C-"
      },
      "source": [
        "### 2.3 CatBoostClassifier"
      ]
    },
    {
      "cell_type": "markdown",
      "metadata": {
        "id": "FVtA3dupMBct"
      },
      "source": [
        "Наконец, возьмем Кэтбуст. Заранее скажу, что обучение и поиск параметров занимает очень большое количество времени, Кернел несколько раз ломался при его запуске. Установим самые минимальные параметры: 2 разреза кросс-валидации, количество итераций - 50. После этого найдем лучшие параметры, обучим модель и найдем f1"
      ]
    },
    {
      "cell_type": "code",
      "execution_count": null,
      "metadata": {
        "colab": {
          "base_uri": "https://localhost:8080/"
        },
        "id": "tXVZHyHGxj1X",
        "outputId": "8a4179ac-79ed-4408-9f77-0b694b8020f9"
      },
      "outputs": [
        {
          "name": "stdout",
          "output_type": "stream",
          "text": [
            "0:\tlearn: 0.5967894\ttotal: 2.51s\tremaining: 2m 3s\n",
            "25:\tlearn: 0.2170912\ttotal: 37.3s\tremaining: 34.4s\n",
            "49:\tlearn: 0.1932761\ttotal: 1m 10s\tremaining: 0us\n",
            "0:\tlearn: 0.5977495\ttotal: 2.46s\tremaining: 2m\n",
            "25:\tlearn: 0.2148175\ttotal: 36.6s\tremaining: 33.8s\n",
            "49:\tlearn: 0.1901197\ttotal: 1m 9s\tremaining: 0us\n",
            "0:\tlearn: 0.5963648\ttotal: 6.28s\tremaining: 5m 7s\n",
            "25:\tlearn: 0.2089863\ttotal: 1m 44s\tremaining: 1m 36s\n",
            "49:\tlearn: 0.1842745\ttotal: 3m 18s\tremaining: 0us\n",
            "0:\tlearn: 0.5933442\ttotal: 5.26s\tremaining: 4m 17s\n",
            "25:\tlearn: 0.2052600\ttotal: 1m 44s\tremaining: 1m 36s\n",
            "49:\tlearn: 0.1808123\ttotal: 3m 17s\tremaining: 0us\n",
            "0:\tlearn: 0.5926810\ttotal: 9.61s\tremaining: 7m 50s\n",
            "25:\tlearn: 0.2060613\ttotal: 2m 50s\tremaining: 2m 37s\n",
            "49:\tlearn: 0.1824393\ttotal: 5m 23s\tremaining: 0us\n",
            "CPU times: user 29min 42s, sys: 23.2 s, total: 30min 5s\n",
            "Wall time: 15min 55s\n"
          ]
        }
      ],
      "source": [
        "%%time\n",
        "final_cat = CatBoostClassifier(iterations = 50, random_state = random_state)\n",
        "final_cat_parametrs = {'depth': [6, 8], 'learning_rate':[0.1]}\n",
        "final_cat_grid = GridSearchCV(final_cat, final_cat_parametrs,\n",
        "                              scoring='f1', cv = 2)\n",
        "final_cat_grid.fit(features_train, target_train, verbose = 25)   "
      ]
    },
    {
      "cell_type": "code",
      "execution_count": null,
      "metadata": {
        "id": "jbg4rBVPv7F6"
      },
      "outputs": [],
      "source": [
        "cb_params = final_cat_grid.best_params_\n",
        "cb_params\n",
        "cat = final_cat_grid.best_estimator_"
      ]
    },
    {
      "cell_type": "code",
      "execution_count": null,
      "metadata": {
        "colab": {
          "base_uri": "https://localhost:8080/"
        },
        "id": "JKUeDv6OwbNR",
        "outputId": "6a7c9779-0f38-42f4-fd42-4144831f98c6"
      },
      "outputs": [
        {
          "name": "stdout",
          "output_type": "stream",
          "text": [
            "CPU times: user 658 ms, sys: 26.9 ms, total: 685 ms\n",
            "Wall time: 456 ms\n"
          ]
        }
      ],
      "source": [
        "%%time\n",
        "cat_predictions = cat.predict(features_test)\n",
        "cat_f1 = round(f1_score(target_test, cat_predictions),3)\n",
        "cat_f1"
      ]
    },
    {
      "cell_type": "markdown",
      "metadata": {
        "id": "_U-tTBUdy2vC"
      },
      "source": [
        "## 3. Выводы"
      ]
    },
    {
      "cell_type": "code",
      "execution_count": null,
      "metadata": {
        "colab": {
          "base_uri": "https://localhost:8080/",
          "height": 112
        },
        "id": "Y0M1giijzMiT",
        "outputId": "e1512f8e-50f8-4872-a0aa-dc4350ec35ed",
        "scrolled": true
      },
      "outputs": [
        {
          "data": {
            "text/html": [
              "\n",
              "  <div id=\"df-24b6ab06-13c5-4048-9f42-45cfb7e7a36f\">\n",
              "    <div class=\"colab-df-container\">\n",
              "      <div>\n",
              "<style scoped>\n",
              "    .dataframe tbody tr th:only-of-type {\n",
              "        vertical-align: middle;\n",
              "    }\n",
              "\n",
              "    .dataframe tbody tr th {\n",
              "        vertical-align: top;\n",
              "    }\n",
              "\n",
              "    .dataframe thead th {\n",
              "        text-align: right;\n",
              "    }\n",
              "</style>\n",
              "<table border=\"1\" class=\"dataframe\">\n",
              "  <thead>\n",
              "    <tr style=\"text-align: right;\">\n",
              "      <th></th>\n",
              "      <th>LogisticRegression</th>\n",
              "      <th>LGBMRegressor</th>\n",
              "      <th>Catboostr</th>\n",
              "    </tr>\n",
              "  </thead>\n",
              "  <tbody>\n",
              "    <tr>\n",
              "      <th>Значение F1</th>\n",
              "      <td>0.762</td>\n",
              "      <td>0.76</td>\n",
              "      <td>0.61</td>\n",
              "    </tr>\n",
              "    <tr>\n",
              "      <th>Время обучения и предсказание</th>\n",
              "      <td>5.13s</td>\n",
              "      <td>3min 57s</td>\n",
              "      <td>4min 17s</td>\n",
              "    </tr>\n",
              "  </tbody>\n",
              "</table>\n",
              "</div>\n",
              "      <button class=\"colab-df-convert\" onclick=\"convertToInteractive('df-24b6ab06-13c5-4048-9f42-45cfb7e7a36f')\"\n",
              "              title=\"Convert this dataframe to an interactive table.\"\n",
              "              style=\"display:none;\">\n",
              "        \n",
              "  <svg xmlns=\"http://www.w3.org/2000/svg\" height=\"24px\"viewBox=\"0 0 24 24\"\n",
              "       width=\"24px\">\n",
              "    <path d=\"M0 0h24v24H0V0z\" fill=\"none\"/>\n",
              "    <path d=\"M18.56 5.44l.94 2.06.94-2.06 2.06-.94-2.06-.94-.94-2.06-.94 2.06-2.06.94zm-11 1L8.5 8.5l.94-2.06 2.06-.94-2.06-.94L8.5 2.5l-.94 2.06-2.06.94zm10 10l.94 2.06.94-2.06 2.06-.94-2.06-.94-.94-2.06-.94 2.06-2.06.94z\"/><path d=\"M17.41 7.96l-1.37-1.37c-.4-.4-.92-.59-1.43-.59-.52 0-1.04.2-1.43.59L10.3 9.45l-7.72 7.72c-.78.78-.78 2.05 0 2.83L4 21.41c.39.39.9.59 1.41.59.51 0 1.02-.2 1.41-.59l7.78-7.78 2.81-2.81c.8-.78.8-2.07 0-2.86zM5.41 20L4 18.59l7.72-7.72 1.47 1.35L5.41 20z\"/>\n",
              "  </svg>\n",
              "      </button>\n",
              "      \n",
              "  <style>\n",
              "    .colab-df-container {\n",
              "      display:flex;\n",
              "      flex-wrap:wrap;\n",
              "      gap: 12px;\n",
              "    }\n",
              "\n",
              "    .colab-df-convert {\n",
              "      background-color: #E8F0FE;\n",
              "      border: none;\n",
              "      border-radius: 50%;\n",
              "      cursor: pointer;\n",
              "      display: none;\n",
              "      fill: #1967D2;\n",
              "      height: 32px;\n",
              "      padding: 0 0 0 0;\n",
              "      width: 32px;\n",
              "    }\n",
              "\n",
              "    .colab-df-convert:hover {\n",
              "      background-color: #E2EBFA;\n",
              "      box-shadow: 0px 1px 2px rgba(60, 64, 67, 0.3), 0px 1px 3px 1px rgba(60, 64, 67, 0.15);\n",
              "      fill: #174EA6;\n",
              "    }\n",
              "\n",
              "    [theme=dark] .colab-df-convert {\n",
              "      background-color: #3B4455;\n",
              "      fill: #D2E3FC;\n",
              "    }\n",
              "\n",
              "    [theme=dark] .colab-df-convert:hover {\n",
              "      background-color: #434B5C;\n",
              "      box-shadow: 0px 1px 3px 1px rgba(0, 0, 0, 0.15);\n",
              "      filter: drop-shadow(0px 1px 2px rgba(0, 0, 0, 0.3));\n",
              "      fill: #FFFFFF;\n",
              "    }\n",
              "  </style>\n",
              "\n",
              "      <script>\n",
              "        const buttonEl =\n",
              "          document.querySelector('#df-24b6ab06-13c5-4048-9f42-45cfb7e7a36f button.colab-df-convert');\n",
              "        buttonEl.style.display =\n",
              "          google.colab.kernel.accessAllowed ? 'block' : 'none';\n",
              "\n",
              "        async function convertToInteractive(key) {\n",
              "          const element = document.querySelector('#df-24b6ab06-13c5-4048-9f42-45cfb7e7a36f');\n",
              "          const dataTable =\n",
              "            await google.colab.kernel.invokeFunction('convertToInteractive',\n",
              "                                                     [key], {});\n",
              "          if (!dataTable) return;\n",
              "\n",
              "          const docLinkHtml = 'Like what you see? Visit the ' +\n",
              "            '<a target=\"_blank\" href=https://colab.research.google.com/notebooks/data_table.ipynb>data table notebook</a>'\n",
              "            + ' to learn more about interactive tables.';\n",
              "          element.innerHTML = '';\n",
              "          dataTable['output_type'] = 'display_data';\n",
              "          await google.colab.output.renderOutput(dataTable, element);\n",
              "          const docLink = document.createElement('div');\n",
              "          docLink.innerHTML = docLinkHtml;\n",
              "          element.appendChild(docLink);\n",
              "        }\n",
              "      </script>\n",
              "    </div>\n",
              "  </div>\n",
              "  "
            ],
            "text/plain": [
              "                              LogisticRegression LGBMRegressor Catboostr\n",
              "Значение F1                                0.762          0.76      0.61\n",
              "Время обучения и предсказание              5.13s      3min 57s  4min 17s"
            ]
          },
          "execution_count": 30,
          "metadata": {},
          "output_type": "execute_result"
        }
      ],
      "source": [
        "finall = {'LogisticRegression':np.array([regression_f1, '5.13s']),\n",
        "           'LGBMRegressor':np.array([light_f1, '8min 57s']),\n",
        "           'Catboost':np.array([cat_f1, '15min 17s'])}\n",
        "finall = pd.DataFrame(finall, index = ['Значение F1','Время обучения и предсказание'])\n",
        "finall"
      ]
    },
    {
      "cell_type": "markdown",
      "metadata": {
        "id": "0k8Z8Ll8Imtk"
      },
      "source": [
        "В первой главе произведена загрузка данных, установлены необходимые библиотеки. Для анализа данных предоставлены данные, содержащие комментарии пользователей к товарам, доступным для приобретения в интернет-магазине «Викишоп». Далее в той же главе \"очистили\" комментарии и лемматизировали текст.\n",
        "\n",
        "После этого разбили данные на тестовую и обучающую выборки, обозначили целевой признак (в нашей задаче его роль взял стоблец \"Toxic\"). Использовали TfidfVectorizer, указав стоп слова и изпользовав английский словарь.\n",
        "\n",
        "Далее мы обучили 3 модели: Логистическую регрессию, LGBMClassifier и CatBoostClassifier. Для начала мы при помощи GridSearch подбирали для каждой модели гиперпараметры, после этого обучили модель и определили метрику f1 для каждой модели. В конце составлена небольшая таблица итогов по каждой модели. Исходя из этой таблицы, лучшей моделью стала Логистическая регрессия. Потребовалось менее минуты для поиска гиперпараметров и обучения модели, результат f1 немного уступает следующей модели - LGBMClassifier(однако с задачей преодоления порога в   0.75 он справился). \n",
        "LGBMClassifier показал результат выше, однако времени было потрачено гораздо болше. CatBoostClassifier показал самый худший результат, как по времени подбора гиперпараметров и обучения, так и по результату метрики f1.\n",
        " К сожалению, BERT установить не удалось, столкнулся с проблемой установок самих библиотек. "
      ]
    },
    {
      "cell_type": "markdown",
      "metadata": {
        "id": "GXMfzZesy6ki"
      },
      "source": [
        "## Чек-лист проверки"
      ]
    },
    {
      "cell_type": "markdown",
      "metadata": {
        "id": "ow2T0WWvy7UY"
      },
      "source": [
        "- [x]  Jupyter Notebook открыт\n",
        "- [x]  Весь код выполняется без ошибок\n",
        "- [x]  Ячейки с кодом расположены в порядке исполнения\n",
        "- [x]  Данные загружены и подготовлены\n",
        "- [x]  Модели обучены\n",
        "- [x]  Значение метрики *F1* не меньше 0.75\n",
        "- [x]  Выводы написаны"
      ]
    }
  ],
  "metadata": {
    "colab": {
      "collapsed_sections": [],
      "name": "Проект для «Викишоп».ipynb",
      "provenance": []
    },
    "kernelspec": {
      "display_name": "Python 3 (ipykernel)",
      "language": "python",
      "name": "python3"
    },
    "language_info": {
      "codemirror_mode": {
        "name": "ipython",
        "version": 3
      },
      "file_extension": ".py",
      "mimetype": "text/x-python",
      "name": "python",
      "nbconvert_exporter": "python",
      "pygments_lexer": "ipython3",
      "version": "3.9.5"
    },
    "toc": {
      "base_numbering": 1,
      "nav_menu": {},
      "number_sections": true,
      "sideBar": true,
      "skip_h1_title": true,
      "title_cell": "Table of Contents",
      "title_sidebar": "Contents",
      "toc_cell": false,
      "toc_position": {},
      "toc_section_display": true,
      "toc_window_display": true
    }
  },
  "nbformat": 4,
  "nbformat_minor": 0
}